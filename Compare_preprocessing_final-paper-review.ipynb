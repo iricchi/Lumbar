{
 "cells": [
  {
   "cell_type": "markdown",
   "id": "5fceefd5",
   "metadata": {},
   "source": [
    "# Perform sFC connectivity on either seeds or ROIs"
   ]
  },
  {
   "cell_type": "code",
   "execution_count": 2,
   "id": "161c091d",
   "metadata": {},
   "outputs": [],
   "source": [
    "import os\n",
    "import sys\n",
    "from glob import glob\n",
    "import numpy as np\n",
    "# from nipype.algorithms.confounds import TSNR\n",
    "import cv2\n",
    "import scipy\n",
    "from scipy.io import loadmat\n",
    "import nibabel as nib\n",
    "import random\n",
    "from nilearn import plotting\n",
    "import matplotlib.pyplot as plt\n",
    "from tqdm.notebook import tqdm, trange\n",
    "import plotly.express as px\n",
    "import plotly.graph_objects as go\n",
    "import pickle \n",
    "\n",
    "from nilearn.signal import clean\n",
    "from scipy.stats import kstest, ttest_ind, ttest_rel, \\\n",
    "ttest_1samp, normaltest, wilcoxon, chisquare, bootstrap, iqr, ks_2samp, shapiro\n",
    "from nilearn.image import clean_img\n",
    "from scikit_posthocs import posthoc_tukey\n",
    "\n",
    "import plotly.io as pio\n",
    "pio.kaleido.scope.chromium_args = tuple([arg for arg in pio.kaleido.scope.chromium_args if arg != \"--disable-dev-shm-usage\"])\n",
    "\n",
    "import pingouin as pg\n",
    "import pandas as pd\n",
    "from random import randrange\n",
    "\n",
    "from statsmodels.stats.multitest import multipletests\n",
    "\n",
    "sys.path.append('../scripts')\n",
    "from sFC_classes_v4 import *"
   ]
  },
  {
   "cell_type": "code",
   "execution_count": 3,
   "id": "d67ac0a1",
   "metadata": {},
   "outputs": [],
   "source": [
    "server = True"
   ]
  },
  {
   "cell_type": "code",
   "execution_count": 4,
   "id": "90dfb24f",
   "metadata": {},
   "outputs": [],
   "source": [
    "if server:\n",
    "    parentpath = \"/media/miplab-nas2/Data2\"\n",
    "else:\n",
    "    parentpath = \"/Volumes/Data2\""
   ]
  },
  {
   "cell_type": "code",
   "execution_count": 5,
   "id": "950e1018",
   "metadata": {},
   "outputs": [],
   "source": [
    "data_path = os.path.join(parentpath, 'SpinalCord','Spinal_fMRI_Lumbar')"
   ]
  },
  {
   "cell_type": "markdown",
   "id": "81fd9e6a",
   "metadata": {},
   "source": [
    "# Denoising comparison \n",
    "\n",
    "Options:\n",
    "\n",
    "0) Only motion corrected images (baseline)\n",
    "1) CSF only (1 regressor)\\\n",
    "2) MOCO params (2 regressors)\\\n",
    "3) CompCor (5 regressors)\\\n",
    "4) CompCor + Moco (7 regressors) \\\n",
    "5) Cardiac (8 regressors)\\\n",
    "6) Respiratory (8 regressors)\\\n",
    "7) PNM : card+resp+combinations (32 regressors)\\\n",
    "8) PNM + CSF (33 regressors)\\\n",
    "9) PNM + Moco (34 regressors)\\\n",
    "10) PNM + CSF + Moco (35 regressors)\\\n",
    "11) All: PNM + CSF + CompCor + Moco (40 regressors) \\\n",
    "\n",
    "\n",
    "Total to consider 11 + baseline (matrices will be 12)\n"
   ]
  },
  {
   "cell_type": "code",
   "execution_count": 6,
   "id": "adcd41c0",
   "metadata": {},
   "outputs": [],
   "source": [
    "def get_mfmri_den_details(option):\n",
    "    # return name of the file to load and degrees of freedom\n",
    "    if option == 0:\n",
    "        return \"mfmri_st_corr\", 0\n",
    "    elif option == 1:\n",
    "        return \"mfmri_st_corr_denoised_csf_csfonly\", 1\n",
    "    elif option == 2:\n",
    "        return \"mfmri_st_corr_denoised_moco\", 2\n",
    "    elif option == 3:\n",
    "        return \"mfmri_st_corr_denoised_cc\", 5\n",
    "    elif option == 4:\n",
    "        return \"mfmri_st_corr_denoised_moco_cc\", 7\n",
    "    elif option == 5:\n",
    "        return \"mfmri_st_corr_denoised_pnm_cardonly\", 8\n",
    "    elif option == 6:\n",
    "        return \"mfmri_st_corr_denoised_pnm_responly\", 8\n",
    "    elif option == 7:\n",
    "        return \"mfmri_st_corr_denoised_pnm\", 32\n",
    "    elif option == 8:\n",
    "        return \"mfmri_st_corr_denoised_csf_pnm\", 33\n",
    "    elif option == 9:\n",
    "        return \"mfmri_st_corr_denoised_pnm_moco\", 34\n",
    "    elif option == 10:\n",
    "        return \"mfmri_st_corr_denoised_csf_pnm_moco\", 35\n",
    "    elif option == 11:\n",
    "        return \"mfmri_st_corr_denoised_csf_pnm_moco_cc\", 40"
   ]
  },
  {
   "cell_type": "code",
   "execution_count": 7,
   "id": "bbe62f6c",
   "metadata": {},
   "outputs": [],
   "source": [
    "def get_mfmri_den_details_nostc(option):\n",
    "    # return name of the file to load and degrees of freedom\n",
    "    if option == 0:\n",
    "        return \"mfmri\", 0\n",
    "    elif option == 1:\n",
    "        return \"mfmri_denoised_csf_csfonly\", 1\n",
    "    elif option == 2:\n",
    "        return \"mfmri_denoised_moco\", 2\n",
    "    elif option == 3:\n",
    "        return \"mfmri_denoised_cc\", 5\n",
    "    elif option == 4:\n",
    "        return \"mfmri_denoised_moco_cc\", 7\n",
    "    elif option == 5:\n",
    "        return \"mfmri_denoised_pnm_cardonly\", 8\n",
    "    elif option == 6:\n",
    "        return \"mfmri_denoised_pnm_responly\", 8\n",
    "    elif option == 7:\n",
    "        return \"mfmri_denoised_pnm\", 32\n",
    "    elif option == 8:\n",
    "        return \"mfmri_denoised_csf_pnm\", 33\n",
    "    elif option == 9:\n",
    "        return \"mfmri_denoised_pnm_moco\", 34\n",
    "    elif option == 10:\n",
    "        return \"mfmri_denoised_pnm_csf_moco\", 35   ## invert csf and pnm\n",
    "    elif option == 11:\n",
    "        return \"mfmri_denoised_csf_pnm_moco_cc\", 40"
   ]
  },
  {
   "cell_type": "code",
   "execution_count": 8,
   "id": "632d95ad",
   "metadata": {},
   "outputs": [],
   "source": [
    "options_to_consider = np.arange(12)"
   ]
  },
  {
   "cell_type": "code",
   "execution_count": 9,
   "id": "cc208555",
   "metadata": {},
   "outputs": [
    {
     "data": {
      "text/plain": [
       "array([ 0,  1,  2,  3,  4,  5,  6,  7,  8,  9, 10, 11])"
      ]
     },
     "execution_count": 9,
     "metadata": {},
     "output_type": "execute_result"
    }
   ],
   "source": [
    "options_to_consider"
   ]
  },
  {
   "cell_type": "markdown",
   "id": "95a354d7",
   "metadata": {},
   "source": [
    "### Select option:"
   ]
  },
  {
   "cell_type": "code",
   "execution_count": 10,
   "id": "4bba9109",
   "metadata": {},
   "outputs": [],
   "source": [
    "option = 1"
   ]
  },
  {
   "cell_type": "code",
   "execution_count": 11,
   "id": "3caee249",
   "metadata": {},
   "outputs": [],
   "source": [
    "def get_option_foldername(opt):\n",
    "    \n",
    "    ''\n",
    "    input_den_image, _ = get_mfmri_den_details(opt) \n",
    "    preproc='_'.join(input_den_image.split('_')[4:])\n",
    "    if opt == 0:\n",
    "        preproc = \"baseline\"\n",
    "        \n",
    "    return f\"{opt}_{preproc}_stc\""
   ]
  },
  {
   "cell_type": "code",
   "execution_count": 12,
   "id": "a77e46fa",
   "metadata": {},
   "outputs": [],
   "source": [
    "def get_option_foldername_nostc(opt):\n",
    "    \n",
    "    ''\n",
    "    input_den_image, _ = get_mfmri_den_details_nostc(opt) \n",
    "    preproc='_'.join(input_den_image.split('_')[2:])\n",
    "    if opt == 0:\n",
    "        preproc = \"baseline\"\n",
    "        \n",
    "    return f\"{opt}_{preproc}\""
   ]
  },
  {
   "cell_type": "code",
   "execution_count": 13,
   "id": "c252d981",
   "metadata": {
    "scrolled": true
   },
   "outputs": [
    {
     "name": "stdout",
     "output_type": "stream",
     "text": [
      "0_baseline_stc\n",
      "1_csf_csfonly_stc\n",
      "2_moco_stc\n",
      "3_cc_stc\n",
      "4_moco_cc_stc\n",
      "5_pnm_cardonly_stc\n",
      "6_pnm_responly_stc\n",
      "7_pnm_stc\n",
      "8_csf_pnm_stc\n",
      "9_pnm_moco_stc\n",
      "10_csf_pnm_moco_stc\n",
      "11_csf_pnm_moco_cc_stc\n"
     ]
    }
   ],
   "source": [
    "for i in options_to_consider:\n",
    "    print(get_option_foldername(i))"
   ]
  },
  {
   "cell_type": "code",
   "execution_count": 14,
   "id": "e9314c06",
   "metadata": {},
   "outputs": [],
   "source": [
    "def get_filename(opt,tempfilt):\n",
    "    input_den_image, _ = get_mfmri_den_details(opt)\n",
    "    preproc='_'.join(input_den_image.split('_')[2:])\n",
    "    # add temp filter addition\n",
    "    input_den_image += \"_\"+tempfilt\n",
    "    if opt == 0:\n",
    "        preproc = \"baseline\"\n",
    "        input_den_image = input_den_image[:-(len(tempfilt)+1)] \n",
    "    return input_den_image"
   ]
  },
  {
   "cell_type": "code",
   "execution_count": 15,
   "id": "276716d3",
   "metadata": {},
   "outputs": [],
   "source": [
    "def get_filename_nostc(opt,tempfilt):\n",
    "    input_den_image, _ = get_mfmri_den_details_nostc(opt)\n",
    "    preproc='_'.join(input_den_image.split('_')[2:])\n",
    "    # add temp filter addition\n",
    "    input_den_image += \"_\"+tempfilt\n",
    "    if opt == 0:\n",
    "        preproc = \"baseline\"\n",
    "        input_den_image = input_den_image[:-(len(tempfilt)+1)] \n",
    "    return input_den_image"
   ]
  },
  {
   "cell_type": "code",
   "execution_count": 16,
   "id": "ded06ad7",
   "metadata": {},
   "outputs": [
    {
     "name": "stdout",
     "output_type": "stream",
     "text": [
      "0_baseline\n",
      "1_csf_csfonly\n",
      "2_moco\n",
      "3_cc\n",
      "4_moco_cc\n",
      "5_pnm_cardonly\n",
      "6_pnm_responly\n",
      "7_pnm\n",
      "8_csf_pnm\n",
      "9_pnm_moco\n",
      "10_pnm_csf_moco\n",
      "11_csf_pnm_moco_cc\n"
     ]
    }
   ],
   "source": [
    "for i in options_to_consider:\n",
    "    print(get_option_foldername_nostc(i))"
   ]
  },
  {
   "cell_type": "markdown",
   "id": "99e34631",
   "metadata": {},
   "source": [
    "# Average - ROIs"
   ]
  },
  {
   "cell_type": "code",
   "execution_count": 17,
   "id": "38461aca",
   "metadata": {},
   "outputs": [
    {
     "name": "stdout",
     "output_type": "stream",
     "text": [
      "Input file: mfmri_st_corr_denoised_csf_pnm_moco_BP13\n",
      "Output folder: 10_csf_pnm_moco_stc\n",
      "Path: PreProc-Comparison/10_csf_pnm_moco_stc\n"
     ]
    }
   ],
   "source": [
    "option = 10\n",
    "method = \"average\"   # \"average\" (average signals -- 1st vestion), \"slices\" (corr per slice -- 2nd version)\n",
    "auto = True    # If auto is True: template ROIs are used, \n",
    "               # if False: manual seeds\n",
    "    \n",
    "if auto:\n",
    "    add = \"ROIs\"\n",
    "else:\n",
    "    add = \"seeds\"\n",
    "    \n",
    "tempfilt = \"BP13\"\n",
    "\n",
    "input_den_image = get_filename(option, tempfilt)\n",
    "out_name = get_option_foldername(option)\n",
    "outfolderpath = f\"PreProc-Comparison/{out_name}\"\n",
    "\n",
    "print(f\"Input file: {input_den_image}\")\n",
    "print(f\"Output folder: {out_name}\")\n",
    "print(f\"Path: {outfolderpath}\")\n",
    "\n",
    "FC = sFCsorConnectivity(data_path, \n",
    "                        tempfilt=tempfilt,\n",
    "                        out_folder=outfolderpath,\n",
    "                        method=method,\n",
    "                        auto=auto,\n",
    "                        subIDs_to_exclude=[\"LU_AM\",\"LU_LP\",\"LU_RL\",\"LU_VS\"])\n",
    "                        \n",
    "                        # old : [\"LU_AM\",\"LU_AF\",\"LU_MC\",\"LU_MT\",\"LU_AR\",\"LU_LP\",\"LU_RL\",\"LU_VS\", \"LU_NK\", \"LU_IR\",\"LU_NS\"]"
   ]
  },
  {
   "cell_type": "code",
   "execution_count": 17,
   "id": "7dbedfc0",
   "metadata": {},
   "outputs": [
    {
     "data": {
      "text/plain": [
       "24"
      ]
     },
     "execution_count": 17,
     "metadata": {},
     "output_type": "execute_result"
    }
   ],
   "source": [
    "len(FC.subjects_paths)"
   ]
  },
  {
   "cell_type": "code",
   "execution_count": 18,
   "id": "8da871f0",
   "metadata": {},
   "outputs": [],
   "source": [
    "run_FC = False"
   ]
  },
  {
   "cell_type": "code",
   "execution_count": 19,
   "id": "556e3a51",
   "metadata": {
    "scrolled": true
   },
   "outputs": [],
   "source": [
    "if run_FC:\n",
    "    mean_FC = FC.run_allsubs_parallel(fname=input_den_image)\n",
    "else:\n",
    "    mean_FC = np.load(os.path.join(data_path,outfolderpath,tempfilt, method, add, f'FC_ave_all_{add}_{method}.npy'))"
   ]
  },
  {
   "cell_type": "code",
   "execution_count": 20,
   "id": "804ba7af",
   "metadata": {},
   "outputs": [
    {
     "data": {
      "text/plain": [
       "array([[1.        , 0.08750216, 0.07114209, 0.05503908],\n",
       "       [0.08750216, 1.        , 0.0682643 , 0.07443256],\n",
       "       [0.07114209, 0.0682643 , 1.        , 0.03115819],\n",
       "       [0.05503908, 0.07443256, 0.03115819, 1.        ]])"
      ]
     },
     "execution_count": 20,
     "metadata": {},
     "output_type": "execute_result"
    }
   ],
   "source": [
    "mean_FC"
   ]
  },
  {
   "cell_type": "code",
   "execution_count": 21,
   "id": "77bda2bc",
   "metadata": {},
   "outputs": [
    {
     "data": {
      "text/plain": [
       "<matplotlib.colorbar.Colorbar at 0x7f485bef3df0>"
      ]
     },
     "execution_count": 21,
     "metadata": {},
     "output_type": "execute_result"
    },
    {
     "data": {
      "image/png": "[encoded data removed]",
      "text/plain": [
       "<Figure size 432x288 with 2 Axes>"
      ]
     },
     "metadata": {
      "needs_background": "light"
     },
     "output_type": "display_data"
    }
   ],
   "source": [
    "plt.imshow(mean_FC,vmax=0.18)\n",
    "plt.xticks([0,1,2,3],[\"VR\",\"VL\",\"DR\",\"DL\"] , fontsize=15)\n",
    "plt.yticks([0,1,2,3],[\"VR\",\"VL\",\"DR\",\"DL\"], fontsize=15)\n",
    "plt.colorbar()\n",
    "#plt.savefig(\"FCmatrix_pnmcsfmoco.pdf\")"
   ]
  },
  {
   "cell_type": "markdown",
   "id": "75145f61",
   "metadata": {},
   "source": [
    "## Compared to no slice time corr"
   ]
  },
  {
   "cell_type": "code",
   "execution_count": 22,
   "id": "d4c2e195",
   "metadata": {},
   "outputs": [],
   "source": [
    "comparison_nostc = False"
   ]
  },
  {
   "cell_type": "code",
   "execution_count": 23,
   "id": "f8e757f4",
   "metadata": {
    "scrolled": true
   },
   "outputs": [],
   "source": [
    "if comparison_nostc:\n",
    "    # only run for 10\n",
    "    option = 10\n",
    "    method = \"average\"   # \"average\" (average signals -- 1st vestion), \"slices\" (corr per slice -- 2nd version)\n",
    "    auto = False    # If auto is True: template ROIs are used, \n",
    "                   # if False: manual seeds\n",
    "\n",
    "    if auto:\n",
    "        add = \"ROIs\"\n",
    "    else:\n",
    "        add = \"seeds\"\n",
    "\n",
    "    tempfilt = \"BP13\"\n",
    "\n",
    "    input_den_image = get_filename_nostc(option, tempfilt)\n",
    "    out_name = get_option_foldername_nostc(option)\n",
    "    outfolderpath = f\"PreProc-Comparison/{out_name}\"\n",
    "\n",
    "    print(f\"Input file: {input_den_image}\")\n",
    "    print(f\"Output folder: {out_name}\")\n",
    "    print(f\"Path: {outfolderpath}\")\n",
    "\n",
    "    FC = sFCsorConnectivity(data_path, \n",
    "                            tempfilt=tempfilt,\n",
    "                            out_folder=outfolderpath,\n",
    "                            method=method,\n",
    "                            auto=auto,\n",
    "                            subIDs_to_exclude=[\"LU_AM\",\"LU_LP\",\"LU_RL\",\"LU_VS\"])\n",
    "    run_FC = True\n",
    "    if run_FC:\n",
    "        mean_FC = FC.run_allsubs_parallel(fname=input_den_image)\n",
    "    else:\n",
    "        mean_FC = np.load(os.path.join(data_path,outfolderpath,tempfilt, method, add, f'FC_ave_all_{add}_{method}.npy'))\n",
    "        \n",
    "    print(mean_FC)\n",
    "    plt.imshow(mean_FC,vmax=0.25)\n",
    "    plt.colorbar()"
   ]
  },
  {
   "cell_type": "markdown",
   "id": "44a057d3",
   "metadata": {},
   "source": [
    "# Slices - ROIs "
   ]
  },
  {
   "cell_type": "code",
   "execution_count": 24,
   "id": "7e0aedcc",
   "metadata": {},
   "outputs": [
    {
     "name": "stdout",
     "output_type": "stream",
     "text": [
      "Input file: mfmri_st_corr_denoised_csf_pnm_moco_BP13\n",
      "Output folder: 10_csf_pnm_moco_stc\n",
      "Path: PreProc-Comparison/10_csf_pnm_moco_stc\n"
     ]
    }
   ],
   "source": [
    "option = 10\n",
    "method = \"slices\"   # \"average\" (average signals -- 1st vestion), \"slices\" (corr per slice -- 2nd version)\n",
    "auto = True    # If auto is True: template ROIs are used, \n",
    "               # if False: manual seeds\n",
    "    \n",
    "if auto:\n",
    "    add = \"ROIs\"\n",
    "else:\n",
    "    add = \"seeds\"\n",
    "    \n",
    "tempfilt = \"BP13\"\n",
    "\n",
    "input_den_image = get_filename(option, tempfilt)\n",
    "out_name = get_option_foldername(option)\n",
    "outfolderpath = f\"PreProc-Comparison/{out_name}\"\n",
    "\n",
    "print(f\"Input file: {input_den_image}\")\n",
    "print(f\"Output folder: {out_name}\")\n",
    "print(f\"Path: {outfolderpath}\")\n",
    "\n",
    "FC = sFCsorConnectivity(data_path, \n",
    "                        tempfilt=tempfilt,\n",
    "                        out_folder=outfolderpath,\n",
    "                        method=method,\n",
    "                        auto=auto,\n",
    "                        subIDs_to_exclude=[\"LU_AM\",\"LU_LP\",\"LU_RL\",\"LU_VS\"])"
   ]
  },
  {
   "cell_type": "code",
   "execution_count": 25,
   "id": "ea3442ef",
   "metadata": {},
   "outputs": [],
   "source": [
    "if run_FC:\n",
    "    mean_FC = FC.run_allsubs_parallel(fname=input_den_image)\n",
    "else:\n",
    "    mean_FC = np.load(os.path.join(data_path,outfolderpath,tempfilt, method, add, f'FC_ave_all_{add}_{method}.npy'))"
   ]
  },
  {
   "cell_type": "code",
   "execution_count": 26,
   "id": "81bdd32b",
   "metadata": {},
   "outputs": [
    {
     "data": {
      "text/plain": [
       "<matplotlib.colorbar.Colorbar at 0x7f4858da9fa0>"
      ]
     },
     "execution_count": 26,
     "metadata": {},
     "output_type": "execute_result"
    },
    {
     "data": {
      "image/png": "[encoded data removed]",
      "text/plain": [
       "<Figure size 432x288 with 2 Axes>"
      ]
     },
     "metadata": {
      "needs_background": "light"
     },
     "output_type": "display_data"
    }
   ],
   "source": [
    "plt.imshow(mean_FC,vmax=0.1)\n",
    "plt.colorbar()"
   ]
  },
  {
   "cell_type": "markdown",
   "id": "b5c09fe7",
   "metadata": {},
   "source": [
    "#  Average - seeds "
   ]
  },
  {
   "cell_type": "code",
   "execution_count": 18,
   "id": "f6d8cffc",
   "metadata": {},
   "outputs": [
    {
     "name": "stdout",
     "output_type": "stream",
     "text": [
      "Input file: mfmri_st_corr_denoised_csf_pnm_moco_BP13\n",
      "Output folder: 10_csf_pnm_moco_stc\n",
      "Path: PreProc-Comparison/10_csf_pnm_moco_stc\n"
     ]
    }
   ],
   "source": [
    "option = 10\n",
    "method = \"average\"   # \"average\" (average signals -- 1st vestion), \"slices\" (corr per slice -- 2nd version)\n",
    "auto = False    # If auto is True: template ROIs are used, \n",
    "               # if False: manual seeds\n",
    "    \n",
    "if auto:\n",
    "    add = \"ROIs\"\n",
    "else:\n",
    "    add = \"seeds\"\n",
    "    \n",
    "tempfilt = \"BP13\"\n",
    "\n",
    "input_den_image = get_filename(option, tempfilt)\n",
    "out_name = get_option_foldername(option)\n",
    "outfolderpath = f\"PreProc-Comparison/{out_name}\"\n",
    "\n",
    "print(f\"Input file: {input_den_image}\")\n",
    "print(f\"Output folder: {out_name}\")\n",
    "print(f\"Path: {outfolderpath}\")\n",
    "\n",
    "FC = sFCsorConnectivity(data_path, \n",
    "                        tempfilt=tempfilt,\n",
    "                        out_folder=outfolderpath,\n",
    "                        method=method,\n",
    "                        auto=auto,\n",
    "                        subIDs_to_exclude=[\"LU_AM\",\"LU_LP\",\"LU_RL\",\"LU_VS\"])"
   ]
  },
  {
   "cell_type": "code",
   "execution_count": 28,
   "id": "9dc5b310",
   "metadata": {},
   "outputs": [],
   "source": [
    "run_FC = False"
   ]
  },
  {
   "cell_type": "code",
   "execution_count": 29,
   "id": "52f99e77",
   "metadata": {
    "scrolled": true
   },
   "outputs": [],
   "source": [
    "if run_FC:\n",
    "    mean_FC = FC.run_allsubs_parallel(fname=input_den_image)\n",
    "else:\n",
    "    mean_FC = np.load(os.path.join(data_path,outfolderpath,tempfilt, method, add, f'FC_ave_all_{add}_{method}.npy'))"
   ]
  },
  {
   "cell_type": "code",
   "execution_count": 30,
   "id": "1d8f59bc",
   "metadata": {},
   "outputs": [
    {
     "data": {
      "text/plain": [
       "24"
      ]
     },
     "execution_count": 30,
     "metadata": {},
     "output_type": "execute_result"
    }
   ],
   "source": [
    "len(FC.subjects_paths)"
   ]
  },
  {
   "cell_type": "code",
   "execution_count": 31,
   "id": "d925d7a8",
   "metadata": {},
   "outputs": [
    {
     "data": {
      "text/plain": [
       "array([[1.        , 0.11821283, 0.08516082, 0.0907932 ],\n",
       "       [0.11821283, 1.        , 0.08668176, 0.06017545],\n",
       "       [0.08516082, 0.08668176, 1.        , 0.1204815 ],\n",
       "       [0.0907932 , 0.06017545, 0.1204815 , 1.        ]])"
      ]
     },
     "execution_count": 31,
     "metadata": {},
     "output_type": "execute_result"
    }
   ],
   "source": [
    "mean_FC"
   ]
  },
  {
   "cell_type": "code",
   "execution_count": 32,
   "id": "1f9d2e3f",
   "metadata": {
    "scrolled": true
   },
   "outputs": [
    {
     "data": {
      "text/plain": [
       "<matplotlib.colorbar.Colorbar at 0x7f4858cedb50>"
      ]
     },
     "execution_count": 32,
     "metadata": {},
     "output_type": "execute_result"
    },
    {
     "data": {
      "image/png": "[encoded data removed]",
      "text/plain": [
       "<Figure size 432x288 with 2 Axes>"
      ]
     },
     "metadata": {
      "needs_background": "light"
     },
     "output_type": "display_data"
    }
   ],
   "source": [
    "plt.imshow(mean_FC,vmax=0.2)\n",
    "plt.colorbar()"
   ]
  },
  {
   "cell_type": "markdown",
   "id": "de129785",
   "metadata": {},
   "source": [
    "# Slices - seeds "
   ]
  },
  {
   "cell_type": "code",
   "execution_count": 108,
   "id": "b01bb2b5",
   "metadata": {},
   "outputs": [
    {
     "name": "stdout",
     "output_type": "stream",
     "text": [
      "Input file: mfmri_st_corr_denoised_csf_pnm_moco_BP13\n",
      "Output folder: 10_csf_pnm_moco_stc\n",
      "Path: PreProc-Comparison/10_csf_pnm_moco_stc\n"
     ]
    }
   ],
   "source": [
    "option = 10\n",
    "method = \"slices\"   # \"average\" (average signals -- 1st vestion), \"slices\" (corr per slice -- 2nd version)\n",
    "auto = False    # If auto is True: template ROIs are used, \n",
    "               # if False: manual seeds\n",
    "    \n",
    "if auto:\n",
    "    add = \"ROIs\"\n",
    "else:\n",
    "    add = \"seeds\"\n",
    "    \n",
    "tempfilt = \"BP13\"\n",
    "\n",
    "input_den_image = get_filename(option, tempfilt)\n",
    "out_name = get_option_foldername(option)\n",
    "outfolderpath = f\"PreProc-Comparison/{out_name}\"\n",
    "\n",
    "print(f\"Input file: {input_den_image}\")\n",
    "print(f\"Output folder: {out_name}\")\n",
    "print(f\"Path: {outfolderpath}\")\n",
    "\n",
    "FC = sFCsorConnectivity(data_path, \n",
    "                        tempfilt=tempfilt,\n",
    "                        out_folder=outfolderpath,\n",
    "                        method=method,\n",
    "                        auto=auto,\n",
    "                        subIDs_to_exclude=[\"LU_AM\",\"LU_LP\",\"LU_RL\",\"LU_VS\"])"
   ]
  },
  {
   "cell_type": "code",
   "execution_count": 109,
   "id": "25f85cc3",
   "metadata": {},
   "outputs": [],
   "source": [
    "run_FC = False"
   ]
  },
  {
   "cell_type": "code",
   "execution_count": 110,
   "id": "a8926017",
   "metadata": {
    "scrolled": true
   },
   "outputs": [],
   "source": [
    "if run_FC:\n",
    "    mean_FC = FC.run_allsubs_parallel(fname=input_den_image)\n",
    "else:\n",
    "    mean_FC = np.load(os.path.join(data_path,outfolderpath,tempfilt, method, add, f'FC_ave_all_{add}_{method}.npy'))"
   ]
  },
  {
   "cell_type": "code",
   "execution_count": 111,
   "id": "8ee3dec0",
   "metadata": {},
   "outputs": [
    {
     "data": {
      "image/png": "[encoded data removed]",
      "text/plain": [
       "<Figure size 720x480 with 2 Axes>"
      ]
     },
     "metadata": {
      "needs_background": "light"
     },
     "output_type": "display_data"
    }
   ],
   "source": [
    "plt.figure(dpi=120)\n",
    "plt.imshow(mean_FC,vmax=0.12)\n",
    "plt.colorbar()\n",
    "plt.xticks([0,1,2,3],[\"VR\",\"VL\",\"DR\",\"DL\"] , fontsize=15)\n",
    "plt.yticks([0,1,2,3],[\"VR\",\"VL\",\"DR\",\"DL\"], fontsize=15)\n",
    "plt.savefig(\"Fig1_FC.pdf\")"
   ]
  },
  {
   "cell_type": "code",
   "execution_count": 112,
   "id": "46b476a6",
   "metadata": {},
   "outputs": [
    {
     "data": {
      "text/plain": [
       "array([[1.        , 0.06316592, 0.01060505, 0.0443863 ],\n",
       "       [0.06316592, 1.        , 0.03075334, 0.01399935],\n",
       "       [0.01060505, 0.03075334, 1.        , 0.05849299],\n",
       "       [0.0443863 , 0.01399935, 0.05849299, 1.        ]])"
      ]
     },
     "execution_count": 112,
     "metadata": {},
     "output_type": "execute_result"
    }
   ],
   "source": [
    "mean_FC"
   ]
  },
  {
   "cell_type": "markdown",
   "id": "3db91411",
   "metadata": {},
   "source": [
    "## Computing median"
   ]
  },
  {
   "cell_type": "code",
   "execution_count": 101,
   "id": "8e7053c0",
   "metadata": {},
   "outputs": [
    {
     "name": "stderr",
     "output_type": "stream",
     "text": [
      "100%|██████████████████████████████████████████| 24/24 [00:00<00:00, 193.55it/s]\n"
     ]
    }
   ],
   "source": [
    "corrs_all = np.zeros((len(FC.subjects_paths),4,4))\n",
    "for i_s in tqdm(range(len(FC.subjects_paths))):\n",
    "    sub_path = FC.subjects_paths[i_s]\n",
    "    sub = sub_path.split('/')[-1]\n",
    "    corrs_all[i_s,:,:] = np.load(os.path.join(FC.data_path, FC.out_folder,sub, 'FC_mat.npy'))\n"
   ]
  },
  {
   "cell_type": "code",
   "execution_count": 104,
   "id": "35648d2f",
   "metadata": {},
   "outputs": [],
   "source": [
    "median_FC = np.median(corrs_all,axis=0)"
   ]
  },
  {
   "cell_type": "code",
   "execution_count": 100,
   "id": "60b9da02",
   "metadata": {},
   "outputs": [
    {
     "data": {
      "text/plain": [
       "'PreProc-Comparison/10_csf_pnm_moco_stc/BP13/slices/seeds'"
      ]
     },
     "execution_count": 100,
     "metadata": {},
     "output_type": "execute_result"
    }
   ],
   "source": []
  },
  {
   "cell_type": "code",
   "execution_count": 105,
   "id": "bdcb8def",
   "metadata": {},
   "outputs": [
    {
     "data": {
      "text/plain": [
       "array([[1.        , 0.04923593, 0.00142582, 0.03823245],\n",
       "       [0.04923593, 1.        , 0.02661347, 0.0202212 ],\n",
       "       [0.00142582, 0.02661347, 1.        , 0.05725748],\n",
       "       [0.03823245, 0.0202212 , 0.05725748, 1.        ]])"
      ]
     },
     "execution_count": 105,
     "metadata": {},
     "output_type": "execute_result"
    }
   ],
   "source": [
    "median_FC"
   ]
  },
  {
   "cell_type": "code",
   "execution_count": 107,
   "id": "b96da347",
   "metadata": {},
   "outputs": [
    {
     "data": {
      "image/png": "[encoded data removed]",
      "text/plain": [
       "<Figure size 720x480 with 2 Axes>"
      ]
     },
     "metadata": {
      "needs_background": "light"
     },
     "output_type": "display_data"
    }
   ],
   "source": [
    "plt.figure(dpi=120)\n",
    "plt.imshow(median_FC,vmax=0.12)\n",
    "plt.colorbar()\n",
    "plt.xticks([0,1,2,3],[\"VR\",\"VL\",\"DR\",\"DL\"] , fontsize=15)\n",
    "plt.yticks([0,1,2,3],[\"VR\",\"VL\",\"DR\",\"DL\"], fontsize=15)\n",
    "plt.savefig(\"Fig1_FC_median.pdf\")"
   ]
  },
  {
   "cell_type": "markdown",
   "id": "8f714e5b",
   "metadata": {},
   "source": [
    "## Given the selected method -> per slice stats"
   ]
  },
  {
   "cell_type": "code",
   "execution_count": 24,
   "id": "f425dfac",
   "metadata": {
    "scrolled": true
   },
   "outputs": [
    {
     "name": "stdout",
     "output_type": "stream",
     "text": [
      "Input file: mfmri_st_corr_denoised_csf_pnm_moco_BP13\n",
      "Output folder: 10_csf_pnm_moco_stc\n",
      "Path: PreProc-Comparison/10_csf_pnm_moco_stc\n"
     ]
    }
   ],
   "source": [
    "option = 10\n",
    "method = \"slices\"   # \"average\" (average signals -- 1st vestion), \"slices\" (corr per slice -- 2nd version)\n",
    "auto = False    # If auto is True: template ROIs are used, \n",
    "               # if False: manual seeds\n",
    "    \n",
    "if auto:\n",
    "    add = \"ROIs\"\n",
    "else:\n",
    "    add = \"seeds\"\n",
    "    \n",
    "tempfilt = \"BP13\"\n",
    "\n",
    "input_den_image = get_filename(option, tempfilt)\n",
    "out_name = get_option_foldername(option)\n",
    "outfolderpath = f\"PreProc-Comparison/{out_name}\"\n",
    "\n",
    "print(f\"Input file: {input_den_image}\")\n",
    "print(f\"Output folder: {out_name}\")\n",
    "print(f\"Path: {outfolderpath}\")\n",
    "\n",
    "FC = sFCsorConnectivity(data_path, \n",
    "                        tempfilt=tempfilt,\n",
    "                        out_folder=outfolderpath,\n",
    "                        method=method,\n",
    "                        auto=auto,\n",
    "                        subIDs_to_exclude=[\"LU_AM\",\"LU_LP\",\"LU_RL\",\"LU_VS\"])"
   ]
  },
  {
   "cell_type": "markdown",
   "id": "352b0889",
   "metadata": {},
   "source": []
  },
  {
   "cell_type": "code",
   "execution_count": 29,
   "id": "fc369706",
   "metadata": {
    "scrolled": true
   },
   "outputs": [],
   "source": [
    "perslice = False\n",
    "if perslice:\n",
    "    FC.corr_seed2vox_perslice('DR', fname=input_den_image)"
   ]
  },
  {
   "cell_type": "markdown",
   "id": "71dcc15e",
   "metadata": {},
   "source": [
    "# Denoising - in terms of noise reduction\n",
    "\n",
    "Following Kaptan et al. 2022 and Birn at al. 2014, let's compute the $R^2$ as:\n",
    "\n",
    "$R^2 = 1 - \\frac{\\sigma_{denoised}}{\\sigma_{baseline}}$\n",
    "\n",
    "and afterwards we compute its adjusted version \n",
    "\n",
    "$R^2_{adj} = 1 - [\\frac{(1 - R^2)(n-1)}{(n-k-1)}]$, \n",
    "\n",
    "where n is the number of datapoints and k is the number of independent variables.\n",
    "\n"
   ]
  },
  {
   "cell_type": "markdown",
   "id": "698e8be3",
   "metadata": {},
   "source": [
    "### Functions definition"
   ]
  },
  {
   "cell_type": "code",
   "execution_count": 38,
   "id": "0af692a2",
   "metadata": {},
   "outputs": [],
   "source": [
    "def __load_seeds(seeds_array,seed):\n",
    "    seeds_xyz = 0\n",
    "    if seed == 'VR':\n",
    "        seeds_xyz = np.array(np.where(seeds_array==1)).T    \n",
    "    elif seed == 'VL':\n",
    "        seeds_xyz = np.array(np.where(seeds_array==2)).T\n",
    "    elif seed == 'DR':\n",
    "        seeds_xyz = np.array(np.where(seeds_array==3)).T    \n",
    "    elif seed == 'DL':\n",
    "        seeds_xyz = np.array(np.where(seeds_array==4)).T\n",
    "\n",
    "    return seeds_xyz\n",
    "\n",
    "def __ts_to_average(f_img_data, seeds_xyz):\n",
    "    # from time serieses to mean\n",
    "    X = np.zeros((seeds_xyz.shape[0], f_img_data.shape[-1]))\n",
    "    for i, xyz in enumerate(seeds_xyz):\n",
    "        X[i,:] = f_img_data[xyz[0], xyz[1], xyz[2], :]\n",
    "\n",
    "    return np.mean(X,0)"
   ]
  },
  {
   "cell_type": "code",
   "execution_count": 39,
   "id": "a8d05c6a",
   "metadata": {},
   "outputs": [],
   "source": [
    "def compute_r2_persub(sub_path,input_fname, typefilter):\n",
    "    \n",
    "    # temporal filter to apply to the baseline\n",
    "    low_cutoff = None\n",
    "    high_cutoff = None\n",
    "    if typefilter == \"HP\":\n",
    "        low_cutoff = 1/100\n",
    "    elif typefilter == \"BP13\":\n",
    "        low_cutoff = 0.01\n",
    "        high_cutoff = 0.13\n",
    "    elif typefilter == \"BP17\":\n",
    "        low_cutoff = 0.01\n",
    "        high_cutoff = 0.17\n",
    "    \n",
    "    # load data subject baseline\n",
    "    sub_path_func = os.path.join(sub_path,  'func', 'mfmri_st_corr.nii.gz') # not denoised fmri to perform filtering on\n",
    "    if not os.path.exists(os.path.join(sub_path,  'func', f'mfmri_st_corr_tf_{typefilter}.nii.gz')):\n",
    "        img_cleaned = clean_img(sub_path_func, low_pass=high_cutoff, high_pass=low_cutoff, t_r=2.5, standardize=False)\n",
    "        nib.save(img_cleaned, os.path.join(sub_path,  'func', f'mfmri_st_corr_tf_{typefilter}.nii.gz'))\n",
    "            \n",
    "    baseline_path_func = os.path.join(sub_path,  'func', f'mfmri_st_corr_tf_{typefilter}.nii.gz')\n",
    "\n",
    "    seed_mask = os.path.join(sub_path, 'func', 'mfmri_mean_seeds.nii.gz')\n",
    "    \n",
    "    sub_fmri_path = os.path.join(sub_path, 'func', input_fname+f'_{typefilter}.nii.gz')\n",
    "    img = nib.load(sub_fmri_path)\n",
    "    f_img_data = img.get_fdata()\n",
    "    seeds = nib.load(seed_mask)\n",
    "    seeds_array = seeds.get_fdata()  \n",
    "    baseline_data = nib.load(baseline_path_func).get_fdata()\n",
    "    \n",
    "    # Load seeds\n",
    "    vr_xyz = __load_seeds(seeds_array, 'VR')\n",
    "    vl_xyz = __load_seeds(seeds_array, 'VL')\n",
    "    dr_xyz = __load_seeds(seeds_array, 'DR')\n",
    "    dl_xyz = __load_seeds(seeds_array, 'DL')\n",
    "    \n",
    "    # take time courses and compute RSS per slice\n",
    "    zslices = np.unique(vr_xyz[:,2])\n",
    "    Rsquared = np.zeros(len(zslices))\n",
    "    for i,z in enumerate(zslices): # per slice \n",
    "        \n",
    "        vrxyz = vr_xyz[np.where(vr_xyz[:,2]==z)[0]]\n",
    "        VR_sig = __ts_to_average(f_img_data, vrxyz)\n",
    "        vlxyz = vl_xyz[np.where(vl_xyz[:,2]==z)[0]]\n",
    "        VL_sig = __ts_to_average(f_img_data, vlxyz)\n",
    "        \n",
    "        drxyz = dr_xyz[np.where(dr_xyz[:,2]==z)[0]]\n",
    "        DR_sig = __ts_to_average(f_img_data, drxyz)\n",
    "        dlxyz = dl_xyz[np.where(dl_xyz[:,2]==z)[0]]\n",
    "        DL_sig = __ts_to_average(f_img_data, dlxyz)\n",
    "        \n",
    "        baseline_vr = __ts_to_average(baseline_data, vrxyz)\n",
    "        baseline_vl = __ts_to_average(baseline_data, vlxyz)\n",
    "        baseline_dr = __ts_to_average(baseline_data, drxyz)\n",
    "        baseline_dl = __ts_to_average(baseline_data, dlxyz)\n",
    "        \n",
    "        R2_vr = 1 - (np.var(VR_sig)/np.var(baseline_vr))\n",
    "        R2_vl = 1 - (np.var(VL_sig)/np.var(baseline_vl))\n",
    "        R2_dr = 1 - (np.var(DR_sig)/np.var(baseline_dr))\n",
    "        R2_dl = 1 - (np.var(DL_sig)/np.var(baseline_dl))\n",
    "        \n",
    "        # compute R squared per slice average\n",
    "        Rsquared[i] = (R2_vr+R2_vl+R2_dr+R2_dl)/4\n",
    "        \n",
    "\n",
    "    return np.mean(Rsquared), Rsquared\n",
    "    \n",
    "    "
   ]
  },
  {
   "cell_type": "code",
   "execution_count": 40,
   "id": "d48634b6",
   "metadata": {},
   "outputs": [],
   "source": [
    "subjects_paths = glob(os.path.join(data_path,\"LU_*\"))\n",
    "#subj_to_exclude = [\"LU_NK\", \"LU_VS\", \"LU_IR\",\"LU_RL\",\"LU_NS\"]\n",
    "subj_to_exclude = [\"LU_AM\",\"LU_LP\",\"LU_RL\",\"LU_VS\"]\n",
    "subjects_paths = [sub for sub in subjects_paths if sub.split('/')[-1] not in subj_to_exclude]\n",
    "subjects_paths = sorted(subjects_paths)"
   ]
  },
  {
   "cell_type": "markdown",
   "id": "0dd2bb59",
   "metadata": {},
   "source": [
    "## Analysis:\n",
    "\n",
    "#### (Re)select filter"
   ]
  },
  {
   "cell_type": "code",
   "execution_count": 84,
   "id": "70bee363",
   "metadata": {},
   "outputs": [],
   "source": [
    "def IQR(dist):\n",
    "    return np.percentile(dist, 5), np.percentile(dist, 95)"
   ]
  },
  {
   "cell_type": "code",
   "execution_count": 41,
   "id": "71cb75e4",
   "metadata": {},
   "outputs": [
    {
     "data": {
      "text/plain": [
       "array([ 1,  2,  3,  4,  5,  6,  7,  8,  9, 10, 11])"
      ]
     },
     "execution_count": 41,
     "metadata": {},
     "output_type": "execute_result"
    }
   ],
   "source": [
    "tempfilt = \"BP13\"\n",
    "\n",
    "options_for_r2 = options_to_consider[1:]\n",
    "options_for_r2"
   ]
  },
  {
   "cell_type": "code",
   "execution_count": 42,
   "id": "81a29ad0",
   "metadata": {},
   "outputs": [],
   "source": [
    "run_analysis = False"
   ]
  },
  {
   "cell_type": "code",
   "execution_count": 335,
   "id": "fec00a8a",
   "metadata": {
    "scrolled": true
   },
   "outputs": [],
   "source": [
    "outpath = os.path.join(data_path,\"PreProc-Comparison\")\n",
    "if run_analysis:\n",
    "    n = 360\n",
    "    # Compute var for all denoising option\n",
    "    options_sigma_subs = {}\n",
    "    \n",
    "    ## change here the options \n",
    "    for o in tqdm(options_for_r2):\n",
    "        finput, k = get_mfmri_den_details(o)\n",
    "        r2_subs = np.zeros(len(subjects_paths))\n",
    "        for s in trange(len(subjects_paths)):\n",
    "            subpath = subjects_paths[s]\n",
    "            # r2\n",
    "            R2,_ = compute_r2_persub(subpath,finput,tempfilt)\n",
    "            # compute R squared adjusted\n",
    "            r2_subs[s] = 1 - ((1-R2)*(n-1))/(n-k-1)\n",
    "\n",
    "        options_sigma_subs[o] = r2_subs\n",
    "        \n",
    "    with open(os.path.join(outpath,f'options_sigmas_subs_{tempfilt}.pkl'), 'wb') as f:\n",
    "        pickle.dump(options_sigma_subs, f)"
   ]
  },
  {
   "cell_type": "code",
   "execution_count": 336,
   "id": "654a8aef",
   "metadata": {},
   "outputs": [],
   "source": [
    "# Load the R2 for both BP and HO\n",
    "if run_analysis==False:\n",
    "    # load the saved\n",
    "    with open(os.path.join(outpath,f'options_sigmas_subs_BP13.pkl'), 'rb') as f:\n",
    "        options_sigma_subs = pickle.load(f)"
   ]
  },
  {
   "cell_type": "code",
   "execution_count": 337,
   "id": "c12dd910",
   "metadata": {
    "scrolled": true
   },
   "outputs": [
    {
     "data": {
      "text/plain": [
       "{1: array([ 0.01588575,  0.02119551,  0.00605165,  0.00282636,  0.0032763 ,\n",
       "         0.00505777,  0.00121636,  0.00811061,  0.00380036,  0.01259515,\n",
       "         0.00809324,  0.00457941,  0.00625212,  0.00293618,  0.00856398,\n",
       "         0.00686082,  0.00293858,  0.004858  ,  0.00333075,  0.00409881,\n",
       "        -0.32835669,  0.00496926,  0.00634849,  0.00329101]),\n",
       " 2: array([0.02291074, 0.03625298, 0.0378349 , 0.01504766, 0.04893603,\n",
       "        0.0149257 , 0.01364808, 0.08632865, 0.01249465, 0.03076193,\n",
       "        0.01731936, 0.01676957, 0.0162684 , 0.01625992, 0.01831831,\n",
       "        0.01373106, 0.04513937, 0.05780493, 0.01967397, 0.00499708,\n",
       "        0.01462205, 0.0094377 , 0.03179574, 0.01434495]),\n",
       " 3: array([0.05920116, 0.08114746, 0.11129062, 0.03090271, 0.09034943,\n",
       "        0.10780617, 0.03472355, 0.15247887, 0.05281623, 0.08270142,\n",
       "        0.04226851, 0.04909672, 0.03357297, 0.01654299, 0.03603301,\n",
       "        0.08005943, 0.07505149, 0.11192273, 0.01901653, 0.01744253,\n",
       "        0.06054921, 0.03260706, 0.01993709, 0.02258253]),\n",
       " 4: array([0.07325475, 0.09228317, 0.12095007, 0.03952019, 0.10892958,\n",
       "        0.11556125, 0.04360494, 0.17627381, 0.06557511, 0.09268818,\n",
       "        0.05546467, 0.06466246, 0.04820252, 0.03173922, 0.04852423,\n",
       "        0.09098049, 0.0903318 , 0.13056905, 0.03762619, 0.02201125,\n",
       "        0.06874246, 0.03861078, 0.04907579, 0.03680022]),\n",
       " 5: array([0.01874616, 0.02202987, 0.02450888, 0.02185498, 0.02350112,\n",
       "        0.02456703, 0.01938982, 0.02625235, 0.02472341, 0.01988093,\n",
       "        0.02230524, 0.03195945, 0.02948889, 0.02288322, 0.02277408,\n",
       "        0.03752006, 0.02329045, 0.02229363, 0.02111856, 0.01957307,\n",
       "        0.03086791, 0.02055089, 0.0249773 , 0.01516777]),\n",
       " 6: array([0.06517535, 0.06115047, 0.11411922, 0.04270442, 0.09309788,\n",
       "        0.12627422, 0.03637435, 0.13205223, 0.05660085, 0.05171611,\n",
       "        0.06020851, 0.03682787, 0.038026  , 0.02701163, 0.0505778 ,\n",
       "        0.07371057, 0.0761079 , 0.09825341, 0.04969692, 0.02622394,\n",
       "        0.09700015, 0.02739809, 0.02260693, 0.0289627 ]),\n",
       " 7: array([0.12524226, 0.11950986, 0.18101636, 0.10273431, 0.15347292,\n",
       "        0.18794134, 0.09132173, 0.18735629, 0.1139489 , 0.10622899,\n",
       "        0.11994152, 0.10266859, 0.10300436, 0.08752162, 0.10585624,\n",
       "        0.14353697, 0.13141783, 0.15589717, 0.11172351, 0.08069721,\n",
       "        0.15277885, 0.0844469 , 0.09183643, 0.08482505]),\n",
       " 8: array([0.12916425, 0.13542558, 0.18631259, 0.10593701, 0.15583258,\n",
       "        0.19302197, 0.09277542, 0.19434618, 0.11688237, 0.11931901,\n",
       "        0.12613887, 0.10691199, 0.10900732, 0.09081798, 0.11016344,\n",
       "        0.14900093, 0.13528101, 0.161174  , 0.11548268, 0.08442969,\n",
       "        0.15449717, 0.08824553, 0.09764764, 0.08806136]),\n",
       " 9: array([0.13468881, 0.14158987, 0.18822884, 0.11157986, 0.16990662,\n",
       "        0.19477285, 0.09883186, 0.20734344, 0.12382384, 0.13413333,\n",
       "        0.13092583, 0.11422088, 0.11099492, 0.0998089 , 0.11391151,\n",
       "        0.15128021, 0.14176799, 0.18058897, 0.12392916, 0.08543918,\n",
       "        0.15886204, 0.09110369, 0.11327725, 0.09250593]),\n",
       " 10: array([0.13868659, 0.15155052, 0.1928797 , 0.11473699, 0.17196995,\n",
       "        0.19978466, 0.09994277, 0.21261957, 0.12641204, 0.14158774,\n",
       "        0.1368452 , 0.11854704, 0.11764798, 0.10269108, 0.11818794,\n",
       "        0.15720635, 0.14519317, 0.18540807, 0.12794909, 0.08937262,\n",
       "        0.16069082, 0.09476616, 0.11881439, 0.09592053]),\n",
       " 11: array([0.15588385, 0.18092657, 0.21309613, 0.13284647, 0.1926106 ,\n",
       "        0.22313926, 0.12084313, 0.2568873 , 0.14970809, 0.18463997,\n",
       "        0.15576039, 0.14762194, 0.13462435, 0.12043879, 0.13283345,\n",
       "        0.18084252, 0.17507187, 0.21683604, 0.14686361, 0.10733903,\n",
       "        0.17400465, 0.11549976, 0.13368213, 0.11523238])}"
      ]
     },
     "execution_count": 337,
     "metadata": {},
     "output_type": "execute_result"
    }
   ],
   "source": [
    "options_sigma_subs"
   ]
  },
  {
   "cell_type": "code",
   "execution_count": 339,
   "id": "05eebc6c",
   "metadata": {},
   "outputs": [
    {
     "data": {
      "text/plain": [
       "0.1128362038009098"
      ]
     },
     "execution_count": 339,
     "metadata": {},
     "output_type": "execute_result"
    }
   ],
   "source": [
    "np.median(options_sigma_subs[7])"
   ]
  },
  {
   "cell_type": "code",
   "execution_count": 359,
   "id": "6d145d9c",
   "metadata": {},
   "outputs": [
    {
     "data": {
      "text/plain": [
       "(0.11527248604075328, 0.22219377752945157)"
      ]
     },
     "execution_count": 359,
     "metadata": {},
     "output_type": "execute_result"
    }
   ],
   "source": [
    "IQR(options_sigma_subs[11])"
   ]
  },
  {
   "cell_type": "code",
   "execution_count": 147,
   "id": "9b40ab6d",
   "metadata": {},
   "outputs": [],
   "source": [
    "### Generate dataframe\n",
    "\n",
    "options_name = []\n",
    "for o in options_sigma_subs.keys():\n",
    "    options_name.append(get_option_foldername(o))\n",
    "\n",
    "df = pd.DataFrame(columns=options_name)\n",
    "# dfHP = pd.DataFrame(columns=options_name)\n",
    "\n",
    "for i,o in enumerate(options_sigma_subs.keys()):\n",
    "    df[options_name[i]] = options_sigma_subs[o]\n",
    "    #dfHP[options_name[i]] = options_sigma_subs_HP[o]\n",
    "\n",
    "    \n",
    "# df.to_csv(f\"Outputs_paper_data/{tempfilt}_RSS.csv\")\n"
   ]
  },
  {
   "cell_type": "code",
   "execution_count": 148,
   "id": "849b598d",
   "metadata": {},
   "outputs": [],
   "source": [
    "write = run_analysis\n",
    "if write:\n",
    "    df.to_csv('Outputs_paper_data/BP13_RSS_st.csv')\n",
    "else:\n",
    "    df = pd.read_csv('Outputs_paper_data/BP13_RSS_st.csv',header=0,index_col=0,delimiter=\",\")\n"
   ]
  },
  {
   "cell_type": "code",
   "execution_count": 149,
   "id": "8ece3f5c",
   "metadata": {},
   "outputs": [
    {
     "data": {
      "text/html": [
       "<div>\n",
       "<style scoped>\n",
       "    .dataframe tbody tr th:only-of-type {\n",
       "        vertical-align: middle;\n",
       "    }\n",
       "\n",
       "    .dataframe tbody tr th {\n",
       "        vertical-align: top;\n",
       "    }\n",
       "\n",
       "    .dataframe thead th {\n",
       "        text-align: right;\n",
       "    }\n",
       "</style>\n",
       "<table border=\"1\" class=\"dataframe\">\n",
       "  <thead>\n",
       "    <tr style=\"text-align: right;\">\n",
       "      <th></th>\n",
       "      <th>1_csf_csfonly_stc</th>\n",
       "      <th>2_moco_stc</th>\n",
       "      <th>3_cc_stc</th>\n",
       "      <th>4_moco_cc_stc</th>\n",
       "      <th>5_pnm_cardonly_stc</th>\n",
       "      <th>6_pnm_responly_stc</th>\n",
       "      <th>7_pnm_stc</th>\n",
       "      <th>8_csf_pnm_stc</th>\n",
       "      <th>9_pnm_moco_stc</th>\n",
       "      <th>10_csf_pnm_moco_stc</th>\n",
       "      <th>11_csf_pnm_moco_cc_stc</th>\n",
       "    </tr>\n",
       "  </thead>\n",
       "  <tbody>\n",
       "    <tr>\n",
       "      <th>0</th>\n",
       "      <td>0.015886</td>\n",
       "      <td>0.022911</td>\n",
       "      <td>0.059201</td>\n",
       "      <td>0.073255</td>\n",
       "      <td>0.018746</td>\n",
       "      <td>0.065175</td>\n",
       "      <td>0.125242</td>\n",
       "      <td>0.129164</td>\n",
       "      <td>0.134689</td>\n",
       "      <td>0.138687</td>\n",
       "      <td>0.155884</td>\n",
       "    </tr>\n",
       "    <tr>\n",
       "      <th>1</th>\n",
       "      <td>0.021196</td>\n",
       "      <td>0.036253</td>\n",
       "      <td>0.081147</td>\n",
       "      <td>0.092283</td>\n",
       "      <td>0.022030</td>\n",
       "      <td>0.061150</td>\n",
       "      <td>0.119510</td>\n",
       "      <td>0.135426</td>\n",
       "      <td>0.141590</td>\n",
       "      <td>0.151551</td>\n",
       "      <td>0.180927</td>\n",
       "    </tr>\n",
       "    <tr>\n",
       "      <th>2</th>\n",
       "      <td>0.006052</td>\n",
       "      <td>0.037835</td>\n",
       "      <td>0.111291</td>\n",
       "      <td>0.120950</td>\n",
       "      <td>0.024509</td>\n",
       "      <td>0.114119</td>\n",
       "      <td>0.181016</td>\n",
       "      <td>0.186313</td>\n",
       "      <td>0.188229</td>\n",
       "      <td>0.192880</td>\n",
       "      <td>0.213096</td>\n",
       "    </tr>\n",
       "    <tr>\n",
       "      <th>3</th>\n",
       "      <td>0.002826</td>\n",
       "      <td>0.015048</td>\n",
       "      <td>0.030903</td>\n",
       "      <td>0.039520</td>\n",
       "      <td>0.021855</td>\n",
       "      <td>0.042704</td>\n",
       "      <td>0.102734</td>\n",
       "      <td>0.105937</td>\n",
       "      <td>0.111580</td>\n",
       "      <td>0.114737</td>\n",
       "      <td>0.132846</td>\n",
       "    </tr>\n",
       "    <tr>\n",
       "      <th>4</th>\n",
       "      <td>0.003276</td>\n",
       "      <td>0.048936</td>\n",
       "      <td>0.090349</td>\n",
       "      <td>0.108930</td>\n",
       "      <td>0.023501</td>\n",
       "      <td>0.093098</td>\n",
       "      <td>0.153473</td>\n",
       "      <td>0.155833</td>\n",
       "      <td>0.169907</td>\n",
       "      <td>0.171970</td>\n",
       "      <td>0.192611</td>\n",
       "    </tr>\n",
       "    <tr>\n",
       "      <th>5</th>\n",
       "      <td>0.005058</td>\n",
       "      <td>0.014926</td>\n",
       "      <td>0.107806</td>\n",
       "      <td>0.115561</td>\n",
       "      <td>0.024567</td>\n",
       "      <td>0.126274</td>\n",
       "      <td>0.187941</td>\n",
       "      <td>0.193022</td>\n",
       "      <td>0.194773</td>\n",
       "      <td>0.199785</td>\n",
       "      <td>0.223139</td>\n",
       "    </tr>\n",
       "    <tr>\n",
       "      <th>6</th>\n",
       "      <td>0.001216</td>\n",
       "      <td>0.013648</td>\n",
       "      <td>0.034724</td>\n",
       "      <td>0.043605</td>\n",
       "      <td>0.019390</td>\n",
       "      <td>0.036374</td>\n",
       "      <td>0.091322</td>\n",
       "      <td>0.092775</td>\n",
       "      <td>0.098832</td>\n",
       "      <td>0.099943</td>\n",
       "      <td>0.120843</td>\n",
       "    </tr>\n",
       "    <tr>\n",
       "      <th>7</th>\n",
       "      <td>0.008111</td>\n",
       "      <td>0.086329</td>\n",
       "      <td>0.152479</td>\n",
       "      <td>0.176274</td>\n",
       "      <td>0.026252</td>\n",
       "      <td>0.132052</td>\n",
       "      <td>0.187356</td>\n",
       "      <td>0.194346</td>\n",
       "      <td>0.207343</td>\n",
       "      <td>0.212620</td>\n",
       "      <td>0.256887</td>\n",
       "    </tr>\n",
       "    <tr>\n",
       "      <th>8</th>\n",
       "      <td>0.003800</td>\n",
       "      <td>0.012495</td>\n",
       "      <td>0.052816</td>\n",
       "      <td>0.065575</td>\n",
       "      <td>0.024723</td>\n",
       "      <td>0.056601</td>\n",
       "      <td>0.113949</td>\n",
       "      <td>0.116882</td>\n",
       "      <td>0.123824</td>\n",
       "      <td>0.126412</td>\n",
       "      <td>0.149708</td>\n",
       "    </tr>\n",
       "    <tr>\n",
       "      <th>9</th>\n",
       "      <td>0.012595</td>\n",
       "      <td>0.030762</td>\n",
       "      <td>0.082701</td>\n",
       "      <td>0.092688</td>\n",
       "      <td>0.019881</td>\n",
       "      <td>0.051716</td>\n",
       "      <td>0.106229</td>\n",
       "      <td>0.119319</td>\n",
       "      <td>0.134133</td>\n",
       "      <td>0.141588</td>\n",
       "      <td>0.184640</td>\n",
       "    </tr>\n",
       "    <tr>\n",
       "      <th>10</th>\n",
       "      <td>0.008093</td>\n",
       "      <td>0.017319</td>\n",
       "      <td>0.042269</td>\n",
       "      <td>0.055465</td>\n",
       "      <td>0.022305</td>\n",
       "      <td>0.060209</td>\n",
       "      <td>0.119942</td>\n",
       "      <td>0.126139</td>\n",
       "      <td>0.130926</td>\n",
       "      <td>0.136845</td>\n",
       "      <td>0.155760</td>\n",
       "    </tr>\n",
       "    <tr>\n",
       "      <th>11</th>\n",
       "      <td>0.004579</td>\n",
       "      <td>0.016770</td>\n",
       "      <td>0.049097</td>\n",
       "      <td>0.064662</td>\n",
       "      <td>0.031959</td>\n",
       "      <td>0.036828</td>\n",
       "      <td>0.102669</td>\n",
       "      <td>0.106912</td>\n",
       "      <td>0.114221</td>\n",
       "      <td>0.118547</td>\n",
       "      <td>0.147622</td>\n",
       "    </tr>\n",
       "    <tr>\n",
       "      <th>12</th>\n",
       "      <td>0.006252</td>\n",
       "      <td>0.016268</td>\n",
       "      <td>0.033573</td>\n",
       "      <td>0.048203</td>\n",
       "      <td>0.029489</td>\n",
       "      <td>0.038026</td>\n",
       "      <td>0.103004</td>\n",
       "      <td>0.109007</td>\n",
       "      <td>0.110995</td>\n",
       "      <td>0.117648</td>\n",
       "      <td>0.134624</td>\n",
       "    </tr>\n",
       "    <tr>\n",
       "      <th>13</th>\n",
       "      <td>0.002936</td>\n",
       "      <td>0.016260</td>\n",
       "      <td>0.016543</td>\n",
       "      <td>0.031739</td>\n",
       "      <td>0.022883</td>\n",
       "      <td>0.027012</td>\n",
       "      <td>0.087522</td>\n",
       "      <td>0.090818</td>\n",
       "      <td>0.099809</td>\n",
       "      <td>0.102691</td>\n",
       "      <td>0.120439</td>\n",
       "    </tr>\n",
       "    <tr>\n",
       "      <th>14</th>\n",
       "      <td>0.008564</td>\n",
       "      <td>0.018318</td>\n",
       "      <td>0.036033</td>\n",
       "      <td>0.048524</td>\n",
       "      <td>0.022774</td>\n",
       "      <td>0.050578</td>\n",
       "      <td>0.105856</td>\n",
       "      <td>0.110163</td>\n",
       "      <td>0.113912</td>\n",
       "      <td>0.118188</td>\n",
       "      <td>0.132833</td>\n",
       "    </tr>\n",
       "    <tr>\n",
       "      <th>15</th>\n",
       "      <td>0.006861</td>\n",
       "      <td>0.013731</td>\n",
       "      <td>0.080059</td>\n",
       "      <td>0.090980</td>\n",
       "      <td>0.037520</td>\n",
       "      <td>0.073711</td>\n",
       "      <td>0.143537</td>\n",
       "      <td>0.149001</td>\n",
       "      <td>0.151280</td>\n",
       "      <td>0.157206</td>\n",
       "      <td>0.180843</td>\n",
       "    </tr>\n",
       "    <tr>\n",
       "      <th>16</th>\n",
       "      <td>0.002939</td>\n",
       "      <td>0.045139</td>\n",
       "      <td>0.075051</td>\n",
       "      <td>0.090332</td>\n",
       "      <td>0.023290</td>\n",
       "      <td>0.076108</td>\n",
       "      <td>0.131418</td>\n",
       "      <td>0.135281</td>\n",
       "      <td>0.141768</td>\n",
       "      <td>0.145193</td>\n",
       "      <td>0.175072</td>\n",
       "    </tr>\n",
       "    <tr>\n",
       "      <th>17</th>\n",
       "      <td>0.004858</td>\n",
       "      <td>0.057805</td>\n",
       "      <td>0.111923</td>\n",
       "      <td>0.130569</td>\n",
       "      <td>0.022294</td>\n",
       "      <td>0.098253</td>\n",
       "      <td>0.155897</td>\n",
       "      <td>0.161174</td>\n",
       "      <td>0.180589</td>\n",
       "      <td>0.185408</td>\n",
       "      <td>0.216836</td>\n",
       "    </tr>\n",
       "    <tr>\n",
       "      <th>18</th>\n",
       "      <td>0.003331</td>\n",
       "      <td>0.019674</td>\n",
       "      <td>0.019017</td>\n",
       "      <td>0.037626</td>\n",
       "      <td>0.021119</td>\n",
       "      <td>0.049697</td>\n",
       "      <td>0.111724</td>\n",
       "      <td>0.115483</td>\n",
       "      <td>0.123929</td>\n",
       "      <td>0.127949</td>\n",
       "      <td>0.146864</td>\n",
       "    </tr>\n",
       "    <tr>\n",
       "      <th>19</th>\n",
       "      <td>0.004099</td>\n",
       "      <td>0.004997</td>\n",
       "      <td>0.017443</td>\n",
       "      <td>0.022011</td>\n",
       "      <td>0.019573</td>\n",
       "      <td>0.026224</td>\n",
       "      <td>0.080697</td>\n",
       "      <td>0.084430</td>\n",
       "      <td>0.085439</td>\n",
       "      <td>0.089373</td>\n",
       "      <td>0.107339</td>\n",
       "    </tr>\n",
       "    <tr>\n",
       "      <th>20</th>\n",
       "      <td>-0.328357</td>\n",
       "      <td>0.014622</td>\n",
       "      <td>0.060549</td>\n",
       "      <td>0.068742</td>\n",
       "      <td>0.030868</td>\n",
       "      <td>0.097000</td>\n",
       "      <td>0.152779</td>\n",
       "      <td>0.154497</td>\n",
       "      <td>0.158862</td>\n",
       "      <td>0.160691</td>\n",
       "      <td>0.174005</td>\n",
       "    </tr>\n",
       "    <tr>\n",
       "      <th>21</th>\n",
       "      <td>0.004969</td>\n",
       "      <td>0.009438</td>\n",
       "      <td>0.032607</td>\n",
       "      <td>0.038611</td>\n",
       "      <td>0.020551</td>\n",
       "      <td>0.027398</td>\n",
       "      <td>0.084447</td>\n",
       "      <td>0.088246</td>\n",
       "      <td>0.091104</td>\n",
       "      <td>0.094766</td>\n",
       "      <td>0.115500</td>\n",
       "    </tr>\n",
       "    <tr>\n",
       "      <th>22</th>\n",
       "      <td>0.006348</td>\n",
       "      <td>0.031796</td>\n",
       "      <td>0.019937</td>\n",
       "      <td>0.049076</td>\n",
       "      <td>0.024977</td>\n",
       "      <td>0.022607</td>\n",
       "      <td>0.091836</td>\n",
       "      <td>0.097648</td>\n",
       "      <td>0.113277</td>\n",
       "      <td>0.118814</td>\n",
       "      <td>0.133682</td>\n",
       "    </tr>\n",
       "    <tr>\n",
       "      <th>23</th>\n",
       "      <td>0.003291</td>\n",
       "      <td>0.014345</td>\n",
       "      <td>0.022583</td>\n",
       "      <td>0.036800</td>\n",
       "      <td>0.015168</td>\n",
       "      <td>0.028963</td>\n",
       "      <td>0.084825</td>\n",
       "      <td>0.088061</td>\n",
       "      <td>0.092506</td>\n",
       "      <td>0.095921</td>\n",
       "      <td>0.115232</td>\n",
       "    </tr>\n",
       "  </tbody>\n",
       "</table>\n",
       "</div>"
      ],
      "text/plain": [
       "    1_csf_csfonly_stc  2_moco_stc  3_cc_stc  4_moco_cc_stc  \\\n",
       "0            0.015886    0.022911  0.059201       0.073255   \n",
       "1            0.021196    0.036253  0.081147       0.092283   \n",
       "2            0.006052    0.037835  0.111291       0.120950   \n",
       "3            0.002826    0.015048  0.030903       0.039520   \n",
       "4            0.003276    0.048936  0.090349       0.108930   \n",
       "5            0.005058    0.014926  0.107806       0.115561   \n",
       "6            0.001216    0.013648  0.034724       0.043605   \n",
       "7            0.008111    0.086329  0.152479       0.176274   \n",
       "8            0.003800    0.012495  0.052816       0.065575   \n",
       "9            0.012595    0.030762  0.082701       0.092688   \n",
       "10           0.008093    0.017319  0.042269       0.055465   \n",
       "11           0.004579    0.016770  0.049097       0.064662   \n",
       "12           0.006252    0.016268  0.033573       0.048203   \n",
       "13           0.002936    0.016260  0.016543       0.031739   \n",
       "14           0.008564    0.018318  0.036033       0.048524   \n",
       "15           0.006861    0.013731  0.080059       0.090980   \n",
       "16           0.002939    0.045139  0.075051       0.090332   \n",
       "17           0.004858    0.057805  0.111923       0.130569   \n",
       "18           0.003331    0.019674  0.019017       0.037626   \n",
       "19           0.004099    0.004997  0.017443       0.022011   \n",
       "20          -0.328357    0.014622  0.060549       0.068742   \n",
       "21           0.004969    0.009438  0.032607       0.038611   \n",
       "22           0.006348    0.031796  0.019937       0.049076   \n",
       "23           0.003291    0.014345  0.022583       0.036800   \n",
       "\n",
       "    5_pnm_cardonly_stc  6_pnm_responly_stc  7_pnm_stc  8_csf_pnm_stc  \\\n",
       "0             0.018746            0.065175   0.125242       0.129164   \n",
       "1             0.022030            0.061150   0.119510       0.135426   \n",
       "2             0.024509            0.114119   0.181016       0.186313   \n",
       "3             0.021855            0.042704   0.102734       0.105937   \n",
       "4             0.023501            0.093098   0.153473       0.155833   \n",
       "5             0.024567            0.126274   0.187941       0.193022   \n",
       "6             0.019390            0.036374   0.091322       0.092775   \n",
       "7             0.026252            0.132052   0.187356       0.194346   \n",
       "8             0.024723            0.056601   0.113949       0.116882   \n",
       "9             0.019881            0.051716   0.106229       0.119319   \n",
       "10            0.022305            0.060209   0.119942       0.126139   \n",
       "11            0.031959            0.036828   0.102669       0.106912   \n",
       "12            0.029489            0.038026   0.103004       0.109007   \n",
       "13            0.022883            0.027012   0.087522       0.090818   \n",
       "14            0.022774            0.050578   0.105856       0.110163   \n",
       "15            0.037520            0.073711   0.143537       0.149001   \n",
       "16            0.023290            0.076108   0.131418       0.135281   \n",
       "17            0.022294            0.098253   0.155897       0.161174   \n",
       "18            0.021119            0.049697   0.111724       0.115483   \n",
       "19            0.019573            0.026224   0.080697       0.084430   \n",
       "20            0.030868            0.097000   0.152779       0.154497   \n",
       "21            0.020551            0.027398   0.084447       0.088246   \n",
       "22            0.024977            0.022607   0.091836       0.097648   \n",
       "23            0.015168            0.028963   0.084825       0.088061   \n",
       "\n",
       "    9_pnm_moco_stc  10_csf_pnm_moco_stc  11_csf_pnm_moco_cc_stc  \n",
       "0         0.134689             0.138687                0.155884  \n",
       "1         0.141590             0.151551                0.180927  \n",
       "2         0.188229             0.192880                0.213096  \n",
       "3         0.111580             0.114737                0.132846  \n",
       "4         0.169907             0.171970                0.192611  \n",
       "5         0.194773             0.199785                0.223139  \n",
       "6         0.098832             0.099943                0.120843  \n",
       "7         0.207343             0.212620                0.256887  \n",
       "8         0.123824             0.126412                0.149708  \n",
       "9         0.134133             0.141588                0.184640  \n",
       "10        0.130926             0.136845                0.155760  \n",
       "11        0.114221             0.118547                0.147622  \n",
       "12        0.110995             0.117648                0.134624  \n",
       "13        0.099809             0.102691                0.120439  \n",
       "14        0.113912             0.118188                0.132833  \n",
       "15        0.151280             0.157206                0.180843  \n",
       "16        0.141768             0.145193                0.175072  \n",
       "17        0.180589             0.185408                0.216836  \n",
       "18        0.123929             0.127949                0.146864  \n",
       "19        0.085439             0.089373                0.107339  \n",
       "20        0.158862             0.160691                0.174005  \n",
       "21        0.091104             0.094766                0.115500  \n",
       "22        0.113277             0.118814                0.133682  \n",
       "23        0.092506             0.095921                0.115232  "
      ]
     },
     "execution_count": 149,
     "metadata": {},
     "output_type": "execute_result"
    }
   ],
   "source": [
    "df"
   ]
  },
  {
   "cell_type": "markdown",
   "id": "dda49e89",
   "metadata": {},
   "source": [
    "### Stats"
   ]
  },
  {
   "cell_type": "code",
   "execution_count": 150,
   "id": "066abce6",
   "metadata": {},
   "outputs": [
    {
     "data": {
      "text/plain": [
       "array([-0.00755084,  0.02565099,  0.05917085,  0.07258259,  0.02375938,\n",
       "        0.06216156,  0.12187188,  0.12691152,  0.13389649,  0.13830879,\n",
       "        0.16113468])"
      ]
     },
     "execution_count": 150,
     "metadata": {},
     "output_type": "execute_result"
    }
   ],
   "source": [
    "(np.mean(df.values,0))"
   ]
  },
  {
   "cell_type": "code",
   "execution_count": 151,
   "id": "6c356cc8",
   "metadata": {},
   "outputs": [
    {
     "data": {
      "text/plain": [
       "array([0.02119551, 0.08632865, 0.15247887, 0.17627381, 0.03752006,\n",
       "       0.13205223, 0.18794134, 0.19434618, 0.20734344, 0.21261957,\n",
       "       0.2568873 ])"
      ]
     },
     "execution_count": 151,
     "metadata": {},
     "output_type": "execute_result"
    }
   ],
   "source": [
    "(np.max(df.values,0))"
   ]
  },
  {
   "cell_type": "code",
   "execution_count": 152,
   "id": "2f62c7bb",
   "metadata": {},
   "outputs": [
    {
     "data": {
      "text/plain": [
       "array([-0.32835669,  0.00499708,  0.01654299,  0.02201125,  0.01516777,\n",
       "        0.02260693,  0.08069721,  0.08442969,  0.08543918,  0.08937262,\n",
       "        0.10733903])"
      ]
     },
     "execution_count": 152,
     "metadata": {},
     "output_type": "execute_result"
    }
   ],
   "source": [
    "(np.min(df.values,0))"
   ]
  },
  {
   "cell_type": "code",
   "execution_count": 153,
   "id": "76a10606",
   "metadata": {},
   "outputs": [
    {
     "data": {
      "text/plain": [
       "array([0.00491363, 0.01704446, 0.05095647, 0.06511879, 0.02282865,\n",
       "       0.05415848, 0.1128362 , 0.11810069, 0.12742749, 0.13239715,\n",
       "       0.15273424])"
      ]
     },
     "execution_count": 153,
     "metadata": {},
     "output_type": "execute_result"
    }
   ],
   "source": [
    "(np.median(df.values,0))"
   ]
  },
  {
   "cell_type": "markdown",
   "id": "5ac9e899",
   "metadata": {},
   "source": [
    "### Figure "
   ]
  },
  {
   "cell_type": "code",
   "execution_count": 154,
   "id": "1b58ebf0",
   "metadata": {},
   "outputs": [],
   "source": [
    "labels = []\n",
    "errors = np.zeros(len(options_sigma_subs))\n",
    "median_rsquared = np.zeros(len(options_sigma_subs))\n",
    "i = 0\n",
    "for o, rs in options_sigma_subs.items():\n",
    "    name,_=get_mfmri_den_details(o)\n",
    "    labels.append('_'.join(name.split('_')[4:]))\n",
    "    median_rsquared[i] = np.median(rs)\n",
    "    errors[i] = iqr(rs)\n",
    "    i += 1\n",
    "    "
   ]
  },
  {
   "cell_type": "code",
   "execution_count": 155,
   "id": "ad64de60",
   "metadata": {},
   "outputs": [
    {
     "data": {
      "text/plain": [
       "['csf_csfonly',\n",
       " 'moco',\n",
       " 'cc',\n",
       " 'moco_cc',\n",
       " 'pnm_cardonly',\n",
       " 'pnm_responly',\n",
       " 'pnm',\n",
       " 'csf_pnm',\n",
       " 'pnm_moco',\n",
       " 'csf_pnm_moco',\n",
       " 'csf_pnm_moco_cc']"
      ]
     },
     "execution_count": 155,
     "metadata": {},
     "output_type": "execute_result"
    }
   ],
   "source": [
    "labels"
   ]
  },
  {
   "cell_type": "code",
   "execution_count": 156,
   "id": "e1e13e0f",
   "metadata": {},
   "outputs": [
    {
     "data": {
      "application/vnd.plotly.v1+json": {
       "config": {
        "plotlyServerURL": "https://plot.ly"
       },
       "data": [
        {
         "error_y": {
          "array": [
           0.0038815939259353727,
           0.01835727728348782,
           0.049354971190305574,
           0.04980067073561542,
           0.0038102380854085904,
           0.04364090377891536,
           0.045886892343570074,
           0.04651032143436182,
           0.04174204430468187,
           0.0411572314039253,
           0.04901170960040019
          ],
          "type": "data"
         },
         "name": "Denoising",
         "type": "bar",
         "x": [
          "csf_csfonly",
          "moco",
          "cc",
          "moco_cc",
          "pnm_cardonly",
          "pnm_responly",
          "pnm",
          "csf_pnm",
          "pnm_moco",
          "csf_pnm_moco",
          "csf_pnm_moco_cc"
         ],
         "y": [
          0.004913629268650965,
          0.017044464101260925,
          0.05095647497507222,
          0.06511878697616291,
          0.022828650096471725,
          0.0541584811458064,
          0.1128362038009098,
          0.11810069048469019,
          0.12742749424576955,
          0.13239714772980193,
          0.1527342386833518
         ]
        }
       ],
       "layout": {
        "template": {
         "data": {
          "bar": [
           {
            "error_x": {
             "color": "#2a3f5f"
            },
            "error_y": {
             "color": "#2a3f5f"
            },
            "marker": {
             "line": {
              "color": "#E5ECF6",
              "width": 0.5
             },
             "pattern": {
              "fillmode": "overlay",
              "size": 10,
              "solidity": 0.2
             }
            },
            "type": "bar"
           }
          ],
          "barpolar": [
           {
            "marker": {
             "line": {
              "color": "#E5ECF6",
              "width": 0.5
             },
             "pattern": {
              "fillmode": "overlay",
              "size": 10,
              "solidity": 0.2
             }
            },
            "type": "barpolar"
           }
          ],
          "carpet": [
           {
            "aaxis": {
             "endlinecolor": "#2a3f5f",
             "gridcolor": "white",
             "linecolor": "white",
             "minorgridcolor": "white",
             "startlinecolor": "#2a3f5f"
            },
            "baxis": {
             "endlinecolor": "#2a3f5f",
             "gridcolor": "white",
             "linecolor": "white",
             "minorgridcolor": "white",
             "startlinecolor": "#2a3f5f"
            },
            "type": "carpet"
           }
          ],
          "choropleth": [
           {
            "colorbar": {
             "outlinewidth": 0,
             "ticks": ""
            },
            "type": "choropleth"
           }
          ],
          "contour": [
           {
            "colorbar": {
             "outlinewidth": 0,
             "ticks": ""
            },
            "colorscale": [
             [
              0,
              "#0d0887"
             ],
             [
              0.1111111111111111,
              "#46039f"
             ],
             [
              0.2222222222222222,
              "#7201a8"
             ],
             [
              0.3333333333333333,
              "#9c179e"
             ],
             [
              0.4444444444444444,
              "#bd3786"
             ],
             [
              0.5555555555555556,
              "#d8576b"
             ],
             [
              0.6666666666666666,
              "#ed7953"
             ],
             [
              0.7777777777777778,
              "#fb9f3a"
             ],
             [
              0.8888888888888888,
              "#fdca26"
             ],
             [
              1,
              "#f0f921"
             ]
            ],
            "type": "contour"
           }
          ],
          "contourcarpet": [
           {
            "colorbar": {
             "outlinewidth": 0,
             "ticks": ""
            },
            "type": "contourcarpet"
           }
          ],
          "heatmap": [
           {
            "colorbar": {
             "outlinewidth": 0,
             "ticks": ""
            },
            "colorscale": [
             [
              0,
              "#0d0887"
             ],
             [
              0.1111111111111111,
              "#46039f"
             ],
             [
              0.2222222222222222,
              "#7201a8"
             ],
             [
              0.3333333333333333,
              "#9c179e"
             ],
             [
              0.4444444444444444,
              "#bd3786"
             ],
             [
              0.5555555555555556,
              "#d8576b"
             ],
             [
              0.6666666666666666,
              "#ed7953"
             ],
             [
              0.7777777777777778,
              "#fb9f3a"
             ],
             [
              0.8888888888888888,
              "#fdca26"
             ],
             [
              1,
              "#f0f921"
             ]
            ],
            "type": "heatmap"
           }
          ],
          "heatmapgl": [
           {
            "colorbar": {
             "outlinewidth": 0,
             "ticks": ""
            },
            "colorscale": [
             [
              0,
              "#0d0887"
             ],
             [
              0.1111111111111111,
              "#46039f"
             ],
             [
              0.2222222222222222,
              "#7201a8"
             ],
             [
              0.3333333333333333,
              "#9c179e"
             ],
             [
              0.4444444444444444,
              "#bd3786"
             ],
             [
              0.5555555555555556,
              "#d8576b"
             ],
             [
              0.6666666666666666,
              "#ed7953"
             ],
             [
              0.7777777777777778,
              "#fb9f3a"
             ],
             [
              0.8888888888888888,
              "#fdca26"
             ],
             [
              1,
              "#f0f921"
             ]
            ],
            "type": "heatmapgl"
           }
          ],
          "histogram": [
           {
            "marker": {
             "pattern": {
              "fillmode": "overlay",
              "size": 10,
              "solidity": 0.2
             }
            },
            "type": "histogram"
           }
          ],
          "histogram2d": [
           {
            "colorbar": {
             "outlinewidth": 0,
             "ticks": ""
            },
            "colorscale": [
             [
              0,
              "#0d0887"
             ],
             [
              0.1111111111111111,
              "#46039f"
             ],
             [
              0.2222222222222222,
              "#7201a8"
             ],
             [
              0.3333333333333333,
              "#9c179e"
             ],
             [
              0.4444444444444444,
              "#bd3786"
             ],
             [
              0.5555555555555556,
              "#d8576b"
             ],
             [
              0.6666666666666666,
              "#ed7953"
             ],
             [
              0.7777777777777778,
              "#fb9f3a"
             ],
             [
              0.8888888888888888,
              "#fdca26"
             ],
             [
              1,
              "#f0f921"
             ]
            ],
            "type": "histogram2d"
           }
          ],
          "histogram2dcontour": [
           {
            "colorbar": {
             "outlinewidth": 0,
             "ticks": ""
            },
            "colorscale": [
             [
              0,
              "#0d0887"
             ],
             [
              0.1111111111111111,
              "#46039f"
             ],
             [
              0.2222222222222222,
              "#7201a8"
             ],
             [
              0.3333333333333333,
              "#9c179e"
             ],
             [
              0.4444444444444444,
              "#bd3786"
             ],
             [
              0.5555555555555556,
              "#d8576b"
             ],
             [
              0.6666666666666666,
              "#ed7953"
             ],
             [
              0.7777777777777778,
              "#fb9f3a"
             ],
             [
              0.8888888888888888,
              "#fdca26"
             ],
             [
              1,
              "#f0f921"
             ]
            ],
            "type": "histogram2dcontour"
           }
          ],
          "mesh3d": [
           {
            "colorbar": {
             "outlinewidth": 0,
             "ticks": ""
            },
            "type": "mesh3d"
           }
          ],
          "parcoords": [
           {
            "line": {
             "colorbar": {
              "outlinewidth": 0,
              "ticks": ""
             }
            },
            "type": "parcoords"
           }
          ],
          "pie": [
           {
            "automargin": true,
            "type": "pie"
           }
          ],
          "scatter": [
           {
            "fillpattern": {
             "fillmode": "overlay",
             "size": 10,
             "solidity": 0.2
            },
            "type": "scatter"
           }
          ],
          "scatter3d": [
           {
            "line": {
             "colorbar": {
              "outlinewidth": 0,
              "ticks": ""
             }
            },
            "marker": {
             "colorbar": {
              "outlinewidth": 0,
              "ticks": ""
             }
            },
            "type": "scatter3d"
           }
          ],
          "scattercarpet": [
           {
            "marker": {
             "colorbar": {
              "outlinewidth": 0,
              "ticks": ""
             }
            },
            "type": "scattercarpet"
           }
          ],
          "scattergeo": [
           {
            "marker": {
             "colorbar": {
              "outlinewidth": 0,
              "ticks": ""
             }
            },
            "type": "scattergeo"
           }
          ],
          "scattergl": [
           {
            "marker": {
             "colorbar": {
              "outlinewidth": 0,
              "ticks": ""
             }
            },
            "type": "scattergl"
           }
          ],
          "scattermapbox": [
           {
            "marker": {
             "colorbar": {
              "outlinewidth": 0,
              "ticks": ""
             }
            },
            "type": "scattermapbox"
           }
          ],
          "scatterpolar": [
           {
            "marker": {
             "colorbar": {
              "outlinewidth": 0,
              "ticks": ""
             }
            },
            "type": "scatterpolar"
           }
          ],
          "scatterpolargl": [
           {
            "marker": {
             "colorbar": {
              "outlinewidth": 0,
              "ticks": ""
             }
            },
            "type": "scatterpolargl"
           }
          ],
          "scatterternary": [
           {
            "marker": {
             "colorbar": {
              "outlinewidth": 0,
              "ticks": ""
             }
            },
            "type": "scatterternary"
           }
          ],
          "surface": [
           {
            "colorbar": {
             "outlinewidth": 0,
             "ticks": ""
            },
            "colorscale": [
             [
              0,
              "#0d0887"
             ],
             [
              0.1111111111111111,
              "#46039f"
             ],
             [
              0.2222222222222222,
              "#7201a8"
             ],
             [
              0.3333333333333333,
              "#9c179e"
             ],
             [
              0.4444444444444444,
              "#bd3786"
             ],
             [
              0.5555555555555556,
              "#d8576b"
             ],
             [
              0.6666666666666666,
              "#ed7953"
             ],
             [
              0.7777777777777778,
              "#fb9f3a"
             ],
             [
              0.8888888888888888,
              "#fdca26"
             ],
             [
              1,
              "#f0f921"
             ]
            ],
            "type": "surface"
           }
          ],
          "table": [
           {
            "cells": {
             "fill": {
              "color": "#EBF0F8"
             },
             "line": {
              "color": "white"
             }
            },
            "header": {
             "fill": {
              "color": "#C8D4E3"
             },
             "line": {
              "color": "white"
             }
            },
            "type": "table"
           }
          ]
         },
         "layout": {
          "annotationdefaults": {
           "arrowcolor": "#2a3f5f",
           "arrowhead": 0,
           "arrowwidth": 1
          },
          "autotypenumbers": "strict",
          "coloraxis": {
           "colorbar": {
            "outlinewidth": 0,
            "ticks": ""
           }
          },
          "colorscale": {
           "diverging": [
            [
             0,
             "#8e0152"
            ],
            [
             0.1,
             "#c51b7d"
            ],
            [
             0.2,
             "#de77ae"
            ],
            [
             0.3,
             "#f1b6da"
            ],
            [
             0.4,
             "#fde0ef"
            ],
            [
             0.5,
             "#f7f7f7"
            ],
            [
             0.6,
             "#e6f5d0"
            ],
            [
             0.7,
             "#b8e186"
            ],
            [
             0.8,
             "#7fbc41"
            ],
            [
             0.9,
             "#4d9221"
            ],
            [
             1,
             "#276419"
            ]
           ],
           "sequential": [
            [
             0,
             "#0d0887"
            ],
            [
             0.1111111111111111,
             "#46039f"
            ],
            [
             0.2222222222222222,
             "#7201a8"
            ],
            [
             0.3333333333333333,
             "#9c179e"
            ],
            [
             0.4444444444444444,
             "#bd3786"
            ],
            [
             0.5555555555555556,
             "#d8576b"
            ],
            [
             0.6666666666666666,
             "#ed7953"
            ],
            [
             0.7777777777777778,
             "#fb9f3a"
            ],
            [
             0.8888888888888888,
             "#fdca26"
            ],
            [
             1,
             "#f0f921"
            ]
           ],
           "sequentialminus": [
            [
             0,
             "#0d0887"
            ],
            [
             0.1111111111111111,
             "#46039f"
            ],
            [
             0.2222222222222222,
             "#7201a8"
            ],
            [
             0.3333333333333333,
             "#9c179e"
            ],
            [
             0.4444444444444444,
             "#bd3786"
            ],
            [
             0.5555555555555556,
             "#d8576b"
            ],
            [
             0.6666666666666666,
             "#ed7953"
            ],
            [
             0.7777777777777778,
             "#fb9f3a"
            ],
            [
             0.8888888888888888,
             "#fdca26"
            ],
            [
             1,
             "#f0f921"
            ]
           ]
          },
          "colorway": [
           "#636efa",
           "#EF553B",
           "#00cc96",
           "#ab63fa",
           "#FFA15A",
           "#19d3f3",
           "#FF6692",
           "#B6E880",
           "#FF97FF",
           "#FECB52"
          ],
          "font": {
           "color": "#2a3f5f"
          },
          "geo": {
           "bgcolor": "white",
           "lakecolor": "white",
           "landcolor": "#E5ECF6",
           "showlakes": true,
           "showland": true,
           "subunitcolor": "white"
          },
          "hoverlabel": {
           "align": "left"
          },
          "hovermode": "closest",
          "mapbox": {
           "style": "light"
          },
          "paper_bgcolor": "white",
          "plot_bgcolor": "#E5ECF6",
          "polar": {
           "angularaxis": {
            "gridcolor": "white",
            "linecolor": "white",
            "ticks": ""
           },
           "bgcolor": "#E5ECF6",
           "radialaxis": {
            "gridcolor": "white",
            "linecolor": "white",
            "ticks": ""
           }
          },
          "scene": {
           "xaxis": {
            "backgroundcolor": "#E5ECF6",
            "gridcolor": "white",
            "gridwidth": 2,
            "linecolor": "white",
            "showbackground": true,
            "ticks": "",
            "zerolinecolor": "white"
           },
           "yaxis": {
            "backgroundcolor": "#E5ECF6",
            "gridcolor": "white",
            "gridwidth": 2,
            "linecolor": "white",
            "showbackground": true,
            "ticks": "",
            "zerolinecolor": "white"
           },
           "zaxis": {
            "backgroundcolor": "#E5ECF6",
            "gridcolor": "white",
            "gridwidth": 2,
            "linecolor": "white",
            "showbackground": true,
            "ticks": "",
            "zerolinecolor": "white"
           }
          },
          "shapedefaults": {
           "line": {
            "color": "#2a3f5f"
           }
          },
          "ternary": {
           "aaxis": {
            "gridcolor": "white",
            "linecolor": "white",
            "ticks": ""
           },
           "baxis": {
            "gridcolor": "white",
            "linecolor": "white",
            "ticks": ""
           },
           "bgcolor": "#E5ECF6",
           "caxis": {
            "gridcolor": "white",
            "linecolor": "white",
            "ticks": ""
           }
          },
          "title": {
           "x": 0.05
          },
          "xaxis": {
           "automargin": true,
           "gridcolor": "white",
           "linecolor": "white",
           "ticks": "",
           "title": {
            "standoff": 15
           },
           "zerolinecolor": "white",
           "zerolinewidth": 2
          },
          "yaxis": {
           "automargin": true,
           "gridcolor": "white",
           "linecolor": "white",
           "ticks": "",
           "title": {
            "standoff": 15
           },
           "zerolinecolor": "white",
           "zerolinewidth": 2
          }
         }
        },
        "title": {
         "text": "Plot Title"
        },
        "xaxis": {
         "title": {
          "text": "Denoising options"
         }
        },
        "yaxis": {
         "title": {
          "text": "R squared"
         }
        }
       }
      },
      "text/html": [
       "<div>                            <div id=\"638eb095-06fb-412f-8896-b5d1dce97781\" class=\"plotly-graph-div\" style=\"height:525px; width:100%;\"></div>            <script type=\"text/javascript\">                require([\"plotly\"], function(Plotly) {                    window.PLOTLYENV=window.PLOTLYENV || {};                                    if (document.getElementById(\"638eb095-06fb-412f-8896-b5d1dce97781\")) {                    Plotly.newPlot(                        \"638eb095-06fb-412f-8896-b5d1dce97781\",                        [{\"error_y\":{\"array\":[0.0038815939259353727,0.01835727728348782,0.049354971190305574,0.04980067073561542,0.0038102380854085904,0.04364090377891536,0.045886892343570074,0.04651032143436182,0.04174204430468187,0.0411572314039253,0.04901170960040019],\"type\":\"data\"},\"name\":\"Denoising\",\"x\":[\"csf_csfonly\",\"moco\",\"cc\",\"moco_cc\",\"pnm_cardonly\",\"pnm_responly\",\"pnm\",\"csf_pnm\",\"pnm_moco\",\"csf_pnm_moco\",\"csf_pnm_moco_cc\"],\"y\":[0.004913629268650965,0.017044464101260925,0.05095647497507222,0.06511878697616291,0.022828650096471725,0.0541584811458064,0.1128362038009098,0.11810069048469019,0.12742749424576955,0.13239714772980193,0.1527342386833518],\"type\":\"bar\"}],                        {\"template\":{\"data\":{\"histogram2dcontour\":[{\"type\":\"histogram2dcontour\",\"colorbar\":{\"outlinewidth\":0,\"ticks\":\"\"},\"colorscale\":[[0.0,\"#0d0887\"],[0.1111111111111111,\"#46039f\"],[0.2222222222222222,\"#7201a8\"],[0.3333333333333333,\"#9c179e\"],[0.4444444444444444,\"#bd3786\"],[0.5555555555555556,\"#d8576b\"],[0.6666666666666666,\"#ed7953\"],[0.7777777777777778,\"#fb9f3a\"],[0.8888888888888888,\"#fdca26\"],[1.0,\"#f0f921\"]]}],\"choropleth\":[{\"type\":\"choropleth\",\"colorbar\":{\"outlinewidth\":0,\"ticks\":\"\"}}],\"histogram2d\":[{\"type\":\"histogram2d\",\"colorbar\":{\"outlinewidth\":0,\"ticks\":\"\"},\"colorscale\":[[0.0,\"#0d0887\"],[0.1111111111111111,\"#46039f\"],[0.2222222222222222,\"#7201a8\"],[0.3333333333333333,\"#9c179e\"],[0.4444444444444444,\"#bd3786\"],[0.5555555555555556,\"#d8576b\"],[0.6666666666666666,\"#ed7953\"],[0.7777777777777778,\"#fb9f3a\"],[0.8888888888888888,\"#fdca26\"],[1.0,\"#f0f921\"]]}],\"heatmap\":[{\"type\":\"heatmap\",\"colorbar\":{\"outlinewidth\":0,\"ticks\":\"\"},\"colorscale\":[[0.0,\"#0d0887\"],[0.1111111111111111,\"#46039f\"],[0.2222222222222222,\"#7201a8\"],[0.3333333333333333,\"#9c179e\"],[0.4444444444444444,\"#bd3786\"],[0.5555555555555556,\"#d8576b\"],[0.6666666666666666,\"#ed7953\"],[0.7777777777777778,\"#fb9f3a\"],[0.8888888888888888,\"#fdca26\"],[1.0,\"#f0f921\"]]}],\"heatmapgl\":[{\"type\":\"heatmapgl\",\"colorbar\":{\"outlinewidth\":0,\"ticks\":\"\"},\"colorscale\":[[0.0,\"#0d0887\"],[0.1111111111111111,\"#46039f\"],[0.2222222222222222,\"#7201a8\"],[0.3333333333333333,\"#9c179e\"],[0.4444444444444444,\"#bd3786\"],[0.5555555555555556,\"#d8576b\"],[0.6666666666666666,\"#ed7953\"],[0.7777777777777778,\"#fb9f3a\"],[0.8888888888888888,\"#fdca26\"],[1.0,\"#f0f921\"]]}],\"contourcarpet\":[{\"type\":\"contourcarpet\",\"colorbar\":{\"outlinewidth\":0,\"ticks\":\"\"}}],\"contour\":[{\"type\":\"contour\",\"colorbar\":{\"outlinewidth\":0,\"ticks\":\"\"},\"colorscale\":[[0.0,\"#0d0887\"],[0.1111111111111111,\"#46039f\"],[0.2222222222222222,\"#7201a8\"],[0.3333333333333333,\"#9c179e\"],[0.4444444444444444,\"#bd3786\"],[0.5555555555555556,\"#d8576b\"],[0.6666666666666666,\"#ed7953\"],[0.7777777777777778,\"#fb9f3a\"],[0.8888888888888888,\"#fdca26\"],[1.0,\"#f0f921\"]]}],\"surface\":[{\"type\":\"surface\",\"colorbar\":{\"outlinewidth\":0,\"ticks\":\"\"},\"colorscale\":[[0.0,\"#0d0887\"],[0.1111111111111111,\"#46039f\"],[0.2222222222222222,\"#7201a8\"],[0.3333333333333333,\"#9c179e\"],[0.4444444444444444,\"#bd3786\"],[0.5555555555555556,\"#d8576b\"],[0.6666666666666666,\"#ed7953\"],[0.7777777777777778,\"#fb9f3a\"],[0.8888888888888888,\"#fdca26\"],[1.0,\"#f0f921\"]]}],\"mesh3d\":[{\"type\":\"mesh3d\",\"colorbar\":{\"outlinewidth\":0,\"ticks\":\"\"}}],\"scatter\":[{\"fillpattern\":{\"fillmode\":\"overlay\",\"size\":10,\"solidity\":0.2},\"type\":\"scatter\"}],\"parcoords\":[{\"type\":\"parcoords\",\"line\":{\"colorbar\":{\"outlinewidth\":0,\"ticks\":\"\"}}}],\"scatterpolargl\":[{\"type\":\"scatterpolargl\",\"marker\":{\"colorbar\":{\"outlinewidth\":0,\"ticks\":\"\"}}}],\"bar\":[{\"error_x\":{\"color\":\"#2a3f5f\"},\"error_y\":{\"color\":\"#2a3f5f\"},\"marker\":{\"line\":{\"color\":\"#E5ECF6\",\"width\":0.5},\"pattern\":{\"fillmode\":\"overlay\",\"size\":10,\"solidity\":0.2}},\"type\":\"bar\"}],\"scattergeo\":[{\"type\":\"scattergeo\",\"marker\":{\"colorbar\":{\"outlinewidth\":0,\"ticks\":\"\"}}}],\"scatterpolar\":[{\"type\":\"scatterpolar\",\"marker\":{\"colorbar\":{\"outlinewidth\":0,\"ticks\":\"\"}}}],\"histogram\":[{\"marker\":{\"pattern\":{\"fillmode\":\"overlay\",\"size\":10,\"solidity\":0.2}},\"type\":\"histogram\"}],\"scattergl\":[{\"type\":\"scattergl\",\"marker\":{\"colorbar\":{\"outlinewidth\":0,\"ticks\":\"\"}}}],\"scatter3d\":[{\"type\":\"scatter3d\",\"line\":{\"colorbar\":{\"outlinewidth\":0,\"ticks\":\"\"}},\"marker\":{\"colorbar\":{\"outlinewidth\":0,\"ticks\":\"\"}}}],\"scattermapbox\":[{\"type\":\"scattermapbox\",\"marker\":{\"colorbar\":{\"outlinewidth\":0,\"ticks\":\"\"}}}],\"scatterternary\":[{\"type\":\"scatterternary\",\"marker\":{\"colorbar\":{\"outlinewidth\":0,\"ticks\":\"\"}}}],\"scattercarpet\":[{\"type\":\"scattercarpet\",\"marker\":{\"colorbar\":{\"outlinewidth\":0,\"ticks\":\"\"}}}],\"carpet\":[{\"aaxis\":{\"endlinecolor\":\"#2a3f5f\",\"gridcolor\":\"white\",\"linecolor\":\"white\",\"minorgridcolor\":\"white\",\"startlinecolor\":\"#2a3f5f\"},\"baxis\":{\"endlinecolor\":\"#2a3f5f\",\"gridcolor\":\"white\",\"linecolor\":\"white\",\"minorgridcolor\":\"white\",\"startlinecolor\":\"#2a3f5f\"},\"type\":\"carpet\"}],\"table\":[{\"cells\":{\"fill\":{\"color\":\"#EBF0F8\"},\"line\":{\"color\":\"white\"}},\"header\":{\"fill\":{\"color\":\"#C8D4E3\"},\"line\":{\"color\":\"white\"}},\"type\":\"table\"}],\"barpolar\":[{\"marker\":{\"line\":{\"color\":\"#E5ECF6\",\"width\":0.5},\"pattern\":{\"fillmode\":\"overlay\",\"size\":10,\"solidity\":0.2}},\"type\":\"barpolar\"}],\"pie\":[{\"automargin\":true,\"type\":\"pie\"}]},\"layout\":{\"autotypenumbers\":\"strict\",\"colorway\":[\"#636efa\",\"#EF553B\",\"#00cc96\",\"#ab63fa\",\"#FFA15A\",\"#19d3f3\",\"#FF6692\",\"#B6E880\",\"#FF97FF\",\"#FECB52\"],\"font\":{\"color\":\"#2a3f5f\"},\"hovermode\":\"closest\",\"hoverlabel\":{\"align\":\"left\"},\"paper_bgcolor\":\"white\",\"plot_bgcolor\":\"#E5ECF6\",\"polar\":{\"bgcolor\":\"#E5ECF6\",\"angularaxis\":{\"gridcolor\":\"white\",\"linecolor\":\"white\",\"ticks\":\"\"},\"radialaxis\":{\"gridcolor\":\"white\",\"linecolor\":\"white\",\"ticks\":\"\"}},\"ternary\":{\"bgcolor\":\"#E5ECF6\",\"aaxis\":{\"gridcolor\":\"white\",\"linecolor\":\"white\",\"ticks\":\"\"},\"baxis\":{\"gridcolor\":\"white\",\"linecolor\":\"white\",\"ticks\":\"\"},\"caxis\":{\"gridcolor\":\"white\",\"linecolor\":\"white\",\"ticks\":\"\"}},\"coloraxis\":{\"colorbar\":{\"outlinewidth\":0,\"ticks\":\"\"}},\"colorscale\":{\"sequential\":[[0.0,\"#0d0887\"],[0.1111111111111111,\"#46039f\"],[0.2222222222222222,\"#7201a8\"],[0.3333333333333333,\"#9c179e\"],[0.4444444444444444,\"#bd3786\"],[0.5555555555555556,\"#d8576b\"],[0.6666666666666666,\"#ed7953\"],[0.7777777777777778,\"#fb9f3a\"],[0.8888888888888888,\"#fdca26\"],[1.0,\"#f0f921\"]],\"sequentialminus\":[[0.0,\"#0d0887\"],[0.1111111111111111,\"#46039f\"],[0.2222222222222222,\"#7201a8\"],[0.3333333333333333,\"#9c179e\"],[0.4444444444444444,\"#bd3786\"],[0.5555555555555556,\"#d8576b\"],[0.6666666666666666,\"#ed7953\"],[0.7777777777777778,\"#fb9f3a\"],[0.8888888888888888,\"#fdca26\"],[1.0,\"#f0f921\"]],\"diverging\":[[0,\"#8e0152\"],[0.1,\"#c51b7d\"],[0.2,\"#de77ae\"],[0.3,\"#f1b6da\"],[0.4,\"#fde0ef\"],[0.5,\"#f7f7f7\"],[0.6,\"#e6f5d0\"],[0.7,\"#b8e186\"],[0.8,\"#7fbc41\"],[0.9,\"#4d9221\"],[1,\"#276419\"]]},\"xaxis\":{\"gridcolor\":\"white\",\"linecolor\":\"white\",\"ticks\":\"\",\"title\":{\"standoff\":15},\"zerolinecolor\":\"white\",\"automargin\":true,\"zerolinewidth\":2},\"yaxis\":{\"gridcolor\":\"white\",\"linecolor\":\"white\",\"ticks\":\"\",\"title\":{\"standoff\":15},\"zerolinecolor\":\"white\",\"automargin\":true,\"zerolinewidth\":2},\"scene\":{\"xaxis\":{\"backgroundcolor\":\"#E5ECF6\",\"gridcolor\":\"white\",\"linecolor\":\"white\",\"showbackground\":true,\"ticks\":\"\",\"zerolinecolor\":\"white\",\"gridwidth\":2},\"yaxis\":{\"backgroundcolor\":\"#E5ECF6\",\"gridcolor\":\"white\",\"linecolor\":\"white\",\"showbackground\":true,\"ticks\":\"\",\"zerolinecolor\":\"white\",\"gridwidth\":2},\"zaxis\":{\"backgroundcolor\":\"#E5ECF6\",\"gridcolor\":\"white\",\"linecolor\":\"white\",\"showbackground\":true,\"ticks\":\"\",\"zerolinecolor\":\"white\",\"gridwidth\":2}},\"shapedefaults\":{\"line\":{\"color\":\"#2a3f5f\"}},\"annotationdefaults\":{\"arrowcolor\":\"#2a3f5f\",\"arrowhead\":0,\"arrowwidth\":1},\"geo\":{\"bgcolor\":\"white\",\"landcolor\":\"#E5ECF6\",\"subunitcolor\":\"white\",\"showland\":true,\"showlakes\":true,\"lakecolor\":\"white\"},\"title\":{\"x\":0.05},\"mapbox\":{\"style\":\"light\"}}},\"title\":{\"text\":\"Plot Title\"},\"xaxis\":{\"title\":{\"text\":\"Denoising options\"}},\"yaxis\":{\"title\":{\"text\":\"R squared\"}}},                        {\"responsive\": true}                    ).then(function(){\n",
       "                            \n",
       "var gd = document.getElementById('638eb095-06fb-412f-8896-b5d1dce97781');\n",
       "var x = new MutationObserver(function (mutations, observer) {{\n",
       "        var display = window.getComputedStyle(gd).display;\n",
       "        if (!display || display === 'none') {{\n",
       "            console.log([gd, 'removed!']);\n",
       "            Plotly.purge(gd);\n",
       "            observer.disconnect();\n",
       "        }}\n",
       "}});\n",
       "\n",
       "// Listen for the removal of the full notebook cells\n",
       "var notebookContainer = gd.closest('#notebook-container');\n",
       "if (notebookContainer) {{\n",
       "    x.observe(notebookContainer, {childList: true});\n",
       "}}\n",
       "\n",
       "// Listen for the clearing of the current output cell\n",
       "var outputEl = gd.closest('.output');\n",
       "if (outputEl) {{\n",
       "    x.observe(outputEl, {childList: true});\n",
       "}}\n",
       "\n",
       "                        })                };                });            </script>        </div>"
      ]
     },
     "metadata": {},
     "output_type": "display_data"
    }
   ],
   "source": [
    "fig = go.Figure()\n",
    "fig.add_trace(go.Bar(\n",
    "    name='Denoising',\n",
    "    x=labels, y=median_rsquared,\n",
    "    error_y=dict(type='data', array=errors)\n",
    "))\n",
    "\n",
    "fig.update_layout(\n",
    "    title=\"Plot Title\",\n",
    "    xaxis_title=\"Denoising options\",\n",
    "    yaxis_title=\"R squared\")\n",
    "\n",
    "# fig.add_trace(go.Bar(\n",
    "#     name='Experimental',\n",
    "#     x=['Trial 1', 'Trial 2', 'Trial 3'], y=[4, 7, 3],\n",
    "#     error_y=dict(type='data', array=[0.5, 1, 2])\n",
    "# ))\n",
    "# fig.update_layout(barmode='group')\n",
    "fig.show()\n",
    "fig.write_html(f\"Outputs_paper_figures/{tempfilt}_rsquared.html\")"
   ]
  },
  {
   "cell_type": "code",
   "execution_count": 157,
   "id": "e2f3f79c",
   "metadata": {},
   "outputs": [],
   "source": [
    "fig.write_image(f\"Outputs_paper_figures/{tempfilt}_rsquared.png\")"
   ]
  },
  {
   "cell_type": "code",
   "execution_count": 158,
   "id": "4d592ea6",
   "metadata": {},
   "outputs": [
    {
     "data": {
      "application/vnd.plotly.v1+json": {
       "config": {
        "plotlyServerURL": "https://plot.ly"
       },
       "data": [
        {
         "boxpoints": "all",
         "fillcolor": "rgba(157, 252, 160, 0.5)",
         "line": {
          "width": 1
         },
         "marker": {
          "size": 4
         },
         "name": "csf_csfonly",
         "type": "box",
         "whiskerwidth": 0.2,
         "y": [
          0.01588575462560471,
          0.021195513799847743,
          0.006051647249516567,
          0.0028263622851626424,
          0.00327629924490791,
          0.005057771188159754,
          0.0012163635993014399,
          0.00811060968111399,
          0.0038003571893779897,
          0.012595146920436173,
          0.008093244442230807,
          0.004579411488033869,
          0.006252123962527278,
          0.0029361791601998366,
          0.00856398145538706,
          0.0068608243713457195,
          0.0029385758772798587,
          0.004857999679742209,
          0.0033307454494020394,
          0.004098811346180398,
          -0.3283566946555676,
          0.004969258857559722,
          0.0063484921755408985,
          0.0032910142025395217
         ]
        },
        {
         "boxpoints": "all",
         "fillcolor": "rgba(231, 55, 40, 0.5)",
         "line": {
          "width": 1
         },
         "marker": {
          "size": 4
         },
         "name": "moco",
         "type": "box",
         "whiskerwidth": 0.2,
         "y": [
          0.022910743359868535,
          0.036252981260819994,
          0.037834897568079784,
          0.015047661953863645,
          0.04893602643086836,
          0.014925701383555312,
          0.013648079099831456,
          0.08632864978490884,
          0.012494652889692537,
          0.03076192523262211,
          0.017319362435151975,
          0.016769565767369876,
          0.016268397042695226,
          0.016259924251699087,
          0.01831830990903216,
          0.01373106072633723,
          0.045139366766675404,
          0.057804930489192,
          0.01967396836561852,
          0.004997082825137,
          0.014622051733114039,
          0.009437699301457325,
          0.03179574484519898,
          0.014344951463123534
         ]
        },
        {
         "boxpoints": "all",
         "fillcolor": "rgba(231, 243, 150, 0.5)",
         "line": {
          "width": 1
         },
         "marker": {
          "size": 4
         },
         "name": "cc",
         "type": "box",
         "whiskerwidth": 0.2,
         "y": [
          0.059201157458250164,
          0.0811474551753022,
          0.11129061905948678,
          0.030902705405973396,
          0.09034942726264572,
          0.10780616699114365,
          0.034723549605318316,
          0.15247887302072272,
          0.052816233876666896,
          0.082701417641599,
          0.04226851244241292,
          0.04909671607347754,
          0.03357297149345784,
          0.016542985765532037,
          0.03603300568706869,
          0.08005942952083112,
          0.07505148658744998,
          0.11192273184444967,
          0.0190165348074669,
          0.01744253240994087,
          0.060549212763290394,
          0.03260706433343663,
          0.01993708544895223,
          0.022582532190347115
         ]
        },
        {
         "boxpoints": "all",
         "fillcolor": "rgba(196, 102, 26, 0.5)",
         "line": {
          "width": 1
         },
         "marker": {
          "size": 4
         },
         "name": "moco_cc",
         "type": "box",
         "whiskerwidth": 0.2,
         "y": [
          0.07325474507882501,
          0.09228317458666202,
          0.12095006973002154,
          0.039520191274127536,
          0.10892958261854835,
          0.11556125262321759,
          0.04360494253768077,
          0.1762738066683014,
          0.06557510896465635,
          0.09268817806964547,
          0.05546467404122124,
          0.06466246498766948,
          0.048202515270905355,
          0.031739220411756475,
          0.04852422904214926,
          0.0909804900261374,
          0.09033180357912263,
          0.13056904613247788,
          0.03762619216690066,
          0.02201125147451144,
          0.06874245745253593,
          0.038610783552675,
          0.04907579456900102,
          0.03680021969261349
         ]
        },
        {
         "boxpoints": "all",
         "fillcolor": "rgba(113, 250, 219, 0.5)",
         "line": {
          "width": 1
         },
         "marker": {
          "size": 4
         },
         "name": "pnm_cardonly",
         "type": "box",
         "whiskerwidth": 0.2,
         "y": [
          0.01874616010302499,
          0.02202987399580314,
          0.024508878321048533,
          0.02185497692463112,
          0.023501117232632596,
          0.0245670264237543,
          0.0193898225145821,
          0.026252352916011357,
          0.024723413106127246,
          0.01988093482242559,
          0.022305244204199104,
          0.03195944750548596,
          0.029488885361657058,
          0.02288322499850115,
          0.0227740751944423,
          0.03752006102455496,
          0.023290447302865447,
          0.022293628826633882,
          0.02111856448554239,
          0.0195730652107301,
          0.030867912776417428,
          0.020550893835904138,
          0.024977300315783935,
          0.015167768831470307
         ]
        },
        {
         "boxpoints": "all",
         "fillcolor": "rgba(9, 221, 31, 0.5)",
         "line": {
          "width": 1
         },
         "marker": {
          "size": 4
         },
         "name": "pnm_responly",
         "type": "box",
         "whiskerwidth": 0.2,
         "y": [
          0.0651753506412821,
          0.06115046642984878,
          0.11411921555819127,
          0.04270441667812086,
          0.09309788369388305,
          0.12627422260235743,
          0.03637435368207187,
          0.13205222668440986,
          0.05660085292791439,
          0.051716109363698415,
          0.06020850608684791,
          0.03682787027372525,
          0.03802600311783155,
          0.027011627011570116,
          0.050577799578199856,
          0.07371056584955482,
          0.07610789864167533,
          0.09825340795275861,
          0.049696920247814136,
          0.0262239379711402,
          0.0970001539647587,
          0.027398089140238002,
          0.02260692927793495,
          0.028962700337629488
         ]
        },
        {
         "boxpoints": "all",
         "fillcolor": "rgba(28, 88, 191, 0.5)",
         "line": {
          "width": 1
         },
         "marker": {
          "size": 4
         },
         "name": "pnm",
         "type": "box",
         "whiskerwidth": 0.2,
         "y": [
          0.1252422568705931,
          0.11950985752327259,
          0.18101636392536902,
          0.10273430728465605,
          0.1534729166193305,
          0.18794134050630928,
          0.09132172552068418,
          0.18735629044428315,
          0.11394889709546574,
          0.10622899489677962,
          0.1199415231922748,
          0.10266859189982358,
          0.10300436376444155,
          0.08752162073475744,
          0.10585624339111799,
          0.14353697243692243,
          0.13141783174217414,
          0.1558971722327276,
          0.11172351050635387,
          0.08069721268402219,
          0.152778853930836,
          0.08444690461515802,
          0.09183642616785226,
          0.08482504738597263
         ]
        },
        {
         "boxpoints": "all",
         "fillcolor": "rgba(179, 58, 37, 0.5)",
         "line": {
          "width": 1
         },
         "marker": {
          "size": 4
         },
         "name": "csf_pnm",
         "type": "box",
         "whiskerwidth": 0.2,
         "y": [
          0.1291642489859316,
          0.13542558088640555,
          0.18631259483567664,
          0.10593700641235715,
          0.15583258235570252,
          0.193021974151103,
          0.09277541895032326,
          0.19434617649271035,
          0.11688236874423663,
          0.11931901222514374,
          0.1261388744072841,
          0.10691198579507077,
          0.10900731761991211,
          0.09081797759878774,
          0.11016344185960036,
          0.14900092817022936,
          0.1352810145034543,
          0.16117399593011228,
          0.11548268173495002,
          0.08442969471243145,
          0.1544971650439223,
          0.08824553121992251,
          0.09764764458009167,
          0.08806135884427901
         ]
        },
        {
         "boxpoints": "all",
         "fillcolor": "rgba(72, 149, 174, 0.5)",
         "line": {
          "width": 1
         },
         "marker": {
          "size": 4
         },
         "name": "pnm_moco",
         "type": "box",
         "whiskerwidth": 0.2,
         "y": [
          0.13468881003789035,
          0.14158986885346603,
          0.18822883871498508,
          0.11157985842897777,
          0.1699066152492973,
          0.19477284641412906,
          0.09883186032428914,
          0.20734344453100173,
          0.12382383580225975,
          0.1341333326129054,
          0.13092582561453403,
          0.11422087843685458,
          0.11099491957221341,
          0.09980890333434345,
          0.1139115120310813,
          0.15128021011341686,
          0.14176799454143696,
          0.1805889747691225,
          0.12392916287700506,
          0.08543918494026193,
          0.15886204173762364,
          0.09110369362414794,
          0.11327725039165615,
          0.09250592996807394
         ]
        },
        {
         "boxpoints": "all",
         "fillcolor": "rgba(175, 152, 7, 0.5)",
         "line": {
          "width": 1
         },
         "marker": {
          "size": 4
         },
         "name": "csf_pnm_moco",
         "type": "box",
         "whiskerwidth": 0.2,
         "y": [
          0.13868658568466563,
          0.15155051948975218,
          0.1928797026070238,
          0.11473698858950332,
          0.17196994544787825,
          0.19978466146033846,
          0.09994276997669072,
          0.21261957443107227,
          0.12641204495168923,
          0.1415877440510822,
          0.13684520447006232,
          0.11854703785096798,
          0.11764798297516554,
          0.10269108104247038,
          0.11818793636602987,
          0.1572063463046044,
          0.1451931735053834,
          0.1854080691608857,
          0.12794909098954155,
          0.0893726185728313,
          0.16069082421688796,
          0.09476615628877694,
          0.11881439235638869,
          0.09592053310042947
         ]
        },
        {
         "boxpoints": "all",
         "fillcolor": "rgba(177, 49, 79, 0.5)",
         "line": {
          "width": 1
         },
         "marker": {
          "size": 4
         },
         "name": "csf_pnm_moco_cc",
         "type": "box",
         "whiskerwidth": 0.2,
         "y": [
          0.1558838516257216,
          0.1809265719677482,
          0.21309613435174923,
          0.13284646553342372,
          0.19261060468517033,
          0.22313926087336455,
          0.12084312836544153,
          0.2568872987939066,
          0.14970809205154623,
          0.18463996564318486,
          0.15576038531515735,
          0.14762193961398318,
          0.1346243516059421,
          0.12043879220671772,
          0.13283344654455753,
          0.1808425162659959,
          0.1750718682923631,
          0.2168360385806114,
          0.1468636107614859,
          0.10733902696150521,
          0.1740046466618521,
          0.1154997606483602,
          0.13368213232495263,
          0.11523237875705794
         ]
        }
       ],
       "layout": {
        "margin": {
         "b": 80,
         "l": 40,
         "r": 30,
         "t": 100
        },
        "paper_bgcolor": "rgb(243, 243, 243)",
        "plot_bgcolor": "rgb(243, 243, 243)",
        "showlegend": false,
        "template": {
         "data": {
          "bar": [
           {
            "error_x": {
             "color": "#2a3f5f"
            },
            "error_y": {
             "color": "#2a3f5f"
            },
            "marker": {
             "line": {
              "color": "#E5ECF6",
              "width": 0.5
             },
             "pattern": {
              "fillmode": "overlay",
              "size": 10,
              "solidity": 0.2
             }
            },
            "type": "bar"
           }
          ],
          "barpolar": [
           {
            "marker": {
             "line": {
              "color": "#E5ECF6",
              "width": 0.5
             },
             "pattern": {
              "fillmode": "overlay",
              "size": 10,
              "solidity": 0.2
             }
            },
            "type": "barpolar"
           }
          ],
          "carpet": [
           {
            "aaxis": {
             "endlinecolor": "#2a3f5f",
             "gridcolor": "white",
             "linecolor": "white",
             "minorgridcolor": "white",
             "startlinecolor": "#2a3f5f"
            },
            "baxis": {
             "endlinecolor": "#2a3f5f",
             "gridcolor": "white",
             "linecolor": "white",
             "minorgridcolor": "white",
             "startlinecolor": "#2a3f5f"
            },
            "type": "carpet"
           }
          ],
          "choropleth": [
           {
            "colorbar": {
             "outlinewidth": 0,
             "ticks": ""
            },
            "type": "choropleth"
           }
          ],
          "contour": [
           {
            "colorbar": {
             "outlinewidth": 0,
             "ticks": ""
            },
            "colorscale": [
             [
              0,
              "#0d0887"
             ],
             [
              0.1111111111111111,
              "#46039f"
             ],
             [
              0.2222222222222222,
              "#7201a8"
             ],
             [
              0.3333333333333333,
              "#9c179e"
             ],
             [
              0.4444444444444444,
              "#bd3786"
             ],
             [
              0.5555555555555556,
              "#d8576b"
             ],
             [
              0.6666666666666666,
              "#ed7953"
             ],
             [
              0.7777777777777778,
              "#fb9f3a"
             ],
             [
              0.8888888888888888,
              "#fdca26"
             ],
             [
              1,
              "#f0f921"
             ]
            ],
            "type": "contour"
           }
          ],
          "contourcarpet": [
           {
            "colorbar": {
             "outlinewidth": 0,
             "ticks": ""
            },
            "type": "contourcarpet"
           }
          ],
          "heatmap": [
           {
            "colorbar": {
             "outlinewidth": 0,
             "ticks": ""
            },
            "colorscale": [
             [
              0,
              "#0d0887"
             ],
             [
              0.1111111111111111,
              "#46039f"
             ],
             [
              0.2222222222222222,
              "#7201a8"
             ],
             [
              0.3333333333333333,
              "#9c179e"
             ],
             [
              0.4444444444444444,
              "#bd3786"
             ],
             [
              0.5555555555555556,
              "#d8576b"
             ],
             [
              0.6666666666666666,
              "#ed7953"
             ],
             [
              0.7777777777777778,
              "#fb9f3a"
             ],
             [
              0.8888888888888888,
              "#fdca26"
             ],
             [
              1,
              "#f0f921"
             ]
            ],
            "type": "heatmap"
           }
          ],
          "heatmapgl": [
           {
            "colorbar": {
             "outlinewidth": 0,
             "ticks": ""
            },
            "colorscale": [
             [
              0,
              "#0d0887"
             ],
             [
              0.1111111111111111,
              "#46039f"
             ],
             [
              0.2222222222222222,
              "#7201a8"
             ],
             [
              0.3333333333333333,
              "#9c179e"
             ],
             [
              0.4444444444444444,
              "#bd3786"
             ],
             [
              0.5555555555555556,
              "#d8576b"
             ],
             [
              0.6666666666666666,
              "#ed7953"
             ],
             [
              0.7777777777777778,
              "#fb9f3a"
             ],
             [
              0.8888888888888888,
              "#fdca26"
             ],
             [
              1,
              "#f0f921"
             ]
            ],
            "type": "heatmapgl"
           }
          ],
          "histogram": [
           {
            "marker": {
             "pattern": {
              "fillmode": "overlay",
              "size": 10,
              "solidity": 0.2
             }
            },
            "type": "histogram"
           }
          ],
          "histogram2d": [
           {
            "colorbar": {
             "outlinewidth": 0,
             "ticks": ""
            },
            "colorscale": [
             [
              0,
              "#0d0887"
             ],
             [
              0.1111111111111111,
              "#46039f"
             ],
             [
              0.2222222222222222,
              "#7201a8"
             ],
             [
              0.3333333333333333,
              "#9c179e"
             ],
             [
              0.4444444444444444,
              "#bd3786"
             ],
             [
              0.5555555555555556,
              "#d8576b"
             ],
             [
              0.6666666666666666,
              "#ed7953"
             ],
             [
              0.7777777777777778,
              "#fb9f3a"
             ],
             [
              0.8888888888888888,
              "#fdca26"
             ],
             [
              1,
              "#f0f921"
             ]
            ],
            "type": "histogram2d"
           }
          ],
          "histogram2dcontour": [
           {
            "colorbar": {
             "outlinewidth": 0,
             "ticks": ""
            },
            "colorscale": [
             [
              0,
              "#0d0887"
             ],
             [
              0.1111111111111111,
              "#46039f"
             ],
             [
              0.2222222222222222,
              "#7201a8"
             ],
             [
              0.3333333333333333,
              "#9c179e"
             ],
             [
              0.4444444444444444,
              "#bd3786"
             ],
             [
              0.5555555555555556,
              "#d8576b"
             ],
             [
              0.6666666666666666,
              "#ed7953"
             ],
             [
              0.7777777777777778,
              "#fb9f3a"
             ],
             [
              0.8888888888888888,
              "#fdca26"
             ],
             [
              1,
              "#f0f921"
             ]
            ],
            "type": "histogram2dcontour"
           }
          ],
          "mesh3d": [
           {
            "colorbar": {
             "outlinewidth": 0,
             "ticks": ""
            },
            "type": "mesh3d"
           }
          ],
          "parcoords": [
           {
            "line": {
             "colorbar": {
              "outlinewidth": 0,
              "ticks": ""
             }
            },
            "type": "parcoords"
           }
          ],
          "pie": [
           {
            "automargin": true,
            "type": "pie"
           }
          ],
          "scatter": [
           {
            "fillpattern": {
             "fillmode": "overlay",
             "size": 10,
             "solidity": 0.2
            },
            "type": "scatter"
           }
          ],
          "scatter3d": [
           {
            "line": {
             "colorbar": {
              "outlinewidth": 0,
              "ticks": ""
             }
            },
            "marker": {
             "colorbar": {
              "outlinewidth": 0,
              "ticks": ""
             }
            },
            "type": "scatter3d"
           }
          ],
          "scattercarpet": [
           {
            "marker": {
             "colorbar": {
              "outlinewidth": 0,
              "ticks": ""
             }
            },
            "type": "scattercarpet"
           }
          ],
          "scattergeo": [
           {
            "marker": {
             "colorbar": {
              "outlinewidth": 0,
              "ticks": ""
             }
            },
            "type": "scattergeo"
           }
          ],
          "scattergl": [
           {
            "marker": {
             "colorbar": {
              "outlinewidth": 0,
              "ticks": ""
             }
            },
            "type": "scattergl"
           }
          ],
          "scattermapbox": [
           {
            "marker": {
             "colorbar": {
              "outlinewidth": 0,
              "ticks": ""
             }
            },
            "type": "scattermapbox"
           }
          ],
          "scatterpolar": [
           {
            "marker": {
             "colorbar": {
              "outlinewidth": 0,
              "ticks": ""
             }
            },
            "type": "scatterpolar"
           }
          ],
          "scatterpolargl": [
           {
            "marker": {
             "colorbar": {
              "outlinewidth": 0,
              "ticks": ""
             }
            },
            "type": "scatterpolargl"
           }
          ],
          "scatterternary": [
           {
            "marker": {
             "colorbar": {
              "outlinewidth": 0,
              "ticks": ""
             }
            },
            "type": "scatterternary"
           }
          ],
          "surface": [
           {
            "colorbar": {
             "outlinewidth": 0,
             "ticks": ""
            },
            "colorscale": [
             [
              0,
              "#0d0887"
             ],
             [
              0.1111111111111111,
              "#46039f"
             ],
             [
              0.2222222222222222,
              "#7201a8"
             ],
             [
              0.3333333333333333,
              "#9c179e"
             ],
             [
              0.4444444444444444,
              "#bd3786"
             ],
             [
              0.5555555555555556,
              "#d8576b"
             ],
             [
              0.6666666666666666,
              "#ed7953"
             ],
             [
              0.7777777777777778,
              "#fb9f3a"
             ],
             [
              0.8888888888888888,
              "#fdca26"
             ],
             [
              1,
              "#f0f921"
             ]
            ],
            "type": "surface"
           }
          ],
          "table": [
           {
            "cells": {
             "fill": {
              "color": "#EBF0F8"
             },
             "line": {
              "color": "white"
             }
            },
            "header": {
             "fill": {
              "color": "#C8D4E3"
             },
             "line": {
              "color": "white"
             }
            },
            "type": "table"
           }
          ]
         },
         "layout": {
          "annotationdefaults": {
           "arrowcolor": "#2a3f5f",
           "arrowhead": 0,
           "arrowwidth": 1
          },
          "autotypenumbers": "strict",
          "coloraxis": {
           "colorbar": {
            "outlinewidth": 0,
            "ticks": ""
           }
          },
          "colorscale": {
           "diverging": [
            [
             0,
             "#8e0152"
            ],
            [
             0.1,
             "#c51b7d"
            ],
            [
             0.2,
             "#de77ae"
            ],
            [
             0.3,
             "#f1b6da"
            ],
            [
             0.4,
             "#fde0ef"
            ],
            [
             0.5,
             "#f7f7f7"
            ],
            [
             0.6,
             "#e6f5d0"
            ],
            [
             0.7,
             "#b8e186"
            ],
            [
             0.8,
             "#7fbc41"
            ],
            [
             0.9,
             "#4d9221"
            ],
            [
             1,
             "#276419"
            ]
           ],
           "sequential": [
            [
             0,
             "#0d0887"
            ],
            [
             0.1111111111111111,
             "#46039f"
            ],
            [
             0.2222222222222222,
             "#7201a8"
            ],
            [
             0.3333333333333333,
             "#9c179e"
            ],
            [
             0.4444444444444444,
             "#bd3786"
            ],
            [
             0.5555555555555556,
             "#d8576b"
            ],
            [
             0.6666666666666666,
             "#ed7953"
            ],
            [
             0.7777777777777778,
             "#fb9f3a"
            ],
            [
             0.8888888888888888,
             "#fdca26"
            ],
            [
             1,
             "#f0f921"
            ]
           ],
           "sequentialminus": [
            [
             0,
             "#0d0887"
            ],
            [
             0.1111111111111111,
             "#46039f"
            ],
            [
             0.2222222222222222,
             "#7201a8"
            ],
            [
             0.3333333333333333,
             "#9c179e"
            ],
            [
             0.4444444444444444,
             "#bd3786"
            ],
            [
             0.5555555555555556,
             "#d8576b"
            ],
            [
             0.6666666666666666,
             "#ed7953"
            ],
            [
             0.7777777777777778,
             "#fb9f3a"
            ],
            [
             0.8888888888888888,
             "#fdca26"
            ],
            [
             1,
             "#f0f921"
            ]
           ]
          },
          "colorway": [
           "#636efa",
           "#EF553B",
           "#00cc96",
           "#ab63fa",
           "#FFA15A",
           "#19d3f3",
           "#FF6692",
           "#B6E880",
           "#FF97FF",
           "#FECB52"
          ],
          "font": {
           "color": "#2a3f5f"
          },
          "geo": {
           "bgcolor": "white",
           "lakecolor": "white",
           "landcolor": "#E5ECF6",
           "showlakes": true,
           "showland": true,
           "subunitcolor": "white"
          },
          "hoverlabel": {
           "align": "left"
          },
          "hovermode": "closest",
          "mapbox": {
           "style": "light"
          },
          "paper_bgcolor": "white",
          "plot_bgcolor": "#E5ECF6",
          "polar": {
           "angularaxis": {
            "gridcolor": "white",
            "linecolor": "white",
            "ticks": ""
           },
           "bgcolor": "#E5ECF6",
           "radialaxis": {
            "gridcolor": "white",
            "linecolor": "white",
            "ticks": ""
           }
          },
          "scene": {
           "xaxis": {
            "backgroundcolor": "#E5ECF6",
            "gridcolor": "white",
            "gridwidth": 2,
            "linecolor": "white",
            "showbackground": true,
            "ticks": "",
            "zerolinecolor": "white"
           },
           "yaxis": {
            "backgroundcolor": "#E5ECF6",
            "gridcolor": "white",
            "gridwidth": 2,
            "linecolor": "white",
            "showbackground": true,
            "ticks": "",
            "zerolinecolor": "white"
           },
           "zaxis": {
            "backgroundcolor": "#E5ECF6",
            "gridcolor": "white",
            "gridwidth": 2,
            "linecolor": "white",
            "showbackground": true,
            "ticks": "",
            "zerolinecolor": "white"
           }
          },
          "shapedefaults": {
           "line": {
            "color": "#2a3f5f"
           }
          },
          "ternary": {
           "aaxis": {
            "gridcolor": "white",
            "linecolor": "white",
            "ticks": ""
           },
           "baxis": {
            "gridcolor": "white",
            "linecolor": "white",
            "ticks": ""
           },
           "bgcolor": "#E5ECF6",
           "caxis": {
            "gridcolor": "white",
            "linecolor": "white",
            "ticks": ""
           }
          },
          "title": {
           "x": 0.05
          },
          "xaxis": {
           "automargin": true,
           "gridcolor": "white",
           "linecolor": "white",
           "ticks": "",
           "title": {
            "standoff": 15
           },
           "zerolinecolor": "white",
           "zerolinewidth": 2
          },
          "yaxis": {
           "automargin": true,
           "gridcolor": "white",
           "linecolor": "white",
           "ticks": "",
           "title": {
            "standoff": 15
           },
           "zerolinecolor": "white",
           "zerolinewidth": 2
          }
         }
        },
        "title": {
         "text": "Variance explained"
        },
        "yaxis": {
         "gridcolor": "rgb(255, 255, 255)",
         "gridwidth": 1,
         "showgrid": true,
         "tickcolor": "black",
         "title": {
          "text": "R2"
         },
         "zeroline": true,
         "zerolinecolor": "rgb(255, 255, 255)",
         "zerolinewidth": 2
        }
       }
      },
      "text/html": [
       "<div>                            <div id=\"cda8e429-5e37-4e57-b610-a464bcbf656e\" class=\"plotly-graph-div\" style=\"height:525px; width:100%;\"></div>            <script type=\"text/javascript\">                require([\"plotly\"], function(Plotly) {                    window.PLOTLYENV=window.PLOTLYENV || {};                                    if (document.getElementById(\"cda8e429-5e37-4e57-b610-a464bcbf656e\")) {                    Plotly.newPlot(                        \"cda8e429-5e37-4e57-b610-a464bcbf656e\",                        [{\"boxpoints\":\"all\",\"fillcolor\":\"rgba(157, 252, 160, 0.5)\",\"line\":{\"width\":1},\"marker\":{\"size\":4},\"name\":\"csf_csfonly\",\"whiskerwidth\":0.2,\"y\":[0.01588575462560471,0.021195513799847743,0.006051647249516567,0.0028263622851626424,0.00327629924490791,0.005057771188159754,0.0012163635993014399,0.00811060968111399,0.0038003571893779897,0.012595146920436173,0.008093244442230807,0.004579411488033869,0.006252123962527278,0.0029361791601998366,0.00856398145538706,0.0068608243713457195,0.0029385758772798587,0.004857999679742209,0.0033307454494020394,0.004098811346180398,-0.3283566946555676,0.004969258857559722,0.0063484921755408985,0.0032910142025395217],\"type\":\"box\"},{\"boxpoints\":\"all\",\"fillcolor\":\"rgba(231, 55, 40, 0.5)\",\"line\":{\"width\":1},\"marker\":{\"size\":4},\"name\":\"moco\",\"whiskerwidth\":0.2,\"y\":[0.022910743359868535,0.036252981260819994,0.037834897568079784,0.015047661953863645,0.04893602643086836,0.014925701383555312,0.013648079099831456,0.08632864978490884,0.012494652889692537,0.03076192523262211,0.017319362435151975,0.016769565767369876,0.016268397042695226,0.016259924251699087,0.01831830990903216,0.01373106072633723,0.045139366766675404,0.057804930489192,0.01967396836561852,0.004997082825137,0.014622051733114039,0.009437699301457325,0.03179574484519898,0.014344951463123534],\"type\":\"box\"},{\"boxpoints\":\"all\",\"fillcolor\":\"rgba(231, 243, 150, 0.5)\",\"line\":{\"width\":1},\"marker\":{\"size\":4},\"name\":\"cc\",\"whiskerwidth\":0.2,\"y\":[0.059201157458250164,0.0811474551753022,0.11129061905948678,0.030902705405973396,0.09034942726264572,0.10780616699114365,0.034723549605318316,0.15247887302072272,0.052816233876666896,0.082701417641599,0.04226851244241292,0.04909671607347754,0.03357297149345784,0.016542985765532037,0.03603300568706869,0.08005942952083112,0.07505148658744998,0.11192273184444967,0.0190165348074669,0.01744253240994087,0.060549212763290394,0.03260706433343663,0.01993708544895223,0.022582532190347115],\"type\":\"box\"},{\"boxpoints\":\"all\",\"fillcolor\":\"rgba(196, 102, 26, 0.5)\",\"line\":{\"width\":1},\"marker\":{\"size\":4},\"name\":\"moco_cc\",\"whiskerwidth\":0.2,\"y\":[0.07325474507882501,0.09228317458666202,0.12095006973002154,0.039520191274127536,0.10892958261854835,0.11556125262321759,0.04360494253768077,0.1762738066683014,0.06557510896465635,0.09268817806964547,0.05546467404122124,0.06466246498766948,0.048202515270905355,0.031739220411756475,0.04852422904214926,0.0909804900261374,0.09033180357912263,0.13056904613247788,0.03762619216690066,0.02201125147451144,0.06874245745253593,0.038610783552675,0.04907579456900102,0.03680021969261349],\"type\":\"box\"},{\"boxpoints\":\"all\",\"fillcolor\":\"rgba(113, 250, 219, 0.5)\",\"line\":{\"width\":1},\"marker\":{\"size\":4},\"name\":\"pnm_cardonly\",\"whiskerwidth\":0.2,\"y\":[0.01874616010302499,0.02202987399580314,0.024508878321048533,0.02185497692463112,0.023501117232632596,0.0245670264237543,0.0193898225145821,0.026252352916011357,0.024723413106127246,0.01988093482242559,0.022305244204199104,0.03195944750548596,0.029488885361657058,0.02288322499850115,0.0227740751944423,0.03752006102455496,0.023290447302865447,0.022293628826633882,0.02111856448554239,0.0195730652107301,0.030867912776417428,0.020550893835904138,0.024977300315783935,0.015167768831470307],\"type\":\"box\"},{\"boxpoints\":\"all\",\"fillcolor\":\"rgba(9, 221, 31, 0.5)\",\"line\":{\"width\":1},\"marker\":{\"size\":4},\"name\":\"pnm_responly\",\"whiskerwidth\":0.2,\"y\":[0.0651753506412821,0.06115046642984878,0.11411921555819127,0.04270441667812086,0.09309788369388305,0.12627422260235743,0.03637435368207187,0.13205222668440986,0.05660085292791439,0.051716109363698415,0.06020850608684791,0.03682787027372525,0.03802600311783155,0.027011627011570116,0.050577799578199856,0.07371056584955482,0.07610789864167533,0.09825340795275861,0.049696920247814136,0.0262239379711402,0.0970001539647587,0.027398089140238002,0.02260692927793495,0.028962700337629488],\"type\":\"box\"},{\"boxpoints\":\"all\",\"fillcolor\":\"rgba(28, 88, 191, 0.5)\",\"line\":{\"width\":1},\"marker\":{\"size\":4},\"name\":\"pnm\",\"whiskerwidth\":0.2,\"y\":[0.1252422568705931,0.11950985752327259,0.18101636392536902,0.10273430728465605,0.1534729166193305,0.18794134050630928,0.09132172552068418,0.18735629044428315,0.11394889709546574,0.10622899489677962,0.1199415231922748,0.10266859189982358,0.10300436376444155,0.08752162073475744,0.10585624339111799,0.14353697243692243,0.13141783174217414,0.1558971722327276,0.11172351050635387,0.08069721268402219,0.152778853930836,0.08444690461515802,0.09183642616785226,0.08482504738597263],\"type\":\"box\"},{\"boxpoints\":\"all\",\"fillcolor\":\"rgba(179, 58, 37, 0.5)\",\"line\":{\"width\":1},\"marker\":{\"size\":4},\"name\":\"csf_pnm\",\"whiskerwidth\":0.2,\"y\":[0.1291642489859316,0.13542558088640555,0.18631259483567664,0.10593700641235715,0.15583258235570252,0.193021974151103,0.09277541895032326,0.19434617649271035,0.11688236874423663,0.11931901222514374,0.1261388744072841,0.10691198579507077,0.10900731761991211,0.09081797759878774,0.11016344185960036,0.14900092817022936,0.1352810145034543,0.16117399593011228,0.11548268173495002,0.08442969471243145,0.1544971650439223,0.08824553121992251,0.09764764458009167,0.08806135884427901],\"type\":\"box\"},{\"boxpoints\":\"all\",\"fillcolor\":\"rgba(72, 149, 174, 0.5)\",\"line\":{\"width\":1},\"marker\":{\"size\":4},\"name\":\"pnm_moco\",\"whiskerwidth\":0.2,\"y\":[0.13468881003789035,0.14158986885346603,0.18822883871498508,0.11157985842897777,0.1699066152492973,0.19477284641412906,0.09883186032428914,0.20734344453100173,0.12382383580225975,0.1341333326129054,0.13092582561453403,0.11422087843685458,0.11099491957221341,0.09980890333434345,0.1139115120310813,0.15128021011341686,0.14176799454143696,0.1805889747691225,0.12392916287700506,0.08543918494026193,0.15886204173762364,0.09110369362414794,0.11327725039165615,0.09250592996807394],\"type\":\"box\"},{\"boxpoints\":\"all\",\"fillcolor\":\"rgba(175, 152, 7, 0.5)\",\"line\":{\"width\":1},\"marker\":{\"size\":4},\"name\":\"csf_pnm_moco\",\"whiskerwidth\":0.2,\"y\":[0.13868658568466563,0.15155051948975218,0.1928797026070238,0.11473698858950332,0.17196994544787825,0.19978466146033846,0.09994276997669072,0.21261957443107227,0.12641204495168923,0.1415877440510822,0.13684520447006232,0.11854703785096798,0.11764798297516554,0.10269108104247038,0.11818793636602987,0.1572063463046044,0.1451931735053834,0.1854080691608857,0.12794909098954155,0.0893726185728313,0.16069082421688796,0.09476615628877694,0.11881439235638869,0.09592053310042947],\"type\":\"box\"},{\"boxpoints\":\"all\",\"fillcolor\":\"rgba(177, 49, 79, 0.5)\",\"line\":{\"width\":1},\"marker\":{\"size\":4},\"name\":\"csf_pnm_moco_cc\",\"whiskerwidth\":0.2,\"y\":[0.1558838516257216,0.1809265719677482,0.21309613435174923,0.13284646553342372,0.19261060468517033,0.22313926087336455,0.12084312836544153,0.2568872987939066,0.14970809205154623,0.18463996564318486,0.15576038531515735,0.14762193961398318,0.1346243516059421,0.12043879220671772,0.13283344654455753,0.1808425162659959,0.1750718682923631,0.2168360385806114,0.1468636107614859,0.10733902696150521,0.1740046466618521,0.1154997606483602,0.13368213232495263,0.11523237875705794],\"type\":\"box\"}],                        {\"template\":{\"data\":{\"histogram2dcontour\":[{\"type\":\"histogram2dcontour\",\"colorbar\":{\"outlinewidth\":0,\"ticks\":\"\"},\"colorscale\":[[0.0,\"#0d0887\"],[0.1111111111111111,\"#46039f\"],[0.2222222222222222,\"#7201a8\"],[0.3333333333333333,\"#9c179e\"],[0.4444444444444444,\"#bd3786\"],[0.5555555555555556,\"#d8576b\"],[0.6666666666666666,\"#ed7953\"],[0.7777777777777778,\"#fb9f3a\"],[0.8888888888888888,\"#fdca26\"],[1.0,\"#f0f921\"]]}],\"choropleth\":[{\"type\":\"choropleth\",\"colorbar\":{\"outlinewidth\":0,\"ticks\":\"\"}}],\"histogram2d\":[{\"type\":\"histogram2d\",\"colorbar\":{\"outlinewidth\":0,\"ticks\":\"\"},\"colorscale\":[[0.0,\"#0d0887\"],[0.1111111111111111,\"#46039f\"],[0.2222222222222222,\"#7201a8\"],[0.3333333333333333,\"#9c179e\"],[0.4444444444444444,\"#bd3786\"],[0.5555555555555556,\"#d8576b\"],[0.6666666666666666,\"#ed7953\"],[0.7777777777777778,\"#fb9f3a\"],[0.8888888888888888,\"#fdca26\"],[1.0,\"#f0f921\"]]}],\"heatmap\":[{\"type\":\"heatmap\",\"colorbar\":{\"outlinewidth\":0,\"ticks\":\"\"},\"colorscale\":[[0.0,\"#0d0887\"],[0.1111111111111111,\"#46039f\"],[0.2222222222222222,\"#7201a8\"],[0.3333333333333333,\"#9c179e\"],[0.4444444444444444,\"#bd3786\"],[0.5555555555555556,\"#d8576b\"],[0.6666666666666666,\"#ed7953\"],[0.7777777777777778,\"#fb9f3a\"],[0.8888888888888888,\"#fdca26\"],[1.0,\"#f0f921\"]]}],\"heatmapgl\":[{\"type\":\"heatmapgl\",\"colorbar\":{\"outlinewidth\":0,\"ticks\":\"\"},\"colorscale\":[[0.0,\"#0d0887\"],[0.1111111111111111,\"#46039f\"],[0.2222222222222222,\"#7201a8\"],[0.3333333333333333,\"#9c179e\"],[0.4444444444444444,\"#bd3786\"],[0.5555555555555556,\"#d8576b\"],[0.6666666666666666,\"#ed7953\"],[0.7777777777777778,\"#fb9f3a\"],[0.8888888888888888,\"#fdca26\"],[1.0,\"#f0f921\"]]}],\"contourcarpet\":[{\"type\":\"contourcarpet\",\"colorbar\":{\"outlinewidth\":0,\"ticks\":\"\"}}],\"contour\":[{\"type\":\"contour\",\"colorbar\":{\"outlinewidth\":0,\"ticks\":\"\"},\"colorscale\":[[0.0,\"#0d0887\"],[0.1111111111111111,\"#46039f\"],[0.2222222222222222,\"#7201a8\"],[0.3333333333333333,\"#9c179e\"],[0.4444444444444444,\"#bd3786\"],[0.5555555555555556,\"#d8576b\"],[0.6666666666666666,\"#ed7953\"],[0.7777777777777778,\"#fb9f3a\"],[0.8888888888888888,\"#fdca26\"],[1.0,\"#f0f921\"]]}],\"surface\":[{\"type\":\"surface\",\"colorbar\":{\"outlinewidth\":0,\"ticks\":\"\"},\"colorscale\":[[0.0,\"#0d0887\"],[0.1111111111111111,\"#46039f\"],[0.2222222222222222,\"#7201a8\"],[0.3333333333333333,\"#9c179e\"],[0.4444444444444444,\"#bd3786\"],[0.5555555555555556,\"#d8576b\"],[0.6666666666666666,\"#ed7953\"],[0.7777777777777778,\"#fb9f3a\"],[0.8888888888888888,\"#fdca26\"],[1.0,\"#f0f921\"]]}],\"mesh3d\":[{\"type\":\"mesh3d\",\"colorbar\":{\"outlinewidth\":0,\"ticks\":\"\"}}],\"scatter\":[{\"fillpattern\":{\"fillmode\":\"overlay\",\"size\":10,\"solidity\":0.2},\"type\":\"scatter\"}],\"parcoords\":[{\"type\":\"parcoords\",\"line\":{\"colorbar\":{\"outlinewidth\":0,\"ticks\":\"\"}}}],\"scatterpolargl\":[{\"type\":\"scatterpolargl\",\"marker\":{\"colorbar\":{\"outlinewidth\":0,\"ticks\":\"\"}}}],\"bar\":[{\"error_x\":{\"color\":\"#2a3f5f\"},\"error_y\":{\"color\":\"#2a3f5f\"},\"marker\":{\"line\":{\"color\":\"#E5ECF6\",\"width\":0.5},\"pattern\":{\"fillmode\":\"overlay\",\"size\":10,\"solidity\":0.2}},\"type\":\"bar\"}],\"scattergeo\":[{\"type\":\"scattergeo\",\"marker\":{\"colorbar\":{\"outlinewidth\":0,\"ticks\":\"\"}}}],\"scatterpolar\":[{\"type\":\"scatterpolar\",\"marker\":{\"colorbar\":{\"outlinewidth\":0,\"ticks\":\"\"}}}],\"histogram\":[{\"marker\":{\"pattern\":{\"fillmode\":\"overlay\",\"size\":10,\"solidity\":0.2}},\"type\":\"histogram\"}],\"scattergl\":[{\"type\":\"scattergl\",\"marker\":{\"colorbar\":{\"outlinewidth\":0,\"ticks\":\"\"}}}],\"scatter3d\":[{\"type\":\"scatter3d\",\"line\":{\"colorbar\":{\"outlinewidth\":0,\"ticks\":\"\"}},\"marker\":{\"colorbar\":{\"outlinewidth\":0,\"ticks\":\"\"}}}],\"scattermapbox\":[{\"type\":\"scattermapbox\",\"marker\":{\"colorbar\":{\"outlinewidth\":0,\"ticks\":\"\"}}}],\"scatterternary\":[{\"type\":\"scatterternary\",\"marker\":{\"colorbar\":{\"outlinewidth\":0,\"ticks\":\"\"}}}],\"scattercarpet\":[{\"type\":\"scattercarpet\",\"marker\":{\"colorbar\":{\"outlinewidth\":0,\"ticks\":\"\"}}}],\"carpet\":[{\"aaxis\":{\"endlinecolor\":\"#2a3f5f\",\"gridcolor\":\"white\",\"linecolor\":\"white\",\"minorgridcolor\":\"white\",\"startlinecolor\":\"#2a3f5f\"},\"baxis\":{\"endlinecolor\":\"#2a3f5f\",\"gridcolor\":\"white\",\"linecolor\":\"white\",\"minorgridcolor\":\"white\",\"startlinecolor\":\"#2a3f5f\"},\"type\":\"carpet\"}],\"table\":[{\"cells\":{\"fill\":{\"color\":\"#EBF0F8\"},\"line\":{\"color\":\"white\"}},\"header\":{\"fill\":{\"color\":\"#C8D4E3\"},\"line\":{\"color\":\"white\"}},\"type\":\"table\"}],\"barpolar\":[{\"marker\":{\"line\":{\"color\":\"#E5ECF6\",\"width\":0.5},\"pattern\":{\"fillmode\":\"overlay\",\"size\":10,\"solidity\":0.2}},\"type\":\"barpolar\"}],\"pie\":[{\"automargin\":true,\"type\":\"pie\"}]},\"layout\":{\"autotypenumbers\":\"strict\",\"colorway\":[\"#636efa\",\"#EF553B\",\"#00cc96\",\"#ab63fa\",\"#FFA15A\",\"#19d3f3\",\"#FF6692\",\"#B6E880\",\"#FF97FF\",\"#FECB52\"],\"font\":{\"color\":\"#2a3f5f\"},\"hovermode\":\"closest\",\"hoverlabel\":{\"align\":\"left\"},\"paper_bgcolor\":\"white\",\"plot_bgcolor\":\"#E5ECF6\",\"polar\":{\"bgcolor\":\"#E5ECF6\",\"angularaxis\":{\"gridcolor\":\"white\",\"linecolor\":\"white\",\"ticks\":\"\"},\"radialaxis\":{\"gridcolor\":\"white\",\"linecolor\":\"white\",\"ticks\":\"\"}},\"ternary\":{\"bgcolor\":\"#E5ECF6\",\"aaxis\":{\"gridcolor\":\"white\",\"linecolor\":\"white\",\"ticks\":\"\"},\"baxis\":{\"gridcolor\":\"white\",\"linecolor\":\"white\",\"ticks\":\"\"},\"caxis\":{\"gridcolor\":\"white\",\"linecolor\":\"white\",\"ticks\":\"\"}},\"coloraxis\":{\"colorbar\":{\"outlinewidth\":0,\"ticks\":\"\"}},\"colorscale\":{\"sequential\":[[0.0,\"#0d0887\"],[0.1111111111111111,\"#46039f\"],[0.2222222222222222,\"#7201a8\"],[0.3333333333333333,\"#9c179e\"],[0.4444444444444444,\"#bd3786\"],[0.5555555555555556,\"#d8576b\"],[0.6666666666666666,\"#ed7953\"],[0.7777777777777778,\"#fb9f3a\"],[0.8888888888888888,\"#fdca26\"],[1.0,\"#f0f921\"]],\"sequentialminus\":[[0.0,\"#0d0887\"],[0.1111111111111111,\"#46039f\"],[0.2222222222222222,\"#7201a8\"],[0.3333333333333333,\"#9c179e\"],[0.4444444444444444,\"#bd3786\"],[0.5555555555555556,\"#d8576b\"],[0.6666666666666666,\"#ed7953\"],[0.7777777777777778,\"#fb9f3a\"],[0.8888888888888888,\"#fdca26\"],[1.0,\"#f0f921\"]],\"diverging\":[[0,\"#8e0152\"],[0.1,\"#c51b7d\"],[0.2,\"#de77ae\"],[0.3,\"#f1b6da\"],[0.4,\"#fde0ef\"],[0.5,\"#f7f7f7\"],[0.6,\"#e6f5d0\"],[0.7,\"#b8e186\"],[0.8,\"#7fbc41\"],[0.9,\"#4d9221\"],[1,\"#276419\"]]},\"xaxis\":{\"gridcolor\":\"white\",\"linecolor\":\"white\",\"ticks\":\"\",\"title\":{\"standoff\":15},\"zerolinecolor\":\"white\",\"automargin\":true,\"zerolinewidth\":2},\"yaxis\":{\"gridcolor\":\"white\",\"linecolor\":\"white\",\"ticks\":\"\",\"title\":{\"standoff\":15},\"zerolinecolor\":\"white\",\"automargin\":true,\"zerolinewidth\":2},\"scene\":{\"xaxis\":{\"backgroundcolor\":\"#E5ECF6\",\"gridcolor\":\"white\",\"linecolor\":\"white\",\"showbackground\":true,\"ticks\":\"\",\"zerolinecolor\":\"white\",\"gridwidth\":2},\"yaxis\":{\"backgroundcolor\":\"#E5ECF6\",\"gridcolor\":\"white\",\"linecolor\":\"white\",\"showbackground\":true,\"ticks\":\"\",\"zerolinecolor\":\"white\",\"gridwidth\":2},\"zaxis\":{\"backgroundcolor\":\"#E5ECF6\",\"gridcolor\":\"white\",\"linecolor\":\"white\",\"showbackground\":true,\"ticks\":\"\",\"zerolinecolor\":\"white\",\"gridwidth\":2}},\"shapedefaults\":{\"line\":{\"color\":\"#2a3f5f\"}},\"annotationdefaults\":{\"arrowcolor\":\"#2a3f5f\",\"arrowhead\":0,\"arrowwidth\":1},\"geo\":{\"bgcolor\":\"white\",\"landcolor\":\"#E5ECF6\",\"subunitcolor\":\"white\",\"showland\":true,\"showlakes\":true,\"lakecolor\":\"white\"},\"title\":{\"x\":0.05},\"mapbox\":{\"style\":\"light\"}}},\"yaxis\":{\"showgrid\":true,\"zeroline\":true,\"tickcolor\":\"black\",\"gridcolor\":\"rgb(255, 255, 255)\",\"gridwidth\":1,\"zerolinecolor\":\"rgb(255, 255, 255)\",\"zerolinewidth\":2,\"title\":{\"text\":\"R2\"}},\"margin\":{\"l\":40,\"r\":30,\"b\":80,\"t\":100},\"title\":{\"text\":\"Variance explained\"},\"paper_bgcolor\":\"rgb(243, 243, 243)\",\"plot_bgcolor\":\"rgb(243, 243, 243)\",\"showlegend\":false},                        {\"responsive\": true}                    ).then(function(){\n",
       "                            \n",
       "var gd = document.getElementById('cda8e429-5e37-4e57-b610-a464bcbf656e');\n",
       "var x = new MutationObserver(function (mutations, observer) {{\n",
       "        var display = window.getComputedStyle(gd).display;\n",
       "        if (!display || display === 'none') {{\n",
       "            console.log([gd, 'removed!']);\n",
       "            Plotly.purge(gd);\n",
       "            observer.disconnect();\n",
       "        }}\n",
       "}});\n",
       "\n",
       "// Listen for the removal of the full notebook cells\n",
       "var notebookContainer = gd.closest('#notebook-container');\n",
       "if (notebookContainer) {{\n",
       "    x.observe(notebookContainer, {childList: true});\n",
       "}}\n",
       "\n",
       "// Listen for the clearing of the current output cell\n",
       "var outputEl = gd.closest('.output');\n",
       "if (outputEl) {{\n",
       "    x.observe(outputEl, {childList: true});\n",
       "}}\n",
       "\n",
       "                        })                };                });            </script>        </div>"
      ]
     },
     "metadata": {},
     "output_type": "display_data"
    }
   ],
   "source": [
    "y_data = list(options_sigma_subs.values())\n",
    "x_data = labels\n",
    "colors = []\n",
    "for i in range(len(options_sigma_subs)):\n",
    "    colors.append(f'rgba({randrange(255)}, {randrange(255)}, {randrange(255)}, 0.5)')\n",
    "\n",
    "fig = go.Figure()\n",
    "\n",
    "for xd, yd, cls in zip(x_data, y_data, colors):\n",
    "        fig.add_trace(go.Box(\n",
    "            y=yd,\n",
    "            name=xd,\n",
    "            boxpoints='all',\n",
    "            #jitter=0.5,\n",
    "            whiskerwidth=0.2,\n",
    "            fillcolor=cls,\n",
    "            marker_size=4,\n",
    "            line_width=1)\n",
    "        )\n",
    "\n",
    "fig.update_layout(\n",
    "    title='Variance explained',\n",
    "    yaxis=dict(\n",
    "#         autorange=True,\n",
    "         showgrid=True,\n",
    "        zeroline=True,\n",
    "#        dtick=5,\n",
    "        tickcolor='black',\n",
    "        gridcolor='rgb(255, 255, 255)',\n",
    "        gridwidth=1,\n",
    "        zerolinecolor='rgb(255, 255, 255)',\n",
    "        zerolinewidth=2,\n",
    "        title= \"R2\"\n",
    "    ),\n",
    "    margin=dict(\n",
    "        l=40,\n",
    "        r=30,\n",
    "        b=80,\n",
    "        t=100,\n",
    "    ),\n",
    "    paper_bgcolor='rgb(243, 243, 243)',\n",
    "    plot_bgcolor='rgb(243, 243, 243)',\n",
    "    showlegend=False\n",
    ")\n",
    "\n",
    "fig.show()\n",
    "#fig.write_html(f\"Outputs_paper_figures/{tempfilt}_distrsub_rsquared.html\")"
   ]
  },
  {
   "cell_type": "code",
   "execution_count": 159,
   "id": "dc7a7a3c",
   "metadata": {},
   "outputs": [],
   "source": [
    "fig.write_image(f\"Outputs_paper_figures/{tempfilt}_distrsub_rsquared.png\")"
   ]
  },
  {
   "cell_type": "code",
   "execution_count": 160,
   "id": "4ac972ef",
   "metadata": {},
   "outputs": [],
   "source": [
    "denoising_names_r2=[]\n",
    "for o in options_for_r2:\n",
    "    denoising_names_r2.append(get_option_foldername(o))"
   ]
  },
  {
   "cell_type": "code",
   "execution_count": 350,
   "id": "e048167a",
   "metadata": {},
   "outputs": [
    {
     "name": "stdout",
     "output_type": "stream",
     "text": [
      "1_csf_csfonly_stc : 0.00491362926865095 +- IQR : 0.9851919767694657\n",
      "2_moco_stc : 0.01704446410126085 +- IQR : 1.0814216870250135\n",
      "3_cc_stc : 0.05095647497507215 +- IQR : 1.0992394608078584\n",
      "4_moco_cc_stc : 0.06511878697616286 +- IQR : 1.3466230939416306\n",
      "5_pnm_cardonly_stc : 0.022828650096471698 +- IQR : 1.3328004575827546\n",
      "6_pnm_responly_stc : 0.05415848114580635 +- IQR : 1.1898225004022773\n",
      "7_pnm_stc : 0.11283620380090975 +- IQR : 1.086029342641952\n",
      "8_csf_pnm_stc : 0.11810069048469016 +- IQR : 1.2237999783664133\n",
      "9_pnm_moco_stc : 0.1274274942457695 +- IQR : 1.2869572304602954\n",
      "10_csf_pnm_moco_stc : 0.13239714772980188 +- IQR : 1.2385992142140054\n",
      "11_csf_pnm_moco_cc_stc : 0.15273423868335173 +- IQR : 1.311803139608271\n"
     ]
    }
   ],
   "source": [
    "rss_bp = pd.read_csv('Outputs_paper_data/BP13_RSS_st.csv',header=0,index_col=0,delimiter=\",\")\n",
    "\n",
    "for i,val in enumerate(rss_bp.median()):\n",
    "    print(f\"{denoising_names_r2[i]} : {val} +- IQR : {errors[i]}\")\n"
   ]
  },
  {
   "cell_type": "code",
   "execution_count": 374,
   "id": "5fc21d79",
   "metadata": {},
   "outputs": [
    {
     "data": {
      "text/plain": [
       "(0.026342091327204685, 0.12445097154573245)"
      ]
     },
     "execution_count": 374,
     "metadata": {},
     "output_type": "execute_result"
    }
   ],
   "source": [
    "IQR(rss_bp['6_pnm_responly_stc'].values)"
   ]
  },
  {
   "cell_type": "code",
   "execution_count": 334,
   "id": "98ca2d85",
   "metadata": {},
   "outputs": [
    {
     "data": {
      "text/html": [
       "<div>\n",
       "<style scoped>\n",
       "    .dataframe tbody tr th:only-of-type {\n",
       "        vertical-align: middle;\n",
       "    }\n",
       "\n",
       "    .dataframe tbody tr th {\n",
       "        vertical-align: top;\n",
       "    }\n",
       "\n",
       "    .dataframe thead th {\n",
       "        text-align: right;\n",
       "    }\n",
       "</style>\n",
       "<table border=\"1\" class=\"dataframe\">\n",
       "  <thead>\n",
       "    <tr style=\"text-align: right;\">\n",
       "      <th></th>\n",
       "      <th>1_csfonly</th>\n",
       "      <th>2_moco</th>\n",
       "      <th>3_cc</th>\n",
       "      <th>4_moco_cc</th>\n",
       "      <th>5_pnm_cardonly</th>\n",
       "      <th>6_pnm_responly</th>\n",
       "      <th>7_pnm</th>\n",
       "      <th>8_pnm_csf</th>\n",
       "      <th>9_pnm_moco</th>\n",
       "      <th>10_pnm_csf_moco</th>\n",
       "      <th>11_pnm_csf_moco_cc</th>\n",
       "    </tr>\n",
       "  </thead>\n",
       "  <tbody>\n",
       "    <tr>\n",
       "      <th>0</th>\n",
       "      <td>0.155117</td>\n",
       "      <td>0.080664</td>\n",
       "      <td>0.153701</td>\n",
       "      <td>0.182484</td>\n",
       "      <td>-0.010094</td>\n",
       "      <td>0.225123</td>\n",
       "      <td>0.234380</td>\n",
       "      <td>0.233301</td>\n",
       "      <td>0.241357</td>\n",
       "      <td>0.240546</td>\n",
       "      <td>0.290526</td>\n",
       "    </tr>\n",
       "    <tr>\n",
       "      <th>1</th>\n",
       "      <td>0.041726</td>\n",
       "      <td>0.026561</td>\n",
       "      <td>0.146009</td>\n",
       "      <td>0.146182</td>\n",
       "      <td>0.016278</td>\n",
       "      <td>0.132034</td>\n",
       "      <td>0.257074</td>\n",
       "      <td>0.266661</td>\n",
       "      <td>0.292809</td>\n",
       "      <td>0.302025</td>\n",
       "      <td>0.307976</td>\n",
       "    </tr>\n",
       "    <tr>\n",
       "      <th>2</th>\n",
       "      <td>0.251798</td>\n",
       "      <td>0.309115</td>\n",
       "      <td>0.376980</td>\n",
       "      <td>0.385032</td>\n",
       "      <td>0.035625</td>\n",
       "      <td>0.234123</td>\n",
       "      <td>0.350695</td>\n",
       "      <td>0.508967</td>\n",
       "      <td>0.474203</td>\n",
       "      <td>0.539545</td>\n",
       "      <td>0.537382</td>\n",
       "    </tr>\n",
       "    <tr>\n",
       "      <th>3</th>\n",
       "      <td>0.022254</td>\n",
       "      <td>0.009947</td>\n",
       "      <td>0.007581</td>\n",
       "      <td>0.018879</td>\n",
       "      <td>0.037967</td>\n",
       "      <td>0.046837</td>\n",
       "      <td>0.105924</td>\n",
       "      <td>0.142345</td>\n",
       "      <td>0.153250</td>\n",
       "      <td>0.180586</td>\n",
       "      <td>0.189994</td>\n",
       "    </tr>\n",
       "    <tr>\n",
       "      <th>4</th>\n",
       "      <td>-0.001260</td>\n",
       "      <td>0.015851</td>\n",
       "      <td>0.034389</td>\n",
       "      <td>0.030859</td>\n",
       "      <td>0.011426</td>\n",
       "      <td>0.064741</td>\n",
       "      <td>0.135015</td>\n",
       "      <td>0.135213</td>\n",
       "      <td>0.156649</td>\n",
       "      <td>0.156805</td>\n",
       "      <td>0.157391</td>\n",
       "    </tr>\n",
       "    <tr>\n",
       "      <th>5</th>\n",
       "      <td>0.461090</td>\n",
       "      <td>0.304071</td>\n",
       "      <td>0.396115</td>\n",
       "      <td>0.394686</td>\n",
       "      <td>-0.000684</td>\n",
       "      <td>0.356541</td>\n",
       "      <td>0.322329</td>\n",
       "      <td>0.520579</td>\n",
       "      <td>0.374287</td>\n",
       "      <td>0.520679</td>\n",
       "      <td>0.537481</td>\n",
       "    </tr>\n",
       "    <tr>\n",
       "      <th>6</th>\n",
       "      <td>0.142972</td>\n",
       "      <td>0.034832</td>\n",
       "      <td>0.195885</td>\n",
       "      <td>0.227402</td>\n",
       "      <td>0.025445</td>\n",
       "      <td>0.146338</td>\n",
       "      <td>0.190145</td>\n",
       "      <td>0.246556</td>\n",
       "      <td>0.208858</td>\n",
       "      <td>0.260806</td>\n",
       "      <td>0.307931</td>\n",
       "    </tr>\n",
       "    <tr>\n",
       "      <th>7</th>\n",
       "      <td>0.066119</td>\n",
       "      <td>0.021422</td>\n",
       "      <td>0.221335</td>\n",
       "      <td>0.227445</td>\n",
       "      <td>0.026160</td>\n",
       "      <td>0.104440</td>\n",
       "      <td>0.188987</td>\n",
       "      <td>0.286380</td>\n",
       "      <td>0.199733</td>\n",
       "      <td>0.286193</td>\n",
       "      <td>0.352998</td>\n",
       "    </tr>\n",
       "    <tr>\n",
       "      <th>8</th>\n",
       "      <td>-0.002804</td>\n",
       "      <td>0.042698</td>\n",
       "      <td>0.013249</td>\n",
       "      <td>0.054420</td>\n",
       "      <td>-0.002983</td>\n",
       "      <td>0.049277</td>\n",
       "      <td>0.039136</td>\n",
       "      <td>0.037538</td>\n",
       "      <td>0.055521</td>\n",
       "      <td>0.057546</td>\n",
       "      <td>0.062879</td>\n",
       "    </tr>\n",
       "    <tr>\n",
       "      <th>9</th>\n",
       "      <td>0.002529</td>\n",
       "      <td>-0.001333</td>\n",
       "      <td>0.014865</td>\n",
       "      <td>0.009388</td>\n",
       "      <td>0.026750</td>\n",
       "      <td>0.105551</td>\n",
       "      <td>0.127812</td>\n",
       "      <td>0.129713</td>\n",
       "      <td>0.137734</td>\n",
       "      <td>0.143129</td>\n",
       "      <td>0.154903</td>\n",
       "    </tr>\n",
       "    <tr>\n",
       "      <th>10</th>\n",
       "      <td>0.206860</td>\n",
       "      <td>0.154280</td>\n",
       "      <td>0.205258</td>\n",
       "      <td>0.247190</td>\n",
       "      <td>0.045102</td>\n",
       "      <td>0.174510</td>\n",
       "      <td>0.259604</td>\n",
       "      <td>0.363365</td>\n",
       "      <td>0.304455</td>\n",
       "      <td>0.377463</td>\n",
       "      <td>0.414989</td>\n",
       "    </tr>\n",
       "    <tr>\n",
       "      <th>11</th>\n",
       "      <td>0.005368</td>\n",
       "      <td>0.001503</td>\n",
       "      <td>0.047264</td>\n",
       "      <td>0.043615</td>\n",
       "      <td>0.017672</td>\n",
       "      <td>0.046008</td>\n",
       "      <td>0.097711</td>\n",
       "      <td>0.115237</td>\n",
       "      <td>0.093163</td>\n",
       "      <td>0.111467</td>\n",
       "      <td>0.133079</td>\n",
       "    </tr>\n",
       "    <tr>\n",
       "      <th>12</th>\n",
       "      <td>-0.001616</td>\n",
       "      <td>0.001322</td>\n",
       "      <td>0.013573</td>\n",
       "      <td>0.019356</td>\n",
       "      <td>0.048387</td>\n",
       "      <td>0.027272</td>\n",
       "      <td>0.069438</td>\n",
       "      <td>0.067167</td>\n",
       "      <td>0.070122</td>\n",
       "      <td>0.068768</td>\n",
       "      <td>0.100455</td>\n",
       "    </tr>\n",
       "    <tr>\n",
       "      <th>13</th>\n",
       "      <td>0.032156</td>\n",
       "      <td>0.064488</td>\n",
       "      <td>0.074326</td>\n",
       "      <td>0.096183</td>\n",
       "      <td>0.001763</td>\n",
       "      <td>0.038310</td>\n",
       "      <td>0.088770</td>\n",
       "      <td>0.131046</td>\n",
       "      <td>0.136380</td>\n",
       "      <td>0.159969</td>\n",
       "      <td>0.197814</td>\n",
       "    </tr>\n",
       "    <tr>\n",
       "      <th>14</th>\n",
       "      <td>0.006367</td>\n",
       "      <td>0.004066</td>\n",
       "      <td>0.013772</td>\n",
       "      <td>0.026211</td>\n",
       "      <td>0.036418</td>\n",
       "      <td>0.019927</td>\n",
       "      <td>0.142645</td>\n",
       "      <td>0.140695</td>\n",
       "      <td>0.141773</td>\n",
       "      <td>0.139493</td>\n",
       "      <td>0.131403</td>\n",
       "    </tr>\n",
       "    <tr>\n",
       "      <th>15</th>\n",
       "      <td>0.012616</td>\n",
       "      <td>0.065504</td>\n",
       "      <td>0.030653</td>\n",
       "      <td>0.063123</td>\n",
       "      <td>0.034316</td>\n",
       "      <td>0.035269</td>\n",
       "      <td>0.141577</td>\n",
       "      <td>0.158249</td>\n",
       "      <td>0.216437</td>\n",
       "      <td>0.228999</td>\n",
       "      <td>0.228523</td>\n",
       "    </tr>\n",
       "    <tr>\n",
       "      <th>16</th>\n",
       "      <td>0.000827</td>\n",
       "      <td>0.031216</td>\n",
       "      <td>0.012117</td>\n",
       "      <td>0.036918</td>\n",
       "      <td>0.018880</td>\n",
       "      <td>0.038561</td>\n",
       "      <td>0.068794</td>\n",
       "      <td>0.076412</td>\n",
       "      <td>0.087304</td>\n",
       "      <td>0.097880</td>\n",
       "      <td>0.122625</td>\n",
       "    </tr>\n",
       "  </tbody>\n",
       "</table>\n",
       "</div>"
      ],
      "text/plain": [
       "    1_csfonly    2_moco      3_cc  4_moco_cc  5_pnm_cardonly  6_pnm_responly  \\\n",
       "0    0.155117  0.080664  0.153701   0.182484       -0.010094        0.225123   \n",
       "1    0.041726  0.026561  0.146009   0.146182        0.016278        0.132034   \n",
       "2    0.251798  0.309115  0.376980   0.385032        0.035625        0.234123   \n",
       "3    0.022254  0.009947  0.007581   0.018879        0.037967        0.046837   \n",
       "4   -0.001260  0.015851  0.034389   0.030859        0.011426        0.064741   \n",
       "5    0.461090  0.304071  0.396115   0.394686       -0.000684        0.356541   \n",
       "6    0.142972  0.034832  0.195885   0.227402        0.025445        0.146338   \n",
       "7    0.066119  0.021422  0.221335   0.227445        0.026160        0.104440   \n",
       "8   -0.002804  0.042698  0.013249   0.054420       -0.002983        0.049277   \n",
       "9    0.002529 -0.001333  0.014865   0.009388        0.026750        0.105551   \n",
       "10   0.206860  0.154280  0.205258   0.247190        0.045102        0.174510   \n",
       "11   0.005368  0.001503  0.047264   0.043615        0.017672        0.046008   \n",
       "12  -0.001616  0.001322  0.013573   0.019356        0.048387        0.027272   \n",
       "13   0.032156  0.064488  0.074326   0.096183        0.001763        0.038310   \n",
       "14   0.006367  0.004066  0.013772   0.026211        0.036418        0.019927   \n",
       "15   0.012616  0.065504  0.030653   0.063123        0.034316        0.035269   \n",
       "16   0.000827  0.031216  0.012117   0.036918        0.018880        0.038561   \n",
       "\n",
       "       7_pnm  8_pnm_csf  9_pnm_moco  10_pnm_csf_moco  11_pnm_csf_moco_cc  \n",
       "0   0.234380   0.233301    0.241357         0.240546            0.290526  \n",
       "1   0.257074   0.266661    0.292809         0.302025            0.307976  \n",
       "2   0.350695   0.508967    0.474203         0.539545            0.537382  \n",
       "3   0.105924   0.142345    0.153250         0.180586            0.189994  \n",
       "4   0.135015   0.135213    0.156649         0.156805            0.157391  \n",
       "5   0.322329   0.520579    0.374287         0.520679            0.537481  \n",
       "6   0.190145   0.246556    0.208858         0.260806            0.307931  \n",
       "7   0.188987   0.286380    0.199733         0.286193            0.352998  \n",
       "8   0.039136   0.037538    0.055521         0.057546            0.062879  \n",
       "9   0.127812   0.129713    0.137734         0.143129            0.154903  \n",
       "10  0.259604   0.363365    0.304455         0.377463            0.414989  \n",
       "11  0.097711   0.115237    0.093163         0.111467            0.133079  \n",
       "12  0.069438   0.067167    0.070122         0.068768            0.100455  \n",
       "13  0.088770   0.131046    0.136380         0.159969            0.197814  \n",
       "14  0.142645   0.140695    0.141773         0.139493            0.131403  \n",
       "15  0.141577   0.158249    0.216437         0.228999            0.228523  \n",
       "16  0.068794   0.076412    0.087304         0.097880            0.122625  "
      ]
     },
     "execution_count": 334,
     "metadata": {},
     "output_type": "execute_result"
    }
   ],
   "source": [
    "rss_bp"
   ]
  },
  {
   "cell_type": "markdown",
   "id": "c05323b5",
   "metadata": {},
   "source": [
    "### Stat differences"
   ]
  },
  {
   "cell_type": "code",
   "execution_count": 437,
   "id": "1f167cd9",
   "metadata": {},
   "outputs": [],
   "source": [
    "res_rss = {}\n",
    "for i in range(1,11):\n",
    "    tup = (i,i+1)\n",
    "    res_rss[tup] = ttest_ind(options_sigma_subs[tup[0]],options_sigma_subs[tup[1]])"
   ]
  },
  {
   "cell_type": "code",
   "execution_count": 440,
   "id": "ce6321f0",
   "metadata": {},
   "outputs": [
    {
     "data": {
      "text/plain": [
       "(array([False,  True, False,  True,  True,  True, False, False, False,\n",
       "        False]),\n",
       " array([1.49122460e-01, 1.66876760e-03, 6.28850137e-01, 1.05499436e-06,\n",
       "        6.72771633e-06, 1.05171323e-06, 8.59092454e-01, 8.59092454e-01,\n",
       "        8.59092454e-01, 1.78839737e-01]),\n",
       " 0.005116196891823743,\n",
       " 0.005)"
      ]
     },
     "execution_count": 440,
     "metadata": {},
     "output_type": "execute_result"
    }
   ],
   "source": [
    "p_vals = []\n",
    "for i, vals in res_rss.items():\n",
    "    p_vals.append(vals[1])\n",
    "\n",
    "multipletests(p_vals)"
   ]
  },
  {
   "cell_type": "code",
   "execution_count": 441,
   "id": "78180161",
   "metadata": {},
   "outputs": [
    {
     "name": "stdout",
     "output_type": "stream",
     "text": [
      "(1, 2) Ttest_indResult(statistic=-2.2916115670284674, pvalue=0.026555542505404192)\n",
      "(2, 3) Ttest_indResult(statistic=-3.985351115123411, pvalue=0.0002385660449560472)\n",
      "(3, 4) Ttest_indResult(statistic=-1.2448984552822882, pvalue=0.21947408677728897)\n",
      "(4, 5) Ttest_indResult(statistic=6.2616762361802305, pvalue=1.1722165088405004e-07)\n",
      "(5, 6) Ttest_indResult(statistic=-5.6903726989441195, pvalue=8.409670168427742e-07)\n",
      "(6, 7) Ttest_indResult(statistic=-6.2930287593110945, pvalue=1.051713730073762e-07)\n",
      "(7, 8) Ttest_indResult(statistic=-0.5253190337223912, pvalue=0.6018845335702534)\n",
      "(8, 9) Ttest_indResult(statistic=-0.71270035454789, pvalue=0.4796309984799163)\n",
      "(9, 10) Ttest_indResult(statistic=-0.44097489803137013, pvalue=0.6612968518889443)\n",
      "(10, 11) Ttest_indResult(statistic=-2.128987219884887, pvalue=0.038641025148038986)\n"
     ]
    }
   ],
   "source": [
    "for i,v in res_rss.items():\n",
    "    print(i,v)"
   ]
  },
  {
   "cell_type": "markdown",
   "id": "38300e90",
   "metadata": {},
   "source": [
    "## TSNR"
   ]
  },
  {
   "cell_type": "code",
   "execution_count": 166,
   "id": "02290b1a",
   "metadata": {},
   "outputs": [],
   "source": [
    "def compute_tsnr_denoised_sub(subjectpath, inputname_denoised, outpath, inputname_mean=\"mfmri_st_corr_mean.nii.gz\"):\n",
    "\n",
    "    sub = subjectpath.split('/')[-1]\n",
    "    # sum denoised to mean image\n",
    "    outputsum = os.path.join(outpath, sub, 'mfmri_mean_den_sum.nii.gz')\n",
    "    \n",
    "    # TSNR at the fmri raw level\n",
    "    \n",
    "    path = os.path.join(subjectpath, 'func')\n",
    "    adding_mean = \"\"\n",
    "    if inputname_denoised != \"mfmri_st_corr\":\n",
    "        # if it's not baseline add the mean\n",
    "        adding_mean = f\"fslmaths {inputname_denoised} -add {inputname_mean} {outputsum};\"\n",
    "    else:\n",
    "        # if it's baseline, you compute it on the original\n",
    "        outputsum = inputname_denoised+\".nii.gz\"\n",
    "    \n",
    "    runstring = f'cd {path}; {adding_mean} sct_fmri_compute_tsnr -i {outputsum} -v 0'\n",
    "    print(runstring)\n",
    "    os.system(runstring)    \n",
    "    \n",
    "    \n",
    "def compute_ave_tsnr_persub(sub_path,path_preproc):\n",
    "\n",
    "    sub = sub_path.split('/')[-1] \n",
    "    img_path = os.path.join(path_preproc, sub, 'mfmri_mean_den_sum_tsnr.nii.gz')\n",
    "    if path_preproc.split(\"/\")[-4] == \"0_baseline_stc\":\n",
    "        img_path = os.path.join(sub_path, 'func/mfmri_st_corr_tsnr.nii.gz')\n",
    "    \n",
    "    # load data subject\n",
    "    seed_mask = os.path.join(sub_path, 'func', 'mfmri_mean_seeds.nii.gz')\n",
    "    \n",
    "    img = nib.load(img_path)\n",
    "    tsnr_fimg = img.get_fdata()\n",
    "    seeds = nib.load(seed_mask)\n",
    "    seeds_array = seeds.get_fdata()     \n",
    "    \n",
    "    # Load seeds\n",
    "    vr_xyz = __load_seeds(seeds_array, 'VR')\n",
    "    vl_xyz = __load_seeds(seeds_array, 'VL')\n",
    "    dr_xyz = __load_seeds(seeds_array, 'DR')\n",
    "    dl_xyz = __load_seeds(seeds_array, 'DL')\n",
    "    \n",
    "    \n",
    "    xyz = np.vstack([vr_xyz,vl_xyz,dr_xyz,dl_xyz])\n",
    "    tsnr = 0\n",
    "    for x,y,z in xyz:\n",
    "        tsnr += tsnr_fimg[x,y,z]\n",
    "    \n",
    "    # tsnr*=mult_fact_sub[sub]\n",
    "    # average tsnr\n",
    "    tsnr /= len(xyz)\n",
    "    \n",
    "    return tsnr\n",
    "    \n",
    "    "
   ]
  },
  {
   "cell_type": "code",
   "execution_count": 167,
   "id": "df714bbf",
   "metadata": {},
   "outputs": [],
   "source": [
    "def compute_tsnr_perROI(sub_path, path_preproc):\n",
    "\n",
    "    sub = sub_path.split('/')[-1] \n",
    "    img_path = os.path.join(path_preproc, sub, 'mfmri_mean_den_sum_tsnr.nii.gz')\n",
    "    if path_preproc.split(\"/\")[-4] == \"0_baseline_stc\":\n",
    "        img_path = os.path.join(sub_path, 'func/mfmri_st_corr_tsnr.nii.gz')\n",
    "    \n",
    "    # load data subject\n",
    "    seed_mask = os.path.join(sub_path, 'func', 'mfmri_mean_seeds.nii.gz')\n",
    "    \n",
    "    img = nib.load(img_path)\n",
    "    tsnr_fimg = img.get_fdata()\n",
    "    seeds = nib.load(seed_mask)\n",
    "    seeds_array = seeds.get_fdata()     \n",
    "    \n",
    "    # Load seeds\n",
    "    vr_xyz = __load_seeds(seeds_array, 'VR')\n",
    "    vl_xyz = __load_seeds(seeds_array, 'VL')\n",
    "    dr_xyz = __load_seeds(seeds_array, 'DR')\n",
    "    dl_xyz = __load_seeds(seeds_array, 'DL')\n",
    "    \n",
    "    # xyz = np.vstack([vr_xyz,vl_xyz,dr_xyz,dl_xyz])\n",
    "    tsnr_vr = 0\n",
    "    for x,y,z in vr_xyz:\n",
    "        tsnr_vr += tsnr_fimg[x,y,z]\n",
    "    tsnr_vr /= len(vr_xyz)\n",
    "    \n",
    "    tsnr_vl = 0\n",
    "    for x,y,z in vl_xyz:\n",
    "        tsnr_vl += tsnr_fimg[x,y,z]\n",
    "    tsnr_vl /= len(vl_xyz)    \n",
    "    \n",
    "    tsnr_dr = 0\n",
    "    for x,y,z in dr_xyz:\n",
    "        tsnr_dr += tsnr_fimg[x,y,z]\n",
    "    tsnr_dr /= len(dr_xyz)\n",
    "    \n",
    "    tsnr_dl = 0\n",
    "    for x,y,z in dl_xyz:\n",
    "        tsnr_dl += tsnr_fimg[x,y,z]\n",
    "    tsnr_dl /= len(dl_xyz)\n",
    "    \n",
    "    return tsnr_vr, tsnr_vl, tsnr_dr, tsnr_dl"
   ]
  },
  {
   "cell_type": "code",
   "execution_count": 259,
   "id": "25dd125e",
   "metadata": {
    "scrolled": true
   },
   "outputs": [
    {
     "name": "stderr",
     "output_type": "stream",
     "text": [
      "100%|███████████████████████████████████████████| 12/12 [00:06<00:00,  1.87it/s]\n"
     ]
    }
   ],
   "source": [
    "# iterate over the pull of denoising options\n",
    "\n",
    "method = \"slices\"\n",
    "add = \"seeds\"\n",
    "tsnr_options = {}\n",
    "for option in tqdm(options_to_consider):\n",
    "    input_den_image,_ = get_mfmri_den_details(option) \n",
    "    preproc='_'.join(input_den_image.split('_')[4:]) + \"_stc\"\n",
    "    # add temp filter addition\n",
    "    input_den_image += '_'+tempfilt\n",
    "    if option == 0:\n",
    "        preproc = \"baseline_stc\"\n",
    "        input_den_image,_ = get_mfmri_den_details(option) \n",
    "            \n",
    "    out_name = f\"{option}_{preproc}\"\n",
    "    out_path = os.path.join(data_path,f\"PreProc-Comparison/{out_name}\",tempfilt,method,add)\n",
    "    tsnr_sub = np.zeros(len(subjects_paths))\n",
    "    # iterate over the subjects\n",
    "    for i, sub in enumerate(subjects_paths):\n",
    "        tsnr_sub[i] = compute_ave_tsnr_persub(sub,out_path)\n",
    "    tsnr_options[option] = tsnr_sub\n"
   ]
  },
  {
   "cell_type": "code",
   "execution_count": 260,
   "id": "57d0c435",
   "metadata": {
    "scrolled": true
   },
   "outputs": [
    {
     "data": {
      "text/plain": [
       "{0: array([10.16653461, 10.24101081,  7.39314749, 11.14724766, 10.20380901,\n",
       "         8.81099762,  9.17873189,  9.26581396,  7.56719442,  8.91172941,\n",
       "         6.67863599,  8.35433361,  8.9418712 ,  7.97941601,  8.11216135,\n",
       "         9.5293921 ,  8.30504427,  6.03427326,  8.61443066,  8.98772662,\n",
       "         7.83347441,  7.40085979,  8.114924  ,  8.71598453]),\n",
       " 1: array([12.23106392, 12.72967633,  8.97312572, 13.3387191 , 12.44991042,\n",
       "        10.53244284, 11.18168115, 11.09612046,  9.19427582, 11.40798304,\n",
       "         8.17549342,  8.55631075, 10.67079963,  9.72945486, 10.02711329,\n",
       "        11.70360837, 10.07174718,  7.27444509, 10.65373362, 10.92670303,\n",
       "         9.92055075,  9.74563696, 10.7054177 , 10.7151406 ]),\n",
       " 2: array([12.46917253, 12.80365978,  9.04228605, 13.67024498, 12.96874908,\n",
       "        10.59412602, 11.26188998, 11.18666795,  9.39714941, 11.73060808,\n",
       "         8.19096291,  9.91338667, 10.82767337,  9.79667955, 10.13964235,\n",
       "        11.79071431, 10.1363741 ,  7.29776253, 10.7597408 , 10.97393075,\n",
       "         9.97421804,  9.80735474, 10.80153873, 10.78217881]),\n",
       " 3: array([13.04032998, 13.44768197,  9.18121985, 14.03358784, 13.58030879,\n",
       "        10.8572081 , 11.49975362, 11.23543016,  9.59320572, 12.12180636,\n",
       "         8.27837182, 10.2027821 , 10.80690292,  9.8757835 , 10.4836728 ,\n",
       "        11.94074726, 10.27017474,  7.42005572, 10.80170496, 11.40461521,\n",
       "        10.21135512,  9.97332873, 11.11635525, 10.92981974]),\n",
       " 4: array([13.15521717, 13.54383944,  9.25224754, 14.22077312, 13.83638895,\n",
       "        10.9617711 , 11.62828976, 11.35485152,  9.70093646, 12.29251394,\n",
       "         8.32149572, 10.2758724 , 11.00431325,  9.97845906, 10.57498109,\n",
       "        12.02897602, 10.37880063,  7.4639756 , 10.9406378 , 11.50176855,\n",
       "        10.3179921 , 10.07447781, 11.21497324, 11.03275592]),\n",
       " 5: array([12.47267167, 12.99126873,  9.14558824, 13.61919629, 12.69734613,\n",
       "        10.75154182, 11.45124776, 11.31991313,  9.38201017, 11.61715257,\n",
       "         8.32219528, 10.07784934, 10.87833118,  9.87900194, 10.17173224,\n",
       "        11.93590006, 10.29691415,  7.40307198, 10.86004532, 11.21750145,\n",
       "        10.03553032,  9.92049013, 10.8216632 , 10.89578193]),\n",
       " 6: array([13.10506438, 13.64666172,  9.22767064, 14.12160028, 13.43106407,\n",
       "        10.92652431, 11.47532026, 11.34284835,  9.64154967, 12.09547789,\n",
       "         8.35145747, 10.45403419, 10.86826025,  9.95587275, 10.33855768,\n",
       "        12.06579169, 10.33949503,  7.43197188, 11.02883589, 11.426594  ,\n",
       "        10.29347956, 10.11528304, 11.03527725, 11.05975407]),\n",
       " 7: array([14.13893808, 14.66667846,  9.84796049, 15.15309728, 14.40664184,\n",
       "        11.68749651, 12.32073692, 12.14214097, 10.30650988, 12.96469674,\n",
       "         8.90218497, 11.18779797, 11.68283735, 10.62251692, 11.04334171,\n",
       "        12.92255466, 11.10303084,  7.93399094, 11.82800739, 12.32608824,\n",
       "        11.02476764, 10.84494084, 11.80904318, 11.81448249]),\n",
       " 8: array([14.20780848, 14.7365906 ,  9.87244101, 15.19689186, 14.49069867,\n",
       "        11.72695321, 12.36809141, 12.18332592, 10.34463535, 13.02640372,\n",
       "         8.93441111, 11.21663461, 11.73857013, 10.6599105 , 11.14111226,\n",
       "        12.9661826 , 11.15717862,  7.96367936, 11.87083002, 12.38741279,\n",
       "        11.06699397, 10.90036547, 11.93494084, 11.86000042]),\n",
       " 9: array([14.25073618, 14.77325879,  9.92123752, 15.34906537, 14.65456147,\n",
       "        11.78919128, 12.43455353, 12.26214281, 10.40143846, 13.20309784,\n",
       "         8.95301754, 11.26172105, 11.86296558, 10.70230298, 11.26246944,\n",
       "        13.02647561, 11.18893572,  7.9835978 , 11.95046975, 12.41740745,\n",
       "        11.120965  , 10.94955943, 11.99783666, 11.90512796]),\n",
       " 10: array([14.31464826, 14.84306789,  9.94401052, 15.3921481 , 14.72584267,\n",
       "        11.8269276 , 12.48322342, 12.30135698, 10.43704414, 13.2624902 ,\n",
       "         8.9866457 , 11.29155337, 11.9183225 , 10.7403074 , 11.32921811,\n",
       "        13.07055632, 11.24795613,  8.0130837 , 11.99671271, 12.48287416,\n",
       "        11.16487298, 11.00425525, 12.08716203, 11.9513317 ]),\n",
       " 11: array([14.63396378, 15.18721811, 10.14319507, 15.71196055, 15.33331248,\n",
       "        12.08567199, 12.79913821, 12.52297975, 10.70975211, 13.63107206,\n",
       "         9.14966904, 11.47509535, 12.11502695, 10.94119313, 11.73145735,\n",
       "        13.31091755, 11.44752235,  8.16953469, 12.23460197, 12.75287918,\n",
       "        11.36591369, 11.21428947, 12.40869793, 12.15153816])}"
      ]
     },
     "execution_count": 260,
     "metadata": {},
     "output_type": "execute_result"
    }
   ],
   "source": [
    "tsnr_options"
   ]
  },
  {
   "cell_type": "code",
   "execution_count": 313,
   "id": "6d4cb71d",
   "metadata": {},
   "outputs": [
    {
     "name": "stderr",
     "output_type": "stream",
     "text": [
      "100%|███████████████████████████████████████████| 12/12 [00:06<00:00,  1.96it/s]\n"
     ]
    }
   ],
   "source": [
    "tsnr_options_VR = {}\n",
    "tsnr_options_VL = {}\n",
    "tsnr_options_DR = {}\n",
    "tsnr_options_DL = {}\n",
    "\n",
    "for option in tqdm(options_to_consider):\n",
    "    input_den_image,_ = get_mfmri_den_details(option) \n",
    "    preproc='_'.join(input_den_image.split('_')[4:])+\"_stc\"\n",
    "    # add temp filter addition\n",
    "    input_den_image += '_'+tempfilt\n",
    "    if option == 0:\n",
    "        preproc = \"baseline_stc\"\n",
    "        input_den_image,_ = get_mfmri_den_details(option) \n",
    "\n",
    "    out_name = f\"{option}_{preproc}\"\n",
    "    out_path = os.path.join(data_path,f\"PreProc-Comparison/{out_name}\",tempfilt,method,add)\n",
    "    tsnr_sub_vr = np.zeros(len(subjects_paths))\n",
    "    tsnr_sub_vl = np.zeros(len(subjects_paths))\n",
    "    tsnr_sub_dr = np.zeros(len(subjects_paths))\n",
    "    tsnr_sub_dl = np.zeros(len(subjects_paths))\n",
    "    # iterate over the subjects\n",
    "    for i, sub in enumerate(subjects_paths):\n",
    "        tsnr_sub_vr[i],tsnr_sub_vl[i], tsnr_sub_dr[i], tsnr_sub_dl[i] = compute_tsnr_perROI(sub,out_path)\n",
    "    \n",
    "    tsnr_options_VR[option] = tsnr_sub_vr\n",
    "    tsnr_options_VL[option] = tsnr_sub_vl\n",
    "    tsnr_options_DR[option] = tsnr_sub_dr\n",
    "    tsnr_options_DL[option] = tsnr_sub_dl"
   ]
  },
  {
   "cell_type": "code",
   "execution_count": 317,
   "id": "d4c63fc8",
   "metadata": {},
   "outputs": [
    {
     "name": "stdout",
     "output_type": "stream",
     "text": [
      "(0, 1) 1.9970590289020933\n",
      "(0, 2) 2.1057522100803645\n",
      "(0, 3) 2.1668479167150707\n",
      "(0, 4) 2.317834579647876\n",
      "(0, 5) 2.175646663926349\n",
      "(0, 6) 2.3124725046482943\n",
      "(0, 7) 3.083062253583165\n",
      "(0, 8) 3.1340776772210077\n",
      "(0, 9) 3.2188391768055027\n",
      "(0, 10) 3.2696195040946385\n",
      "(0, 11) 3.468074958561818\n"
     ]
    }
   ],
   "source": [
    "res_tsnr = {}\n",
    "for i in range(11):\n",
    "    tup = (0,i+1)\n",
    "    res_tsnr[tup] = ttest_ind(tsnr_options[tup[0]],tsnr_options[tup[1]])\n",
    "    print(tup, np.abs(np.median(tsnr_options[tup[0]])-np.median(tsnr_options[tup[1]])))"
   ]
  },
  {
   "cell_type": "code",
   "execution_count": 361,
   "id": "8d0a90e1",
   "metadata": {},
   "outputs": [
    {
     "data": {
      "text/plain": [
       "12.133282553065907"
      ]
     },
     "execution_count": 361,
     "metadata": {},
     "output_type": "execute_result"
    }
   ],
   "source": [
    "np.median(tsnr_options[11])"
   ]
  },
  {
   "cell_type": "code",
   "execution_count": 362,
   "id": "63b5b534",
   "metadata": {},
   "outputs": [
    {
     "data": {
      "text/plain": [
       "(9.298697939822167, 15.311398325159269)"
      ]
     },
     "execution_count": 362,
     "metadata": {},
     "output_type": "execute_result"
    }
   ],
   "source": [
    "IQR(tsnr_options[11])"
   ]
  },
  {
   "cell_type": "code",
   "execution_count": 331,
   "id": "ca37abc6",
   "metadata": {},
   "outputs": [
    {
     "data": {
      "text/plain": [
       "0.4200609401400983"
      ]
     },
     "execution_count": 331,
     "metadata": {},
     "output_type": "execute_result"
    }
   ],
   "source": [
    "(np.mean(tsnr_options[11])-np.mean(tsnr_options[0]))/np.mean(tsnr_options[0])"
   ]
  },
  {
   "cell_type": "code",
   "execution_count": 263,
   "id": "c74dbaae",
   "metadata": {},
   "outputs": [
    {
     "data": {
      "text/plain": [
       "(array([ True,  True,  True,  True,  True,  True,  True,  True,  True,\n",
       "         True,  True]),\n",
       " array([1.02081672e-05, 4.88668802e-06, 2.83259384e-06, 2.10279832e-06,\n",
       "        2.83259384e-06, 2.10279832e-06, 1.46257415e-08, 1.20172164e-08,\n",
       "        9.89170146e-09, 8.12278023e-09, 2.28424413e-09]),\n",
       " 0.004652171732197341,\n",
       " 0.004545454545454546)"
      ]
     },
     "execution_count": 263,
     "metadata": {},
     "output_type": "execute_result"
    }
   ],
   "source": [
    "p_vals = []\n",
    "for i, vals in res_tsnr.items():\n",
    "    p_vals.append(vals[1])\n",
    "\n",
    "multipletests(p_vals)"
   ]
  },
  {
   "cell_type": "code",
   "execution_count": 174,
   "id": "e0026669",
   "metadata": {},
   "outputs": [
    {
     "name": "stdout",
     "output_type": "stream",
     "text": [
      "(0, 1) Ttest_indResult(statistic=-4.955395163755599, pvalue=1.0208167153305345e-05)\n",
      "(0, 2) Ttest_indResult(statistic=-5.378542773085096, pvalue=2.4433469973729796e-06)\n",
      "(0, 3) Ttest_indResult(statistic=-5.740410854402414, pvalue=7.081492123359175e-07)\n",
      "(0, 4) Ttest_indResult(statistic=-5.944685890641871, pvalue=3.504666931265567e-07)\n",
      "(0, 5) Ttest_indResult(statistic=-5.660991974173529, pvalue=9.302005449198991e-07)\n",
      "(0, 6) Ttest_indResult(statistic=-5.900080005057296, pvalue=4.0873159627607964e-07)\n",
      "(0, 7) Ttest_indResult(statistic=-7.427544626075362, pvalue=2.0893916725582196e-09)\n",
      "(0, 8) Ttest_indResult(statistic=-7.523710794489529, pvalue=1.5021521018265638e-09)\n",
      "(0, 9) Ttest_indResult(statistic=-7.61491587131019, pvalue=1.0990779096547802e-09)\n",
      "(0, 10) Ttest_indResult(statistic=-7.70334111318227, pvalue=8.122780386176025e-10)\n",
      "(0, 11) Ttest_indResult(statistic=-8.104311838605065, pvalue=2.0765850439324401e-10)\n"
     ]
    }
   ],
   "source": [
    "for i, v in res_tsnr.items():\n",
    "    print(i, v)"
   ]
  },
  {
   "cell_type": "markdown",
   "id": "cd4f7fe7",
   "metadata": {},
   "source": [
    "### Saving data"
   ]
  },
  {
   "cell_type": "code",
   "execution_count": 264,
   "id": "c362d388",
   "metadata": {},
   "outputs": [],
   "source": [
    "denoising_names = []\n",
    "for o in options_to_consider:\n",
    "    denoising_names.append(get_option_foldername(o))"
   ]
  },
  {
   "cell_type": "code",
   "execution_count": 265,
   "id": "132dfbbd",
   "metadata": {},
   "outputs": [],
   "source": [
    "def data_to_df(tsnr_data,colsnames):\n",
    "\n",
    "    tsnr_df = pd.DataFrame(columns=colsnames)\n",
    "\n",
    "    for i,o in enumerate(tsnr_options.keys()):\n",
    "        tsnr_df[denoising_names[i]] = tsnr_data[o]\n",
    "    \n",
    "    return tsnr_df"
   ]
  },
  {
   "cell_type": "code",
   "execution_count": 266,
   "id": "8fce955b",
   "metadata": {},
   "outputs": [],
   "source": [
    "tsnr_df = data_to_df(tsnr_options,denoising_names)"
   ]
  },
  {
   "cell_type": "code",
   "execution_count": 310,
   "id": "28c6b67e",
   "metadata": {
    "scrolled": true
   },
   "outputs": [
    {
     "data": {
      "text/html": [
       "<div>\n",
       "<style scoped>\n",
       "    .dataframe tbody tr th:only-of-type {\n",
       "        vertical-align: middle;\n",
       "    }\n",
       "\n",
       "    .dataframe tbody tr th {\n",
       "        vertical-align: top;\n",
       "    }\n",
       "\n",
       "    .dataframe thead th {\n",
       "        text-align: right;\n",
       "    }\n",
       "</style>\n",
       "<table border=\"1\" class=\"dataframe\">\n",
       "  <thead>\n",
       "    <tr style=\"text-align: right;\">\n",
       "      <th></th>\n",
       "      <th>0_baseline_stc</th>\n",
       "      <th>1_csf_csfonly_stc</th>\n",
       "      <th>2_moco_stc</th>\n",
       "      <th>3_cc_stc</th>\n",
       "      <th>4_moco_cc_stc</th>\n",
       "      <th>5_pnm_cardonly_stc</th>\n",
       "      <th>6_pnm_responly_stc</th>\n",
       "      <th>7_pnm_stc</th>\n",
       "      <th>8_csf_pnm_stc</th>\n",
       "      <th>9_pnm_moco_stc</th>\n",
       "      <th>10_csf_pnm_moco_stc</th>\n",
       "      <th>11_csf_pnm_moco_cc_stc</th>\n",
       "    </tr>\n",
       "  </thead>\n",
       "  <tbody>\n",
       "    <tr>\n",
       "      <th>0</th>\n",
       "      <td>10.166535</td>\n",
       "      <td>12.231064</td>\n",
       "      <td>12.469173</td>\n",
       "      <td>13.040330</td>\n",
       "      <td>13.155217</td>\n",
       "      <td>12.472672</td>\n",
       "      <td>13.105064</td>\n",
       "      <td>14.138938</td>\n",
       "      <td>14.207808</td>\n",
       "      <td>14.250736</td>\n",
       "      <td>14.314648</td>\n",
       "      <td>14.633964</td>\n",
       "    </tr>\n",
       "    <tr>\n",
       "      <th>1</th>\n",
       "      <td>10.241011</td>\n",
       "      <td>12.729676</td>\n",
       "      <td>12.803660</td>\n",
       "      <td>13.447682</td>\n",
       "      <td>13.543839</td>\n",
       "      <td>12.991269</td>\n",
       "      <td>13.646662</td>\n",
       "      <td>14.666678</td>\n",
       "      <td>14.736591</td>\n",
       "      <td>14.773259</td>\n",
       "      <td>14.843068</td>\n",
       "      <td>15.187218</td>\n",
       "    </tr>\n",
       "    <tr>\n",
       "      <th>2</th>\n",
       "      <td>7.393147</td>\n",
       "      <td>8.973126</td>\n",
       "      <td>9.042286</td>\n",
       "      <td>9.181220</td>\n",
       "      <td>9.252248</td>\n",
       "      <td>9.145588</td>\n",
       "      <td>9.227671</td>\n",
       "      <td>9.847960</td>\n",
       "      <td>9.872441</td>\n",
       "      <td>9.921238</td>\n",
       "      <td>9.944011</td>\n",
       "      <td>10.143195</td>\n",
       "    </tr>\n",
       "    <tr>\n",
       "      <th>3</th>\n",
       "      <td>11.147248</td>\n",
       "      <td>13.338719</td>\n",
       "      <td>13.670245</td>\n",
       "      <td>14.033588</td>\n",
       "      <td>14.220773</td>\n",
       "      <td>13.619196</td>\n",
       "      <td>14.121600</td>\n",
       "      <td>15.153097</td>\n",
       "      <td>15.196892</td>\n",
       "      <td>15.349065</td>\n",
       "      <td>15.392148</td>\n",
       "      <td>15.711961</td>\n",
       "    </tr>\n",
       "    <tr>\n",
       "      <th>4</th>\n",
       "      <td>10.203809</td>\n",
       "      <td>12.449910</td>\n",
       "      <td>12.968749</td>\n",
       "      <td>13.580309</td>\n",
       "      <td>13.836389</td>\n",
       "      <td>12.697346</td>\n",
       "      <td>13.431064</td>\n",
       "      <td>14.406642</td>\n",
       "      <td>14.490699</td>\n",
       "      <td>14.654561</td>\n",
       "      <td>14.725843</td>\n",
       "      <td>15.333312</td>\n",
       "    </tr>\n",
       "    <tr>\n",
       "      <th>5</th>\n",
       "      <td>8.810998</td>\n",
       "      <td>10.532443</td>\n",
       "      <td>10.594126</td>\n",
       "      <td>10.857208</td>\n",
       "      <td>10.961771</td>\n",
       "      <td>10.751542</td>\n",
       "      <td>10.926524</td>\n",
       "      <td>11.687497</td>\n",
       "      <td>11.726953</td>\n",
       "      <td>11.789191</td>\n",
       "      <td>11.826928</td>\n",
       "      <td>12.085672</td>\n",
       "    </tr>\n",
       "    <tr>\n",
       "      <th>6</th>\n",
       "      <td>9.178732</td>\n",
       "      <td>11.181681</td>\n",
       "      <td>11.261890</td>\n",
       "      <td>11.499754</td>\n",
       "      <td>11.628290</td>\n",
       "      <td>11.451248</td>\n",
       "      <td>11.475320</td>\n",
       "      <td>12.320737</td>\n",
       "      <td>12.368091</td>\n",
       "      <td>12.434554</td>\n",
       "      <td>12.483223</td>\n",
       "      <td>12.799138</td>\n",
       "    </tr>\n",
       "    <tr>\n",
       "      <th>7</th>\n",
       "      <td>9.265814</td>\n",
       "      <td>11.096120</td>\n",
       "      <td>11.186668</td>\n",
       "      <td>11.235430</td>\n",
       "      <td>11.354852</td>\n",
       "      <td>11.319913</td>\n",
       "      <td>11.342848</td>\n",
       "      <td>12.142141</td>\n",
       "      <td>12.183326</td>\n",
       "      <td>12.262143</td>\n",
       "      <td>12.301357</td>\n",
       "      <td>12.522980</td>\n",
       "    </tr>\n",
       "    <tr>\n",
       "      <th>8</th>\n",
       "      <td>7.567194</td>\n",
       "      <td>9.194276</td>\n",
       "      <td>9.397149</td>\n",
       "      <td>9.593206</td>\n",
       "      <td>9.700936</td>\n",
       "      <td>9.382010</td>\n",
       "      <td>9.641550</td>\n",
       "      <td>10.306510</td>\n",
       "      <td>10.344635</td>\n",
       "      <td>10.401438</td>\n",
       "      <td>10.437044</td>\n",
       "      <td>10.709752</td>\n",
       "    </tr>\n",
       "    <tr>\n",
       "      <th>9</th>\n",
       "      <td>8.911729</td>\n",
       "      <td>11.407983</td>\n",
       "      <td>11.730608</td>\n",
       "      <td>12.121806</td>\n",
       "      <td>12.292514</td>\n",
       "      <td>11.617153</td>\n",
       "      <td>12.095478</td>\n",
       "      <td>12.964697</td>\n",
       "      <td>13.026404</td>\n",
       "      <td>13.203098</td>\n",
       "      <td>13.262490</td>\n",
       "      <td>13.631072</td>\n",
       "    </tr>\n",
       "    <tr>\n",
       "      <th>10</th>\n",
       "      <td>6.678636</td>\n",
       "      <td>8.175493</td>\n",
       "      <td>8.190963</td>\n",
       "      <td>8.278372</td>\n",
       "      <td>8.321496</td>\n",
       "      <td>8.322195</td>\n",
       "      <td>8.351457</td>\n",
       "      <td>8.902185</td>\n",
       "      <td>8.934411</td>\n",
       "      <td>8.953018</td>\n",
       "      <td>8.986646</td>\n",
       "      <td>9.149669</td>\n",
       "    </tr>\n",
       "    <tr>\n",
       "      <th>11</th>\n",
       "      <td>8.354334</td>\n",
       "      <td>8.556311</td>\n",
       "      <td>9.913387</td>\n",
       "      <td>10.202782</td>\n",
       "      <td>10.275872</td>\n",
       "      <td>10.077849</td>\n",
       "      <td>10.454034</td>\n",
       "      <td>11.187798</td>\n",
       "      <td>11.216635</td>\n",
       "      <td>11.261721</td>\n",
       "      <td>11.291553</td>\n",
       "      <td>11.475095</td>\n",
       "    </tr>\n",
       "    <tr>\n",
       "      <th>12</th>\n",
       "      <td>8.941871</td>\n",
       "      <td>10.670800</td>\n",
       "      <td>10.827673</td>\n",
       "      <td>10.806903</td>\n",
       "      <td>11.004313</td>\n",
       "      <td>10.878331</td>\n",
       "      <td>10.868260</td>\n",
       "      <td>11.682837</td>\n",
       "      <td>11.738570</td>\n",
       "      <td>11.862966</td>\n",
       "      <td>11.918322</td>\n",
       "      <td>12.115027</td>\n",
       "    </tr>\n",
       "    <tr>\n",
       "      <th>13</th>\n",
       "      <td>7.979416</td>\n",
       "      <td>9.729455</td>\n",
       "      <td>9.796680</td>\n",
       "      <td>9.875783</td>\n",
       "      <td>9.978459</td>\n",
       "      <td>9.879002</td>\n",
       "      <td>9.955873</td>\n",
       "      <td>10.622517</td>\n",
       "      <td>10.659911</td>\n",
       "      <td>10.702303</td>\n",
       "      <td>10.740307</td>\n",
       "      <td>10.941193</td>\n",
       "    </tr>\n",
       "    <tr>\n",
       "      <th>14</th>\n",
       "      <td>8.112161</td>\n",
       "      <td>10.027113</td>\n",
       "      <td>10.139642</td>\n",
       "      <td>10.483673</td>\n",
       "      <td>10.574981</td>\n",
       "      <td>10.171732</td>\n",
       "      <td>10.338558</td>\n",
       "      <td>11.043342</td>\n",
       "      <td>11.141112</td>\n",
       "      <td>11.262469</td>\n",
       "      <td>11.329218</td>\n",
       "      <td>11.731457</td>\n",
       "    </tr>\n",
       "    <tr>\n",
       "      <th>15</th>\n",
       "      <td>9.529392</td>\n",
       "      <td>11.703608</td>\n",
       "      <td>11.790714</td>\n",
       "      <td>11.940747</td>\n",
       "      <td>12.028976</td>\n",
       "      <td>11.935900</td>\n",
       "      <td>12.065792</td>\n",
       "      <td>12.922555</td>\n",
       "      <td>12.966183</td>\n",
       "      <td>13.026476</td>\n",
       "      <td>13.070556</td>\n",
       "      <td>13.310918</td>\n",
       "    </tr>\n",
       "    <tr>\n",
       "      <th>16</th>\n",
       "      <td>8.305044</td>\n",
       "      <td>10.071747</td>\n",
       "      <td>10.136374</td>\n",
       "      <td>10.270175</td>\n",
       "      <td>10.378801</td>\n",
       "      <td>10.296914</td>\n",
       "      <td>10.339495</td>\n",
       "      <td>11.103031</td>\n",
       "      <td>11.157179</td>\n",
       "      <td>11.188936</td>\n",
       "      <td>11.247956</td>\n",
       "      <td>11.447522</td>\n",
       "    </tr>\n",
       "    <tr>\n",
       "      <th>17</th>\n",
       "      <td>6.034273</td>\n",
       "      <td>7.274445</td>\n",
       "      <td>7.297763</td>\n",
       "      <td>7.420056</td>\n",
       "      <td>7.463976</td>\n",
       "      <td>7.403072</td>\n",
       "      <td>7.431972</td>\n",
       "      <td>7.933991</td>\n",
       "      <td>7.963679</td>\n",
       "      <td>7.983598</td>\n",
       "      <td>8.013084</td>\n",
       "      <td>8.169535</td>\n",
       "    </tr>\n",
       "    <tr>\n",
       "      <th>18</th>\n",
       "      <td>8.614431</td>\n",
       "      <td>10.653734</td>\n",
       "      <td>10.759741</td>\n",
       "      <td>10.801705</td>\n",
       "      <td>10.940638</td>\n",
       "      <td>10.860045</td>\n",
       "      <td>11.028836</td>\n",
       "      <td>11.828007</td>\n",
       "      <td>11.870830</td>\n",
       "      <td>11.950470</td>\n",
       "      <td>11.996713</td>\n",
       "      <td>12.234602</td>\n",
       "    </tr>\n",
       "    <tr>\n",
       "      <th>19</th>\n",
       "      <td>8.987727</td>\n",
       "      <td>10.926703</td>\n",
       "      <td>10.973931</td>\n",
       "      <td>11.404615</td>\n",
       "      <td>11.501769</td>\n",
       "      <td>11.217501</td>\n",
       "      <td>11.426594</td>\n",
       "      <td>12.326088</td>\n",
       "      <td>12.387413</td>\n",
       "      <td>12.417407</td>\n",
       "      <td>12.482874</td>\n",
       "      <td>12.752879</td>\n",
       "    </tr>\n",
       "    <tr>\n",
       "      <th>20</th>\n",
       "      <td>7.833474</td>\n",
       "      <td>9.920551</td>\n",
       "      <td>9.974218</td>\n",
       "      <td>10.211355</td>\n",
       "      <td>10.317992</td>\n",
       "      <td>10.035530</td>\n",
       "      <td>10.293480</td>\n",
       "      <td>11.024768</td>\n",
       "      <td>11.066994</td>\n",
       "      <td>11.120965</td>\n",
       "      <td>11.164873</td>\n",
       "      <td>11.365914</td>\n",
       "    </tr>\n",
       "    <tr>\n",
       "      <th>21</th>\n",
       "      <td>7.400860</td>\n",
       "      <td>9.745637</td>\n",
       "      <td>9.807355</td>\n",
       "      <td>9.973329</td>\n",
       "      <td>10.074478</td>\n",
       "      <td>9.920490</td>\n",
       "      <td>10.115283</td>\n",
       "      <td>10.844941</td>\n",
       "      <td>10.900365</td>\n",
       "      <td>10.949559</td>\n",
       "      <td>11.004255</td>\n",
       "      <td>11.214289</td>\n",
       "    </tr>\n",
       "    <tr>\n",
       "      <th>22</th>\n",
       "      <td>8.114924</td>\n",
       "      <td>10.705418</td>\n",
       "      <td>10.801539</td>\n",
       "      <td>11.116355</td>\n",
       "      <td>11.214973</td>\n",
       "      <td>10.821663</td>\n",
       "      <td>11.035277</td>\n",
       "      <td>11.809043</td>\n",
       "      <td>11.934941</td>\n",
       "      <td>11.997837</td>\n",
       "      <td>12.087162</td>\n",
       "      <td>12.408698</td>\n",
       "    </tr>\n",
       "    <tr>\n",
       "      <th>23</th>\n",
       "      <td>8.715985</td>\n",
       "      <td>10.715141</td>\n",
       "      <td>10.782179</td>\n",
       "      <td>10.929820</td>\n",
       "      <td>11.032756</td>\n",
       "      <td>10.895782</td>\n",
       "      <td>11.059754</td>\n",
       "      <td>11.814482</td>\n",
       "      <td>11.860000</td>\n",
       "      <td>11.905128</td>\n",
       "      <td>11.951332</td>\n",
       "      <td>12.151538</td>\n",
       "    </tr>\n",
       "  </tbody>\n",
       "</table>\n",
       "</div>"
      ],
      "text/plain": [
       "    0_baseline_stc  1_csf_csfonly_stc  2_moco_stc   3_cc_stc  4_moco_cc_stc  \\\n",
       "0        10.166535          12.231064   12.469173  13.040330      13.155217   \n",
       "1        10.241011          12.729676   12.803660  13.447682      13.543839   \n",
       "2         7.393147           8.973126    9.042286   9.181220       9.252248   \n",
       "3        11.147248          13.338719   13.670245  14.033588      14.220773   \n",
       "4        10.203809          12.449910   12.968749  13.580309      13.836389   \n",
       "5         8.810998          10.532443   10.594126  10.857208      10.961771   \n",
       "6         9.178732          11.181681   11.261890  11.499754      11.628290   \n",
       "7         9.265814          11.096120   11.186668  11.235430      11.354852   \n",
       "8         7.567194           9.194276    9.397149   9.593206       9.700936   \n",
       "9         8.911729          11.407983   11.730608  12.121806      12.292514   \n",
       "10        6.678636           8.175493    8.190963   8.278372       8.321496   \n",
       "11        8.354334           8.556311    9.913387  10.202782      10.275872   \n",
       "12        8.941871          10.670800   10.827673  10.806903      11.004313   \n",
       "13        7.979416           9.729455    9.796680   9.875783       9.978459   \n",
       "14        8.112161          10.027113   10.139642  10.483673      10.574981   \n",
       "15        9.529392          11.703608   11.790714  11.940747      12.028976   \n",
       "16        8.305044          10.071747   10.136374  10.270175      10.378801   \n",
       "17        6.034273           7.274445    7.297763   7.420056       7.463976   \n",
       "18        8.614431          10.653734   10.759741  10.801705      10.940638   \n",
       "19        8.987727          10.926703   10.973931  11.404615      11.501769   \n",
       "20        7.833474           9.920551    9.974218  10.211355      10.317992   \n",
       "21        7.400860           9.745637    9.807355   9.973329      10.074478   \n",
       "22        8.114924          10.705418   10.801539  11.116355      11.214973   \n",
       "23        8.715985          10.715141   10.782179  10.929820      11.032756   \n",
       "\n",
       "    5_pnm_cardonly_stc  6_pnm_responly_stc  7_pnm_stc  8_csf_pnm_stc  \\\n",
       "0            12.472672           13.105064  14.138938      14.207808   \n",
       "1            12.991269           13.646662  14.666678      14.736591   \n",
       "2             9.145588            9.227671   9.847960       9.872441   \n",
       "3            13.619196           14.121600  15.153097      15.196892   \n",
       "4            12.697346           13.431064  14.406642      14.490699   \n",
       "5            10.751542           10.926524  11.687497      11.726953   \n",
       "6            11.451248           11.475320  12.320737      12.368091   \n",
       "7            11.319913           11.342848  12.142141      12.183326   \n",
       "8             9.382010            9.641550  10.306510      10.344635   \n",
       "9            11.617153           12.095478  12.964697      13.026404   \n",
       "10            8.322195            8.351457   8.902185       8.934411   \n",
       "11           10.077849           10.454034  11.187798      11.216635   \n",
       "12           10.878331           10.868260  11.682837      11.738570   \n",
       "13            9.879002            9.955873  10.622517      10.659911   \n",
       "14           10.171732           10.338558  11.043342      11.141112   \n",
       "15           11.935900           12.065792  12.922555      12.966183   \n",
       "16           10.296914           10.339495  11.103031      11.157179   \n",
       "17            7.403072            7.431972   7.933991       7.963679   \n",
       "18           10.860045           11.028836  11.828007      11.870830   \n",
       "19           11.217501           11.426594  12.326088      12.387413   \n",
       "20           10.035530           10.293480  11.024768      11.066994   \n",
       "21            9.920490           10.115283  10.844941      10.900365   \n",
       "22           10.821663           11.035277  11.809043      11.934941   \n",
       "23           10.895782           11.059754  11.814482      11.860000   \n",
       "\n",
       "    9_pnm_moco_stc  10_csf_pnm_moco_stc  11_csf_pnm_moco_cc_stc  \n",
       "0        14.250736            14.314648               14.633964  \n",
       "1        14.773259            14.843068               15.187218  \n",
       "2         9.921238             9.944011               10.143195  \n",
       "3        15.349065            15.392148               15.711961  \n",
       "4        14.654561            14.725843               15.333312  \n",
       "5        11.789191            11.826928               12.085672  \n",
       "6        12.434554            12.483223               12.799138  \n",
       "7        12.262143            12.301357               12.522980  \n",
       "8        10.401438            10.437044               10.709752  \n",
       "9        13.203098            13.262490               13.631072  \n",
       "10        8.953018             8.986646                9.149669  \n",
       "11       11.261721            11.291553               11.475095  \n",
       "12       11.862966            11.918322               12.115027  \n",
       "13       10.702303            10.740307               10.941193  \n",
       "14       11.262469            11.329218               11.731457  \n",
       "15       13.026476            13.070556               13.310918  \n",
       "16       11.188936            11.247956               11.447522  \n",
       "17        7.983598             8.013084                8.169535  \n",
       "18       11.950470            11.996713               12.234602  \n",
       "19       12.417407            12.482874               12.752879  \n",
       "20       11.120965            11.164873               11.365914  \n",
       "21       10.949559            11.004255               11.214289  \n",
       "22       11.997837            12.087162               12.408698  \n",
       "23       11.905128            11.951332               12.151538  "
      ]
     },
     "execution_count": 310,
     "metadata": {},
     "output_type": "execute_result"
    }
   ],
   "source": [
    "tsnr_df"
   ]
  },
  {
   "cell_type": "code",
   "execution_count": 268,
   "id": "ff247968",
   "metadata": {},
   "outputs": [],
   "source": [
    "# save\n",
    "tsnr_df.to_csv(f\"Outputs_paper_data/{tempfilt}_tsnr.csv\")\n",
    "#tsnr_hp.to_csv(f\"Outputs_paper_data/HP_RSS.csv\")"
   ]
  },
  {
   "cell_type": "code",
   "execution_count": 269,
   "id": "87dce1bb",
   "metadata": {},
   "outputs": [],
   "source": [
    "tsnr_options_VR_df = data_to_df(tsnr_options_VR,denoising_names)\n",
    "tsnr_options_VL_df = data_to_df(tsnr_options_VL,denoising_names)\n",
    "tsnr_options_DR_df = data_to_df(tsnr_options_DR,denoising_names)\n",
    "tsnr_options_DL_df = data_to_df(tsnr_options_DL,denoising_names)"
   ]
  },
  {
   "cell_type": "code",
   "execution_count": 270,
   "id": "af4aa832",
   "metadata": {},
   "outputs": [],
   "source": [
    "tsnr_options_VR_df.to_csv(f\"Outputs_paper_data/{tempfilt}_tsnr_VR.csv\")\n",
    "tsnr_options_VL_df.to_csv(f\"Outputs_paper_data/{tempfilt}_tsnr_VL.csv\")\n",
    "tsnr_options_DR_df.to_csv(f\"Outputs_paper_data/{tempfilt}_tsnr_DR.csv\")\n",
    "tsnr_options_DL_df.to_csv(f\"Outputs_paper_data/{tempfilt}_tsnr_DL.csv\")"
   ]
  },
  {
   "cell_type": "code",
   "execution_count": 354,
   "id": "6cc0d76f",
   "metadata": {},
   "outputs": [
    {
     "data": {
      "text/plain": [
       "(8.233883603269405, 15.41431128838483)"
      ]
     },
     "execution_count": 354,
     "metadata": {},
     "output_type": "execute_result"
    }
   ],
   "source": [
    "IQR(tsnr_options_VR_df[\"10_csf_pnm_moco_stc\"].values)"
   ]
  },
  {
   "cell_type": "code",
   "execution_count": 355,
   "id": "b03a716c",
   "metadata": {},
   "outputs": [
    {
     "data": {
      "text/plain": [
       "(8.089075184301896, 15.741950387954711)"
      ]
     },
     "execution_count": 355,
     "metadata": {},
     "output_type": "execute_result"
    }
   ],
   "source": [
    "IQR(tsnr_options_VL_df[\"10_csf_pnm_moco_stc\"].values)"
   ]
  },
  {
   "cell_type": "code",
   "execution_count": 356,
   "id": "dd4394aa",
   "metadata": {},
   "outputs": [
    {
     "data": {
      "text/plain": [
       "(10.043980788028602, 14.363371597084342)"
      ]
     },
     "execution_count": 356,
     "metadata": {},
     "output_type": "execute_result"
    }
   ],
   "source": [
    "IQR(tsnr_options_DR_df[\"10_csf_pnm_moco_stc\"].values)"
   ]
  },
  {
   "cell_type": "code",
   "execution_count": 357,
   "id": "fa5cce85",
   "metadata": {},
   "outputs": [
    {
     "data": {
      "text/plain": [
       "(10.067132307688397, 15.151372215607585)"
      ]
     },
     "execution_count": 357,
     "metadata": {},
     "output_type": "execute_result"
    }
   ],
   "source": [
    "IQR(tsnr_options_DL_df[\"10_csf_pnm_moco_stc\"].values)"
   ]
  },
  {
   "cell_type": "markdown",
   "id": "377af5a9",
   "metadata": {},
   "source": [
    "### Plots/data for tSNR"
   ]
  },
  {
   "cell_type": "code",
   "execution_count": 273,
   "id": "ad62af2f",
   "metadata": {},
   "outputs": [],
   "source": [
    "tsnr = pd.read_csv('Outputs_paper_data/BP13_tsnr.csv',header=0,index_col=0,delimiter=\",\")"
   ]
  },
  {
   "cell_type": "code",
   "execution_count": 274,
   "id": "4fa5f727",
   "metadata": {},
   "outputs": [
    {
     "data": {
      "text/html": [
       "<div>\n",
       "<style scoped>\n",
       "    .dataframe tbody tr th:only-of-type {\n",
       "        vertical-align: middle;\n",
       "    }\n",
       "\n",
       "    .dataframe tbody tr th {\n",
       "        vertical-align: top;\n",
       "    }\n",
       "\n",
       "    .dataframe thead th {\n",
       "        text-align: right;\n",
       "    }\n",
       "</style>\n",
       "<table border=\"1\" class=\"dataframe\">\n",
       "  <thead>\n",
       "    <tr style=\"text-align: right;\">\n",
       "      <th></th>\n",
       "      <th>0_baseline_stc</th>\n",
       "      <th>1_csf_csfonly_stc</th>\n",
       "      <th>2_moco_stc</th>\n",
       "      <th>3_cc_stc</th>\n",
       "      <th>4_moco_cc_stc</th>\n",
       "      <th>5_pnm_cardonly_stc</th>\n",
       "      <th>6_pnm_responly_stc</th>\n",
       "      <th>7_pnm_stc</th>\n",
       "      <th>8_csf_pnm_stc</th>\n",
       "      <th>9_pnm_moco_stc</th>\n",
       "      <th>10_csf_pnm_moco_stc</th>\n",
       "      <th>11_csf_pnm_moco_cc_stc</th>\n",
       "    </tr>\n",
       "  </thead>\n",
       "  <tbody>\n",
       "    <tr>\n",
       "      <th>0</th>\n",
       "      <td>10.166535</td>\n",
       "      <td>12.231064</td>\n",
       "      <td>12.469173</td>\n",
       "      <td>13.040330</td>\n",
       "      <td>13.155217</td>\n",
       "      <td>12.472672</td>\n",
       "      <td>13.105064</td>\n",
       "      <td>14.138938</td>\n",
       "      <td>14.207808</td>\n",
       "      <td>14.250736</td>\n",
       "      <td>14.314648</td>\n",
       "      <td>14.633964</td>\n",
       "    </tr>\n",
       "    <tr>\n",
       "      <th>1</th>\n",
       "      <td>10.241011</td>\n",
       "      <td>12.729676</td>\n",
       "      <td>12.803660</td>\n",
       "      <td>13.447682</td>\n",
       "      <td>13.543839</td>\n",
       "      <td>12.991269</td>\n",
       "      <td>13.646662</td>\n",
       "      <td>14.666678</td>\n",
       "      <td>14.736591</td>\n",
       "      <td>14.773259</td>\n",
       "      <td>14.843068</td>\n",
       "      <td>15.187218</td>\n",
       "    </tr>\n",
       "    <tr>\n",
       "      <th>2</th>\n",
       "      <td>7.393147</td>\n",
       "      <td>8.973126</td>\n",
       "      <td>9.042286</td>\n",
       "      <td>9.181220</td>\n",
       "      <td>9.252248</td>\n",
       "      <td>9.145588</td>\n",
       "      <td>9.227671</td>\n",
       "      <td>9.847960</td>\n",
       "      <td>9.872441</td>\n",
       "      <td>9.921238</td>\n",
       "      <td>9.944011</td>\n",
       "      <td>10.143195</td>\n",
       "    </tr>\n",
       "    <tr>\n",
       "      <th>3</th>\n",
       "      <td>11.147248</td>\n",
       "      <td>13.338719</td>\n",
       "      <td>13.670245</td>\n",
       "      <td>14.033588</td>\n",
       "      <td>14.220773</td>\n",
       "      <td>13.619196</td>\n",
       "      <td>14.121600</td>\n",
       "      <td>15.153097</td>\n",
       "      <td>15.196892</td>\n",
       "      <td>15.349065</td>\n",
       "      <td>15.392148</td>\n",
       "      <td>15.711961</td>\n",
       "    </tr>\n",
       "    <tr>\n",
       "      <th>4</th>\n",
       "      <td>10.203809</td>\n",
       "      <td>12.449910</td>\n",
       "      <td>12.968749</td>\n",
       "      <td>13.580309</td>\n",
       "      <td>13.836389</td>\n",
       "      <td>12.697346</td>\n",
       "      <td>13.431064</td>\n",
       "      <td>14.406642</td>\n",
       "      <td>14.490699</td>\n",
       "      <td>14.654561</td>\n",
       "      <td>14.725843</td>\n",
       "      <td>15.333312</td>\n",
       "    </tr>\n",
       "    <tr>\n",
       "      <th>5</th>\n",
       "      <td>8.810998</td>\n",
       "      <td>10.532443</td>\n",
       "      <td>10.594126</td>\n",
       "      <td>10.857208</td>\n",
       "      <td>10.961771</td>\n",
       "      <td>10.751542</td>\n",
       "      <td>10.926524</td>\n",
       "      <td>11.687497</td>\n",
       "      <td>11.726953</td>\n",
       "      <td>11.789191</td>\n",
       "      <td>11.826928</td>\n",
       "      <td>12.085672</td>\n",
       "    </tr>\n",
       "    <tr>\n",
       "      <th>6</th>\n",
       "      <td>9.178732</td>\n",
       "      <td>11.181681</td>\n",
       "      <td>11.261890</td>\n",
       "      <td>11.499754</td>\n",
       "      <td>11.628290</td>\n",
       "      <td>11.451248</td>\n",
       "      <td>11.475320</td>\n",
       "      <td>12.320737</td>\n",
       "      <td>12.368091</td>\n",
       "      <td>12.434554</td>\n",
       "      <td>12.483223</td>\n",
       "      <td>12.799138</td>\n",
       "    </tr>\n",
       "    <tr>\n",
       "      <th>7</th>\n",
       "      <td>9.265814</td>\n",
       "      <td>11.096120</td>\n",
       "      <td>11.186668</td>\n",
       "      <td>11.235430</td>\n",
       "      <td>11.354852</td>\n",
       "      <td>11.319913</td>\n",
       "      <td>11.342848</td>\n",
       "      <td>12.142141</td>\n",
       "      <td>12.183326</td>\n",
       "      <td>12.262143</td>\n",
       "      <td>12.301357</td>\n",
       "      <td>12.522980</td>\n",
       "    </tr>\n",
       "    <tr>\n",
       "      <th>8</th>\n",
       "      <td>7.567194</td>\n",
       "      <td>9.194276</td>\n",
       "      <td>9.397149</td>\n",
       "      <td>9.593206</td>\n",
       "      <td>9.700936</td>\n",
       "      <td>9.382010</td>\n",
       "      <td>9.641550</td>\n",
       "      <td>10.306510</td>\n",
       "      <td>10.344635</td>\n",
       "      <td>10.401438</td>\n",
       "      <td>10.437044</td>\n",
       "      <td>10.709752</td>\n",
       "    </tr>\n",
       "    <tr>\n",
       "      <th>9</th>\n",
       "      <td>8.911729</td>\n",
       "      <td>11.407983</td>\n",
       "      <td>11.730608</td>\n",
       "      <td>12.121806</td>\n",
       "      <td>12.292514</td>\n",
       "      <td>11.617153</td>\n",
       "      <td>12.095478</td>\n",
       "      <td>12.964697</td>\n",
       "      <td>13.026404</td>\n",
       "      <td>13.203098</td>\n",
       "      <td>13.262490</td>\n",
       "      <td>13.631072</td>\n",
       "    </tr>\n",
       "    <tr>\n",
       "      <th>10</th>\n",
       "      <td>6.678636</td>\n",
       "      <td>8.175493</td>\n",
       "      <td>8.190963</td>\n",
       "      <td>8.278372</td>\n",
       "      <td>8.321496</td>\n",
       "      <td>8.322195</td>\n",
       "      <td>8.351457</td>\n",
       "      <td>8.902185</td>\n",
       "      <td>8.934411</td>\n",
       "      <td>8.953018</td>\n",
       "      <td>8.986646</td>\n",
       "      <td>9.149669</td>\n",
       "    </tr>\n",
       "    <tr>\n",
       "      <th>11</th>\n",
       "      <td>8.354334</td>\n",
       "      <td>8.556311</td>\n",
       "      <td>9.913387</td>\n",
       "      <td>10.202782</td>\n",
       "      <td>10.275872</td>\n",
       "      <td>10.077849</td>\n",
       "      <td>10.454034</td>\n",
       "      <td>11.187798</td>\n",
       "      <td>11.216635</td>\n",
       "      <td>11.261721</td>\n",
       "      <td>11.291553</td>\n",
       "      <td>11.475095</td>\n",
       "    </tr>\n",
       "    <tr>\n",
       "      <th>12</th>\n",
       "      <td>8.941871</td>\n",
       "      <td>10.670800</td>\n",
       "      <td>10.827673</td>\n",
       "      <td>10.806903</td>\n",
       "      <td>11.004313</td>\n",
       "      <td>10.878331</td>\n",
       "      <td>10.868260</td>\n",
       "      <td>11.682837</td>\n",
       "      <td>11.738570</td>\n",
       "      <td>11.862966</td>\n",
       "      <td>11.918322</td>\n",
       "      <td>12.115027</td>\n",
       "    </tr>\n",
       "    <tr>\n",
       "      <th>13</th>\n",
       "      <td>7.979416</td>\n",
       "      <td>9.729455</td>\n",
       "      <td>9.796680</td>\n",
       "      <td>9.875783</td>\n",
       "      <td>9.978459</td>\n",
       "      <td>9.879002</td>\n",
       "      <td>9.955873</td>\n",
       "      <td>10.622517</td>\n",
       "      <td>10.659911</td>\n",
       "      <td>10.702303</td>\n",
       "      <td>10.740307</td>\n",
       "      <td>10.941193</td>\n",
       "    </tr>\n",
       "    <tr>\n",
       "      <th>14</th>\n",
       "      <td>8.112161</td>\n",
       "      <td>10.027113</td>\n",
       "      <td>10.139642</td>\n",
       "      <td>10.483673</td>\n",
       "      <td>10.574981</td>\n",
       "      <td>10.171732</td>\n",
       "      <td>10.338558</td>\n",
       "      <td>11.043342</td>\n",
       "      <td>11.141112</td>\n",
       "      <td>11.262469</td>\n",
       "      <td>11.329218</td>\n",
       "      <td>11.731457</td>\n",
       "    </tr>\n",
       "    <tr>\n",
       "      <th>15</th>\n",
       "      <td>9.529392</td>\n",
       "      <td>11.703608</td>\n",
       "      <td>11.790714</td>\n",
       "      <td>11.940747</td>\n",
       "      <td>12.028976</td>\n",
       "      <td>11.935900</td>\n",
       "      <td>12.065792</td>\n",
       "      <td>12.922555</td>\n",
       "      <td>12.966183</td>\n",
       "      <td>13.026476</td>\n",
       "      <td>13.070556</td>\n",
       "      <td>13.310918</td>\n",
       "    </tr>\n",
       "    <tr>\n",
       "      <th>16</th>\n",
       "      <td>8.305044</td>\n",
       "      <td>10.071747</td>\n",
       "      <td>10.136374</td>\n",
       "      <td>10.270175</td>\n",
       "      <td>10.378801</td>\n",
       "      <td>10.296914</td>\n",
       "      <td>10.339495</td>\n",
       "      <td>11.103031</td>\n",
       "      <td>11.157179</td>\n",
       "      <td>11.188936</td>\n",
       "      <td>11.247956</td>\n",
       "      <td>11.447522</td>\n",
       "    </tr>\n",
       "    <tr>\n",
       "      <th>17</th>\n",
       "      <td>6.034273</td>\n",
       "      <td>7.274445</td>\n",
       "      <td>7.297763</td>\n",
       "      <td>7.420056</td>\n",
       "      <td>7.463976</td>\n",
       "      <td>7.403072</td>\n",
       "      <td>7.431972</td>\n",
       "      <td>7.933991</td>\n",
       "      <td>7.963679</td>\n",
       "      <td>7.983598</td>\n",
       "      <td>8.013084</td>\n",
       "      <td>8.169535</td>\n",
       "    </tr>\n",
       "    <tr>\n",
       "      <th>18</th>\n",
       "      <td>8.614431</td>\n",
       "      <td>10.653734</td>\n",
       "      <td>10.759741</td>\n",
       "      <td>10.801705</td>\n",
       "      <td>10.940638</td>\n",
       "      <td>10.860045</td>\n",
       "      <td>11.028836</td>\n",
       "      <td>11.828007</td>\n",
       "      <td>11.870830</td>\n",
       "      <td>11.950470</td>\n",
       "      <td>11.996713</td>\n",
       "      <td>12.234602</td>\n",
       "    </tr>\n",
       "    <tr>\n",
       "      <th>19</th>\n",
       "      <td>8.987727</td>\n",
       "      <td>10.926703</td>\n",
       "      <td>10.973931</td>\n",
       "      <td>11.404615</td>\n",
       "      <td>11.501769</td>\n",
       "      <td>11.217501</td>\n",
       "      <td>11.426594</td>\n",
       "      <td>12.326088</td>\n",
       "      <td>12.387413</td>\n",
       "      <td>12.417407</td>\n",
       "      <td>12.482874</td>\n",
       "      <td>12.752879</td>\n",
       "    </tr>\n",
       "    <tr>\n",
       "      <th>20</th>\n",
       "      <td>7.833474</td>\n",
       "      <td>9.920551</td>\n",
       "      <td>9.974218</td>\n",
       "      <td>10.211355</td>\n",
       "      <td>10.317992</td>\n",
       "      <td>10.035530</td>\n",
       "      <td>10.293480</td>\n",
       "      <td>11.024768</td>\n",
       "      <td>11.066994</td>\n",
       "      <td>11.120965</td>\n",
       "      <td>11.164873</td>\n",
       "      <td>11.365914</td>\n",
       "    </tr>\n",
       "    <tr>\n",
       "      <th>21</th>\n",
       "      <td>7.400860</td>\n",
       "      <td>9.745637</td>\n",
       "      <td>9.807355</td>\n",
       "      <td>9.973329</td>\n",
       "      <td>10.074478</td>\n",
       "      <td>9.920490</td>\n",
       "      <td>10.115283</td>\n",
       "      <td>10.844941</td>\n",
       "      <td>10.900365</td>\n",
       "      <td>10.949559</td>\n",
       "      <td>11.004255</td>\n",
       "      <td>11.214289</td>\n",
       "    </tr>\n",
       "    <tr>\n",
       "      <th>22</th>\n",
       "      <td>8.114924</td>\n",
       "      <td>10.705418</td>\n",
       "      <td>10.801539</td>\n",
       "      <td>11.116355</td>\n",
       "      <td>11.214973</td>\n",
       "      <td>10.821663</td>\n",
       "      <td>11.035277</td>\n",
       "      <td>11.809043</td>\n",
       "      <td>11.934941</td>\n",
       "      <td>11.997837</td>\n",
       "      <td>12.087162</td>\n",
       "      <td>12.408698</td>\n",
       "    </tr>\n",
       "    <tr>\n",
       "      <th>23</th>\n",
       "      <td>8.715985</td>\n",
       "      <td>10.715141</td>\n",
       "      <td>10.782179</td>\n",
       "      <td>10.929820</td>\n",
       "      <td>11.032756</td>\n",
       "      <td>10.895782</td>\n",
       "      <td>11.059754</td>\n",
       "      <td>11.814482</td>\n",
       "      <td>11.860000</td>\n",
       "      <td>11.905128</td>\n",
       "      <td>11.951332</td>\n",
       "      <td>12.151538</td>\n",
       "    </tr>\n",
       "  </tbody>\n",
       "</table>\n",
       "</div>"
      ],
      "text/plain": [
       "    0_baseline_stc  1_csf_csfonly_stc  2_moco_stc   3_cc_stc  4_moco_cc_stc  \\\n",
       "0        10.166535          12.231064   12.469173  13.040330      13.155217   \n",
       "1        10.241011          12.729676   12.803660  13.447682      13.543839   \n",
       "2         7.393147           8.973126    9.042286   9.181220       9.252248   \n",
       "3        11.147248          13.338719   13.670245  14.033588      14.220773   \n",
       "4        10.203809          12.449910   12.968749  13.580309      13.836389   \n",
       "5         8.810998          10.532443   10.594126  10.857208      10.961771   \n",
       "6         9.178732          11.181681   11.261890  11.499754      11.628290   \n",
       "7         9.265814          11.096120   11.186668  11.235430      11.354852   \n",
       "8         7.567194           9.194276    9.397149   9.593206       9.700936   \n",
       "9         8.911729          11.407983   11.730608  12.121806      12.292514   \n",
       "10        6.678636           8.175493    8.190963   8.278372       8.321496   \n",
       "11        8.354334           8.556311    9.913387  10.202782      10.275872   \n",
       "12        8.941871          10.670800   10.827673  10.806903      11.004313   \n",
       "13        7.979416           9.729455    9.796680   9.875783       9.978459   \n",
       "14        8.112161          10.027113   10.139642  10.483673      10.574981   \n",
       "15        9.529392          11.703608   11.790714  11.940747      12.028976   \n",
       "16        8.305044          10.071747   10.136374  10.270175      10.378801   \n",
       "17        6.034273           7.274445    7.297763   7.420056       7.463976   \n",
       "18        8.614431          10.653734   10.759741  10.801705      10.940638   \n",
       "19        8.987727          10.926703   10.973931  11.404615      11.501769   \n",
       "20        7.833474           9.920551    9.974218  10.211355      10.317992   \n",
       "21        7.400860           9.745637    9.807355   9.973329      10.074478   \n",
       "22        8.114924          10.705418   10.801539  11.116355      11.214973   \n",
       "23        8.715985          10.715141   10.782179  10.929820      11.032756   \n",
       "\n",
       "    5_pnm_cardonly_stc  6_pnm_responly_stc  7_pnm_stc  8_csf_pnm_stc  \\\n",
       "0            12.472672           13.105064  14.138938      14.207808   \n",
       "1            12.991269           13.646662  14.666678      14.736591   \n",
       "2             9.145588            9.227671   9.847960       9.872441   \n",
       "3            13.619196           14.121600  15.153097      15.196892   \n",
       "4            12.697346           13.431064  14.406642      14.490699   \n",
       "5            10.751542           10.926524  11.687497      11.726953   \n",
       "6            11.451248           11.475320  12.320737      12.368091   \n",
       "7            11.319913           11.342848  12.142141      12.183326   \n",
       "8             9.382010            9.641550  10.306510      10.344635   \n",
       "9            11.617153           12.095478  12.964697      13.026404   \n",
       "10            8.322195            8.351457   8.902185       8.934411   \n",
       "11           10.077849           10.454034  11.187798      11.216635   \n",
       "12           10.878331           10.868260  11.682837      11.738570   \n",
       "13            9.879002            9.955873  10.622517      10.659911   \n",
       "14           10.171732           10.338558  11.043342      11.141112   \n",
       "15           11.935900           12.065792  12.922555      12.966183   \n",
       "16           10.296914           10.339495  11.103031      11.157179   \n",
       "17            7.403072            7.431972   7.933991       7.963679   \n",
       "18           10.860045           11.028836  11.828007      11.870830   \n",
       "19           11.217501           11.426594  12.326088      12.387413   \n",
       "20           10.035530           10.293480  11.024768      11.066994   \n",
       "21            9.920490           10.115283  10.844941      10.900365   \n",
       "22           10.821663           11.035277  11.809043      11.934941   \n",
       "23           10.895782           11.059754  11.814482      11.860000   \n",
       "\n",
       "    9_pnm_moco_stc  10_csf_pnm_moco_stc  11_csf_pnm_moco_cc_stc  \n",
       "0        14.250736            14.314648               14.633964  \n",
       "1        14.773259            14.843068               15.187218  \n",
       "2         9.921238             9.944011               10.143195  \n",
       "3        15.349065            15.392148               15.711961  \n",
       "4        14.654561            14.725843               15.333312  \n",
       "5        11.789191            11.826928               12.085672  \n",
       "6        12.434554            12.483223               12.799138  \n",
       "7        12.262143            12.301357               12.522980  \n",
       "8        10.401438            10.437044               10.709752  \n",
       "9        13.203098            13.262490               13.631072  \n",
       "10        8.953018             8.986646                9.149669  \n",
       "11       11.261721            11.291553               11.475095  \n",
       "12       11.862966            11.918322               12.115027  \n",
       "13       10.702303            10.740307               10.941193  \n",
       "14       11.262469            11.329218               11.731457  \n",
       "15       13.026476            13.070556               13.310918  \n",
       "16       11.188936            11.247956               11.447522  \n",
       "17        7.983598             8.013084                8.169535  \n",
       "18       11.950470            11.996713               12.234602  \n",
       "19       12.417407            12.482874               12.752879  \n",
       "20       11.120965            11.164873               11.365914  \n",
       "21       10.949559            11.004255               11.214289  \n",
       "22       11.997837            12.087162               12.408698  \n",
       "23       11.905128            11.951332               12.151538  "
      ]
     },
     "execution_count": 274,
     "metadata": {},
     "output_type": "execute_result"
    }
   ],
   "source": [
    "tsnr"
   ]
  },
  {
   "cell_type": "code",
   "execution_count": 84,
   "id": "40f00c59",
   "metadata": {},
   "outputs": [],
   "source": [
    "def IQR(dist):\n",
    "    return np.percentile(dist, 5), np.percentile(dist, 95)"
   ]
  },
  {
   "cell_type": "code",
   "execution_count": 186,
   "id": "bb83b998",
   "metadata": {},
   "outputs": [],
   "source": [
    "errors = np.zeros(len(tsnr_options))\n",
    "median_tsnr = np.zeros(len(tsnr_options))\n",
    "i = 0\n",
    "labels = []\n",
    "for o, t in tsnr_options.items():\n",
    "    name,_=get_mfmri_den_details(o)\n",
    "    if o == 0:\n",
    "        labels.append(\"baseline\")\n",
    "    else:\n",
    "        labels.append('_'.join(name.split('_')[2:]))\n",
    "    median_tsnr[i] = np.median(t)\n",
    "    errors[i] = iqr(t)\n",
    "    i += 1\n",
    "    "
   ]
  },
  {
   "cell_type": "code",
   "execution_count": 187,
   "id": "dfb561e5",
   "metadata": {},
   "outputs": [
    {
     "data": {
      "application/vnd.plotly.v1+json": {
       "config": {
        "plotlyServerURL": "https://plot.ly"
       },
       "data": [
        {
         "error_y": {
          "array": [
           1.2575717971855855,
           1.4966651833974396,
           1.492190821239582,
           1.4645832712833702,
           1.50293757220334,
           1.485953684940057,
           1.3740076856578085,
           1.4953939049778633,
           1.5067683970007817,
           1.504420444544623,
           1.5053380958297655,
           1.5990754142403603
          ],
          "type": "data"
         },
         "name": "Denoising",
         "type": "bar",
         "x": [
          "baseline",
          "corr_denoised_csf_csfonly",
          "corr_denoised_moco",
          "corr_denoised_cc",
          "corr_denoised_moco_cc",
          "corr_denoised_pnm_cardonly",
          "corr_denoised_pnm_responly",
          "corr_denoised_pnm",
          "corr_denoised_csf_pnm",
          "corr_denoised_pnm_moco",
          "corr_denoised_csf_pnm_moco",
          "corr_denoised_csf_pnm_moco_cc"
         ],
         "y": [
          8.66520759450409,
          10.662266623406182,
          10.770959804584454,
          10.83205551121916,
          10.983042174151965,
          10.840854258430438,
          10.977680099152384,
          11.748269848087254,
          11.799285271725097,
          11.884046771309592,
          11.934827098598728,
          12.133282553065907
         ]
        }
       ],
       "layout": {
        "template": {
         "data": {
          "bar": [
           {
            "error_x": {
             "color": "#2a3f5f"
            },
            "error_y": {
             "color": "#2a3f5f"
            },
            "marker": {
             "line": {
              "color": "#E5ECF6",
              "width": 0.5
             },
             "pattern": {
              "fillmode": "overlay",
              "size": 10,
              "solidity": 0.2
             }
            },
            "type": "bar"
           }
          ],
          "barpolar": [
           {
            "marker": {
             "line": {
              "color": "#E5ECF6",
              "width": 0.5
             },
             "pattern": {
              "fillmode": "overlay",
              "size": 10,
              "solidity": 0.2
             }
            },
            "type": "barpolar"
           }
          ],
          "carpet": [
           {
            "aaxis": {
             "endlinecolor": "#2a3f5f",
             "gridcolor": "white",
             "linecolor": "white",
             "minorgridcolor": "white",
             "startlinecolor": "#2a3f5f"
            },
            "baxis": {
             "endlinecolor": "#2a3f5f",
             "gridcolor": "white",
             "linecolor": "white",
             "minorgridcolor": "white",
             "startlinecolor": "#2a3f5f"
            },
            "type": "carpet"
           }
          ],
          "choropleth": [
           {
            "colorbar": {
             "outlinewidth": 0,
             "ticks": ""
            },
            "type": "choropleth"
           }
          ],
          "contour": [
           {
            "colorbar": {
             "outlinewidth": 0,
             "ticks": ""
            },
            "colorscale": [
             [
              0,
              "#0d0887"
             ],
             [
              0.1111111111111111,
              "#46039f"
             ],
             [
              0.2222222222222222,
              "#7201a8"
             ],
             [
              0.3333333333333333,
              "#9c179e"
             ],
             [
              0.4444444444444444,
              "#bd3786"
             ],
             [
              0.5555555555555556,
              "#d8576b"
             ],
             [
              0.6666666666666666,
              "#ed7953"
             ],
             [
              0.7777777777777778,
              "#fb9f3a"
             ],
             [
              0.8888888888888888,
              "#fdca26"
             ],
             [
              1,
              "#f0f921"
             ]
            ],
            "type": "contour"
           }
          ],
          "contourcarpet": [
           {
            "colorbar": {
             "outlinewidth": 0,
             "ticks": ""
            },
            "type": "contourcarpet"
           }
          ],
          "heatmap": [
           {
            "colorbar": {
             "outlinewidth": 0,
             "ticks": ""
            },
            "colorscale": [
             [
              0,
              "#0d0887"
             ],
             [
              0.1111111111111111,
              "#46039f"
             ],
             [
              0.2222222222222222,
              "#7201a8"
             ],
             [
              0.3333333333333333,
              "#9c179e"
             ],
             [
              0.4444444444444444,
              "#bd3786"
             ],
             [
              0.5555555555555556,
              "#d8576b"
             ],
             [
              0.6666666666666666,
              "#ed7953"
             ],
             [
              0.7777777777777778,
              "#fb9f3a"
             ],
             [
              0.8888888888888888,
              "#fdca26"
             ],
             [
              1,
              "#f0f921"
             ]
            ],
            "type": "heatmap"
           }
          ],
          "heatmapgl": [
           {
            "colorbar": {
             "outlinewidth": 0,
             "ticks": ""
            },
            "colorscale": [
             [
              0,
              "#0d0887"
             ],
             [
              0.1111111111111111,
              "#46039f"
             ],
             [
              0.2222222222222222,
              "#7201a8"
             ],
             [
              0.3333333333333333,
              "#9c179e"
             ],
             [
              0.4444444444444444,
              "#bd3786"
             ],
             [
              0.5555555555555556,
              "#d8576b"
             ],
             [
              0.6666666666666666,
              "#ed7953"
             ],
             [
              0.7777777777777778,
              "#fb9f3a"
             ],
             [
              0.8888888888888888,
              "#fdca26"
             ],
             [
              1,
              "#f0f921"
             ]
            ],
            "type": "heatmapgl"
           }
          ],
          "histogram": [
           {
            "marker": {
             "pattern": {
              "fillmode": "overlay",
              "size": 10,
              "solidity": 0.2
             }
            },
            "type": "histogram"
           }
          ],
          "histogram2d": [
           {
            "colorbar": {
             "outlinewidth": 0,
             "ticks": ""
            },
            "colorscale": [
             [
              0,
              "#0d0887"
             ],
             [
              0.1111111111111111,
              "#46039f"
             ],
             [
              0.2222222222222222,
              "#7201a8"
             ],
             [
              0.3333333333333333,
              "#9c179e"
             ],
             [
              0.4444444444444444,
              "#bd3786"
             ],
             [
              0.5555555555555556,
              "#d8576b"
             ],
             [
              0.6666666666666666,
              "#ed7953"
             ],
             [
              0.7777777777777778,
              "#fb9f3a"
             ],
             [
              0.8888888888888888,
              "#fdca26"
             ],
             [
              1,
              "#f0f921"
             ]
            ],
            "type": "histogram2d"
           }
          ],
          "histogram2dcontour": [
           {
            "colorbar": {
             "outlinewidth": 0,
             "ticks": ""
            },
            "colorscale": [
             [
              0,
              "#0d0887"
             ],
             [
              0.1111111111111111,
              "#46039f"
             ],
             [
              0.2222222222222222,
              "#7201a8"
             ],
             [
              0.3333333333333333,
              "#9c179e"
             ],
             [
              0.4444444444444444,
              "#bd3786"
             ],
             [
              0.5555555555555556,
              "#d8576b"
             ],
             [
              0.6666666666666666,
              "#ed7953"
             ],
             [
              0.7777777777777778,
              "#fb9f3a"
             ],
             [
              0.8888888888888888,
              "#fdca26"
             ],
             [
              1,
              "#f0f921"
             ]
            ],
            "type": "histogram2dcontour"
           }
          ],
          "mesh3d": [
           {
            "colorbar": {
             "outlinewidth": 0,
             "ticks": ""
            },
            "type": "mesh3d"
           }
          ],
          "parcoords": [
           {
            "line": {
             "colorbar": {
              "outlinewidth": 0,
              "ticks": ""
             }
            },
            "type": "parcoords"
           }
          ],
          "pie": [
           {
            "automargin": true,
            "type": "pie"
           }
          ],
          "scatter": [
           {
            "fillpattern": {
             "fillmode": "overlay",
             "size": 10,
             "solidity": 0.2
            },
            "type": "scatter"
           }
          ],
          "scatter3d": [
           {
            "line": {
             "colorbar": {
              "outlinewidth": 0,
              "ticks": ""
             }
            },
            "marker": {
             "colorbar": {
              "outlinewidth": 0,
              "ticks": ""
             }
            },
            "type": "scatter3d"
           }
          ],
          "scattercarpet": [
           {
            "marker": {
             "colorbar": {
              "outlinewidth": 0,
              "ticks": ""
             }
            },
            "type": "scattercarpet"
           }
          ],
          "scattergeo": [
           {
            "marker": {
             "colorbar": {
              "outlinewidth": 0,
              "ticks": ""
             }
            },
            "type": "scattergeo"
           }
          ],
          "scattergl": [
           {
            "marker": {
             "colorbar": {
              "outlinewidth": 0,
              "ticks": ""
             }
            },
            "type": "scattergl"
           }
          ],
          "scattermapbox": [
           {
            "marker": {
             "colorbar": {
              "outlinewidth": 0,
              "ticks": ""
             }
            },
            "type": "scattermapbox"
           }
          ],
          "scatterpolar": [
           {
            "marker": {
             "colorbar": {
              "outlinewidth": 0,
              "ticks": ""
             }
            },
            "type": "scatterpolar"
           }
          ],
          "scatterpolargl": [
           {
            "marker": {
             "colorbar": {
              "outlinewidth": 0,
              "ticks": ""
             }
            },
            "type": "scatterpolargl"
           }
          ],
          "scatterternary": [
           {
            "marker": {
             "colorbar": {
              "outlinewidth": 0,
              "ticks": ""
             }
            },
            "type": "scatterternary"
           }
          ],
          "surface": [
           {
            "colorbar": {
             "outlinewidth": 0,
             "ticks": ""
            },
            "colorscale": [
             [
              0,
              "#0d0887"
             ],
             [
              0.1111111111111111,
              "#46039f"
             ],
             [
              0.2222222222222222,
              "#7201a8"
             ],
             [
              0.3333333333333333,
              "#9c179e"
             ],
             [
              0.4444444444444444,
              "#bd3786"
             ],
             [
              0.5555555555555556,
              "#d8576b"
             ],
             [
              0.6666666666666666,
              "#ed7953"
             ],
             [
              0.7777777777777778,
              "#fb9f3a"
             ],
             [
              0.8888888888888888,
              "#fdca26"
             ],
             [
              1,
              "#f0f921"
             ]
            ],
            "type": "surface"
           }
          ],
          "table": [
           {
            "cells": {
             "fill": {
              "color": "#EBF0F8"
             },
             "line": {
              "color": "white"
             }
            },
            "header": {
             "fill": {
              "color": "#C8D4E3"
             },
             "line": {
              "color": "white"
             }
            },
            "type": "table"
           }
          ]
         },
         "layout": {
          "annotationdefaults": {
           "arrowcolor": "#2a3f5f",
           "arrowhead": 0,
           "arrowwidth": 1
          },
          "autotypenumbers": "strict",
          "coloraxis": {
           "colorbar": {
            "outlinewidth": 0,
            "ticks": ""
           }
          },
          "colorscale": {
           "diverging": [
            [
             0,
             "#8e0152"
            ],
            [
             0.1,
             "#c51b7d"
            ],
            [
             0.2,
             "#de77ae"
            ],
            [
             0.3,
             "#f1b6da"
            ],
            [
             0.4,
             "#fde0ef"
            ],
            [
             0.5,
             "#f7f7f7"
            ],
            [
             0.6,
             "#e6f5d0"
            ],
            [
             0.7,
             "#b8e186"
            ],
            [
             0.8,
             "#7fbc41"
            ],
            [
             0.9,
             "#4d9221"
            ],
            [
             1,
             "#276419"
            ]
           ],
           "sequential": [
            [
             0,
             "#0d0887"
            ],
            [
             0.1111111111111111,
             "#46039f"
            ],
            [
             0.2222222222222222,
             "#7201a8"
            ],
            [
             0.3333333333333333,
             "#9c179e"
            ],
            [
             0.4444444444444444,
             "#bd3786"
            ],
            [
             0.5555555555555556,
             "#d8576b"
            ],
            [
             0.6666666666666666,
             "#ed7953"
            ],
            [
             0.7777777777777778,
             "#fb9f3a"
            ],
            [
             0.8888888888888888,
             "#fdca26"
            ],
            [
             1,
             "#f0f921"
            ]
           ],
           "sequentialminus": [
            [
             0,
             "#0d0887"
            ],
            [
             0.1111111111111111,
             "#46039f"
            ],
            [
             0.2222222222222222,
             "#7201a8"
            ],
            [
             0.3333333333333333,
             "#9c179e"
            ],
            [
             0.4444444444444444,
             "#bd3786"
            ],
            [
             0.5555555555555556,
             "#d8576b"
            ],
            [
             0.6666666666666666,
             "#ed7953"
            ],
            [
             0.7777777777777778,
             "#fb9f3a"
            ],
            [
             0.8888888888888888,
             "#fdca26"
            ],
            [
             1,
             "#f0f921"
            ]
           ]
          },
          "colorway": [
           "#636efa",
           "#EF553B",
           "#00cc96",
           "#ab63fa",
           "#FFA15A",
           "#19d3f3",
           "#FF6692",
           "#B6E880",
           "#FF97FF",
           "#FECB52"
          ],
          "font": {
           "color": "#2a3f5f"
          },
          "geo": {
           "bgcolor": "white",
           "lakecolor": "white",
           "landcolor": "#E5ECF6",
           "showlakes": true,
           "showland": true,
           "subunitcolor": "white"
          },
          "hoverlabel": {
           "align": "left"
          },
          "hovermode": "closest",
          "mapbox": {
           "style": "light"
          },
          "paper_bgcolor": "white",
          "plot_bgcolor": "#E5ECF6",
          "polar": {
           "angularaxis": {
            "gridcolor": "white",
            "linecolor": "white",
            "ticks": ""
           },
           "bgcolor": "#E5ECF6",
           "radialaxis": {
            "gridcolor": "white",
            "linecolor": "white",
            "ticks": ""
           }
          },
          "scene": {
           "xaxis": {
            "backgroundcolor": "#E5ECF6",
            "gridcolor": "white",
            "gridwidth": 2,
            "linecolor": "white",
            "showbackground": true,
            "ticks": "",
            "zerolinecolor": "white"
           },
           "yaxis": {
            "backgroundcolor": "#E5ECF6",
            "gridcolor": "white",
            "gridwidth": 2,
            "linecolor": "white",
            "showbackground": true,
            "ticks": "",
            "zerolinecolor": "white"
           },
           "zaxis": {
            "backgroundcolor": "#E5ECF6",
            "gridcolor": "white",
            "gridwidth": 2,
            "linecolor": "white",
            "showbackground": true,
            "ticks": "",
            "zerolinecolor": "white"
           }
          },
          "shapedefaults": {
           "line": {
            "color": "#2a3f5f"
           }
          },
          "ternary": {
           "aaxis": {
            "gridcolor": "white",
            "linecolor": "white",
            "ticks": ""
           },
           "baxis": {
            "gridcolor": "white",
            "linecolor": "white",
            "ticks": ""
           },
           "bgcolor": "#E5ECF6",
           "caxis": {
            "gridcolor": "white",
            "linecolor": "white",
            "ticks": ""
           }
          },
          "title": {
           "x": 0.05
          },
          "xaxis": {
           "automargin": true,
           "gridcolor": "white",
           "linecolor": "white",
           "ticks": "",
           "title": {
            "standoff": 15
           },
           "zerolinecolor": "white",
           "zerolinewidth": 2
          },
          "yaxis": {
           "automargin": true,
           "gridcolor": "white",
           "linecolor": "white",
           "ticks": "",
           "title": {
            "standoff": 15
           },
           "zerolinecolor": "white",
           "zerolinewidth": 2
          }
         }
        },
        "title": {
         "text": "Plot Title"
        },
        "xaxis": {
         "title": {
          "text": "Denoising options"
         }
        },
        "yaxis": {
         "title": {
          "text": "tSNR"
         }
        }
       }
      },
      "text/html": [
       "<div>                            <div id=\"3b2aebec-7e9c-420d-8e39-8a3d5a33fb2f\" class=\"plotly-graph-div\" style=\"height:525px; width:100%;\"></div>            <script type=\"text/javascript\">                require([\"plotly\"], function(Plotly) {                    window.PLOTLYENV=window.PLOTLYENV || {};                                    if (document.getElementById(\"3b2aebec-7e9c-420d-8e39-8a3d5a33fb2f\")) {                    Plotly.newPlot(                        \"3b2aebec-7e9c-420d-8e39-8a3d5a33fb2f\",                        [{\"error_y\":{\"array\":[1.2575717971855855,1.4966651833974396,1.492190821239582,1.4645832712833702,1.50293757220334,1.485953684940057,1.3740076856578085,1.4953939049778633,1.5067683970007817,1.504420444544623,1.5053380958297655,1.5990754142403603],\"type\":\"data\"},\"name\":\"Denoising\",\"x\":[\"baseline\",\"corr_denoised_csf_csfonly\",\"corr_denoised_moco\",\"corr_denoised_cc\",\"corr_denoised_moco_cc\",\"corr_denoised_pnm_cardonly\",\"corr_denoised_pnm_responly\",\"corr_denoised_pnm\",\"corr_denoised_csf_pnm\",\"corr_denoised_pnm_moco\",\"corr_denoised_csf_pnm_moco\",\"corr_denoised_csf_pnm_moco_cc\"],\"y\":[8.66520759450409,10.662266623406182,10.770959804584454,10.83205551121916,10.983042174151965,10.840854258430438,10.977680099152384,11.748269848087254,11.799285271725097,11.884046771309592,11.934827098598728,12.133282553065907],\"type\":\"bar\"}],                        {\"template\":{\"data\":{\"histogram2dcontour\":[{\"type\":\"histogram2dcontour\",\"colorbar\":{\"outlinewidth\":0,\"ticks\":\"\"},\"colorscale\":[[0.0,\"#0d0887\"],[0.1111111111111111,\"#46039f\"],[0.2222222222222222,\"#7201a8\"],[0.3333333333333333,\"#9c179e\"],[0.4444444444444444,\"#bd3786\"],[0.5555555555555556,\"#d8576b\"],[0.6666666666666666,\"#ed7953\"],[0.7777777777777778,\"#fb9f3a\"],[0.8888888888888888,\"#fdca26\"],[1.0,\"#f0f921\"]]}],\"choropleth\":[{\"type\":\"choropleth\",\"colorbar\":{\"outlinewidth\":0,\"ticks\":\"\"}}],\"histogram2d\":[{\"type\":\"histogram2d\",\"colorbar\":{\"outlinewidth\":0,\"ticks\":\"\"},\"colorscale\":[[0.0,\"#0d0887\"],[0.1111111111111111,\"#46039f\"],[0.2222222222222222,\"#7201a8\"],[0.3333333333333333,\"#9c179e\"],[0.4444444444444444,\"#bd3786\"],[0.5555555555555556,\"#d8576b\"],[0.6666666666666666,\"#ed7953\"],[0.7777777777777778,\"#fb9f3a\"],[0.8888888888888888,\"#fdca26\"],[1.0,\"#f0f921\"]]}],\"heatmap\":[{\"type\":\"heatmap\",\"colorbar\":{\"outlinewidth\":0,\"ticks\":\"\"},\"colorscale\":[[0.0,\"#0d0887\"],[0.1111111111111111,\"#46039f\"],[0.2222222222222222,\"#7201a8\"],[0.3333333333333333,\"#9c179e\"],[0.4444444444444444,\"#bd3786\"],[0.5555555555555556,\"#d8576b\"],[0.6666666666666666,\"#ed7953\"],[0.7777777777777778,\"#fb9f3a\"],[0.8888888888888888,\"#fdca26\"],[1.0,\"#f0f921\"]]}],\"heatmapgl\":[{\"type\":\"heatmapgl\",\"colorbar\":{\"outlinewidth\":0,\"ticks\":\"\"},\"colorscale\":[[0.0,\"#0d0887\"],[0.1111111111111111,\"#46039f\"],[0.2222222222222222,\"#7201a8\"],[0.3333333333333333,\"#9c179e\"],[0.4444444444444444,\"#bd3786\"],[0.5555555555555556,\"#d8576b\"],[0.6666666666666666,\"#ed7953\"],[0.7777777777777778,\"#fb9f3a\"],[0.8888888888888888,\"#fdca26\"],[1.0,\"#f0f921\"]]}],\"contourcarpet\":[{\"type\":\"contourcarpet\",\"colorbar\":{\"outlinewidth\":0,\"ticks\":\"\"}}],\"contour\":[{\"type\":\"contour\",\"colorbar\":{\"outlinewidth\":0,\"ticks\":\"\"},\"colorscale\":[[0.0,\"#0d0887\"],[0.1111111111111111,\"#46039f\"],[0.2222222222222222,\"#7201a8\"],[0.3333333333333333,\"#9c179e\"],[0.4444444444444444,\"#bd3786\"],[0.5555555555555556,\"#d8576b\"],[0.6666666666666666,\"#ed7953\"],[0.7777777777777778,\"#fb9f3a\"],[0.8888888888888888,\"#fdca26\"],[1.0,\"#f0f921\"]]}],\"surface\":[{\"type\":\"surface\",\"colorbar\":{\"outlinewidth\":0,\"ticks\":\"\"},\"colorscale\":[[0.0,\"#0d0887\"],[0.1111111111111111,\"#46039f\"],[0.2222222222222222,\"#7201a8\"],[0.3333333333333333,\"#9c179e\"],[0.4444444444444444,\"#bd3786\"],[0.5555555555555556,\"#d8576b\"],[0.6666666666666666,\"#ed7953\"],[0.7777777777777778,\"#fb9f3a\"],[0.8888888888888888,\"#fdca26\"],[1.0,\"#f0f921\"]]}],\"mesh3d\":[{\"type\":\"mesh3d\",\"colorbar\":{\"outlinewidth\":0,\"ticks\":\"\"}}],\"scatter\":[{\"fillpattern\":{\"fillmode\":\"overlay\",\"size\":10,\"solidity\":0.2},\"type\":\"scatter\"}],\"parcoords\":[{\"type\":\"parcoords\",\"line\":{\"colorbar\":{\"outlinewidth\":0,\"ticks\":\"\"}}}],\"scatterpolargl\":[{\"type\":\"scatterpolargl\",\"marker\":{\"colorbar\":{\"outlinewidth\":0,\"ticks\":\"\"}}}],\"bar\":[{\"error_x\":{\"color\":\"#2a3f5f\"},\"error_y\":{\"color\":\"#2a3f5f\"},\"marker\":{\"line\":{\"color\":\"#E5ECF6\",\"width\":0.5},\"pattern\":{\"fillmode\":\"overlay\",\"size\":10,\"solidity\":0.2}},\"type\":\"bar\"}],\"scattergeo\":[{\"type\":\"scattergeo\",\"marker\":{\"colorbar\":{\"outlinewidth\":0,\"ticks\":\"\"}}}],\"scatterpolar\":[{\"type\":\"scatterpolar\",\"marker\":{\"colorbar\":{\"outlinewidth\":0,\"ticks\":\"\"}}}],\"histogram\":[{\"marker\":{\"pattern\":{\"fillmode\":\"overlay\",\"size\":10,\"solidity\":0.2}},\"type\":\"histogram\"}],\"scattergl\":[{\"type\":\"scattergl\",\"marker\":{\"colorbar\":{\"outlinewidth\":0,\"ticks\":\"\"}}}],\"scatter3d\":[{\"type\":\"scatter3d\",\"line\":{\"colorbar\":{\"outlinewidth\":0,\"ticks\":\"\"}},\"marker\":{\"colorbar\":{\"outlinewidth\":0,\"ticks\":\"\"}}}],\"scattermapbox\":[{\"type\":\"scattermapbox\",\"marker\":{\"colorbar\":{\"outlinewidth\":0,\"ticks\":\"\"}}}],\"scatterternary\":[{\"type\":\"scatterternary\",\"marker\":{\"colorbar\":{\"outlinewidth\":0,\"ticks\":\"\"}}}],\"scattercarpet\":[{\"type\":\"scattercarpet\",\"marker\":{\"colorbar\":{\"outlinewidth\":0,\"ticks\":\"\"}}}],\"carpet\":[{\"aaxis\":{\"endlinecolor\":\"#2a3f5f\",\"gridcolor\":\"white\",\"linecolor\":\"white\",\"minorgridcolor\":\"white\",\"startlinecolor\":\"#2a3f5f\"},\"baxis\":{\"endlinecolor\":\"#2a3f5f\",\"gridcolor\":\"white\",\"linecolor\":\"white\",\"minorgridcolor\":\"white\",\"startlinecolor\":\"#2a3f5f\"},\"type\":\"carpet\"}],\"table\":[{\"cells\":{\"fill\":{\"color\":\"#EBF0F8\"},\"line\":{\"color\":\"white\"}},\"header\":{\"fill\":{\"color\":\"#C8D4E3\"},\"line\":{\"color\":\"white\"}},\"type\":\"table\"}],\"barpolar\":[{\"marker\":{\"line\":{\"color\":\"#E5ECF6\",\"width\":0.5},\"pattern\":{\"fillmode\":\"overlay\",\"size\":10,\"solidity\":0.2}},\"type\":\"barpolar\"}],\"pie\":[{\"automargin\":true,\"type\":\"pie\"}]},\"layout\":{\"autotypenumbers\":\"strict\",\"colorway\":[\"#636efa\",\"#EF553B\",\"#00cc96\",\"#ab63fa\",\"#FFA15A\",\"#19d3f3\",\"#FF6692\",\"#B6E880\",\"#FF97FF\",\"#FECB52\"],\"font\":{\"color\":\"#2a3f5f\"},\"hovermode\":\"closest\",\"hoverlabel\":{\"align\":\"left\"},\"paper_bgcolor\":\"white\",\"plot_bgcolor\":\"#E5ECF6\",\"polar\":{\"bgcolor\":\"#E5ECF6\",\"angularaxis\":{\"gridcolor\":\"white\",\"linecolor\":\"white\",\"ticks\":\"\"},\"radialaxis\":{\"gridcolor\":\"white\",\"linecolor\":\"white\",\"ticks\":\"\"}},\"ternary\":{\"bgcolor\":\"#E5ECF6\",\"aaxis\":{\"gridcolor\":\"white\",\"linecolor\":\"white\",\"ticks\":\"\"},\"baxis\":{\"gridcolor\":\"white\",\"linecolor\":\"white\",\"ticks\":\"\"},\"caxis\":{\"gridcolor\":\"white\",\"linecolor\":\"white\",\"ticks\":\"\"}},\"coloraxis\":{\"colorbar\":{\"outlinewidth\":0,\"ticks\":\"\"}},\"colorscale\":{\"sequential\":[[0.0,\"#0d0887\"],[0.1111111111111111,\"#46039f\"],[0.2222222222222222,\"#7201a8\"],[0.3333333333333333,\"#9c179e\"],[0.4444444444444444,\"#bd3786\"],[0.5555555555555556,\"#d8576b\"],[0.6666666666666666,\"#ed7953\"],[0.7777777777777778,\"#fb9f3a\"],[0.8888888888888888,\"#fdca26\"],[1.0,\"#f0f921\"]],\"sequentialminus\":[[0.0,\"#0d0887\"],[0.1111111111111111,\"#46039f\"],[0.2222222222222222,\"#7201a8\"],[0.3333333333333333,\"#9c179e\"],[0.4444444444444444,\"#bd3786\"],[0.5555555555555556,\"#d8576b\"],[0.6666666666666666,\"#ed7953\"],[0.7777777777777778,\"#fb9f3a\"],[0.8888888888888888,\"#fdca26\"],[1.0,\"#f0f921\"]],\"diverging\":[[0,\"#8e0152\"],[0.1,\"#c51b7d\"],[0.2,\"#de77ae\"],[0.3,\"#f1b6da\"],[0.4,\"#fde0ef\"],[0.5,\"#f7f7f7\"],[0.6,\"#e6f5d0\"],[0.7,\"#b8e186\"],[0.8,\"#7fbc41\"],[0.9,\"#4d9221\"],[1,\"#276419\"]]},\"xaxis\":{\"gridcolor\":\"white\",\"linecolor\":\"white\",\"ticks\":\"\",\"title\":{\"standoff\":15},\"zerolinecolor\":\"white\",\"automargin\":true,\"zerolinewidth\":2},\"yaxis\":{\"gridcolor\":\"white\",\"linecolor\":\"white\",\"ticks\":\"\",\"title\":{\"standoff\":15},\"zerolinecolor\":\"white\",\"automargin\":true,\"zerolinewidth\":2},\"scene\":{\"xaxis\":{\"backgroundcolor\":\"#E5ECF6\",\"gridcolor\":\"white\",\"linecolor\":\"white\",\"showbackground\":true,\"ticks\":\"\",\"zerolinecolor\":\"white\",\"gridwidth\":2},\"yaxis\":{\"backgroundcolor\":\"#E5ECF6\",\"gridcolor\":\"white\",\"linecolor\":\"white\",\"showbackground\":true,\"ticks\":\"\",\"zerolinecolor\":\"white\",\"gridwidth\":2},\"zaxis\":{\"backgroundcolor\":\"#E5ECF6\",\"gridcolor\":\"white\",\"linecolor\":\"white\",\"showbackground\":true,\"ticks\":\"\",\"zerolinecolor\":\"white\",\"gridwidth\":2}},\"shapedefaults\":{\"line\":{\"color\":\"#2a3f5f\"}},\"annotationdefaults\":{\"arrowcolor\":\"#2a3f5f\",\"arrowhead\":0,\"arrowwidth\":1},\"geo\":{\"bgcolor\":\"white\",\"landcolor\":\"#E5ECF6\",\"subunitcolor\":\"white\",\"showland\":true,\"showlakes\":true,\"lakecolor\":\"white\"},\"title\":{\"x\":0.05},\"mapbox\":{\"style\":\"light\"}}},\"title\":{\"text\":\"Plot Title\"},\"xaxis\":{\"title\":{\"text\":\"Denoising options\"}},\"yaxis\":{\"title\":{\"text\":\"tSNR\"}}},                        {\"responsive\": true}                    ).then(function(){\n",
       "                            \n",
       "var gd = document.getElementById('3b2aebec-7e9c-420d-8e39-8a3d5a33fb2f');\n",
       "var x = new MutationObserver(function (mutations, observer) {{\n",
       "        var display = window.getComputedStyle(gd).display;\n",
       "        if (!display || display === 'none') {{\n",
       "            console.log([gd, 'removed!']);\n",
       "            Plotly.purge(gd);\n",
       "            observer.disconnect();\n",
       "        }}\n",
       "}});\n",
       "\n",
       "// Listen for the removal of the full notebook cells\n",
       "var notebookContainer = gd.closest('#notebook-container');\n",
       "if (notebookContainer) {{\n",
       "    x.observe(notebookContainer, {childList: true});\n",
       "}}\n",
       "\n",
       "// Listen for the clearing of the current output cell\n",
       "var outputEl = gd.closest('.output');\n",
       "if (outputEl) {{\n",
       "    x.observe(outputEl, {childList: true});\n",
       "}}\n",
       "\n",
       "                        })                };                });            </script>        </div>"
      ]
     },
     "metadata": {},
     "output_type": "display_data"
    }
   ],
   "source": [
    "fig = go.Figure()\n",
    "fig.add_trace(go.Bar(\n",
    "    name='Denoising',\n",
    "    x=labels, y=median_tsnr,\n",
    "    error_y=dict(type='data', array=errors)\n",
    "))\n",
    "\n",
    "fig.update_layout(\n",
    "    title=\"Plot Title\",\n",
    "    xaxis_title=\"Denoising options\",\n",
    "    yaxis_title=\"tSNR\")\n",
    "\n",
    "# fig.add_trace(go.Bar(\n",
    "#     name='Experimental',\n",
    "#     x=['Trial 1', 'Trial 2', 'Trial 3'], y=[4, 7, 3],\n",
    "#     error_y=dict(type='data', array=[0.5, 1, 2])\n",
    "# ))\n",
    "# fig.update_layout(barmode='group')\n",
    "fig.show()\n",
    "# fig.write_html(f\"Outputs_paper_figures/{tempfilt}_tsnr.html\")\n",
    "# fig.write_image(f\"Outputs_paper_figures/{tempfilt}_tsnr.png\")"
   ]
  },
  {
   "cell_type": "code",
   "execution_count": 271,
   "id": "9f15d25d",
   "metadata": {},
   "outputs": [],
   "source": [
    "errors = np.zeros(len(tsnr_options))\n",
    "median_tsnr = np.zeros(len(tsnr_options))\n",
    "i = 0\n",
    "labels = []\n",
    "for o, t in tsnr_options_DL.items():\n",
    "    name,_=get_mfmri_den_details(o)\n",
    "    if o == 0:\n",
    "        labels.append(\"baseline\")\n",
    "    else:\n",
    "        labels.append('_'.join(name.split('_')[2:]))\n",
    "    median_tsnr[i] = np.median(t)\n",
    "    errors[i] = iqr(t)\n",
    "    i += 1"
   ]
  },
  {
   "cell_type": "code",
   "execution_count": 272,
   "id": "d45ebeb8",
   "metadata": {},
   "outputs": [
    {
     "name": "stdout",
     "output_type": "stream",
     "text": [
      "0_baseline_stc : 8.860808592576248 += iqr [0.9851919767694657]\n",
      "1_csf_csfonly_stc : 10.690810095362302 += iqr [1.0814216870250135]\n",
      "2_moco_stc : 10.763876613079578 += iqr [1.0992394608078584]\n",
      "3_cc_stc : 11.015756816346181 += iqr [1.3466230939416306]\n",
      "4_moco_cc_stc : 11.104959535382992 += iqr [1.3328004575827546]\n",
      "5_pnm_cardonly_stc : 10.838461779746687 += iqr [1.1898225004022773]\n",
      "6_pnm_responly_stc : 10.99289361378442 += iqr [1.086029342641952]\n",
      "7_pnm_stc : 11.776159433493937 += iqr [1.2237999783664133]\n",
      "8_csf_pnm_stc : 11.869723235754142 += iqr [1.2869572304602954]\n",
      "9_pnm_moco_stc : 11.947326053090457 += iqr [1.2385992142140054]\n",
      "10_csf_pnm_moco_stc : 12.033892922040796 += iqr [1.311803139608271]\n",
      "11_csf_pnm_moco_cc_stc : 12.288040563839825 += iqr [1.4372483178427675]\n"
     ]
    }
   ],
   "source": [
    "for i,den in enumerate(denoising_names):\n",
    "    print(f\"{den} : {median_tsnr[i]} += iqr [{errors[i]}]\")"
   ]
  },
  {
   "cell_type": "markdown",
   "id": "ea7b1c59",
   "metadata": {},
   "source": [
    "# Box-plot stats on the 4 connectivity"
   ]
  },
  {
   "cell_type": "code",
   "execution_count": 30,
   "id": "5fca890d",
   "metadata": {},
   "outputs": [],
   "source": [
    "subjects_paths = FC.subjects_paths"
   ]
  },
  {
   "cell_type": "code",
   "execution_count": 31,
   "id": "24c81a45",
   "metadata": {},
   "outputs": [],
   "source": [
    "tempfilt = 'BP13'"
   ]
  },
  {
   "cell_type": "code",
   "execution_count": 32,
   "id": "5781dbcb",
   "metadata": {},
   "outputs": [
    {
     "data": {
      "text/plain": [
       "'0_baseline_stc'"
      ]
     },
     "execution_count": 32,
     "metadata": {},
     "output_type": "execute_result"
    }
   ],
   "source": [
    "get_option_foldername(0)"
   ]
  },
  {
   "cell_type": "code",
   "execution_count": 113,
   "id": "49136551",
   "metadata": {
    "scrolled": true
   },
   "outputs": [
    {
     "name": "stderr",
     "output_type": "stream",
     "text": [
      "\r",
      "  0%|                                                    | 0/12 [00:00<?, ?it/s]"
     ]
    },
    {
     "data": {
      "application/vnd.jupyter.widget-view+json": {
       "model_id": "11a01824bfa6482fb76bcdbad7c2ab09",
       "version_major": 2,
       "version_minor": 0
      },
      "text/plain": [
       "HBox(children=(HTML(value=''), FloatProgress(value=0.0, max=24.0), HTML(value='')))"
      ]
     },
     "metadata": {},
     "output_type": "display_data"
    },
    {
     "name": "stdout",
     "output_type": "stream",
     "text": [
      "LU_AT\n",
      "LU_EP\n",
      "LU_FB\n",
      "LU_EM\n",
      "LU_GL\n",
      "LU_GP\n",
      "LU_MD\n",
      "LU_MP\n"
     ]
    },
    {
     "name": "stderr",
     "output_type": "stream",
     "text": [
      "\r",
      "  8%|███▋                                        | 1/12 [00:00<00:03,  3.42it/s]"
     ]
    },
    {
     "name": "stdout",
     "output_type": "stream",
     "text": [
      "LU_NG\n",
      "LU_NK\n",
      "LU_SA\n",
      "LU_SL\n",
      "LU_VG\n",
      "LU_YF\n",
      "LU_IR\n",
      "LU_BN\n",
      "LU_ML\n",
      "LU_SM\n",
      "LU_NS\n",
      "LU_NB\n",
      "LU_AF\n",
      "LU_MC\n",
      "LU_AR\n",
      "LU_MT\n",
      "\n"
     ]
    },
    {
     "data": {
      "application/vnd.jupyter.widget-view+json": {
       "model_id": "8cf673ec9ab34e4e8b4034bb2cf6c649",
       "version_major": 2,
       "version_minor": 0
      },
      "text/plain": [
       "HBox(children=(HTML(value=''), FloatProgress(value=0.0, max=24.0), HTML(value='')))"
      ]
     },
     "metadata": {},
     "output_type": "display_data"
    },
    {
     "name": "stdout",
     "output_type": "stream",
     "text": [
      "LU_AT\n",
      "LU_EP\n",
      "LU_FB\n",
      "LU_EM\n",
      "LU_GL\n",
      "LU_GP\n",
      "LU_MD\n",
      "LU_MP\n",
      "LU_NG\n"
     ]
    },
    {
     "name": "stderr",
     "output_type": "stream",
     "text": [
      "\r",
      " 17%|███████▎                                    | 2/12 [00:00<00:02,  3.47it/s]"
     ]
    },
    {
     "name": "stdout",
     "output_type": "stream",
     "text": [
      "LU_NK\n",
      "LU_SA\n",
      "LU_SL\n",
      "LU_VG\n",
      "LU_YF\n",
      "LU_IR\n",
      "LU_BN\n",
      "LU_ML\n",
      "LU_SM\n",
      "LU_NS\n",
      "LU_NB\n",
      "LU_AF\n",
      "LU_MC\n",
      "LU_AR\n",
      "LU_MT\n",
      "\n"
     ]
    },
    {
     "data": {
      "application/vnd.jupyter.widget-view+json": {
       "model_id": "c844501e538442598dd8cc7f30938e81",
       "version_major": 2,
       "version_minor": 0
      },
      "text/plain": [
       "HBox(children=(HTML(value=''), FloatProgress(value=0.0, max=24.0), HTML(value='')))"
      ]
     },
     "metadata": {},
     "output_type": "display_data"
    },
    {
     "name": "stdout",
     "output_type": "stream",
     "text": [
      "LU_AT\n",
      "LU_EP\n",
      "LU_FB\n",
      "LU_EM\n",
      "LU_GL\n",
      "LU_GP\n",
      "LU_MD\n",
      "LU_MP\n",
      "LU_NG\n",
      "LU_NK\n",
      "LU_SA\n",
      "LU_SL\n",
      "LU_VG\n",
      "LU_YF\n",
      "LU_IR\n",
      "LU_BN\n",
      "LU_ML\n",
      "LU_SM\n",
      "LU_NS\n",
      "LU_NB\n",
      "LU_AF\n",
      "LU_MC\n",
      "LU_AR\n",
      "LU_MT\n",
      "\n"
     ]
    },
    {
     "data": {
      "application/vnd.jupyter.widget-view+json": {
       "model_id": "e3e7d7c5b7d540bb9d4b35c72df5b579",
       "version_major": 2,
       "version_minor": 0
      },
      "text/plain": [
       "HBox(children=(HTML(value=''), FloatProgress(value=0.0, max=24.0), HTML(value='')))"
      ]
     },
     "metadata": {},
     "output_type": "display_data"
    },
    {
     "name": "stdout",
     "output_type": "stream",
     "text": [
      "LU_AT\n",
      "LU_EP\n",
      "LU_FB\n",
      "LU_EM\n",
      "LU_GL\n",
      "LU_GP\n",
      "LU_MD\n",
      "LU_MP\n",
      "LU_NG\n",
      "LU_NK\n",
      "LU_SA\n",
      "LU_SL\n",
      "LU_VG\n",
      "LU_YF\n",
      "LU_IR\n",
      "LU_BN\n",
      "LU_ML\n",
      "LU_SM\n"
     ]
    },
    {
     "name": "stderr",
     "output_type": "stream",
     "text": [
      "\r",
      " 33%|██████████████▋                             | 4/12 [00:00<00:01,  4.10it/s]"
     ]
    },
    {
     "name": "stdout",
     "output_type": "stream",
     "text": [
      "LU_NS\n",
      "LU_NB\n",
      "LU_AF\n",
      "LU_MC\n",
      "LU_AR\n",
      "LU_MT\n",
      "\n"
     ]
    },
    {
     "data": {
      "application/vnd.jupyter.widget-view+json": {
       "model_id": "91ac616059ae4c628ff5bd859e5adc5f",
       "version_major": 2,
       "version_minor": 0
      },
      "text/plain": [
       "HBox(children=(HTML(value=''), FloatProgress(value=0.0, max=24.0), HTML(value='')))"
      ]
     },
     "metadata": {},
     "output_type": "display_data"
    },
    {
     "name": "stdout",
     "output_type": "stream",
     "text": [
      "LU_AT\n",
      "LU_EP\n",
      "LU_FB\n",
      "LU_EM\n",
      "LU_GL\n",
      "LU_GP\n",
      "LU_MD\n",
      "LU_MP\n",
      "LU_NG\n",
      "LU_NK\n",
      "LU_SA\n",
      "LU_SL\n",
      "LU_VG\n",
      "LU_YF\n",
      "LU_IR\n",
      "LU_BN\n",
      "LU_ML\n",
      "LU_SM\n",
      "LU_NS\n",
      "LU_NB\n",
      "LU_AF\n",
      "LU_MC\n"
     ]
    },
    {
     "name": "stderr",
     "output_type": "stream",
     "text": [
      "\r",
      " 42%|██████████████████▎                         | 5/12 [00:01<00:01,  3.78it/s]"
     ]
    },
    {
     "name": "stdout",
     "output_type": "stream",
     "text": [
      "LU_AR\n",
      "LU_MT\n",
      "\n"
     ]
    },
    {
     "data": {
      "application/vnd.jupyter.widget-view+json": {
       "model_id": "703d79f4f7a140259a8b4c3122a546dc",
       "version_major": 2,
       "version_minor": 0
      },
      "text/plain": [
       "HBox(children=(HTML(value=''), FloatProgress(value=0.0, max=24.0), HTML(value='')))"
      ]
     },
     "metadata": {},
     "output_type": "display_data"
    },
    {
     "name": "stdout",
     "output_type": "stream",
     "text": [
      "LU_AT\n",
      "LU_EP\n",
      "LU_FB\n",
      "LU_EM\n",
      "LU_GL\n",
      "LU_GP\n",
      "LU_MD\n",
      "LU_MP\n",
      "LU_NG\n",
      "LU_NK\n",
      "LU_SA\n",
      "LU_SL\n"
     ]
    },
    {
     "name": "stderr",
     "output_type": "stream",
     "text": [
      "\r",
      " 50%|██████████████████████                      | 6/12 [00:01<00:01,  4.38it/s]"
     ]
    },
    {
     "name": "stdout",
     "output_type": "stream",
     "text": [
      "LU_VG\n",
      "LU_YF\n",
      "LU_IR\n",
      "LU_BN\n",
      "LU_ML\n",
      "LU_SM\n",
      "LU_NS\n",
      "LU_NB\n",
      "LU_AF\n",
      "LU_MC\n",
      "LU_AR\n",
      "LU_MT\n",
      "\n"
     ]
    },
    {
     "data": {
      "application/vnd.jupyter.widget-view+json": {
       "model_id": "4d9678cadd264bb8be15a5ae19c23250",
       "version_major": 2,
       "version_minor": 0
      },
      "text/plain": [
       "HBox(children=(HTML(value=''), FloatProgress(value=0.0, max=24.0), HTML(value='')))"
      ]
     },
     "metadata": {},
     "output_type": "display_data"
    },
    {
     "name": "stdout",
     "output_type": "stream",
     "text": [
      "LU_AT\n",
      "LU_EP\n",
      "LU_FB\n",
      "LU_EM\n",
      "LU_GL\n",
      "LU_GP\n",
      "LU_MD\n",
      "LU_MP\n",
      "LU_NG\n",
      "LU_NK\n",
      "LU_SA\n",
      "LU_SL\n",
      "LU_VG\n",
      "LU_YF\n",
      "LU_IR\n",
      "LU_BN\n",
      "LU_ML\n",
      "LU_SM\n",
      "LU_NS\n",
      "LU_NB\n",
      "LU_AF\n",
      "LU_MC\n"
     ]
    },
    {
     "name": "stderr",
     "output_type": "stream",
     "text": [
      "\r",
      " 58%|█████████████████████████▋                  | 7/12 [00:01<00:01,  4.17it/s]"
     ]
    },
    {
     "name": "stdout",
     "output_type": "stream",
     "text": [
      "LU_AR\n",
      "LU_MT\n",
      "\n"
     ]
    },
    {
     "data": {
      "application/vnd.jupyter.widget-view+json": {
       "model_id": "1dfaad4e7d664483bd884b27a604f249",
       "version_major": 2,
       "version_minor": 0
      },
      "text/plain": [
       "HBox(children=(HTML(value=''), FloatProgress(value=0.0, max=24.0), HTML(value='')))"
      ]
     },
     "metadata": {},
     "output_type": "display_data"
    },
    {
     "name": "stdout",
     "output_type": "stream",
     "text": [
      "LU_AT\n",
      "LU_EP\n",
      "LU_FB\n",
      "LU_EM\n",
      "LU_GL\n",
      "LU_GP\n",
      "LU_MD\n",
      "LU_MP\n"
     ]
    },
    {
     "name": "stderr",
     "output_type": "stream",
     "text": [
      "\r",
      " 67%|█████████████████████████████▎              | 8/12 [00:01<00:00,  5.04it/s]"
     ]
    },
    {
     "name": "stdout",
     "output_type": "stream",
     "text": [
      "LU_NG\n",
      "LU_NK\n",
      "LU_SA\n",
      "LU_SL\n",
      "LU_VG\n",
      "LU_YF\n",
      "LU_IR\n",
      "LU_BN\n",
      "LU_ML\n",
      "LU_SM\n",
      "LU_NS\n",
      "LU_NB\n",
      "LU_AF\n",
      "LU_MC\n",
      "LU_AR\n",
      "LU_MT\n",
      "\n"
     ]
    },
    {
     "data": {
      "application/vnd.jupyter.widget-view+json": {
       "model_id": "92374e53bac943ce890a4221f6cab986",
       "version_major": 2,
       "version_minor": 0
      },
      "text/plain": [
       "HBox(children=(HTML(value=''), FloatProgress(value=0.0, max=24.0), HTML(value='')))"
      ]
     },
     "metadata": {},
     "output_type": "display_data"
    },
    {
     "name": "stdout",
     "output_type": "stream",
     "text": [
      "LU_AT\n",
      "LU_EP\n",
      "LU_FB\n",
      "LU_EM\n",
      "LU_GL\n",
      "LU_GP\n",
      "LU_MD\n",
      "LU_MP\n",
      "LU_NG\n",
      "LU_NK\n",
      "LU_SA\n",
      "LU_SL\n",
      "LU_VG\n",
      "LU_YF\n",
      "LU_IR\n",
      "LU_BN\n",
      "LU_ML\n",
      "LU_SM\n",
      "LU_NS\n",
      "LU_NB\n",
      "LU_AF\n",
      "LU_MC\n",
      "LU_AR\n",
      "LU_MT\n",
      "\n"
     ]
    },
    {
     "data": {
      "application/vnd.jupyter.widget-view+json": {
       "model_id": "a2f52e8b25ba4954b7db87bd7c799b2e",
       "version_major": 2,
       "version_minor": 0
      },
      "text/plain": [
       "HBox(children=(HTML(value=''), FloatProgress(value=0.0, max=24.0), HTML(value='')))"
      ]
     },
     "metadata": {},
     "output_type": "display_data"
    },
    {
     "name": "stdout",
     "output_type": "stream",
     "text": [
      "LU_AT\n",
      "LU_EP\n",
      "LU_FB\n",
      "LU_EM\n",
      "LU_GL\n",
      "LU_GP\n",
      "LU_MD\n",
      "LU_MP\n",
      "LU_NG\n",
      "LU_NK\n",
      "LU_SA\n",
      "LU_SL\n",
      "LU_VG\n",
      "LU_YF\n",
      "LU_IR\n"
     ]
    },
    {
     "name": "stderr",
     "output_type": "stream",
     "text": [
      "\r",
      " 83%|███████████████████████████████████▊       | 10/12 [00:01<00:00,  5.60it/s]"
     ]
    },
    {
     "name": "stdout",
     "output_type": "stream",
     "text": [
      "LU_BN\n",
      "LU_ML\n",
      "LU_SM\n",
      "LU_NS\n",
      "LU_NB\n",
      "LU_AF\n",
      "LU_MC\n",
      "LU_AR\n",
      "LU_MT\n",
      "\n"
     ]
    },
    {
     "data": {
      "application/vnd.jupyter.widget-view+json": {
       "model_id": "0bf35a8f44304b3eb31c33a37bdf953d",
       "version_major": 2,
       "version_minor": 0
      },
      "text/plain": [
       "HBox(children=(HTML(value=''), FloatProgress(value=0.0, max=24.0), HTML(value='')))"
      ]
     },
     "metadata": {},
     "output_type": "display_data"
    },
    {
     "name": "stdout",
     "output_type": "stream",
     "text": [
      "LU_AT\n",
      "LU_EP\n",
      "LU_FB\n",
      "LU_EM\n",
      "LU_GL\n",
      "LU_GP\n",
      "LU_MD\n",
      "LU_MP\n",
      "LU_NG\n",
      "LU_NK\n",
      "LU_SA\n",
      "LU_SL\n",
      "LU_VG\n",
      "LU_YF\n",
      "LU_IR\n",
      "LU_BN\n",
      "LU_ML\n",
      "LU_SM\n",
      "LU_NS\n",
      "LU_NB\n",
      "LU_AF\n",
      "LU_MC\n",
      "LU_AR\n",
      "LU_MT\n",
      "\n"
     ]
    },
    {
     "data": {
      "application/vnd.jupyter.widget-view+json": {
       "model_id": "3f2114b0c36d4c54ac6a05dd10b745aa",
       "version_major": 2,
       "version_minor": 0
      },
      "text/plain": [
       "HBox(children=(HTML(value=''), FloatProgress(value=0.0, max=24.0), HTML(value='')))"
      ]
     },
     "metadata": {},
     "output_type": "display_data"
    },
    {
     "name": "stdout",
     "output_type": "stream",
     "text": [
      "LU_AT\n",
      "LU_EP\n",
      "LU_FB\n",
      "LU_EM\n",
      "LU_GL\n",
      "LU_GP\n",
      "LU_MD\n",
      "LU_MP\n",
      "LU_NG\n",
      "LU_NK\n",
      "LU_SA\n",
      "LU_SL\n",
      "LU_VG\n",
      "LU_YF\n",
      "LU_IR\n",
      "LU_BN\n",
      "LU_ML\n",
      "LU_SM\n"
     ]
    },
    {
     "name": "stderr",
     "output_type": "stream",
     "text": [
      "100%|███████████████████████████████████████████| 12/12 [00:02<00:00,  5.69it/s]"
     ]
    },
    {
     "name": "stdout",
     "output_type": "stream",
     "text": [
      "LU_NS\n",
      "LU_NB\n",
      "LU_AF\n",
      "LU_MC\n",
      "LU_AR\n",
      "LU_MT\n",
      "\n"
     ]
    },
    {
     "name": "stderr",
     "output_type": "stream",
     "text": [
      "\n"
     ]
    }
   ],
   "source": [
    "# method definition\n",
    "method = \"slices\"   # \"average\" (average signals -- 1st vestion), \"slices\" (corr per slice -- 2nd version)\n",
    "auto = False    # If auto is True: template ROIs are used, \n",
    "               # if False: manual seeds\n",
    "\n",
    "if auto:\n",
    "    add = \"ROIs\"\n",
    "else:\n",
    "    add = \"seeds\"\n",
    "\n",
    "#  dictionary per option\n",
    "tempfilt = \"BP13\"\n",
    "options_fc_subs = {}\n",
    "options_z_subs = {}\n",
    "\n",
    "for o in tqdm(options_to_consider):\n",
    "    \n",
    "\n",
    "    input_den_image = get_filename(o, tempfilt)\n",
    "    out_name = get_option_foldername(o)\n",
    "    outfolderpath = f\"PreProc-Comparison/{out_name}\"\n",
    "\n",
    "\n",
    "    # V-V 0,1\n",
    "    # D-D 2,3\n",
    "    # VR-DR 0,2  --> within\n",
    "    # VL-DL 1,3  --> within \n",
    "    # VR-DL 0,3  --> between\n",
    "    # VL-DR 1,2  --> between\n",
    "    dist_corr_vv = []\n",
    "    dist_corr_dd = []\n",
    "    dist_corr_within = []\n",
    "    dist_corr_between = []\n",
    "    \n",
    "    dist_corr_vv_z = []\n",
    "    dist_corr_dd_z = []\n",
    "    dist_corr_within_z = []\n",
    "    dist_corr_between_z = []\n",
    "    \n",
    "    \n",
    "    \n",
    "    for s in trange(len(subjects_paths)):\n",
    "        subname = subjects_paths[s].split('/')[-1]\n",
    "        print(subname)\n",
    "        # np.load(os.path.join(data_path,outfolderpath,tempfilt, method, add, f'FC_ave_all_{add}_{method}.npy'))\n",
    "        file_to_read = os.path.join(data_path,outfolderpath,tempfilt,method,add,subname,f'FC_mat.npy')\n",
    "        #print(f\"Loading {file_to_read}\")\n",
    "        mat = np.load(file_to_read)\n",
    "        mat_z_fisher = np.arctanh(mat-np.eye(4))\n",
    "        \n",
    "        dist_corr_vv.append(mat[0,1])\n",
    "        dist_corr_dd.append(mat[2,3])\n",
    "        dist_corr_within.append((mat[0,2]+mat[1,3])/2)\n",
    "        #dist_corr_within.append(mat[1,3])\n",
    "        dist_corr_between.append((mat[0,3]+mat[1,2])/2)\n",
    "        #dist_corr_between.append(mat[1,2])\n",
    "        \n",
    "        dist_corr_vv_z.append(mat_z_fisher[0,1])\n",
    "        dist_corr_dd_z.append(mat_z_fisher[2,3])\n",
    "        dist_corr_within_z.append((mat_z_fisher[0,2]+mat_z_fisher[1,3])/2)\n",
    "        #dist_corr_within_z.append(mat_z_fisher[1,3])\n",
    "        dist_corr_between_z.append((mat_z_fisher[0,3]+mat_z_fisher[1,2])/2)\n",
    "        #dist_corr_between_z.append(mat_z_fisher[1,2])\n",
    "    \n",
    "    \n",
    "    options_fc_subs[o] = {'VV': dist_corr_vv, 'DD': dist_corr_dd, 'W':dist_corr_within, 'B':dist_corr_between}\n",
    "    options_z_subs[o] = {'VV': dist_corr_vv_z, 'DD': dist_corr_dd_z, 'W':dist_corr_within_z, 'B':dist_corr_between_z}"
   ]
  },
  {
   "cell_type": "code",
   "execution_count": 114,
   "id": "f4b73fd9",
   "metadata": {},
   "outputs": [
    {
     "data": {
      "text/plain": [
       "[0.14987751906040525,\n",
       " 0.28665350269459994,\n",
       " 0.05771415572920308,\n",
       " 0.15134219800903304,\n",
       " 0.2542296695234079,\n",
       " 0.13773905503557682,\n",
       " 0.09245862154771235,\n",
       " 0.10067446926559463,\n",
       " 0.041772417564144945,\n",
       " 0.2854300645608027,\n",
       " 0.0784837076426359,\n",
       " 0.11430990028757013,\n",
       " 0.2256936379323244,\n",
       " 0.2587069894796332,\n",
       " 0.22346223202587198,\n",
       " 0.10592438674829034,\n",
       " 0.07423674054818974,\n",
       " 0.055116850361280174,\n",
       " 0.208684848552215,\n",
       " 0.27419891943864816,\n",
       " 0.10820017391257432,\n",
       " 0.20572986883900007,\n",
       " 0.17211326562927753,\n",
       " 0.030214677436101806]"
      ]
     },
     "execution_count": 114,
     "metadata": {},
     "output_type": "execute_result"
    }
   ],
   "source": [
    "options_fc_subs[0]['VV']"
   ]
  },
  {
   "cell_type": "code",
   "execution_count": 115,
   "id": "0eb306b4",
   "metadata": {
    "scrolled": true
   },
   "outputs": [],
   "source": [
    "all_values = []\n",
    "for k in options_fc_subs.keys():\n",
    "    all_values.extend(options_fc_subs[k]['VV'])\n",
    "    all_values.extend(options_fc_subs[k]['DD'])\n",
    "    all_values.extend(options_fc_subs[k]['W'])\n",
    "    all_values.extend(options_fc_subs[k]['B'])"
   ]
  },
  {
   "cell_type": "code",
   "execution_count": 116,
   "id": "6183d7c1",
   "metadata": {},
   "outputs": [
    {
     "data": {
      "text/plain": [
       "KstestResult(statistic=0.4781397290395744, pvalue=1.3399769563981403e-242)"
      ]
     },
     "execution_count": 116,
     "metadata": {},
     "output_type": "execute_result"
    }
   ],
   "source": [
    "kstest(all_values,\"norm\",N=24)"
   ]
  },
  {
   "cell_type": "code",
   "execution_count": 117,
   "id": "ae4e9237",
   "metadata": {},
   "outputs": [],
   "source": [
    "all_values_VV = []\n",
    "all_values_DD = []\n",
    "all_values_W = []\n",
    "all_values_B = []\n",
    "\n",
    "for k in options_fc_subs.keys():\n",
    "    all_values_VV.extend(options_fc_subs[k]['VV'])\n",
    "    all_values_DD.extend(options_fc_subs[k]['DD'])\n",
    "    all_values_W.extend(options_fc_subs[k]['W'])\n",
    "    all_values_B.extend(options_fc_subs[k]['B'])"
   ]
  },
  {
   "cell_type": "code",
   "execution_count": 118,
   "id": "bcbc7403",
   "metadata": {},
   "outputs": [
    {
     "data": {
      "text/plain": [
       "KstestResult(statistic=0.4755355623729078, pvalue=2.4169678945652225e-60)"
      ]
     },
     "execution_count": 118,
     "metadata": {},
     "output_type": "execute_result"
    }
   ],
   "source": [
    "kstest(all_values_W,\"norm\",N=17)"
   ]
  },
  {
   "cell_type": "markdown",
   "id": "18363e95",
   "metadata": {},
   "source": [
    "## Statistical test"
   ]
  },
  {
   "cell_type": "code",
   "execution_count": 119,
   "id": "38e72e12",
   "metadata": {
    "scrolled": true
   },
   "outputs": [
    {
     "name": "stdout",
     "output_type": "stream",
     "text": [
      "Option 0_baseline_stc\n",
      "VV:\n",
      "KstestResult(statistic=0.5120520785126143, pvalue=2.298327807390228e-06)\n",
      "DD:\n",
      "KstestResult(statistic=0.5028782058535232, pvalue=3.842497464688198e-06)\n",
      "W:\n",
      "KstestResult(statistic=0.4931860722282534, pvalue=6.527407752611242e-06)\n",
      "B:\n",
      "KstestResult(statistic=0.4975831440592395, pvalue=5.14108584592845e-06)\n",
      "Option 1_csf_csfonly_stc\n",
      "VV:\n",
      "KstestResult(statistic=0.5000127272527007, pvalue=4.500429103239075e-06)\n",
      "DD:\n",
      "KstestResult(statistic=0.4984850822939241, pvalue=4.893727803603052e-06)\n",
      "W:\n",
      "KstestResult(statistic=0.4902712653957845, pvalue=7.635243502394628e-06)\n",
      "B:\n",
      "KstestResult(statistic=0.5022475615911773, pvalue=3.978908096822536e-06)\n",
      "Option 2_moco_stc\n",
      "VV:\n",
      "KstestResult(statistic=0.5051085272281699, pvalue=3.3949605416857147e-06)\n",
      "DD:\n",
      "KstestResult(statistic=0.49880383797847444, pvalue=4.809052165481153e-06)\n",
      "W:\n",
      "KstestResult(statistic=0.4878799961586011, pvalue=8.675438469608438e-06)\n",
      "B:\n",
      "KstestResult(statistic=0.5023042478777103, pvalue=3.966460307677424e-06)\n",
      "Option 3_cc_stc\n",
      "VV:\n",
      "KstestResult(statistic=0.5042270895680028, pvalue=3.565541898051082e-06)\n",
      "DD:\n",
      "KstestResult(statistic=0.4939262309103245, pvalue=6.271481831245641e-06)\n",
      "W:\n",
      "KstestResult(statistic=0.48279449578688755, pvalue=1.135296611997635e-05)\n",
      "B:\n",
      "KstestResult(statistic=0.4973352365196149, pvalue=5.211133976786766e-06)\n",
      "Option 4_moco_cc_stc\n",
      "VV:\n",
      "KstestResult(statistic=0.5027014586907054, pvalue=3.880272074405976e-06)\n",
      "DD:\n",
      "KstestResult(statistic=0.4947503476098891, pvalue=5.997770079060747e-06)\n",
      "W:\n",
      "KstestResult(statistic=0.4813959395919406, pvalue=1.2216963128145516e-05)\n",
      "B:\n",
      "KstestResult(statistic=0.4976516376153779, pvalue=5.121891168412141e-06)\n",
      "Option 5_pnm_cardonly_stc\n",
      "VV:\n",
      "KstestResult(statistic=0.49610414562545, pvalue=5.572664937557907e-06)\n",
      "DD:\n",
      "KstestResult(statistic=0.4953511465852826, pvalue=5.805437007324918e-06)\n",
      "W:\n",
      "KstestResult(statistic=0.49206467677738897, pvalue=6.934174602837822e-06)\n",
      "B:\n",
      "KstestResult(statistic=0.5004729680641189, pvalue=4.387968588154874e-06)\n",
      "Option 6_pnm_responly_stc\n",
      "VV:\n",
      "KstestResult(statistic=0.5053648985479117, pvalue=3.346825481249264e-06)\n",
      "DD:\n",
      "KstestResult(statistic=0.4973792552960263, pvalue=5.19863012861093e-06)\n",
      "W:\n",
      "KstestResult(statistic=0.4821537264799287, pvalue=1.1741354561189292e-05)\n",
      "B:\n",
      "KstestResult(statistic=0.4989859344332201, pvalue=4.761307643719369e-06)\n",
      "Option 7_pnm_stc\n",
      "VV:\n",
      "KstestResult(statistic=0.5021922984927478, pvalue=3.991079205961371e-06)\n",
      "DD:\n",
      "KstestResult(statistic=0.49535475077710506, pvalue=5.804301121654284e-06)\n",
      "W:\n",
      "KstestResult(statistic=0.4804656702236932, pvalue=1.2825864853970918e-05)\n",
      "B:\n",
      "KstestResult(statistic=0.49781159880020176, pvalue=5.077329052450689e-06)\n",
      "Option 8_csf_pnm_stc\n",
      "VV:\n",
      "KstestResult(statistic=0.5030006879909505, pvalue=3.816526356002144e-06)\n",
      "DD:\n",
      "KstestResult(statistic=0.49421122699756104, pvalue=6.1755088874079295e-06)\n",
      "W:\n",
      "KstestResult(statistic=0.48020331474059047, pvalue=1.3002730832585817e-05)\n",
      "B:\n",
      "KstestResult(statistic=0.49834982342917206, pvalue=4.930086103902761e-06)\n",
      "Option 9_pnm_moco_stc\n",
      "VV:\n",
      "KstestResult(statistic=0.5001886292269139, pvalue=4.457126748007967e-06)\n",
      "DD:\n",
      "KstestResult(statistic=0.49667607616670734, pvalue=5.401833628154949e-06)\n",
      "W:\n",
      "KstestResult(statistic=0.47907736077911517, pvalue=1.3788428137580998e-05)\n",
      "B:\n",
      "KstestResult(statistic=0.4979392965296938, pvalue=5.0420202440120096e-06)\n",
      "Option 10_csf_pnm_moco_stc\n",
      "VV:\n",
      "KstestResult(statistic=0.5010226885975921, pvalue=4.257152073509541e-06)\n",
      "DD:\n",
      "KstestResult(statistic=0.49602629840849854, pvalue=5.596311274112239e-06)\n",
      "W:\n",
      "KstestResult(statistic=0.47900778459513, pvalue=1.3838428863031224e-05)\n",
      "B:\n",
      "KstestResult(statistic=0.4986634398163651, pvalue=4.846174696103463e-06)\n",
      "Option 11_csf_pnm_moco_cc_stc\n",
      "VV:\n",
      "KstestResult(statistic=0.4986994387082047, pvalue=4.8366303276112435e-06)\n",
      "DD:\n",
      "KstestResult(statistic=0.4932929152198414, pvalue=6.4898601880764315e-06)\n",
      "W:\n",
      "KstestResult(statistic=0.4784908087655304, pvalue=1.4215380383312864e-05)\n",
      "B:\n",
      "KstestResult(statistic=0.4967787867853064, pvalue=5.371687824403927e-06)\n"
     ]
    }
   ],
   "source": [
    "for k in options_z_subs.keys():\n",
    "    print(f\"Option {get_option_foldername(k)}\")\n",
    "    print(\"VV:\")\n",
    "    print(kstest(options_fc_subs[k][\"VV\"],\"norm\",N=17))\n",
    "    print(\"DD:\")\n",
    "    print(kstest(options_fc_subs[k][\"DD\"],\"norm\",N=17))\n",
    "    print(\"W:\")\n",
    "    print(kstest(options_fc_subs[k][\"W\"],\"norm\",N=17))\n",
    "    print(\"B:\")\n",
    "    print(kstest(options_fc_subs[k][\"B\"],\"norm\",N=17))\n"
   ]
  },
  {
   "cell_type": "code",
   "execution_count": 120,
   "id": "5e08439c",
   "metadata": {},
   "outputs": [],
   "source": [
    "denoising_names=[]\n",
    "for o in options_to_consider:\n",
    "    denoising_names.append(get_option_foldername(o))"
   ]
  },
  {
   "cell_type": "code",
   "execution_count": 121,
   "id": "f7852f46",
   "metadata": {},
   "outputs": [
    {
     "data": {
      "text/plain": [
       "['0_baseline_stc',\n",
       " '1_csf_csfonly_stc',\n",
       " '2_moco_stc',\n",
       " '3_cc_stc',\n",
       " '4_moco_cc_stc',\n",
       " '5_pnm_cardonly_stc',\n",
       " '6_pnm_responly_stc',\n",
       " '7_pnm_stc',\n",
       " '8_csf_pnm_stc',\n",
       " '9_pnm_moco_stc',\n",
       " '10_csf_pnm_moco_stc',\n",
       " '11_csf_pnm_moco_cc_stc']"
      ]
     },
     "execution_count": 121,
     "metadata": {},
     "output_type": "execute_result"
    }
   ],
   "source": [
    "denoising_names"
   ]
  },
  {
   "cell_type": "code",
   "execution_count": 122,
   "id": "b119a6dd",
   "metadata": {},
   "outputs": [],
   "source": [
    "vv_df = pd.DataFrame(columns=denoising_names)\n",
    "dd_df = pd.DataFrame(columns=denoising_names)\n",
    "w_df = pd.DataFrame(columns=denoising_names)\n",
    "b_df = pd.DataFrame(columns=denoising_names)\n",
    "\n",
    "for i in options_z_subs.keys():\n",
    "    vv_df[get_option_foldername(i)] = options_z_subs[i][\"VV\"]\n",
    "    dd_df[get_option_foldername(i)] = options_z_subs[i][\"DD\"]\n",
    "    w_df[get_option_foldername(i)] = options_z_subs[i][\"W\"]\n",
    "    b_df[get_option_foldername(i)] = options_z_subs[i][\"B\"]\n",
    "    \n",
    "    \n",
    "vv_df[\"subID\"] = np.arange(24)\n",
    "dd_df[\"subID\"] = np.arange(24)\n",
    "w_df[\"subID\"] = np.arange(24)\n",
    "b_df[\"subID\"] = np.arange(24)\n",
    "\n",
    "# # long format adapt\n",
    "vv_df_long = pd.melt(vv_df.reset_index(),id_vars=\"subID\",value_vars=denoising_names)\n",
    "dd_df_long = pd.melt(dd_df.reset_index(),id_vars=\"subID\",value_vars=denoising_names)\n",
    "w_df_long = pd.melt(w_df.reset_index(),id_vars=\"subID\",value_vars=denoising_names)\n",
    "b_df_long = pd.melt(b_df.reset_index(),id_vars=\"subID\",value_vars=denoising_names)\n"
   ]
  },
  {
   "cell_type": "code",
   "execution_count": 123,
   "id": "76a83909",
   "metadata": {},
   "outputs": [],
   "source": [
    "vv_df_corr = pd.DataFrame(columns=denoising_names)\n",
    "dd_df_corr = pd.DataFrame(columns=denoising_names)\n",
    "w_df_corr = pd.DataFrame(columns=denoising_names)\n",
    "b_df_corr = pd.DataFrame(columns=denoising_names)\n",
    "\n",
    "for i in options_z_subs.keys():\n",
    "    vv_df_corr[get_option_foldername(i)] = options_fc_subs[i][\"VV\"]\n",
    "    dd_df_corr[get_option_foldername(i)] = options_fc_subs[i][\"DD\"]\n",
    "    w_df_corr[get_option_foldername(i)] = options_fc_subs[i][\"W\"]\n",
    "    b_df_corr[get_option_foldername(i)] = options_fc_subs[i][\"B\"]\n",
    "    \n",
    "    \n",
    "vv_df_corr[\"subID\"] = np.arange(24)\n",
    "dd_df_corr[\"subID\"] = np.arange(24)\n",
    "w_df_corr[\"subID\"] = np.arange(24)\n",
    "b_df_corr[\"subID\"] = np.arange(24)\n"
   ]
  },
  {
   "cell_type": "code",
   "execution_count": 124,
   "id": "43e9a744",
   "metadata": {},
   "outputs": [
    {
     "data": {
      "text/html": [
       "<div>\n",
       "<style scoped>\n",
       "    .dataframe tbody tr th:only-of-type {\n",
       "        vertical-align: middle;\n",
       "    }\n",
       "\n",
       "    .dataframe tbody tr th {\n",
       "        vertical-align: top;\n",
       "    }\n",
       "\n",
       "    .dataframe thead th {\n",
       "        text-align: right;\n",
       "    }\n",
       "</style>\n",
       "<table border=\"1\" class=\"dataframe\">\n",
       "  <thead>\n",
       "    <tr style=\"text-align: right;\">\n",
       "      <th></th>\n",
       "      <th>0_baseline_stc</th>\n",
       "      <th>1_csf_csfonly_stc</th>\n",
       "      <th>2_moco_stc</th>\n",
       "      <th>3_cc_stc</th>\n",
       "      <th>4_moco_cc_stc</th>\n",
       "      <th>5_pnm_cardonly_stc</th>\n",
       "      <th>6_pnm_responly_stc</th>\n",
       "      <th>7_pnm_stc</th>\n",
       "      <th>8_csf_pnm_stc</th>\n",
       "      <th>9_pnm_moco_stc</th>\n",
       "      <th>10_csf_pnm_moco_stc</th>\n",
       "      <th>11_csf_pnm_moco_cc_stc</th>\n",
       "      <th>subID</th>\n",
       "    </tr>\n",
       "  </thead>\n",
       "  <tbody>\n",
       "    <tr>\n",
       "      <th>0</th>\n",
       "      <td>0.149878</td>\n",
       "      <td>0.166755</td>\n",
       "      <td>0.131392</td>\n",
       "      <td>0.039946</td>\n",
       "      <td>0.042933</td>\n",
       "      <td>0.157637</td>\n",
       "      <td>0.035849</td>\n",
       "      <td>0.024086</td>\n",
       "      <td>0.025743</td>\n",
       "      <td>0.022825</td>\n",
       "      <td>0.024593</td>\n",
       "      <td>0.012726</td>\n",
       "      <td>0</td>\n",
       "    </tr>\n",
       "    <tr>\n",
       "      <th>1</th>\n",
       "      <td>0.286654</td>\n",
       "      <td>0.184210</td>\n",
       "      <td>0.186364</td>\n",
       "      <td>0.132046</td>\n",
       "      <td>0.131884</td>\n",
       "      <td>0.184740</td>\n",
       "      <td>0.133539</td>\n",
       "      <td>0.123880</td>\n",
       "      <td>0.120183</td>\n",
       "      <td>0.125860</td>\n",
       "      <td>0.122168</td>\n",
       "      <td>0.107082</td>\n",
       "      <td>1</td>\n",
       "    </tr>\n",
       "    <tr>\n",
       "      <th>2</th>\n",
       "      <td>0.057714</td>\n",
       "      <td>0.039719</td>\n",
       "      <td>0.044538</td>\n",
       "      <td>0.041035</td>\n",
       "      <td>0.041049</td>\n",
       "      <td>0.046267</td>\n",
       "      <td>0.038606</td>\n",
       "      <td>0.041823</td>\n",
       "      <td>0.040498</td>\n",
       "      <td>0.045031</td>\n",
       "      <td>0.043813</td>\n",
       "      <td>0.044476</td>\n",
       "      <td>2</td>\n",
       "    </tr>\n",
       "    <tr>\n",
       "      <th>3</th>\n",
       "      <td>0.151342</td>\n",
       "      <td>0.154067</td>\n",
       "      <td>0.110415</td>\n",
       "      <td>0.063681</td>\n",
       "      <td>0.059466</td>\n",
       "      <td>0.141308</td>\n",
       "      <td>0.070812</td>\n",
       "      <td>0.048331</td>\n",
       "      <td>0.050867</td>\n",
       "      <td>0.042382</td>\n",
       "      <td>0.045307</td>\n",
       "      <td>0.037779</td>\n",
       "      <td>3</td>\n",
       "    </tr>\n",
       "    <tr>\n",
       "      <th>4</th>\n",
       "      <td>0.254230</td>\n",
       "      <td>0.238139</td>\n",
       "      <td>0.196218</td>\n",
       "      <td>0.101893</td>\n",
       "      <td>0.104700</td>\n",
       "      <td>0.238130</td>\n",
       "      <td>0.151595</td>\n",
       "      <td>0.154388</td>\n",
       "      <td>0.153612</td>\n",
       "      <td>0.152289</td>\n",
       "      <td>0.151009</td>\n",
       "      <td>0.094900</td>\n",
       "      <td>4</td>\n",
       "    </tr>\n",
       "    <tr>\n",
       "      <th>5</th>\n",
       "      <td>0.137739</td>\n",
       "      <td>0.086529</td>\n",
       "      <td>0.086732</td>\n",
       "      <td>0.022514</td>\n",
       "      <td>0.024475</td>\n",
       "      <td>0.086724</td>\n",
       "      <td>0.048239</td>\n",
       "      <td>0.037674</td>\n",
       "      <td>0.033666</td>\n",
       "      <td>0.043228</td>\n",
       "      <td>0.039166</td>\n",
       "      <td>0.020704</td>\n",
       "      <td>5</td>\n",
       "    </tr>\n",
       "    <tr>\n",
       "      <th>6</th>\n",
       "      <td>0.092459</td>\n",
       "      <td>0.032763</td>\n",
       "      <td>0.028433</td>\n",
       "      <td>0.010596</td>\n",
       "      <td>0.006772</td>\n",
       "      <td>0.020052</td>\n",
       "      <td>0.024966</td>\n",
       "      <td>0.014119</td>\n",
       "      <td>0.014075</td>\n",
       "      <td>0.012511</td>\n",
       "      <td>0.012774</td>\n",
       "      <td>-0.000881</td>\n",
       "      <td>6</td>\n",
       "    </tr>\n",
       "    <tr>\n",
       "      <th>7</th>\n",
       "      <td>0.100674</td>\n",
       "      <td>0.089960</td>\n",
       "      <td>0.080969</td>\n",
       "      <td>0.070613</td>\n",
       "      <td>0.065534</td>\n",
       "      <td>0.085540</td>\n",
       "      <td>0.077528</td>\n",
       "      <td>0.072335</td>\n",
       "      <td>0.070018</td>\n",
       "      <td>0.066917</td>\n",
       "      <td>0.064894</td>\n",
       "      <td>0.053048</td>\n",
       "      <td>7</td>\n",
       "    </tr>\n",
       "    <tr>\n",
       "      <th>8</th>\n",
       "      <td>0.041772</td>\n",
       "      <td>0.000032</td>\n",
       "      <td>0.012806</td>\n",
       "      <td>0.014787</td>\n",
       "      <td>0.020503</td>\n",
       "      <td>-0.009766</td>\n",
       "      <td>0.034361</td>\n",
       "      <td>0.017275</td>\n",
       "      <td>0.018129</td>\n",
       "      <td>0.020650</td>\n",
       "      <td>0.022689</td>\n",
       "      <td>0.017272</td>\n",
       "      <td>8</td>\n",
       "    </tr>\n",
       "    <tr>\n",
       "      <th>9</th>\n",
       "      <td>0.285430</td>\n",
       "      <td>0.166295</td>\n",
       "      <td>0.149817</td>\n",
       "      <td>0.056430</td>\n",
       "      <td>0.057958</td>\n",
       "      <td>0.166861</td>\n",
       "      <td>0.086660</td>\n",
       "      <td>0.078065</td>\n",
       "      <td>0.074737</td>\n",
       "      <td>0.079838</td>\n",
       "      <td>0.076493</td>\n",
       "      <td>0.038479</td>\n",
       "      <td>9</td>\n",
       "    </tr>\n",
       "    <tr>\n",
       "      <th>10</th>\n",
       "      <td>0.078484</td>\n",
       "      <td>0.049331</td>\n",
       "      <td>0.048592</td>\n",
       "      <td>0.046340</td>\n",
       "      <td>0.043087</td>\n",
       "      <td>0.051471</td>\n",
       "      <td>0.053434</td>\n",
       "      <td>0.051647</td>\n",
       "      <td>0.049683</td>\n",
       "      <td>0.047846</td>\n",
       "      <td>0.045727</td>\n",
       "      <td>0.038427</td>\n",
       "      <td>10</td>\n",
       "    </tr>\n",
       "    <tr>\n",
       "      <th>11</th>\n",
       "      <td>0.114310</td>\n",
       "      <td>0.063194</td>\n",
       "      <td>0.088859</td>\n",
       "      <td>0.035833</td>\n",
       "      <td>0.030972</td>\n",
       "      <td>0.076970</td>\n",
       "      <td>0.031538</td>\n",
       "      <td>0.005495</td>\n",
       "      <td>0.007522</td>\n",
       "      <td>0.000473</td>\n",
       "      <td>0.002564</td>\n",
       "      <td>-0.003260</td>\n",
       "      <td>11</td>\n",
       "    </tr>\n",
       "    <tr>\n",
       "      <th>12</th>\n",
       "      <td>0.225694</td>\n",
       "      <td>0.064983</td>\n",
       "      <td>0.052353</td>\n",
       "      <td>0.058640</td>\n",
       "      <td>0.046289</td>\n",
       "      <td>0.061903</td>\n",
       "      <td>0.061251</td>\n",
       "      <td>0.045230</td>\n",
       "      <td>0.045989</td>\n",
       "      <td>0.036917</td>\n",
       "      <td>0.039262</td>\n",
       "      <td>0.032612</td>\n",
       "      <td>12</td>\n",
       "    </tr>\n",
       "    <tr>\n",
       "      <th>13</th>\n",
       "      <td>0.258707</td>\n",
       "      <td>0.094101</td>\n",
       "      <td>0.102452</td>\n",
       "      <td>0.074899</td>\n",
       "      <td>0.080021</td>\n",
       "      <td>0.092016</td>\n",
       "      <td>0.084479</td>\n",
       "      <td>0.069496</td>\n",
       "      <td>0.065972</td>\n",
       "      <td>0.067206</td>\n",
       "      <td>0.063729</td>\n",
       "      <td>0.056589</td>\n",
       "      <td>13</td>\n",
       "    </tr>\n",
       "    <tr>\n",
       "      <th>14</th>\n",
       "      <td>0.223462</td>\n",
       "      <td>0.203782</td>\n",
       "      <td>0.193714</td>\n",
       "      <td>0.169478</td>\n",
       "      <td>0.165724</td>\n",
       "      <td>0.208757</td>\n",
       "      <td>0.182078</td>\n",
       "      <td>0.184513</td>\n",
       "      <td>0.181451</td>\n",
       "      <td>0.170739</td>\n",
       "      <td>0.170126</td>\n",
       "      <td>0.144289</td>\n",
       "      <td>14</td>\n",
       "    </tr>\n",
       "    <tr>\n",
       "      <th>15</th>\n",
       "      <td>0.105924</td>\n",
       "      <td>0.080663</td>\n",
       "      <td>0.073336</td>\n",
       "      <td>0.055788</td>\n",
       "      <td>0.058178</td>\n",
       "      <td>0.078239</td>\n",
       "      <td>0.045855</td>\n",
       "      <td>0.045838</td>\n",
       "      <td>0.047385</td>\n",
       "      <td>0.046144</td>\n",
       "      <td>0.046740</td>\n",
       "      <td>0.040343</td>\n",
       "      <td>15</td>\n",
       "    </tr>\n",
       "    <tr>\n",
       "      <th>16</th>\n",
       "      <td>0.074237</td>\n",
       "      <td>0.045639</td>\n",
       "      <td>0.046698</td>\n",
       "      <td>0.041501</td>\n",
       "      <td>0.043373</td>\n",
       "      <td>0.041135</td>\n",
       "      <td>0.042070</td>\n",
       "      <td>0.033212</td>\n",
       "      <td>0.033348</td>\n",
       "      <td>0.030374</td>\n",
       "      <td>0.030085</td>\n",
       "      <td>0.023963</td>\n",
       "      <td>16</td>\n",
       "    </tr>\n",
       "    <tr>\n",
       "      <th>17</th>\n",
       "      <td>0.055117</td>\n",
       "      <td>0.055669</td>\n",
       "      <td>0.060122</td>\n",
       "      <td>0.053331</td>\n",
       "      <td>0.053934</td>\n",
       "      <td>0.059224</td>\n",
       "      <td>0.057053</td>\n",
       "      <td>0.054448</td>\n",
       "      <td>0.050130</td>\n",
       "      <td>0.055956</td>\n",
       "      <td>0.051732</td>\n",
       "      <td>0.047520</td>\n",
       "      <td>17</td>\n",
       "    </tr>\n",
       "    <tr>\n",
       "      <th>18</th>\n",
       "      <td>0.208685</td>\n",
       "      <td>0.204725</td>\n",
       "      <td>0.211052</td>\n",
       "      <td>0.202479</td>\n",
       "      <td>0.206441</td>\n",
       "      <td>0.199066</td>\n",
       "      <td>0.181404</td>\n",
       "      <td>0.171282</td>\n",
       "      <td>0.169586</td>\n",
       "      <td>0.171014</td>\n",
       "      <td>0.169553</td>\n",
       "      <td>0.162959</td>\n",
       "      <td>18</td>\n",
       "    </tr>\n",
       "    <tr>\n",
       "      <th>19</th>\n",
       "      <td>0.274199</td>\n",
       "      <td>0.191763</td>\n",
       "      <td>0.194331</td>\n",
       "      <td>0.146205</td>\n",
       "      <td>0.142278</td>\n",
       "      <td>0.175281</td>\n",
       "      <td>0.125594</td>\n",
       "      <td>0.113819</td>\n",
       "      <td>0.110150</td>\n",
       "      <td>0.112890</td>\n",
       "      <td>0.108131</td>\n",
       "      <td>0.108507</td>\n",
       "      <td>19</td>\n",
       "    </tr>\n",
       "    <tr>\n",
       "      <th>20</th>\n",
       "      <td>0.108200</td>\n",
       "      <td>0.079570</td>\n",
       "      <td>0.082509</td>\n",
       "      <td>0.053212</td>\n",
       "      <td>0.054212</td>\n",
       "      <td>0.094162</td>\n",
       "      <td>0.060264</td>\n",
       "      <td>0.065180</td>\n",
       "      <td>0.061600</td>\n",
       "      <td>0.064571</td>\n",
       "      <td>0.061494</td>\n",
       "      <td>0.054198</td>\n",
       "      <td>20</td>\n",
       "    </tr>\n",
       "    <tr>\n",
       "      <th>21</th>\n",
       "      <td>0.205730</td>\n",
       "      <td>0.100623</td>\n",
       "      <td>0.109162</td>\n",
       "      <td>0.089788</td>\n",
       "      <td>0.089992</td>\n",
       "      <td>0.101179</td>\n",
       "      <td>0.086709</td>\n",
       "      <td>0.067966</td>\n",
       "      <td>0.061543</td>\n",
       "      <td>0.065451</td>\n",
       "      <td>0.059768</td>\n",
       "      <td>0.053603</td>\n",
       "      <td>21</td>\n",
       "    </tr>\n",
       "    <tr>\n",
       "      <th>22</th>\n",
       "      <td>0.172113</td>\n",
       "      <td>0.126479</td>\n",
       "      <td>0.093614</td>\n",
       "      <td>0.085931</td>\n",
       "      <td>0.069153</td>\n",
       "      <td>0.119353</td>\n",
       "      <td>0.096324</td>\n",
       "      <td>0.083892</td>\n",
       "      <td>0.077444</td>\n",
       "      <td>0.054642</td>\n",
       "      <td>0.052969</td>\n",
       "      <td>0.043271</td>\n",
       "      <td>22</td>\n",
       "    </tr>\n",
       "    <tr>\n",
       "      <th>23</th>\n",
       "      <td>0.030215</td>\n",
       "      <td>0.016743</td>\n",
       "      <td>0.024914</td>\n",
       "      <td>0.017635</td>\n",
       "      <td>0.014169</td>\n",
       "      <td>0.021998</td>\n",
       "      <td>0.013448</td>\n",
       "      <td>0.013445</td>\n",
       "      <td>0.012698</td>\n",
       "      <td>0.012753</td>\n",
       "      <td>0.011198</td>\n",
       "      <td>0.022866</td>\n",
       "      <td>23</td>\n",
       "    </tr>\n",
       "  </tbody>\n",
       "</table>\n",
       "</div>"
      ],
      "text/plain": [
       "    0_baseline_stc  1_csf_csfonly_stc  2_moco_stc  3_cc_stc  4_moco_cc_stc  \\\n",
       "0         0.149878           0.166755    0.131392  0.039946       0.042933   \n",
       "1         0.286654           0.184210    0.186364  0.132046       0.131884   \n",
       "2         0.057714           0.039719    0.044538  0.041035       0.041049   \n",
       "3         0.151342           0.154067    0.110415  0.063681       0.059466   \n",
       "4         0.254230           0.238139    0.196218  0.101893       0.104700   \n",
       "5         0.137739           0.086529    0.086732  0.022514       0.024475   \n",
       "6         0.092459           0.032763    0.028433  0.010596       0.006772   \n",
       "7         0.100674           0.089960    0.080969  0.070613       0.065534   \n",
       "8         0.041772           0.000032    0.012806  0.014787       0.020503   \n",
       "9         0.285430           0.166295    0.149817  0.056430       0.057958   \n",
       "10        0.078484           0.049331    0.048592  0.046340       0.043087   \n",
       "11        0.114310           0.063194    0.088859  0.035833       0.030972   \n",
       "12        0.225694           0.064983    0.052353  0.058640       0.046289   \n",
       "13        0.258707           0.094101    0.102452  0.074899       0.080021   \n",
       "14        0.223462           0.203782    0.193714  0.169478       0.165724   \n",
       "15        0.105924           0.080663    0.073336  0.055788       0.058178   \n",
       "16        0.074237           0.045639    0.046698  0.041501       0.043373   \n",
       "17        0.055117           0.055669    0.060122  0.053331       0.053934   \n",
       "18        0.208685           0.204725    0.211052  0.202479       0.206441   \n",
       "19        0.274199           0.191763    0.194331  0.146205       0.142278   \n",
       "20        0.108200           0.079570    0.082509  0.053212       0.054212   \n",
       "21        0.205730           0.100623    0.109162  0.089788       0.089992   \n",
       "22        0.172113           0.126479    0.093614  0.085931       0.069153   \n",
       "23        0.030215           0.016743    0.024914  0.017635       0.014169   \n",
       "\n",
       "    5_pnm_cardonly_stc  6_pnm_responly_stc  7_pnm_stc  8_csf_pnm_stc  \\\n",
       "0             0.157637            0.035849   0.024086       0.025743   \n",
       "1             0.184740            0.133539   0.123880       0.120183   \n",
       "2             0.046267            0.038606   0.041823       0.040498   \n",
       "3             0.141308            0.070812   0.048331       0.050867   \n",
       "4             0.238130            0.151595   0.154388       0.153612   \n",
       "5             0.086724            0.048239   0.037674       0.033666   \n",
       "6             0.020052            0.024966   0.014119       0.014075   \n",
       "7             0.085540            0.077528   0.072335       0.070018   \n",
       "8            -0.009766            0.034361   0.017275       0.018129   \n",
       "9             0.166861            0.086660   0.078065       0.074737   \n",
       "10            0.051471            0.053434   0.051647       0.049683   \n",
       "11            0.076970            0.031538   0.005495       0.007522   \n",
       "12            0.061903            0.061251   0.045230       0.045989   \n",
       "13            0.092016            0.084479   0.069496       0.065972   \n",
       "14            0.208757            0.182078   0.184513       0.181451   \n",
       "15            0.078239            0.045855   0.045838       0.047385   \n",
       "16            0.041135            0.042070   0.033212       0.033348   \n",
       "17            0.059224            0.057053   0.054448       0.050130   \n",
       "18            0.199066            0.181404   0.171282       0.169586   \n",
       "19            0.175281            0.125594   0.113819       0.110150   \n",
       "20            0.094162            0.060264   0.065180       0.061600   \n",
       "21            0.101179            0.086709   0.067966       0.061543   \n",
       "22            0.119353            0.096324   0.083892       0.077444   \n",
       "23            0.021998            0.013448   0.013445       0.012698   \n",
       "\n",
       "    9_pnm_moco_stc  10_csf_pnm_moco_stc  11_csf_pnm_moco_cc_stc  subID  \n",
       "0         0.022825             0.024593                0.012726      0  \n",
       "1         0.125860             0.122168                0.107082      1  \n",
       "2         0.045031             0.043813                0.044476      2  \n",
       "3         0.042382             0.045307                0.037779      3  \n",
       "4         0.152289             0.151009                0.094900      4  \n",
       "5         0.043228             0.039166                0.020704      5  \n",
       "6         0.012511             0.012774               -0.000881      6  \n",
       "7         0.066917             0.064894                0.053048      7  \n",
       "8         0.020650             0.022689                0.017272      8  \n",
       "9         0.079838             0.076493                0.038479      9  \n",
       "10        0.047846             0.045727                0.038427     10  \n",
       "11        0.000473             0.002564               -0.003260     11  \n",
       "12        0.036917             0.039262                0.032612     12  \n",
       "13        0.067206             0.063729                0.056589     13  \n",
       "14        0.170739             0.170126                0.144289     14  \n",
       "15        0.046144             0.046740                0.040343     15  \n",
       "16        0.030374             0.030085                0.023963     16  \n",
       "17        0.055956             0.051732                0.047520     17  \n",
       "18        0.171014             0.169553                0.162959     18  \n",
       "19        0.112890             0.108131                0.108507     19  \n",
       "20        0.064571             0.061494                0.054198     20  \n",
       "21        0.065451             0.059768                0.053603     21  \n",
       "22        0.054642             0.052969                0.043271     22  \n",
       "23        0.012753             0.011198                0.022866     23  "
      ]
     },
     "execution_count": 124,
     "metadata": {},
     "output_type": "execute_result"
    }
   ],
   "source": [
    "vv_df_corr"
   ]
  },
  {
   "cell_type": "code",
   "execution_count": 125,
   "id": "0c7ea17a",
   "metadata": {},
   "outputs": [],
   "source": [
    "# dd_corrs = []\n",
    "# w_corrs = []\n",
    "# b_corrs = []"
   ]
  },
  {
   "cell_type": "code",
   "execution_count": 126,
   "id": "4163038c",
   "metadata": {},
   "outputs": [],
   "source": [
    "means_dn = np.zeros(len(denoising_names))\n",
    "std_dn = np.zeros(len(denoising_names))\n",
    "for i, dn in enumerate(denoising_names):\n",
    "#     dd_corrs.extend(dd_df_corr[dn])\n",
    "#     w_corrs.extend(w_df_corr[dn])\n",
    "#     b_corrs.extend(b_df_corr[dn])\n",
    "    \n",
    "    means_dn[i] = np.median(vv_df_corr[dn])\n",
    "    std_dn[i] = iqr(vv_df_corr[dn])"
   ]
  },
  {
   "cell_type": "code",
   "execution_count": 127,
   "id": "26540865",
   "metadata": {},
   "outputs": [],
   "source": [
    "#wilcoxon(dd_corrs,b_corrs)"
   ]
  },
  {
   "cell_type": "code",
   "execution_count": 128,
   "id": "8514474a",
   "metadata": {},
   "outputs": [],
   "source": [
    "#wilcoxon(dd_corrs,w_corrs)"
   ]
  },
  {
   "cell_type": "code",
   "execution_count": 129,
   "id": "05bc9ced",
   "metadata": {},
   "outputs": [
    {
     "name": "stdout",
     "output_type": "stream",
     "text": [
      "0_baseline_stc 0.14380828704799103 0.13505519043104186\n",
      "1_csf_csfonly_stc 0.0882446318615469 0.11232553275274591\n",
      "2_moco_stc 0.08779534232357866 0.08458547022437032\n",
      "3_cc_stc 0.05610892788340774 0.04613303729007039\n",
      "4_moco_cc_stc 0.05608510337405678 0.04005117990086414\n",
      "5_pnm_cardonly_stc 0.08936971052642168 0.10265714155585359\n",
      "6_pnm_responly_stc 0.060757761059551926 0.04790817504497505\n",
      "7_pnm_stc 0.05304763062743395 0.04296297126465689\n",
      "8_csf_pnm_stc 0.05049871105480553 0.04182775751100651\n",
      "9_pnm_moco_stc 0.05124370056212141 0.03508257050876951\n",
      "10_csf_pnm_moco_stc 0.04923592733205681 0.030898284708118916\n",
      "11_csf_pnm_moco_cc_stc 0.041807146250100374 0.0311063425778108\n"
     ]
    }
   ],
   "source": [
    "for o in options_to_consider:\n",
    "    print(denoising_names[o], means_dn[o],std_dn[o])\n"
   ]
  },
  {
   "cell_type": "code",
   "execution_count": 130,
   "id": "b6a59413",
   "metadata": {},
   "outputs": [
    {
     "data": {
      "text/plain": [
       "(0.0007305997409940861, 0.05593932003012251)"
      ]
     },
     "execution_count": 130,
     "metadata": {},
     "output_type": "execute_result"
    }
   ],
   "source": [
    "IQR(b_df_corr[\"11_csf_pnm_moco_cc_stc\"])"
   ]
  },
  {
   "cell_type": "code",
   "execution_count": 131,
   "id": "d75d7bc0",
   "metadata": {},
   "outputs": [
    {
     "data": {
      "text/plain": [
       "0.06900023999192273"
      ]
     },
     "execution_count": 131,
     "metadata": {},
     "output_type": "execute_result"
    }
   ],
   "source": [
    "np.mean(means_dn)"
   ]
  },
  {
   "cell_type": "code",
   "execution_count": 132,
   "id": "d6a7ed2f",
   "metadata": {},
   "outputs": [
    {
     "data": {
      "text/plain": [
       "0.06254947114752366"
      ]
     },
     "execution_count": 132,
     "metadata": {},
     "output_type": "execute_result"
    }
   ],
   "source": [
    "np.mean(std_dn)"
   ]
  },
  {
   "cell_type": "code",
   "execution_count": 133,
   "id": "967fafb5",
   "metadata": {},
   "outputs": [
    {
     "data": {
      "text/html": [
       "<div>\n",
       "<style scoped>\n",
       "    .dataframe tbody tr th:only-of-type {\n",
       "        vertical-align: middle;\n",
       "    }\n",
       "\n",
       "    .dataframe tbody tr th {\n",
       "        vertical-align: top;\n",
       "    }\n",
       "\n",
       "    .dataframe thead th {\n",
       "        text-align: right;\n",
       "    }\n",
       "</style>\n",
       "<table border=\"1\" class=\"dataframe\">\n",
       "  <thead>\n",
       "    <tr style=\"text-align: right;\">\n",
       "      <th></th>\n",
       "      <th>0_baseline_stc</th>\n",
       "      <th>1_csf_csfonly_stc</th>\n",
       "      <th>2_moco_stc</th>\n",
       "      <th>3_cc_stc</th>\n",
       "      <th>4_moco_cc_stc</th>\n",
       "      <th>5_pnm_cardonly_stc</th>\n",
       "      <th>6_pnm_responly_stc</th>\n",
       "      <th>7_pnm_stc</th>\n",
       "      <th>8_csf_pnm_stc</th>\n",
       "      <th>9_pnm_moco_stc</th>\n",
       "      <th>10_csf_pnm_moco_stc</th>\n",
       "      <th>11_csf_pnm_moco_cc_stc</th>\n",
       "      <th>subID</th>\n",
       "    </tr>\n",
       "  </thead>\n",
       "  <tbody>\n",
       "    <tr>\n",
       "      <th>0</th>\n",
       "      <td>0.094593</td>\n",
       "      <td>0.062057</td>\n",
       "      <td>0.047550</td>\n",
       "      <td>0.045065</td>\n",
       "      <td>0.037107</td>\n",
       "      <td>0.065220</td>\n",
       "      <td>0.033386</td>\n",
       "      <td>0.022889</td>\n",
       "      <td>0.019540</td>\n",
       "      <td>0.020488</td>\n",
       "      <td>0.017259</td>\n",
       "      <td>0.007821</td>\n",
       "      <td>0</td>\n",
       "    </tr>\n",
       "    <tr>\n",
       "      <th>1</th>\n",
       "      <td>0.262605</td>\n",
       "      <td>0.181467</td>\n",
       "      <td>0.185646</td>\n",
       "      <td>0.119129</td>\n",
       "      <td>0.119549</td>\n",
       "      <td>0.179454</td>\n",
       "      <td>0.103751</td>\n",
       "      <td>0.104140</td>\n",
       "      <td>0.097627</td>\n",
       "      <td>0.104674</td>\n",
       "      <td>0.097615</td>\n",
       "      <td>0.081565</td>\n",
       "      <td>1</td>\n",
       "    </tr>\n",
       "    <tr>\n",
       "      <th>2</th>\n",
       "      <td>0.009345</td>\n",
       "      <td>-0.001023</td>\n",
       "      <td>0.002365</td>\n",
       "      <td>-0.004488</td>\n",
       "      <td>0.002718</td>\n",
       "      <td>-0.005814</td>\n",
       "      <td>-0.003611</td>\n",
       "      <td>-0.000840</td>\n",
       "      <td>0.000039</td>\n",
       "      <td>0.004839</td>\n",
       "      <td>0.006065</td>\n",
       "      <td>0.017466</td>\n",
       "      <td>2</td>\n",
       "    </tr>\n",
       "    <tr>\n",
       "      <th>3</th>\n",
       "      <td>0.194947</td>\n",
       "      <td>0.114623</td>\n",
       "      <td>0.089386</td>\n",
       "      <td>0.058896</td>\n",
       "      <td>0.053665</td>\n",
       "      <td>0.110158</td>\n",
       "      <td>0.044258</td>\n",
       "      <td>0.041315</td>\n",
       "      <td>0.043283</td>\n",
       "      <td>0.036617</td>\n",
       "      <td>0.038240</td>\n",
       "      <td>0.032189</td>\n",
       "      <td>3</td>\n",
       "    </tr>\n",
       "    <tr>\n",
       "      <th>4</th>\n",
       "      <td>0.268671</td>\n",
       "      <td>0.210369</td>\n",
       "      <td>0.175489</td>\n",
       "      <td>0.079730</td>\n",
       "      <td>0.087547</td>\n",
       "      <td>0.213475</td>\n",
       "      <td>0.119382</td>\n",
       "      <td>0.115002</td>\n",
       "      <td>0.112249</td>\n",
       "      <td>0.116551</td>\n",
       "      <td>0.114989</td>\n",
       "      <td>0.069998</td>\n",
       "      <td>4</td>\n",
       "    </tr>\n",
       "    <tr>\n",
       "      <th>5</th>\n",
       "      <td>0.040891</td>\n",
       "      <td>0.009760</td>\n",
       "      <td>0.010190</td>\n",
       "      <td>-0.005271</td>\n",
       "      <td>-0.001300</td>\n",
       "      <td>0.012040</td>\n",
       "      <td>0.001480</td>\n",
       "      <td>-0.009163</td>\n",
       "      <td>-0.014512</td>\n",
       "      <td>-0.005458</td>\n",
       "      <td>-0.009816</td>\n",
       "      <td>-0.005807</td>\n",
       "      <td>5</td>\n",
       "    </tr>\n",
       "    <tr>\n",
       "      <th>6</th>\n",
       "      <td>0.047154</td>\n",
       "      <td>-0.003797</td>\n",
       "      <td>-0.002998</td>\n",
       "      <td>-0.015226</td>\n",
       "      <td>-0.013160</td>\n",
       "      <td>-0.002916</td>\n",
       "      <td>-0.006569</td>\n",
       "      <td>-0.011645</td>\n",
       "      <td>-0.012777</td>\n",
       "      <td>-0.008332</td>\n",
       "      <td>-0.009961</td>\n",
       "      <td>-0.016815</td>\n",
       "      <td>6</td>\n",
       "    </tr>\n",
       "    <tr>\n",
       "      <th>7</th>\n",
       "      <td>0.050422</td>\n",
       "      <td>0.075698</td>\n",
       "      <td>0.076047</td>\n",
       "      <td>0.074199</td>\n",
       "      <td>0.073967</td>\n",
       "      <td>0.072135</td>\n",
       "      <td>0.074464</td>\n",
       "      <td>0.079175</td>\n",
       "      <td>0.079367</td>\n",
       "      <td>0.081212</td>\n",
       "      <td>0.081243</td>\n",
       "      <td>0.083145</td>\n",
       "      <td>7</td>\n",
       "    </tr>\n",
       "    <tr>\n",
       "      <th>8</th>\n",
       "      <td>0.007215</td>\n",
       "      <td>0.000260</td>\n",
       "      <td>0.019393</td>\n",
       "      <td>0.009253</td>\n",
       "      <td>0.017256</td>\n",
       "      <td>-0.011654</td>\n",
       "      <td>0.033995</td>\n",
       "      <td>0.028981</td>\n",
       "      <td>0.029842</td>\n",
       "      <td>0.035796</td>\n",
       "      <td>0.036697</td>\n",
       "      <td>0.024782</td>\n",
       "      <td>8</td>\n",
       "    </tr>\n",
       "    <tr>\n",
       "      <th>9</th>\n",
       "      <td>0.355203</td>\n",
       "      <td>0.194091</td>\n",
       "      <td>0.153324</td>\n",
       "      <td>0.052920</td>\n",
       "      <td>0.056896</td>\n",
       "      <td>0.191174</td>\n",
       "      <td>0.113900</td>\n",
       "      <td>0.102511</td>\n",
       "      <td>0.097799</td>\n",
       "      <td>0.082196</td>\n",
       "      <td>0.074187</td>\n",
       "      <td>0.046042</td>\n",
       "      <td>9</td>\n",
       "    </tr>\n",
       "    <tr>\n",
       "      <th>10</th>\n",
       "      <td>0.046577</td>\n",
       "      <td>0.007108</td>\n",
       "      <td>0.012921</td>\n",
       "      <td>0.001334</td>\n",
       "      <td>0.003596</td>\n",
       "      <td>0.013597</td>\n",
       "      <td>0.012883</td>\n",
       "      <td>0.016767</td>\n",
       "      <td>0.012756</td>\n",
       "      <td>0.017564</td>\n",
       "      <td>0.013565</td>\n",
       "      <td>0.003697</td>\n",
       "      <td>10</td>\n",
       "    </tr>\n",
       "    <tr>\n",
       "      <th>11</th>\n",
       "      <td>0.052404</td>\n",
       "      <td>0.100574</td>\n",
       "      <td>0.093111</td>\n",
       "      <td>0.051734</td>\n",
       "      <td>0.046794</td>\n",
       "      <td>0.085103</td>\n",
       "      <td>0.044510</td>\n",
       "      <td>0.033404</td>\n",
       "      <td>0.034350</td>\n",
       "      <td>0.032710</td>\n",
       "      <td>0.034307</td>\n",
       "      <td>0.027917</td>\n",
       "      <td>11</td>\n",
       "    </tr>\n",
       "    <tr>\n",
       "      <th>12</th>\n",
       "      <td>0.145964</td>\n",
       "      <td>0.061337</td>\n",
       "      <td>0.071200</td>\n",
       "      <td>0.065124</td>\n",
       "      <td>0.069103</td>\n",
       "      <td>0.067687</td>\n",
       "      <td>0.068564</td>\n",
       "      <td>0.072074</td>\n",
       "      <td>0.068207</td>\n",
       "      <td>0.075292</td>\n",
       "      <td>0.070952</td>\n",
       "      <td>0.060160</td>\n",
       "      <td>12</td>\n",
       "    </tr>\n",
       "    <tr>\n",
       "      <th>13</th>\n",
       "      <td>0.160988</td>\n",
       "      <td>0.145065</td>\n",
       "      <td>0.139486</td>\n",
       "      <td>0.092164</td>\n",
       "      <td>0.089149</td>\n",
       "      <td>0.140291</td>\n",
       "      <td>0.095021</td>\n",
       "      <td>0.089859</td>\n",
       "      <td>0.091049</td>\n",
       "      <td>0.084531</td>\n",
       "      <td>0.088347</td>\n",
       "      <td>0.081368</td>\n",
       "      <td>13</td>\n",
       "    </tr>\n",
       "    <tr>\n",
       "      <th>14</th>\n",
       "      <td>0.225836</td>\n",
       "      <td>0.181705</td>\n",
       "      <td>0.178613</td>\n",
       "      <td>0.143578</td>\n",
       "      <td>0.144803</td>\n",
       "      <td>0.189619</td>\n",
       "      <td>0.168407</td>\n",
       "      <td>0.165789</td>\n",
       "      <td>0.157412</td>\n",
       "      <td>0.153672</td>\n",
       "      <td>0.147916</td>\n",
       "      <td>0.121408</td>\n",
       "      <td>14</td>\n",
       "    </tr>\n",
       "    <tr>\n",
       "      <th>15</th>\n",
       "      <td>0.140657</td>\n",
       "      <td>0.124216</td>\n",
       "      <td>0.115029</td>\n",
       "      <td>0.107721</td>\n",
       "      <td>0.104944</td>\n",
       "      <td>0.122553</td>\n",
       "      <td>0.098539</td>\n",
       "      <td>0.105842</td>\n",
       "      <td>0.104117</td>\n",
       "      <td>0.101473</td>\n",
       "      <td>0.100574</td>\n",
       "      <td>0.097213</td>\n",
       "      <td>15</td>\n",
       "    </tr>\n",
       "    <tr>\n",
       "      <th>16</th>\n",
       "      <td>0.121365</td>\n",
       "      <td>0.106438</td>\n",
       "      <td>0.094308</td>\n",
       "      <td>0.105851</td>\n",
       "      <td>0.095895</td>\n",
       "      <td>0.098715</td>\n",
       "      <td>0.103708</td>\n",
       "      <td>0.090227</td>\n",
       "      <td>0.088799</td>\n",
       "      <td>0.084870</td>\n",
       "      <td>0.083305</td>\n",
       "      <td>0.083052</td>\n",
       "      <td>16</td>\n",
       "    </tr>\n",
       "    <tr>\n",
       "      <th>17</th>\n",
       "      <td>0.049716</td>\n",
       "      <td>0.069675</td>\n",
       "      <td>0.064517</td>\n",
       "      <td>0.045150</td>\n",
       "      <td>0.041105</td>\n",
       "      <td>0.077762</td>\n",
       "      <td>0.049780</td>\n",
       "      <td>0.057754</td>\n",
       "      <td>0.057396</td>\n",
       "      <td>0.055832</td>\n",
       "      <td>0.055534</td>\n",
       "      <td>0.044426</td>\n",
       "      <td>17</td>\n",
       "    </tr>\n",
       "    <tr>\n",
       "      <th>18</th>\n",
       "      <td>0.216768</td>\n",
       "      <td>0.181023</td>\n",
       "      <td>0.177915</td>\n",
       "      <td>0.169122</td>\n",
       "      <td>0.163523</td>\n",
       "      <td>0.180739</td>\n",
       "      <td>0.148572</td>\n",
       "      <td>0.142752</td>\n",
       "      <td>0.141872</td>\n",
       "      <td>0.141151</td>\n",
       "      <td>0.138988</td>\n",
       "      <td>0.126550</td>\n",
       "      <td>18</td>\n",
       "    </tr>\n",
       "    <tr>\n",
       "      <th>19</th>\n",
       "      <td>0.066874</td>\n",
       "      <td>0.022208</td>\n",
       "      <td>0.020261</td>\n",
       "      <td>0.019265</td>\n",
       "      <td>0.015530</td>\n",
       "      <td>0.027231</td>\n",
       "      <td>0.008988</td>\n",
       "      <td>0.025633</td>\n",
       "      <td>0.025246</td>\n",
       "      <td>0.022085</td>\n",
       "      <td>0.021699</td>\n",
       "      <td>0.017891</td>\n",
       "      <td>19</td>\n",
       "    </tr>\n",
       "    <tr>\n",
       "      <th>20</th>\n",
       "      <td>0.144169</td>\n",
       "      <td>0.092311</td>\n",
       "      <td>0.085220</td>\n",
       "      <td>0.023285</td>\n",
       "      <td>0.026257</td>\n",
       "      <td>0.094704</td>\n",
       "      <td>0.022887</td>\n",
       "      <td>0.019542</td>\n",
       "      <td>0.020185</td>\n",
       "      <td>0.021401</td>\n",
       "      <td>0.021969</td>\n",
       "      <td>0.019235</td>\n",
       "      <td>20</td>\n",
       "    </tr>\n",
       "    <tr>\n",
       "      <th>21</th>\n",
       "      <td>0.125195</td>\n",
       "      <td>0.076907</td>\n",
       "      <td>0.084426</td>\n",
       "      <td>0.062605</td>\n",
       "      <td>0.056355</td>\n",
       "      <td>0.078394</td>\n",
       "      <td>0.069935</td>\n",
       "      <td>0.070070</td>\n",
       "      <td>0.061372</td>\n",
       "      <td>0.068501</td>\n",
       "      <td>0.059107</td>\n",
       "      <td>0.056826</td>\n",
       "      <td>21</td>\n",
       "    </tr>\n",
       "    <tr>\n",
       "      <th>22</th>\n",
       "      <td>0.251579</td>\n",
       "      <td>0.157524</td>\n",
       "      <td>0.135914</td>\n",
       "      <td>0.097249</td>\n",
       "      <td>0.092427</td>\n",
       "      <td>0.171537</td>\n",
       "      <td>0.137286</td>\n",
       "      <td>0.133998</td>\n",
       "      <td>0.123802</td>\n",
       "      <td>0.111595</td>\n",
       "      <td>0.107393</td>\n",
       "      <td>0.083634</td>\n",
       "      <td>22</td>\n",
       "    </tr>\n",
       "    <tr>\n",
       "      <th>23</th>\n",
       "      <td>0.081943</td>\n",
       "      <td>0.040775</td>\n",
       "      <td>0.046621</td>\n",
       "      <td>0.038149</td>\n",
       "      <td>0.034669</td>\n",
       "      <td>0.048259</td>\n",
       "      <td>0.031600</td>\n",
       "      <td>0.021543</td>\n",
       "      <td>0.018536</td>\n",
       "      <td>0.021495</td>\n",
       "      <td>0.018219</td>\n",
       "      <td>0.018545</td>\n",
       "      <td>23</td>\n",
       "    </tr>\n",
       "  </tbody>\n",
       "</table>\n",
       "</div>"
      ],
      "text/plain": [
       "    0_baseline_stc  1_csf_csfonly_stc  2_moco_stc  3_cc_stc  4_moco_cc_stc  \\\n",
       "0         0.094593           0.062057    0.047550  0.045065       0.037107   \n",
       "1         0.262605           0.181467    0.185646  0.119129       0.119549   \n",
       "2         0.009345          -0.001023    0.002365 -0.004488       0.002718   \n",
       "3         0.194947           0.114623    0.089386  0.058896       0.053665   \n",
       "4         0.268671           0.210369    0.175489  0.079730       0.087547   \n",
       "5         0.040891           0.009760    0.010190 -0.005271      -0.001300   \n",
       "6         0.047154          -0.003797   -0.002998 -0.015226      -0.013160   \n",
       "7         0.050422           0.075698    0.076047  0.074199       0.073967   \n",
       "8         0.007215           0.000260    0.019393  0.009253       0.017256   \n",
       "9         0.355203           0.194091    0.153324  0.052920       0.056896   \n",
       "10        0.046577           0.007108    0.012921  0.001334       0.003596   \n",
       "11        0.052404           0.100574    0.093111  0.051734       0.046794   \n",
       "12        0.145964           0.061337    0.071200  0.065124       0.069103   \n",
       "13        0.160988           0.145065    0.139486  0.092164       0.089149   \n",
       "14        0.225836           0.181705    0.178613  0.143578       0.144803   \n",
       "15        0.140657           0.124216    0.115029  0.107721       0.104944   \n",
       "16        0.121365           0.106438    0.094308  0.105851       0.095895   \n",
       "17        0.049716           0.069675    0.064517  0.045150       0.041105   \n",
       "18        0.216768           0.181023    0.177915  0.169122       0.163523   \n",
       "19        0.066874           0.022208    0.020261  0.019265       0.015530   \n",
       "20        0.144169           0.092311    0.085220  0.023285       0.026257   \n",
       "21        0.125195           0.076907    0.084426  0.062605       0.056355   \n",
       "22        0.251579           0.157524    0.135914  0.097249       0.092427   \n",
       "23        0.081943           0.040775    0.046621  0.038149       0.034669   \n",
       "\n",
       "    5_pnm_cardonly_stc  6_pnm_responly_stc  7_pnm_stc  8_csf_pnm_stc  \\\n",
       "0             0.065220            0.033386   0.022889       0.019540   \n",
       "1             0.179454            0.103751   0.104140       0.097627   \n",
       "2            -0.005814           -0.003611  -0.000840       0.000039   \n",
       "3             0.110158            0.044258   0.041315       0.043283   \n",
       "4             0.213475            0.119382   0.115002       0.112249   \n",
       "5             0.012040            0.001480  -0.009163      -0.014512   \n",
       "6            -0.002916           -0.006569  -0.011645      -0.012777   \n",
       "7             0.072135            0.074464   0.079175       0.079367   \n",
       "8            -0.011654            0.033995   0.028981       0.029842   \n",
       "9             0.191174            0.113900   0.102511       0.097799   \n",
       "10            0.013597            0.012883   0.016767       0.012756   \n",
       "11            0.085103            0.044510   0.033404       0.034350   \n",
       "12            0.067687            0.068564   0.072074       0.068207   \n",
       "13            0.140291            0.095021   0.089859       0.091049   \n",
       "14            0.189619            0.168407   0.165789       0.157412   \n",
       "15            0.122553            0.098539   0.105842       0.104117   \n",
       "16            0.098715            0.103708   0.090227       0.088799   \n",
       "17            0.077762            0.049780   0.057754       0.057396   \n",
       "18            0.180739            0.148572   0.142752       0.141872   \n",
       "19            0.027231            0.008988   0.025633       0.025246   \n",
       "20            0.094704            0.022887   0.019542       0.020185   \n",
       "21            0.078394            0.069935   0.070070       0.061372   \n",
       "22            0.171537            0.137286   0.133998       0.123802   \n",
       "23            0.048259            0.031600   0.021543       0.018536   \n",
       "\n",
       "    9_pnm_moco_stc  10_csf_pnm_moco_stc  11_csf_pnm_moco_cc_stc  subID  \n",
       "0         0.020488             0.017259                0.007821      0  \n",
       "1         0.104674             0.097615                0.081565      1  \n",
       "2         0.004839             0.006065                0.017466      2  \n",
       "3         0.036617             0.038240                0.032189      3  \n",
       "4         0.116551             0.114989                0.069998      4  \n",
       "5        -0.005458            -0.009816               -0.005807      5  \n",
       "6        -0.008332            -0.009961               -0.016815      6  \n",
       "7         0.081212             0.081243                0.083145      7  \n",
       "8         0.035796             0.036697                0.024782      8  \n",
       "9         0.082196             0.074187                0.046042      9  \n",
       "10        0.017564             0.013565                0.003697     10  \n",
       "11        0.032710             0.034307                0.027917     11  \n",
       "12        0.075292             0.070952                0.060160     12  \n",
       "13        0.084531             0.088347                0.081368     13  \n",
       "14        0.153672             0.147916                0.121408     14  \n",
       "15        0.101473             0.100574                0.097213     15  \n",
       "16        0.084870             0.083305                0.083052     16  \n",
       "17        0.055832             0.055534                0.044426     17  \n",
       "18        0.141151             0.138988                0.126550     18  \n",
       "19        0.022085             0.021699                0.017891     19  \n",
       "20        0.021401             0.021969                0.019235     20  \n",
       "21        0.068501             0.059107                0.056826     21  \n",
       "22        0.111595             0.107393                0.083634     22  \n",
       "23        0.021495             0.018219                0.018545     23  "
      ]
     },
     "execution_count": 133,
     "metadata": {},
     "output_type": "execute_result"
    }
   ],
   "source": [
    "dd_df"
   ]
  },
  {
   "cell_type": "code",
   "execution_count": 134,
   "id": "d4f7d2ba",
   "metadata": {},
   "outputs": [],
   "source": [
    "### save dataframes\n",
    "    \n",
    "vv_df.to_csv(f\"Outputs_paper_data/{tempfilt}_VV_FC_zfisher.csv\")\n",
    "dd_df.to_csv(f\"Outputs_paper_data/{tempfilt}_DD_FC_zfisher.csv\")\n",
    "w_df.to_csv(f\"Outputs_paper_data/{tempfilt}_W_FC_zfisher.csv\")\n",
    "b_df.to_csv(f\"Outputs_paper_data/{tempfilt}_B_FC_zfisher.csv\")\n",
    "\n",
    "vv_df_corr.to_csv(f\"Outputs_paper_data/{tempfilt}_VV_FC.csv\")\n",
    "dd_df_corr.to_csv(f\"Outputs_paper_data/{tempfilt}_DD_FC.csv\")\n",
    "w_df_corr.to_csv(f\"Outputs_paper_data/{tempfilt}_W_FC.csv\")\n",
    "b_df_corr.to_csv(f\"Outputs_paper_data/{tempfilt}_B_FC.csv\")"
   ]
  },
  {
   "cell_type": "code",
   "execution_count": 135,
   "id": "a697531e",
   "metadata": {},
   "outputs": [
    {
     "data": {
      "text/html": [
       "<div>\n",
       "<style scoped>\n",
       "    .dataframe tbody tr th:only-of-type {\n",
       "        vertical-align: middle;\n",
       "    }\n",
       "\n",
       "    .dataframe tbody tr th {\n",
       "        vertical-align: top;\n",
       "    }\n",
       "\n",
       "    .dataframe thead th {\n",
       "        text-align: right;\n",
       "    }\n",
       "</style>\n",
       "<table border=\"1\" class=\"dataframe\">\n",
       "  <thead>\n",
       "    <tr style=\"text-align: right;\">\n",
       "      <th></th>\n",
       "      <th>subID</th>\n",
       "      <th>variable</th>\n",
       "      <th>value</th>\n",
       "    </tr>\n",
       "  </thead>\n",
       "  <tbody>\n",
       "    <tr>\n",
       "      <th>0</th>\n",
       "      <td>0</td>\n",
       "      <td>0_baseline_stc</td>\n",
       "      <td>0.151015</td>\n",
       "    </tr>\n",
       "    <tr>\n",
       "      <th>1</th>\n",
       "      <td>1</td>\n",
       "      <td>0_baseline_stc</td>\n",
       "      <td>0.294916</td>\n",
       "    </tr>\n",
       "    <tr>\n",
       "      <th>2</th>\n",
       "      <td>2</td>\n",
       "      <td>0_baseline_stc</td>\n",
       "      <td>0.057778</td>\n",
       "    </tr>\n",
       "    <tr>\n",
       "      <th>3</th>\n",
       "      <td>3</td>\n",
       "      <td>0_baseline_stc</td>\n",
       "      <td>0.152514</td>\n",
       "    </tr>\n",
       "    <tr>\n",
       "      <th>4</th>\n",
       "      <td>4</td>\n",
       "      <td>0_baseline_stc</td>\n",
       "      <td>0.259930</td>\n",
       "    </tr>\n",
       "    <tr>\n",
       "      <th>...</th>\n",
       "      <td>...</td>\n",
       "      <td>...</td>\n",
       "      <td>...</td>\n",
       "    </tr>\n",
       "    <tr>\n",
       "      <th>283</th>\n",
       "      <td>19</td>\n",
       "      <td>11_csf_pnm_moco_cc_stc</td>\n",
       "      <td>0.108936</td>\n",
       "    </tr>\n",
       "    <tr>\n",
       "      <th>284</th>\n",
       "      <td>20</td>\n",
       "      <td>11_csf_pnm_moco_cc_stc</td>\n",
       "      <td>0.054251</td>\n",
       "    </tr>\n",
       "    <tr>\n",
       "      <th>285</th>\n",
       "      <td>21</td>\n",
       "      <td>11_csf_pnm_moco_cc_stc</td>\n",
       "      <td>0.053654</td>\n",
       "    </tr>\n",
       "    <tr>\n",
       "      <th>286</th>\n",
       "      <td>22</td>\n",
       "      <td>11_csf_pnm_moco_cc_stc</td>\n",
       "      <td>0.043298</td>\n",
       "    </tr>\n",
       "    <tr>\n",
       "      <th>287</th>\n",
       "      <td>23</td>\n",
       "      <td>11_csf_pnm_moco_cc_stc</td>\n",
       "      <td>0.022870</td>\n",
       "    </tr>\n",
       "  </tbody>\n",
       "</table>\n",
       "<p>288 rows × 3 columns</p>\n",
       "</div>"
      ],
      "text/plain": [
       "     subID                variable     value\n",
       "0        0          0_baseline_stc  0.151015\n",
       "1        1          0_baseline_stc  0.294916\n",
       "2        2          0_baseline_stc  0.057778\n",
       "3        3          0_baseline_stc  0.152514\n",
       "4        4          0_baseline_stc  0.259930\n",
       "..     ...                     ...       ...\n",
       "283     19  11_csf_pnm_moco_cc_stc  0.108936\n",
       "284     20  11_csf_pnm_moco_cc_stc  0.054251\n",
       "285     21  11_csf_pnm_moco_cc_stc  0.053654\n",
       "286     22  11_csf_pnm_moco_cc_stc  0.043298\n",
       "287     23  11_csf_pnm_moco_cc_stc  0.022870\n",
       "\n",
       "[288 rows x 3 columns]"
      ]
     },
     "execution_count": 135,
     "metadata": {},
     "output_type": "execute_result"
    }
   ],
   "source": [
    "vv_df_long"
   ]
  },
  {
   "cell_type": "code",
   "execution_count": 136,
   "id": "8e1ba78a",
   "metadata": {
    "scrolled": true
   },
   "outputs": [
    {
     "data": {
      "application/vnd.jupyter.widget-view+json": {
       "model_id": "7b30cd69df984d80bb489a25e5b803b5",
       "version_major": 2,
       "version_minor": 0
      },
      "text/plain": [
       "HBox(children=(HTML(value=''), FloatProgress(value=0.0, max=24.0), HTML(value='')))"
      ]
     },
     "metadata": {},
     "output_type": "display_data"
    },
    {
     "name": "stdout",
     "output_type": "stream",
     "text": [
      "LU_AT\n",
      "LU_EP\n",
      "LU_FB\n",
      "LU_EM\n",
      "LU_GL\n",
      "LU_GP\n",
      "LU_MD\n",
      "LU_MP\n",
      "LU_NG\n",
      "LU_NK\n",
      "LU_SA\n",
      "LU_SL\n",
      "LU_VG\n",
      "LU_YF\n",
      "LU_IR\n",
      "LU_BN\n",
      "LU_ML\n",
      "LU_SM\n",
      "LU_NS\n",
      "LU_NB\n",
      "LU_AF\n",
      "LU_MC\n",
      "LU_AR\n",
      "LU_MT\n",
      "\n"
     ]
    }
   ],
   "source": [
    "# method definition\n",
    "method = \"slices\"   # \"average\" (average signals -- 1st vestion), \"slices\" (corr per slice -- 2nd version)\n",
    "auto = False    # If auto is True: template ROIs are used, \n",
    "               # if False: manual seeds\n",
    "\n",
    "if auto:\n",
    "    add = \"ROIs\"\n",
    "else:\n",
    "    add = \"seeds\"\n",
    "\n",
    "#  dictionary per option\n",
    "tempfilt = \"BP13\"\n",
    "options_fc_subs = {}\n",
    "options_z_subs = {}\n",
    "\n",
    "o = 10\n",
    "    \n",
    "\n",
    "input_den_image = get_filename(o, tempfilt)\n",
    "out_name = get_option_foldername(o)\n",
    "outfolderpath = f\"PreProc-Comparison/{out_name}\"\n",
    "\n",
    "\n",
    "# V-V 0,1\n",
    "# D-D 2,3\n",
    "# VR-DR 0,2  --> within\n",
    "# VL-DL 1,3  --> within \n",
    "# VR-DL 0,3  --> between\n",
    "# VL-DR 1,2  --> between\n",
    "dist_corr_vv = []\n",
    "dist_corr_dd = []\n",
    "dist_corr_within_VRDR = []\n",
    "dist_corr_within_VLDL = []\n",
    "dist_corr_between_VRDL = []\n",
    "dist_corr_between_VLDR = []\n",
    "\n",
    "\n",
    "for s in trange(len(subjects_paths)):\n",
    "    subname = subjects_paths[s].split('/')[-1]\n",
    "    print(subname)\n",
    "    # np.load(os.path.join(data_path,outfolderpath,tempfilt, method, add, f'FC_ave_all_{add}_{method}.npy'))\n",
    "    file_to_read = os.path.join(data_path,outfolderpath,tempfilt,method,add,subname,f'FC_mat.npy')\n",
    "    #print(f\"Loading {file_to_read}\")\n",
    "    mat = np.load(file_to_read)\n",
    "    mat_z_fisher = np.arctanh(mat-np.eye(4))\n",
    "\n",
    "    dist_corr_vv.append(mat[0,1])\n",
    "    dist_corr_dd.append(mat[2,3])\n",
    "    dist_corr_within_VRDR.append(mat[0,2])\n",
    "    dist_corr_within_VLDL.append(mat[1,3])\n",
    "    dist_corr_between_VRDL.append(mat[0,3])\n",
    "    dist_corr_between_VLDR.append(mat[1,2])"
   ]
  },
  {
   "cell_type": "code",
   "execution_count": 92,
   "id": "a6c78ab9",
   "metadata": {},
   "outputs": [],
   "source": [
    "r1 = wilcoxon(dist_corr_between_VRDL)\n",
    "r2 = wilcoxon(dist_corr_between_VLDR)\n",
    "r3 = wilcoxon(dist_corr_within_VLDL)\n",
    "r4 = wilcoxon(dist_corr_within_VRDR)\n",
    "r5 = wilcoxon(dist_corr_vv)\n",
    "r6 = wilcoxon(dist_corr_dd)"
   ]
  },
  {
   "cell_type": "code",
   "execution_count": 146,
   "id": "388e7727",
   "metadata": {},
   "outputs": [],
   "source": [
    "pvals = [r5[1], r6[1],r1[1],r2[1],r3[1],r4[1]]"
   ]
  },
  {
   "cell_type": "code",
   "execution_count": 148,
   "id": "1a26d326",
   "metadata": {},
   "outputs": [
    {
     "data": {
      "text/plain": [
       "[1.1920928955078125e-07,\n",
       " 1.1920928955078125e-06,\n",
       " 1.1920928955078125e-07,\n",
       " 1.049041748046875e-05,\n",
       " 0.05264079570770264,\n",
       " 0.4223414659500122]"
      ]
     },
     "execution_count": 148,
     "metadata": {},
     "output_type": "execute_result"
    }
   ],
   "source": [
    "pvals"
   ]
  },
  {
   "cell_type": "code",
   "execution_count": 149,
   "id": "8d7ee6a5",
   "metadata": {},
   "outputs": [
    {
     "data": {
      "text/plain": [
       "(array([ True,  True,  True,  True, False, False]),\n",
       " array([3.57627869e-07, 2.38418579e-06, 3.57627869e-07, 1.57356262e-05,\n",
       "        6.31689548e-02, 4.22341466e-01]),\n",
       " 0.008512444610847103,\n",
       " 0.008333333333333333)"
      ]
     },
     "execution_count": 149,
     "metadata": {},
     "output_type": "execute_result"
    }
   ],
   "source": [
    "multipletests(pvals,method='fdr_bh')"
   ]
  },
  {
   "cell_type": "code",
   "execution_count": 282,
   "id": "7759f7c3",
   "metadata": {},
   "outputs": [],
   "source": [
    "vv_res = {}\n",
    "dd_res = {}\n",
    "b_res = {}\n",
    "w_res = {}\n",
    "\n",
    "for o in denoising_names:\n",
    "    vv_res[o] = wilcoxon(vv_df_corr[o].values)\n",
    "    dd_res[o] = wilcoxon(dd_df_corr[o].values)    \n",
    "    b_res[o] = wilcoxon(w_df_corr[o].values)\n",
    "    w_res[o] = wilcoxon(b_df_corr[o].values)    "
   ]
  },
  {
   "cell_type": "code",
   "execution_count": 221,
   "id": "4b9707f2",
   "metadata": {
    "scrolled": true
   },
   "outputs": [
    {
     "data": {
      "text/plain": [
       "{'0_baseline_stc': WilcoxonResult(statistic=0.0, pvalue=1.1920928955078125e-07),\n",
       " '1_csf_csfonly_stc': WilcoxonResult(statistic=0.0, pvalue=1.1920928955078125e-07),\n",
       " '2_moco_stc': WilcoxonResult(statistic=0.0, pvalue=1.1920928955078125e-07),\n",
       " '3_cc_stc': WilcoxonResult(statistic=0.0, pvalue=1.1920928955078125e-07),\n",
       " '4_moco_cc_stc': WilcoxonResult(statistic=0.0, pvalue=1.1920928955078125e-07),\n",
       " '5_pnm_cardonly_stc': WilcoxonResult(statistic=1.0, pvalue=2.384185791015625e-07),\n",
       " '6_pnm_responly_stc': WilcoxonResult(statistic=0.0, pvalue=1.1920928955078125e-07),\n",
       " '7_pnm_stc': WilcoxonResult(statistic=0.0, pvalue=1.1920928955078125e-07),\n",
       " '8_csf_pnm_stc': WilcoxonResult(statistic=0.0, pvalue=1.1920928955078125e-07),\n",
       " '9_pnm_moco_stc': WilcoxonResult(statistic=0.0, pvalue=1.1920928955078125e-07),\n",
       " '10_csf_pnm_moco_stc': WilcoxonResult(statistic=0.0, pvalue=1.1920928955078125e-07),\n",
       " '11_csf_pnm_moco_cc_stc': WilcoxonResult(statistic=3.0, pvalue=5.960464477539062e-07)}"
      ]
     },
     "execution_count": 221,
     "metadata": {},
     "output_type": "execute_result"
    }
   ],
   "source": [
    "vv_res"
   ]
  },
  {
   "cell_type": "code",
   "execution_count": 222,
   "id": "3936864b",
   "metadata": {
    "scrolled": true
   },
   "outputs": [
    {
     "data": {
      "text/plain": [
       "{'0_baseline_stc': WilcoxonResult(statistic=0.0, pvalue=1.1920928955078125e-07),\n",
       " '1_csf_csfonly_stc': WilcoxonResult(statistic=5.0, pvalue=1.1920928955078125e-06),\n",
       " '2_moco_stc': WilcoxonResult(statistic=2.0, pvalue=3.5762786865234375e-07),\n",
       " '3_cc_stc': WilcoxonResult(statistic=10.0, pvalue=5.125999450683594e-06),\n",
       " '4_moco_cc_stc': WilcoxonResult(statistic=5.0, pvalue=1.1920928955078125e-06),\n",
       " '5_pnm_cardonly_stc': WilcoxonResult(statistic=6.0, pvalue=1.6689300537109375e-06),\n",
       " '6_pnm_responly_stc': WilcoxonResult(statistic=5.0, pvalue=1.1920928955078125e-06),\n",
       " '7_pnm_stc': WilcoxonResult(statistic=6.0, pvalue=1.6689300537109375e-06),\n",
       " '8_csf_pnm_stc': WilcoxonResult(statistic=7.0, pvalue=2.2649765014648438e-06),\n",
       " '9_pnm_moco_stc': WilcoxonResult(statistic=5.0, pvalue=1.1920928955078125e-06),\n",
       " '10_csf_pnm_moco_stc': WilcoxonResult(statistic=5.0, pvalue=1.1920928955078125e-06),\n",
       " '11_csf_pnm_moco_cc_stc': WilcoxonResult(statistic=6.0, pvalue=1.6689300537109375e-06)}"
      ]
     },
     "execution_count": 222,
     "metadata": {},
     "output_type": "execute_result"
    }
   ],
   "source": [
    "dd_res"
   ]
  },
  {
   "cell_type": "code",
   "execution_count": 283,
   "id": "944aec17",
   "metadata": {},
   "outputs": [
    {
     "data": {
      "text/plain": [
       "{'0_baseline_stc': WilcoxonResult(statistic=7.0, pvalue=2.2649765014648438e-06),\n",
       " '1_csf_csfonly_stc': WilcoxonResult(statistic=24.0, pvalue=9.083747863769531e-05),\n",
       " '2_moco_stc': WilcoxonResult(statistic=29.0, pvalue=0.00020515918731689453),\n",
       " '3_cc_stc': WilcoxonResult(statistic=71.0, pvalue=0.022932052612304688),\n",
       " '4_moco_cc_stc': WilcoxonResult(statistic=83.0, pvalue=0.05642664432525635),\n",
       " '5_pnm_cardonly_stc': WilcoxonResult(statistic=18.0, pvalue=3.0159950256347656e-05),\n",
       " '6_pnm_responly_stc': WilcoxonResult(statistic=72.0, pvalue=0.024863600730895996),\n",
       " '7_pnm_stc': WilcoxonResult(statistic=69.0, pvalue=0.019441962242126465),\n",
       " '8_csf_pnm_stc': WilcoxonResult(statistic=75.0, pvalue=0.03148162364959717),\n",
       " '9_pnm_moco_stc': WilcoxonResult(statistic=86.0, pvalue=0.06910169124603271),\n",
       " '10_csf_pnm_moco_stc': WilcoxonResult(statistic=87.0, pvalue=0.07379257678985596),\n",
       " '11_csf_pnm_moco_cc_stc': WilcoxonResult(statistic=140.0, pvalue=0.7898378372192383)}"
      ]
     },
     "execution_count": 283,
     "metadata": {},
     "output_type": "execute_result"
    }
   ],
   "source": [
    "b_res"
   ]
  },
  {
   "cell_type": "code",
   "execution_count": 284,
   "id": "9702f4e8",
   "metadata": {
    "scrolled": true
   },
   "outputs": [
    {
     "data": {
      "text/plain": [
       "{'0_baseline_stc': WilcoxonResult(statistic=2.0, pvalue=3.5762786865234375e-07),\n",
       " '1_csf_csfonly_stc': WilcoxonResult(statistic=0.0, pvalue=1.1920928955078125e-07),\n",
       " '2_moco_stc': WilcoxonResult(statistic=0.0, pvalue=1.1920928955078125e-07),\n",
       " '3_cc_stc': WilcoxonResult(statistic=2.0, pvalue=3.5762786865234375e-07),\n",
       " '4_moco_cc_stc': WilcoxonResult(statistic=1.0, pvalue=2.384185791015625e-07),\n",
       " '5_pnm_cardonly_stc': WilcoxonResult(statistic=0.0, pvalue=1.1920928955078125e-07),\n",
       " '6_pnm_responly_stc': WilcoxonResult(statistic=2.0, pvalue=3.5762786865234375e-07),\n",
       " '7_pnm_stc': WilcoxonResult(statistic=2.0, pvalue=3.5762786865234375e-07),\n",
       " '8_csf_pnm_stc': WilcoxonResult(statistic=2.0, pvalue=3.5762786865234375e-07),\n",
       " '9_pnm_moco_stc': WilcoxonResult(statistic=3.0, pvalue=5.960464477539062e-07),\n",
       " '10_csf_pnm_moco_stc': WilcoxonResult(statistic=2.0, pvalue=3.5762786865234375e-07),\n",
       " '11_csf_pnm_moco_cc_stc': WilcoxonResult(statistic=5.0, pvalue=1.1920928955078125e-06)}"
      ]
     },
     "execution_count": 284,
     "metadata": {},
     "output_type": "execute_result"
    }
   ],
   "source": [
    "w_res"
   ]
  },
  {
   "cell_type": "code",
   "execution_count": 287,
   "id": "e55482b3",
   "metadata": {},
   "outputs": [],
   "source": [
    "pvals = []\n",
    "for o in dd_res.keys():\n",
    "    pvals.append(w_res[o][1])"
   ]
  },
  {
   "cell_type": "code",
   "execution_count": 288,
   "id": "563b42ac",
   "metadata": {
    "scrolled": true
   },
   "outputs": [
    {
     "data": {
      "text/plain": [
       "(array([ True,  True,  True,  True,  True,  True,  True,  True,  True,\n",
       "         True,  True,  True]),\n",
       " array([4.29153442e-07, 4.29153442e-07, 4.29153442e-07, 4.29153442e-07,\n",
       "        4.29153442e-07, 4.29153442e-07, 4.29153442e-07, 4.29153442e-07,\n",
       "        4.29153442e-07, 6.50232488e-07, 4.29153442e-07, 1.19209290e-06]),\n",
       " 0.004265318777560645,\n",
       " 0.004166666666666667)"
      ]
     },
     "execution_count": 288,
     "metadata": {},
     "output_type": "execute_result"
    }
   ],
   "source": [
    "multipletests(pvals,method='fdr_bh')"
   ]
  },
  {
   "cell_type": "code",
   "execution_count": 227,
   "id": "b27245ae",
   "metadata": {
    "scrolled": true
   },
   "outputs": [
    {
     "data": {
      "text/plain": [
       "{'0_baseline_stc': WilcoxonResult(statistic=0.0, pvalue=1.1920928955078125e-07),\n",
       " '1_csf_csfonly_stc': WilcoxonResult(statistic=0.0, pvalue=1.1920928955078125e-07),\n",
       " '2_moco_stc': WilcoxonResult(statistic=0.0, pvalue=1.1920928955078125e-07),\n",
       " '3_cc_stc': WilcoxonResult(statistic=0.0, pvalue=1.1920928955078125e-07),\n",
       " '4_moco_cc_stc': WilcoxonResult(statistic=0.0, pvalue=1.1920928955078125e-07),\n",
       " '5_pnm_cardonly_stc': WilcoxonResult(statistic=1.0, pvalue=2.384185791015625e-07),\n",
       " '6_pnm_responly_stc': WilcoxonResult(statistic=0.0, pvalue=1.1920928955078125e-07),\n",
       " '7_pnm_stc': WilcoxonResult(statistic=0.0, pvalue=1.1920928955078125e-07),\n",
       " '8_csf_pnm_stc': WilcoxonResult(statistic=0.0, pvalue=1.1920928955078125e-07),\n",
       " '9_pnm_moco_stc': WilcoxonResult(statistic=0.0, pvalue=1.1920928955078125e-07),\n",
       " '10_csf_pnm_moco_stc': WilcoxonResult(statistic=0.0, pvalue=1.1920928955078125e-07),\n",
       " '11_csf_pnm_moco_cc_stc': WilcoxonResult(statistic=3.0, pvalue=5.960464477539062e-07)}"
      ]
     },
     "execution_count": 227,
     "metadata": {},
     "output_type": "execute_result"
    }
   ],
   "source": [
    "vv_res"
   ]
  },
  {
   "cell_type": "code",
   "execution_count": 228,
   "id": "c48c900b",
   "metadata": {},
   "outputs": [],
   "source": [
    "pvals = []\n",
    "for o in dd_res.keys():\n",
    "    pvals.append(dd_res[o][1])"
   ]
  },
  {
   "cell_type": "code",
   "execution_count": 229,
   "id": "65a397b9",
   "metadata": {},
   "outputs": [
    {
     "data": {
      "text/plain": [
       "(array([ True,  True,  True,  True,  True,  True,  True,  True,  True,\n",
       "         True,  True,  True]),\n",
       " array([1.43051147e-06, 2.00271606e-06, 2.00271606e-06, 5.12599945e-06,\n",
       "        2.00271606e-06, 2.00271606e-06, 2.00271606e-06, 2.00271606e-06,\n",
       "        2.47088346e-06, 2.00271606e-06, 2.00271606e-06, 2.00271606e-06]),\n",
       " 0.004265318777560645,\n",
       " 0.004166666666666667)"
      ]
     },
     "execution_count": 229,
     "metadata": {},
     "output_type": "execute_result"
    }
   ],
   "source": [
    "multipletests(pvals,method='fdr_bh')"
   ]
  },
  {
   "cell_type": "code",
   "execution_count": 230,
   "id": "a081e3cd",
   "metadata": {},
   "outputs": [],
   "source": [
    "\n",
    "for o in denoising_names:\n",
    "    vv_res[o] = wilcoxon(vv_df_corr[o].values,)\n",
    "    dd_res[o] = wilcoxon(dd_df_corr[o].values)    \n",
    "    b_res[o] = wilcoxon(w_df_corr[o].values)\n",
    "    w_res[o] = wilcoxon(b_df_corr[o].values)    "
   ]
  },
  {
   "cell_type": "markdown",
   "id": "ece0360a",
   "metadata": {},
   "source": [
    "## Figures connectivity "
   ]
  },
  {
   "cell_type": "code",
   "execution_count": 231,
   "id": "5d708706",
   "metadata": {},
   "outputs": [],
   "source": [
    "def plot_boxplots(options_fc_subs,key_oi,color,tempfilt):\n",
    "    \n",
    "    labels = []\n",
    "    for o, rs in options_fc_subs.items():\n",
    "        labels.append(get_option_foldername(o))\n",
    "    \n",
    "    conn_to_consider = {}\n",
    "    for k, dicval in options_fc_subs.items():\n",
    "        conn_to_consider[k] = dicval[key_oi]\n",
    "        \n",
    "    y_data = list(conn_to_consider.values())\n",
    "    x_data = labels\n",
    "    colors = [color]*len(conn_to_consider)\n",
    "    # for i in range(len(options_fc_subs)):\n",
    "    #     colors.append(f'rgba({randrange(255)}, {randrange(255)}, {randrange(255)}, 0.5)')\n",
    "    \n",
    "    if key_oi =='VV':\n",
    "        ttl = 'Ventral-Ventral'\n",
    "    elif key_oi == 'DD':\n",
    "        ttl = 'Dorsal-Dorsal'\n",
    "    elif key_oi == 'W':\n",
    "        ttl = 'Within Hemicords'\n",
    "    elif key_oi == 'B':\n",
    "        ttl = 'Between Hemicords'\n",
    "        \n",
    "    fig = go.Figure()\n",
    "\n",
    "    for xd, yd, cls in zip(x_data, y_data, colors):\n",
    "            fig.add_trace(go.Box(\n",
    "                y=yd,\n",
    "                name=xd,\n",
    "                boxpoints='all',\n",
    "                whiskerwidth=0.2,\n",
    "                fillcolor=cls,\n",
    "                marker_size=5,\n",
    "                line_width=1)\n",
    "            )\n",
    "\n",
    "    fig.update_layout(\n",
    "        title=ttl,\n",
    "        yaxis=dict(\n",
    "            range = [-0.1,0.4],\n",
    "            showgrid=True,\n",
    "            zeroline=True,\n",
    "            tickcolor='black',\n",
    "            gridcolor='rgb(255, 255, 255)',\n",
    "            gridwidth=1,\n",
    "            zerolinecolor='rgb(255, 255, 255)',\n",
    "            zerolinewidth=2,\n",
    "            title= \"Correlations\"\n",
    "        ),\n",
    "        margin=dict(\n",
    "            l=40,\n",
    "            r=30,\n",
    "            b=80,\n",
    "            t=100,\n",
    "        ),\n",
    "        paper_bgcolor='rgb(243, 243, 243)',\n",
    "        plot_bgcolor='rgb(243, 243, 243)',\n",
    "        showlegend=False\n",
    "    )\n",
    "\n",
    "\n",
    "    fig.show()\n",
    "    fig.write_html(f\"Outputs_paper_figures/{tempfilt}_{key_oi}_FC_corr.html\")\n",
    "    fig.write_image(f\"Outputs_paper_figures/{tempfilt}_{key_oi}_FC_corr.png\")"
   ]
  },
  {
   "cell_type": "markdown",
   "id": "693d3539",
   "metadata": {},
   "source": [
    "## Ventral-Ventral"
   ]
  },
  {
   "cell_type": "code",
   "execution_count": 232,
   "id": "363c5d68",
   "metadata": {},
   "outputs": [
    {
     "data": {
      "application/vnd.plotly.v1+json": {
       "config": {
        "plotlyServerURL": "https://plot.ly"
       },
       "data": [
        {
         "boxpoints": "all",
         "fillcolor": "#17becf",
         "line": {
          "width": 1
         },
         "marker": {
          "size": 5
         },
         "name": "0_baseline_stc",
         "type": "box",
         "whiskerwidth": 0.2,
         "y": [
          0.15101513809682882,
          0.29491633466404793,
          0.057778364587448276,
          0.15251381225804783,
          0.25992958457719884,
          0.13862017089424888,
          0.0927234450243612,
          0.10101667634065149,
          0.04179673974959748,
          0.2935838745487821,
          0.07864545100330705,
          0.11481172697217412,
          0.22964729293757663,
          0.26472215063897364,
          0.22729736673608877,
          0.10632323157743905,
          0.07437356848665284,
          0.055172764870409265,
          0.2117959177452044,
          0.2813984890431586,
          0.10862540809266914,
          0.2087083719443768,
          0.17384362885294924,
          0.03022387707136603
         ]
        },
        {
         "boxpoints": "all",
         "fillcolor": "#17becf",
         "line": {
          "width": 1
         },
         "marker": {
          "size": 5
         },
         "name": "1_csf_csfonly_stc",
         "type": "box",
         "whiskerwidth": 0.2,
         "y": [
          0.16832677936536872,
          0.18633707096777272,
          0.039740305115837725,
          0.15530411844672973,
          0.24279995959434436,
          0.08674585167179721,
          0.03277516710747476,
          0.09020420624193325,
          3.190249149430081e-05,
          0.1678543232511522,
          0.04937139983404418,
          0.06327801257410816,
          0.06507434441817282,
          0.09438054413901331,
          0.20667565401307306,
          0.08083893993314933,
          0.04567051825773863,
          0.05572685241807396,
          0.20765972855392376,
          0.19416661144519795,
          0.07973826870889932,
          0.10096517001362304,
          0.12716042996930357,
          0.016744989301956954
         ]
        },
        {
         "boxpoints": "all",
         "fillcolor": "#17becf",
         "line": {
          "width": 1
         },
         "marker": {
          "size": 5
         },
         "name": "2_moco_stc",
         "type": "box",
         "whiskerwidth": 0.2,
         "y": [
          0.13215573890597299,
          0.18856801029667908,
          0.04456710284589073,
          0.11086752030640551,
          0.19879595812375744,
          0.08695005890561362,
          0.028441049352997773,
          0.08114695935021347,
          0.012806228787456195,
          0.15095349008292697,
          0.04863039318101582,
          0.08909407787788358,
          0.05240070538040613,
          0.10281303886459113,
          0.19619342157851943,
          0.07346805448768967,
          0.046731938735853684,
          0.060194144125102024,
          0.21427243776193516,
          0.1968337280472125,
          0.08269719954976656,
          0.1095985791230455,
          0.09388852670085364,
          0.024918696815172628
         ]
        },
        {
         "boxpoints": "all",
         "fillcolor": "#17becf",
         "line": {
          "width": 1
         },
         "marker": {
          "size": 5
         },
         "name": "3_cc_stc",
         "type": "box",
         "whiskerwidth": 0.2,
         "y": [
          0.03996720876239626,
          0.13282113317786104,
          0.04105788634454795,
          0.06376768361861161,
          0.10224769947360327,
          0.02251826861384709,
          0.010596337078004012,
          0.07073098724223839,
          0.014788085765500624,
          0.05649012761910995,
          0.04637292327000891,
          0.035848564243299956,
          0.05870706911261344,
          0.07503916407443302,
          0.17112968273221502,
          0.055845724601265946,
          0.04152520630368981,
          0.05338165972030655,
          0.20531585869186064,
          0.14726041522676803,
          0.0532625436335787,
          0.09003096297535293,
          0.08614381508371424,
          0.017637017122719954
         ]
        },
        {
         "boxpoints": "all",
         "fillcolor": "#17becf",
         "line": {
          "width": 1
         },
         "marker": {
          "size": 5
         },
         "name": "4_moco_cc_stc",
         "type": "box",
         "whiskerwidth": 0.2,
         "y": [
          0.04295963592574884,
          0.13265655985832936,
          0.04107237424188109,
          0.05953639287723225,
          0.10508461888303504,
          0.024479873509846026,
          0.006771707994061718,
          0.06562829422003554,
          0.020506276420936977,
          0.0580228161558919,
          0.04311333039845246,
          0.030981768223730936,
          0.04632202916441314,
          0.08019209214465708,
          0.16726695752505633,
          0.05824371496438863,
          0.043400191407077515,
          0.05398657152631008,
          0.2094506721821002,
          0.14324985126426365,
          0.054265620840761815,
          0.09023591519101337,
          0.06926315299557342,
          0.014169451846608274
         ]
        },
        {
         "boxpoints": "all",
         "fillcolor": "#17becf",
         "line": {
          "width": 1
         },
         "marker": {
          "size": 5
         },
         "name": "5_pnm_cardonly_stc",
         "type": "box",
         "whiskerwidth": 0.2,
         "y": [
          0.15896236593700114,
          0.18688564097877533,
          0.0462999387869157,
          0.14226007802626425,
          0.2427904160662876,
          0.08694214112353243,
          0.020054504780034486,
          0.08574921270200557,
          -0.009765924404342301,
          0.16843579568087524,
          0.05151618796307618,
          0.07712237995432102,
          0.06198180232307336,
          0.0922767057010488,
          0.21187157645101276,
          0.07839943036280685,
          0.041158555885735866,
          0.059293396351746616,
          0.2017593126693806,
          0.17711008608162054,
          0.0944422221262431,
          0.10152602606381181,
          0.11992457803801347,
          0.022001929770313584
         ]
        },
        {
         "boxpoints": "all",
         "fillcolor": "#17becf",
         "line": {
          "width": 1
         },
         "marker": {
          "size": 5
         },
         "name": "6_pnm_responly_stc",
         "type": "box",
         "whiskerwidth": 0.2,
         "y": [
          0.035863884394577134,
          0.1343414412239578,
          0.03862524714924727,
          0.07093027804161622,
          0.15277295367667848,
          0.04827620806465472,
          0.024970714128425713,
          0.07768423957809079,
          0.034374192946769196,
          0.08687802076068875,
          0.05348461710813429,
          0.03154875170395123,
          0.061328125268116776,
          0.08468122741103631,
          0.18413113047423518,
          0.04588712160533268,
          0.04209524215196733,
          0.05711457149419997,
          0.1834337109807435,
          0.12626087682385223,
          0.06033728380924372,
          0.08692703953617993,
          0.09662326088839139,
          0.013449022551836963
         ]
        },
        {
         "boxpoints": "all",
         "fillcolor": "#17becf",
         "line": {
          "width": 1
         },
         "marker": {
          "size": 5
         },
         "name": "7_pnm_stc",
         "type": "box",
         "whiskerwidth": 0.2,
         "y": [
          0.024090640478980546,
          0.12451964701283244,
          0.04184729051502706,
          0.0483685927530369,
          0.155632923834905,
          0.03769194585550065,
          0.014120201403968932,
          0.07246125319567183,
          0.017276277848070884,
          0.07822380530571252,
          0.05169304623570059,
          0.005495360363878041,
          0.045260606411198674,
          0.06960858745061169,
          0.18665065160420657,
          0.04587058827661286,
          0.03322415119095756,
          0.05450211184718786,
          0.17298689887773863,
          0.1143146889813307,
          0.06527209324959879,
          0.06807057341988802,
          0.08408984424809915,
          0.013445491388229978
         ]
        },
        {
         "boxpoints": "all",
         "fillcolor": "#17becf",
         "line": {
          "width": 1
         },
         "marker": {
          "size": 5
         },
         "name": "8_csf_pnm_stc",
         "type": "box",
         "whiskerwidth": 0.2,
         "y": [
          0.025748972632687675,
          0.12076649638770455,
          0.04052005696946796,
          0.05091121844153966,
          0.15483811088861937,
          0.033678395122698046,
          0.01407563525495018,
          0.07013240317037071,
          0.018131056312344983,
          0.0748770913564248,
          0.04972434112658961,
          0.0075218221377427825,
          0.04602105074361803,
          0.06606828129652532,
          0.18348246569232105,
          0.0474209740125932,
          0.033360741079310065,
          0.0501722008997393,
          0.17124061054206588,
          0.11059853505418256,
          0.06167810627683482,
          0.06162075216152374,
          0.07759937974732949,
          0.012698498162180093
         ]
        },
        {
         "boxpoints": "all",
         "fillcolor": "#17becf",
         "line": {
          "width": 1
         },
         "marker": {
          "size": 5
         },
         "name": "9_pnm_moco_stc",
         "type": "box",
         "whiskerwidth": 0.2,
         "y": [
          0.022828886894066803,
          0.12653078630412815,
          0.04506134950777362,
          0.04240712029054621,
          0.15348256859848405,
          0.04325469666356318,
          0.01251178725824483,
          0.06701742196466325,
          0.020652786057329522,
          0.08000872784557124,
          0.04788245361746938,
          0.0004728234064567849,
          0.03693377344796668,
          0.06730701888738802,
          0.1724277219430815,
          0.04617713411480606,
          0.03038323044078045,
          0.05601457047159047,
          0.17271091788928017,
          0.1133732718518436,
          0.06466053602676307,
          0.06554426973536236,
          0.054695986388505084,
          0.012753413785798381
         ]
        },
        {
         "boxpoints": "all",
         "fillcolor": "#17becf",
         "line": {
          "width": 1
         },
         "marker": {
          "size": 5
         },
         "name": "10_csf_pnm_moco_stc",
         "type": "box",
         "whiskerwidth": 0.2,
         "y": [
          0.024597634562798783,
          0.12278144845591005,
          0.04384134912914418,
          0.04533815189048787,
          0.1521725337759344,
          0.03918556271765847,
          0.01277450223587124,
          0.06498520423309981,
          0.022692916982725433,
          0.0766428289037443,
          0.04575916384409906,
          0.0025635085779771175,
          0.03928189693220498,
          0.06381525218569305,
          0.17179602230623475,
          0.046773585872970404,
          0.030094136399660368,
          0.05177857246038963,
          0.17120659666119029,
          0.10855527947326046,
          0.06157177788930993,
          0.05983941924954574,
          0.05301843310318211,
          0.01119842384841813
         ]
        },
        {
         "boxpoints": "all",
         "fillcolor": "#17becf",
         "line": {
          "width": 1
         },
         "marker": {
          "size": 5
         },
         "name": "11_csf_pnm_moco_cc_stc",
         "type": "box",
         "whiskerwidth": 0.2,
         "y": [
          0.012727105276999905,
          0.10749448425600595,
          0.04450528216354934,
          0.03779686561795449,
          0.09518636228544386,
          0.020706828607421644,
          -0.0008807871520105855,
          0.05309736698385292,
          0.017274215002060767,
          0.038498183005412114,
          0.03844559136501519,
          -0.0032600410304271304,
          0.03262331305139575,
          0.056649689851042344,
          0.14530286249484972,
          0.040365252746373634,
          0.02396793158512575,
          0.04755624626842927,
          0.16442539793512914,
          0.10893590837607317,
          0.054250726820083986,
          0.05365421968096921,
          0.04329798542642702,
          0.02287045548490269
         ]
        }
       ],
       "layout": {
        "margin": {
         "b": 80,
         "l": 40,
         "r": 30,
         "t": 100
        },
        "paper_bgcolor": "rgb(243, 243, 243)",
        "plot_bgcolor": "rgb(243, 243, 243)",
        "showlegend": false,
        "template": {
         "data": {
          "bar": [
           {
            "error_x": {
             "color": "#2a3f5f"
            },
            "error_y": {
             "color": "#2a3f5f"
            },
            "marker": {
             "line": {
              "color": "#E5ECF6",
              "width": 0.5
             },
             "pattern": {
              "fillmode": "overlay",
              "size": 10,
              "solidity": 0.2
             }
            },
            "type": "bar"
           }
          ],
          "barpolar": [
           {
            "marker": {
             "line": {
              "color": "#E5ECF6",
              "width": 0.5
             },
             "pattern": {
              "fillmode": "overlay",
              "size": 10,
              "solidity": 0.2
             }
            },
            "type": "barpolar"
           }
          ],
          "carpet": [
           {
            "aaxis": {
             "endlinecolor": "#2a3f5f",
             "gridcolor": "white",
             "linecolor": "white",
             "minorgridcolor": "white",
             "startlinecolor": "#2a3f5f"
            },
            "baxis": {
             "endlinecolor": "#2a3f5f",
             "gridcolor": "white",
             "linecolor": "white",
             "minorgridcolor": "white",
             "startlinecolor": "#2a3f5f"
            },
            "type": "carpet"
           }
          ],
          "choropleth": [
           {
            "colorbar": {
             "outlinewidth": 0,
             "ticks": ""
            },
            "type": "choropleth"
           }
          ],
          "contour": [
           {
            "colorbar": {
             "outlinewidth": 0,
             "ticks": ""
            },
            "colorscale": [
             [
              0,
              "#0d0887"
             ],
             [
              0.1111111111111111,
              "#46039f"
             ],
             [
              0.2222222222222222,
              "#7201a8"
             ],
             [
              0.3333333333333333,
              "#9c179e"
             ],
             [
              0.4444444444444444,
              "#bd3786"
             ],
             [
              0.5555555555555556,
              "#d8576b"
             ],
             [
              0.6666666666666666,
              "#ed7953"
             ],
             [
              0.7777777777777778,
              "#fb9f3a"
             ],
             [
              0.8888888888888888,
              "#fdca26"
             ],
             [
              1,
              "#f0f921"
             ]
            ],
            "type": "contour"
           }
          ],
          "contourcarpet": [
           {
            "colorbar": {
             "outlinewidth": 0,
             "ticks": ""
            },
            "type": "contourcarpet"
           }
          ],
          "heatmap": [
           {
            "colorbar": {
             "outlinewidth": 0,
             "ticks": ""
            },
            "colorscale": [
             [
              0,
              "#0d0887"
             ],
             [
              0.1111111111111111,
              "#46039f"
             ],
             [
              0.2222222222222222,
              "#7201a8"
             ],
             [
              0.3333333333333333,
              "#9c179e"
             ],
             [
              0.4444444444444444,
              "#bd3786"
             ],
             [
              0.5555555555555556,
              "#d8576b"
             ],
             [
              0.6666666666666666,
              "#ed7953"
             ],
             [
              0.7777777777777778,
              "#fb9f3a"
             ],
             [
              0.8888888888888888,
              "#fdca26"
             ],
             [
              1,
              "#f0f921"
             ]
            ],
            "type": "heatmap"
           }
          ],
          "heatmapgl": [
           {
            "colorbar": {
             "outlinewidth": 0,
             "ticks": ""
            },
            "colorscale": [
             [
              0,
              "#0d0887"
             ],
             [
              0.1111111111111111,
              "#46039f"
             ],
             [
              0.2222222222222222,
              "#7201a8"
             ],
             [
              0.3333333333333333,
              "#9c179e"
             ],
             [
              0.4444444444444444,
              "#bd3786"
             ],
             [
              0.5555555555555556,
              "#d8576b"
             ],
             [
              0.6666666666666666,
              "#ed7953"
             ],
             [
              0.7777777777777778,
              "#fb9f3a"
             ],
             [
              0.8888888888888888,
              "#fdca26"
             ],
             [
              1,
              "#f0f921"
             ]
            ],
            "type": "heatmapgl"
           }
          ],
          "histogram": [
           {
            "marker": {
             "pattern": {
              "fillmode": "overlay",
              "size": 10,
              "solidity": 0.2
             }
            },
            "type": "histogram"
           }
          ],
          "histogram2d": [
           {
            "colorbar": {
             "outlinewidth": 0,
             "ticks": ""
            },
            "colorscale": [
             [
              0,
              "#0d0887"
             ],
             [
              0.1111111111111111,
              "#46039f"
             ],
             [
              0.2222222222222222,
              "#7201a8"
             ],
             [
              0.3333333333333333,
              "#9c179e"
             ],
             [
              0.4444444444444444,
              "#bd3786"
             ],
             [
              0.5555555555555556,
              "#d8576b"
             ],
             [
              0.6666666666666666,
              "#ed7953"
             ],
             [
              0.7777777777777778,
              "#fb9f3a"
             ],
             [
              0.8888888888888888,
              "#fdca26"
             ],
             [
              1,
              "#f0f921"
             ]
            ],
            "type": "histogram2d"
           }
          ],
          "histogram2dcontour": [
           {
            "colorbar": {
             "outlinewidth": 0,
             "ticks": ""
            },
            "colorscale": [
             [
              0,
              "#0d0887"
             ],
             [
              0.1111111111111111,
              "#46039f"
             ],
             [
              0.2222222222222222,
              "#7201a8"
             ],
             [
              0.3333333333333333,
              "#9c179e"
             ],
             [
              0.4444444444444444,
              "#bd3786"
             ],
             [
              0.5555555555555556,
              "#d8576b"
             ],
             [
              0.6666666666666666,
              "#ed7953"
             ],
             [
              0.7777777777777778,
              "#fb9f3a"
             ],
             [
              0.8888888888888888,
              "#fdca26"
             ],
             [
              1,
              "#f0f921"
             ]
            ],
            "type": "histogram2dcontour"
           }
          ],
          "mesh3d": [
           {
            "colorbar": {
             "outlinewidth": 0,
             "ticks": ""
            },
            "type": "mesh3d"
           }
          ],
          "parcoords": [
           {
            "line": {
             "colorbar": {
              "outlinewidth": 0,
              "ticks": ""
             }
            },
            "type": "parcoords"
           }
          ],
          "pie": [
           {
            "automargin": true,
            "type": "pie"
           }
          ],
          "scatter": [
           {
            "fillpattern": {
             "fillmode": "overlay",
             "size": 10,
             "solidity": 0.2
            },
            "type": "scatter"
           }
          ],
          "scatter3d": [
           {
            "line": {
             "colorbar": {
              "outlinewidth": 0,
              "ticks": ""
             }
            },
            "marker": {
             "colorbar": {
              "outlinewidth": 0,
              "ticks": ""
             }
            },
            "type": "scatter3d"
           }
          ],
          "scattercarpet": [
           {
            "marker": {
             "colorbar": {
              "outlinewidth": 0,
              "ticks": ""
             }
            },
            "type": "scattercarpet"
           }
          ],
          "scattergeo": [
           {
            "marker": {
             "colorbar": {
              "outlinewidth": 0,
              "ticks": ""
             }
            },
            "type": "scattergeo"
           }
          ],
          "scattergl": [
           {
            "marker": {
             "colorbar": {
              "outlinewidth": 0,
              "ticks": ""
             }
            },
            "type": "scattergl"
           }
          ],
          "scattermapbox": [
           {
            "marker": {
             "colorbar": {
              "outlinewidth": 0,
              "ticks": ""
             }
            },
            "type": "scattermapbox"
           }
          ],
          "scatterpolar": [
           {
            "marker": {
             "colorbar": {
              "outlinewidth": 0,
              "ticks": ""
             }
            },
            "type": "scatterpolar"
           }
          ],
          "scatterpolargl": [
           {
            "marker": {
             "colorbar": {
              "outlinewidth": 0,
              "ticks": ""
             }
            },
            "type": "scatterpolargl"
           }
          ],
          "scatterternary": [
           {
            "marker": {
             "colorbar": {
              "outlinewidth": 0,
              "ticks": ""
             }
            },
            "type": "scatterternary"
           }
          ],
          "surface": [
           {
            "colorbar": {
             "outlinewidth": 0,
             "ticks": ""
            },
            "colorscale": [
             [
              0,
              "#0d0887"
             ],
             [
              0.1111111111111111,
              "#46039f"
             ],
             [
              0.2222222222222222,
              "#7201a8"
             ],
             [
              0.3333333333333333,
              "#9c179e"
             ],
             [
              0.4444444444444444,
              "#bd3786"
             ],
             [
              0.5555555555555556,
              "#d8576b"
             ],
             [
              0.6666666666666666,
              "#ed7953"
             ],
             [
              0.7777777777777778,
              "#fb9f3a"
             ],
             [
              0.8888888888888888,
              "#fdca26"
             ],
             [
              1,
              "#f0f921"
             ]
            ],
            "type": "surface"
           }
          ],
          "table": [
           {
            "cells": {
             "fill": {
              "color": "#EBF0F8"
             },
             "line": {
              "color": "white"
             }
            },
            "header": {
             "fill": {
              "color": "#C8D4E3"
             },
             "line": {
              "color": "white"
             }
            },
            "type": "table"
           }
          ]
         },
         "layout": {
          "annotationdefaults": {
           "arrowcolor": "#2a3f5f",
           "arrowhead": 0,
           "arrowwidth": 1
          },
          "autotypenumbers": "strict",
          "coloraxis": {
           "colorbar": {
            "outlinewidth": 0,
            "ticks": ""
           }
          },
          "colorscale": {
           "diverging": [
            [
             0,
             "#8e0152"
            ],
            [
             0.1,
             "#c51b7d"
            ],
            [
             0.2,
             "#de77ae"
            ],
            [
             0.3,
             "#f1b6da"
            ],
            [
             0.4,
             "#fde0ef"
            ],
            [
             0.5,
             "#f7f7f7"
            ],
            [
             0.6,
             "#e6f5d0"
            ],
            [
             0.7,
             "#b8e186"
            ],
            [
             0.8,
             "#7fbc41"
            ],
            [
             0.9,
             "#4d9221"
            ],
            [
             1,
             "#276419"
            ]
           ],
           "sequential": [
            [
             0,
             "#0d0887"
            ],
            [
             0.1111111111111111,
             "#46039f"
            ],
            [
             0.2222222222222222,
             "#7201a8"
            ],
            [
             0.3333333333333333,
             "#9c179e"
            ],
            [
             0.4444444444444444,
             "#bd3786"
            ],
            [
             0.5555555555555556,
             "#d8576b"
            ],
            [
             0.6666666666666666,
             "#ed7953"
            ],
            [
             0.7777777777777778,
             "#fb9f3a"
            ],
            [
             0.8888888888888888,
             "#fdca26"
            ],
            [
             1,
             "#f0f921"
            ]
           ],
           "sequentialminus": [
            [
             0,
             "#0d0887"
            ],
            [
             0.1111111111111111,
             "#46039f"
            ],
            [
             0.2222222222222222,
             "#7201a8"
            ],
            [
             0.3333333333333333,
             "#9c179e"
            ],
            [
             0.4444444444444444,
             "#bd3786"
            ],
            [
             0.5555555555555556,
             "#d8576b"
            ],
            [
             0.6666666666666666,
             "#ed7953"
            ],
            [
             0.7777777777777778,
             "#fb9f3a"
            ],
            [
             0.8888888888888888,
             "#fdca26"
            ],
            [
             1,
             "#f0f921"
            ]
           ]
          },
          "colorway": [
           "#636efa",
           "#EF553B",
           "#00cc96",
           "#ab63fa",
           "#FFA15A",
           "#19d3f3",
           "#FF6692",
           "#B6E880",
           "#FF97FF",
           "#FECB52"
          ],
          "font": {
           "color": "#2a3f5f"
          },
          "geo": {
           "bgcolor": "white",
           "lakecolor": "white",
           "landcolor": "#E5ECF6",
           "showlakes": true,
           "showland": true,
           "subunitcolor": "white"
          },
          "hoverlabel": {
           "align": "left"
          },
          "hovermode": "closest",
          "mapbox": {
           "style": "light"
          },
          "paper_bgcolor": "white",
          "plot_bgcolor": "#E5ECF6",
          "polar": {
           "angularaxis": {
            "gridcolor": "white",
            "linecolor": "white",
            "ticks": ""
           },
           "bgcolor": "#E5ECF6",
           "radialaxis": {
            "gridcolor": "white",
            "linecolor": "white",
            "ticks": ""
           }
          },
          "scene": {
           "xaxis": {
            "backgroundcolor": "#E5ECF6",
            "gridcolor": "white",
            "gridwidth": 2,
            "linecolor": "white",
            "showbackground": true,
            "ticks": "",
            "zerolinecolor": "white"
           },
           "yaxis": {
            "backgroundcolor": "#E5ECF6",
            "gridcolor": "white",
            "gridwidth": 2,
            "linecolor": "white",
            "showbackground": true,
            "ticks": "",
            "zerolinecolor": "white"
           },
           "zaxis": {
            "backgroundcolor": "#E5ECF6",
            "gridcolor": "white",
            "gridwidth": 2,
            "linecolor": "white",
            "showbackground": true,
            "ticks": "",
            "zerolinecolor": "white"
           }
          },
          "shapedefaults": {
           "line": {
            "color": "#2a3f5f"
           }
          },
          "ternary": {
           "aaxis": {
            "gridcolor": "white",
            "linecolor": "white",
            "ticks": ""
           },
           "baxis": {
            "gridcolor": "white",
            "linecolor": "white",
            "ticks": ""
           },
           "bgcolor": "#E5ECF6",
           "caxis": {
            "gridcolor": "white",
            "linecolor": "white",
            "ticks": ""
           }
          },
          "title": {
           "x": 0.05
          },
          "xaxis": {
           "automargin": true,
           "gridcolor": "white",
           "linecolor": "white",
           "ticks": "",
           "title": {
            "standoff": 15
           },
           "zerolinecolor": "white",
           "zerolinewidth": 2
          },
          "yaxis": {
           "automargin": true,
           "gridcolor": "white",
           "linecolor": "white",
           "ticks": "",
           "title": {
            "standoff": 15
           },
           "zerolinecolor": "white",
           "zerolinewidth": 2
          }
         }
        },
        "title": {
         "text": "Ventral-Ventral"
        },
        "yaxis": {
         "gridcolor": "rgb(255, 255, 255)",
         "gridwidth": 1,
         "range": [
          -0.1,
          0.4
         ],
         "showgrid": true,
         "tickcolor": "black",
         "title": {
          "text": "Correlations"
         },
         "zeroline": true,
         "zerolinecolor": "rgb(255, 255, 255)",
         "zerolinewidth": 2
        }
       }
      },
      "text/html": [
       "<div>                            <div id=\"81a253a2-d205-4128-95ae-4b7743619e1f\" class=\"plotly-graph-div\" style=\"height:525px; width:100%;\"></div>            <script type=\"text/javascript\">                require([\"plotly\"], function(Plotly) {                    window.PLOTLYENV=window.PLOTLYENV || {};                                    if (document.getElementById(\"81a253a2-d205-4128-95ae-4b7743619e1f\")) {                    Plotly.newPlot(                        \"81a253a2-d205-4128-95ae-4b7743619e1f\",                        [{\"boxpoints\":\"all\",\"fillcolor\":\"#17becf\",\"line\":{\"width\":1},\"marker\":{\"size\":5},\"name\":\"0_baseline_stc\",\"whiskerwidth\":0.2,\"y\":[0.15101513809682882,0.29491633466404793,0.057778364587448276,0.15251381225804783,0.25992958457719884,0.13862017089424888,0.0927234450243612,0.10101667634065149,0.04179673974959748,0.2935838745487821,0.07864545100330705,0.11481172697217412,0.22964729293757663,0.26472215063897364,0.22729736673608877,0.10632323157743905,0.07437356848665284,0.055172764870409265,0.2117959177452044,0.2813984890431586,0.10862540809266914,0.2087083719443768,0.17384362885294924,0.03022387707136603],\"type\":\"box\"},{\"boxpoints\":\"all\",\"fillcolor\":\"#17becf\",\"line\":{\"width\":1},\"marker\":{\"size\":5},\"name\":\"1_csf_csfonly_stc\",\"whiskerwidth\":0.2,\"y\":[0.16832677936536872,0.18633707096777272,0.039740305115837725,0.15530411844672973,0.24279995959434436,0.08674585167179721,0.03277516710747476,0.09020420624193325,3.190249149430081e-05,0.1678543232511522,0.04937139983404418,0.06327801257410816,0.06507434441817282,0.09438054413901331,0.20667565401307306,0.08083893993314933,0.04567051825773863,0.05572685241807396,0.20765972855392376,0.19416661144519795,0.07973826870889932,0.10096517001362304,0.12716042996930357,0.016744989301956954],\"type\":\"box\"},{\"boxpoints\":\"all\",\"fillcolor\":\"#17becf\",\"line\":{\"width\":1},\"marker\":{\"size\":5},\"name\":\"2_moco_stc\",\"whiskerwidth\":0.2,\"y\":[0.13215573890597299,0.18856801029667908,0.04456710284589073,0.11086752030640551,0.19879595812375744,0.08695005890561362,0.028441049352997773,0.08114695935021347,0.012806228787456195,0.15095349008292697,0.04863039318101582,0.08909407787788358,0.05240070538040613,0.10281303886459113,0.19619342157851943,0.07346805448768967,0.046731938735853684,0.060194144125102024,0.21427243776193516,0.1968337280472125,0.08269719954976656,0.1095985791230455,0.09388852670085364,0.024918696815172628],\"type\":\"box\"},{\"boxpoints\":\"all\",\"fillcolor\":\"#17becf\",\"line\":{\"width\":1},\"marker\":{\"size\":5},\"name\":\"3_cc_stc\",\"whiskerwidth\":0.2,\"y\":[0.03996720876239626,0.13282113317786104,0.04105788634454795,0.06376768361861161,0.10224769947360327,0.02251826861384709,0.010596337078004012,0.07073098724223839,0.014788085765500624,0.05649012761910995,0.04637292327000891,0.035848564243299956,0.05870706911261344,0.07503916407443302,0.17112968273221502,0.055845724601265946,0.04152520630368981,0.05338165972030655,0.20531585869186064,0.14726041522676803,0.0532625436335787,0.09003096297535293,0.08614381508371424,0.017637017122719954],\"type\":\"box\"},{\"boxpoints\":\"all\",\"fillcolor\":\"#17becf\",\"line\":{\"width\":1},\"marker\":{\"size\":5},\"name\":\"4_moco_cc_stc\",\"whiskerwidth\":0.2,\"y\":[0.04295963592574884,0.13265655985832936,0.04107237424188109,0.05953639287723225,0.10508461888303504,0.024479873509846026,0.006771707994061718,0.06562829422003554,0.020506276420936977,0.0580228161558919,0.04311333039845246,0.030981768223730936,0.04632202916441314,0.08019209214465708,0.16726695752505633,0.05824371496438863,0.043400191407077515,0.05398657152631008,0.2094506721821002,0.14324985126426365,0.054265620840761815,0.09023591519101337,0.06926315299557342,0.014169451846608274],\"type\":\"box\"},{\"boxpoints\":\"all\",\"fillcolor\":\"#17becf\",\"line\":{\"width\":1},\"marker\":{\"size\":5},\"name\":\"5_pnm_cardonly_stc\",\"whiskerwidth\":0.2,\"y\":[0.15896236593700114,0.18688564097877533,0.0462999387869157,0.14226007802626425,0.2427904160662876,0.08694214112353243,0.020054504780034486,0.08574921270200557,-0.009765924404342301,0.16843579568087524,0.05151618796307618,0.07712237995432102,0.06198180232307336,0.0922767057010488,0.21187157645101276,0.07839943036280685,0.041158555885735866,0.059293396351746616,0.2017593126693806,0.17711008608162054,0.0944422221262431,0.10152602606381181,0.11992457803801347,0.022001929770313584],\"type\":\"box\"},{\"boxpoints\":\"all\",\"fillcolor\":\"#17becf\",\"line\":{\"width\":1},\"marker\":{\"size\":5},\"name\":\"6_pnm_responly_stc\",\"whiskerwidth\":0.2,\"y\":[0.035863884394577134,0.1343414412239578,0.03862524714924727,0.07093027804161622,0.15277295367667848,0.04827620806465472,0.024970714128425713,0.07768423957809079,0.034374192946769196,0.08687802076068875,0.05348461710813429,0.03154875170395123,0.061328125268116776,0.08468122741103631,0.18413113047423518,0.04588712160533268,0.04209524215196733,0.05711457149419997,0.1834337109807435,0.12626087682385223,0.06033728380924372,0.08692703953617993,0.09662326088839139,0.013449022551836963],\"type\":\"box\"},{\"boxpoints\":\"all\",\"fillcolor\":\"#17becf\",\"line\":{\"width\":1},\"marker\":{\"size\":5},\"name\":\"7_pnm_stc\",\"whiskerwidth\":0.2,\"y\":[0.024090640478980546,0.12451964701283244,0.04184729051502706,0.0483685927530369,0.155632923834905,0.03769194585550065,0.014120201403968932,0.07246125319567183,0.017276277848070884,0.07822380530571252,0.05169304623570059,0.005495360363878041,0.045260606411198674,0.06960858745061169,0.18665065160420657,0.04587058827661286,0.03322415119095756,0.05450211184718786,0.17298689887773863,0.1143146889813307,0.06527209324959879,0.06807057341988802,0.08408984424809915,0.013445491388229978],\"type\":\"box\"},{\"boxpoints\":\"all\",\"fillcolor\":\"#17becf\",\"line\":{\"width\":1},\"marker\":{\"size\":5},\"name\":\"8_csf_pnm_stc\",\"whiskerwidth\":0.2,\"y\":[0.025748972632687675,0.12076649638770455,0.04052005696946796,0.05091121844153966,0.15483811088861937,0.033678395122698046,0.01407563525495018,0.07013240317037071,0.018131056312344983,0.0748770913564248,0.04972434112658961,0.0075218221377427825,0.04602105074361803,0.06606828129652532,0.18348246569232105,0.0474209740125932,0.033360741079310065,0.0501722008997393,0.17124061054206588,0.11059853505418256,0.06167810627683482,0.06162075216152374,0.07759937974732949,0.012698498162180093],\"type\":\"box\"},{\"boxpoints\":\"all\",\"fillcolor\":\"#17becf\",\"line\":{\"width\":1},\"marker\":{\"size\":5},\"name\":\"9_pnm_moco_stc\",\"whiskerwidth\":0.2,\"y\":[0.022828886894066803,0.12653078630412815,0.04506134950777362,0.04240712029054621,0.15348256859848405,0.04325469666356318,0.01251178725824483,0.06701742196466325,0.020652786057329522,0.08000872784557124,0.04788245361746938,0.0004728234064567849,0.03693377344796668,0.06730701888738802,0.1724277219430815,0.04617713411480606,0.03038323044078045,0.05601457047159047,0.17271091788928017,0.1133732718518436,0.06466053602676307,0.06554426973536236,0.054695986388505084,0.012753413785798381],\"type\":\"box\"},{\"boxpoints\":\"all\",\"fillcolor\":\"#17becf\",\"line\":{\"width\":1},\"marker\":{\"size\":5},\"name\":\"10_csf_pnm_moco_stc\",\"whiskerwidth\":0.2,\"y\":[0.024597634562798783,0.12278144845591005,0.04384134912914418,0.04533815189048787,0.1521725337759344,0.03918556271765847,0.01277450223587124,0.06498520423309981,0.022692916982725433,0.0766428289037443,0.04575916384409906,0.0025635085779771175,0.03928189693220498,0.06381525218569305,0.17179602230623475,0.046773585872970404,0.030094136399660368,0.05177857246038963,0.17120659666119029,0.10855527947326046,0.06157177788930993,0.05983941924954574,0.05301843310318211,0.01119842384841813],\"type\":\"box\"},{\"boxpoints\":\"all\",\"fillcolor\":\"#17becf\",\"line\":{\"width\":1},\"marker\":{\"size\":5},\"name\":\"11_csf_pnm_moco_cc_stc\",\"whiskerwidth\":0.2,\"y\":[0.012727105276999905,0.10749448425600595,0.04450528216354934,0.03779686561795449,0.09518636228544386,0.020706828607421644,-0.0008807871520105855,0.05309736698385292,0.017274215002060767,0.038498183005412114,0.03844559136501519,-0.0032600410304271304,0.03262331305139575,0.056649689851042344,0.14530286249484972,0.040365252746373634,0.02396793158512575,0.04755624626842927,0.16442539793512914,0.10893590837607317,0.054250726820083986,0.05365421968096921,0.04329798542642702,0.02287045548490269],\"type\":\"box\"}],                        {\"template\":{\"data\":{\"histogram2dcontour\":[{\"type\":\"histogram2dcontour\",\"colorbar\":{\"outlinewidth\":0,\"ticks\":\"\"},\"colorscale\":[[0.0,\"#0d0887\"],[0.1111111111111111,\"#46039f\"],[0.2222222222222222,\"#7201a8\"],[0.3333333333333333,\"#9c179e\"],[0.4444444444444444,\"#bd3786\"],[0.5555555555555556,\"#d8576b\"],[0.6666666666666666,\"#ed7953\"],[0.7777777777777778,\"#fb9f3a\"],[0.8888888888888888,\"#fdca26\"],[1.0,\"#f0f921\"]]}],\"choropleth\":[{\"type\":\"choropleth\",\"colorbar\":{\"outlinewidth\":0,\"ticks\":\"\"}}],\"histogram2d\":[{\"type\":\"histogram2d\",\"colorbar\":{\"outlinewidth\":0,\"ticks\":\"\"},\"colorscale\":[[0.0,\"#0d0887\"],[0.1111111111111111,\"#46039f\"],[0.2222222222222222,\"#7201a8\"],[0.3333333333333333,\"#9c179e\"],[0.4444444444444444,\"#bd3786\"],[0.5555555555555556,\"#d8576b\"],[0.6666666666666666,\"#ed7953\"],[0.7777777777777778,\"#fb9f3a\"],[0.8888888888888888,\"#fdca26\"],[1.0,\"#f0f921\"]]}],\"heatmap\":[{\"type\":\"heatmap\",\"colorbar\":{\"outlinewidth\":0,\"ticks\":\"\"},\"colorscale\":[[0.0,\"#0d0887\"],[0.1111111111111111,\"#46039f\"],[0.2222222222222222,\"#7201a8\"],[0.3333333333333333,\"#9c179e\"],[0.4444444444444444,\"#bd3786\"],[0.5555555555555556,\"#d8576b\"],[0.6666666666666666,\"#ed7953\"],[0.7777777777777778,\"#fb9f3a\"],[0.8888888888888888,\"#fdca26\"],[1.0,\"#f0f921\"]]}],\"heatmapgl\":[{\"type\":\"heatmapgl\",\"colorbar\":{\"outlinewidth\":0,\"ticks\":\"\"},\"colorscale\":[[0.0,\"#0d0887\"],[0.1111111111111111,\"#46039f\"],[0.2222222222222222,\"#7201a8\"],[0.3333333333333333,\"#9c179e\"],[0.4444444444444444,\"#bd3786\"],[0.5555555555555556,\"#d8576b\"],[0.6666666666666666,\"#ed7953\"],[0.7777777777777778,\"#fb9f3a\"],[0.8888888888888888,\"#fdca26\"],[1.0,\"#f0f921\"]]}],\"contourcarpet\":[{\"type\":\"contourcarpet\",\"colorbar\":{\"outlinewidth\":0,\"ticks\":\"\"}}],\"contour\":[{\"type\":\"contour\",\"colorbar\":{\"outlinewidth\":0,\"ticks\":\"\"},\"colorscale\":[[0.0,\"#0d0887\"],[0.1111111111111111,\"#46039f\"],[0.2222222222222222,\"#7201a8\"],[0.3333333333333333,\"#9c179e\"],[0.4444444444444444,\"#bd3786\"],[0.5555555555555556,\"#d8576b\"],[0.6666666666666666,\"#ed7953\"],[0.7777777777777778,\"#fb9f3a\"],[0.8888888888888888,\"#fdca26\"],[1.0,\"#f0f921\"]]}],\"surface\":[{\"type\":\"surface\",\"colorbar\":{\"outlinewidth\":0,\"ticks\":\"\"},\"colorscale\":[[0.0,\"#0d0887\"],[0.1111111111111111,\"#46039f\"],[0.2222222222222222,\"#7201a8\"],[0.3333333333333333,\"#9c179e\"],[0.4444444444444444,\"#bd3786\"],[0.5555555555555556,\"#d8576b\"],[0.6666666666666666,\"#ed7953\"],[0.7777777777777778,\"#fb9f3a\"],[0.8888888888888888,\"#fdca26\"],[1.0,\"#f0f921\"]]}],\"mesh3d\":[{\"type\":\"mesh3d\",\"colorbar\":{\"outlinewidth\":0,\"ticks\":\"\"}}],\"scatter\":[{\"fillpattern\":{\"fillmode\":\"overlay\",\"size\":10,\"solidity\":0.2},\"type\":\"scatter\"}],\"parcoords\":[{\"type\":\"parcoords\",\"line\":{\"colorbar\":{\"outlinewidth\":0,\"ticks\":\"\"}}}],\"scatterpolargl\":[{\"type\":\"scatterpolargl\",\"marker\":{\"colorbar\":{\"outlinewidth\":0,\"ticks\":\"\"}}}],\"bar\":[{\"error_x\":{\"color\":\"#2a3f5f\"},\"error_y\":{\"color\":\"#2a3f5f\"},\"marker\":{\"line\":{\"color\":\"#E5ECF6\",\"width\":0.5},\"pattern\":{\"fillmode\":\"overlay\",\"size\":10,\"solidity\":0.2}},\"type\":\"bar\"}],\"scattergeo\":[{\"type\":\"scattergeo\",\"marker\":{\"colorbar\":{\"outlinewidth\":0,\"ticks\":\"\"}}}],\"scatterpolar\":[{\"type\":\"scatterpolar\",\"marker\":{\"colorbar\":{\"outlinewidth\":0,\"ticks\":\"\"}}}],\"histogram\":[{\"marker\":{\"pattern\":{\"fillmode\":\"overlay\",\"size\":10,\"solidity\":0.2}},\"type\":\"histogram\"}],\"scattergl\":[{\"type\":\"scattergl\",\"marker\":{\"colorbar\":{\"outlinewidth\":0,\"ticks\":\"\"}}}],\"scatter3d\":[{\"type\":\"scatter3d\",\"line\":{\"colorbar\":{\"outlinewidth\":0,\"ticks\":\"\"}},\"marker\":{\"colorbar\":{\"outlinewidth\":0,\"ticks\":\"\"}}}],\"scattermapbox\":[{\"type\":\"scattermapbox\",\"marker\":{\"colorbar\":{\"outlinewidth\":0,\"ticks\":\"\"}}}],\"scatterternary\":[{\"type\":\"scatterternary\",\"marker\":{\"colorbar\":{\"outlinewidth\":0,\"ticks\":\"\"}}}],\"scattercarpet\":[{\"type\":\"scattercarpet\",\"marker\":{\"colorbar\":{\"outlinewidth\":0,\"ticks\":\"\"}}}],\"carpet\":[{\"aaxis\":{\"endlinecolor\":\"#2a3f5f\",\"gridcolor\":\"white\",\"linecolor\":\"white\",\"minorgridcolor\":\"white\",\"startlinecolor\":\"#2a3f5f\"},\"baxis\":{\"endlinecolor\":\"#2a3f5f\",\"gridcolor\":\"white\",\"linecolor\":\"white\",\"minorgridcolor\":\"white\",\"startlinecolor\":\"#2a3f5f\"},\"type\":\"carpet\"}],\"table\":[{\"cells\":{\"fill\":{\"color\":\"#EBF0F8\"},\"line\":{\"color\":\"white\"}},\"header\":{\"fill\":{\"color\":\"#C8D4E3\"},\"line\":{\"color\":\"white\"}},\"type\":\"table\"}],\"barpolar\":[{\"marker\":{\"line\":{\"color\":\"#E5ECF6\",\"width\":0.5},\"pattern\":{\"fillmode\":\"overlay\",\"size\":10,\"solidity\":0.2}},\"type\":\"barpolar\"}],\"pie\":[{\"automargin\":true,\"type\":\"pie\"}]},\"layout\":{\"autotypenumbers\":\"strict\",\"colorway\":[\"#636efa\",\"#EF553B\",\"#00cc96\",\"#ab63fa\",\"#FFA15A\",\"#19d3f3\",\"#FF6692\",\"#B6E880\",\"#FF97FF\",\"#FECB52\"],\"font\":{\"color\":\"#2a3f5f\"},\"hovermode\":\"closest\",\"hoverlabel\":{\"align\":\"left\"},\"paper_bgcolor\":\"white\",\"plot_bgcolor\":\"#E5ECF6\",\"polar\":{\"bgcolor\":\"#E5ECF6\",\"angularaxis\":{\"gridcolor\":\"white\",\"linecolor\":\"white\",\"ticks\":\"\"},\"radialaxis\":{\"gridcolor\":\"white\",\"linecolor\":\"white\",\"ticks\":\"\"}},\"ternary\":{\"bgcolor\":\"#E5ECF6\",\"aaxis\":{\"gridcolor\":\"white\",\"linecolor\":\"white\",\"ticks\":\"\"},\"baxis\":{\"gridcolor\":\"white\",\"linecolor\":\"white\",\"ticks\":\"\"},\"caxis\":{\"gridcolor\":\"white\",\"linecolor\":\"white\",\"ticks\":\"\"}},\"coloraxis\":{\"colorbar\":{\"outlinewidth\":0,\"ticks\":\"\"}},\"colorscale\":{\"sequential\":[[0.0,\"#0d0887\"],[0.1111111111111111,\"#46039f\"],[0.2222222222222222,\"#7201a8\"],[0.3333333333333333,\"#9c179e\"],[0.4444444444444444,\"#bd3786\"],[0.5555555555555556,\"#d8576b\"],[0.6666666666666666,\"#ed7953\"],[0.7777777777777778,\"#fb9f3a\"],[0.8888888888888888,\"#fdca26\"],[1.0,\"#f0f921\"]],\"sequentialminus\":[[0.0,\"#0d0887\"],[0.1111111111111111,\"#46039f\"],[0.2222222222222222,\"#7201a8\"],[0.3333333333333333,\"#9c179e\"],[0.4444444444444444,\"#bd3786\"],[0.5555555555555556,\"#d8576b\"],[0.6666666666666666,\"#ed7953\"],[0.7777777777777778,\"#fb9f3a\"],[0.8888888888888888,\"#fdca26\"],[1.0,\"#f0f921\"]],\"diverging\":[[0,\"#8e0152\"],[0.1,\"#c51b7d\"],[0.2,\"#de77ae\"],[0.3,\"#f1b6da\"],[0.4,\"#fde0ef\"],[0.5,\"#f7f7f7\"],[0.6,\"#e6f5d0\"],[0.7,\"#b8e186\"],[0.8,\"#7fbc41\"],[0.9,\"#4d9221\"],[1,\"#276419\"]]},\"xaxis\":{\"gridcolor\":\"white\",\"linecolor\":\"white\",\"ticks\":\"\",\"title\":{\"standoff\":15},\"zerolinecolor\":\"white\",\"automargin\":true,\"zerolinewidth\":2},\"yaxis\":{\"gridcolor\":\"white\",\"linecolor\":\"white\",\"ticks\":\"\",\"title\":{\"standoff\":15},\"zerolinecolor\":\"white\",\"automargin\":true,\"zerolinewidth\":2},\"scene\":{\"xaxis\":{\"backgroundcolor\":\"#E5ECF6\",\"gridcolor\":\"white\",\"linecolor\":\"white\",\"showbackground\":true,\"ticks\":\"\",\"zerolinecolor\":\"white\",\"gridwidth\":2},\"yaxis\":{\"backgroundcolor\":\"#E5ECF6\",\"gridcolor\":\"white\",\"linecolor\":\"white\",\"showbackground\":true,\"ticks\":\"\",\"zerolinecolor\":\"white\",\"gridwidth\":2},\"zaxis\":{\"backgroundcolor\":\"#E5ECF6\",\"gridcolor\":\"white\",\"linecolor\":\"white\",\"showbackground\":true,\"ticks\":\"\",\"zerolinecolor\":\"white\",\"gridwidth\":2}},\"shapedefaults\":{\"line\":{\"color\":\"#2a3f5f\"}},\"annotationdefaults\":{\"arrowcolor\":\"#2a3f5f\",\"arrowhead\":0,\"arrowwidth\":1},\"geo\":{\"bgcolor\":\"white\",\"landcolor\":\"#E5ECF6\",\"subunitcolor\":\"white\",\"showland\":true,\"showlakes\":true,\"lakecolor\":\"white\"},\"title\":{\"x\":0.05},\"mapbox\":{\"style\":\"light\"}}},\"yaxis\":{\"range\":[-0.1,0.4],\"showgrid\":true,\"zeroline\":true,\"tickcolor\":\"black\",\"gridcolor\":\"rgb(255, 255, 255)\",\"gridwidth\":1,\"zerolinecolor\":\"rgb(255, 255, 255)\",\"zerolinewidth\":2,\"title\":{\"text\":\"Correlations\"}},\"margin\":{\"l\":40,\"r\":30,\"b\":80,\"t\":100},\"title\":{\"text\":\"Ventral-Ventral\"},\"paper_bgcolor\":\"rgb(243, 243, 243)\",\"plot_bgcolor\":\"rgb(243, 243, 243)\",\"showlegend\":false},                        {\"responsive\": true}                    ).then(function(){\n",
       "                            \n",
       "var gd = document.getElementById('81a253a2-d205-4128-95ae-4b7743619e1f');\n",
       "var x = new MutationObserver(function (mutations, observer) {{\n",
       "        var display = window.getComputedStyle(gd).display;\n",
       "        if (!display || display === 'none') {{\n",
       "            console.log([gd, 'removed!']);\n",
       "            Plotly.purge(gd);\n",
       "            observer.disconnect();\n",
       "        }}\n",
       "}});\n",
       "\n",
       "// Listen for the removal of the full notebook cells\n",
       "var notebookContainer = gd.closest('#notebook-container');\n",
       "if (notebookContainer) {{\n",
       "    x.observe(notebookContainer, {childList: true});\n",
       "}}\n",
       "\n",
       "// Listen for the clearing of the current output cell\n",
       "var outputEl = gd.closest('.output');\n",
       "if (outputEl) {{\n",
       "    x.observe(outputEl, {childList: true});\n",
       "}}\n",
       "\n",
       "                        })                };                });            </script>        </div>"
      ]
     },
     "metadata": {},
     "output_type": "display_data"
    }
   ],
   "source": [
    "plot_boxplots(options_z_subs,'VV','#17becf',tempfilt)"
   ]
  },
  {
   "cell_type": "markdown",
   "id": "5898647f",
   "metadata": {},
   "source": [
    "## Dorsal-Dorsal"
   ]
  },
  {
   "cell_type": "code",
   "execution_count": 233,
   "id": "42726c2b",
   "metadata": {},
   "outputs": [
    {
     "data": {
      "application/vnd.plotly.v1+json": {
       "config": {
        "plotlyServerURL": "https://plot.ly"
       },
       "data": [
        {
         "boxpoints": "all",
         "fillcolor": "#ff7f0e",
         "line": {
          "width": 1
         },
         "marker": {
          "size": 5
         },
         "name": "0_baseline_stc",
         "type": "box",
         "whiskerwidth": 0.2,
         "y": [
          0.09431228779896449,
          0.2567301990422287,
          0.009344771642501111,
          0.19251403306279713,
          0.26238804199438137,
          0.04086782146014503,
          0.04711946908699203,
          0.05037938902705004,
          0.007214654760785912,
          0.3409816150932151,
          0.04654321363529141,
          0.052356089975782845,
          0.14493586735399583,
          0.15961192352647433,
          0.2220737034916295,
          0.13973686306040145,
          0.12077253027622362,
          0.04967535337980282,
          0.21343534613614912,
          0.06677434233043075,
          0.14317843470061797,
          0.1245447488830962,
          0.24640232334328319,
          0.0817604596730929
         ]
        },
        {
         "boxpoints": "all",
         "fillcolor": "#ff7f0e",
         "line": {
          "width": 1
         },
         "marker": {
          "size": 5
         },
         "name": "1_csf_csfonly_stc",
         "type": "box",
         "whiskerwidth": 0.2,
         "y": [
          0.0619773636548923,
          0.17950114980290602,
          -0.0010233816139952646,
          0.11412340671005823,
          0.20731950864417686,
          0.009760022733033565,
          -0.003797344681944683,
          0.07555382609189423,
          0.00025975042699979506,
          0.19168965480955635,
          0.007108341825169305,
          0.10023628438883071,
          0.061260497395695536,
          0.14405639662508404,
          0.17973119947425603,
          0.12358105586074768,
          0.1060376808795024,
          0.06956253846058223,
          0.17907143357969374,
          0.022204785200220324,
          0.09204925657920457,
          0.07675606509812223,
          0.1562334399673541,
          0.040752494939915916
         ]
        },
        {
         "boxpoints": "all",
         "fillcolor": "#ff7f0e",
         "line": {
          "width": 1
         },
         "marker": {
          "size": 5
         },
         "name": "2_moco_stc",
         "type": "box",
         "whiskerwidth": 0.2,
         "y": [
          0.04751388574717362,
          0.18354248944366738,
          0.0023654364056463774,
          0.08914911797352452,
          0.1737095189677966,
          0.010189301319135579,
          -0.0029983380367150383,
          0.07590086324456502,
          0.01939018611455105,
          0.15213404874934794,
          0.01291980222323247,
          0.09284252734896348,
          0.0710797811583623,
          0.13858866660501482,
          0.17673724573036628,
          0.114524539467731,
          0.09402926720357128,
          0.06442806511901572,
          0.17606102592423586,
          0.020257993180924742,
          0.08501453125851985,
          0.08422600574731527,
          0.13508361820638626,
          0.04658707693688955
         ]
        },
        {
         "boxpoints": "all",
         "fillcolor": "#ff7f0e",
         "line": {
          "width": 1
         },
         "marker": {
          "size": 5
         },
         "name": "3_cc_stc",
         "type": "box",
         "whiskerwidth": 0.2,
         "y": [
          0.045034439569038784,
          0.11856818569690222,
          -0.00448759964939931,
          0.05882836782494983,
          0.07956135606339852,
          -0.005270960131481198,
          -0.015225269538633662,
          0.07406327691353216,
          0.00925277054040224,
          0.052870177124129905,
          0.0013336054405860697,
          0.05168801217480597,
          0.06503245155281649,
          0.09190411574608635,
          0.14259913413899758,
          0.10730662189358482,
          0.10545773569303883,
          0.04511934435720151,
          0.16752755329602706,
          0.019262519815452597,
          0.02328081859790192,
          0.06252312366324056,
          0.09694396719661197,
          0.03813016242949388
         ]
        },
        {
         "boxpoints": "all",
         "fillcolor": "#ff7f0e",
         "line": {
          "width": 1
         },
         "marker": {
          "size": 5
         },
         "name": "4_moco_cc_stc",
         "type": "box",
         "whiskerwidth": 0.2,
         "y": [
          0.03708958515070582,
          0.11898230420891566,
          0.002718242469958835,
          0.05361321794748707,
          0.08732412540118255,
          -0.001300251248582709,
          -0.013159306896905906,
          0.07383283531941247,
          0.01725426473156505,
          0.056834333332012266,
          0.0035961658303588135,
          0.046759771136698366,
          0.0689927787628959,
          0.0889130867279902,
          0.14379925086162146,
          0.10456029960330115,
          0.09560203619366049,
          0.04108184516743022,
          0.16208086933690435,
          0.015528828037634635,
          0.026251150847630852,
          0.05629561731612354,
          0.0921644624329297,
          0.034654738192734846
         ]
        },
        {
         "boxpoints": "all",
         "fillcolor": "#ff7f0e",
         "line": {
          "width": 1
         },
         "marker": {
          "size": 5
         },
         "name": "5_pnm_cardonly_stc",
         "type": "box",
         "whiskerwidth": 0.2,
         "y": [
          0.06512767278252737,
          0.17755223260433223,
          -0.005814053635754338,
          0.10971441712172149,
          0.21029056103653126,
          0.012039258926113442,
          -0.00291565092933887,
          0.07201023402063776,
          -0.011653211154400326,
          0.18887880903402005,
          0.013596075567912709,
          0.08489855089508738,
          0.06758428739991323,
          0.13937788224614464,
          0.18737894781349917,
          0.12194359922327004,
          0.0983957318656945,
          0.07760561472672443,
          0.17879633206041085,
          0.027224316012020255,
          0.09442230422457382,
          0.07823385287495854,
          0.1698736415460126,
          0.04822150710019765
         ]
        },
        {
         "boxpoints": "all",
         "fillcolor": "#ff7f0e",
         "line": {
          "width": 1
         },
         "marker": {
          "size": 5
         },
         "name": "6_pnm_responly_stc",
         "type": "box",
         "whiskerwidth": 0.2,
         "y": [
          0.03337341562010142,
          0.10338067693318342,
          -0.0036107831351696595,
          0.04422866470102421,
          0.11881783277089718,
          0.0014800774631063625,
          -0.006569280025292434,
          0.07432629840963358,
          0.0339815163296796,
          0.11341028244346647,
          0.01288260505557339,
          0.04448054981527708,
          0.06845668730722393,
          0.09473639628667484,
          0.16683314514446781,
          0.09822175902990725,
          0.10333743571792253,
          0.04973843892458477,
          0.14748795925236985,
          0.008988066995342228,
          0.022882783777777173,
          0.06982096797168443,
          0.13642964839221183,
          0.03158982293996878
         ]
        },
        {
         "boxpoints": "all",
         "fillcolor": "#ff7f0e",
         "line": {
          "width": 1
         },
         "marker": {
          "size": 5
         },
         "name": "7_pnm_stc",
         "type": "box",
         "whiskerwidth": 0.2,
         "y": [
          0.02288486979964076,
          0.10376480000230312,
          -0.0008396838370283826,
          0.041291115439844726,
          0.11449808236404656,
          -0.009162646673988816,
          -0.011644176172304066,
          0.07901002500696555,
          0.028973121102164736,
          0.10215311961381503,
          0.01676584333733039,
          0.03339153616474732,
          0.07194918960895424,
          0.08961768951705705,
          0.16428662987676593,
          0.10544856281036939,
          0.08998306604654142,
          0.057689683231102885,
          0.14179038087272977,
          0.025627091796176633,
          0.019539701159861998,
          0.06995558244639936,
          0.13320190916287045,
          0.021539870543027258
         ]
        },
        {
         "boxpoints": "all",
         "fillcolor": "#ff7f0e",
         "line": {
          "width": 1
         },
         "marker": {
          "size": 5
         },
         "name": "8_csf_pnm_stc",
         "type": "box",
         "whiskerwidth": 0.2,
         "y": [
          0.019537692568287333,
          0.09731763813326844,
          3.860677900768018e-05,
          0.0432559151234759,
          0.11177999126587915,
          -0.01451081130880345,
          -0.012776655416283186,
          0.07920110938418282,
          0.02983297807610304,
          0.09748868803989956,
          0.01275552748223137,
          0.0343362810602461,
          0.06810102156631477,
          0.0907978896965154,
          0.1561243718893862,
          0.10374262531033314,
          0.0885665555329714,
          0.057333324858720815,
          0.14092802535787113,
          0.025240203846309806,
          0.020182590971229868,
          0.061294999504849464,
          0.12317369233975957,
          0.018534222211295574
         ]
        },
        {
         "boxpoints": "all",
         "fillcolor": "#ff7f0e",
         "line": {
          "width": 1
         },
         "marker": {
          "size": 5
         },
         "name": "9_pnm_moco_stc",
         "type": "box",
         "whiskerwidth": 0.2,
         "y": [
          0.020484635094703545,
          0.1042934557281587,
          0.004838744320182445,
          0.036600339085298174,
          0.11602650198903776,
          -0.00545751528530747,
          -0.00833193786441907,
          0.0810339165935614,
          0.03578070576539085,
          0.08201147127498841,
          0.017562024904349986,
          0.03269844001666096,
          0.07515013655178485,
          0.08433035881650584,
          0.15247402110673294,
          0.10112590582264971,
          0.08466643922096984,
          0.05577370393430953,
          0.14022100662925485,
          0.022081107253204318,
          0.021397299989357528,
          0.06839383833195871,
          0.11113435753159587,
          0.02149198554115777
         ]
        },
        {
         "boxpoints": "all",
         "fillcolor": "#ff7f0e",
         "line": {
          "width": 1
         },
         "marker": {
          "size": 5
         },
         "name": "10_csf_pnm_moco_stc",
         "type": "box",
         "whiskerwidth": 0.2,
         "y": [
          0.0172568814284824,
          0.09730640877155997,
          0.006064481515213748,
          0.03822096748627237,
          0.11448530674495784,
          -0.009815482042035714,
          -0.009960757473982566,
          0.08106456400173401,
          0.03668007047234731,
          0.07405142892160423,
          0.013563736064078664,
          0.03429320962505982,
          0.0708327142173063,
          0.08811744480306061,
          0.14684705387018174,
          0.10023614284976526,
          0.08311280668529511,
          0.055476592052934086,
          0.13809974669593789,
          0.021695830883286846,
          0.021965609311789487,
          0.059038364015435794,
          0.10698218027924238,
          0.01821656371588074
         ]
        },
        {
         "boxpoints": "all",
         "fillcolor": "#ff7f0e",
         "line": {
          "width": 1
         },
         "marker": {
          "size": 5
         },
         "name": "11_csf_pnm_moco_cc_stc",
         "type": "box",
         "whiskerwidth": 0.2,
         "y": [
          0.007821292358972276,
          0.08138478805542257,
          0.017463742794401885,
          0.03217810343829496,
          0.06988418127596202,
          -0.0058064635544952635,
          -0.016812960419093283,
          0.0829542805580501,
          0.024776705267473914,
          0.04600960315255958,
          0.0036970826169157563,
          0.02790943373290513,
          0.06008719625251298,
          0.0811890518818584,
          0.12081514344163741,
          0.09690819586468088,
          0.08286169839595296,
          0.04439723538214186,
          0.1258788031149669,
          0.01788918413607915,
          0.019232173139943326,
          0.05676536836198632,
          0.08343968084242649,
          0.018542991248823127
         ]
        }
       ],
       "layout": {
        "margin": {
         "b": 80,
         "l": 40,
         "r": 30,
         "t": 100
        },
        "paper_bgcolor": "rgb(243, 243, 243)",
        "plot_bgcolor": "rgb(243, 243, 243)",
        "showlegend": false,
        "template": {
         "data": {
          "bar": [
           {
            "error_x": {
             "color": "#2a3f5f"
            },
            "error_y": {
             "color": "#2a3f5f"
            },
            "marker": {
             "line": {
              "color": "#E5ECF6",
              "width": 0.5
             },
             "pattern": {
              "fillmode": "overlay",
              "size": 10,
              "solidity": 0.2
             }
            },
            "type": "bar"
           }
          ],
          "barpolar": [
           {
            "marker": {
             "line": {
              "color": "#E5ECF6",
              "width": 0.5
             },
             "pattern": {
              "fillmode": "overlay",
              "size": 10,
              "solidity": 0.2
             }
            },
            "type": "barpolar"
           }
          ],
          "carpet": [
           {
            "aaxis": {
             "endlinecolor": "#2a3f5f",
             "gridcolor": "white",
             "linecolor": "white",
             "minorgridcolor": "white",
             "startlinecolor": "#2a3f5f"
            },
            "baxis": {
             "endlinecolor": "#2a3f5f",
             "gridcolor": "white",
             "linecolor": "white",
             "minorgridcolor": "white",
             "startlinecolor": "#2a3f5f"
            },
            "type": "carpet"
           }
          ],
          "choropleth": [
           {
            "colorbar": {
             "outlinewidth": 0,
             "ticks": ""
            },
            "type": "choropleth"
           }
          ],
          "contour": [
           {
            "colorbar": {
             "outlinewidth": 0,
             "ticks": ""
            },
            "colorscale": [
             [
              0,
              "#0d0887"
             ],
             [
              0.1111111111111111,
              "#46039f"
             ],
             [
              0.2222222222222222,
              "#7201a8"
             ],
             [
              0.3333333333333333,
              "#9c179e"
             ],
             [
              0.4444444444444444,
              "#bd3786"
             ],
             [
              0.5555555555555556,
              "#d8576b"
             ],
             [
              0.6666666666666666,
              "#ed7953"
             ],
             [
              0.7777777777777778,
              "#fb9f3a"
             ],
             [
              0.8888888888888888,
              "#fdca26"
             ],
             [
              1,
              "#f0f921"
             ]
            ],
            "type": "contour"
           }
          ],
          "contourcarpet": [
           {
            "colorbar": {
             "outlinewidth": 0,
             "ticks": ""
            },
            "type": "contourcarpet"
           }
          ],
          "heatmap": [
           {
            "colorbar": {
             "outlinewidth": 0,
             "ticks": ""
            },
            "colorscale": [
             [
              0,
              "#0d0887"
             ],
             [
              0.1111111111111111,
              "#46039f"
             ],
             [
              0.2222222222222222,
              "#7201a8"
             ],
             [
              0.3333333333333333,
              "#9c179e"
             ],
             [
              0.4444444444444444,
              "#bd3786"
             ],
             [
              0.5555555555555556,
              "#d8576b"
             ],
             [
              0.6666666666666666,
              "#ed7953"
             ],
             [
              0.7777777777777778,
              "#fb9f3a"
             ],
             [
              0.8888888888888888,
              "#fdca26"
             ],
             [
              1,
              "#f0f921"
             ]
            ],
            "type": "heatmap"
           }
          ],
          "heatmapgl": [
           {
            "colorbar": {
             "outlinewidth": 0,
             "ticks": ""
            },
            "colorscale": [
             [
              0,
              "#0d0887"
             ],
             [
              0.1111111111111111,
              "#46039f"
             ],
             [
              0.2222222222222222,
              "#7201a8"
             ],
             [
              0.3333333333333333,
              "#9c179e"
             ],
             [
              0.4444444444444444,
              "#bd3786"
             ],
             [
              0.5555555555555556,
              "#d8576b"
             ],
             [
              0.6666666666666666,
              "#ed7953"
             ],
             [
              0.7777777777777778,
              "#fb9f3a"
             ],
             [
              0.8888888888888888,
              "#fdca26"
             ],
             [
              1,
              "#f0f921"
             ]
            ],
            "type": "heatmapgl"
           }
          ],
          "histogram": [
           {
            "marker": {
             "pattern": {
              "fillmode": "overlay",
              "size": 10,
              "solidity": 0.2
             }
            },
            "type": "histogram"
           }
          ],
          "histogram2d": [
           {
            "colorbar": {
             "outlinewidth": 0,
             "ticks": ""
            },
            "colorscale": [
             [
              0,
              "#0d0887"
             ],
             [
              0.1111111111111111,
              "#46039f"
             ],
             [
              0.2222222222222222,
              "#7201a8"
             ],
             [
              0.3333333333333333,
              "#9c179e"
             ],
             [
              0.4444444444444444,
              "#bd3786"
             ],
             [
              0.5555555555555556,
              "#d8576b"
             ],
             [
              0.6666666666666666,
              "#ed7953"
             ],
             [
              0.7777777777777778,
              "#fb9f3a"
             ],
             [
              0.8888888888888888,
              "#fdca26"
             ],
             [
              1,
              "#f0f921"
             ]
            ],
            "type": "histogram2d"
           }
          ],
          "histogram2dcontour": [
           {
            "colorbar": {
             "outlinewidth": 0,
             "ticks": ""
            },
            "colorscale": [
             [
              0,
              "#0d0887"
             ],
             [
              0.1111111111111111,
              "#46039f"
             ],
             [
              0.2222222222222222,
              "#7201a8"
             ],
             [
              0.3333333333333333,
              "#9c179e"
             ],
             [
              0.4444444444444444,
              "#bd3786"
             ],
             [
              0.5555555555555556,
              "#d8576b"
             ],
             [
              0.6666666666666666,
              "#ed7953"
             ],
             [
              0.7777777777777778,
              "#fb9f3a"
             ],
             [
              0.8888888888888888,
              "#fdca26"
             ],
             [
              1,
              "#f0f921"
             ]
            ],
            "type": "histogram2dcontour"
           }
          ],
          "mesh3d": [
           {
            "colorbar": {
             "outlinewidth": 0,
             "ticks": ""
            },
            "type": "mesh3d"
           }
          ],
          "parcoords": [
           {
            "line": {
             "colorbar": {
              "outlinewidth": 0,
              "ticks": ""
             }
            },
            "type": "parcoords"
           }
          ],
          "pie": [
           {
            "automargin": true,
            "type": "pie"
           }
          ],
          "scatter": [
           {
            "fillpattern": {
             "fillmode": "overlay",
             "size": 10,
             "solidity": 0.2
            },
            "type": "scatter"
           }
          ],
          "scatter3d": [
           {
            "line": {
             "colorbar": {
              "outlinewidth": 0,
              "ticks": ""
             }
            },
            "marker": {
             "colorbar": {
              "outlinewidth": 0,
              "ticks": ""
             }
            },
            "type": "scatter3d"
           }
          ],
          "scattercarpet": [
           {
            "marker": {
             "colorbar": {
              "outlinewidth": 0,
              "ticks": ""
             }
            },
            "type": "scattercarpet"
           }
          ],
          "scattergeo": [
           {
            "marker": {
             "colorbar": {
              "outlinewidth": 0,
              "ticks": ""
             }
            },
            "type": "scattergeo"
           }
          ],
          "scattergl": [
           {
            "marker": {
             "colorbar": {
              "outlinewidth": 0,
              "ticks": ""
             }
            },
            "type": "scattergl"
           }
          ],
          "scattermapbox": [
           {
            "marker": {
             "colorbar": {
              "outlinewidth": 0,
              "ticks": ""
             }
            },
            "type": "scattermapbox"
           }
          ],
          "scatterpolar": [
           {
            "marker": {
             "colorbar": {
              "outlinewidth": 0,
              "ticks": ""
             }
            },
            "type": "scatterpolar"
           }
          ],
          "scatterpolargl": [
           {
            "marker": {
             "colorbar": {
              "outlinewidth": 0,
              "ticks": ""
             }
            },
            "type": "scatterpolargl"
           }
          ],
          "scatterternary": [
           {
            "marker": {
             "colorbar": {
              "outlinewidth": 0,
              "ticks": ""
             }
            },
            "type": "scatterternary"
           }
          ],
          "surface": [
           {
            "colorbar": {
             "outlinewidth": 0,
             "ticks": ""
            },
            "colorscale": [
             [
              0,
              "#0d0887"
             ],
             [
              0.1111111111111111,
              "#46039f"
             ],
             [
              0.2222222222222222,
              "#7201a8"
             ],
             [
              0.3333333333333333,
              "#9c179e"
             ],
             [
              0.4444444444444444,
              "#bd3786"
             ],
             [
              0.5555555555555556,
              "#d8576b"
             ],
             [
              0.6666666666666666,
              "#ed7953"
             ],
             [
              0.7777777777777778,
              "#fb9f3a"
             ],
             [
              0.8888888888888888,
              "#fdca26"
             ],
             [
              1,
              "#f0f921"
             ]
            ],
            "type": "surface"
           }
          ],
          "table": [
           {
            "cells": {
             "fill": {
              "color": "#EBF0F8"
             },
             "line": {
              "color": "white"
             }
            },
            "header": {
             "fill": {
              "color": "#C8D4E3"
             },
             "line": {
              "color": "white"
             }
            },
            "type": "table"
           }
          ]
         },
         "layout": {
          "annotationdefaults": {
           "arrowcolor": "#2a3f5f",
           "arrowhead": 0,
           "arrowwidth": 1
          },
          "autotypenumbers": "strict",
          "coloraxis": {
           "colorbar": {
            "outlinewidth": 0,
            "ticks": ""
           }
          },
          "colorscale": {
           "diverging": [
            [
             0,
             "#8e0152"
            ],
            [
             0.1,
             "#c51b7d"
            ],
            [
             0.2,
             "#de77ae"
            ],
            [
             0.3,
             "#f1b6da"
            ],
            [
             0.4,
             "#fde0ef"
            ],
            [
             0.5,
             "#f7f7f7"
            ],
            [
             0.6,
             "#e6f5d0"
            ],
            [
             0.7,
             "#b8e186"
            ],
            [
             0.8,
             "#7fbc41"
            ],
            [
             0.9,
             "#4d9221"
            ],
            [
             1,
             "#276419"
            ]
           ],
           "sequential": [
            [
             0,
             "#0d0887"
            ],
            [
             0.1111111111111111,
             "#46039f"
            ],
            [
             0.2222222222222222,
             "#7201a8"
            ],
            [
             0.3333333333333333,
             "#9c179e"
            ],
            [
             0.4444444444444444,
             "#bd3786"
            ],
            [
             0.5555555555555556,
             "#d8576b"
            ],
            [
             0.6666666666666666,
             "#ed7953"
            ],
            [
             0.7777777777777778,
             "#fb9f3a"
            ],
            [
             0.8888888888888888,
             "#fdca26"
            ],
            [
             1,
             "#f0f921"
            ]
           ],
           "sequentialminus": [
            [
             0,
             "#0d0887"
            ],
            [
             0.1111111111111111,
             "#46039f"
            ],
            [
             0.2222222222222222,
             "#7201a8"
            ],
            [
             0.3333333333333333,
             "#9c179e"
            ],
            [
             0.4444444444444444,
             "#bd3786"
            ],
            [
             0.5555555555555556,
             "#d8576b"
            ],
            [
             0.6666666666666666,
             "#ed7953"
            ],
            [
             0.7777777777777778,
             "#fb9f3a"
            ],
            [
             0.8888888888888888,
             "#fdca26"
            ],
            [
             1,
             "#f0f921"
            ]
           ]
          },
          "colorway": [
           "#636efa",
           "#EF553B",
           "#00cc96",
           "#ab63fa",
           "#FFA15A",
           "#19d3f3",
           "#FF6692",
           "#B6E880",
           "#FF97FF",
           "#FECB52"
          ],
          "font": {
           "color": "#2a3f5f"
          },
          "geo": {
           "bgcolor": "white",
           "lakecolor": "white",
           "landcolor": "#E5ECF6",
           "showlakes": true,
           "showland": true,
           "subunitcolor": "white"
          },
          "hoverlabel": {
           "align": "left"
          },
          "hovermode": "closest",
          "mapbox": {
           "style": "light"
          },
          "paper_bgcolor": "white",
          "plot_bgcolor": "#E5ECF6",
          "polar": {
           "angularaxis": {
            "gridcolor": "white",
            "linecolor": "white",
            "ticks": ""
           },
           "bgcolor": "#E5ECF6",
           "radialaxis": {
            "gridcolor": "white",
            "linecolor": "white",
            "ticks": ""
           }
          },
          "scene": {
           "xaxis": {
            "backgroundcolor": "#E5ECF6",
            "gridcolor": "white",
            "gridwidth": 2,
            "linecolor": "white",
            "showbackground": true,
            "ticks": "",
            "zerolinecolor": "white"
           },
           "yaxis": {
            "backgroundcolor": "#E5ECF6",
            "gridcolor": "white",
            "gridwidth": 2,
            "linecolor": "white",
            "showbackground": true,
            "ticks": "",
            "zerolinecolor": "white"
           },
           "zaxis": {
            "backgroundcolor": "#E5ECF6",
            "gridcolor": "white",
            "gridwidth": 2,
            "linecolor": "white",
            "showbackground": true,
            "ticks": "",
            "zerolinecolor": "white"
           }
          },
          "shapedefaults": {
           "line": {
            "color": "#2a3f5f"
           }
          },
          "ternary": {
           "aaxis": {
            "gridcolor": "white",
            "linecolor": "white",
            "ticks": ""
           },
           "baxis": {
            "gridcolor": "white",
            "linecolor": "white",
            "ticks": ""
           },
           "bgcolor": "#E5ECF6",
           "caxis": {
            "gridcolor": "white",
            "linecolor": "white",
            "ticks": ""
           }
          },
          "title": {
           "x": 0.05
          },
          "xaxis": {
           "automargin": true,
           "gridcolor": "white",
           "linecolor": "white",
           "ticks": "",
           "title": {
            "standoff": 15
           },
           "zerolinecolor": "white",
           "zerolinewidth": 2
          },
          "yaxis": {
           "automargin": true,
           "gridcolor": "white",
           "linecolor": "white",
           "ticks": "",
           "title": {
            "standoff": 15
           },
           "zerolinecolor": "white",
           "zerolinewidth": 2
          }
         }
        },
        "title": {
         "text": "Dorsal-Dorsal"
        },
        "yaxis": {
         "gridcolor": "rgb(255, 255, 255)",
         "gridwidth": 1,
         "range": [
          -0.1,
          0.4
         ],
         "showgrid": true,
         "tickcolor": "black",
         "title": {
          "text": "Correlations"
         },
         "zeroline": true,
         "zerolinecolor": "rgb(255, 255, 255)",
         "zerolinewidth": 2
        }
       }
      },
      "text/html": [
       "<div>                            <div id=\"4c37af0d-4172-4e97-bdf0-c72d3782e82a\" class=\"plotly-graph-div\" style=\"height:525px; width:100%;\"></div>            <script type=\"text/javascript\">                require([\"plotly\"], function(Plotly) {                    window.PLOTLYENV=window.PLOTLYENV || {};                                    if (document.getElementById(\"4c37af0d-4172-4e97-bdf0-c72d3782e82a\")) {                    Plotly.newPlot(                        \"4c37af0d-4172-4e97-bdf0-c72d3782e82a\",                        [{\"boxpoints\":\"all\",\"fillcolor\":\"#ff7f0e\",\"line\":{\"width\":1},\"marker\":{\"size\":5},\"name\":\"0_baseline_stc\",\"whiskerwidth\":0.2,\"y\":[0.09431228779896449,0.2567301990422287,0.009344771642501111,0.19251403306279713,0.26238804199438137,0.04086782146014503,0.04711946908699203,0.05037938902705004,0.007214654760785912,0.3409816150932151,0.04654321363529141,0.052356089975782845,0.14493586735399583,0.15961192352647433,0.2220737034916295,0.13973686306040145,0.12077253027622362,0.04967535337980282,0.21343534613614912,0.06677434233043075,0.14317843470061797,0.1245447488830962,0.24640232334328319,0.0817604596730929],\"type\":\"box\"},{\"boxpoints\":\"all\",\"fillcolor\":\"#ff7f0e\",\"line\":{\"width\":1},\"marker\":{\"size\":5},\"name\":\"1_csf_csfonly_stc\",\"whiskerwidth\":0.2,\"y\":[0.0619773636548923,0.17950114980290602,-0.0010233816139952646,0.11412340671005823,0.20731950864417686,0.009760022733033565,-0.003797344681944683,0.07555382609189423,0.00025975042699979506,0.19168965480955635,0.007108341825169305,0.10023628438883071,0.061260497395695536,0.14405639662508404,0.17973119947425603,0.12358105586074768,0.1060376808795024,0.06956253846058223,0.17907143357969374,0.022204785200220324,0.09204925657920457,0.07675606509812223,0.1562334399673541,0.040752494939915916],\"type\":\"box\"},{\"boxpoints\":\"all\",\"fillcolor\":\"#ff7f0e\",\"line\":{\"width\":1},\"marker\":{\"size\":5},\"name\":\"2_moco_stc\",\"whiskerwidth\":0.2,\"y\":[0.04751388574717362,0.18354248944366738,0.0023654364056463774,0.08914911797352452,0.1737095189677966,0.010189301319135579,-0.0029983380367150383,0.07590086324456502,0.01939018611455105,0.15213404874934794,0.01291980222323247,0.09284252734896348,0.0710797811583623,0.13858866660501482,0.17673724573036628,0.114524539467731,0.09402926720357128,0.06442806511901572,0.17606102592423586,0.020257993180924742,0.08501453125851985,0.08422600574731527,0.13508361820638626,0.04658707693688955],\"type\":\"box\"},{\"boxpoints\":\"all\",\"fillcolor\":\"#ff7f0e\",\"line\":{\"width\":1},\"marker\":{\"size\":5},\"name\":\"3_cc_stc\",\"whiskerwidth\":0.2,\"y\":[0.045034439569038784,0.11856818569690222,-0.00448759964939931,0.05882836782494983,0.07956135606339852,-0.005270960131481198,-0.015225269538633662,0.07406327691353216,0.00925277054040224,0.052870177124129905,0.0013336054405860697,0.05168801217480597,0.06503245155281649,0.09190411574608635,0.14259913413899758,0.10730662189358482,0.10545773569303883,0.04511934435720151,0.16752755329602706,0.019262519815452597,0.02328081859790192,0.06252312366324056,0.09694396719661197,0.03813016242949388],\"type\":\"box\"},{\"boxpoints\":\"all\",\"fillcolor\":\"#ff7f0e\",\"line\":{\"width\":1},\"marker\":{\"size\":5},\"name\":\"4_moco_cc_stc\",\"whiskerwidth\":0.2,\"y\":[0.03708958515070582,0.11898230420891566,0.002718242469958835,0.05361321794748707,0.08732412540118255,-0.001300251248582709,-0.013159306896905906,0.07383283531941247,0.01725426473156505,0.056834333332012266,0.0035961658303588135,0.046759771136698366,0.0689927787628959,0.0889130867279902,0.14379925086162146,0.10456029960330115,0.09560203619366049,0.04108184516743022,0.16208086933690435,0.015528828037634635,0.026251150847630852,0.05629561731612354,0.0921644624329297,0.034654738192734846],\"type\":\"box\"},{\"boxpoints\":\"all\",\"fillcolor\":\"#ff7f0e\",\"line\":{\"width\":1},\"marker\":{\"size\":5},\"name\":\"5_pnm_cardonly_stc\",\"whiskerwidth\":0.2,\"y\":[0.06512767278252737,0.17755223260433223,-0.005814053635754338,0.10971441712172149,0.21029056103653126,0.012039258926113442,-0.00291565092933887,0.07201023402063776,-0.011653211154400326,0.18887880903402005,0.013596075567912709,0.08489855089508738,0.06758428739991323,0.13937788224614464,0.18737894781349917,0.12194359922327004,0.0983957318656945,0.07760561472672443,0.17879633206041085,0.027224316012020255,0.09442230422457382,0.07823385287495854,0.1698736415460126,0.04822150710019765],\"type\":\"box\"},{\"boxpoints\":\"all\",\"fillcolor\":\"#ff7f0e\",\"line\":{\"width\":1},\"marker\":{\"size\":5},\"name\":\"6_pnm_responly_stc\",\"whiskerwidth\":0.2,\"y\":[0.03337341562010142,0.10338067693318342,-0.0036107831351696595,0.04422866470102421,0.11881783277089718,0.0014800774631063625,-0.006569280025292434,0.07432629840963358,0.0339815163296796,0.11341028244346647,0.01288260505557339,0.04448054981527708,0.06845668730722393,0.09473639628667484,0.16683314514446781,0.09822175902990725,0.10333743571792253,0.04973843892458477,0.14748795925236985,0.008988066995342228,0.022882783777777173,0.06982096797168443,0.13642964839221183,0.03158982293996878],\"type\":\"box\"},{\"boxpoints\":\"all\",\"fillcolor\":\"#ff7f0e\",\"line\":{\"width\":1},\"marker\":{\"size\":5},\"name\":\"7_pnm_stc\",\"whiskerwidth\":0.2,\"y\":[0.02288486979964076,0.10376480000230312,-0.0008396838370283826,0.041291115439844726,0.11449808236404656,-0.009162646673988816,-0.011644176172304066,0.07901002500696555,0.028973121102164736,0.10215311961381503,0.01676584333733039,0.03339153616474732,0.07194918960895424,0.08961768951705705,0.16428662987676593,0.10544856281036939,0.08998306604654142,0.057689683231102885,0.14179038087272977,0.025627091796176633,0.019539701159861998,0.06995558244639936,0.13320190916287045,0.021539870543027258],\"type\":\"box\"},{\"boxpoints\":\"all\",\"fillcolor\":\"#ff7f0e\",\"line\":{\"width\":1},\"marker\":{\"size\":5},\"name\":\"8_csf_pnm_stc\",\"whiskerwidth\":0.2,\"y\":[0.019537692568287333,0.09731763813326844,3.860677900768018e-05,0.0432559151234759,0.11177999126587915,-0.01451081130880345,-0.012776655416283186,0.07920110938418282,0.02983297807610304,0.09748868803989956,0.01275552748223137,0.0343362810602461,0.06810102156631477,0.0907978896965154,0.1561243718893862,0.10374262531033314,0.0885665555329714,0.057333324858720815,0.14092802535787113,0.025240203846309806,0.020182590971229868,0.061294999504849464,0.12317369233975957,0.018534222211295574],\"type\":\"box\"},{\"boxpoints\":\"all\",\"fillcolor\":\"#ff7f0e\",\"line\":{\"width\":1},\"marker\":{\"size\":5},\"name\":\"9_pnm_moco_stc\",\"whiskerwidth\":0.2,\"y\":[0.020484635094703545,0.1042934557281587,0.004838744320182445,0.036600339085298174,0.11602650198903776,-0.00545751528530747,-0.00833193786441907,0.0810339165935614,0.03578070576539085,0.08201147127498841,0.017562024904349986,0.03269844001666096,0.07515013655178485,0.08433035881650584,0.15247402110673294,0.10112590582264971,0.08466643922096984,0.05577370393430953,0.14022100662925485,0.022081107253204318,0.021397299989357528,0.06839383833195871,0.11113435753159587,0.02149198554115777],\"type\":\"box\"},{\"boxpoints\":\"all\",\"fillcolor\":\"#ff7f0e\",\"line\":{\"width\":1},\"marker\":{\"size\":5},\"name\":\"10_csf_pnm_moco_stc\",\"whiskerwidth\":0.2,\"y\":[0.0172568814284824,0.09730640877155997,0.006064481515213748,0.03822096748627237,0.11448530674495784,-0.009815482042035714,-0.009960757473982566,0.08106456400173401,0.03668007047234731,0.07405142892160423,0.013563736064078664,0.03429320962505982,0.0708327142173063,0.08811744480306061,0.14684705387018174,0.10023614284976526,0.08311280668529511,0.055476592052934086,0.13809974669593789,0.021695830883286846,0.021965609311789487,0.059038364015435794,0.10698218027924238,0.01821656371588074],\"type\":\"box\"},{\"boxpoints\":\"all\",\"fillcolor\":\"#ff7f0e\",\"line\":{\"width\":1},\"marker\":{\"size\":5},\"name\":\"11_csf_pnm_moco_cc_stc\",\"whiskerwidth\":0.2,\"y\":[0.007821292358972276,0.08138478805542257,0.017463742794401885,0.03217810343829496,0.06988418127596202,-0.0058064635544952635,-0.016812960419093283,0.0829542805580501,0.024776705267473914,0.04600960315255958,0.0036970826169157563,0.02790943373290513,0.06008719625251298,0.0811890518818584,0.12081514344163741,0.09690819586468088,0.08286169839595296,0.04439723538214186,0.1258788031149669,0.01788918413607915,0.019232173139943326,0.05676536836198632,0.08343968084242649,0.018542991248823127],\"type\":\"box\"}],                        {\"template\":{\"data\":{\"histogram2dcontour\":[{\"type\":\"histogram2dcontour\",\"colorbar\":{\"outlinewidth\":0,\"ticks\":\"\"},\"colorscale\":[[0.0,\"#0d0887\"],[0.1111111111111111,\"#46039f\"],[0.2222222222222222,\"#7201a8\"],[0.3333333333333333,\"#9c179e\"],[0.4444444444444444,\"#bd3786\"],[0.5555555555555556,\"#d8576b\"],[0.6666666666666666,\"#ed7953\"],[0.7777777777777778,\"#fb9f3a\"],[0.8888888888888888,\"#fdca26\"],[1.0,\"#f0f921\"]]}],\"choropleth\":[{\"type\":\"choropleth\",\"colorbar\":{\"outlinewidth\":0,\"ticks\":\"\"}}],\"histogram2d\":[{\"type\":\"histogram2d\",\"colorbar\":{\"outlinewidth\":0,\"ticks\":\"\"},\"colorscale\":[[0.0,\"#0d0887\"],[0.1111111111111111,\"#46039f\"],[0.2222222222222222,\"#7201a8\"],[0.3333333333333333,\"#9c179e\"],[0.4444444444444444,\"#bd3786\"],[0.5555555555555556,\"#d8576b\"],[0.6666666666666666,\"#ed7953\"],[0.7777777777777778,\"#fb9f3a\"],[0.8888888888888888,\"#fdca26\"],[1.0,\"#f0f921\"]]}],\"heatmap\":[{\"type\":\"heatmap\",\"colorbar\":{\"outlinewidth\":0,\"ticks\":\"\"},\"colorscale\":[[0.0,\"#0d0887\"],[0.1111111111111111,\"#46039f\"],[0.2222222222222222,\"#7201a8\"],[0.3333333333333333,\"#9c179e\"],[0.4444444444444444,\"#bd3786\"],[0.5555555555555556,\"#d8576b\"],[0.6666666666666666,\"#ed7953\"],[0.7777777777777778,\"#fb9f3a\"],[0.8888888888888888,\"#fdca26\"],[1.0,\"#f0f921\"]]}],\"heatmapgl\":[{\"type\":\"heatmapgl\",\"colorbar\":{\"outlinewidth\":0,\"ticks\":\"\"},\"colorscale\":[[0.0,\"#0d0887\"],[0.1111111111111111,\"#46039f\"],[0.2222222222222222,\"#7201a8\"],[0.3333333333333333,\"#9c179e\"],[0.4444444444444444,\"#bd3786\"],[0.5555555555555556,\"#d8576b\"],[0.6666666666666666,\"#ed7953\"],[0.7777777777777778,\"#fb9f3a\"],[0.8888888888888888,\"#fdca26\"],[1.0,\"#f0f921\"]]}],\"contourcarpet\":[{\"type\":\"contourcarpet\",\"colorbar\":{\"outlinewidth\":0,\"ticks\":\"\"}}],\"contour\":[{\"type\":\"contour\",\"colorbar\":{\"outlinewidth\":0,\"ticks\":\"\"},\"colorscale\":[[0.0,\"#0d0887\"],[0.1111111111111111,\"#46039f\"],[0.2222222222222222,\"#7201a8\"],[0.3333333333333333,\"#9c179e\"],[0.4444444444444444,\"#bd3786\"],[0.5555555555555556,\"#d8576b\"],[0.6666666666666666,\"#ed7953\"],[0.7777777777777778,\"#fb9f3a\"],[0.8888888888888888,\"#fdca26\"],[1.0,\"#f0f921\"]]}],\"surface\":[{\"type\":\"surface\",\"colorbar\":{\"outlinewidth\":0,\"ticks\":\"\"},\"colorscale\":[[0.0,\"#0d0887\"],[0.1111111111111111,\"#46039f\"],[0.2222222222222222,\"#7201a8\"],[0.3333333333333333,\"#9c179e\"],[0.4444444444444444,\"#bd3786\"],[0.5555555555555556,\"#d8576b\"],[0.6666666666666666,\"#ed7953\"],[0.7777777777777778,\"#fb9f3a\"],[0.8888888888888888,\"#fdca26\"],[1.0,\"#f0f921\"]]}],\"mesh3d\":[{\"type\":\"mesh3d\",\"colorbar\":{\"outlinewidth\":0,\"ticks\":\"\"}}],\"scatter\":[{\"fillpattern\":{\"fillmode\":\"overlay\",\"size\":10,\"solidity\":0.2},\"type\":\"scatter\"}],\"parcoords\":[{\"type\":\"parcoords\",\"line\":{\"colorbar\":{\"outlinewidth\":0,\"ticks\":\"\"}}}],\"scatterpolargl\":[{\"type\":\"scatterpolargl\",\"marker\":{\"colorbar\":{\"outlinewidth\":0,\"ticks\":\"\"}}}],\"bar\":[{\"error_x\":{\"color\":\"#2a3f5f\"},\"error_y\":{\"color\":\"#2a3f5f\"},\"marker\":{\"line\":{\"color\":\"#E5ECF6\",\"width\":0.5},\"pattern\":{\"fillmode\":\"overlay\",\"size\":10,\"solidity\":0.2}},\"type\":\"bar\"}],\"scattergeo\":[{\"type\":\"scattergeo\",\"marker\":{\"colorbar\":{\"outlinewidth\":0,\"ticks\":\"\"}}}],\"scatterpolar\":[{\"type\":\"scatterpolar\",\"marker\":{\"colorbar\":{\"outlinewidth\":0,\"ticks\":\"\"}}}],\"histogram\":[{\"marker\":{\"pattern\":{\"fillmode\":\"overlay\",\"size\":10,\"solidity\":0.2}},\"type\":\"histogram\"}],\"scattergl\":[{\"type\":\"scattergl\",\"marker\":{\"colorbar\":{\"outlinewidth\":0,\"ticks\":\"\"}}}],\"scatter3d\":[{\"type\":\"scatter3d\",\"line\":{\"colorbar\":{\"outlinewidth\":0,\"ticks\":\"\"}},\"marker\":{\"colorbar\":{\"outlinewidth\":0,\"ticks\":\"\"}}}],\"scattermapbox\":[{\"type\":\"scattermapbox\",\"marker\":{\"colorbar\":{\"outlinewidth\":0,\"ticks\":\"\"}}}],\"scatterternary\":[{\"type\":\"scatterternary\",\"marker\":{\"colorbar\":{\"outlinewidth\":0,\"ticks\":\"\"}}}],\"scattercarpet\":[{\"type\":\"scattercarpet\",\"marker\":{\"colorbar\":{\"outlinewidth\":0,\"ticks\":\"\"}}}],\"carpet\":[{\"aaxis\":{\"endlinecolor\":\"#2a3f5f\",\"gridcolor\":\"white\",\"linecolor\":\"white\",\"minorgridcolor\":\"white\",\"startlinecolor\":\"#2a3f5f\"},\"baxis\":{\"endlinecolor\":\"#2a3f5f\",\"gridcolor\":\"white\",\"linecolor\":\"white\",\"minorgridcolor\":\"white\",\"startlinecolor\":\"#2a3f5f\"},\"type\":\"carpet\"}],\"table\":[{\"cells\":{\"fill\":{\"color\":\"#EBF0F8\"},\"line\":{\"color\":\"white\"}},\"header\":{\"fill\":{\"color\":\"#C8D4E3\"},\"line\":{\"color\":\"white\"}},\"type\":\"table\"}],\"barpolar\":[{\"marker\":{\"line\":{\"color\":\"#E5ECF6\",\"width\":0.5},\"pattern\":{\"fillmode\":\"overlay\",\"size\":10,\"solidity\":0.2}},\"type\":\"barpolar\"}],\"pie\":[{\"automargin\":true,\"type\":\"pie\"}]},\"layout\":{\"autotypenumbers\":\"strict\",\"colorway\":[\"#636efa\",\"#EF553B\",\"#00cc96\",\"#ab63fa\",\"#FFA15A\",\"#19d3f3\",\"#FF6692\",\"#B6E880\",\"#FF97FF\",\"#FECB52\"],\"font\":{\"color\":\"#2a3f5f\"},\"hovermode\":\"closest\",\"hoverlabel\":{\"align\":\"left\"},\"paper_bgcolor\":\"white\",\"plot_bgcolor\":\"#E5ECF6\",\"polar\":{\"bgcolor\":\"#E5ECF6\",\"angularaxis\":{\"gridcolor\":\"white\",\"linecolor\":\"white\",\"ticks\":\"\"},\"radialaxis\":{\"gridcolor\":\"white\",\"linecolor\":\"white\",\"ticks\":\"\"}},\"ternary\":{\"bgcolor\":\"#E5ECF6\",\"aaxis\":{\"gridcolor\":\"white\",\"linecolor\":\"white\",\"ticks\":\"\"},\"baxis\":{\"gridcolor\":\"white\",\"linecolor\":\"white\",\"ticks\":\"\"},\"caxis\":{\"gridcolor\":\"white\",\"linecolor\":\"white\",\"ticks\":\"\"}},\"coloraxis\":{\"colorbar\":{\"outlinewidth\":0,\"ticks\":\"\"}},\"colorscale\":{\"sequential\":[[0.0,\"#0d0887\"],[0.1111111111111111,\"#46039f\"],[0.2222222222222222,\"#7201a8\"],[0.3333333333333333,\"#9c179e\"],[0.4444444444444444,\"#bd3786\"],[0.5555555555555556,\"#d8576b\"],[0.6666666666666666,\"#ed7953\"],[0.7777777777777778,\"#fb9f3a\"],[0.8888888888888888,\"#fdca26\"],[1.0,\"#f0f921\"]],\"sequentialminus\":[[0.0,\"#0d0887\"],[0.1111111111111111,\"#46039f\"],[0.2222222222222222,\"#7201a8\"],[0.3333333333333333,\"#9c179e\"],[0.4444444444444444,\"#bd3786\"],[0.5555555555555556,\"#d8576b\"],[0.6666666666666666,\"#ed7953\"],[0.7777777777777778,\"#fb9f3a\"],[0.8888888888888888,\"#fdca26\"],[1.0,\"#f0f921\"]],\"diverging\":[[0,\"#8e0152\"],[0.1,\"#c51b7d\"],[0.2,\"#de77ae\"],[0.3,\"#f1b6da\"],[0.4,\"#fde0ef\"],[0.5,\"#f7f7f7\"],[0.6,\"#e6f5d0\"],[0.7,\"#b8e186\"],[0.8,\"#7fbc41\"],[0.9,\"#4d9221\"],[1,\"#276419\"]]},\"xaxis\":{\"gridcolor\":\"white\",\"linecolor\":\"white\",\"ticks\":\"\",\"title\":{\"standoff\":15},\"zerolinecolor\":\"white\",\"automargin\":true,\"zerolinewidth\":2},\"yaxis\":{\"gridcolor\":\"white\",\"linecolor\":\"white\",\"ticks\":\"\",\"title\":{\"standoff\":15},\"zerolinecolor\":\"white\",\"automargin\":true,\"zerolinewidth\":2},\"scene\":{\"xaxis\":{\"backgroundcolor\":\"#E5ECF6\",\"gridcolor\":\"white\",\"linecolor\":\"white\",\"showbackground\":true,\"ticks\":\"\",\"zerolinecolor\":\"white\",\"gridwidth\":2},\"yaxis\":{\"backgroundcolor\":\"#E5ECF6\",\"gridcolor\":\"white\",\"linecolor\":\"white\",\"showbackground\":true,\"ticks\":\"\",\"zerolinecolor\":\"white\",\"gridwidth\":2},\"zaxis\":{\"backgroundcolor\":\"#E5ECF6\",\"gridcolor\":\"white\",\"linecolor\":\"white\",\"showbackground\":true,\"ticks\":\"\",\"zerolinecolor\":\"white\",\"gridwidth\":2}},\"shapedefaults\":{\"line\":{\"color\":\"#2a3f5f\"}},\"annotationdefaults\":{\"arrowcolor\":\"#2a3f5f\",\"arrowhead\":0,\"arrowwidth\":1},\"geo\":{\"bgcolor\":\"white\",\"landcolor\":\"#E5ECF6\",\"subunitcolor\":\"white\",\"showland\":true,\"showlakes\":true,\"lakecolor\":\"white\"},\"title\":{\"x\":0.05},\"mapbox\":{\"style\":\"light\"}}},\"yaxis\":{\"range\":[-0.1,0.4],\"showgrid\":true,\"zeroline\":true,\"tickcolor\":\"black\",\"gridcolor\":\"rgb(255, 255, 255)\",\"gridwidth\":1,\"zerolinecolor\":\"rgb(255, 255, 255)\",\"zerolinewidth\":2,\"title\":{\"text\":\"Correlations\"}},\"margin\":{\"l\":40,\"r\":30,\"b\":80,\"t\":100},\"title\":{\"text\":\"Dorsal-Dorsal\"},\"paper_bgcolor\":\"rgb(243, 243, 243)\",\"plot_bgcolor\":\"rgb(243, 243, 243)\",\"showlegend\":false},                        {\"responsive\": true}                    ).then(function(){\n",
       "                            \n",
       "var gd = document.getElementById('4c37af0d-4172-4e97-bdf0-c72d3782e82a');\n",
       "var x = new MutationObserver(function (mutations, observer) {{\n",
       "        var display = window.getComputedStyle(gd).display;\n",
       "        if (!display || display === 'none') {{\n",
       "            console.log([gd, 'removed!']);\n",
       "            Plotly.purge(gd);\n",
       "            observer.disconnect();\n",
       "        }}\n",
       "}});\n",
       "\n",
       "// Listen for the removal of the full notebook cells\n",
       "var notebookContainer = gd.closest('#notebook-container');\n",
       "if (notebookContainer) {{\n",
       "    x.observe(notebookContainer, {childList: true});\n",
       "}}\n",
       "\n",
       "// Listen for the clearing of the current output cell\n",
       "var outputEl = gd.closest('.output');\n",
       "if (outputEl) {{\n",
       "    x.observe(outputEl, {childList: true});\n",
       "}}\n",
       "\n",
       "                        })                };                });            </script>        </div>"
      ]
     },
     "metadata": {},
     "output_type": "display_data"
    }
   ],
   "source": [
    "plot_boxplots(options_fc_subs,'DD','#ff7f0e',tempfilt)"
   ]
  },
  {
   "cell_type": "markdown",
   "id": "f7fe3502",
   "metadata": {},
   "source": [
    "##  Within hemicords"
   ]
  },
  {
   "cell_type": "code",
   "execution_count": 234,
   "id": "092592d7",
   "metadata": {},
   "outputs": [
    {
     "data": {
      "application/vnd.plotly.v1+json": {
       "config": {
        "plotlyServerURL": "https://plot.ly"
       },
       "data": [
        {
         "boxpoints": "all",
         "fillcolor": "#e377c2",
         "line": {
          "width": 1
         },
         "marker": {
          "size": 5
         },
         "name": "0_baseline_stc",
         "type": "box",
         "whiskerwidth": 0.2,
         "y": [
          0.03037730374368387,
          0.056130093566144235,
          -0.017080814544242817,
          0.10373149314775523,
          0.1922453554020872,
          0.03376143217306696,
          0.06390049712825786,
          -0.0018336942553038528,
          0.16852950262303615,
          0.3007421334028029,
          0.033117486350575,
          0.008321106313714327,
          0.05273666632239094,
          0.06166796042557336,
          0.07610484293828769,
          0.04747520900013441,
          0.042460767715113014,
          0.027888634049351328,
          0.10444574674145003,
          0.1152679484160904,
          -0.0016474094023744214,
          0.045534398162261014,
          0.09072946499507181,
          0.020636021329180212
         ]
        },
        {
         "boxpoints": "all",
         "fillcolor": "#e377c2",
         "line": {
          "width": 1
         },
         "marker": {
          "size": 5
         },
         "name": "1_csf_csfonly_stc",
         "type": "box",
         "whiskerwidth": 0.2,
         "y": [
          0.015771678737100055,
          0.05192152849902401,
          -0.024388738799584225,
          0.10166388892538836,
          0.168660430632495,
          0.02608099083523209,
          0.035181391530660425,
          0.007929448605831113,
          0.058464269261061574,
          0.16772365484218862,
          0.0197360164143749,
          0.06278620109584085,
          0.001796973062401952,
          0.02459929016995626,
          0.03869711480894025,
          0.017501891443623067,
          0.04422188194680973,
          0.0046500208915619436,
          0.06721026905499025,
          0.0689669259722163,
          -0.02227515430571863,
          0.03516391895732923,
          0.06597103678972008,
          -0.02409735201641226
         ]
        },
        {
         "boxpoints": "all",
         "fillcolor": "#e377c2",
         "line": {
          "width": 1
         },
         "marker": {
          "size": 5
         },
         "name": "2_moco_stc",
         "type": "box",
         "whiskerwidth": 0.2,
         "y": [
          0.0008655363934580767,
          0.046788648241191985,
          -0.024351944268491993,
          0.07336262040783698,
          0.13471022982811792,
          0.025587808793104835,
          0.03430447335729837,
          -0.0007320202952799696,
          0.043079112710822084,
          0.13314753457034506,
          0.018481695129068058,
          0.04480123751097799,
          0.0012650512904617602,
          0.026765198769416538,
          0.024700184236543077,
          0.01694185070490081,
          0.03907864239026525,
          0.0013445204566944428,
          0.06184085576662278,
          0.06949546609318849,
          -0.017332911509155634,
          0.022578497339262694,
          0.05149549509295618,
          -0.030385019161792884
         ]
        },
        {
         "boxpoints": "all",
         "fillcolor": "#e377c2",
         "line": {
          "width": 1
         },
         "marker": {
          "size": 5
         },
         "name": "3_cc_stc",
         "type": "box",
         "whiskerwidth": 0.2,
         "y": [
          0.0026133407313896537,
          0.02307988877972671,
          -0.009156076113967649,
          0.0360980135138169,
          0.04549619421631887,
          -0.012968803444921684,
          0.021861620149267763,
          0.0068953202040157825,
          0.050139955765310884,
          0.038429273321499036,
          0.015991735341100724,
          0.00730344699640618,
          -0.0022827479511855747,
          -0.003436965338196556,
          -0.005381835488090941,
          0.014469306085668154,
          0.04487742061341231,
          -0.015162747515320306,
          0.05810220686902408,
          0.04161248694803018,
          -0.04115935368967546,
          0.017739479624220972,
          0.025842813912804755,
          -0.043141181722938016
         ]
        },
        {
         "boxpoints": "all",
         "fillcolor": "#e377c2",
         "line": {
          "width": 1
         },
         "marker": {
          "size": 5
         },
         "name": "4_moco_cc_stc",
         "type": "box",
         "whiskerwidth": 0.2,
         "y": [
          0.0030037121183952463,
          0.021346563153779495,
          -0.010056652416643464,
          0.02529277277336415,
          0.04464919470152491,
          -0.015866708201626348,
          0.021629686974639947,
          0.0019437454872320765,
          0.042495142158907276,
          0.03676708378329277,
          0.013915758182498355,
          0.0049080986566292385,
          -0.001836361914313427,
          -0.0028991527107150774,
          -0.010569009458447569,
          0.019269475096101663,
          0.04168440106371104,
          -0.01570398908609664,
          0.056244733799992175,
          0.04070967579393616,
          -0.046650378861880865,
          0.015013154557103335,
          0.025577868571877358,
          -0.04526811950934415
         ]
        },
        {
         "boxpoints": "all",
         "fillcolor": "#e377c2",
         "line": {
          "width": 1
         },
         "marker": {
          "size": 5
         },
         "name": "5_pnm_cardonly_stc",
         "type": "box",
         "whiskerwidth": 0.2,
         "y": [
          0.01746149333665084,
          0.04861148601642892,
          -0.019892217373039266,
          0.09106189393834216,
          0.1645129625679297,
          0.030893999581884348,
          0.03348270673902535,
          0.008747948962411458,
          0.05071652579897773,
          0.16754425688849278,
          0.02393542339672569,
          0.04480903597080549,
          0.0021716477277252347,
          0.021834478960377796,
          0.04512509004618154,
          0.0202360893683341,
          0.03730996119318191,
          -0.00012425616774424005,
          0.06358326747588296,
          0.06226838579974936,
          -0.015545094288890778,
          0.024307498924134363,
          0.07223457934981323,
          -0.017576959660705996
         ]
        },
        {
         "boxpoints": "all",
         "fillcolor": "#e377c2",
         "line": {
          "width": 1
         },
         "marker": {
          "size": 5
         },
         "name": "6_pnm_responly_stc",
         "type": "box",
         "whiskerwidth": 0.2,
         "y": [
          -0.009935003546582132,
          -0.0007366740407752531,
          -0.01627673388336469,
          0.027620485658813934,
          0.09489246796487347,
          0.006469966488441335,
          0.027295483929947177,
          0.000966769743881055,
          0.04116771477222387,
          0.08470429640978505,
          0.018219501743371648,
          0.003013401721265057,
          0.004155785538691252,
          -0.005358257184121501,
          0.03903768432470639,
          0.019252839013913364,
          0.04118687560429356,
          -0.010282857904491034,
          0.06801230134259827,
          0.029859171060329457,
          -0.04153024094171014,
          0.007859140741870533,
          0.054827335287593995,
          -0.044748903998620346
         ]
        },
        {
         "boxpoints": "all",
         "fillcolor": "#e377c2",
         "line": {
          "width": 1
         },
         "marker": {
          "size": 5
         },
         "name": "7_pnm_stc",
         "type": "box",
         "whiskerwidth": 0.2,
         "y": [
          -0.008762288090176321,
          0.0009007171709013848,
          -0.012647651080888927,
          0.014049868702716347,
          0.0887728874457617,
          0.01676058627390436,
          0.025053622932413585,
          -0.004504691224738037,
          0.03884418110593421,
          0.0819124115382292,
          0.014542484682858597,
          0.0010076085768969314,
          0.009355070737434069,
          -0.006306599646666546,
          0.04058078430567372,
          0.021381361690452388,
          0.03493927348281131,
          -0.014086632938663154,
          0.06361334966260292,
          0.02018249213681083,
          -0.048984886322566326,
          0.007830400113050293,
          0.0549499489607869,
          -0.03906246308014146
         ]
        },
        {
         "boxpoints": "all",
         "fillcolor": "#e377c2",
         "line": {
          "width": 1
         },
         "marker": {
          "size": 5
         },
         "name": "8_csf_pnm_stc",
         "type": "box",
         "whiskerwidth": 0.2,
         "y": [
          -0.009516461847038575,
          0.0027072707101371937,
          -0.016510810618313172,
          0.015984942771440996,
          0.09152880390156136,
          0.01032959970594544,
          0.025612693468031304,
          -0.003810673820464552,
          0.04052581525968059,
          0.079441391416379,
          0.01235811916547045,
          -0.002062126343774954,
          0.010781922119558187,
          -0.003362114695144594,
          0.033256004134708105,
          0.020687821103148638,
          0.03661449955888535,
          -0.012710589488174412,
          0.0637073004953024,
          0.015512880718101344,
          -0.04964331412868218,
          0.011394723254815152,
          0.043457227602052506,
          -0.0370147081420859
         ]
        },
        {
         "boxpoints": "all",
         "fillcolor": "#e377c2",
         "line": {
          "width": 1
         },
         "marker": {
          "size": 5
         },
         "name": "9_pnm_moco_stc",
         "type": "box",
         "whiskerwidth": 0.2,
         "y": [
          -0.008821547055213682,
          -2.4979977864475434e-05,
          -0.017892558203061862,
          0.005743489779382133,
          0.09042218230046573,
          0.011867969458263707,
          0.02614035388025366,
          -0.007117058928514678,
          0.03583749304099089,
          0.07225734543276022,
          0.012997383242007953,
          -0.0004212450205203673,
          0.009002237118299805,
          -0.00854710075377095,
          0.017235276550866117,
          0.022197021014433903,
          0.03364359156898233,
          -0.015127714127270993,
          0.06107960910634264,
          0.02010534133444771,
          -0.05246934407682899,
          0.0020317522444317894,
          0.0396755371264917,
          -0.042368106554003485
         ]
        },
        {
         "boxpoints": "all",
         "fillcolor": "#e377c2",
         "line": {
          "width": 1
         },
         "marker": {
          "size": 5
         },
         "name": "10_csf_pnm_moco_stc",
         "type": "box",
         "whiskerwidth": 0.2,
         "y": [
          -0.009588351051090833,
          0.0015582907524839922,
          -0.021109579858319086,
          0.0074724976545522265,
          0.09217936756800513,
          0.006358969273840717,
          0.02699184905363542,
          -0.006065313782666365,
          0.038031819960258166,
          0.06911035844661353,
          0.010734010067862312,
          -0.003395930935448054,
          0.010380135245272822,
          -0.006062645168787888,
          0.013272798202177222,
          0.021039935820574375,
          0.03585070189015048,
          -0.013536745287112698,
          0.060246706180778944,
          0.0152234705545172,
          -0.052643986739835294,
          0.005813239955187809,
          0.03335223223371999,
          -0.03996101705854433
         ]
        },
        {
         "boxpoints": "all",
         "fillcolor": "#e377c2",
         "line": {
          "width": 1
         },
         "marker": {
          "size": 5
         },
         "name": "11_csf_pnm_moco_cc_stc",
         "type": "box",
         "whiskerwidth": 0.2,
         "y": [
          -0.007350600256341324,
          -0.0051014879325650825,
          -0.009348099028125929,
          -0.0049338667873488565,
          0.03434322941017733,
          -0.01018383598293779,
          0.019821830590527497,
          -0.005956259465555472,
          0.0303013632840178,
          0.028076673923847988,
          0.00483207882107251,
          -0.007308872699939131,
          0.003634258174556426,
          -0.023644094851569267,
          -0.02195373508202705,
          0.019053779479525364,
          0.037995305987183356,
          -0.022211970382319746,
          0.05394169458188752,
          0.008867216671533869,
          -0.06276008120303524,
          0.007526851592756705,
          0.020041391564528072,
          -0.04153497946796421
         ]
        }
       ],
       "layout": {
        "margin": {
         "b": 80,
         "l": 40,
         "r": 30,
         "t": 100
        },
        "paper_bgcolor": "rgb(243, 243, 243)",
        "plot_bgcolor": "rgb(243, 243, 243)",
        "showlegend": false,
        "template": {
         "data": {
          "bar": [
           {
            "error_x": {
             "color": "#2a3f5f"
            },
            "error_y": {
             "color": "#2a3f5f"
            },
            "marker": {
             "line": {
              "color": "#E5ECF6",
              "width": 0.5
             },
             "pattern": {
              "fillmode": "overlay",
              "size": 10,
              "solidity": 0.2
             }
            },
            "type": "bar"
           }
          ],
          "barpolar": [
           {
            "marker": {
             "line": {
              "color": "#E5ECF6",
              "width": 0.5
             },
             "pattern": {
              "fillmode": "overlay",
              "size": 10,
              "solidity": 0.2
             }
            },
            "type": "barpolar"
           }
          ],
          "carpet": [
           {
            "aaxis": {
             "endlinecolor": "#2a3f5f",
             "gridcolor": "white",
             "linecolor": "white",
             "minorgridcolor": "white",
             "startlinecolor": "#2a3f5f"
            },
            "baxis": {
             "endlinecolor": "#2a3f5f",
             "gridcolor": "white",
             "linecolor": "white",
             "minorgridcolor": "white",
             "startlinecolor": "#2a3f5f"
            },
            "type": "carpet"
           }
          ],
          "choropleth": [
           {
            "colorbar": {
             "outlinewidth": 0,
             "ticks": ""
            },
            "type": "choropleth"
           }
          ],
          "contour": [
           {
            "colorbar": {
             "outlinewidth": 0,
             "ticks": ""
            },
            "colorscale": [
             [
              0,
              "#0d0887"
             ],
             [
              0.1111111111111111,
              "#46039f"
             ],
             [
              0.2222222222222222,
              "#7201a8"
             ],
             [
              0.3333333333333333,
              "#9c179e"
             ],
             [
              0.4444444444444444,
              "#bd3786"
             ],
             [
              0.5555555555555556,
              "#d8576b"
             ],
             [
              0.6666666666666666,
              "#ed7953"
             ],
             [
              0.7777777777777778,
              "#fb9f3a"
             ],
             [
              0.8888888888888888,
              "#fdca26"
             ],
             [
              1,
              "#f0f921"
             ]
            ],
            "type": "contour"
           }
          ],
          "contourcarpet": [
           {
            "colorbar": {
             "outlinewidth": 0,
             "ticks": ""
            },
            "type": "contourcarpet"
           }
          ],
          "heatmap": [
           {
            "colorbar": {
             "outlinewidth": 0,
             "ticks": ""
            },
            "colorscale": [
             [
              0,
              "#0d0887"
             ],
             [
              0.1111111111111111,
              "#46039f"
             ],
             [
              0.2222222222222222,
              "#7201a8"
             ],
             [
              0.3333333333333333,
              "#9c179e"
             ],
             [
              0.4444444444444444,
              "#bd3786"
             ],
             [
              0.5555555555555556,
              "#d8576b"
             ],
             [
              0.6666666666666666,
              "#ed7953"
             ],
             [
              0.7777777777777778,
              "#fb9f3a"
             ],
             [
              0.8888888888888888,
              "#fdca26"
             ],
             [
              1,
              "#f0f921"
             ]
            ],
            "type": "heatmap"
           }
          ],
          "heatmapgl": [
           {
            "colorbar": {
             "outlinewidth": 0,
             "ticks": ""
            },
            "colorscale": [
             [
              0,
              "#0d0887"
             ],
             [
              0.1111111111111111,
              "#46039f"
             ],
             [
              0.2222222222222222,
              "#7201a8"
             ],
             [
              0.3333333333333333,
              "#9c179e"
             ],
             [
              0.4444444444444444,
              "#bd3786"
             ],
             [
              0.5555555555555556,
              "#d8576b"
             ],
             [
              0.6666666666666666,
              "#ed7953"
             ],
             [
              0.7777777777777778,
              "#fb9f3a"
             ],
             [
              0.8888888888888888,
              "#fdca26"
             ],
             [
              1,
              "#f0f921"
             ]
            ],
            "type": "heatmapgl"
           }
          ],
          "histogram": [
           {
            "marker": {
             "pattern": {
              "fillmode": "overlay",
              "size": 10,
              "solidity": 0.2
             }
            },
            "type": "histogram"
           }
          ],
          "histogram2d": [
           {
            "colorbar": {
             "outlinewidth": 0,
             "ticks": ""
            },
            "colorscale": [
             [
              0,
              "#0d0887"
             ],
             [
              0.1111111111111111,
              "#46039f"
             ],
             [
              0.2222222222222222,
              "#7201a8"
             ],
             [
              0.3333333333333333,
              "#9c179e"
             ],
             [
              0.4444444444444444,
              "#bd3786"
             ],
             [
              0.5555555555555556,
              "#d8576b"
             ],
             [
              0.6666666666666666,
              "#ed7953"
             ],
             [
              0.7777777777777778,
              "#fb9f3a"
             ],
             [
              0.8888888888888888,
              "#fdca26"
             ],
             [
              1,
              "#f0f921"
             ]
            ],
            "type": "histogram2d"
           }
          ],
          "histogram2dcontour": [
           {
            "colorbar": {
             "outlinewidth": 0,
             "ticks": ""
            },
            "colorscale": [
             [
              0,
              "#0d0887"
             ],
             [
              0.1111111111111111,
              "#46039f"
             ],
             [
              0.2222222222222222,
              "#7201a8"
             ],
             [
              0.3333333333333333,
              "#9c179e"
             ],
             [
              0.4444444444444444,
              "#bd3786"
             ],
             [
              0.5555555555555556,
              "#d8576b"
             ],
             [
              0.6666666666666666,
              "#ed7953"
             ],
             [
              0.7777777777777778,
              "#fb9f3a"
             ],
             [
              0.8888888888888888,
              "#fdca26"
             ],
             [
              1,
              "#f0f921"
             ]
            ],
            "type": "histogram2dcontour"
           }
          ],
          "mesh3d": [
           {
            "colorbar": {
             "outlinewidth": 0,
             "ticks": ""
            },
            "type": "mesh3d"
           }
          ],
          "parcoords": [
           {
            "line": {
             "colorbar": {
              "outlinewidth": 0,
              "ticks": ""
             }
            },
            "type": "parcoords"
           }
          ],
          "pie": [
           {
            "automargin": true,
            "type": "pie"
           }
          ],
          "scatter": [
           {
            "fillpattern": {
             "fillmode": "overlay",
             "size": 10,
             "solidity": 0.2
            },
            "type": "scatter"
           }
          ],
          "scatter3d": [
           {
            "line": {
             "colorbar": {
              "outlinewidth": 0,
              "ticks": ""
             }
            },
            "marker": {
             "colorbar": {
              "outlinewidth": 0,
              "ticks": ""
             }
            },
            "type": "scatter3d"
           }
          ],
          "scattercarpet": [
           {
            "marker": {
             "colorbar": {
              "outlinewidth": 0,
              "ticks": ""
             }
            },
            "type": "scattercarpet"
           }
          ],
          "scattergeo": [
           {
            "marker": {
             "colorbar": {
              "outlinewidth": 0,
              "ticks": ""
             }
            },
            "type": "scattergeo"
           }
          ],
          "scattergl": [
           {
            "marker": {
             "colorbar": {
              "outlinewidth": 0,
              "ticks": ""
             }
            },
            "type": "scattergl"
           }
          ],
          "scattermapbox": [
           {
            "marker": {
             "colorbar": {
              "outlinewidth": 0,
              "ticks": ""
             }
            },
            "type": "scattermapbox"
           }
          ],
          "scatterpolar": [
           {
            "marker": {
             "colorbar": {
              "outlinewidth": 0,
              "ticks": ""
             }
            },
            "type": "scatterpolar"
           }
          ],
          "scatterpolargl": [
           {
            "marker": {
             "colorbar": {
              "outlinewidth": 0,
              "ticks": ""
             }
            },
            "type": "scatterpolargl"
           }
          ],
          "scatterternary": [
           {
            "marker": {
             "colorbar": {
              "outlinewidth": 0,
              "ticks": ""
             }
            },
            "type": "scatterternary"
           }
          ],
          "surface": [
           {
            "colorbar": {
             "outlinewidth": 0,
             "ticks": ""
            },
            "colorscale": [
             [
              0,
              "#0d0887"
             ],
             [
              0.1111111111111111,
              "#46039f"
             ],
             [
              0.2222222222222222,
              "#7201a8"
             ],
             [
              0.3333333333333333,
              "#9c179e"
             ],
             [
              0.4444444444444444,
              "#bd3786"
             ],
             [
              0.5555555555555556,
              "#d8576b"
             ],
             [
              0.6666666666666666,
              "#ed7953"
             ],
             [
              0.7777777777777778,
              "#fb9f3a"
             ],
             [
              0.8888888888888888,
              "#fdca26"
             ],
             [
              1,
              "#f0f921"
             ]
            ],
            "type": "surface"
           }
          ],
          "table": [
           {
            "cells": {
             "fill": {
              "color": "#EBF0F8"
             },
             "line": {
              "color": "white"
             }
            },
            "header": {
             "fill": {
              "color": "#C8D4E3"
             },
             "line": {
              "color": "white"
             }
            },
            "type": "table"
           }
          ]
         },
         "layout": {
          "annotationdefaults": {
           "arrowcolor": "#2a3f5f",
           "arrowhead": 0,
           "arrowwidth": 1
          },
          "autotypenumbers": "strict",
          "coloraxis": {
           "colorbar": {
            "outlinewidth": 0,
            "ticks": ""
           }
          },
          "colorscale": {
           "diverging": [
            [
             0,
             "#8e0152"
            ],
            [
             0.1,
             "#c51b7d"
            ],
            [
             0.2,
             "#de77ae"
            ],
            [
             0.3,
             "#f1b6da"
            ],
            [
             0.4,
             "#fde0ef"
            ],
            [
             0.5,
             "#f7f7f7"
            ],
            [
             0.6,
             "#e6f5d0"
            ],
            [
             0.7,
             "#b8e186"
            ],
            [
             0.8,
             "#7fbc41"
            ],
            [
             0.9,
             "#4d9221"
            ],
            [
             1,
             "#276419"
            ]
           ],
           "sequential": [
            [
             0,
             "#0d0887"
            ],
            [
             0.1111111111111111,
             "#46039f"
            ],
            [
             0.2222222222222222,
             "#7201a8"
            ],
            [
             0.3333333333333333,
             "#9c179e"
            ],
            [
             0.4444444444444444,
             "#bd3786"
            ],
            [
             0.5555555555555556,
             "#d8576b"
            ],
            [
             0.6666666666666666,
             "#ed7953"
            ],
            [
             0.7777777777777778,
             "#fb9f3a"
            ],
            [
             0.8888888888888888,
             "#fdca26"
            ],
            [
             1,
             "#f0f921"
            ]
           ],
           "sequentialminus": [
            [
             0,
             "#0d0887"
            ],
            [
             0.1111111111111111,
             "#46039f"
            ],
            [
             0.2222222222222222,
             "#7201a8"
            ],
            [
             0.3333333333333333,
             "#9c179e"
            ],
            [
             0.4444444444444444,
             "#bd3786"
            ],
            [
             0.5555555555555556,
             "#d8576b"
            ],
            [
             0.6666666666666666,
             "#ed7953"
            ],
            [
             0.7777777777777778,
             "#fb9f3a"
            ],
            [
             0.8888888888888888,
             "#fdca26"
            ],
            [
             1,
             "#f0f921"
            ]
           ]
          },
          "colorway": [
           "#636efa",
           "#EF553B",
           "#00cc96",
           "#ab63fa",
           "#FFA15A",
           "#19d3f3",
           "#FF6692",
           "#B6E880",
           "#FF97FF",
           "#FECB52"
          ],
          "font": {
           "color": "#2a3f5f"
          },
          "geo": {
           "bgcolor": "white",
           "lakecolor": "white",
           "landcolor": "#E5ECF6",
           "showlakes": true,
           "showland": true,
           "subunitcolor": "white"
          },
          "hoverlabel": {
           "align": "left"
          },
          "hovermode": "closest",
          "mapbox": {
           "style": "light"
          },
          "paper_bgcolor": "white",
          "plot_bgcolor": "#E5ECF6",
          "polar": {
           "angularaxis": {
            "gridcolor": "white",
            "linecolor": "white",
            "ticks": ""
           },
           "bgcolor": "#E5ECF6",
           "radialaxis": {
            "gridcolor": "white",
            "linecolor": "white",
            "ticks": ""
           }
          },
          "scene": {
           "xaxis": {
            "backgroundcolor": "#E5ECF6",
            "gridcolor": "white",
            "gridwidth": 2,
            "linecolor": "white",
            "showbackground": true,
            "ticks": "",
            "zerolinecolor": "white"
           },
           "yaxis": {
            "backgroundcolor": "#E5ECF6",
            "gridcolor": "white",
            "gridwidth": 2,
            "linecolor": "white",
            "showbackground": true,
            "ticks": "",
            "zerolinecolor": "white"
           },
           "zaxis": {
            "backgroundcolor": "#E5ECF6",
            "gridcolor": "white",
            "gridwidth": 2,
            "linecolor": "white",
            "showbackground": true,
            "ticks": "",
            "zerolinecolor": "white"
           }
          },
          "shapedefaults": {
           "line": {
            "color": "#2a3f5f"
           }
          },
          "ternary": {
           "aaxis": {
            "gridcolor": "white",
            "linecolor": "white",
            "ticks": ""
           },
           "baxis": {
            "gridcolor": "white",
            "linecolor": "white",
            "ticks": ""
           },
           "bgcolor": "#E5ECF6",
           "caxis": {
            "gridcolor": "white",
            "linecolor": "white",
            "ticks": ""
           }
          },
          "title": {
           "x": 0.05
          },
          "xaxis": {
           "automargin": true,
           "gridcolor": "white",
           "linecolor": "white",
           "ticks": "",
           "title": {
            "standoff": 15
           },
           "zerolinecolor": "white",
           "zerolinewidth": 2
          },
          "yaxis": {
           "automargin": true,
           "gridcolor": "white",
           "linecolor": "white",
           "ticks": "",
           "title": {
            "standoff": 15
           },
           "zerolinecolor": "white",
           "zerolinewidth": 2
          }
         }
        },
        "title": {
         "text": "Within Hemicords"
        },
        "yaxis": {
         "gridcolor": "rgb(255, 255, 255)",
         "gridwidth": 1,
         "range": [
          -0.1,
          0.4
         ],
         "showgrid": true,
         "tickcolor": "black",
         "title": {
          "text": "Correlations"
         },
         "zeroline": true,
         "zerolinecolor": "rgb(255, 255, 255)",
         "zerolinewidth": 2
        }
       }
      },
      "text/html": [
       "<div>                            <div id=\"47144ff1-d8fb-40ef-9bb3-37cd1f5c6b26\" class=\"plotly-graph-div\" style=\"height:525px; width:100%;\"></div>            <script type=\"text/javascript\">                require([\"plotly\"], function(Plotly) {                    window.PLOTLYENV=window.PLOTLYENV || {};                                    if (document.getElementById(\"47144ff1-d8fb-40ef-9bb3-37cd1f5c6b26\")) {                    Plotly.newPlot(                        \"47144ff1-d8fb-40ef-9bb3-37cd1f5c6b26\",                        [{\"boxpoints\":\"all\",\"fillcolor\":\"#e377c2\",\"line\":{\"width\":1},\"marker\":{\"size\":5},\"name\":\"0_baseline_stc\",\"whiskerwidth\":0.2,\"y\":[0.03037730374368387,0.056130093566144235,-0.017080814544242817,0.10373149314775523,0.1922453554020872,0.03376143217306696,0.06390049712825786,-0.0018336942553038528,0.16852950262303615,0.3007421334028029,0.033117486350575,0.008321106313714327,0.05273666632239094,0.06166796042557336,0.07610484293828769,0.04747520900013441,0.042460767715113014,0.027888634049351328,0.10444574674145003,0.1152679484160904,-0.0016474094023744214,0.045534398162261014,0.09072946499507181,0.020636021329180212],\"type\":\"box\"},{\"boxpoints\":\"all\",\"fillcolor\":\"#e377c2\",\"line\":{\"width\":1},\"marker\":{\"size\":5},\"name\":\"1_csf_csfonly_stc\",\"whiskerwidth\":0.2,\"y\":[0.015771678737100055,0.05192152849902401,-0.024388738799584225,0.10166388892538836,0.168660430632495,0.02608099083523209,0.035181391530660425,0.007929448605831113,0.058464269261061574,0.16772365484218862,0.0197360164143749,0.06278620109584085,0.001796973062401952,0.02459929016995626,0.03869711480894025,0.017501891443623067,0.04422188194680973,0.0046500208915619436,0.06721026905499025,0.0689669259722163,-0.02227515430571863,0.03516391895732923,0.06597103678972008,-0.02409735201641226],\"type\":\"box\"},{\"boxpoints\":\"all\",\"fillcolor\":\"#e377c2\",\"line\":{\"width\":1},\"marker\":{\"size\":5},\"name\":\"2_moco_stc\",\"whiskerwidth\":0.2,\"y\":[0.0008655363934580767,0.046788648241191985,-0.024351944268491993,0.07336262040783698,0.13471022982811792,0.025587808793104835,0.03430447335729837,-0.0007320202952799696,0.043079112710822084,0.13314753457034506,0.018481695129068058,0.04480123751097799,0.0012650512904617602,0.026765198769416538,0.024700184236543077,0.01694185070490081,0.03907864239026525,0.0013445204566944428,0.06184085576662278,0.06949546609318849,-0.017332911509155634,0.022578497339262694,0.05149549509295618,-0.030385019161792884],\"type\":\"box\"},{\"boxpoints\":\"all\",\"fillcolor\":\"#e377c2\",\"line\":{\"width\":1},\"marker\":{\"size\":5},\"name\":\"3_cc_stc\",\"whiskerwidth\":0.2,\"y\":[0.0026133407313896537,0.02307988877972671,-0.009156076113967649,0.0360980135138169,0.04549619421631887,-0.012968803444921684,0.021861620149267763,0.0068953202040157825,0.050139955765310884,0.038429273321499036,0.015991735341100724,0.00730344699640618,-0.0022827479511855747,-0.003436965338196556,-0.005381835488090941,0.014469306085668154,0.04487742061341231,-0.015162747515320306,0.05810220686902408,0.04161248694803018,-0.04115935368967546,0.017739479624220972,0.025842813912804755,-0.043141181722938016],\"type\":\"box\"},{\"boxpoints\":\"all\",\"fillcolor\":\"#e377c2\",\"line\":{\"width\":1},\"marker\":{\"size\":5},\"name\":\"4_moco_cc_stc\",\"whiskerwidth\":0.2,\"y\":[0.0030037121183952463,0.021346563153779495,-0.010056652416643464,0.02529277277336415,0.04464919470152491,-0.015866708201626348,0.021629686974639947,0.0019437454872320765,0.042495142158907276,0.03676708378329277,0.013915758182498355,0.0049080986566292385,-0.001836361914313427,-0.0028991527107150774,-0.010569009458447569,0.019269475096101663,0.04168440106371104,-0.01570398908609664,0.056244733799992175,0.04070967579393616,-0.046650378861880865,0.015013154557103335,0.025577868571877358,-0.04526811950934415],\"type\":\"box\"},{\"boxpoints\":\"all\",\"fillcolor\":\"#e377c2\",\"line\":{\"width\":1},\"marker\":{\"size\":5},\"name\":\"5_pnm_cardonly_stc\",\"whiskerwidth\":0.2,\"y\":[0.01746149333665084,0.04861148601642892,-0.019892217373039266,0.09106189393834216,0.1645129625679297,0.030893999581884348,0.03348270673902535,0.008747948962411458,0.05071652579897773,0.16754425688849278,0.02393542339672569,0.04480903597080549,0.0021716477277252347,0.021834478960377796,0.04512509004618154,0.0202360893683341,0.03730996119318191,-0.00012425616774424005,0.06358326747588296,0.06226838579974936,-0.015545094288890778,0.024307498924134363,0.07223457934981323,-0.017576959660705996],\"type\":\"box\"},{\"boxpoints\":\"all\",\"fillcolor\":\"#e377c2\",\"line\":{\"width\":1},\"marker\":{\"size\":5},\"name\":\"6_pnm_responly_stc\",\"whiskerwidth\":0.2,\"y\":[-0.009935003546582132,-0.0007366740407752531,-0.01627673388336469,0.027620485658813934,0.09489246796487347,0.006469966488441335,0.027295483929947177,0.000966769743881055,0.04116771477222387,0.08470429640978505,0.018219501743371648,0.003013401721265057,0.004155785538691252,-0.005358257184121501,0.03903768432470639,0.019252839013913364,0.04118687560429356,-0.010282857904491034,0.06801230134259827,0.029859171060329457,-0.04153024094171014,0.007859140741870533,0.054827335287593995,-0.044748903998620346],\"type\":\"box\"},{\"boxpoints\":\"all\",\"fillcolor\":\"#e377c2\",\"line\":{\"width\":1},\"marker\":{\"size\":5},\"name\":\"7_pnm_stc\",\"whiskerwidth\":0.2,\"y\":[-0.008762288090176321,0.0009007171709013848,-0.012647651080888927,0.014049868702716347,0.0887728874457617,0.01676058627390436,0.025053622932413585,-0.004504691224738037,0.03884418110593421,0.0819124115382292,0.014542484682858597,0.0010076085768969314,0.009355070737434069,-0.006306599646666546,0.04058078430567372,0.021381361690452388,0.03493927348281131,-0.014086632938663154,0.06361334966260292,0.02018249213681083,-0.048984886322566326,0.007830400113050293,0.0549499489607869,-0.03906246308014146],\"type\":\"box\"},{\"boxpoints\":\"all\",\"fillcolor\":\"#e377c2\",\"line\":{\"width\":1},\"marker\":{\"size\":5},\"name\":\"8_csf_pnm_stc\",\"whiskerwidth\":0.2,\"y\":[-0.009516461847038575,0.0027072707101371937,-0.016510810618313172,0.015984942771440996,0.09152880390156136,0.01032959970594544,0.025612693468031304,-0.003810673820464552,0.04052581525968059,0.079441391416379,0.01235811916547045,-0.002062126343774954,0.010781922119558187,-0.003362114695144594,0.033256004134708105,0.020687821103148638,0.03661449955888535,-0.012710589488174412,0.0637073004953024,0.015512880718101344,-0.04964331412868218,0.011394723254815152,0.043457227602052506,-0.0370147081420859],\"type\":\"box\"},{\"boxpoints\":\"all\",\"fillcolor\":\"#e377c2\",\"line\":{\"width\":1},\"marker\":{\"size\":5},\"name\":\"9_pnm_moco_stc\",\"whiskerwidth\":0.2,\"y\":[-0.008821547055213682,-2.4979977864475434e-05,-0.017892558203061862,0.005743489779382133,0.09042218230046573,0.011867969458263707,0.02614035388025366,-0.007117058928514678,0.03583749304099089,0.07225734543276022,0.012997383242007953,-0.0004212450205203673,0.009002237118299805,-0.00854710075377095,0.017235276550866117,0.022197021014433903,0.03364359156898233,-0.015127714127270993,0.06107960910634264,0.02010534133444771,-0.05246934407682899,0.0020317522444317894,0.0396755371264917,-0.042368106554003485],\"type\":\"box\"},{\"boxpoints\":\"all\",\"fillcolor\":\"#e377c2\",\"line\":{\"width\":1},\"marker\":{\"size\":5},\"name\":\"10_csf_pnm_moco_stc\",\"whiskerwidth\":0.2,\"y\":[-0.009588351051090833,0.0015582907524839922,-0.021109579858319086,0.0074724976545522265,0.09217936756800513,0.006358969273840717,0.02699184905363542,-0.006065313782666365,0.038031819960258166,0.06911035844661353,0.010734010067862312,-0.003395930935448054,0.010380135245272822,-0.006062645168787888,0.013272798202177222,0.021039935820574375,0.03585070189015048,-0.013536745287112698,0.060246706180778944,0.0152234705545172,-0.052643986739835294,0.005813239955187809,0.03335223223371999,-0.03996101705854433],\"type\":\"box\"},{\"boxpoints\":\"all\",\"fillcolor\":\"#e377c2\",\"line\":{\"width\":1},\"marker\":{\"size\":5},\"name\":\"11_csf_pnm_moco_cc_stc\",\"whiskerwidth\":0.2,\"y\":[-0.007350600256341324,-0.0051014879325650825,-0.009348099028125929,-0.0049338667873488565,0.03434322941017733,-0.01018383598293779,0.019821830590527497,-0.005956259465555472,0.0303013632840178,0.028076673923847988,0.00483207882107251,-0.007308872699939131,0.003634258174556426,-0.023644094851569267,-0.02195373508202705,0.019053779479525364,0.037995305987183356,-0.022211970382319746,0.05394169458188752,0.008867216671533869,-0.06276008120303524,0.007526851592756705,0.020041391564528072,-0.04153497946796421],\"type\":\"box\"}],                        {\"template\":{\"data\":{\"histogram2dcontour\":[{\"type\":\"histogram2dcontour\",\"colorbar\":{\"outlinewidth\":0,\"ticks\":\"\"},\"colorscale\":[[0.0,\"#0d0887\"],[0.1111111111111111,\"#46039f\"],[0.2222222222222222,\"#7201a8\"],[0.3333333333333333,\"#9c179e\"],[0.4444444444444444,\"#bd3786\"],[0.5555555555555556,\"#d8576b\"],[0.6666666666666666,\"#ed7953\"],[0.7777777777777778,\"#fb9f3a\"],[0.8888888888888888,\"#fdca26\"],[1.0,\"#f0f921\"]]}],\"choropleth\":[{\"type\":\"choropleth\",\"colorbar\":{\"outlinewidth\":0,\"ticks\":\"\"}}],\"histogram2d\":[{\"type\":\"histogram2d\",\"colorbar\":{\"outlinewidth\":0,\"ticks\":\"\"},\"colorscale\":[[0.0,\"#0d0887\"],[0.1111111111111111,\"#46039f\"],[0.2222222222222222,\"#7201a8\"],[0.3333333333333333,\"#9c179e\"],[0.4444444444444444,\"#bd3786\"],[0.5555555555555556,\"#d8576b\"],[0.6666666666666666,\"#ed7953\"],[0.7777777777777778,\"#fb9f3a\"],[0.8888888888888888,\"#fdca26\"],[1.0,\"#f0f921\"]]}],\"heatmap\":[{\"type\":\"heatmap\",\"colorbar\":{\"outlinewidth\":0,\"ticks\":\"\"},\"colorscale\":[[0.0,\"#0d0887\"],[0.1111111111111111,\"#46039f\"],[0.2222222222222222,\"#7201a8\"],[0.3333333333333333,\"#9c179e\"],[0.4444444444444444,\"#bd3786\"],[0.5555555555555556,\"#d8576b\"],[0.6666666666666666,\"#ed7953\"],[0.7777777777777778,\"#fb9f3a\"],[0.8888888888888888,\"#fdca26\"],[1.0,\"#f0f921\"]]}],\"heatmapgl\":[{\"type\":\"heatmapgl\",\"colorbar\":{\"outlinewidth\":0,\"ticks\":\"\"},\"colorscale\":[[0.0,\"#0d0887\"],[0.1111111111111111,\"#46039f\"],[0.2222222222222222,\"#7201a8\"],[0.3333333333333333,\"#9c179e\"],[0.4444444444444444,\"#bd3786\"],[0.5555555555555556,\"#d8576b\"],[0.6666666666666666,\"#ed7953\"],[0.7777777777777778,\"#fb9f3a\"],[0.8888888888888888,\"#fdca26\"],[1.0,\"#f0f921\"]]}],\"contourcarpet\":[{\"type\":\"contourcarpet\",\"colorbar\":{\"outlinewidth\":0,\"ticks\":\"\"}}],\"contour\":[{\"type\":\"contour\",\"colorbar\":{\"outlinewidth\":0,\"ticks\":\"\"},\"colorscale\":[[0.0,\"#0d0887\"],[0.1111111111111111,\"#46039f\"],[0.2222222222222222,\"#7201a8\"],[0.3333333333333333,\"#9c179e\"],[0.4444444444444444,\"#bd3786\"],[0.5555555555555556,\"#d8576b\"],[0.6666666666666666,\"#ed7953\"],[0.7777777777777778,\"#fb9f3a\"],[0.8888888888888888,\"#fdca26\"],[1.0,\"#f0f921\"]]}],\"surface\":[{\"type\":\"surface\",\"colorbar\":{\"outlinewidth\":0,\"ticks\":\"\"},\"colorscale\":[[0.0,\"#0d0887\"],[0.1111111111111111,\"#46039f\"],[0.2222222222222222,\"#7201a8\"],[0.3333333333333333,\"#9c179e\"],[0.4444444444444444,\"#bd3786\"],[0.5555555555555556,\"#d8576b\"],[0.6666666666666666,\"#ed7953\"],[0.7777777777777778,\"#fb9f3a\"],[0.8888888888888888,\"#fdca26\"],[1.0,\"#f0f921\"]]}],\"mesh3d\":[{\"type\":\"mesh3d\",\"colorbar\":{\"outlinewidth\":0,\"ticks\":\"\"}}],\"scatter\":[{\"fillpattern\":{\"fillmode\":\"overlay\",\"size\":10,\"solidity\":0.2},\"type\":\"scatter\"}],\"parcoords\":[{\"type\":\"parcoords\",\"line\":{\"colorbar\":{\"outlinewidth\":0,\"ticks\":\"\"}}}],\"scatterpolargl\":[{\"type\":\"scatterpolargl\",\"marker\":{\"colorbar\":{\"outlinewidth\":0,\"ticks\":\"\"}}}],\"bar\":[{\"error_x\":{\"color\":\"#2a3f5f\"},\"error_y\":{\"color\":\"#2a3f5f\"},\"marker\":{\"line\":{\"color\":\"#E5ECF6\",\"width\":0.5},\"pattern\":{\"fillmode\":\"overlay\",\"size\":10,\"solidity\":0.2}},\"type\":\"bar\"}],\"scattergeo\":[{\"type\":\"scattergeo\",\"marker\":{\"colorbar\":{\"outlinewidth\":0,\"ticks\":\"\"}}}],\"scatterpolar\":[{\"type\":\"scatterpolar\",\"marker\":{\"colorbar\":{\"outlinewidth\":0,\"ticks\":\"\"}}}],\"histogram\":[{\"marker\":{\"pattern\":{\"fillmode\":\"overlay\",\"size\":10,\"solidity\":0.2}},\"type\":\"histogram\"}],\"scattergl\":[{\"type\":\"scattergl\",\"marker\":{\"colorbar\":{\"outlinewidth\":0,\"ticks\":\"\"}}}],\"scatter3d\":[{\"type\":\"scatter3d\",\"line\":{\"colorbar\":{\"outlinewidth\":0,\"ticks\":\"\"}},\"marker\":{\"colorbar\":{\"outlinewidth\":0,\"ticks\":\"\"}}}],\"scattermapbox\":[{\"type\":\"scattermapbox\",\"marker\":{\"colorbar\":{\"outlinewidth\":0,\"ticks\":\"\"}}}],\"scatterternary\":[{\"type\":\"scatterternary\",\"marker\":{\"colorbar\":{\"outlinewidth\":0,\"ticks\":\"\"}}}],\"scattercarpet\":[{\"type\":\"scattercarpet\",\"marker\":{\"colorbar\":{\"outlinewidth\":0,\"ticks\":\"\"}}}],\"carpet\":[{\"aaxis\":{\"endlinecolor\":\"#2a3f5f\",\"gridcolor\":\"white\",\"linecolor\":\"white\",\"minorgridcolor\":\"white\",\"startlinecolor\":\"#2a3f5f\"},\"baxis\":{\"endlinecolor\":\"#2a3f5f\",\"gridcolor\":\"white\",\"linecolor\":\"white\",\"minorgridcolor\":\"white\",\"startlinecolor\":\"#2a3f5f\"},\"type\":\"carpet\"}],\"table\":[{\"cells\":{\"fill\":{\"color\":\"#EBF0F8\"},\"line\":{\"color\":\"white\"}},\"header\":{\"fill\":{\"color\":\"#C8D4E3\"},\"line\":{\"color\":\"white\"}},\"type\":\"table\"}],\"barpolar\":[{\"marker\":{\"line\":{\"color\":\"#E5ECF6\",\"width\":0.5},\"pattern\":{\"fillmode\":\"overlay\",\"size\":10,\"solidity\":0.2}},\"type\":\"barpolar\"}],\"pie\":[{\"automargin\":true,\"type\":\"pie\"}]},\"layout\":{\"autotypenumbers\":\"strict\",\"colorway\":[\"#636efa\",\"#EF553B\",\"#00cc96\",\"#ab63fa\",\"#FFA15A\",\"#19d3f3\",\"#FF6692\",\"#B6E880\",\"#FF97FF\",\"#FECB52\"],\"font\":{\"color\":\"#2a3f5f\"},\"hovermode\":\"closest\",\"hoverlabel\":{\"align\":\"left\"},\"paper_bgcolor\":\"white\",\"plot_bgcolor\":\"#E5ECF6\",\"polar\":{\"bgcolor\":\"#E5ECF6\",\"angularaxis\":{\"gridcolor\":\"white\",\"linecolor\":\"white\",\"ticks\":\"\"},\"radialaxis\":{\"gridcolor\":\"white\",\"linecolor\":\"white\",\"ticks\":\"\"}},\"ternary\":{\"bgcolor\":\"#E5ECF6\",\"aaxis\":{\"gridcolor\":\"white\",\"linecolor\":\"white\",\"ticks\":\"\"},\"baxis\":{\"gridcolor\":\"white\",\"linecolor\":\"white\",\"ticks\":\"\"},\"caxis\":{\"gridcolor\":\"white\",\"linecolor\":\"white\",\"ticks\":\"\"}},\"coloraxis\":{\"colorbar\":{\"outlinewidth\":0,\"ticks\":\"\"}},\"colorscale\":{\"sequential\":[[0.0,\"#0d0887\"],[0.1111111111111111,\"#46039f\"],[0.2222222222222222,\"#7201a8\"],[0.3333333333333333,\"#9c179e\"],[0.4444444444444444,\"#bd3786\"],[0.5555555555555556,\"#d8576b\"],[0.6666666666666666,\"#ed7953\"],[0.7777777777777778,\"#fb9f3a\"],[0.8888888888888888,\"#fdca26\"],[1.0,\"#f0f921\"]],\"sequentialminus\":[[0.0,\"#0d0887\"],[0.1111111111111111,\"#46039f\"],[0.2222222222222222,\"#7201a8\"],[0.3333333333333333,\"#9c179e\"],[0.4444444444444444,\"#bd3786\"],[0.5555555555555556,\"#d8576b\"],[0.6666666666666666,\"#ed7953\"],[0.7777777777777778,\"#fb9f3a\"],[0.8888888888888888,\"#fdca26\"],[1.0,\"#f0f921\"]],\"diverging\":[[0,\"#8e0152\"],[0.1,\"#c51b7d\"],[0.2,\"#de77ae\"],[0.3,\"#f1b6da\"],[0.4,\"#fde0ef\"],[0.5,\"#f7f7f7\"],[0.6,\"#e6f5d0\"],[0.7,\"#b8e186\"],[0.8,\"#7fbc41\"],[0.9,\"#4d9221\"],[1,\"#276419\"]]},\"xaxis\":{\"gridcolor\":\"white\",\"linecolor\":\"white\",\"ticks\":\"\",\"title\":{\"standoff\":15},\"zerolinecolor\":\"white\",\"automargin\":true,\"zerolinewidth\":2},\"yaxis\":{\"gridcolor\":\"white\",\"linecolor\":\"white\",\"ticks\":\"\",\"title\":{\"standoff\":15},\"zerolinecolor\":\"white\",\"automargin\":true,\"zerolinewidth\":2},\"scene\":{\"xaxis\":{\"backgroundcolor\":\"#E5ECF6\",\"gridcolor\":\"white\",\"linecolor\":\"white\",\"showbackground\":true,\"ticks\":\"\",\"zerolinecolor\":\"white\",\"gridwidth\":2},\"yaxis\":{\"backgroundcolor\":\"#E5ECF6\",\"gridcolor\":\"white\",\"linecolor\":\"white\",\"showbackground\":true,\"ticks\":\"\",\"zerolinecolor\":\"white\",\"gridwidth\":2},\"zaxis\":{\"backgroundcolor\":\"#E5ECF6\",\"gridcolor\":\"white\",\"linecolor\":\"white\",\"showbackground\":true,\"ticks\":\"\",\"zerolinecolor\":\"white\",\"gridwidth\":2}},\"shapedefaults\":{\"line\":{\"color\":\"#2a3f5f\"}},\"annotationdefaults\":{\"arrowcolor\":\"#2a3f5f\",\"arrowhead\":0,\"arrowwidth\":1},\"geo\":{\"bgcolor\":\"white\",\"landcolor\":\"#E5ECF6\",\"subunitcolor\":\"white\",\"showland\":true,\"showlakes\":true,\"lakecolor\":\"white\"},\"title\":{\"x\":0.05},\"mapbox\":{\"style\":\"light\"}}},\"yaxis\":{\"range\":[-0.1,0.4],\"showgrid\":true,\"zeroline\":true,\"tickcolor\":\"black\",\"gridcolor\":\"rgb(255, 255, 255)\",\"gridwidth\":1,\"zerolinecolor\":\"rgb(255, 255, 255)\",\"zerolinewidth\":2,\"title\":{\"text\":\"Correlations\"}},\"margin\":{\"l\":40,\"r\":30,\"b\":80,\"t\":100},\"title\":{\"text\":\"Within Hemicords\"},\"paper_bgcolor\":\"rgb(243, 243, 243)\",\"plot_bgcolor\":\"rgb(243, 243, 243)\",\"showlegend\":false},                        {\"responsive\": true}                    ).then(function(){\n",
       "                            \n",
       "var gd = document.getElementById('47144ff1-d8fb-40ef-9bb3-37cd1f5c6b26');\n",
       "var x = new MutationObserver(function (mutations, observer) {{\n",
       "        var display = window.getComputedStyle(gd).display;\n",
       "        if (!display || display === 'none') {{\n",
       "            console.log([gd, 'removed!']);\n",
       "            Plotly.purge(gd);\n",
       "            observer.disconnect();\n",
       "        }}\n",
       "}});\n",
       "\n",
       "// Listen for the removal of the full notebook cells\n",
       "var notebookContainer = gd.closest('#notebook-container');\n",
       "if (notebookContainer) {{\n",
       "    x.observe(notebookContainer, {childList: true});\n",
       "}}\n",
       "\n",
       "// Listen for the clearing of the current output cell\n",
       "var outputEl = gd.closest('.output');\n",
       "if (outputEl) {{\n",
       "    x.observe(outputEl, {childList: true});\n",
       "}}\n",
       "\n",
       "                        })                };                });            </script>        </div>"
      ]
     },
     "metadata": {},
     "output_type": "display_data"
    }
   ],
   "source": [
    "plot_boxplots(options_fc_subs,'W','#e377c2',tempfilt)"
   ]
  },
  {
   "cell_type": "markdown",
   "id": "00958101",
   "metadata": {},
   "source": [
    "## Between hemicords "
   ]
  },
  {
   "cell_type": "code",
   "execution_count": 235,
   "id": "e94ef21b",
   "metadata": {
    "scrolled": false
   },
   "outputs": [
    {
     "data": {
      "application/vnd.plotly.v1+json": {
       "config": {
        "plotlyServerURL": "https://plot.ly"
       },
       "data": [
        {
         "boxpoints": "all",
         "fillcolor": "yellow",
         "line": {
          "width": 1
         },
         "marker": {
          "size": 5
         },
         "name": "0_baseline_stc",
         "type": "box",
         "whiskerwidth": 0.2,
         "y": [
          0.04819809329816211,
          0.093504567700537,
          0.011528646512853175,
          0.12226708044702346,
          0.21277949023531728,
          0.046286154315866766,
          0.051201458118326854,
          5.1436298516926646e-05,
          0.04069227191493481,
          0.3038380999252537,
          0.06371042192993409,
          0.05470524946797653,
          0.09476221649434483,
          0.06483516172002166,
          0.0981271345746605,
          0.06676462284528954,
          0.01090617981723584,
          0.0440798911275484,
          0.11095015009714981,
          0.07242890177247885,
          0.04972027788516781,
          -0.0060581964943463955,
          0.09087522308818333,
          0.02524904732427279
         ]
        },
        {
         "boxpoints": "all",
         "fillcolor": "yellow",
         "line": {
          "width": 1
         },
         "marker": {
          "size": 5
         },
         "name": "1_csf_csfonly_stc",
         "type": "box",
         "whiskerwidth": 0.2,
         "y": [
          0.032989996246508176,
          0.08627216246275266,
          0.025131078395358435,
          0.11810905342149355,
          0.20314076901061803,
          0.04073545529089054,
          0.00563383123629619,
          0.014653235364845965,
          0.01306989989254357,
          0.16874368529714773,
          0.05730049409154356,
          0.055702596303144725,
          0.034319582766417,
          0.06425385992486847,
          0.0667608188528818,
          0.050738036684476795,
          0.014246329251469082,
          0.035921315846921056,
          0.07008734224464455,
          0.050851769776959044,
          0.021278841475323926,
          0.03708066289107608,
          0.08400042820117096,
          0.010687534976912261
         ]
        },
        {
         "boxpoints": "all",
         "fillcolor": "yellow",
         "line": {
          "width": 1
         },
         "marker": {
          "size": 5
         },
         "name": "2_moco_stc",
         "type": "box",
         "whiskerwidth": 0.2,
         "y": [
          0.01994535690744871,
          0.08189509124323577,
          0.02919400635142383,
          0.09480573083754755,
          0.16935562438174212,
          0.04177772369837318,
          0.0057759249972701085,
          0.013056801877337074,
          0.036991720358306,
          0.13261323499743982,
          0.05865287985236132,
          0.08752729859995492,
          0.027348624492361563,
          0.061690684261057775,
          0.05602998153671521,
          0.040813538963258886,
          0.00833560342232178,
          0.030136620026603597,
          0.06586019153406171,
          0.05123942966264332,
          0.032331905231925716,
          0.03248532876516419,
          0.06956497616246876,
          0.01547651879872396
         ]
        },
        {
         "boxpoints": "all",
         "fillcolor": "yellow",
         "line": {
          "width": 1
         },
         "marker": {
          "size": 5
         },
         "name": "3_cc_stc",
         "type": "box",
         "whiskerwidth": 0.2,
         "y": [
          0.0314323009338716,
          0.05960928008041697,
          0.0254130916070202,
          0.057992169672823515,
          0.09291435950917343,
          0.019570549459327683,
          -0.006679621155958297,
          0.01832802040173577,
          0.031518333743007707,
          0.045125380287347895,
          0.05631645681506657,
          0.0525761823090182,
          0.03222309299263437,
          0.041397227863727404,
          0.03239926497304308,
          0.03603972766667501,
          0.014999040175375055,
          0.01633247578562553,
          0.0668245813267384,
          0.04248277257864909,
          0.005484470945452284,
          0.031580548814302875,
          0.04273163045660764,
          0.009685276677547079
         ]
        },
        {
         "boxpoints": "all",
         "fillcolor": "yellow",
         "line": {
          "width": 1
         },
         "marker": {
          "size": 5
         },
         "name": "4_moco_cc_stc",
         "type": "box",
         "whiskerwidth": 0.2,
         "y": [
          0.029174185990001593,
          0.05872771363982357,
          0.025100058990509308,
          0.05394365589748244,
          0.08701682797648193,
          0.020600697430195474,
          -0.005886505547696194,
          0.018214428356503966,
          0.03441095159269446,
          0.04085085323384659,
          0.05607786249792762,
          0.04965917838153171,
          0.0258925973565099,
          0.03765635803902942,
          0.029083365904734447,
          0.03557348937035603,
          0.009268858785157107,
          0.013728378076209195,
          0.06435203719856057,
          0.04203535194856026,
          0.0068807984418281344,
          0.03513053746135656,
          0.04377081751176219,
          0.01193172975814736
         ]
        },
        {
         "boxpoints": "all",
         "fillcolor": "yellow",
         "line": {
          "width": 1
         },
         "marker": {
          "size": 5
         },
         "name": "5_pnm_cardonly_stc",
         "type": "box",
         "whiskerwidth": 0.2,
         "y": [
          0.037480708571971166,
          0.0850735932409119,
          0.025383292269027337,
          0.11152053162342285,
          0.20077412987832696,
          0.045125336798669084,
          0.0011855554002424794,
          0.013043295641585698,
          0.005229452619470127,
          0.17220080914896055,
          0.05898753096943864,
          0.08585936002583419,
          0.027320636973613338,
          0.06601059048643657,
          0.07022837344181496,
          0.051137041146389825,
          0.0069977101617021385,
          0.032669566763233675,
          0.06889655857395198,
          0.051396512877360356,
          0.03016485943981356,
          0.03320023486218804,
          0.09062896835924134,
          0.008787458044436404
         ]
        },
        {
         "boxpoints": "all",
         "fillcolor": "yellow",
         "line": {
          "width": 1
         },
         "marker": {
          "size": 5
         },
         "name": "6_pnm_responly_stc",
         "type": "box",
         "whiskerwidth": 0.2,
         "y": [
          0.022107602984147927,
          0.03420558517057273,
          0.020915151345974853,
          0.05438235175040207,
          0.13889241225887367,
          0.03131934797757482,
          -0.002541888159290226,
          0.01356369802283365,
          0.04278367923706029,
          0.08734318161532803,
          0.05896578438930676,
          0.04167570739966029,
          0.0344272263417633,
          0.04245179839896622,
          0.0731659244754585,
          0.03511710482441452,
          0.014415508615214519,
          0.02693112360340396,
          0.07003918461289677,
          0.02728545495792286,
          0.007583440036988454,
          0.021735941321333847,
          0.07520954266069924,
          0.0016340276120909642
         ]
        },
        {
         "boxpoints": "all",
         "fillcolor": "yellow",
         "line": {
          "width": 1
         },
         "marker": {
          "size": 5
         },
         "name": "7_pnm_stc",
         "type": "box",
         "whiskerwidth": 0.2,
         "y": [
          0.027628357294273948,
          0.03701181594822313,
          0.019570937774267057,
          0.0444647107587421,
          0.1325813393241202,
          0.035958263387228434,
          -0.005485535834497423,
          0.01250193069672309,
          0.040425605301011816,
          0.08458583101952472,
          0.06456168402467272,
          0.03299455837288521,
          0.034632460283990085,
          0.049389535420146194,
          0.07794866247344491,
          0.034710723163176686,
          0.0063622213002721755,
          0.02395113790943493,
          0.06407131594974408,
          0.031924061733995104,
          0.008158681921307457,
          0.03744386270801149,
          0.07696743023241537,
          0.001462869195872055
         ]
        },
        {
         "boxpoints": "all",
         "fillcolor": "yellow",
         "line": {
          "width": 1
         },
         "marker": {
          "size": 5
         },
         "name": "8_csf_pnm_stc",
         "type": "box",
         "whiskerwidth": 0.2,
         "y": [
          0.02609856212239243,
          0.03829971071648584,
          0.019883245581218553,
          0.043994988031698046,
          0.13371240735291287,
          0.03167932146577446,
          -0.004136391045963573,
          0.013197963801572857,
          0.03864907182269488,
          0.07996544553592526,
          0.06234880514224481,
          0.03401623383664346,
          0.035388509570105,
          0.0505096633733431,
          0.0741422375582881,
          0.03547870088209098,
          0.006310088596348653,
          0.024860175124484726,
          0.06206004874304774,
          0.0313969373410845,
          0.009336096389705183,
          0.03904181913581109,
          0.0660770418883587,
          0.003583287260810784
         ]
        },
        {
         "boxpoints": "all",
         "fillcolor": "yellow",
         "line": {
          "width": 1
         },
         "marker": {
          "size": 5
         },
         "name": "9_pnm_moco_stc",
         "type": "box",
         "whiskerwidth": 0.2,
         "y": [
          0.025690071486357647,
          0.03538733199239712,
          0.024426696394551785,
          0.043890446693751695,
          0.13118921377106166,
          0.03380152043823651,
          -0.005165440554729211,
          0.010237174359655554,
          0.04356640705670523,
          0.06665455182779371,
          0.06183907182968623,
          0.030923647071380234,
          0.028802717339892717,
          0.04341742614195457,
          0.06102511204083332,
          0.03493967705425146,
          0.001215527517069191,
          0.02181646801026947,
          0.06318250289925127,
          0.035080239579856475,
          0.01007597463365574,
          0.04061124503628446,
          0.061605347898772006,
          0.004547413534663529
         ]
        },
        {
         "boxpoints": "all",
         "fillcolor": "yellow",
         "line": {
          "width": 1
         },
         "marker": {
          "size": 5
         },
         "name": "10_csf_pnm_moco_stc",
         "type": "box",
         "whiskerwidth": 0.2,
         "y": [
          0.02451897167047398,
          0.03696363840645446,
          0.024582240314012745,
          0.043315477204388414,
          0.13301852477086806,
          0.029749103170532188,
          -0.0033502658144222708,
          0.010646298628223597,
          0.041786177962622906,
          0.06208611876327151,
          0.05966359200954564,
          0.0320938457426043,
          0.030147401875764146,
          0.04385561491437198,
          0.060011630333371806,
          0.03533816368076748,
          0.0019249300295270998,
          0.023158183613698896,
          0.0607460645217356,
          0.03477205802053389,
          0.011460664251722099,
          0.042488145176988665,
          0.05604185681956164,
          0.006657317580110016
         ]
        },
        {
         "boxpoints": "all",
         "fillcolor": "yellow",
         "line": {
          "width": 1
         },
         "marker": {
          "size": 5
         },
         "name": "11_csf_pnm_moco_cc_stc",
         "type": "box",
         "whiskerwidth": 0.2,
         "y": [
          0.02580558214363584,
          0.031313806856655496,
          0.019630386550452402,
          0.037590847006387935,
          0.08008591562759385,
          0.024459121383233657,
          -0.008074471860393916,
          0.01279457239519768,
          0.041863209088022116,
          0.027685415809070586,
          0.05262549433191789,
          0.028487437538273878,
          0.03016830212683555,
          0.03534545124818898,
          0.02895122849157169,
          0.031551777169410856,
          -1.3186149957473871e-05,
          0.011264155802940113,
          0.05652411280039392,
          0.029453061512374378,
          0.00785392713904768,
          0.046042979168411075,
          0.037814002573078404,
          0.004945386456386256
         ]
        }
       ],
       "layout": {
        "margin": {
         "b": 80,
         "l": 40,
         "r": 30,
         "t": 100
        },
        "paper_bgcolor": "rgb(243, 243, 243)",
        "plot_bgcolor": "rgb(243, 243, 243)",
        "showlegend": false,
        "template": {
         "data": {
          "bar": [
           {
            "error_x": {
             "color": "#2a3f5f"
            },
            "error_y": {
             "color": "#2a3f5f"
            },
            "marker": {
             "line": {
              "color": "#E5ECF6",
              "width": 0.5
             },
             "pattern": {
              "fillmode": "overlay",
              "size": 10,
              "solidity": 0.2
             }
            },
            "type": "bar"
           }
          ],
          "barpolar": [
           {
            "marker": {
             "line": {
              "color": "#E5ECF6",
              "width": 0.5
             },
             "pattern": {
              "fillmode": "overlay",
              "size": 10,
              "solidity": 0.2
             }
            },
            "type": "barpolar"
           }
          ],
          "carpet": [
           {
            "aaxis": {
             "endlinecolor": "#2a3f5f",
             "gridcolor": "white",
             "linecolor": "white",
             "minorgridcolor": "white",
             "startlinecolor": "#2a3f5f"
            },
            "baxis": {
             "endlinecolor": "#2a3f5f",
             "gridcolor": "white",
             "linecolor": "white",
             "minorgridcolor": "white",
             "startlinecolor": "#2a3f5f"
            },
            "type": "carpet"
           }
          ],
          "choropleth": [
           {
            "colorbar": {
             "outlinewidth": 0,
             "ticks": ""
            },
            "type": "choropleth"
           }
          ],
          "contour": [
           {
            "colorbar": {
             "outlinewidth": 0,
             "ticks": ""
            },
            "colorscale": [
             [
              0,
              "#0d0887"
             ],
             [
              0.1111111111111111,
              "#46039f"
             ],
             [
              0.2222222222222222,
              "#7201a8"
             ],
             [
              0.3333333333333333,
              "#9c179e"
             ],
             [
              0.4444444444444444,
              "#bd3786"
             ],
             [
              0.5555555555555556,
              "#d8576b"
             ],
             [
              0.6666666666666666,
              "#ed7953"
             ],
             [
              0.7777777777777778,
              "#fb9f3a"
             ],
             [
              0.8888888888888888,
              "#fdca26"
             ],
             [
              1,
              "#f0f921"
             ]
            ],
            "type": "contour"
           }
          ],
          "contourcarpet": [
           {
            "colorbar": {
             "outlinewidth": 0,
             "ticks": ""
            },
            "type": "contourcarpet"
           }
          ],
          "heatmap": [
           {
            "colorbar": {
             "outlinewidth": 0,
             "ticks": ""
            },
            "colorscale": [
             [
              0,
              "#0d0887"
             ],
             [
              0.1111111111111111,
              "#46039f"
             ],
             [
              0.2222222222222222,
              "#7201a8"
             ],
             [
              0.3333333333333333,
              "#9c179e"
             ],
             [
              0.4444444444444444,
              "#bd3786"
             ],
             [
              0.5555555555555556,
              "#d8576b"
             ],
             [
              0.6666666666666666,
              "#ed7953"
             ],
             [
              0.7777777777777778,
              "#fb9f3a"
             ],
             [
              0.8888888888888888,
              "#fdca26"
             ],
             [
              1,
              "#f0f921"
             ]
            ],
            "type": "heatmap"
           }
          ],
          "heatmapgl": [
           {
            "colorbar": {
             "outlinewidth": 0,
             "ticks": ""
            },
            "colorscale": [
             [
              0,
              "#0d0887"
             ],
             [
              0.1111111111111111,
              "#46039f"
             ],
             [
              0.2222222222222222,
              "#7201a8"
             ],
             [
              0.3333333333333333,
              "#9c179e"
             ],
             [
              0.4444444444444444,
              "#bd3786"
             ],
             [
              0.5555555555555556,
              "#d8576b"
             ],
             [
              0.6666666666666666,
              "#ed7953"
             ],
             [
              0.7777777777777778,
              "#fb9f3a"
             ],
             [
              0.8888888888888888,
              "#fdca26"
             ],
             [
              1,
              "#f0f921"
             ]
            ],
            "type": "heatmapgl"
           }
          ],
          "histogram": [
           {
            "marker": {
             "pattern": {
              "fillmode": "overlay",
              "size": 10,
              "solidity": 0.2
             }
            },
            "type": "histogram"
           }
          ],
          "histogram2d": [
           {
            "colorbar": {
             "outlinewidth": 0,
             "ticks": ""
            },
            "colorscale": [
             [
              0,
              "#0d0887"
             ],
             [
              0.1111111111111111,
              "#46039f"
             ],
             [
              0.2222222222222222,
              "#7201a8"
             ],
             [
              0.3333333333333333,
              "#9c179e"
             ],
             [
              0.4444444444444444,
              "#bd3786"
             ],
             [
              0.5555555555555556,
              "#d8576b"
             ],
             [
              0.6666666666666666,
              "#ed7953"
             ],
             [
              0.7777777777777778,
              "#fb9f3a"
             ],
             [
              0.8888888888888888,
              "#fdca26"
             ],
             [
              1,
              "#f0f921"
             ]
            ],
            "type": "histogram2d"
           }
          ],
          "histogram2dcontour": [
           {
            "colorbar": {
             "outlinewidth": 0,
             "ticks": ""
            },
            "colorscale": [
             [
              0,
              "#0d0887"
             ],
             [
              0.1111111111111111,
              "#46039f"
             ],
             [
              0.2222222222222222,
              "#7201a8"
             ],
             [
              0.3333333333333333,
              "#9c179e"
             ],
             [
              0.4444444444444444,
              "#bd3786"
             ],
             [
              0.5555555555555556,
              "#d8576b"
             ],
             [
              0.6666666666666666,
              "#ed7953"
             ],
             [
              0.7777777777777778,
              "#fb9f3a"
             ],
             [
              0.8888888888888888,
              "#fdca26"
             ],
             [
              1,
              "#f0f921"
             ]
            ],
            "type": "histogram2dcontour"
           }
          ],
          "mesh3d": [
           {
            "colorbar": {
             "outlinewidth": 0,
             "ticks": ""
            },
            "type": "mesh3d"
           }
          ],
          "parcoords": [
           {
            "line": {
             "colorbar": {
              "outlinewidth": 0,
              "ticks": ""
             }
            },
            "type": "parcoords"
           }
          ],
          "pie": [
           {
            "automargin": true,
            "type": "pie"
           }
          ],
          "scatter": [
           {
            "fillpattern": {
             "fillmode": "overlay",
             "size": 10,
             "solidity": 0.2
            },
            "type": "scatter"
           }
          ],
          "scatter3d": [
           {
            "line": {
             "colorbar": {
              "outlinewidth": 0,
              "ticks": ""
             }
            },
            "marker": {
             "colorbar": {
              "outlinewidth": 0,
              "ticks": ""
             }
            },
            "type": "scatter3d"
           }
          ],
          "scattercarpet": [
           {
            "marker": {
             "colorbar": {
              "outlinewidth": 0,
              "ticks": ""
             }
            },
            "type": "scattercarpet"
           }
          ],
          "scattergeo": [
           {
            "marker": {
             "colorbar": {
              "outlinewidth": 0,
              "ticks": ""
             }
            },
            "type": "scattergeo"
           }
          ],
          "scattergl": [
           {
            "marker": {
             "colorbar": {
              "outlinewidth": 0,
              "ticks": ""
             }
            },
            "type": "scattergl"
           }
          ],
          "scattermapbox": [
           {
            "marker": {
             "colorbar": {
              "outlinewidth": 0,
              "ticks": ""
             }
            },
            "type": "scattermapbox"
           }
          ],
          "scatterpolar": [
           {
            "marker": {
             "colorbar": {
              "outlinewidth": 0,
              "ticks": ""
             }
            },
            "type": "scatterpolar"
           }
          ],
          "scatterpolargl": [
           {
            "marker": {
             "colorbar": {
              "outlinewidth": 0,
              "ticks": ""
             }
            },
            "type": "scatterpolargl"
           }
          ],
          "scatterternary": [
           {
            "marker": {
             "colorbar": {
              "outlinewidth": 0,
              "ticks": ""
             }
            },
            "type": "scatterternary"
           }
          ],
          "surface": [
           {
            "colorbar": {
             "outlinewidth": 0,
             "ticks": ""
            },
            "colorscale": [
             [
              0,
              "#0d0887"
             ],
             [
              0.1111111111111111,
              "#46039f"
             ],
             [
              0.2222222222222222,
              "#7201a8"
             ],
             [
              0.3333333333333333,
              "#9c179e"
             ],
             [
              0.4444444444444444,
              "#bd3786"
             ],
             [
              0.5555555555555556,
              "#d8576b"
             ],
             [
              0.6666666666666666,
              "#ed7953"
             ],
             [
              0.7777777777777778,
              "#fb9f3a"
             ],
             [
              0.8888888888888888,
              "#fdca26"
             ],
             [
              1,
              "#f0f921"
             ]
            ],
            "type": "surface"
           }
          ],
          "table": [
           {
            "cells": {
             "fill": {
              "color": "#EBF0F8"
             },
             "line": {
              "color": "white"
             }
            },
            "header": {
             "fill": {
              "color": "#C8D4E3"
             },
             "line": {
              "color": "white"
             }
            },
            "type": "table"
           }
          ]
         },
         "layout": {
          "annotationdefaults": {
           "arrowcolor": "#2a3f5f",
           "arrowhead": 0,
           "arrowwidth": 1
          },
          "autotypenumbers": "strict",
          "coloraxis": {
           "colorbar": {
            "outlinewidth": 0,
            "ticks": ""
           }
          },
          "colorscale": {
           "diverging": [
            [
             0,
             "#8e0152"
            ],
            [
             0.1,
             "#c51b7d"
            ],
            [
             0.2,
             "#de77ae"
            ],
            [
             0.3,
             "#f1b6da"
            ],
            [
             0.4,
             "#fde0ef"
            ],
            [
             0.5,
             "#f7f7f7"
            ],
            [
             0.6,
             "#e6f5d0"
            ],
            [
             0.7,
             "#b8e186"
            ],
            [
             0.8,
             "#7fbc41"
            ],
            [
             0.9,
             "#4d9221"
            ],
            [
             1,
             "#276419"
            ]
           ],
           "sequential": [
            [
             0,
             "#0d0887"
            ],
            [
             0.1111111111111111,
             "#46039f"
            ],
            [
             0.2222222222222222,
             "#7201a8"
            ],
            [
             0.3333333333333333,
             "#9c179e"
            ],
            [
             0.4444444444444444,
             "#bd3786"
            ],
            [
             0.5555555555555556,
             "#d8576b"
            ],
            [
             0.6666666666666666,
             "#ed7953"
            ],
            [
             0.7777777777777778,
             "#fb9f3a"
            ],
            [
             0.8888888888888888,
             "#fdca26"
            ],
            [
             1,
             "#f0f921"
            ]
           ],
           "sequentialminus": [
            [
             0,
             "#0d0887"
            ],
            [
             0.1111111111111111,
             "#46039f"
            ],
            [
             0.2222222222222222,
             "#7201a8"
            ],
            [
             0.3333333333333333,
             "#9c179e"
            ],
            [
             0.4444444444444444,
             "#bd3786"
            ],
            [
             0.5555555555555556,
             "#d8576b"
            ],
            [
             0.6666666666666666,
             "#ed7953"
            ],
            [
             0.7777777777777778,
             "#fb9f3a"
            ],
            [
             0.8888888888888888,
             "#fdca26"
            ],
            [
             1,
             "#f0f921"
            ]
           ]
          },
          "colorway": [
           "#636efa",
           "#EF553B",
           "#00cc96",
           "#ab63fa",
           "#FFA15A",
           "#19d3f3",
           "#FF6692",
           "#B6E880",
           "#FF97FF",
           "#FECB52"
          ],
          "font": {
           "color": "#2a3f5f"
          },
          "geo": {
           "bgcolor": "white",
           "lakecolor": "white",
           "landcolor": "#E5ECF6",
           "showlakes": true,
           "showland": true,
           "subunitcolor": "white"
          },
          "hoverlabel": {
           "align": "left"
          },
          "hovermode": "closest",
          "mapbox": {
           "style": "light"
          },
          "paper_bgcolor": "white",
          "plot_bgcolor": "#E5ECF6",
          "polar": {
           "angularaxis": {
            "gridcolor": "white",
            "linecolor": "white",
            "ticks": ""
           },
           "bgcolor": "#E5ECF6",
           "radialaxis": {
            "gridcolor": "white",
            "linecolor": "white",
            "ticks": ""
           }
          },
          "scene": {
           "xaxis": {
            "backgroundcolor": "#E5ECF6",
            "gridcolor": "white",
            "gridwidth": 2,
            "linecolor": "white",
            "showbackground": true,
            "ticks": "",
            "zerolinecolor": "white"
           },
           "yaxis": {
            "backgroundcolor": "#E5ECF6",
            "gridcolor": "white",
            "gridwidth": 2,
            "linecolor": "white",
            "showbackground": true,
            "ticks": "",
            "zerolinecolor": "white"
           },
           "zaxis": {
            "backgroundcolor": "#E5ECF6",
            "gridcolor": "white",
            "gridwidth": 2,
            "linecolor": "white",
            "showbackground": true,
            "ticks": "",
            "zerolinecolor": "white"
           }
          },
          "shapedefaults": {
           "line": {
            "color": "#2a3f5f"
           }
          },
          "ternary": {
           "aaxis": {
            "gridcolor": "white",
            "linecolor": "white",
            "ticks": ""
           },
           "baxis": {
            "gridcolor": "white",
            "linecolor": "white",
            "ticks": ""
           },
           "bgcolor": "#E5ECF6",
           "caxis": {
            "gridcolor": "white",
            "linecolor": "white",
            "ticks": ""
           }
          },
          "title": {
           "x": 0.05
          },
          "xaxis": {
           "automargin": true,
           "gridcolor": "white",
           "linecolor": "white",
           "ticks": "",
           "title": {
            "standoff": 15
           },
           "zerolinecolor": "white",
           "zerolinewidth": 2
          },
          "yaxis": {
           "automargin": true,
           "gridcolor": "white",
           "linecolor": "white",
           "ticks": "",
           "title": {
            "standoff": 15
           },
           "zerolinecolor": "white",
           "zerolinewidth": 2
          }
         }
        },
        "title": {
         "text": "Between Hemicords"
        },
        "yaxis": {
         "gridcolor": "rgb(255, 255, 255)",
         "gridwidth": 1,
         "range": [
          -0.1,
          0.4
         ],
         "showgrid": true,
         "tickcolor": "black",
         "title": {
          "text": "Correlations"
         },
         "zeroline": true,
         "zerolinecolor": "rgb(255, 255, 255)",
         "zerolinewidth": 2
        }
       }
      },
      "text/html": [
       "<div>                            <div id=\"489b2af0-dc24-44ea-9e73-591b36290f9f\" class=\"plotly-graph-div\" style=\"height:525px; width:100%;\"></div>            <script type=\"text/javascript\">                require([\"plotly\"], function(Plotly) {                    window.PLOTLYENV=window.PLOTLYENV || {};                                    if (document.getElementById(\"489b2af0-dc24-44ea-9e73-591b36290f9f\")) {                    Plotly.newPlot(                        \"489b2af0-dc24-44ea-9e73-591b36290f9f\",                        [{\"boxpoints\":\"all\",\"fillcolor\":\"yellow\",\"line\":{\"width\":1},\"marker\":{\"size\":5},\"name\":\"0_baseline_stc\",\"whiskerwidth\":0.2,\"y\":[0.04819809329816211,0.093504567700537,0.011528646512853175,0.12226708044702346,0.21277949023531728,0.046286154315866766,0.051201458118326854,5.1436298516926646e-05,0.04069227191493481,0.3038380999252537,0.06371042192993409,0.05470524946797653,0.09476221649434483,0.06483516172002166,0.0981271345746605,0.06676462284528954,0.01090617981723584,0.0440798911275484,0.11095015009714981,0.07242890177247885,0.04972027788516781,-0.0060581964943463955,0.09087522308818333,0.02524904732427279],\"type\":\"box\"},{\"boxpoints\":\"all\",\"fillcolor\":\"yellow\",\"line\":{\"width\":1},\"marker\":{\"size\":5},\"name\":\"1_csf_csfonly_stc\",\"whiskerwidth\":0.2,\"y\":[0.032989996246508176,0.08627216246275266,0.025131078395358435,0.11810905342149355,0.20314076901061803,0.04073545529089054,0.00563383123629619,0.014653235364845965,0.01306989989254357,0.16874368529714773,0.05730049409154356,0.055702596303144725,0.034319582766417,0.06425385992486847,0.0667608188528818,0.050738036684476795,0.014246329251469082,0.035921315846921056,0.07008734224464455,0.050851769776959044,0.021278841475323926,0.03708066289107608,0.08400042820117096,0.010687534976912261],\"type\":\"box\"},{\"boxpoints\":\"all\",\"fillcolor\":\"yellow\",\"line\":{\"width\":1},\"marker\":{\"size\":5},\"name\":\"2_moco_stc\",\"whiskerwidth\":0.2,\"y\":[0.01994535690744871,0.08189509124323577,0.02919400635142383,0.09480573083754755,0.16935562438174212,0.04177772369837318,0.0057759249972701085,0.013056801877337074,0.036991720358306,0.13261323499743982,0.05865287985236132,0.08752729859995492,0.027348624492361563,0.061690684261057775,0.05602998153671521,0.040813538963258886,0.00833560342232178,0.030136620026603597,0.06586019153406171,0.05123942966264332,0.032331905231925716,0.03248532876516419,0.06956497616246876,0.01547651879872396],\"type\":\"box\"},{\"boxpoints\":\"all\",\"fillcolor\":\"yellow\",\"line\":{\"width\":1},\"marker\":{\"size\":5},\"name\":\"3_cc_stc\",\"whiskerwidth\":0.2,\"y\":[0.0314323009338716,0.05960928008041697,0.0254130916070202,0.057992169672823515,0.09291435950917343,0.019570549459327683,-0.006679621155958297,0.01832802040173577,0.031518333743007707,0.045125380287347895,0.05631645681506657,0.0525761823090182,0.03222309299263437,0.041397227863727404,0.03239926497304308,0.03603972766667501,0.014999040175375055,0.01633247578562553,0.0668245813267384,0.04248277257864909,0.005484470945452284,0.031580548814302875,0.04273163045660764,0.009685276677547079],\"type\":\"box\"},{\"boxpoints\":\"all\",\"fillcolor\":\"yellow\",\"line\":{\"width\":1},\"marker\":{\"size\":5},\"name\":\"4_moco_cc_stc\",\"whiskerwidth\":0.2,\"y\":[0.029174185990001593,0.05872771363982357,0.025100058990509308,0.05394365589748244,0.08701682797648193,0.020600697430195474,-0.005886505547696194,0.018214428356503966,0.03441095159269446,0.04085085323384659,0.05607786249792762,0.04965917838153171,0.0258925973565099,0.03765635803902942,0.029083365904734447,0.03557348937035603,0.009268858785157107,0.013728378076209195,0.06435203719856057,0.04203535194856026,0.0068807984418281344,0.03513053746135656,0.04377081751176219,0.01193172975814736],\"type\":\"box\"},{\"boxpoints\":\"all\",\"fillcolor\":\"yellow\",\"line\":{\"width\":1},\"marker\":{\"size\":5},\"name\":\"5_pnm_cardonly_stc\",\"whiskerwidth\":0.2,\"y\":[0.037480708571971166,0.0850735932409119,0.025383292269027337,0.11152053162342285,0.20077412987832696,0.045125336798669084,0.0011855554002424794,0.013043295641585698,0.005229452619470127,0.17220080914896055,0.05898753096943864,0.08585936002583419,0.027320636973613338,0.06601059048643657,0.07022837344181496,0.051137041146389825,0.0069977101617021385,0.032669566763233675,0.06889655857395198,0.051396512877360356,0.03016485943981356,0.03320023486218804,0.09062896835924134,0.008787458044436404],\"type\":\"box\"},{\"boxpoints\":\"all\",\"fillcolor\":\"yellow\",\"line\":{\"width\":1},\"marker\":{\"size\":5},\"name\":\"6_pnm_responly_stc\",\"whiskerwidth\":0.2,\"y\":[0.022107602984147927,0.03420558517057273,0.020915151345974853,0.05438235175040207,0.13889241225887367,0.03131934797757482,-0.002541888159290226,0.01356369802283365,0.04278367923706029,0.08734318161532803,0.05896578438930676,0.04167570739966029,0.0344272263417633,0.04245179839896622,0.0731659244754585,0.03511710482441452,0.014415508615214519,0.02693112360340396,0.07003918461289677,0.02728545495792286,0.007583440036988454,0.021735941321333847,0.07520954266069924,0.0016340276120909642],\"type\":\"box\"},{\"boxpoints\":\"all\",\"fillcolor\":\"yellow\",\"line\":{\"width\":1},\"marker\":{\"size\":5},\"name\":\"7_pnm_stc\",\"whiskerwidth\":0.2,\"y\":[0.027628357294273948,0.03701181594822313,0.019570937774267057,0.0444647107587421,0.1325813393241202,0.035958263387228434,-0.005485535834497423,0.01250193069672309,0.040425605301011816,0.08458583101952472,0.06456168402467272,0.03299455837288521,0.034632460283990085,0.049389535420146194,0.07794866247344491,0.034710723163176686,0.0063622213002721755,0.02395113790943493,0.06407131594974408,0.031924061733995104,0.008158681921307457,0.03744386270801149,0.07696743023241537,0.001462869195872055],\"type\":\"box\"},{\"boxpoints\":\"all\",\"fillcolor\":\"yellow\",\"line\":{\"width\":1},\"marker\":{\"size\":5},\"name\":\"8_csf_pnm_stc\",\"whiskerwidth\":0.2,\"y\":[0.02609856212239243,0.03829971071648584,0.019883245581218553,0.043994988031698046,0.13371240735291287,0.03167932146577446,-0.004136391045963573,0.013197963801572857,0.03864907182269488,0.07996544553592526,0.06234880514224481,0.03401623383664346,0.035388509570105,0.0505096633733431,0.0741422375582881,0.03547870088209098,0.006310088596348653,0.024860175124484726,0.06206004874304774,0.0313969373410845,0.009336096389705183,0.03904181913581109,0.0660770418883587,0.003583287260810784],\"type\":\"box\"},{\"boxpoints\":\"all\",\"fillcolor\":\"yellow\",\"line\":{\"width\":1},\"marker\":{\"size\":5},\"name\":\"9_pnm_moco_stc\",\"whiskerwidth\":0.2,\"y\":[0.025690071486357647,0.03538733199239712,0.024426696394551785,0.043890446693751695,0.13118921377106166,0.03380152043823651,-0.005165440554729211,0.010237174359655554,0.04356640705670523,0.06665455182779371,0.06183907182968623,0.030923647071380234,0.028802717339892717,0.04341742614195457,0.06102511204083332,0.03493967705425146,0.001215527517069191,0.02181646801026947,0.06318250289925127,0.035080239579856475,0.01007597463365574,0.04061124503628446,0.061605347898772006,0.004547413534663529],\"type\":\"box\"},{\"boxpoints\":\"all\",\"fillcolor\":\"yellow\",\"line\":{\"width\":1},\"marker\":{\"size\":5},\"name\":\"10_csf_pnm_moco_stc\",\"whiskerwidth\":0.2,\"y\":[0.02451897167047398,0.03696363840645446,0.024582240314012745,0.043315477204388414,0.13301852477086806,0.029749103170532188,-0.0033502658144222708,0.010646298628223597,0.041786177962622906,0.06208611876327151,0.05966359200954564,0.0320938457426043,0.030147401875764146,0.04385561491437198,0.060011630333371806,0.03533816368076748,0.0019249300295270998,0.023158183613698896,0.0607460645217356,0.03477205802053389,0.011460664251722099,0.042488145176988665,0.05604185681956164,0.006657317580110016],\"type\":\"box\"},{\"boxpoints\":\"all\",\"fillcolor\":\"yellow\",\"line\":{\"width\":1},\"marker\":{\"size\":5},\"name\":\"11_csf_pnm_moco_cc_stc\",\"whiskerwidth\":0.2,\"y\":[0.02580558214363584,0.031313806856655496,0.019630386550452402,0.037590847006387935,0.08008591562759385,0.024459121383233657,-0.008074471860393916,0.01279457239519768,0.041863209088022116,0.027685415809070586,0.05262549433191789,0.028487437538273878,0.03016830212683555,0.03534545124818898,0.02895122849157169,0.031551777169410856,-1.3186149957473871e-05,0.011264155802940113,0.05652411280039392,0.029453061512374378,0.00785392713904768,0.046042979168411075,0.037814002573078404,0.004945386456386256],\"type\":\"box\"}],                        {\"template\":{\"data\":{\"histogram2dcontour\":[{\"type\":\"histogram2dcontour\",\"colorbar\":{\"outlinewidth\":0,\"ticks\":\"\"},\"colorscale\":[[0.0,\"#0d0887\"],[0.1111111111111111,\"#46039f\"],[0.2222222222222222,\"#7201a8\"],[0.3333333333333333,\"#9c179e\"],[0.4444444444444444,\"#bd3786\"],[0.5555555555555556,\"#d8576b\"],[0.6666666666666666,\"#ed7953\"],[0.7777777777777778,\"#fb9f3a\"],[0.8888888888888888,\"#fdca26\"],[1.0,\"#f0f921\"]]}],\"choropleth\":[{\"type\":\"choropleth\",\"colorbar\":{\"outlinewidth\":0,\"ticks\":\"\"}}],\"histogram2d\":[{\"type\":\"histogram2d\",\"colorbar\":{\"outlinewidth\":0,\"ticks\":\"\"},\"colorscale\":[[0.0,\"#0d0887\"],[0.1111111111111111,\"#46039f\"],[0.2222222222222222,\"#7201a8\"],[0.3333333333333333,\"#9c179e\"],[0.4444444444444444,\"#bd3786\"],[0.5555555555555556,\"#d8576b\"],[0.6666666666666666,\"#ed7953\"],[0.7777777777777778,\"#fb9f3a\"],[0.8888888888888888,\"#fdca26\"],[1.0,\"#f0f921\"]]}],\"heatmap\":[{\"type\":\"heatmap\",\"colorbar\":{\"outlinewidth\":0,\"ticks\":\"\"},\"colorscale\":[[0.0,\"#0d0887\"],[0.1111111111111111,\"#46039f\"],[0.2222222222222222,\"#7201a8\"],[0.3333333333333333,\"#9c179e\"],[0.4444444444444444,\"#bd3786\"],[0.5555555555555556,\"#d8576b\"],[0.6666666666666666,\"#ed7953\"],[0.7777777777777778,\"#fb9f3a\"],[0.8888888888888888,\"#fdca26\"],[1.0,\"#f0f921\"]]}],\"heatmapgl\":[{\"type\":\"heatmapgl\",\"colorbar\":{\"outlinewidth\":0,\"ticks\":\"\"},\"colorscale\":[[0.0,\"#0d0887\"],[0.1111111111111111,\"#46039f\"],[0.2222222222222222,\"#7201a8\"],[0.3333333333333333,\"#9c179e\"],[0.4444444444444444,\"#bd3786\"],[0.5555555555555556,\"#d8576b\"],[0.6666666666666666,\"#ed7953\"],[0.7777777777777778,\"#fb9f3a\"],[0.8888888888888888,\"#fdca26\"],[1.0,\"#f0f921\"]]}],\"contourcarpet\":[{\"type\":\"contourcarpet\",\"colorbar\":{\"outlinewidth\":0,\"ticks\":\"\"}}],\"contour\":[{\"type\":\"contour\",\"colorbar\":{\"outlinewidth\":0,\"ticks\":\"\"},\"colorscale\":[[0.0,\"#0d0887\"],[0.1111111111111111,\"#46039f\"],[0.2222222222222222,\"#7201a8\"],[0.3333333333333333,\"#9c179e\"],[0.4444444444444444,\"#bd3786\"],[0.5555555555555556,\"#d8576b\"],[0.6666666666666666,\"#ed7953\"],[0.7777777777777778,\"#fb9f3a\"],[0.8888888888888888,\"#fdca26\"],[1.0,\"#f0f921\"]]}],\"surface\":[{\"type\":\"surface\",\"colorbar\":{\"outlinewidth\":0,\"ticks\":\"\"},\"colorscale\":[[0.0,\"#0d0887\"],[0.1111111111111111,\"#46039f\"],[0.2222222222222222,\"#7201a8\"],[0.3333333333333333,\"#9c179e\"],[0.4444444444444444,\"#bd3786\"],[0.5555555555555556,\"#d8576b\"],[0.6666666666666666,\"#ed7953\"],[0.7777777777777778,\"#fb9f3a\"],[0.8888888888888888,\"#fdca26\"],[1.0,\"#f0f921\"]]}],\"mesh3d\":[{\"type\":\"mesh3d\",\"colorbar\":{\"outlinewidth\":0,\"ticks\":\"\"}}],\"scatter\":[{\"fillpattern\":{\"fillmode\":\"overlay\",\"size\":10,\"solidity\":0.2},\"type\":\"scatter\"}],\"parcoords\":[{\"type\":\"parcoords\",\"line\":{\"colorbar\":{\"outlinewidth\":0,\"ticks\":\"\"}}}],\"scatterpolargl\":[{\"type\":\"scatterpolargl\",\"marker\":{\"colorbar\":{\"outlinewidth\":0,\"ticks\":\"\"}}}],\"bar\":[{\"error_x\":{\"color\":\"#2a3f5f\"},\"error_y\":{\"color\":\"#2a3f5f\"},\"marker\":{\"line\":{\"color\":\"#E5ECF6\",\"width\":0.5},\"pattern\":{\"fillmode\":\"overlay\",\"size\":10,\"solidity\":0.2}},\"type\":\"bar\"}],\"scattergeo\":[{\"type\":\"scattergeo\",\"marker\":{\"colorbar\":{\"outlinewidth\":0,\"ticks\":\"\"}}}],\"scatterpolar\":[{\"type\":\"scatterpolar\",\"marker\":{\"colorbar\":{\"outlinewidth\":0,\"ticks\":\"\"}}}],\"histogram\":[{\"marker\":{\"pattern\":{\"fillmode\":\"overlay\",\"size\":10,\"solidity\":0.2}},\"type\":\"histogram\"}],\"scattergl\":[{\"type\":\"scattergl\",\"marker\":{\"colorbar\":{\"outlinewidth\":0,\"ticks\":\"\"}}}],\"scatter3d\":[{\"type\":\"scatter3d\",\"line\":{\"colorbar\":{\"outlinewidth\":0,\"ticks\":\"\"}},\"marker\":{\"colorbar\":{\"outlinewidth\":0,\"ticks\":\"\"}}}],\"scattermapbox\":[{\"type\":\"scattermapbox\",\"marker\":{\"colorbar\":{\"outlinewidth\":0,\"ticks\":\"\"}}}],\"scatterternary\":[{\"type\":\"scatterternary\",\"marker\":{\"colorbar\":{\"outlinewidth\":0,\"ticks\":\"\"}}}],\"scattercarpet\":[{\"type\":\"scattercarpet\",\"marker\":{\"colorbar\":{\"outlinewidth\":0,\"ticks\":\"\"}}}],\"carpet\":[{\"aaxis\":{\"endlinecolor\":\"#2a3f5f\",\"gridcolor\":\"white\",\"linecolor\":\"white\",\"minorgridcolor\":\"white\",\"startlinecolor\":\"#2a3f5f\"},\"baxis\":{\"endlinecolor\":\"#2a3f5f\",\"gridcolor\":\"white\",\"linecolor\":\"white\",\"minorgridcolor\":\"white\",\"startlinecolor\":\"#2a3f5f\"},\"type\":\"carpet\"}],\"table\":[{\"cells\":{\"fill\":{\"color\":\"#EBF0F8\"},\"line\":{\"color\":\"white\"}},\"header\":{\"fill\":{\"color\":\"#C8D4E3\"},\"line\":{\"color\":\"white\"}},\"type\":\"table\"}],\"barpolar\":[{\"marker\":{\"line\":{\"color\":\"#E5ECF6\",\"width\":0.5},\"pattern\":{\"fillmode\":\"overlay\",\"size\":10,\"solidity\":0.2}},\"type\":\"barpolar\"}],\"pie\":[{\"automargin\":true,\"type\":\"pie\"}]},\"layout\":{\"autotypenumbers\":\"strict\",\"colorway\":[\"#636efa\",\"#EF553B\",\"#00cc96\",\"#ab63fa\",\"#FFA15A\",\"#19d3f3\",\"#FF6692\",\"#B6E880\",\"#FF97FF\",\"#FECB52\"],\"font\":{\"color\":\"#2a3f5f\"},\"hovermode\":\"closest\",\"hoverlabel\":{\"align\":\"left\"},\"paper_bgcolor\":\"white\",\"plot_bgcolor\":\"#E5ECF6\",\"polar\":{\"bgcolor\":\"#E5ECF6\",\"angularaxis\":{\"gridcolor\":\"white\",\"linecolor\":\"white\",\"ticks\":\"\"},\"radialaxis\":{\"gridcolor\":\"white\",\"linecolor\":\"white\",\"ticks\":\"\"}},\"ternary\":{\"bgcolor\":\"#E5ECF6\",\"aaxis\":{\"gridcolor\":\"white\",\"linecolor\":\"white\",\"ticks\":\"\"},\"baxis\":{\"gridcolor\":\"white\",\"linecolor\":\"white\",\"ticks\":\"\"},\"caxis\":{\"gridcolor\":\"white\",\"linecolor\":\"white\",\"ticks\":\"\"}},\"coloraxis\":{\"colorbar\":{\"outlinewidth\":0,\"ticks\":\"\"}},\"colorscale\":{\"sequential\":[[0.0,\"#0d0887\"],[0.1111111111111111,\"#46039f\"],[0.2222222222222222,\"#7201a8\"],[0.3333333333333333,\"#9c179e\"],[0.4444444444444444,\"#bd3786\"],[0.5555555555555556,\"#d8576b\"],[0.6666666666666666,\"#ed7953\"],[0.7777777777777778,\"#fb9f3a\"],[0.8888888888888888,\"#fdca26\"],[1.0,\"#f0f921\"]],\"sequentialminus\":[[0.0,\"#0d0887\"],[0.1111111111111111,\"#46039f\"],[0.2222222222222222,\"#7201a8\"],[0.3333333333333333,\"#9c179e\"],[0.4444444444444444,\"#bd3786\"],[0.5555555555555556,\"#d8576b\"],[0.6666666666666666,\"#ed7953\"],[0.7777777777777778,\"#fb9f3a\"],[0.8888888888888888,\"#fdca26\"],[1.0,\"#f0f921\"]],\"diverging\":[[0,\"#8e0152\"],[0.1,\"#c51b7d\"],[0.2,\"#de77ae\"],[0.3,\"#f1b6da\"],[0.4,\"#fde0ef\"],[0.5,\"#f7f7f7\"],[0.6,\"#e6f5d0\"],[0.7,\"#b8e186\"],[0.8,\"#7fbc41\"],[0.9,\"#4d9221\"],[1,\"#276419\"]]},\"xaxis\":{\"gridcolor\":\"white\",\"linecolor\":\"white\",\"ticks\":\"\",\"title\":{\"standoff\":15},\"zerolinecolor\":\"white\",\"automargin\":true,\"zerolinewidth\":2},\"yaxis\":{\"gridcolor\":\"white\",\"linecolor\":\"white\",\"ticks\":\"\",\"title\":{\"standoff\":15},\"zerolinecolor\":\"white\",\"automargin\":true,\"zerolinewidth\":2},\"scene\":{\"xaxis\":{\"backgroundcolor\":\"#E5ECF6\",\"gridcolor\":\"white\",\"linecolor\":\"white\",\"showbackground\":true,\"ticks\":\"\",\"zerolinecolor\":\"white\",\"gridwidth\":2},\"yaxis\":{\"backgroundcolor\":\"#E5ECF6\",\"gridcolor\":\"white\",\"linecolor\":\"white\",\"showbackground\":true,\"ticks\":\"\",\"zerolinecolor\":\"white\",\"gridwidth\":2},\"zaxis\":{\"backgroundcolor\":\"#E5ECF6\",\"gridcolor\":\"white\",\"linecolor\":\"white\",\"showbackground\":true,\"ticks\":\"\",\"zerolinecolor\":\"white\",\"gridwidth\":2}},\"shapedefaults\":{\"line\":{\"color\":\"#2a3f5f\"}},\"annotationdefaults\":{\"arrowcolor\":\"#2a3f5f\",\"arrowhead\":0,\"arrowwidth\":1},\"geo\":{\"bgcolor\":\"white\",\"landcolor\":\"#E5ECF6\",\"subunitcolor\":\"white\",\"showland\":true,\"showlakes\":true,\"lakecolor\":\"white\"},\"title\":{\"x\":0.05},\"mapbox\":{\"style\":\"light\"}}},\"yaxis\":{\"range\":[-0.1,0.4],\"showgrid\":true,\"zeroline\":true,\"tickcolor\":\"black\",\"gridcolor\":\"rgb(255, 255, 255)\",\"gridwidth\":1,\"zerolinecolor\":\"rgb(255, 255, 255)\",\"zerolinewidth\":2,\"title\":{\"text\":\"Correlations\"}},\"margin\":{\"l\":40,\"r\":30,\"b\":80,\"t\":100},\"title\":{\"text\":\"Between Hemicords\"},\"paper_bgcolor\":\"rgb(243, 243, 243)\",\"plot_bgcolor\":\"rgb(243, 243, 243)\",\"showlegend\":false},                        {\"responsive\": true}                    ).then(function(){\n",
       "                            \n",
       "var gd = document.getElementById('489b2af0-dc24-44ea-9e73-591b36290f9f');\n",
       "var x = new MutationObserver(function (mutations, observer) {{\n",
       "        var display = window.getComputedStyle(gd).display;\n",
       "        if (!display || display === 'none') {{\n",
       "            console.log([gd, 'removed!']);\n",
       "            Plotly.purge(gd);\n",
       "            observer.disconnect();\n",
       "        }}\n",
       "}});\n",
       "\n",
       "// Listen for the removal of the full notebook cells\n",
       "var notebookContainer = gd.closest('#notebook-container');\n",
       "if (notebookContainer) {{\n",
       "    x.observe(notebookContainer, {childList: true});\n",
       "}}\n",
       "\n",
       "// Listen for the clearing of the current output cell\n",
       "var outputEl = gd.closest('.output');\n",
       "if (outputEl) {{\n",
       "    x.observe(outputEl, {childList: true});\n",
       "}}\n",
       "\n",
       "                        })                };                });            </script>        </div>"
      ]
     },
     "metadata": {},
     "output_type": "display_data"
    }
   ],
   "source": [
    "plot_boxplots(options_fc_subs,'B','yellow',tempfilt)"
   ]
  },
  {
   "cell_type": "markdown",
   "id": "c2001ff8",
   "metadata": {},
   "source": [
    "## Per subjects correlations stats"
   ]
  },
  {
   "cell_type": "code",
   "execution_count": 236,
   "id": "26ecb362",
   "metadata": {},
   "outputs": [
    {
     "data": {
      "text/plain": [
       "{0: {'VV': [0.14987751906040525,\n",
       "   0.28665350269459994,\n",
       "   0.05771415572920308,\n",
       "   0.15134219800903304,\n",
       "   0.2542296695234079,\n",
       "   0.13773905503557682,\n",
       "   0.09245862154771235,\n",
       "   0.10067446926559463,\n",
       "   0.041772417564144945,\n",
       "   0.2854300645608027,\n",
       "   0.0784837076426359,\n",
       "   0.11430990028757013,\n",
       "   0.2256936379323244,\n",
       "   0.2587069894796332,\n",
       "   0.22346223202587198,\n",
       "   0.10592438674829034,\n",
       "   0.07423674054818974,\n",
       "   0.055116850361280174,\n",
       "   0.208684848552215,\n",
       "   0.27419891943864816,\n",
       "   0.10820017391257432,\n",
       "   0.20572986883900007,\n",
       "   0.17211326562927753,\n",
       "   0.030214677436101806],\n",
       "  'DD': [0.09431228779896449,\n",
       "   0.2567301990422287,\n",
       "   0.009344771642501111,\n",
       "   0.19251403306279713,\n",
       "   0.26238804199438137,\n",
       "   0.04086782146014503,\n",
       "   0.04711946908699203,\n",
       "   0.05037938902705004,\n",
       "   0.007214654760785912,\n",
       "   0.3409816150932151,\n",
       "   0.04654321363529141,\n",
       "   0.052356089975782845,\n",
       "   0.14493586735399583,\n",
       "   0.15961192352647433,\n",
       "   0.2220737034916295,\n",
       "   0.13973686306040145,\n",
       "   0.12077253027622362,\n",
       "   0.04967535337980282,\n",
       "   0.21343534613614912,\n",
       "   0.06677434233043075,\n",
       "   0.14317843470061797,\n",
       "   0.1245447488830962,\n",
       "   0.24640232334328319,\n",
       "   0.0817604596730929],\n",
       "  'W': [0.03037730374368387,\n",
       "   0.056130093566144235,\n",
       "   -0.017080814544242817,\n",
       "   0.10373149314775523,\n",
       "   0.1922453554020872,\n",
       "   0.03376143217306696,\n",
       "   0.06390049712825786,\n",
       "   -0.0018336942553038528,\n",
       "   0.16852950262303615,\n",
       "   0.3007421334028029,\n",
       "   0.033117486350575,\n",
       "   0.008321106313714327,\n",
       "   0.05273666632239094,\n",
       "   0.06166796042557336,\n",
       "   0.07610484293828769,\n",
       "   0.04747520900013441,\n",
       "   0.042460767715113014,\n",
       "   0.027888634049351328,\n",
       "   0.10444574674145003,\n",
       "   0.1152679484160904,\n",
       "   -0.0016474094023744214,\n",
       "   0.045534398162261014,\n",
       "   0.09072946499507181,\n",
       "   0.020636021329180212],\n",
       "  'B': [0.04819809329816211,\n",
       "   0.093504567700537,\n",
       "   0.011528646512853175,\n",
       "   0.12226708044702346,\n",
       "   0.21277949023531728,\n",
       "   0.046286154315866766,\n",
       "   0.051201458118326854,\n",
       "   5.1436298516926646e-05,\n",
       "   0.04069227191493481,\n",
       "   0.3038380999252537,\n",
       "   0.06371042192993409,\n",
       "   0.05470524946797653,\n",
       "   0.09476221649434483,\n",
       "   0.06483516172002166,\n",
       "   0.0981271345746605,\n",
       "   0.06676462284528954,\n",
       "   0.01090617981723584,\n",
       "   0.0440798911275484,\n",
       "   0.11095015009714981,\n",
       "   0.07242890177247885,\n",
       "   0.04972027788516781,\n",
       "   -0.0060581964943463955,\n",
       "   0.09087522308818333,\n",
       "   0.02524904732427279]},\n",
       " 1: {'VV': [0.1667548080267237,\n",
       "   0.18420997403985487,\n",
       "   0.03971939780989564,\n",
       "   0.15406743582240234,\n",
       "   0.23813867868160107,\n",
       "   0.08652892162891394,\n",
       "   0.03276343632664922,\n",
       "   0.08996034209417984,\n",
       "   3.190249148347769e-05,\n",
       "   0.16629545342233706,\n",
       "   0.04933132406766034,\n",
       "   0.06319369031726316,\n",
       "   0.06498264361288048,\n",
       "   0.09410130160665267,\n",
       "   0.20378237350246298,\n",
       "   0.0806633066350095,\n",
       "   0.0456387915958944,\n",
       "   0.055669237738363624,\n",
       "   0.20472539271348442,\n",
       "   0.19176278466129798,\n",
       "   0.0795697003511935,\n",
       "   0.10062348470882525,\n",
       "   0.12647944897578564,\n",
       "   0.01674342440890692],\n",
       "  'DD': [0.0619773636548923,\n",
       "   0.17950114980290602,\n",
       "   -0.0010233816139952646,\n",
       "   0.11412340671005823,\n",
       "   0.20731950864417686,\n",
       "   0.009760022733033565,\n",
       "   -0.003797344681944683,\n",
       "   0.07555382609189423,\n",
       "   0.00025975042699979506,\n",
       "   0.19168965480955635,\n",
       "   0.007108341825169305,\n",
       "   0.10023628438883071,\n",
       "   0.061260497395695536,\n",
       "   0.14405639662508404,\n",
       "   0.17973119947425603,\n",
       "   0.12358105586074768,\n",
       "   0.1060376808795024,\n",
       "   0.06956253846058223,\n",
       "   0.17907143357969374,\n",
       "   0.022204785200220324,\n",
       "   0.09204925657920457,\n",
       "   0.07675606509812223,\n",
       "   0.1562334399673541,\n",
       "   0.040752494939915916],\n",
       "  'W': [0.015771678737100055,\n",
       "   0.05192152849902401,\n",
       "   -0.024388738799584225,\n",
       "   0.10166388892538836,\n",
       "   0.168660430632495,\n",
       "   0.02608099083523209,\n",
       "   0.035181391530660425,\n",
       "   0.007929448605831113,\n",
       "   0.058464269261061574,\n",
       "   0.16772365484218862,\n",
       "   0.0197360164143749,\n",
       "   0.06278620109584085,\n",
       "   0.001796973062401952,\n",
       "   0.02459929016995626,\n",
       "   0.03869711480894025,\n",
       "   0.017501891443623067,\n",
       "   0.04422188194680973,\n",
       "   0.0046500208915619436,\n",
       "   0.06721026905499025,\n",
       "   0.0689669259722163,\n",
       "   -0.02227515430571863,\n",
       "   0.03516391895732923,\n",
       "   0.06597103678972008,\n",
       "   -0.02409735201641226],\n",
       "  'B': [0.032989996246508176,\n",
       "   0.08627216246275266,\n",
       "   0.025131078395358435,\n",
       "   0.11810905342149355,\n",
       "   0.20314076901061803,\n",
       "   0.04073545529089054,\n",
       "   0.00563383123629619,\n",
       "   0.014653235364845965,\n",
       "   0.01306989989254357,\n",
       "   0.16874368529714773,\n",
       "   0.05730049409154356,\n",
       "   0.055702596303144725,\n",
       "   0.034319582766417,\n",
       "   0.06425385992486847,\n",
       "   0.0667608188528818,\n",
       "   0.050738036684476795,\n",
       "   0.014246329251469082,\n",
       "   0.035921315846921056,\n",
       "   0.07008734224464455,\n",
       "   0.050851769776959044,\n",
       "   0.021278841475323926,\n",
       "   0.03708066289107608,\n",
       "   0.08400042820117096,\n",
       "   0.010687534976912261]},\n",
       " 2: {'VV': [0.13139170326043845,\n",
       "   0.18636432127538896,\n",
       "   0.04453761948070867,\n",
       "   0.11041549595361728,\n",
       "   0.1962179097313859,\n",
       "   0.08673159632720027,\n",
       "   0.028433383242103198,\n",
       "   0.08096931428976929,\n",
       "   0.012805528761689812,\n",
       "   0.1498172553057893,\n",
       "   0.04859209382611636,\n",
       "   0.08885908831995706,\n",
       "   0.05235279678783565,\n",
       "   0.10245230159940112,\n",
       "   0.19371430181325816,\n",
       "   0.07333615662840047,\n",
       "   0.046697949536612646,\n",
       "   0.06012154815628634,\n",
       "   0.21105228933004974,\n",
       "   0.19433050411817493,\n",
       "   0.0825091965457933,\n",
       "   0.10916185019403143,\n",
       "   0.09361361846982785,\n",
       "   0.024913540411979764],\n",
       "  'DD': [0.04751388574717362,\n",
       "   0.18354248944366738,\n",
       "   0.0023654364056463774,\n",
       "   0.08914911797352452,\n",
       "   0.1737095189677966,\n",
       "   0.010189301319135579,\n",
       "   -0.0029983380367150383,\n",
       "   0.07590086324456502,\n",
       "   0.01939018611455105,\n",
       "   0.15213404874934794,\n",
       "   0.01291980222323247,\n",
       "   0.09284252734896348,\n",
       "   0.0710797811583623,\n",
       "   0.13858866660501482,\n",
       "   0.17673724573036628,\n",
       "   0.114524539467731,\n",
       "   0.09402926720357128,\n",
       "   0.06442806511901572,\n",
       "   0.17606102592423586,\n",
       "   0.020257993180924742,\n",
       "   0.08501453125851985,\n",
       "   0.08422600574731527,\n",
       "   0.13508361820638626,\n",
       "   0.04658707693688955],\n",
       "  'W': [0.0008655363934580767,\n",
       "   0.046788648241191985,\n",
       "   -0.024351944268491993,\n",
       "   0.07336262040783698,\n",
       "   0.13471022982811792,\n",
       "   0.025587808793104835,\n",
       "   0.03430447335729837,\n",
       "   -0.0007320202952799696,\n",
       "   0.043079112710822084,\n",
       "   0.13314753457034506,\n",
       "   0.018481695129068058,\n",
       "   0.04480123751097799,\n",
       "   0.0012650512904617602,\n",
       "   0.026765198769416538,\n",
       "   0.024700184236543077,\n",
       "   0.01694185070490081,\n",
       "   0.03907864239026525,\n",
       "   0.0013445204566944428,\n",
       "   0.06184085576662278,\n",
       "   0.06949546609318849,\n",
       "   -0.017332911509155634,\n",
       "   0.022578497339262694,\n",
       "   0.05149549509295618,\n",
       "   -0.030385019161792884],\n",
       "  'B': [0.01994535690744871,\n",
       "   0.08189509124323577,\n",
       "   0.02919400635142383,\n",
       "   0.09480573083754755,\n",
       "   0.16935562438174212,\n",
       "   0.04177772369837318,\n",
       "   0.0057759249972701085,\n",
       "   0.013056801877337074,\n",
       "   0.036991720358306,\n",
       "   0.13261323499743982,\n",
       "   0.05865287985236132,\n",
       "   0.08752729859995492,\n",
       "   0.027348624492361563,\n",
       "   0.061690684261057775,\n",
       "   0.05602998153671521,\n",
       "   0.040813538963258886,\n",
       "   0.00833560342232178,\n",
       "   0.030136620026603597,\n",
       "   0.06586019153406171,\n",
       "   0.05123942966264332,\n",
       "   0.032331905231925716,\n",
       "   0.03248532876516419,\n",
       "   0.06956497616246876,\n",
       "   0.01547651879872396]},\n",
       " 3: {'VV': [0.03994594144071968,\n",
       "   0.13204555305140214,\n",
       "   0.04103483077973031,\n",
       "   0.06368139075816744,\n",
       "   0.10189286393548103,\n",
       "   0.022514463254685306,\n",
       "   0.01059594050190578,\n",
       "   0.07061327010118554,\n",
       "   0.014787007870049733,\n",
       "   0.05643011502252164,\n",
       "   0.04633971098467201,\n",
       "   0.03583321556952194,\n",
       "   0.0586397169347692,\n",
       "   0.07489863517330732,\n",
       "   0.1694784904190625,\n",
       "   0.05578774074429383,\n",
       "   0.04150135485851889,\n",
       "   0.0533310119623441,\n",
       "   0.2024786862981009,\n",
       "   0.1462050901504961,\n",
       "   0.05321223391122787,\n",
       "   0.0897884981851754,\n",
       "   0.08593136158500558,\n",
       "   0.017635188601010585],\n",
       "  'DD': [0.045034439569038784,\n",
       "   0.11856818569690222,\n",
       "   -0.00448759964939931,\n",
       "   0.05882836782494983,\n",
       "   0.07956135606339852,\n",
       "   -0.005270960131481198,\n",
       "   -0.015225269538633662,\n",
       "   0.07406327691353216,\n",
       "   0.00925277054040224,\n",
       "   0.052870177124129905,\n",
       "   0.0013336054405860697,\n",
       "   0.05168801217480597,\n",
       "   0.06503245155281649,\n",
       "   0.09190411574608635,\n",
       "   0.14259913413899758,\n",
       "   0.10730662189358482,\n",
       "   0.10545773569303883,\n",
       "   0.04511934435720151,\n",
       "   0.16752755329602706,\n",
       "   0.019262519815452597,\n",
       "   0.02328081859790192,\n",
       "   0.06252312366324056,\n",
       "   0.09694396719661197,\n",
       "   0.03813016242949388],\n",
       "  'W': [0.0026133407313896537,\n",
       "   0.02307988877972671,\n",
       "   -0.009156076113967649,\n",
       "   0.0360980135138169,\n",
       "   0.04549619421631887,\n",
       "   -0.012968803444921684,\n",
       "   0.021861620149267763,\n",
       "   0.0068953202040157825,\n",
       "   0.050139955765310884,\n",
       "   0.038429273321499036,\n",
       "   0.015991735341100724,\n",
       "   0.00730344699640618,\n",
       "   -0.0022827479511855747,\n",
       "   -0.003436965338196556,\n",
       "   -0.005381835488090941,\n",
       "   0.014469306085668154,\n",
       "   0.04487742061341231,\n",
       "   -0.015162747515320306,\n",
       "   0.05810220686902408,\n",
       "   0.04161248694803018,\n",
       "   -0.04115935368967546,\n",
       "   0.017739479624220972,\n",
       "   0.025842813912804755,\n",
       "   -0.043141181722938016],\n",
       "  'B': [0.0314323009338716,\n",
       "   0.05960928008041697,\n",
       "   0.0254130916070202,\n",
       "   0.057992169672823515,\n",
       "   0.09291435950917343,\n",
       "   0.019570549459327683,\n",
       "   -0.006679621155958297,\n",
       "   0.01832802040173577,\n",
       "   0.031518333743007707,\n",
       "   0.045125380287347895,\n",
       "   0.05631645681506657,\n",
       "   0.0525761823090182,\n",
       "   0.03222309299263437,\n",
       "   0.041397227863727404,\n",
       "   0.03239926497304308,\n",
       "   0.03603972766667501,\n",
       "   0.014999040175375055,\n",
       "   0.01633247578562553,\n",
       "   0.0668245813267384,\n",
       "   0.04248277257864909,\n",
       "   0.005484470945452284,\n",
       "   0.031580548814302875,\n",
       "   0.04273163045660764,\n",
       "   0.009685276677547079]},\n",
       " 4: {'VV': [0.042933227650290506,\n",
       "   0.13188384572426082,\n",
       "   0.041049294272911555,\n",
       "   0.05946614859316629,\n",
       "   0.10469951118180996,\n",
       "   0.024474984711052947,\n",
       "   0.006771604488080528,\n",
       "   0.06553423431445865,\n",
       "   0.02050340255752143,\n",
       "   0.05795778960598979,\n",
       "   0.043086637810307166,\n",
       "   0.030971859205362537,\n",
       "   0.04628892604776315,\n",
       "   0.08002063416329824,\n",
       "   0.1657242750876088,\n",
       "   0.058177943569941805,\n",
       "   0.04337296272662085,\n",
       "   0.05393418374787302,\n",
       "   0.20644064270806772,\n",
       "   0.14227797404850745,\n",
       "   0.05421241714212378,\n",
       "   0.08999179433734486,\n",
       "   0.06915260447252879,\n",
       "   0.014168503639912587],\n",
       "  'DD': [0.03708958515070582,\n",
       "   0.11898230420891566,\n",
       "   0.002718242469958835,\n",
       "   0.05361321794748707,\n",
       "   0.08732412540118255,\n",
       "   -0.001300251248582709,\n",
       "   -0.013159306896905906,\n",
       "   0.07383283531941247,\n",
       "   0.01725426473156505,\n",
       "   0.056834333332012266,\n",
       "   0.0035961658303588135,\n",
       "   0.046759771136698366,\n",
       "   0.0689927787628959,\n",
       "   0.0889130867279902,\n",
       "   0.14379925086162146,\n",
       "   0.10456029960330115,\n",
       "   0.09560203619366049,\n",
       "   0.04108184516743022,\n",
       "   0.16208086933690435,\n",
       "   0.015528828037634635,\n",
       "   0.026251150847630852,\n",
       "   0.05629561731612354,\n",
       "   0.0921644624329297,\n",
       "   0.034654738192734846],\n",
       "  'W': [0.0030037121183952463,\n",
       "   0.021346563153779495,\n",
       "   -0.010056652416643464,\n",
       "   0.02529277277336415,\n",
       "   0.04464919470152491,\n",
       "   -0.015866708201626348,\n",
       "   0.021629686974639947,\n",
       "   0.0019437454872320765,\n",
       "   0.042495142158907276,\n",
       "   0.03676708378329277,\n",
       "   0.013915758182498355,\n",
       "   0.0049080986566292385,\n",
       "   -0.001836361914313427,\n",
       "   -0.0028991527107150774,\n",
       "   -0.010569009458447569,\n",
       "   0.019269475096101663,\n",
       "   0.04168440106371104,\n",
       "   -0.01570398908609664,\n",
       "   0.056244733799992175,\n",
       "   0.04070967579393616,\n",
       "   -0.046650378861880865,\n",
       "   0.015013154557103335,\n",
       "   0.025577868571877358,\n",
       "   -0.04526811950934415],\n",
       "  'B': [0.029174185990001593,\n",
       "   0.05872771363982357,\n",
       "   0.025100058990509308,\n",
       "   0.05394365589748244,\n",
       "   0.08701682797648193,\n",
       "   0.020600697430195474,\n",
       "   -0.005886505547696194,\n",
       "   0.018214428356503966,\n",
       "   0.03441095159269446,\n",
       "   0.04085085323384659,\n",
       "   0.05607786249792762,\n",
       "   0.04965917838153171,\n",
       "   0.0258925973565099,\n",
       "   0.03765635803902942,\n",
       "   0.029083365904734447,\n",
       "   0.03557348937035603,\n",
       "   0.009268858785157107,\n",
       "   0.013728378076209195,\n",
       "   0.06435203719856057,\n",
       "   0.04203535194856026,\n",
       "   0.0068807984418281344,\n",
       "   0.03513053746135656,\n",
       "   0.04377081751176219,\n",
       "   0.01193172975814736]},\n",
       " 5: {'VV': [0.1576368206278818,\n",
       "   0.18473987565132158,\n",
       "   0.046266882980000895,\n",
       "   0.1413081005481237,\n",
       "   0.23812967634685026,\n",
       "   0.08672373810020767,\n",
       "   0.0200518166844283,\n",
       "   0.0855396597639948,\n",
       "   -0.009765613946773534,\n",
       "   0.1668607909803648,\n",
       "   0.051470663050523835,\n",
       "   0.07696983845109331,\n",
       "   0.06190255137026287,\n",
       "   0.0920156829526357,\n",
       "   0.20875721122669216,\n",
       "   0.07823919769738212,\n",
       "   0.04113533039227354,\n",
       "   0.05922400786335735,\n",
       "   0.19906550666821993,\n",
       "   0.17528116840938357,\n",
       "   0.09416243307703219,\n",
       "   0.10117863065542314,\n",
       "   0.1193529516372307,\n",
       "   0.021998380190207174],\n",
       "  'DD': [0.06512767278252737,\n",
       "   0.17755223260433223,\n",
       "   -0.005814053635754338,\n",
       "   0.10971441712172149,\n",
       "   0.21029056103653126,\n",
       "   0.012039258926113442,\n",
       "   -0.00291565092933887,\n",
       "   0.07201023402063776,\n",
       "   -0.011653211154400326,\n",
       "   0.18887880903402005,\n",
       "   0.013596075567912709,\n",
       "   0.08489855089508738,\n",
       "   0.06758428739991323,\n",
       "   0.13937788224614464,\n",
       "   0.18737894781349917,\n",
       "   0.12194359922327004,\n",
       "   0.0983957318656945,\n",
       "   0.07760561472672443,\n",
       "   0.17879633206041085,\n",
       "   0.027224316012020255,\n",
       "   0.09442230422457382,\n",
       "   0.07823385287495854,\n",
       "   0.1698736415460126,\n",
       "   0.04822150710019765],\n",
       "  'W': [0.01746149333665084,\n",
       "   0.04861148601642892,\n",
       "   -0.019892217373039266,\n",
       "   0.09106189393834216,\n",
       "   0.1645129625679297,\n",
       "   0.030893999581884348,\n",
       "   0.03348270673902535,\n",
       "   0.008747948962411458,\n",
       "   0.05071652579897773,\n",
       "   0.16754425688849278,\n",
       "   0.02393542339672569,\n",
       "   0.04480903597080549,\n",
       "   0.0021716477277252347,\n",
       "   0.021834478960377796,\n",
       "   0.04512509004618154,\n",
       "   0.0202360893683341,\n",
       "   0.03730996119318191,\n",
       "   -0.00012425616774424005,\n",
       "   0.06358326747588296,\n",
       "   0.06226838579974936,\n",
       "   -0.015545094288890778,\n",
       "   0.024307498924134363,\n",
       "   0.07223457934981323,\n",
       "   -0.017576959660705996],\n",
       "  'B': [0.037480708571971166,\n",
       "   0.0850735932409119,\n",
       "   0.025383292269027337,\n",
       "   0.11152053162342285,\n",
       "   0.20077412987832696,\n",
       "   0.045125336798669084,\n",
       "   0.0011855554002424794,\n",
       "   0.013043295641585698,\n",
       "   0.005229452619470127,\n",
       "   0.17220080914896055,\n",
       "   0.05898753096943864,\n",
       "   0.08585936002583419,\n",
       "   0.027320636973613338,\n",
       "   0.06601059048643657,\n",
       "   0.07022837344181496,\n",
       "   0.051137041146389825,\n",
       "   0.0069977101617021385,\n",
       "   0.032669566763233675,\n",
       "   0.06889655857395198,\n",
       "   0.051396512877360356,\n",
       "   0.03016485943981356,\n",
       "   0.03320023486218804,\n",
       "   0.09062896835924134,\n",
       "   0.008787458044436404]},\n",
       " 6: {'VV': [0.035848516041027914,\n",
       "   0.13353905199326827,\n",
       "   0.03860605014472604,\n",
       "   0.07081156439688412,\n",
       "   0.15159539399740427,\n",
       "   0.04823873894199811,\n",
       "   0.024965525371476956,\n",
       "   0.07752834520632168,\n",
       "   0.034360660664013935,\n",
       "   0.08666009963325487,\n",
       "   0.05343367595502261,\n",
       "   0.03153828879574001,\n",
       "   0.06125135289979668,\n",
       "   0.08447939249935295,\n",
       "   0.18207802554649846,\n",
       "   0.045854941640392846,\n",
       "   0.04207039537487899,\n",
       "   0.057052548430974945,\n",
       "   0.18140364166103454,\n",
       "   0.1255941855458405,\n",
       "   0.06026416921930717,\n",
       "   0.0867087500723674,\n",
       "   0.096323686232161,\n",
       "   0.013448211741101094],\n",
       "  'DD': [0.03337341562010142,\n",
       "   0.10338067693318342,\n",
       "   -0.0036107831351696595,\n",
       "   0.04422866470102421,\n",
       "   0.11881783277089718,\n",
       "   0.0014800774631063625,\n",
       "   -0.006569280025292434,\n",
       "   0.07432629840963358,\n",
       "   0.0339815163296796,\n",
       "   0.11341028244346647,\n",
       "   0.01288260505557339,\n",
       "   0.04448054981527708,\n",
       "   0.06845668730722393,\n",
       "   0.09473639628667484,\n",
       "   0.16683314514446781,\n",
       "   0.09822175902990725,\n",
       "   0.10333743571792253,\n",
       "   0.04973843892458477,\n",
       "   0.14748795925236985,\n",
       "   0.008988066995342228,\n",
       "   0.022882783777777173,\n",
       "   0.06982096797168443,\n",
       "   0.13642964839221183,\n",
       "   0.03158982293996878],\n",
       "  'W': [-0.009935003546582132,\n",
       "   -0.0007366740407752531,\n",
       "   -0.01627673388336469,\n",
       "   0.027620485658813934,\n",
       "   0.09489246796487347,\n",
       "   0.006469966488441335,\n",
       "   0.027295483929947177,\n",
       "   0.000966769743881055,\n",
       "   0.04116771477222387,\n",
       "   0.08470429640978505,\n",
       "   0.018219501743371648,\n",
       "   0.003013401721265057,\n",
       "   0.004155785538691252,\n",
       "   -0.005358257184121501,\n",
       "   0.03903768432470639,\n",
       "   0.019252839013913364,\n",
       "   0.04118687560429356,\n",
       "   -0.010282857904491034,\n",
       "   0.06801230134259827,\n",
       "   0.029859171060329457,\n",
       "   -0.04153024094171014,\n",
       "   0.007859140741870533,\n",
       "   0.054827335287593995,\n",
       "   -0.044748903998620346],\n",
       "  'B': [0.022107602984147927,\n",
       "   0.03420558517057273,\n",
       "   0.020915151345974853,\n",
       "   0.05438235175040207,\n",
       "   0.13889241225887367,\n",
       "   0.03131934797757482,\n",
       "   -0.002541888159290226,\n",
       "   0.01356369802283365,\n",
       "   0.04278367923706029,\n",
       "   0.08734318161532803,\n",
       "   0.05896578438930676,\n",
       "   0.04167570739966029,\n",
       "   0.0344272263417633,\n",
       "   0.04245179839896622,\n",
       "   0.0731659244754585,\n",
       "   0.03511710482441452,\n",
       "   0.014415508615214519,\n",
       "   0.02693112360340396,\n",
       "   0.07003918461289677,\n",
       "   0.02728545495792286,\n",
       "   0.007583440036988454,\n",
       "   0.021735941321333847,\n",
       "   0.07520954266069924,\n",
       "   0.0016340276120909642]},\n",
       " 7: {'VV': [0.024085981154269062,\n",
       "   0.12388004858935416,\n",
       "   0.04182288001518037,\n",
       "   0.04833090824241705,\n",
       "   0.15438842015907453,\n",
       "   0.037674106560186923,\n",
       "   0.01411926304980648,\n",
       "   0.07233469650253581,\n",
       "   0.01727455923765712,\n",
       "   0.07806464530991623,\n",
       "   0.05164705117755373,\n",
       "   0.005495305046443551,\n",
       "   0.0452297259246114,\n",
       "   0.0694963788057847,\n",
       "   0.18451289633778134,\n",
       "   0.04583844306339448,\n",
       "   0.03321193182379536,\n",
       "   0.05444821007731417,\n",
       "   0.17128179214458228,\n",
       "   0.11381932913746502,\n",
       "   0.06517955486869681,\n",
       "   0.0679656305840127,\n",
       "   0.08389220063323496,\n",
       "   0.01344468121595294],\n",
       "  'DD': [0.02288486979964076,\n",
       "   0.10376480000230312,\n",
       "   -0.0008396838370283826,\n",
       "   0.041291115439844726,\n",
       "   0.11449808236404656,\n",
       "   -0.009162646673988816,\n",
       "   -0.011644176172304066,\n",
       "   0.07901002500696555,\n",
       "   0.028973121102164736,\n",
       "   0.10215311961381503,\n",
       "   0.01676584333733039,\n",
       "   0.03339153616474732,\n",
       "   0.07194918960895424,\n",
       "   0.08961768951705705,\n",
       "   0.16428662987676593,\n",
       "   0.10544856281036939,\n",
       "   0.08998306604654142,\n",
       "   0.057689683231102885,\n",
       "   0.14179038087272977,\n",
       "   0.025627091796176633,\n",
       "   0.019539701159861998,\n",
       "   0.06995558244639936,\n",
       "   0.13320190916287045,\n",
       "   0.021539870543027258],\n",
       "  'W': [-0.008762288090176321,\n",
       "   0.0009007171709013848,\n",
       "   -0.012647651080888927,\n",
       "   0.014049868702716347,\n",
       "   0.0887728874457617,\n",
       "   0.01676058627390436,\n",
       "   0.025053622932413585,\n",
       "   -0.004504691224738037,\n",
       "   0.03884418110593421,\n",
       "   0.0819124115382292,\n",
       "   0.014542484682858597,\n",
       "   0.0010076085768969314,\n",
       "   0.009355070737434069,\n",
       "   -0.006306599646666546,\n",
       "   0.04058078430567372,\n",
       "   0.021381361690452388,\n",
       "   0.03493927348281131,\n",
       "   -0.014086632938663154,\n",
       "   0.06361334966260292,\n",
       "   0.02018249213681083,\n",
       "   -0.048984886322566326,\n",
       "   0.007830400113050293,\n",
       "   0.0549499489607869,\n",
       "   -0.03906246308014146],\n",
       "  'B': [0.027628357294273948,\n",
       "   0.03701181594822313,\n",
       "   0.019570937774267057,\n",
       "   0.0444647107587421,\n",
       "   0.1325813393241202,\n",
       "   0.035958263387228434,\n",
       "   -0.005485535834497423,\n",
       "   0.01250193069672309,\n",
       "   0.040425605301011816,\n",
       "   0.08458583101952472,\n",
       "   0.06456168402467272,\n",
       "   0.03299455837288521,\n",
       "   0.034632460283990085,\n",
       "   0.049389535420146194,\n",
       "   0.07794866247344491,\n",
       "   0.034710723163176686,\n",
       "   0.0063622213002721755,\n",
       "   0.02395113790943493,\n",
       "   0.06407131594974408,\n",
       "   0.031924061733995104,\n",
       "   0.008158681921307457,\n",
       "   0.03744386270801149,\n",
       "   0.07696743023241537,\n",
       "   0.001462869195872055]},\n",
       " 8: {'VV': [0.025743283536176362,\n",
       "   0.12018279316998966,\n",
       "   0.04049789523433459,\n",
       "   0.050867277517163426,\n",
       "   0.15361245714776273,\n",
       "   0.033665667833341066,\n",
       "   0.014074705757201702,\n",
       "   0.07001764560481205,\n",
       "   0.018129069801399847,\n",
       "   0.07473746969675155,\n",
       "   0.049683400304859404,\n",
       "   0.007521680284882816,\n",
       "   0.045988588347571926,\n",
       "   0.06597231910256905,\n",
       "   0.18145079157056354,\n",
       "   0.04738546000465661,\n",
       "   0.033348370429282875,\n",
       "   0.050130144592447634,\n",
       "   0.1695862300280773,\n",
       "   0.11014978217175733,\n",
       "   0.0616000133864795,\n",
       "   0.06154287670309274,\n",
       "   0.07744399488307746,\n",
       "   0.012697815654071784],\n",
       "  'DD': [0.019537692568287333,\n",
       "   0.09731763813326844,\n",
       "   3.860677900768018e-05,\n",
       "   0.0432559151234759,\n",
       "   0.11177999126587915,\n",
       "   -0.01451081130880345,\n",
       "   -0.012776655416283186,\n",
       "   0.07920110938418282,\n",
       "   0.02983297807610304,\n",
       "   0.09748868803989956,\n",
       "   0.01275552748223137,\n",
       "   0.0343362810602461,\n",
       "   0.06810102156631477,\n",
       "   0.0907978896965154,\n",
       "   0.1561243718893862,\n",
       "   0.10374262531033314,\n",
       "   0.0885665555329714,\n",
       "   0.057333324858720815,\n",
       "   0.14092802535787113,\n",
       "   0.025240203846309806,\n",
       "   0.020182590971229868,\n",
       "   0.061294999504849464,\n",
       "   0.12317369233975957,\n",
       "   0.018534222211295574],\n",
       "  'W': [-0.009516461847038575,\n",
       "   0.0027072707101371937,\n",
       "   -0.016510810618313172,\n",
       "   0.015984942771440996,\n",
       "   0.09152880390156136,\n",
       "   0.01032959970594544,\n",
       "   0.025612693468031304,\n",
       "   -0.003810673820464552,\n",
       "   0.04052581525968059,\n",
       "   0.079441391416379,\n",
       "   0.01235811916547045,\n",
       "   -0.002062126343774954,\n",
       "   0.010781922119558187,\n",
       "   -0.003362114695144594,\n",
       "   0.033256004134708105,\n",
       "   0.020687821103148638,\n",
       "   0.03661449955888535,\n",
       "   -0.012710589488174412,\n",
       "   0.0637073004953024,\n",
       "   0.015512880718101344,\n",
       "   -0.04964331412868218,\n",
       "   0.011394723254815152,\n",
       "   0.043457227602052506,\n",
       "   -0.0370147081420859],\n",
       "  'B': [0.02609856212239243,\n",
       "   0.03829971071648584,\n",
       "   0.019883245581218553,\n",
       "   0.043994988031698046,\n",
       "   0.13371240735291287,\n",
       "   0.03167932146577446,\n",
       "   -0.004136391045963573,\n",
       "   0.013197963801572857,\n",
       "   0.03864907182269488,\n",
       "   0.07996544553592526,\n",
       "   0.06234880514224481,\n",
       "   0.03401623383664346,\n",
       "   0.035388509570105,\n",
       "   0.0505096633733431,\n",
       "   0.0741422375582881,\n",
       "   0.03547870088209098,\n",
       "   0.006310088596348653,\n",
       "   0.024860175124484726,\n",
       "   0.06206004874304774,\n",
       "   0.0313969373410845,\n",
       "   0.009336096389705183,\n",
       "   0.03904181913581109,\n",
       "   0.0660770418883587,\n",
       "   0.003583287260810784]},\n",
       " 9: {'VV': [0.022824921901023445,\n",
       "   0.1258598284896186,\n",
       "   0.045030874857153465,\n",
       "   0.042381717419774936,\n",
       "   0.15228862645229002,\n",
       "   0.04322774077443582,\n",
       "   0.012511134413961499,\n",
       "   0.06691726932755683,\n",
       "   0.02064985016183024,\n",
       "   0.07983844132991533,\n",
       "   0.04784589331044259,\n",
       "   0.0004728233712216767,\n",
       "   0.036916988774953335,\n",
       "   0.06720556386322946,\n",
       "   0.17073896810319622,\n",
       "   0.04614434049093167,\n",
       "   0.030373884559665602,\n",
       "   0.055956059533257545,\n",
       "   0.17101389507838236,\n",
       "   0.11289000861245246,\n",
       "   0.0645705715711145,\n",
       "   0.0654505702322558,\n",
       "   0.05464150781380023,\n",
       "   0.012752722385053603],\n",
       "  'DD': [0.020484635094703545,\n",
       "   0.1042934557281587,\n",
       "   0.004838744320182445,\n",
       "   0.036600339085298174,\n",
       "   0.11602650198903776,\n",
       "   -0.00545751528530747,\n",
       "   -0.00833193786441907,\n",
       "   0.0810339165935614,\n",
       "   0.03578070576539085,\n",
       "   0.08201147127498841,\n",
       "   0.017562024904349986,\n",
       "   0.03269844001666096,\n",
       "   0.07515013655178485,\n",
       "   0.08433035881650584,\n",
       "   0.15247402110673294,\n",
       "   0.10112590582264971,\n",
       "   0.08466643922096984,\n",
       "   0.05577370393430953,\n",
       "   0.14022100662925485,\n",
       "   0.022081107253204318,\n",
       "   0.021397299989357528,\n",
       "   0.06839383833195871,\n",
       "   0.11113435753159587,\n",
       "   0.02149198554115777],\n",
       "  'W': [-0.008821547055213682,\n",
       "   -2.4979977864475434e-05,\n",
       "   -0.017892558203061862,\n",
       "   0.005743489779382133,\n",
       "   0.09042218230046573,\n",
       "   0.011867969458263707,\n",
       "   0.02614035388025366,\n",
       "   -0.007117058928514678,\n",
       "   0.03583749304099089,\n",
       "   0.07225734543276022,\n",
       "   0.012997383242007953,\n",
       "   -0.0004212450205203673,\n",
       "   0.009002237118299805,\n",
       "   -0.00854710075377095,\n",
       "   0.017235276550866117,\n",
       "   0.022197021014433903,\n",
       "   0.03364359156898233,\n",
       "   -0.015127714127270993,\n",
       "   0.06107960910634264,\n",
       "   0.02010534133444771,\n",
       "   -0.05246934407682899,\n",
       "   0.0020317522444317894,\n",
       "   0.0396755371264917,\n",
       "   -0.042368106554003485],\n",
       "  'B': [0.025690071486357647,\n",
       "   0.03538733199239712,\n",
       "   0.024426696394551785,\n",
       "   0.043890446693751695,\n",
       "   0.13118921377106166,\n",
       "   0.03380152043823651,\n",
       "   -0.005165440554729211,\n",
       "   0.010237174359655554,\n",
       "   0.04356640705670523,\n",
       "   0.06665455182779371,\n",
       "   0.06183907182968623,\n",
       "   0.030923647071380234,\n",
       "   0.028802717339892717,\n",
       "   0.04341742614195457,\n",
       "   0.06102511204083332,\n",
       "   0.03493967705425146,\n",
       "   0.001215527517069191,\n",
       "   0.02181646801026947,\n",
       "   0.06318250289925127,\n",
       "   0.035080239579856475,\n",
       "   0.01007597463365574,\n",
       "   0.04061124503628446,\n",
       "   0.061605347898772006,\n",
       "   0.004547413534663529]},\n",
       " 10: {'VV': [0.024592674882454854,\n",
       "   0.12216815799648761,\n",
       "   0.043813282082875236,\n",
       "   0.045307112495356294,\n",
       "   0.1510087191153854,\n",
       "   0.03916551844289798,\n",
       "   0.012773807399797535,\n",
       "   0.06489387933004878,\n",
       "   0.022689022405959762,\n",
       "   0.07649311087174367,\n",
       "   0.045727252184310486,\n",
       "   0.0025635029625612,\n",
       "   0.03926170452354235,\n",
       "   0.06372876627596263,\n",
       "   0.17012561757301586,\n",
       "   0.04673950577303622,\n",
       "   0.03008505470072042,\n",
       "   0.05173234889107741,\n",
       "   0.16955319417850123,\n",
       "   0.10813086578259165,\n",
       "   0.061494087775180575,\n",
       "   0.05976809794639184,\n",
       "   0.05296881143286948,\n",
       "   0.011197955760249597],\n",
       "  'DD': [0.0172568814284824,\n",
       "   0.09730640877155997,\n",
       "   0.006064481515213748,\n",
       "   0.03822096748627237,\n",
       "   0.11448530674495784,\n",
       "   -0.009815482042035714,\n",
       "   -0.009960757473982566,\n",
       "   0.08106456400173401,\n",
       "   0.03668007047234731,\n",
       "   0.07405142892160423,\n",
       "   0.013563736064078664,\n",
       "   0.03429320962505982,\n",
       "   0.0708327142173063,\n",
       "   0.08811744480306061,\n",
       "   0.14684705387018174,\n",
       "   0.10023614284976526,\n",
       "   0.08311280668529511,\n",
       "   0.055476592052934086,\n",
       "   0.13809974669593789,\n",
       "   0.021695830883286846,\n",
       "   0.021965609311789487,\n",
       "   0.059038364015435794,\n",
       "   0.10698218027924238,\n",
       "   0.01821656371588074],\n",
       "  'W': [-0.009588351051090833,\n",
       "   0.0015582907524839922,\n",
       "   -0.021109579858319086,\n",
       "   0.0074724976545522265,\n",
       "   0.09217936756800513,\n",
       "   0.006358969273840717,\n",
       "   0.02699184905363542,\n",
       "   -0.006065313782666365,\n",
       "   0.038031819960258166,\n",
       "   0.06911035844661353,\n",
       "   0.010734010067862312,\n",
       "   -0.003395930935448054,\n",
       "   0.010380135245272822,\n",
       "   -0.006062645168787888,\n",
       "   0.013272798202177222,\n",
       "   0.021039935820574375,\n",
       "   0.03585070189015048,\n",
       "   -0.013536745287112698,\n",
       "   0.060246706180778944,\n",
       "   0.0152234705545172,\n",
       "   -0.052643986739835294,\n",
       "   0.005813239955187809,\n",
       "   0.03335223223371999,\n",
       "   -0.03996101705854433],\n",
       "  'B': [0.02451897167047398,\n",
       "   0.03696363840645446,\n",
       "   0.024582240314012745,\n",
       "   0.043315477204388414,\n",
       "   0.13301852477086806,\n",
       "   0.029749103170532188,\n",
       "   -0.0033502658144222708,\n",
       "   0.010646298628223597,\n",
       "   0.041786177962622906,\n",
       "   0.06208611876327151,\n",
       "   0.05966359200954564,\n",
       "   0.0320938457426043,\n",
       "   0.030147401875764146,\n",
       "   0.04385561491437198,\n",
       "   0.060011630333371806,\n",
       "   0.03533816368076748,\n",
       "   0.0019249300295270998,\n",
       "   0.023158183613698896,\n",
       "   0.0607460645217356,\n",
       "   0.03477205802053389,\n",
       "   0.011460664251722099,\n",
       "   0.042488145176988665,\n",
       "   0.05604185681956164,\n",
       "   0.006657317580110016]},\n",
       " 11: {'VV': [0.012726418146039505,\n",
       "   0.10708235380846136,\n",
       "   0.04447592125604693,\n",
       "   0.03777887699148632,\n",
       "   0.09489992345791959,\n",
       "   0.020703869606960777,\n",
       "   -0.000880786924243207,\n",
       "   0.0530475235198858,\n",
       "   0.017272497007148217,\n",
       "   0.038479174759037914,\n",
       "   0.03842666088206677,\n",
       "   -0.0032600294813815,\n",
       "   0.032611744523667,\n",
       "   0.05658916771772459,\n",
       "   0.1442888359333351,\n",
       "   0.040343343934790506,\n",
       "   0.02396334308622646,\n",
       "   0.04752042765667116,\n",
       "   0.1629594630603788,\n",
       "   0.10850702876394129,\n",
       "   0.05419756688277716,\n",
       "   0.05360279275152069,\n",
       "   0.04327094856541024,\n",
       "   0.02286646879613348],\n",
       "  'DD': [0.007821292358972276,\n",
       "   0.08138478805542257,\n",
       "   0.017463742794401885,\n",
       "   0.03217810343829496,\n",
       "   0.06988418127596202,\n",
       "   -0.0058064635544952635,\n",
       "   -0.016812960419093283,\n",
       "   0.0829542805580501,\n",
       "   0.024776705267473914,\n",
       "   0.04600960315255958,\n",
       "   0.0036970826169157563,\n",
       "   0.02790943373290513,\n",
       "   0.06008719625251298,\n",
       "   0.0811890518818584,\n",
       "   0.12081514344163741,\n",
       "   0.09690819586468088,\n",
       "   0.08286169839595296,\n",
       "   0.04439723538214186,\n",
       "   0.1258788031149669,\n",
       "   0.01788918413607915,\n",
       "   0.019232173139943326,\n",
       "   0.05676536836198632,\n",
       "   0.08343968084242649,\n",
       "   0.018542991248823127],\n",
       "  'W': [-0.007350600256341324,\n",
       "   -0.0051014879325650825,\n",
       "   -0.009348099028125929,\n",
       "   -0.0049338667873488565,\n",
       "   0.03434322941017733,\n",
       "   -0.01018383598293779,\n",
       "   0.019821830590527497,\n",
       "   -0.005956259465555472,\n",
       "   0.0303013632840178,\n",
       "   0.028076673923847988,\n",
       "   0.00483207882107251,\n",
       "   -0.007308872699939131,\n",
       "   0.003634258174556426,\n",
       "   -0.023644094851569267,\n",
       "   -0.02195373508202705,\n",
       "   0.019053779479525364,\n",
       "   0.037995305987183356,\n",
       "   -0.022211970382319746,\n",
       "   0.05394169458188752,\n",
       "   0.008867216671533869,\n",
       "   -0.06276008120303524,\n",
       "   0.007526851592756705,\n",
       "   0.020041391564528072,\n",
       "   -0.04153497946796421],\n",
       "  'B': [0.02580558214363584,\n",
       "   0.031313806856655496,\n",
       "   0.019630386550452402,\n",
       "   0.037590847006387935,\n",
       "   0.08008591562759385,\n",
       "   0.024459121383233657,\n",
       "   -0.008074471860393916,\n",
       "   0.01279457239519768,\n",
       "   0.041863209088022116,\n",
       "   0.027685415809070586,\n",
       "   0.05262549433191789,\n",
       "   0.028487437538273878,\n",
       "   0.03016830212683555,\n",
       "   0.03534545124818898,\n",
       "   0.02895122849157169,\n",
       "   0.031551777169410856,\n",
       "   -1.3186149957473871e-05,\n",
       "   0.011264155802940113,\n",
       "   0.05652411280039392,\n",
       "   0.029453061512374378,\n",
       "   0.00785392713904768,\n",
       "   0.046042979168411075,\n",
       "   0.037814002573078404,\n",
       "   0.004945386456386256]}}"
      ]
     },
     "execution_count": 236,
     "metadata": {},
     "output_type": "execute_result"
    }
   ],
   "source": [
    "options_fc_subs"
   ]
  },
  {
   "cell_type": "code",
   "execution_count": 54,
   "id": "2830756c",
   "metadata": {},
   "outputs": [],
   "source": [
    "from scipy.stats import pearsonr"
   ]
  },
  {
   "cell_type": "code",
   "execution_count": 55,
   "id": "1d699e3e",
   "metadata": {
    "scrolled": true
   },
   "outputs": [
    {
     "name": "stderr",
     "output_type": "stream",
     "text": [
      "\r",
      "  0%|                                                    | 0/12 [00:00<?, ?it/s]"
     ]
    },
    {
     "data": {
      "application/vnd.jupyter.widget-view+json": {
       "model_id": "e166132354cd40e3a65e047622e54bc9",
       "version_major": 2,
       "version_minor": 0
      },
      "text/plain": [
       "HBox(children=(HTML(value=''), FloatProgress(value=0.0, max=24.0), HTML(value='')))"
      ]
     },
     "metadata": {},
     "output_type": "display_data"
    },
    {
     "name": "stdout",
     "output_type": "stream",
     "text": [
      "LU_AT\n",
      "LU_EP\n",
      "LU_FB\n",
      "LU_EM\n",
      "LU_GL\n",
      "LU_GP\n",
      "LU_MD\n",
      "LU_MP\n",
      "LU_NG\n",
      "LU_NK\n",
      "LU_SA\n",
      "LU_SL\n",
      "LU_VG\n",
      "LU_YF\n",
      "LU_IR\n",
      "LU_BN\n",
      "LU_ML\n",
      "LU_SM\n",
      "LU_NS\n",
      "LU_NB\n",
      "LU_AF\n",
      "LU_MC\n"
     ]
    },
    {
     "name": "stderr",
     "output_type": "stream",
     "text": [
      "\r",
      "  8%|███▋                                        | 1/12 [00:00<00:04,  2.26it/s]"
     ]
    },
    {
     "name": "stdout",
     "output_type": "stream",
     "text": [
      "LU_AR\n",
      "LU_MT\n",
      "\n"
     ]
    },
    {
     "data": {
      "application/vnd.jupyter.widget-view+json": {
       "model_id": "db402f2650f94386b91e33cd200b72c5",
       "version_major": 2,
       "version_minor": 0
      },
      "text/plain": [
       "HBox(children=(HTML(value=''), FloatProgress(value=0.0, max=24.0), HTML(value='')))"
      ]
     },
     "metadata": {},
     "output_type": "display_data"
    },
    {
     "name": "stderr",
     "output_type": "stream",
     "text": [
      "\r",
      " 17%|███████▎                                    | 2/12 [00:00<00:03,  2.81it/s]"
     ]
    },
    {
     "name": "stdout",
     "output_type": "stream",
     "text": [
      "LU_AT\n",
      "LU_EP\n",
      "LU_FB\n",
      "LU_EM\n",
      "LU_GL\n",
      "LU_GP\n",
      "LU_MD\n",
      "LU_MP\n",
      "LU_NG\n",
      "LU_NK\n",
      "LU_SA\n",
      "LU_SL\n",
      "LU_VG\n",
      "LU_YF\n",
      "LU_IR\n",
      "LU_BN\n",
      "LU_ML\n",
      "LU_SM\n",
      "LU_NS\n",
      "LU_NB\n",
      "LU_AF\n",
      "LU_MC\n",
      "LU_AR\n",
      "LU_MT\n",
      "\n"
     ]
    },
    {
     "data": {
      "application/vnd.jupyter.widget-view+json": {
       "model_id": "ece99aca32e3408a9639d36c386f0bef",
       "version_major": 2,
       "version_minor": 0
      },
      "text/plain": [
       "HBox(children=(HTML(value=''), FloatProgress(value=0.0, max=24.0), HTML(value='')))"
      ]
     },
     "metadata": {},
     "output_type": "display_data"
    },
    {
     "name": "stdout",
     "output_type": "stream",
     "text": [
      "LU_AT\n",
      "LU_EP\n",
      "LU_FB\n",
      "LU_EM\n",
      "LU_GL\n",
      "LU_GP\n",
      "LU_MD\n",
      "LU_MP\n"
     ]
    },
    {
     "name": "stderr",
     "output_type": "stream",
     "text": [
      "\r",
      " 25%|███████████                                 | 3/12 [00:00<00:02,  3.38it/s]"
     ]
    },
    {
     "name": "stdout",
     "output_type": "stream",
     "text": [
      "LU_NG\n",
      "LU_NK\n",
      "LU_SA\n",
      "LU_SL\n",
      "LU_VG\n",
      "LU_YF\n",
      "LU_IR\n",
      "LU_BN\n",
      "LU_ML\n",
      "LU_SM\n",
      "LU_NS\n",
      "LU_NB\n",
      "LU_AF\n",
      "LU_MC\n",
      "LU_AR\n",
      "LU_MT\n",
      "\n"
     ]
    },
    {
     "data": {
      "application/vnd.jupyter.widget-view+json": {
       "model_id": "720423b64014426ab4b244ec22184c3a",
       "version_major": 2,
       "version_minor": 0
      },
      "text/plain": [
       "HBox(children=(HTML(value=''), FloatProgress(value=0.0, max=24.0), HTML(value='')))"
      ]
     },
     "metadata": {},
     "output_type": "display_data"
    },
    {
     "name": "stdout",
     "output_type": "stream",
     "text": [
      "LU_AT\n",
      "LU_EP\n",
      "LU_FB\n",
      "LU_EM\n",
      "LU_GL\n",
      "LU_GP\n",
      "LU_MD\n",
      "LU_MP\n",
      "LU_NG\n",
      "LU_NK\n",
      "LU_SA\n",
      "LU_SL\n",
      "LU_VG\n",
      "LU_YF\n",
      "LU_IR\n"
     ]
    },
    {
     "name": "stderr",
     "output_type": "stream",
     "text": [
      "\r",
      " 33%|██████████████▋                             | 4/12 [00:00<00:02,  3.84it/s]"
     ]
    },
    {
     "name": "stdout",
     "output_type": "stream",
     "text": [
      "LU_BN\n",
      "LU_ML\n",
      "LU_SM\n",
      "LU_NS\n",
      "LU_NB\n",
      "LU_AF\n",
      "LU_MC\n",
      "LU_AR\n",
      "LU_MT\n",
      "\n"
     ]
    },
    {
     "data": {
      "application/vnd.jupyter.widget-view+json": {
       "model_id": "84d0df33eba84aedaab86360f972c2f3",
       "version_major": 2,
       "version_minor": 0
      },
      "text/plain": [
       "HBox(children=(HTML(value=''), FloatProgress(value=0.0, max=24.0), HTML(value='')))"
      ]
     },
     "metadata": {},
     "output_type": "display_data"
    },
    {
     "name": "stdout",
     "output_type": "stream",
     "text": [
      "LU_AT\n",
      "LU_EP\n",
      "LU_FB\n",
      "LU_EM\n",
      "LU_GL\n",
      "LU_GP\n",
      "LU_MD\n",
      "LU_MP\n",
      "LU_NG\n",
      "LU_NK\n",
      "LU_SA\n",
      "LU_SL\n",
      "LU_VG\n",
      "LU_YF\n",
      "LU_IR\n",
      "LU_BN\n",
      "LU_ML\n",
      "LU_SM\n",
      "LU_NS\n",
      "LU_NB\n",
      "LU_AF\n",
      "LU_MC\n",
      "LU_AR\n"
     ]
    },
    {
     "name": "stderr",
     "output_type": "stream",
     "text": [
      "\r",
      " 42%|██████████████████▎                         | 5/12 [00:01<00:01,  4.02it/s]"
     ]
    },
    {
     "name": "stdout",
     "output_type": "stream",
     "text": [
      "LU_MT\n",
      "\n"
     ]
    },
    {
     "data": {
      "application/vnd.jupyter.widget-view+json": {
       "model_id": "bfb01d25757c41d9ac55ecc4fc66fb8e",
       "version_major": 2,
       "version_minor": 0
      },
      "text/plain": [
       "HBox(children=(HTML(value=''), FloatProgress(value=0.0, max=24.0), HTML(value='')))"
      ]
     },
     "metadata": {},
     "output_type": "display_data"
    },
    {
     "name": "stdout",
     "output_type": "stream",
     "text": [
      "LU_AT\n",
      "LU_EP\n",
      "LU_FB\n",
      "LU_EM\n",
      "LU_GL\n",
      "LU_GP\n",
      "LU_MD\n",
      "LU_MP\n",
      "LU_NG\n",
      "LU_NK\n",
      "LU_SA\n",
      "LU_SL\n",
      "LU_VG\n",
      "LU_YF\n",
      "LU_IR\n",
      "LU_BN\n",
      "LU_ML\n",
      "LU_SM\n",
      "LU_NS\n",
      "LU_NB\n"
     ]
    },
    {
     "name": "stderr",
     "output_type": "stream",
     "text": [
      "\r",
      " 50%|██████████████████████                      | 6/12 [00:01<00:01,  4.21it/s]"
     ]
    },
    {
     "name": "stdout",
     "output_type": "stream",
     "text": [
      "LU_AF\n",
      "LU_MC\n",
      "LU_AR\n",
      "LU_MT\n",
      "\n"
     ]
    },
    {
     "data": {
      "application/vnd.jupyter.widget-view+json": {
       "model_id": "cf720f43cf5c42e988cf7d521d048d16",
       "version_major": 2,
       "version_minor": 0
      },
      "text/plain": [
       "HBox(children=(HTML(value=''), FloatProgress(value=0.0, max=24.0), HTML(value='')))"
      ]
     },
     "metadata": {},
     "output_type": "display_data"
    },
    {
     "name": "stdout",
     "output_type": "stream",
     "text": [
      "LU_AT\n",
      "LU_EP\n",
      "LU_FB\n",
      "LU_EM\n",
      "LU_GL\n",
      "LU_GP\n",
      "LU_MD\n",
      "LU_MP\n",
      "LU_NG\n",
      "LU_NK\n",
      "LU_SA\n",
      "LU_SL\n",
      "LU_VG\n",
      "LU_YF\n",
      "LU_IR\n",
      "LU_BN\n",
      "LU_ML\n",
      "LU_SM\n",
      "LU_NS\n",
      "LU_NB\n"
     ]
    },
    {
     "name": "stderr",
     "output_type": "stream",
     "text": [
      "\r",
      " 58%|█████████████████████████▋                  | 7/12 [00:01<00:01,  4.38it/s]"
     ]
    },
    {
     "name": "stdout",
     "output_type": "stream",
     "text": [
      "LU_AF\n",
      "LU_MC\n",
      "LU_AR\n",
      "LU_MT\n",
      "\n"
     ]
    },
    {
     "data": {
      "application/vnd.jupyter.widget-view+json": {
       "model_id": "df44c5931f824751a1b04a776d9132ef",
       "version_major": 2,
       "version_minor": 0
      },
      "text/plain": [
       "HBox(children=(HTML(value=''), FloatProgress(value=0.0, max=24.0), HTML(value='')))"
      ]
     },
     "metadata": {},
     "output_type": "display_data"
    },
    {
     "name": "stdout",
     "output_type": "stream",
     "text": [
      "LU_AT\n",
      "LU_EP\n",
      "LU_FB\n",
      "LU_EM\n",
      "LU_GL\n",
      "LU_GP\n",
      "LU_MD\n",
      "LU_MP\n",
      "LU_NG\n",
      "LU_NK\n",
      "LU_SA\n",
      "LU_SL\n",
      "LU_VG\n",
      "LU_YF\n",
      "LU_IR\n"
     ]
    },
    {
     "name": "stderr",
     "output_type": "stream",
     "text": [
      "\r",
      " 67%|█████████████████████████████▎              | 8/12 [00:01<00:00,  5.13it/s]"
     ]
    },
    {
     "name": "stdout",
     "output_type": "stream",
     "text": [
      "LU_BN\n",
      "LU_ML\n",
      "LU_SM\n",
      "LU_NS\n",
      "LU_NB\n",
      "LU_AF\n",
      "LU_MC\n",
      "LU_AR\n",
      "LU_MT\n",
      "\n"
     ]
    },
    {
     "data": {
      "application/vnd.jupyter.widget-view+json": {
       "model_id": "ce3c3300f24a41b2945a63a5d06fa8b9",
       "version_major": 2,
       "version_minor": 0
      },
      "text/plain": [
       "HBox(children=(HTML(value=''), FloatProgress(value=0.0, max=24.0), HTML(value='')))"
      ]
     },
     "metadata": {},
     "output_type": "display_data"
    },
    {
     "name": "stdout",
     "output_type": "stream",
     "text": [
      "LU_AT\n",
      "LU_EP\n",
      "LU_FB\n",
      "LU_EM\n",
      "LU_GL\n",
      "LU_GP\n",
      "LU_MD\n",
      "LU_MP\n",
      "LU_NG\n",
      "LU_NK\n",
      "LU_SA\n",
      "LU_SL\n",
      "LU_VG\n",
      "LU_YF\n",
      "LU_IR\n",
      "LU_BN\n",
      "LU_ML\n",
      "LU_SM\n",
      "LU_NS\n",
      "LU_NB\n",
      "LU_AF\n",
      "LU_MC\n",
      "LU_AR\n",
      "LU_MT\n"
     ]
    },
    {
     "name": "stderr",
     "output_type": "stream",
     "text": [
      "\r",
      " 75%|█████████████████████████████████           | 9/12 [00:01<00:00,  5.82it/s]"
     ]
    },
    {
     "name": "stdout",
     "output_type": "stream",
     "text": [
      "\n"
     ]
    },
    {
     "data": {
      "application/vnd.jupyter.widget-view+json": {
       "model_id": "468c803c76ea4b3281badde00a243176",
       "version_major": 2,
       "version_minor": 0
      },
      "text/plain": [
       "HBox(children=(HTML(value=''), FloatProgress(value=0.0, max=24.0), HTML(value='')))"
      ]
     },
     "metadata": {},
     "output_type": "display_data"
    },
    {
     "name": "stdout",
     "output_type": "stream",
     "text": [
      "LU_AT\n",
      "LU_EP\n",
      "LU_FB\n",
      "LU_EM\n",
      "LU_GL\n",
      "LU_GP\n",
      "LU_MD\n",
      "LU_MP\n",
      "LU_NG\n",
      "LU_NK\n",
      "LU_SA\n",
      "LU_SL\n",
      "LU_VG\n",
      "LU_YF\n",
      "LU_IR\n",
      "LU_BN\n",
      "LU_ML\n",
      "LU_SM\n",
      "LU_NS\n",
      "LU_NB\n",
      "LU_AF\n"
     ]
    },
    {
     "name": "stderr",
     "output_type": "stream",
     "text": [
      "\r",
      " 83%|███████████████████████████████████▊       | 10/12 [00:01<00:00,  5.70it/s]"
     ]
    },
    {
     "name": "stdout",
     "output_type": "stream",
     "text": [
      "LU_MC\n",
      "LU_AR\n",
      "LU_MT\n",
      "\n"
     ]
    },
    {
     "data": {
      "application/vnd.jupyter.widget-view+json": {
       "model_id": "c239add9bcb9470fa7b86d11e62f73d8",
       "version_major": 2,
       "version_minor": 0
      },
      "text/plain": [
       "HBox(children=(HTML(value=''), FloatProgress(value=0.0, max=24.0), HTML(value='')))"
      ]
     },
     "metadata": {},
     "output_type": "display_data"
    },
    {
     "name": "stdout",
     "output_type": "stream",
     "text": [
      "LU_AT\n",
      "LU_EP\n",
      "LU_FB\n",
      "LU_EM\n",
      "LU_GL\n",
      "LU_GP\n",
      "LU_MD\n",
      "LU_MP\n",
      "LU_NG\n",
      "LU_NK\n",
      "LU_SA\n",
      "LU_SL\n",
      "LU_VG\n",
      "LU_YF\n",
      "LU_IR\n",
      "LU_BN\n",
      "LU_ML\n"
     ]
    },
    {
     "name": "stderr",
     "output_type": "stream",
     "text": [
      "\r",
      " 92%|███████████████████████████████████████▍   | 11/12 [00:02<00:00,  4.61it/s]"
     ]
    },
    {
     "name": "stdout",
     "output_type": "stream",
     "text": [
      "LU_SM\n",
      "LU_NS\n",
      "LU_NB\n",
      "LU_AF\n",
      "LU_MC\n",
      "LU_AR\n",
      "LU_MT\n",
      "\n"
     ]
    },
    {
     "data": {
      "application/vnd.jupyter.widget-view+json": {
       "model_id": "9747c15516514388940069291abb3d40",
       "version_major": 2,
       "version_minor": 0
      },
      "text/plain": [
       "HBox(children=(HTML(value=''), FloatProgress(value=0.0, max=24.0), HTML(value='')))"
      ]
     },
     "metadata": {},
     "output_type": "display_data"
    },
    {
     "name": "stdout",
     "output_type": "stream",
     "text": [
      "LU_AT\n",
      "LU_EP\n",
      "LU_FB\n",
      "LU_EM\n",
      "LU_GL\n",
      "LU_GP\n",
      "LU_MD\n",
      "LU_MP\n",
      "LU_NG\n",
      "LU_NK\n",
      "LU_SA\n",
      "LU_SL\n",
      "LU_VG\n",
      "LU_YF\n",
      "LU_IR\n",
      "LU_BN\n",
      "LU_ML\n",
      "LU_SM\n",
      "LU_NS\n",
      "LU_NB\n",
      "LU_AF\n",
      "LU_MC\n",
      "LU_AR\n"
     ]
    },
    {
     "name": "stderr",
     "output_type": "stream",
     "text": [
      "100%|███████████████████████████████████████████| 12/12 [00:02<00:00,  4.41it/s]"
     ]
    },
    {
     "name": "stdout",
     "output_type": "stream",
     "text": [
      "LU_MT\n",
      "\n"
     ]
    },
    {
     "name": "stderr",
     "output_type": "stream",
     "text": [
      "\n"
     ]
    }
   ],
   "source": [
    "# dictionary per option\n",
    "options_r_subs = {}\n",
    "options_p_subs = {}\n",
    "\n",
    "\n",
    "# method definition\n",
    "method = \"average\"   # \"average\" (average signals -- 1st vestion), \"slices\" (corr per slice -- 2nd version)\n",
    "auto = False    # If auto is True: template ROIs are used, \n",
    "               # if False: manual seeds\n",
    "\n",
    "if auto:\n",
    "    add = \"ROIs\"\n",
    "else:\n",
    "    add = \"seeds\"\n",
    "\n",
    "#  dictionary per option\n",
    "tempfilt = \"BP13\"\n",
    "options_fc_subs = {}\n",
    "options_z_subs = {}\n",
    "\n",
    "for o in tqdm(options_to_consider):\n",
    "    \n",
    "\n",
    "    input_den_image = get_filename(o, tempfilt)\n",
    "    out_name = get_option_foldername(o)\n",
    "    outfolderpath = f\"PreProc-Comparison/{out_name}\"\n",
    "    \n",
    "    # V-V 0,1\n",
    "    # D-D 2,3\n",
    "    # VR-DR 0,2  --> within\n",
    "    # VL-DL 1,3  --> within \n",
    "    # VR-DL 0,3  --> between\n",
    "    # VL-DR 1,2  --> between\n",
    "    dist_corr_vv = np.zeros(len(subjects_paths))\n",
    "    dist_corr_dd = np.zeros(len(subjects_paths))\n",
    "    dist_corr_within = np.zeros(len(subjects_paths)*2)\n",
    "    dist_corr_between = np.zeros(len(subjects_paths)*2)\n",
    "    \n",
    "    dist_corr_vv_p = np.zeros(len(subjects_paths))\n",
    "    dist_corr_dd_p = np.zeros(len(subjects_paths))\n",
    "    dist_corr_within_p = np.zeros(len(subjects_paths)*2)\n",
    "    dist_corr_between_p = np.zeros(len(subjects_paths)*2)\n",
    "    \n",
    "    for s in trange(len(subjects_paths)):\n",
    "        subname = subjects_paths[s].split('/')[-1]\n",
    "        print(subname)\n",
    "        Xsub = np.load(os.path.join(data_path,outfolderpath,tempfilt,method,add,subname,\"Xave.npy\"))\n",
    "        #Xsub = np.load(os.path.join(data_path,folder_oi, subname.split('/')[-1],\"Xave.npy\"))\n",
    "        # VV\n",
    "        dist_corr_vv[s], dist_corr_vv_p[s] = pearsonr(Xsub[0,:],Xsub[1,:])\n",
    "        # DD\n",
    "        dist_corr_dd[s], dist_corr_dd_p[s] = pearsonr(Xsub[2,:],Xsub[3,:])\n",
    "        # W\n",
    "        dist_corr_within[s], dist_corr_within_p[s] = pearsonr(Xsub[0,:],Xsub[2,:])\n",
    "        dist_corr_within[s+len(subjects_paths)], dist_corr_within_p[s+len(subjects_paths)] = pearsonr(Xsub[1,:],Xsub[3,:])\n",
    "\n",
    "        # B\n",
    "        dist_corr_between[s], dist_corr_between_p[s] = pearsonr(Xsub[0,:],Xsub[3,:])\n",
    "        dist_corr_between[s+len(subjects_paths)], dist_corr_between_p[s+len(subjects_paths)] = pearsonr(Xsub[1,:],Xsub[2,:])\n",
    "\n",
    "    \n",
    "    options_r_subs[o] = {'VV': dist_corr_vv, 'DD': dist_corr_dd, 'W':dist_corr_within, 'B':dist_corr_between}\n",
    "    options_p_subs[o] = {'VV': dist_corr_vv_p, 'DD': dist_corr_dd_p, 'W':dist_corr_within_p, 'B':dist_corr_between_p}"
   ]
  },
  {
   "cell_type": "code",
   "execution_count": 56,
   "id": "ebeafa37",
   "metadata": {},
   "outputs": [
    {
     "data": {
      "text/plain": [
       "{0: {'VV': array([8.68692936e-02, 4.94243333e-01, 1.52921307e-01, 1.30579577e-01,\n",
       "         3.01184676e-01, 3.01480554e-01, 1.63615005e-01, 1.49941874e-01,\n",
       "         4.99750418e-05, 4.62818189e-01, 8.87097761e-02, 2.29515384e-01,\n",
       "         6.51715477e-01, 4.60649058e-01, 3.04638936e-01, 2.61861915e-01,\n",
       "         1.16045450e-01, 5.00097061e-03, 1.33551031e-01, 2.85539388e-01,\n",
       "         1.31752733e-01, 2.74032833e-01, 3.10665997e-01, 7.91414837e-02]),\n",
       "  'DD': array([ 0.02576424,  0.09842243,  0.09073995,  0.13856614,  0.37437869,\n",
       "         -0.05096398,  0.03878794,  0.12035217, -0.03311017,  0.5604306 ,\n",
       "          0.03575656,  0.10122138,  0.2104898 ,  0.22955207,  0.4715209 ,\n",
       "          0.1424964 ,  0.08526272,  0.03528939,  0.09204206,  0.12189118,\n",
       "          0.0904909 ,  0.29315878,  0.5688451 ,  0.09084146]),\n",
       "  'W': array([-0.17470575,  0.00140961, -0.00089187, -0.05122496,  0.29759168,\n",
       "         -0.0611469 ,  0.18580254, -0.00282206,  0.55262811,  0.4449104 ,\n",
       "          0.02994433, -0.06076262,  0.15863742, -0.08782666, -0.11802864,\n",
       "          0.04978355,  0.06076791, -0.02313169, -0.12845032,  0.30684358,\n",
       "         -0.01659169,  0.23251348,  0.21962252, -0.05840767, -0.07642547,\n",
       "         -0.11637441,  0.04364672,  0.01890971,  0.1522625 ,  0.06639913,\n",
       "         -0.02872516, -0.00064168,  0.26760832,  0.40567472, -0.01803954,\n",
       "         -0.0235804 ,  0.32039569,  0.11546619, -0.00215839, -0.09507316,\n",
       "          0.03226617, -0.01805939, -0.02216259,  0.09782736,  0.10901245,\n",
       "         -0.12684487,  0.12423667,  0.03339553]),\n",
       "  'B': array([-0.08267845,  0.106446  ,  0.03979526,  0.08556164,  0.16045362,\n",
       "          0.1036837 , -0.03808516,  0.03052589, -0.13364554,  0.5474889 ,\n",
       "          0.04164823,  0.07566785,  0.35183406, -0.02106467,  0.02131595,\n",
       "          0.01118383, -0.02217899, -0.00200475, -0.06725663,  0.04840917,\n",
       "          0.28867611,  0.13215165,  0.25296026, -0.07420902,  0.10240337,\n",
       "         -0.09530209, -0.03853921, -0.04809725,  0.20104538,  0.06089049,\n",
       "          0.0308032 ,  0.06385263,  0.13502501,  0.41401685,  0.14023383,\n",
       "          0.05653824,  0.26992814,  0.0739565 , -0.13449768,  0.16389095,\n",
       "          0.10656855, -0.08541297,  0.23295981,  0.1173487 ,  0.09708332,\n",
       "         -0.00630375,  0.21057249,  0.09575826])},\n",
       " 1: {'VV': array([ 0.17838931,  0.30795655,  0.20307784,  0.47677598,  0.57978975,\n",
       "          0.42437675,  0.05042967,  0.07330213, -0.25694684,  0.41989236,\n",
       "          0.03226698,  0.09152367,  0.04529745,  0.31629814,  0.33487478,\n",
       "          0.2253718 , -0.03986588, -0.01681439,  0.20100682,  0.08160403,\n",
       "          0.0807798 ,  0.26870843,  0.49760992,  0.01972931]),\n",
       "  'DD': array([-4.35271599e-02,  3.28796141e-01,  2.10419683e-02,  5.34644287e-01,\n",
       "          6.75833657e-01, -2.81604928e-04,  1.27667972e-01,  5.86019718e-02,\n",
       "          1.97349211e-02,  4.71906934e-01,  9.33354057e-02,  6.15152936e-02,\n",
       "          9.44524211e-02,  3.15081903e-01,  5.01442233e-01,  1.94230468e-01,\n",
       "          7.57814955e-02,  8.68046842e-02,  1.26201637e-01,  7.30355451e-02,\n",
       "          1.91021957e-01,  2.69347155e-01,  5.90955360e-01,  4.87680639e-02]),\n",
       "  'W': array([-1.88676752e-01,  1.27056384e-01,  1.33751968e-02,  5.49808749e-01,\n",
       "          5.98089346e-01, -1.18296301e-02,  2.41851075e-01,  9.01552037e-02,\n",
       "          1.70413697e-01,  4.83186383e-01,  4.19661462e-02,  1.89413838e-01,\n",
       "          1.40856763e-04,  8.30663276e-02,  7.84129041e-02,  2.23976077e-02,\n",
       "          2.13767379e-01, -1.13897908e-01,  7.39092243e-02,  1.99236252e-01,\n",
       "          1.60412317e-01,  2.35951016e-01,  3.73285403e-01,  1.13705532e-02,\n",
       "          1.27781821e-01, -2.88491552e-02,  5.42945571e-02,  4.62127153e-01,\n",
       "          4.04244265e-01,  1.76149958e-01,  4.88272385e-02,  1.67096730e-02,\n",
       "          4.75986544e-01,  4.28167142e-01, -8.69776319e-02,  3.46255163e-02,\n",
       "          1.18459069e-01,  1.70946634e-01,  3.13588104e-01, -1.37454561e-01,\n",
       "          1.88977388e-02,  4.87561918e-03,  1.15050376e-01, -1.80964257e-02,\n",
       "          1.10516203e-01,  3.73560352e-02,  4.35811434e-01, -5.60132521e-03]),\n",
       "  'B': array([ 0.00913462,  0.10267094, -0.08644765,  0.47261136,  0.51120727,\n",
       "          0.12394027, -0.11448844,  0.14827956, -0.06268808,  0.51686151,\n",
       "          0.03154174,  0.17122479,  0.02637479,  0.1022999 ,  0.27686051,\n",
       "          0.06282769,  0.03875789, -0.07013391,  0.00397832,  0.008826  ,\n",
       "          0.18642809,  0.212098  ,  0.40396502,  0.0191162 , -0.14009953,\n",
       "         -0.00100772,  0.02410771,  0.46859644,  0.46656892, -0.00236613,\n",
       "          0.07701753,  0.12364722, -0.02731832,  0.26037781,  0.13010849,\n",
       "          0.08242089,  0.14928672,  0.08263372,  0.14096147,  0.13864544,\n",
       "          0.03111089, -0.00729404,  0.28596456, -0.00110624,  0.01030018,\n",
       "          0.05343646,  0.4965984 ,  0.06843662])},\n",
       " 2: {'VV': array([ 0.20212876,  0.3169459 ,  0.20794491,  0.37043775,  0.50995361,\n",
       "          0.45229791,  0.02733013,  0.07589581, -0.21830652,  0.31861674,\n",
       "          0.02523534,  0.21521585,  0.05578069,  0.34069086,  0.33164891,\n",
       "          0.17284018, -0.03809534, -0.02348737,  0.20684703,  0.0929969 ,\n",
       "          0.16568367,  0.28991428,  0.36239225,  0.02771377]),\n",
       "  'DD': array([-0.06341906,  0.36905524,  0.02424433,  0.39310779,  0.69713036,\n",
       "         -0.02439258,  0.10682046,  0.10767212,  0.17253597,  0.26874365,\n",
       "          0.09680209,  0.04572021,  0.12547982,  0.27961844,  0.5187904 ,\n",
       "          0.16323263,  0.01901046,  0.07117014,  0.05754067,  0.10661808,\n",
       "          0.22654489,  0.31489175,  0.51640414,  0.03917499]),\n",
       "  'W': array([-1.85908950e-01,  1.07485686e-01,  3.23843403e-02,  4.45143347e-01,\n",
       "          6.02966507e-01, -5.04417476e-02,  2.09346216e-01,  8.55244661e-02,\n",
       "          1.50855140e-01,  3.21069663e-01,  3.65657551e-02,  1.55795294e-01,\n",
       "          2.05212839e-03,  5.75376794e-02,  8.49810540e-02, -4.55713876e-02,\n",
       "          1.85422740e-01, -9.90293268e-02,  9.31779602e-02,  2.01378055e-01,\n",
       "          2.49536823e-01,  2.59234132e-01,  3.18238368e-01, -2.97632648e-03,\n",
       "          1.03480166e-01, -4.73061390e-02,  6.59793728e-02,  3.24074093e-01,\n",
       "          5.05038427e-01,  1.43631457e-01,  5.51165156e-02,  5.94985371e-03,\n",
       "          3.51305747e-01,  3.32437061e-01, -1.08779198e-01,  5.74164213e-03,\n",
       "          1.21029658e-01,  2.03643684e-01,  2.29221349e-01, -2.01011277e-01,\n",
       "         -8.35763470e-03, -3.08491148e-04,  7.23378002e-02, -2.36024844e-02,\n",
       "          1.84674530e-01,  5.73317430e-02,  3.58903972e-01, -5.54801565e-03]),\n",
       "  'B': array([ 0.02969793,  0.10422519, -0.10688858,  0.34493634,  0.58429637,\n",
       "          0.11696596, -0.09885075,  0.16211879,  0.07052511,  0.37138346,\n",
       "          0.02341418,  0.11718202,  0.00717839,  0.0719195 ,  0.27377213,\n",
       "          0.02304629,  0.03291116, -0.06098169,  0.01553641,  0.03157717,\n",
       "          0.33068051,  0.20386561,  0.37911531,  0.02149972, -0.16536091,\n",
       "         -0.01904292,  0.00562363,  0.33473627,  0.52885208, -0.01539726,\n",
       "          0.03607623,  0.14190899,  0.02152794,  0.15677963,  0.11171001,\n",
       "          0.21738096,  0.16182548,  0.1383727 ,  0.13416781,  0.01468256,\n",
       "          0.02220817, -0.00693981,  0.27504008, -0.00152553,  0.07293267,\n",
       "          0.09419391,  0.42409274,  0.06281168])},\n",
       " 3: {'VV': array([ 0.01393729,  0.26257246,  0.24543472,  0.12200435,  0.19626815,\n",
       "         -0.02354165,  0.01269612,  0.08770761, -0.06632131,  0.10998846,\n",
       "          0.0387012 ,  0.19138816,  0.07370438,  0.30877382,  0.24150805,\n",
       "          0.02237621, -0.047929  , -0.02752994,  0.21756152,  0.19997939,\n",
       "         -0.01373149,  0.29228007,  0.31823664,  0.01926947]),\n",
       "  'DD': array([-0.0365632 ,  0.31658072,  0.05338636,  0.17454705,  0.37340442,\n",
       "         -0.0783288 ,  0.11864071,  0.04565458,  0.04386989,  0.08765952,\n",
       "          0.12872581,  0.0316146 ,  0.09777554,  0.2065094 ,  0.36364074,\n",
       "          0.13424471,  0.0334683 ,  0.05091378,  0.10108035,  0.13133825,\n",
       "         -0.0788884 ,  0.28892554,  0.28078768,  0.0291359 ]),\n",
       "  'W': array([-1.08886727e-01,  1.77740304e-01,  3.46399203e-02,  1.40161035e-01,\n",
       "          2.44013808e-01,  5.48950385e-02,  1.77706164e-01,  7.24112247e-02,\n",
       "          1.11265206e-01,  1.93022572e-01,  5.90352626e-02,  1.75488347e-01,\n",
       "         -9.55580391e-03,  1.21322786e-01, -5.49037044e-02, -6.15088980e-02,\n",
       "          2.03665123e-01, -1.10768292e-01,  8.92284305e-02,  1.77594280e-01,\n",
       "          5.80018805e-02,  1.69205567e-01,  5.87114855e-02, -1.19392696e-04,\n",
       "          1.17289957e-01,  3.27362607e-02,  9.06716398e-02,  2.01702974e-01,\n",
       "          2.41685732e-01,  3.79603160e-02,  5.64610181e-02,  4.33241912e-02,\n",
       "          2.65747352e-01, -9.49487599e-03, -1.03957232e-01,  1.70767378e-02,\n",
       "          1.02265077e-01,  5.20820800e-02,  1.88309142e-02, -8.00131955e-02,\n",
       "          4.92826172e-02, -2.28354621e-02,  8.03695299e-02, -1.23542385e-03,\n",
       "         -1.66221527e-02, -1.89811534e-02,  1.48575803e-01, -6.65177363e-02]),\n",
       "  'B': array([ 0.00773349,  0.19952009, -0.12760476,  0.103528  ,  0.27465081,\n",
       "          0.07810465, -0.13016435,  0.18756894,  0.05934143,  0.18819686,\n",
       "          0.03838411,  0.14283929,  0.0365074 ,  0.08631716,  0.05952628,\n",
       "          0.09567587,  0.05561454, -0.06413661,  0.00146032,  0.01097342,\n",
       "          0.03457443,  0.14598132,  0.1082497 , -0.0167488 , -0.02012394,\n",
       "          0.05904108, -0.05816167,  0.0955726 ,  0.20408512, -0.088519  ,\n",
       "          0.02778848,  0.15579118,  0.10894542, -0.16135618,  0.09852004,\n",
       "          0.22606128,  0.15351598,  0.03954984,  0.00223151,  0.05253937,\n",
       "          0.06927649, -0.04726437,  0.31739692,  0.03220534, -0.06618062,\n",
       "          0.06963304,  0.24830311,  0.05674515])},\n",
       " 4: {'VV': array([ 0.04203659,  0.2603838 ,  0.22885498,  0.12177518,  0.24477586,\n",
       "         -0.00855993,  0.00143743,  0.07509832, -0.07069702,  0.11595654,\n",
       "          0.02912072,  0.19218272,  0.06415889,  0.33507195,  0.23993652,\n",
       "          0.02464281, -0.08095375, -0.02749766,  0.25394017,  0.19978229,\n",
       "         -0.01723445,  0.29414204,  0.24459102,  0.0138793 ]),\n",
       "  'DD': array([-0.05231777,  0.32098996,  0.05178959,  0.16275885,  0.32767471,\n",
       "         -0.07726007,  0.10459765,  0.07870737,  0.10221522,  0.06540669,\n",
       "          0.11411577,  0.03476481,  0.10842645,  0.15499257,  0.37497764,\n",
       "          0.13711029, -0.02805041,  0.04498781,  0.05957752,  0.12598454,\n",
       "         -0.08072045,  0.27491729,  0.24511994,  0.02936295]),\n",
       "  'W': array([-0.10024737,  0.1800767 ,  0.02757776,  0.13853576,  0.29362657,\n",
       "          0.01521784,  0.17298164,  0.08506816,  0.07405037,  0.20345468,\n",
       "          0.0457948 ,  0.17980902,  0.00122476,  0.09147343, -0.05527467,\n",
       "         -0.04267653,  0.18072006, -0.11226475,  0.11802473,  0.17606798,\n",
       "          0.0600153 ,  0.20388049,  0.11012265, -0.01398212,  0.08506025,\n",
       "          0.03081902,  0.08153001,  0.16080048,  0.17012663,  0.02635563,\n",
       "          0.05948213,  0.01352324,  0.27363085,  0.01576809, -0.11151231,\n",
       "          0.01809918,  0.09713291,  0.07940526, -0.00927866, -0.07947601,\n",
       "          0.00538466, -0.02138327,  0.04359502, -0.00772928, -0.01466627,\n",
       "         -0.00642622,  0.19723107, -0.06220921]),\n",
       "  'B': array([ 0.02568788,  0.19555995, -0.14485288,  0.10122466,  0.32293398,\n",
       "          0.06676054, -0.11042072,  0.16540836,  0.08999358,  0.18894007,\n",
       "          0.01590413,  0.14373569,  0.02221112,  0.03857253,  0.04249789,\n",
       "          0.08299088, -0.02660502, -0.06126912,  0.02942546,  0.01188866,\n",
       "          0.04029492,  0.16821789,  0.20138059, -0.01532206, -0.05338975,\n",
       "          0.06158961, -0.06228496,  0.06841035,  0.13417808, -0.07151794,\n",
       "          0.01541185,  0.17029392,  0.10727427, -0.0693112 ,  0.09537451,\n",
       "          0.22441904,  0.15920136,  0.06878157,  0.00437129,  0.05233856,\n",
       "          0.04072586, -0.04638791,  0.30875965,  0.02698532, -0.06460149,\n",
       "          0.11558929,  0.28204591,  0.05913002])},\n",
       " 5: {'VV': array([ 0.17900722,  0.33109794,  0.21103948,  0.46360319,  0.59781974,\n",
       "          0.44846203,  0.03564935,  0.07716817, -0.26784535,  0.42619591,\n",
       "          0.03796825,  0.19150304,  0.07772651,  0.32613118,  0.39578736,\n",
       "          0.21274487, -0.04881737, -0.02391664,  0.22511401,  0.08132464,\n",
       "          0.15706046,  0.24392694,  0.51159216,  0.03491403]),\n",
       "  'DD': array([-0.07118209,  0.40126646,  0.02084422,  0.50002717,  0.68122493,\n",
       "          0.01288046,  0.11194848,  0.05420745, -0.01121325,  0.46865778,\n",
       "          0.10926903,  0.04260172,  0.10949413,  0.30213057,  0.54400398,\n",
       "          0.23124096,  0.10236722,  0.08186306,  0.08061511,  0.08184153,\n",
       "          0.26300416,  0.28147783,  0.64093487,  0.05665057]),\n",
       "  'W': array([-1.32743200e-01,  1.15852059e-01, -1.36879618e-02,  5.29965593e-01,\n",
       "          6.01695262e-01, -3.37583556e-02,  2.35627232e-01,  8.30758145e-02,\n",
       "          1.82830080e-01,  4.87691976e-01,  5.74838401e-02,  1.57444102e-01,\n",
       "          2.14387865e-03,  8.96659614e-02,  1.21831705e-01,  3.18390623e-02,\n",
       "          2.04344818e-01, -9.88748000e-02,  1.12490697e-01,  2.46284295e-01,\n",
       "          2.18810870e-01,  2.16147163e-01,  4.48701985e-01,  1.84487883e-02,\n",
       "          1.47363143e-01, -3.87001744e-02,  7.14076417e-02,  4.90732830e-01,\n",
       "          4.16561213e-01,  1.90304681e-01,  6.54960593e-02,  5.53788178e-02,\n",
       "          4.49023081e-01,  4.37270678e-01, -1.00607691e-01, -3.51648819e-03,\n",
       "          1.26152434e-01,  1.91627700e-01,  3.79176777e-01, -1.42942050e-01,\n",
       "          1.06218916e-02,  8.89731834e-03,  1.19230201e-01, -1.59855550e-02,\n",
       "          1.78742845e-01, -2.41446578e-03,  4.45713819e-01,  5.19962512e-05]),\n",
       "  'B': array([ 0.0474646 ,  0.10553495, -0.09173029,  0.45237919,  0.53012196,\n",
       "          0.14664302, -0.11110614,  0.16430297, -0.06884995,  0.52999753,\n",
       "          0.03759287,  0.12210344,  0.02206316,  0.11833788,  0.33890996,\n",
       "          0.06049526,  0.02330207, -0.0543478 ,  0.01026021,  0.03646145,\n",
       "          0.292369  ,  0.17792347,  0.47720865,  0.03226749, -0.12958403,\n",
       "         -0.04191991,  0.04278146,  0.45953665,  0.48563777, -0.01475564,\n",
       "          0.06880572,  0.13971256, -0.0573864 ,  0.27883785,  0.14456722,\n",
       "          0.21368055,  0.14512018,  0.06759961,  0.19912603,  0.14190748,\n",
       "          0.00488543, -0.01432493,  0.31717398,  0.00080038,  0.06270939,\n",
       "          0.02561711,  0.51385771,  0.05265216])},\n",
       " 6: {'VV': array([ 0.01337115,  0.27528018,  0.17851787,  0.18604697,  0.40747611,\n",
       "          0.18306783,  0.02421315,  0.0135816 , -0.04331063,  0.17606704,\n",
       "          0.01887601,  0.12020893,  0.05778432,  0.33465132,  0.33484794,\n",
       "          0.0327427 , -0.02371323, -0.04803206,  0.14575559,  0.14658467,\n",
       "          0.02906664,  0.22518304,  0.44142946,  0.01173381]),\n",
       "  'DD': array([-0.00772791,  0.3030354 ,  0.05574301,  0.21093053,  0.47133766,\n",
       "         -0.07145923,  0.14152152,  0.07058611,  0.14018464,  0.23598624,\n",
       "          0.06601699,  0.07064914,  0.08846976,  0.17997525,  0.52758805,\n",
       "          0.10155153,  0.05238042,  0.05824238,  0.10273693,  0.17272995,\n",
       "         -0.12417313,  0.26178826,  0.53444155,  0.03744126]),\n",
       "  'W': array([-0.16287865,  0.03502336, -0.02431582,  0.27043282,  0.46935238,\n",
       "         -0.02458823,  0.16962024,  0.06305787,  0.06560158,  0.25355481,\n",
       "          0.00867707,  0.11653116, -0.04187736,  0.0196069 ,  0.16932213,\n",
       "         -0.10351361,  0.18103665, -0.1090516 ,  0.04331459,  0.17432405,\n",
       "          0.03080066,  0.17411358,  0.39459832,  0.01629897,  0.08276755,\n",
       "         -0.04748291,  0.04399038,  0.15503033,  0.38211054,  0.07322501,\n",
       "          0.04710377,  0.0242356 ,  0.25924395,  0.14850833, -0.07612385,\n",
       "          0.02741528,  0.12533975,  0.06002842,  0.36343326, -0.00950938,\n",
       "          0.07304661,  0.01165196,  0.0828062 , -0.05537647, -0.06754829,\n",
       "         -0.03917809,  0.37539166, -0.09338594]),\n",
       "  'B': array([-0.02413223,  0.12345916, -0.08347252,  0.14394555,  0.41418406,\n",
       "          0.0635336 , -0.11343301,  0.13821271,  0.09943339,  0.20499565,\n",
       "          0.03293809,  0.1451664 ,  0.00395428,  0.09612083,  0.37874526,\n",
       "          0.08673836,  0.04117154, -0.04758332, -0.03315145, -0.02183031,\n",
       "          0.04599751,  0.11837964,  0.38202144, -0.01442676,  0.01098481,\n",
       "         -0.0746743 , -0.01712167,  0.18250017,  0.36424884, -0.00922229,\n",
       "          0.02758487,  0.08552173,  0.1051938 ,  0.1141102 ,  0.11944863,\n",
       "          0.14147933,  0.16329682,  0.00944333,  0.22692048,  0.05221111,\n",
       "          0.04663989, -0.01674735,  0.27975213, -0.01146076, -0.05688073,\n",
       "          0.05334386,  0.4748177 ,  0.04034001])},\n",
       " 7: {'VV': array([ 0.05732946,  0.26430097,  0.1322657 ,  0.08901934,  0.46322018,\n",
       "          0.18039852, -0.02215866,  0.05102556, -0.00993763,  0.19332489,\n",
       "          0.04934477,  0.08462255,  0.01935703,  0.34301607,  0.34673639,\n",
       "          0.0409967 , -0.01687238, -0.00105891,  0.16060451,  0.12746266,\n",
       "         -0.00790051,  0.151286  ,  0.40376496,  0.01579189]),\n",
       "  'DD': array([-0.04213897,  0.32652477,  0.0547141 ,  0.19537496,  0.50017069,\n",
       "         -0.0790968 ,  0.14088332,  0.03445536,  0.09677914,  0.22369569,\n",
       "          0.03166161,  0.02389005,  0.09172146,  0.09646942,  0.53131365,\n",
       "          0.16893224,  0.04790468,  0.03597212,  0.06261797,  0.18748595,\n",
       "         -0.09561627,  0.1986749 ,  0.47690828,  0.00078683]),\n",
       "  'W': array([-0.08093527,  0.03545929, -0.07862833,  0.23297847,  0.47941261,\n",
       "         -0.05960928,  0.17635051,  0.08034384,  0.07354423,  0.27167174,\n",
       "          0.01347702,  0.13061439, -0.03930221,  0.01224585,  0.17730334,\n",
       "         -0.0599272 ,  0.16280553, -0.10720571,  0.05043981,  0.19614558,\n",
       "          0.02721979,  0.1517173 ,  0.38880935,  0.01375006,  0.09027499,\n",
       "         -0.06146894,  0.08170889,  0.15822701,  0.36226163,  0.10086242,\n",
       "          0.09650258,  0.02594438,  0.2472922 ,  0.14817835, -0.05727468,\n",
       "          0.0189116 ,  0.11413729,  0.07042923,  0.33843173, -0.00616849,\n",
       "          0.07541265, -0.01984664,  0.08381398, -0.02096341, -0.06471576,\n",
       "         -0.06205846,  0.33377543, -0.06794703]),\n",
       "  'B': array([ 0.03065443,  0.14242477, -0.14253815,  0.12850482,  0.41731841,\n",
       "          0.08910916, -0.05806062,  0.14760156,  0.08228035,  0.20984053,\n",
       "          0.04291864,  0.12796598,  0.05334005,  0.09604233,  0.39448947,\n",
       "          0.10058796,  0.02199409, -0.02077251,  0.00133529,  0.02629837,\n",
       "          0.07692596,  0.11715177,  0.40713654, -0.03348069, -0.02534087,\n",
       "         -0.0759424 , -0.00307293,  0.10443504,  0.41311324, -0.00993921,\n",
       "          0.02900286,  0.11680629,  0.04027691,  0.19995939,  0.14715268,\n",
       "          0.11804625,  0.20838327,  0.0138448 ,  0.22497285,  0.09184372,\n",
       "          0.02574917, -0.0344292 ,  0.27692867,  0.02698016, -0.07063688,\n",
       "          0.04599689,  0.42230458,  0.04759569])},\n",
       " 8: {'VV': array([ 0.06181859,  0.25887054,  0.13518081,  0.10157734,  0.45244501,\n",
       "          0.15408664, -0.01441759,  0.0483349 , -0.01195066,  0.18817449,\n",
       "          0.05060315,  0.08804705, -0.0037691 ,  0.34479124,  0.30719899,\n",
       "          0.0401983 , -0.01301794,  0.00755264,  0.15835452,  0.12066023,\n",
       "         -0.00176168,  0.12968935,  0.34959374,  0.01570973]),\n",
       "  'DD': array([-0.04476434,  0.3081797 ,  0.04735035,  0.20660405,  0.4661868 ,\n",
       "         -0.09197016,  0.14045342,  0.02205234,  0.08679269,  0.20582811,\n",
       "          0.02046583,  0.01313777,  0.08404854,  0.10264205,  0.48022313,\n",
       "          0.17267762,  0.03257231,  0.04208839,  0.09350596,  0.16934936,\n",
       "         -0.10068032,  0.16116195,  0.39669223,  0.01654844]),\n",
       "  'W': array([-0.08281697,  0.03526092, -0.07929703,  0.23072957,  0.48297067,\n",
       "         -0.07078537,  0.17618598,  0.08807485,  0.07652732,  0.26140584,\n",
       "          0.00832306,  0.13662015, -0.03286169,  0.03734661,  0.12643092,\n",
       "         -0.05654673,  0.1848695 , -0.11972962,  0.04909408,  0.17442173,\n",
       "          0.02092063,  0.1478594 ,  0.29909589,  0.00915298,  0.08574466,\n",
       "         -0.05634377,  0.07401724,  0.16177531,  0.34357646,  0.10482716,\n",
       "          0.10034835, -0.00169227,  0.25074502,  0.12405979, -0.04829617,\n",
       "          0.02040362,  0.10859617,  0.06947892,  0.26521944, -0.00618867,\n",
       "          0.07270552, -0.0107692 ,  0.09841543, -0.02442093, -0.06378177,\n",
       "         -0.05148651,  0.26993131, -0.06991049]),\n",
       "  'B': array([ 0.04049253,  0.13269685, -0.14349093,  0.1368102 ,  0.41189134,\n",
       "          0.09552606, -0.06147173,  0.14733887,  0.08339383,  0.20167509,\n",
       "          0.02930137,  0.1302643 ,  0.05876179,  0.11069383,  0.33810364,\n",
       "          0.09335066,  0.02261463, -0.02236682,  0.00474836,  0.00933285,\n",
       "          0.08062465,  0.10838498,  0.32394242, -0.03974197, -0.02878583,\n",
       "         -0.06802833, -0.00315841,  0.11161631,  0.37806189, -0.02611686,\n",
       "          0.04053213,  0.11015539,  0.03114073,  0.18564119,  0.15803159,\n",
       "          0.11875551,  0.20467207,  0.0226943 ,  0.16571102,  0.09103499,\n",
       "          0.02141653, -0.04605813,  0.27762327,  0.02018064, -0.07157665,\n",
       "          0.04822161,  0.35586327,  0.03656476])},\n",
       " 9: {'VV': array([ 0.07408187,  0.26498556,  0.1277027 ,  0.08944223,  0.48750517,\n",
       "          0.18196594, -0.01372606,  0.03791279,  0.00219153,  0.19215631,\n",
       "          0.03645992,  0.06768663,  0.0095312 ,  0.33615799,  0.30863772,\n",
       "          0.0403905 , -0.02990723,  0.0009898 ,  0.17908258,  0.12912946,\n",
       "         -0.01691056,  0.13476884,  0.25638171,  0.01641607]),\n",
       "  'DD': array([-0.04678205,  0.32794045,  0.05112362,  0.19687981,  0.46541461,\n",
       "         -0.07290536,  0.1262061 ,  0.06540798,  0.1330963 ,  0.17720983,\n",
       "          0.03252842,  0.03195852,  0.10014224,  0.05603292,  0.51020008,\n",
       "          0.17530733,  0.02897342,  0.03422187,  0.03975163,  0.19097075,\n",
       "         -0.10331038,  0.19945762,  0.37011771, -0.00287591]),\n",
       "  'W': array([-0.0786569 ,  0.03914684, -0.08351382,  0.24855158,  0.51189455,\n",
       "         -0.10010592,  0.18977351,  0.08251913,  0.06639785,  0.25582733,\n",
       "          0.00390946,  0.12832633, -0.03271799,  0.00964017,  0.1417855 ,\n",
       "         -0.04197253,  0.1628241 , -0.10864891,  0.05565274,  0.19039363,\n",
       "          0.02798836,  0.16092737,  0.26849305,  0.01545152,  0.06726108,\n",
       "         -0.06557085,  0.07304209,  0.12464309,  0.34355872,  0.07801859,\n",
       "          0.08771094,  0.00543432,  0.23363864,  0.12630207, -0.05840515,\n",
       "          0.02747467,  0.10865004,  0.0742028 ,  0.22238639, -0.0056514 ,\n",
       "          0.05009841, -0.02256164,  0.05341785, -0.02471269, -0.05941811,\n",
       "         -0.06137273,  0.23865905, -0.07058998]),\n",
       "  'B': array([ 0.04704482,  0.13730344, -0.15386005,  0.14138877,  0.4542823 ,\n",
       "          0.06383796, -0.06384596,  0.13859552,  0.10651976,  0.17875461,\n",
       "          0.03461738,  0.13844568,  0.04167991,  0.05933191,  0.3442763 ,\n",
       "          0.07483664,  0.00571377, -0.02118491,  0.01223766,  0.03958971,\n",
       "          0.08434433,  0.12680224,  0.32932961, -0.03741564, -0.05317719,\n",
       "         -0.07719653, -0.0024438 ,  0.09069031,  0.40894883,  0.00413027,\n",
       "          0.02712641,  0.12402471,  0.05755672,  0.19152062,  0.14513638,\n",
       "          0.10201777,  0.20839226,  0.01950084,  0.17806628,  0.10464558,\n",
       "          0.01584983, -0.03414895,  0.28248887,  0.02232426, -0.06968585,\n",
       "          0.08003531,  0.31924571,  0.05467972])},\n",
       " 10: {'VV': array([ 0.07994965,  0.25976892,  0.13007823,  0.10525813,  0.47499673,\n",
       "          0.15439537, -0.0094135 ,  0.03749109,  0.00309974,  0.18890065,\n",
       "          0.04049026,  0.07213572, -0.00932284,  0.33869218,  0.28592788,\n",
       "          0.03778727, -0.03421595,  0.00692846,  0.17896319,  0.12280477,\n",
       "         -0.00739941,  0.11773074,  0.24515041,  0.01691022]),\n",
       "  'DD': array([-0.05252078,  0.3103842 ,  0.04472525,  0.2067439 ,  0.4449784 ,\n",
       "         -0.08181349,  0.1288183 ,  0.04910507,  0.12207135,  0.14472967,\n",
       "          0.02123769,  0.02269477,  0.09760913,  0.07432903,  0.47527255,\n",
       "          0.17805114,  0.01586485,  0.04207935,  0.07268001,  0.17242586,\n",
       "         -0.1097921 ,  0.1600045 ,  0.34030835,  0.0115689 ]),\n",
       "  'W': array([-0.07999852,  0.04018103, -0.08519793,  0.24604643,  0.51253353,\n",
       "         -0.10073603,  0.18677494,  0.09135284,  0.0704238 ,  0.2456441 ,\n",
       "         -0.0027072 ,  0.13360183, -0.02415129,  0.03093393,  0.10864021,\n",
       "         -0.04248298,  0.1829408 , -0.11903459,  0.05472415,  0.17268064,\n",
       "          0.02114366,  0.15449218,  0.23605215,  0.01000208,  0.05756751,\n",
       "         -0.06046669,  0.07041849,  0.12523882,  0.33182071,  0.08146846,\n",
       "          0.08816224, -0.01885663,  0.23838934,  0.09793003, -0.04880227,\n",
       "          0.02805457,  0.10723796,  0.06818259,  0.17457438, -0.00960909,\n",
       "          0.04763027, -0.01330434,  0.06492339, -0.0295897 , -0.05810352,\n",
       "         -0.05255624,  0.22574159, -0.07184112]),\n",
       "  'B': array([ 5.61372479e-02,  1.28853177e-01, -1.53636826e-01,  1.49812069e-01,\n",
       "          4.47573012e-01,  7.20910389e-02, -7.00777004e-02,  1.38742125e-01,\n",
       "          1.06086721e-01,  1.70704480e-01,  1.86829753e-02,  1.42464264e-01,\n",
       "          5.48696972e-02,  6.85346803e-02,  3.06398218e-01,  6.27482710e-02,\n",
       "          5.59296395e-03, -2.19530156e-02,  1.70061540e-02,  2.77853741e-02,\n",
       "          9.05873541e-02,  1.15348416e-01,  2.89010448e-01, -4.43242576e-02,\n",
       "         -5.60522868e-02, -6.74397681e-02,  4.08347711e-04,  9.86050517e-02,\n",
       "          3.86554613e-01, -8.40700957e-03,  3.77378661e-02,  1.17988811e-01,\n",
       "          5.16925124e-02,  1.68635452e-01,  1.57084184e-01,  1.04334956e-01,\n",
       "          2.01403678e-01,  2.78649337e-02,  1.39087446e-01,  1.04629235e-01,\n",
       "          9.88328930e-03, -4.54195101e-02,  2.83666009e-01,  1.30917444e-02,\n",
       "         -7.06821160e-02,  8.37846093e-02,  3.01105933e-01,  4.08043338e-02])},\n",
       " 11: {'VV': array([ 0.0349232 ,  0.22872058,  0.17567968,  0.05198301,  0.24174711,\n",
       "          0.07273812, -0.0131022 ,  0.02956724, -0.00589621,  0.07082474,\n",
       "          0.06263367,  0.06034865, -0.00823095,  0.33202959,  0.17793717,\n",
       "         -0.00538018, -0.06816162, -0.00962503,  0.19476629,  0.11747874,\n",
       "         -0.02530036,  0.09505563,  0.16867242,  0.00283167]),\n",
       "  'DD': array([-0.0584877 ,  0.25437221,  0.04088716,  0.1573106 ,  0.26642376,\n",
       "         -0.10661579,  0.1327307 ,  0.04122647,  0.06551788,  0.03188573,\n",
       "          0.02550141,  0.02594047,  0.06263874,  0.03999013,  0.32287025,\n",
       "          0.17814096, -0.00969247,  0.05492828,  0.069106  ,  0.14711526,\n",
       "         -0.10210325,  0.15698095,  0.18261379,  0.02531596]),\n",
       "  'W': array([-0.08338091,  0.05878947, -0.03757642,  0.16249702,  0.29454444,\n",
       "         -0.05396648,  0.15399237,  0.09223165,  0.10151918,  0.16154541,\n",
       "          0.0053854 ,  0.14377295, -0.03346874,  0.03295755, -0.06262105,\n",
       "         -0.0635935 ,  0.14489434, -0.13722583,  0.0679965 ,  0.15882853,\n",
       "          0.01327168,  0.11480005,  0.09980627, -0.00068934,  0.04538644,\n",
       "         -0.05234366,  0.07032368,  0.0847116 ,  0.07536135,  0.05558201,\n",
       "          0.09513674, -0.02674194,  0.20922697, -0.02060943, -0.02329581,\n",
       "          0.02980885,  0.10499989,  0.03196199, -0.00300781,  0.00333624,\n",
       "          0.04223079, -0.0154159 ,  0.0485661 , -0.04382465, -0.05741687,\n",
       "         -0.03780709,  0.1060431 , -0.067409  ]),\n",
       "  'B': array([ 0.06153373,  0.15022278, -0.18565289,  0.11579229,  0.28828911,\n",
       "          0.09270513, -0.08750297,  0.13048409,  0.1046435 ,  0.11705417,\n",
       "          0.009142  ,  0.13258873,  0.08320245,  0.05187994,  0.04180313,\n",
       "          0.04470433, -0.0023005 , -0.01646793, -0.00124614, -0.01925519,\n",
       "          0.09754346,  0.1311945 ,  0.17556848, -0.05216302, -0.0700249 ,\n",
       "         -0.05661044, -0.05661768,  0.04976153,  0.0887994 , -0.04148132,\n",
       "          0.03136088,  0.14356446,  0.00614739,  0.04262289,  0.14222665,\n",
       "          0.11125952,  0.23204896,  0.0110304 ,  0.042984  ,  0.12173082,\n",
       "          0.00949298, -0.06060301,  0.29371181,  0.00770085, -0.0670271 ,\n",
       "          0.0857082 ,  0.18305347,  0.05127418])}}"
      ]
     },
     "execution_count": 56,
     "metadata": {},
     "output_type": "execute_result"
    }
   ],
   "source": [
    "options_r_subs"
   ]
  },
  {
   "cell_type": "code",
   "execution_count": 60,
   "id": "12a60e6b",
   "metadata": {},
   "outputs": [],
   "source": [
    "# count how many times in percentage the corr is significant\n",
    "\n",
    "option = 10\n",
    "\n",
    "pvals_dict = options_p_subs[option]\n",
    "fc_dict = options_r_subs[option]"
   ]
  },
  {
   "cell_type": "code",
   "execution_count": 61,
   "id": "51deb3d4",
   "metadata": {},
   "outputs": [
    {
     "name": "stdout",
     "output_type": "stream",
     "text": [
      "VV\n",
      "Mean Corr r = 0.1182128297945662, Percentage of statistically signif: 50.0 %\n",
      "DD\n",
      "Mean Corr r = 0.12048149570130395, Percentage of statistically signif: 50.0 %\n",
      "W\n",
      "Mean Corr r = 0.07266813555257033, Percentage of statistically signif: 35.41666666666667 %\n",
      "B\n",
      "Mean Corr r = 0.08873748341258304, Percentage of statistically signif: 43.75 %\n"
     ]
    }
   ],
   "source": [
    "for k, v in pvals_dict.items():\n",
    "    print(k)\n",
    "    print(f\"Mean Corr r = {np.mean(fc_dict[k])}, Percentage of statistically signif: {len(np.where(v<0.05)[0])/len(v)*100} %\" )"
   ]
  },
  {
   "cell_type": "code",
   "execution_count": 62,
   "id": "c71105d5",
   "metadata": {},
   "outputs": [
    {
     "data": {
      "text/plain": [
       "20"
      ]
     },
     "execution_count": 62,
     "metadata": {},
     "output_type": "execute_result"
    }
   ],
   "source": [
    "np.sum(options_r_subs[10]['VV']>0)"
   ]
  },
  {
   "cell_type": "code",
   "execution_count": 63,
   "id": "8beab7ed",
   "metadata": {},
   "outputs": [
    {
     "data": {
      "text/plain": [
       "{'VV': array([ 0.07994965,  0.25976892,  0.13007823,  0.10525813,  0.47499673,\n",
       "         0.15439537, -0.0094135 ,  0.03749109,  0.00309974,  0.18890065,\n",
       "         0.04049026,  0.07213572, -0.00932284,  0.33869218,  0.28592788,\n",
       "         0.03778727, -0.03421595,  0.00692846,  0.17896319,  0.12280477,\n",
       "        -0.00739941,  0.11773074,  0.24515041,  0.01691022]),\n",
       " 'DD': array([-0.05252078,  0.3103842 ,  0.04472525,  0.2067439 ,  0.4449784 ,\n",
       "        -0.08181349,  0.1288183 ,  0.04910507,  0.12207135,  0.14472967,\n",
       "         0.02123769,  0.02269477,  0.09760913,  0.07432903,  0.47527255,\n",
       "         0.17805114,  0.01586485,  0.04207935,  0.07268001,  0.17242586,\n",
       "        -0.1097921 ,  0.1600045 ,  0.34030835,  0.0115689 ]),\n",
       " 'W': array([-0.07999852,  0.04018103, -0.08519793,  0.24604643,  0.51253353,\n",
       "        -0.10073603,  0.18677494,  0.09135284,  0.0704238 ,  0.2456441 ,\n",
       "        -0.0027072 ,  0.13360183, -0.02415129,  0.03093393,  0.10864021,\n",
       "        -0.04248298,  0.1829408 , -0.11903459,  0.05472415,  0.17268064,\n",
       "         0.02114366,  0.15449218,  0.23605215,  0.01000208,  0.05756751,\n",
       "        -0.06046669,  0.07041849,  0.12523882,  0.33182071,  0.08146846,\n",
       "         0.08816224, -0.01885663,  0.23838934,  0.09793003, -0.04880227,\n",
       "         0.02805457,  0.10723796,  0.06818259,  0.17457438, -0.00960909,\n",
       "         0.04763027, -0.01330434,  0.06492339, -0.0295897 , -0.05810352,\n",
       "        -0.05255624,  0.22574159, -0.07184112]),\n",
       " 'B': array([ 5.61372479e-02,  1.28853177e-01, -1.53636826e-01,  1.49812069e-01,\n",
       "         4.47573012e-01,  7.20910389e-02, -7.00777004e-02,  1.38742125e-01,\n",
       "         1.06086721e-01,  1.70704480e-01,  1.86829753e-02,  1.42464264e-01,\n",
       "         5.48696972e-02,  6.85346803e-02,  3.06398218e-01,  6.27482710e-02,\n",
       "         5.59296395e-03, -2.19530156e-02,  1.70061540e-02,  2.77853741e-02,\n",
       "         9.05873541e-02,  1.15348416e-01,  2.89010448e-01, -4.43242576e-02,\n",
       "        -5.60522868e-02, -6.74397681e-02,  4.08347711e-04,  9.86050517e-02,\n",
       "         3.86554613e-01, -8.40700957e-03,  3.77378661e-02,  1.17988811e-01,\n",
       "         5.16925124e-02,  1.68635452e-01,  1.57084184e-01,  1.04334956e-01,\n",
       "         2.01403678e-01,  2.78649337e-02,  1.39087446e-01,  1.04629235e-01,\n",
       "         9.88328930e-03, -4.54195101e-02,  2.83666009e-01,  1.30917444e-02,\n",
       "        -7.06821160e-02,  8.37846093e-02,  3.01105933e-01,  4.08043338e-02])}"
      ]
     },
     "execution_count": 63,
     "metadata": {},
     "output_type": "execute_result"
    }
   ],
   "source": [
    "options_r_subs[10]"
   ]
  },
  {
   "cell_type": "code",
   "execution_count": 64,
   "id": "84306316",
   "metadata": {},
   "outputs": [
    {
     "name": "stdout",
     "output_type": "stream",
     "text": [
      "*** % positives for VV ***\n",
      "perc: 70.83333333333334 %\n",
      "*** % positives for DD ***\n",
      "perc: 83.33333333333334 %\n",
      "*** % positives for W ***\n",
      "perc: 62.5 %\n",
      "*** % positives for B ***\n",
      "perc: 72.91666666666666 %\n"
     ]
    }
   ],
   "source": [
    "for k,v in options_r_subs[11].items():\n",
    "    print(f\"*** % positives for {k} ***\")\n",
    "    \n",
    "    perc = np.sum(v>0)/len(v)*100\n",
    "    print(f\"perc: {perc} %\")"
   ]
  },
  {
   "cell_type": "code",
   "execution_count": null,
   "id": "a6632550",
   "metadata": {},
   "outputs": [],
   "source": [
    "denoising_names"
   ]
  },
  {
   "cell_type": "code",
   "execution_count": null,
   "id": "d3880252",
   "metadata": {},
   "outputs": [],
   "source": [
    "fc_dict"
   ]
  },
  {
   "cell_type": "markdown",
   "id": "e13a59d7",
   "metadata": {},
   "source": [
    "# Temporal consistency - reliability "
   ]
  },
  {
   "cell_type": "code",
   "execution_count": 99,
   "id": "a7c75fbf",
   "metadata": {},
   "outputs": [],
   "source": [
    "### Load the time serieses, split in halves and compute the same correlations -> ICC(2,1)"
   ]
  },
  {
   "cell_type": "code",
   "execution_count": 442,
   "id": "0b891d9e",
   "metadata": {},
   "outputs": [],
   "source": [
    "tempfilt = \"BP13\""
   ]
  },
  {
   "cell_type": "code",
   "execution_count": 443,
   "id": "c7a56f15",
   "metadata": {},
   "outputs": [
    {
     "data": {
      "text/plain": [
       "array([ 0,  1,  2,  3,  4,  5,  6,  7,  8,  9, 10, 11])"
      ]
     },
     "execution_count": 443,
     "metadata": {},
     "output_type": "execute_result"
    }
   ],
   "source": [
    "options_to_consider"
   ]
  },
  {
   "cell_type": "code",
   "execution_count": 107,
   "id": "5aa4cbf2",
   "metadata": {},
   "outputs": [],
   "source": [
    "from numpy import ones, kron, mean, eye, hstack, dot, tile\n",
    "from numpy.linalg import pinv\n",
    "import random\n",
    "\n",
    "def icc(Y, icc_type='ICC(2,1)'):\n",
    "    ''' Calculate intraclass correlation coefficient\n",
    "    \n",
    "    \n",
    "    ICC Formulas are based on:\n",
    "    Shrout, P. E., & Fleiss, J. L. (1979). Intraclass correlations: uses in\n",
    "    assessing rater reliability. Psychological bulletin, 86(2), 420.\n",
    "    icc1:  x_ij = mu + beta_j + w_ij\n",
    "    icc2/3:  x_ij = mu + alpha_i + beta_j + (ab)_ij + epsilon_ij\n",
    "    Code modifed from nipype algorithms.icc\n",
    "    https://github.com/nipy/nipype/blob/master/nipype/algorithms/icc.py\n",
    "\n",
    "    Args:\n",
    "        Y: The data Y are entered as a 'table' ie. subjects are in rows and repeated\n",
    "            measures in columns\n",
    "        icc_type: type of ICC to calculate. (ICC(2,1), ICC(2,k), ICC(3,1), ICC(3,k)) \n",
    "    Returns:\n",
    "        ICC: (np.array) intraclass correlation coefficient\n",
    "    '''\n",
    "    # Y = Y[0]\n",
    "    [n, k] = Y.shape\n",
    "\n",
    "    # Degrees of Freedom\n",
    "    dfc = k - 1\n",
    "    dfe = (n - 1) * (k-1)\n",
    "    dfr = n - 1\n",
    "\n",
    "    # Sum Square Total\n",
    "    mean_Y = np.mean(Y)\n",
    "    SST = ((Y - mean_Y) ** 2).sum()\n",
    "\n",
    "    # create the design matrix for the different levels\n",
    "    x = np.kron(np.eye(k), np.ones((n, 1)))  # sessions\n",
    "    x0 = np.tile(np.eye(n), (k, 1))  # subjects\n",
    "    X = np.hstack([x, x0])\n",
    "\n",
    "    # Sum Square Error\n",
    "    predicted_Y = np.dot(np.dot(np.dot(X, np.linalg.pinv(np.dot(X.T, X))),\n",
    "                                X.T), Y.flatten('F'))\n",
    "    residuals = Y.flatten('F') - predicted_Y\n",
    "    SSE = (residuals ** 2).sum()\n",
    "\n",
    "    MSE = SSE / dfe\n",
    "\n",
    "    # Sum square column effect - between colums\n",
    "    SSC = ((np.mean(Y, 0) - mean_Y) ** 2).sum() * n\n",
    "    MSC = SSC / dfc  # / n (without n in SPSS results)\n",
    "\n",
    "    # Sum Square subject effect - between rows/subjects\n",
    "    SSR = SST - SSC - SSE\n",
    "    MSR = SSR / dfr\n",
    "\n",
    "    if icc_type == 'icc1':\n",
    "        # ICC(2,1) = (mean square subject - mean square error) /\n",
    "        # (mean square subject + (k-1)*mean square error +\n",
    "        # k*(mean square columns - mean square error)/n)\n",
    "        # ICC = (MSR - MSRW) / (MSR + (k-1) * MSRW)\n",
    "        NotImplementedError(\"This method isn't implemented yet.\")\n",
    "\n",
    "    elif icc_type == 'ICC(2,1)' or icc_type == 'ICC(2,k)':\n",
    "        # ICC(2,1) = (mean square subject - mean square error) /\n",
    "        # (mean square subject + (k-1)*mean square error +\n",
    "        # k*(mean square columns - mean square error)/n)\n",
    "        if icc_type == 'ICC(2,k)':\n",
    "            k = 1\n",
    "        ICC = (MSR - MSE) / (MSR + (k-1) * MSE + k * (MSC - MSE) / n)\n",
    "\n",
    "    elif icc_type == 'ICC(3,1)' or icc_type == 'ICC(3,k)':\n",
    "        # ICC(3,1) = (mean square subject - mean square error) /\n",
    "        # (mean square subject + (k-1)*mean square error)\n",
    "        if icc_type == 'ICC(3,k)':\n",
    "            k = 1\n",
    "        ICC = (MSR - MSE) / (MSR + (k-1) * MSE)\n",
    "\n",
    "    return ICC"
   ]
  },
  {
   "cell_type": "code",
   "execution_count": 108,
   "id": "79b7debb",
   "metadata": {},
   "outputs": [],
   "source": [
    "def bootstrap_icc(data, icc_fun, N=10000):\n",
    "\n",
    "    sample_icc = np.zeros(N) \n",
    "    for i in tqdm(range(N)):\n",
    "        subsamp = np.zeros((17,2))\n",
    "        for j in range(17):\n",
    "            subsamp[j,:] = random.sample(data.tolist(), 1)[0]\n",
    "        sample_icc[i] = icc_fun(subsamp)\n",
    "    \n",
    "    return np.percentile(sample_icc,5), np.percentile(sample_icc,95)"
   ]
  },
  {
   "cell_type": "code",
   "execution_count": 448,
   "id": "9dd7c665",
   "metadata": {},
   "outputs": [],
   "source": [
    "method = 'slices'\n",
    "add = 'seeds'"
   ]
  },
  {
   "cell_type": "code",
   "execution_count": 474,
   "id": "8bcaa2e8",
   "metadata": {},
   "outputs": [
    {
     "name": "stderr",
     "output_type": "stream",
     "text": [
      "100%|███████████████████████████████████████████| 12/12 [00:00<00:00, 17.00it/s]\n"
     ]
    }
   ],
   "source": [
    "comparison_z = {}\n",
    "for option in tqdm(options_to_consider):\n",
    "    input_den_image,_ = get_mfmri_den_details(option) \n",
    "    preproc='_'.join(input_den_image.split('_')[4:])+\"_stc\"\n",
    "    # prepare output names\n",
    "    \n",
    "    add2 = \"\"\n",
    "    if option == 0:\n",
    "        preproc = \"baseline_stc\"\n",
    "    else:\n",
    "        add2=(\"_\"+\"\".join(preproc.split('_')))[:-3]+tempfilt\n",
    "        \n",
    "    out_name = f\"{option}_{preproc}\"\n",
    "    \n",
    "    outfolder = f\"PreProc-Comparison/{out_name}\"\n",
    "    folder_oi = os.path.join(outfolder, tempfilt,method,add)\n",
    "    \n",
    "    VV1 = []\n",
    "    DD1 = []\n",
    "    Bw1 = []\n",
    "    Wh1 = []\n",
    "    \n",
    "    VV2 = []\n",
    "    DD2 = []\n",
    "    Bw2 = []\n",
    "    Wh2 = []\n",
    "    \n",
    "    # prepare data\n",
    "    subnames = []\n",
    "\n",
    "    FC1 = np.zeros((4,4))\n",
    "    FC2 = np.zeros((4,4))\n",
    "    FC = np.zeros((4,4))\n",
    "    for sub in sorted(subjects_paths):\n",
    "        subnames.append(sub.split('/')[-1])\n",
    "        FC1_z = np.load(os.path.join(data_path,folder_oi, sub.split('/')[-1],\"FC_zslices_1.npy\"),allow_pickle=True)\n",
    "        FC2_z = np.load(os.path.join(data_path,folder_oi, sub.split('/')[-1],\"FC_zslices_2.npy\"),allow_pickle=True)\n",
    "        FC_z = np.load(os.path.join(data_path,folder_oi, sub.split('/')[-1],f\"FC_zslices{add2}.npy\"),allow_pickle=True)\n",
    "        \n",
    "        FC1_z = FC1_z.tolist()\n",
    "        FC2_z = FC2_z.tolist()\n",
    "        FC_z = FC_z.tolist()\n",
    "        \n",
    "        FC1 += np.mean(np.array(list(FC1_z.values())),0)\n",
    "        FC2 += np.mean(np.array(list(FC2_z.values())),0)\n",
    "        FC += np.mean(np.array(list(FC_z.values())),0)\n",
    "        \n",
    "    FC1 /= len(subjects_paths)\n",
    "    FC2 /= len(subjects_paths)\n",
    "    FC /= len(subjects_paths)\n",
    "    comparison_z[option] = [FC, FC1,FC2]"
   ]
  },
  {
   "cell_type": "code",
   "execution_count": 482,
   "id": "dcec1686",
   "metadata": {},
   "outputs": [
    {
     "data": {
      "text/plain": [
       "0.005650607409472257"
      ]
     },
     "execution_count": 482,
     "metadata": {},
     "output_type": "execute_result"
    }
   ],
   "source": [
    "np.abs(np.mean(comparison_z[1][0] - comparison_z[1][2]))"
   ]
  },
  {
   "cell_type": "code",
   "execution_count": 483,
   "id": "bec1023b",
   "metadata": {},
   "outputs": [
    {
     "data": {
      "text/plain": [
       "[array([[1.        , 0.10565572, 0.03737138, 0.06622904],\n",
       "        [0.10565572, 1.        , 0.04724669, 0.04712342],\n",
       "        [0.03737138, 0.04724669, 1.        , 0.09141689],\n",
       "        [0.06622904, 0.04712342, 0.09141689, 1.        ]]),\n",
       " array([[1.        , 0.11090421, 0.03908863, 0.06970801],\n",
       "        [0.11090421, 1.        , 0.05131591, 0.04710056],\n",
       "        [0.03908863, 0.05131591, 1.        , 0.09895433],\n",
       "        [0.06970801, 0.04710056, 0.09895433, 1.        ]]),\n",
       " array([[1.        , 0.09557346, 0.03195549, 0.05846545],\n",
       "        [0.09557346, 1.        , 0.04048281, 0.04292548],\n",
       "        [0.03195549, 0.04048281, 1.        , 0.08043559],\n",
       "        [0.05846545, 0.04292548, 0.08043559, 1.        ]])]"
      ]
     },
     "execution_count": 483,
     "metadata": {},
     "output_type": "execute_result"
    }
   ],
   "source": [
    "comparison_z[1]"
   ]
  },
  {
   "cell_type": "code",
   "execution_count": 445,
   "id": "5a23f6d1",
   "metadata": {},
   "outputs": [
    {
     "data": {
      "text/plain": [
       "'csf_pnm_moco_cc_stc'"
      ]
     },
     "execution_count": 445,
     "metadata": {},
     "output_type": "execute_result"
    }
   ],
   "source": [
    "preproc\n"
   ]
  },
  {
   "cell_type": "code",
   "execution_count": 157,
   "id": "f2385c43",
   "metadata": {},
   "outputs": [
    {
     "data": {
      "text/plain": [
       "24"
      ]
     },
     "execution_count": 157,
     "metadata": {},
     "output_type": "execute_result"
    }
   ],
   "source": [
    "len(subjects_paths)"
   ]
  },
  {
   "cell_type": "code",
   "execution_count": 222,
   "id": "59ee0188",
   "metadata": {
    "scrolled": true
   },
   "outputs": [
    {
     "name": "stderr",
     "output_type": "stream",
     "text": [
      "100%|███████████████████████████████████████████| 12/12 [00:04<00:00,  2.41it/s]\n"
     ]
    }
   ],
   "source": [
    "ICC_dict = {}\n",
    "\n",
    "for option in tqdm(options_to_consider):\n",
    "    input_den_image,_ = get_mfmri_den_details(option) \n",
    "    preproc='_'.join(input_den_image.split('_')[4:])+\"_stc\"\n",
    "    if option == 0:\n",
    "        preproc = \"baseline_stc\"\n",
    "    # prepare output names\n",
    "    out_name = f\"{option}_{preproc}\"\n",
    "    outfolder = f\"PreProc-Comparison/{out_name}\"\n",
    "    folder_oi = os.path.join(outfolder, tempfilt,method,add)\n",
    "    \n",
    "    VV1 = []\n",
    "    DD1 = []\n",
    "    Bw1 = []\n",
    "    Wh1 = []\n",
    "    \n",
    "    VV2 = []\n",
    "    DD2 = []\n",
    "    Bw2 = []\n",
    "    Wh2 = []\n",
    "    \n",
    "    if option == 10:\n",
    "        FFC1 = np.zeros((len(subjects_paths),4,4))\n",
    "        FFC2 = np.zeros((len(subjects_paths),4,4))\n",
    "        \n",
    "    # prepare data\n",
    "    subnames = []\n",
    "    i = 0\n",
    "    for sub in sorted(subjects_paths):\n",
    "        subnames.append(sub.split('/')[-1])\n",
    "        FC1_z = np.load(os.path.join(data_path,folder_oi, sub.split('/')[-1],\"FC_zslices_1.npy\"),allow_pickle=True)\n",
    "        FC2_z = np.load(os.path.join(data_path,folder_oi, sub.split('/')[-1],\"FC_zslices_2.npy\"),allow_pickle=True)\n",
    "        \n",
    "        FC1_z = FC1_z.tolist()\n",
    "        FC2_z = FC2_z.tolist()\n",
    "        \n",
    "        FC1 = np.mean(np.array(list(FC1_z.values())),0)\n",
    "        FC2 = np.mean(np.array(list(FC2_z.values())),0)\n",
    "        if option == 10:\n",
    "            FFC1[i,:,:] = FC1\n",
    "            FFC2[i,:,:] = FC2\n",
    "            \n",
    "#         # split in halves\n",
    "#         Xcorr1 = np.corrcoef(Xsub[:,:int(np.round(Xsub.shape[-1]/2))])\n",
    "#         # z-Fisher transform\n",
    "#         Xcorr1= np.arctanh(Xcorr1-np.eye(4))\n",
    "        \n",
    "#         Xcorr2 = np.corrcoef(Xsub[:,int(np.round(Xsub.shape[-1]/2)):])\n",
    "#         # z-Fisher transform\n",
    "#         Xcorr2= np.arctanh(Xcorr2-np.eye(4))\n",
    "        \n",
    "        # create dataframe columns with 2 sessions (2 halves of the same timeseries)\n",
    "        VV1.append(FC1[0,1]) \n",
    "        DD1.append(FC1[2,3])\n",
    "        Wh1.append((FC1[0,2]+FC1[1,3])/2)\n",
    "        Bw1.append((FC1[0,3]+FC1[1,2])/2)\n",
    "        \n",
    "        VV2.append(FC2[0,1]) \n",
    "        DD2.append(FC2[2,3])\n",
    "        Wh2.append((FC2[0,2]+FC2[1,3])/2)\n",
    "        Bw2.append((FC2[0,3]+FC2[1,2])/2)\n",
    "        i+=1\n",
    "        \n",
    "    VV_df = pd.DataFrame({\"Subjects\": subnames, \"Half\": [\"H1\"]*len(subjects_paths), \"Corr\": VV1})\n",
    "    VV_df = pd.concat([VV_df, pd.DataFrame({\"Subjects\": subnames, \"Half\": [\"H2\"]*len(subjects_paths), \"Corr\": VV2})],ignore_index=True)\n",
    "    \n",
    "    DD_df = pd.DataFrame({\"Subjects\": subnames, \"Half\": [\"H1\"]*len(subjects_paths), \"Corr\": DD1})\n",
    "    DD_df = pd.concat([DD_df, pd.DataFrame({\"Subjects\": subnames, \"Half\": [\"H2\"]*len(subjects_paths), \"Corr\": DD2})],ignore_index=True)\n",
    "    \n",
    "    Bw_df = pd.DataFrame({\"Subjects\": subnames, \"Half\": [\"H1\"]*len(subjects_paths), \"Corr\": Bw1})\n",
    "    Bw_df = pd.concat([Bw_df, pd.DataFrame({\"Subjects\": subnames, \"Half\": [\"H2\"]*len(subjects_paths), \"Corr\": Bw2})],ignore_index=True)\n",
    "    \n",
    "    Wh_df = pd.DataFrame({\"Subjects\": subnames, \"Half\": [\"H1\"]*len(subjects_paths), \"Corr\": Wh1})\n",
    "    Wh_df = pd.concat([Wh_df, pd.DataFrame({\"Subjects\": subnames, \"Half\": [\"H2\"]*len(subjects_paths), \"Corr\": Wh2})],ignore_index=True)\n",
    "    \n",
    "    icc_df_vv = pg.intraclass_corr(VV_df,targets=\"Subjects\", raters=\"Half\", ratings=\"Corr\")\n",
    "    icc_df_dd = pg.intraclass_corr(DD_df,targets=\"Subjects\", raters=\"Half\", ratings=\"Corr\")\n",
    "    icc_df_bw = pg.intraclass_corr(Bw_df,targets=\"Subjects\", raters=\"Half\", ratings=\"Corr\")\n",
    "    icc_df_wh = pg.intraclass_corr(Wh_df,targets=\"Subjects\", raters=\"Half\", ratings=\"Corr\")\n",
    "    \n",
    "    data_vv = np.vstack([VV_df.loc[VV_df.Half==\"H1\"].Corr.values,VV_df.loc[VV_df.Half==\"H2\"].Corr.values]).T\n",
    "    data_dd = np.vstack([DD_df.loc[VV_df.Half==\"H1\"].Corr.values,DD_df.loc[DD_df.Half==\"H2\"].Corr.values]).T\n",
    "    data_bw = np.vstack([Bw_df.loc[VV_df.Half==\"H1\"].Corr.values,VV_df.loc[Bw_df.Half==\"H2\"].Corr.values]).T\n",
    "    data_wh = np.vstack([Wh_df.loc[VV_df.Half==\"H1\"].Corr.values,VV_df.loc[Wh_df.Half==\"H2\"].Corr.values]).T\n",
    "    \n",
    "#     res_vv = bootstrap_icc(data_vv, icc)\n",
    "#     res_dd = bootstrap_icc(data_dd, icc)\n",
    "#     res_bw = bootstrap_icc(data_bw, icc)\n",
    "#     res_wh = bootstrap_icc(data_wh, icc)\n",
    "    \n",
    "    ICC_dict[option] = {\"VV\": {\"ICC\": icc_df_vv[\"ICC\"][1], \"CI\": icc_df_vv[\"CI95%\"][1]},#, \"bootstr_ci\":(res_vv[0],res_vv[1])},\n",
    "                        \"DD\": {\"ICC\": icc_df_dd[\"ICC\"][1], \"CI\": icc_df_dd[\"CI95%\"][1]},#, \"bootstr_ci\":(res_dd[0],res_dd[1])},\n",
    "                        \"Bw\": {\"ICC\": icc_df_bw[\"ICC\"][1], \"CI\": icc_df_bw[\"CI95%\"][1]},#, \"bootstr_ci\":(res_bw[0],res_bw[1])},\n",
    "                        \"Wh\": {\"ICC\": icc_df_wh[\"ICC\"][1], \"CI\": icc_df_wh[\"CI95%\"][1]}#, \"bootstr_ci\":(res_wh[0],res_wh[1])}\n",
    "                       }\n",
    "    \n",
    "    \n",
    "    if option == 10: #in [11,15]:\n",
    "        \n",
    "        VV_df.to_csv(f'Outputs_paper_data/O{option}_{tempfilt}_VV_ICCscatter_halves_corr.csv')\n",
    "        DD_df.to_csv(f'Outputs_paper_data/O{option}_{tempfilt}_DD_ICCscatter_halves_corr.csv')\n",
    "        Bw_df.to_csv(f'Outputs_paper_data/O{option}_{tempfilt}_Bw_ICCscatter_halves_corr.csv')\n",
    "        Wh_df.to_csv(f'Outputs_paper_data/O{option}_{tempfilt}_Wh_ICCscatter_halves_corr.csv')"
   ]
  },
  {
   "cell_type": "code",
   "execution_count": 221,
   "id": "fc91f289",
   "metadata": {},
   "outputs": [],
   "source": [
    "# np.save(f\"Outputs_paper_data/FFC1.npy\",FFC1)\n",
    "# np.save(f\"Outputs_paper_data/FFC2.npy\",FFC2)\n"
   ]
  },
  {
   "cell_type": "code",
   "execution_count": 297,
   "id": "7086a077",
   "metadata": {
    "scrolled": true
   },
   "outputs": [
    {
     "data": {
      "text/plain": [
       "{0: {'VV': {'ICC': 0.7691866977652886, 'CI': array([0.54, 0.89])},\n",
       "  'DD': {'ICC': 0.8957760636117941, 'CI': array([0.77, 0.95])},\n",
       "  'Bw': {'ICC': 0.8908924902182114, 'CI': array([0.77, 0.95])},\n",
       "  'Wh': {'ICC': 0.8556931708521739, 'CI': array([0.62, 0.94])}},\n",
       " 1: {'VV': {'ICC': 0.7195798716686568, 'CI': array([0.46, 0.87])},\n",
       "  'DD': {'ICC': 0.7549104351061697, 'CI': array([0.51, 0.89])},\n",
       "  'Bw': {'ICC': 0.8080116902572702, 'CI': array([0.61, 0.91])},\n",
       "  'Wh': {'ICC': 0.6128102678663697, 'CI': array([0.29, 0.81])}},\n",
       " 2: {'VV': {'ICC': 0.7206185597342256, 'CI': array([0.43, 0.87])},\n",
       "  'DD': {'ICC': 0.7814951594723347, 'CI': array([0.54, 0.9 ])},\n",
       "  'Bw': {'ICC': 0.7592297757808798, 'CI': array([0.52, 0.89])},\n",
       "  'Wh': {'ICC': 0.5417248810840049, 'CI': array([0.2 , 0.77])}},\n",
       " 3: {'VV': {'ICC': 0.5677027521984985, 'CI': array([0.23, 0.79])},\n",
       "  'DD': {'ICC': 0.7195960975921469, 'CI': array([0.45, 0.87])},\n",
       "  'Bw': {'ICC': 0.5487738758228552, 'CI': array([0.21, 0.77])},\n",
       "  'Wh': {'ICC': 0.15996546027186717, 'CI': array([-0.23,  0.51])}},\n",
       " 4: {'VV': {'ICC': 0.5979671521001871, 'CI': array([0.28, 0.8 ])},\n",
       "  'DD': {'ICC': 0.7267071945502771, 'CI': array([0.44, 0.87])},\n",
       "  'Bw': {'ICC': 0.5839580489293871, 'CI': array([0.25, 0.79])},\n",
       "  'Wh': {'ICC': 0.10512795795184281, 'CI': array([-0.28,  0.47])}},\n",
       " 5: {'VV': {'ICC': 0.7271689032672572, 'CI': array([0.47, 0.87])},\n",
       "  'DD': {'ICC': 0.7789458581943614, 'CI': array([0.55, 0.9 ])},\n",
       "  'Bw': {'ICC': 0.7968622000380294, 'CI': array([0.59, 0.91])},\n",
       "  'Wh': {'ICC': 0.6427244065132993, 'CI': array([0.34, 0.83])}},\n",
       " 6: {'VV': {'ICC': 0.5682274546018069, 'CI': array([0.23, 0.78])},\n",
       "  'DD': {'ICC': 0.7284812160302298, 'CI': array([0.47, 0.87])},\n",
       "  'Bw': {'ICC': 0.7371897680634646, 'CI': array([0.48, 0.88])},\n",
       "  'Wh': {'ICC': 0.5890467391176374, 'CI': array([0.25, 0.8 ])}},\n",
       " 7: {'VV': {'ICC': 0.651401314896611, 'CI': array([0.33, 0.83])},\n",
       "  'DD': {'ICC': 0.7391955798592518, 'CI': array([0.49, 0.88])},\n",
       "  'Bw': {'ICC': 0.7439268077939761, 'CI': array([0.5 , 0.88])},\n",
       "  'Wh': {'ICC': 0.48936106331227075, 'CI': array([0.13, 0.74])}},\n",
       " 8: {'VV': {'ICC': 0.6543669145560863, 'CI': array([0.34, 0.84])},\n",
       "  'DD': {'ICC': 0.7050195366398339, 'CI': array([0.43, 0.86])},\n",
       "  'Bw': {'ICC': 0.7432888188219918, 'CI': array([0.5 , 0.88])},\n",
       "  'Wh': {'ICC': 0.47239293241017133, 'CI': array([0.11, 0.73])}},\n",
       " 9: {'VV': {'ICC': 0.6265446576969499, 'CI': array([0.25, 0.83])},\n",
       "  'DD': {'ICC': 0.7461999369044144, 'CI': array([0.48, 0.88])},\n",
       "  'Bw': {'ICC': 0.7391810131551977, 'CI': array([0.49, 0.88])},\n",
       "  'Wh': {'ICC': 0.43146209927938856, 'CI': array([0.07, 0.7 ])}},\n",
       " 10: {'VV': {'ICC': 0.6248520709122816, 'CI': array([0.25, 0.83])},\n",
       "  'DD': {'ICC': 0.706868655863703, 'CI': array([0.42, 0.86])},\n",
       "  'Bw': {'ICC': 0.7322681758427223, 'CI': array([0.48, 0.87])},\n",
       "  'Wh': {'ICC': 0.4142795119038089, 'CI': array([0.05, 0.69])}},\n",
       " 11: {'VV': {'ICC': 0.5717308221939918, 'CI': array([0.23, 0.79])},\n",
       "  'DD': {'ICC': 0.6278657834007754, 'CI': array([0.29, 0.82])},\n",
       "  'Bw': {'ICC': 0.653255877031902, 'CI': array([0.35, 0.83])},\n",
       "  'Wh': {'ICC': 0.13414342954698777, 'CI': array([-0.23,  0.49])}}}"
      ]
     },
     "execution_count": 297,
     "metadata": {},
     "output_type": "execute_result"
    }
   ],
   "source": [
    "ICC_dict"
   ]
  },
  {
   "cell_type": "code",
   "execution_count": 210,
   "id": "78d92ca7",
   "metadata": {},
   "outputs": [],
   "source": [
    "FFC1 = np.mean(FFC1,axis=0)"
   ]
  },
  {
   "cell_type": "code",
   "execution_count": 211,
   "id": "c09328f1",
   "metadata": {},
   "outputs": [
    {
     "data": {
      "text/plain": [
       "array([[1.        , 0.07393566, 0.01297625, 0.04996345],\n",
       "       [0.07393566, 1.        , 0.03618073, 0.01342786],\n",
       "       [0.01297625, 0.03618073, 1.        , 0.06568697],\n",
       "       [0.04996345, 0.01342786, 0.06568697, 1.        ]])"
      ]
     },
     "execution_count": 211,
     "metadata": {},
     "output_type": "execute_result"
    }
   ],
   "source": [
    "FFC1"
   ]
  },
  {
   "cell_type": "code",
   "execution_count": 212,
   "id": "0778333f",
   "metadata": {},
   "outputs": [],
   "source": [
    "FFC2 = np.mean(FFC2,axis=0)"
   ]
  },
  {
   "cell_type": "code",
   "execution_count": 213,
   "id": "4e89c6e1",
   "metadata": {},
   "outputs": [
    {
     "data": {
      "text/plain": [
       "array([[1.        , 0.04943841, 0.00601237, 0.03691771],\n",
       "       [0.04943841, 1.        , 0.02417049, 0.01318344],\n",
       "       [0.00601237, 0.02417049, 1.        , 0.05007676],\n",
       "       [0.03691771, 0.01318344, 0.05007676, 1.        ]])"
      ]
     },
     "execution_count": 213,
     "metadata": {},
     "output_type": "execute_result"
    }
   ],
   "source": [
    "FFC2"
   ]
  },
  {
   "cell_type": "code",
   "execution_count": 216,
   "id": "52a4f5d9",
   "metadata": {},
   "outputs": [
    {
     "data": {
      "text/plain": [
       "array([[0.        , 0.02449724, 0.00696388, 0.01304574],\n",
       "       [0.02449724, 0.        , 0.01201024, 0.00024442],\n",
       "       [0.00696388, 0.01201024, 0.        , 0.01561021],\n",
       "       [0.01304574, 0.00024442, 0.01561021, 0.        ]])"
      ]
     },
     "execution_count": 216,
     "metadata": {},
     "output_type": "execute_result"
    }
   ],
   "source": [
    "(FFC1 -FFC2)"
   ]
  },
  {
   "cell_type": "code",
   "execution_count": 196,
   "id": "355e7c9a",
   "metadata": {},
   "outputs": [
    {
     "data": {
      "text/plain": [
       "Text(0.5, 1.0, 'First Half')"
      ]
     },
     "execution_count": 196,
     "metadata": {},
     "output_type": "execute_result"
    },
    {
     "data": {
      "image/png": "[encoded data removed]",
      "text/plain": [
       "<Figure size 720x480 with 2 Axes>"
      ]
     },
     "metadata": {
      "needs_background": "light"
     },
     "output_type": "display_data"
    }
   ],
   "source": [
    "plt.figure(dpi=120)\n",
    "plt.imshow(FFC1,vmax=0.12)\n",
    "plt.colorbar()\n",
    "plt.xticks([0,1,2,3],[\"VR\",\"VL\",\"DR\",\"DL\"] , fontsize=15)\n",
    "plt.yticks([0,1,2,3],[\"VR\",\"VL\",\"DR\",\"DL\"], fontsize=15)\n",
    "plt.title(\"First Half\")"
   ]
  },
  {
   "cell_type": "code",
   "execution_count": 197,
   "id": "e42a0f43",
   "metadata": {},
   "outputs": [
    {
     "data": {
      "text/plain": [
       "Text(0.5, 1.0, 'Second Half')"
      ]
     },
     "execution_count": 197,
     "metadata": {},
     "output_type": "execute_result"
    },
    {
     "data": {
      "image/png": "[encoded data removed]",
      "text/plain": [
       "<Figure size 720x480 with 2 Axes>"
      ]
     },
     "metadata": {
      "needs_background": "light"
     },
     "output_type": "display_data"
    }
   ],
   "source": [
    "plt.figure(dpi=120)\n",
    "plt.imshow(FFC2,vmax=0.12)\n",
    "plt.colorbar()\n",
    "plt.xticks([0,1,2,3],[\"VR\",\"VL\",\"DR\",\"DL\"] , fontsize=15)\n",
    "plt.yticks([0,1,2,3],[\"VR\",\"VL\",\"DR\",\"DL\"], fontsize=15)\n",
    "plt.title(\"Second Half\")"
   ]
  },
  {
   "cell_type": "markdown",
   "id": "0794a4a7",
   "metadata": {},
   "source": [
    "#### Test with last preprocessing"
   ]
  },
  {
   "cell_type": "code",
   "execution_count": 118,
   "id": "2e781853",
   "metadata": {},
   "outputs": [],
   "source": [
    "def xy_corr_from_df(df):\n",
    "    \n",
    "    x = df[df.Half==\"H1\"].Corr.values\n",
    "    y = df[df.Half==\"H2\"].Corr.values\n",
    "    \n",
    "    return x,y"
   ]
  },
  {
   "cell_type": "code",
   "execution_count": 119,
   "id": "663d97e3",
   "metadata": {},
   "outputs": [],
   "source": [
    "x, y = xy_corr_from_df(VV_df)"
   ]
  },
  {
   "cell_type": "code",
   "execution_count": 120,
   "id": "641a3184",
   "metadata": {},
   "outputs": [
    {
     "data": {
      "text/plain": [
       "Text(0, 0.5, 'Second Half')"
      ]
     },
     "execution_count": 120,
     "metadata": {},
     "output_type": "execute_result"
    },
    {
     "data": {
      "image/png": "[encoded data removed]",
      "text/plain": [
       "<Figure size 360x360 with 1 Axes>"
      ]
     },
     "metadata": {
      "needs_background": "light"
     },
     "output_type": "display_data"
    }
   ],
   "source": [
    "f, ax = plt.subplots(figsize = (5, 5))\n",
    "\n",
    "ax.scatter(x,y)\n",
    "b, a = np.polyfit(x, y, deg=1)\n",
    "xseq = np.linspace(-0.25, 0.5, num=len(x))\n",
    "ax.plot(xseq, a + b * xseq, color=\"k\", lw=2.5)\n",
    "ax.set_title(\"VV - slope = %.2f\" %b)\n",
    "ax.set_xlabel(\"First Half\")\n",
    "ax.set_ylabel(\"Second Half\")"
   ]
  },
  {
   "cell_type": "code",
   "execution_count": 121,
   "id": "c2d80771",
   "metadata": {},
   "outputs": [],
   "source": [
    "ICC_VV_vals = np.zeros(len(options_to_consider))\n",
    "ICC_DD_vals = np.zeros(len(options_to_consider))\n",
    "ICC_Bw_vals = np.zeros(len(options_to_consider))\n",
    "ICC_Wh_vals = np.zeros(len(options_to_consider))\n",
    "\n",
    "# ICC_VV_std = np.zeros(len(options_to_consider))\n",
    "# ICC_DD_std = np.zeros(len(options_to_consider))\n",
    "# ICC_Bw_std = np.zeros(len(options_to_consider))\n",
    "# ICC_Wh_std = np.zeros(len(options_to_consider))\n",
    "\n",
    "ICC_VV_err  = []\n",
    "ICC_DD_err  = []\n",
    "ICC_Bw_err  = []\n",
    "ICC_Wh_err  = []\n",
    "\n",
    "for i,o in enumerate(options_to_consider):\n",
    "    ICC_VV_vals[i] = ICC_dict[o]['VV'][\"ICC\"]\n",
    "    ICC_VV_err.append(ICC_dict[o][\"VV\"][\"CI\"])\n",
    "    ICC_DD_vals[i] = ICC_dict[o]['DD'][\"ICC\"]\n",
    "    ICC_DD_err.append(ICC_dict[o][\"DD\"][\"CI\"])\n",
    "    ICC_Bw_vals[i] = ICC_dict[o]['Bw'][\"ICC\"]\n",
    "    ICC_Bw_err.append(ICC_dict[o][\"Bw\"][\"CI\"])\n",
    "    ICC_Wh_vals[i] = ICC_dict[o]['Wh'][\"ICC\"]\n",
    "    ICC_Wh_err.append(ICC_dict[o][\"Wh\"][\"CI\"])\n",
    "\n",
    "#     ICC_VV_std[i] = np.diff(ICC_dict[o]['VV']['CI'])[0]/2\n",
    "#     ICC_DD_std[i] = np.diff(ICC_dict[o]['DD']['CI'])[0]/2\n",
    "#     ICC_Bw_std[i] = np.diff(ICC_dict[o]['Bw']['CI'])[0]/2\n",
    "#     ICC_Wh_std[i] = np.diff(ICC_dict[o]['Wh']['CI'])[0]/2"
   ]
  },
  {
   "cell_type": "code",
   "execution_count": 122,
   "id": "2202f5fb",
   "metadata": {},
   "outputs": [
    {
     "data": {
      "text/plain": [
       "array([0.7691867 , 0.71957987, 0.72061856, 0.56770275, 0.59796715,\n",
       "       0.7271689 , 0.56822745, 0.65140131, 0.65436691, 0.62654466,\n",
       "       0.62485207, 0.57173082])"
      ]
     },
     "execution_count": 122,
     "metadata": {},
     "output_type": "execute_result"
    }
   ],
   "source": [
    "ICC_VV_vals"
   ]
  },
  {
   "cell_type": "code",
   "execution_count": 123,
   "id": "d754c312",
   "metadata": {},
   "outputs": [
    {
     "data": {
      "text/plain": [
       "array([0.89577606, 0.75491044, 0.78149516, 0.7195961 , 0.72670719,\n",
       "       0.77894586, 0.72848122, 0.73919558, 0.70501954, 0.74619994,\n",
       "       0.70686866, 0.62786578])"
      ]
     },
     "execution_count": 123,
     "metadata": {},
     "output_type": "execute_result"
    }
   ],
   "source": [
    "ICC_DD_vals"
   ]
  },
  {
   "cell_type": "code",
   "execution_count": 124,
   "id": "36904bb1",
   "metadata": {},
   "outputs": [
    {
     "data": {
      "text/plain": [
       "array([0.89089249, 0.80801169, 0.75922978, 0.54877388, 0.58395805,\n",
       "       0.7968622 , 0.73718977, 0.74392681, 0.74328882, 0.73918101,\n",
       "       0.73226818, 0.65325588])"
      ]
     },
     "execution_count": 124,
     "metadata": {},
     "output_type": "execute_result"
    }
   ],
   "source": [
    "ICC_Bw_vals"
   ]
  },
  {
   "cell_type": "code",
   "execution_count": 125,
   "id": "640c3223",
   "metadata": {},
   "outputs": [
    {
     "data": {
      "text/plain": [
       "array([0.85569317, 0.61281027, 0.54172488, 0.15996546, 0.10512796,\n",
       "       0.64272441, 0.58904674, 0.48936106, 0.47239293, 0.4314621 ,\n",
       "       0.41427951, 0.13414343])"
      ]
     },
     "execution_count": 125,
     "metadata": {},
     "output_type": "execute_result"
    }
   ],
   "source": [
    "ICC_Wh_vals"
   ]
  },
  {
   "cell_type": "code",
   "execution_count": 128,
   "id": "b3d2e317",
   "metadata": {},
   "outputs": [],
   "source": [
    "ICC_VV_vals = np.zeros(len(options_to_consider))\n",
    "ICC_DD_vals = np.zeros(len(options_to_consider))\n",
    "ICC_Bw_vals = np.zeros(len(options_to_consider))\n",
    "ICC_Wh_vals = np.zeros(len(options_to_consider))\n",
    "\n",
    "# ICC_VV_std = np.zeros(len(options_to_consider))\n",
    "# ICC_DD_std = np.zeros(len(options_to_consider))\n",
    "# ICC_Bw_std = np.zeros(len(options_to_consider))\n",
    "# ICC_Wh_std = np.zeros(len(options_to_consider))\n",
    "\n",
    "ICC_VV_err  = []\n",
    "ICC_DD_err  = []\n",
    "ICC_Bw_err  = []\n",
    "ICC_Wh_err  = []\n",
    "\n",
    "for i,o in enumerate(options_to_consider):\n",
    "    ICC_VV_vals[i] = ICC_dict[o]['VV'][\"ICC\"]\n",
    "    ICC_VV_err.append(ICC_dict[o][\"VV\"][\"CI\"])\n",
    "    ICC_DD_vals[i] = ICC_dict[o]['DD'][\"ICC\"]\n",
    "    ICC_DD_err.append(ICC_dict[o][\"DD\"][\"CI\"])\n",
    "    ICC_Bw_vals[i] = ICC_dict[o]['Bw'][\"ICC\"]\n",
    "    ICC_Bw_err.append(ICC_dict[o][\"Bw\"][\"CI\"])\n",
    "    ICC_Wh_vals[i] = ICC_dict[o]['Wh'][\"ICC\"]\n",
    "    ICC_Wh_err.append(ICC_dict[o][\"Wh\"][\"CI\"])\n",
    "\n",
    "#     ICC_VV_std[i] = np.diff(ICC_dict[o]['VV']['CI'])[0]/2\n",
    "#     ICC_DD_std[i] = np.diff(ICC_dict[o]['DD']['CI'])[0]/2\n",
    "#     ICC_Bw_std[i] = np.diff(ICC_dict[o]['Bw']['CI'])[0]/2\n",
    "#     ICC_Wh_std[i] = np.diff(ICC_dict[o]['Wh']['CI'])[0]/2"
   ]
  },
  {
   "cell_type": "code",
   "execution_count": 129,
   "id": "22719a31",
   "metadata": {
    "scrolled": false
   },
   "outputs": [],
   "source": [
    "# plot the ICC_dict\n",
    "def plot_ICC(ICC_vals, ICC_errors,tempfilt, ROI):\n",
    "    \n",
    "    labels_options = []\n",
    "    for o in options_to_consider:\n",
    "        name,_ = get_mfmri_den_details(o)\n",
    "        labels_options.append(name)\n",
    "        \n",
    "    # prepare error bars\n",
    "    lowerbounds = []\n",
    "    upperbounds = []\n",
    "    for i in range(len(labels_options)):\n",
    "        lb = ICC_errors[i][0]        \n",
    "        if lb < -0.1:\n",
    "            lb = -0.1\n",
    "        lowerbounds.append(ICC_vals[i]-lb)\n",
    "        upperbounds.append(ICC_errors[i][1]-ICC_vals[i])\n",
    "    \n",
    "    # save data\n",
    "    ICC_df = pd.DataFrame(np.vstack([ICC_vals,lowerbounds,upperbounds]).T, columns=[\"ICC\",\"lowerbounds\",\"upperbounds\"])\n",
    "    ICC_df.to_csv(f'Outputs_paper_data/{tempfilt}_{ROI}_ICC.csv')\n",
    "    \n",
    "#     fig = go.Figure()\n",
    "#     fig.add_trace(go.Scatter(\n",
    "#         x=labels_options, y=ICC_vals,\n",
    "#         mode='markers'\n",
    "#     ))\n",
    "    \n",
    "    \n",
    "#     for i,lab in enumerate(labels_options):\n",
    "#         fig.add_vline(x=i, y0=ICC_errors[i][0],y1=ICC_errors[i][1],ysizemode='pixel',yanchor=\"top\")\n",
    "\n",
    "    \n",
    "    fig = go.Figure(data=go.Scatter(\n",
    "        x=labels_options,\n",
    "        y=ICC_vals,\n",
    "        mode='markers',\n",
    "        error_y=dict(\n",
    "            type='data',\n",
    "            symmetric=False,\n",
    "            array=upperbounds,\n",
    "            arrayminus=lowerbounds,\n",
    "            color=\"grey\")\n",
    "        ))\n",
    "\n",
    "    \n",
    "#     fig.update_layout(\n",
    "#         yaxis=dict(\n",
    "#             range = [-1,1.5])\n",
    "#     )\n",
    "\n",
    "    fig.show()\n",
    "#     fig.write_html(f\"Outputs_paper_figures/{tempfilt}_ICC_{ROI}.html\")\n",
    "#     fig.write_image(f\"Outputs_paper_figures/{tempfilt}_ICC_{ROI}.pdf\")"
   ]
  },
  {
   "cell_type": "code",
   "execution_count": 130,
   "id": "f6bbde1f",
   "metadata": {
    "scrolled": false
   },
   "outputs": [
    {
     "data": {
      "application/vnd.plotly.v1+json": {
       "config": {
        "plotlyServerURL": "https://plot.ly"
       },
       "data": [
        {
         "error_y": {
          "array": [
           0.12081330223471143,
           0.15042012833134322,
           0.14938144026577438,
           0.2222972478015015,
           0.2020328478998129,
           0.14283109673274275,
           0.21177254539819312,
           0.17859868510338894,
           0.18563308544391366,
           0.20345534230305007,
           0.2051479290877184,
           0.21826917780600819
          ],
          "arrayminus": [
           0.22918669776528855,
           0.25957987166865676,
           0.2906185597342256,
           0.33770275219849855,
           0.3179671521001871,
           0.2571689032672573,
           0.3382274546018069,
           0.321401314896611,
           0.3143669145560863,
           0.3765446576969499,
           0.37485207091228157,
           0.34173082219399187
          ],
          "color": "grey",
          "symmetric": false,
          "type": "data"
         },
         "mode": "markers",
         "type": "scatter",
         "x": [
          "mfmri_st_corr",
          "mfmri_st_corr_denoised_csf_csfonly",
          "mfmri_st_corr_denoised_moco",
          "mfmri_st_corr_denoised_cc",
          "mfmri_st_corr_denoised_moco_cc",
          "mfmri_st_corr_denoised_pnm_cardonly",
          "mfmri_st_corr_denoised_pnm_responly",
          "mfmri_st_corr_denoised_pnm",
          "mfmri_st_corr_denoised_csf_pnm",
          "mfmri_st_corr_denoised_pnm_moco",
          "mfmri_st_corr_denoised_csf_pnm_moco",
          "mfmri_st_corr_denoised_csf_pnm_moco_cc"
         ],
         "y": [
          0.7691866977652886,
          0.7195798716686568,
          0.7206185597342256,
          0.5677027521984985,
          0.5979671521001871,
          0.7271689032672572,
          0.5682274546018069,
          0.651401314896611,
          0.6543669145560863,
          0.6265446576969499,
          0.6248520709122816,
          0.5717308221939918
         ]
        }
       ],
       "layout": {
        "template": {
         "data": {
          "bar": [
           {
            "error_x": {
             "color": "#2a3f5f"
            },
            "error_y": {
             "color": "#2a3f5f"
            },
            "marker": {
             "line": {
              "color": "#E5ECF6",
              "width": 0.5
             },
             "pattern": {
              "fillmode": "overlay",
              "size": 10,
              "solidity": 0.2
             }
            },
            "type": "bar"
           }
          ],
          "barpolar": [
           {
            "marker": {
             "line": {
              "color": "#E5ECF6",
              "width": 0.5
             },
             "pattern": {
              "fillmode": "overlay",
              "size": 10,
              "solidity": 0.2
             }
            },
            "type": "barpolar"
           }
          ],
          "carpet": [
           {
            "aaxis": {
             "endlinecolor": "#2a3f5f",
             "gridcolor": "white",
             "linecolor": "white",
             "minorgridcolor": "white",
             "startlinecolor": "#2a3f5f"
            },
            "baxis": {
             "endlinecolor": "#2a3f5f",
             "gridcolor": "white",
             "linecolor": "white",
             "minorgridcolor": "white",
             "startlinecolor": "#2a3f5f"
            },
            "type": "carpet"
           }
          ],
          "choropleth": [
           {
            "colorbar": {
             "outlinewidth": 0,
             "ticks": ""
            },
            "type": "choropleth"
           }
          ],
          "contour": [
           {
            "colorbar": {
             "outlinewidth": 0,
             "ticks": ""
            },
            "colorscale": [
             [
              0,
              "#0d0887"
             ],
             [
              0.1111111111111111,
              "#46039f"
             ],
             [
              0.2222222222222222,
              "#7201a8"
             ],
             [
              0.3333333333333333,
              "#9c179e"
             ],
             [
              0.4444444444444444,
              "#bd3786"
             ],
             [
              0.5555555555555556,
              "#d8576b"
             ],
             [
              0.6666666666666666,
              "#ed7953"
             ],
             [
              0.7777777777777778,
              "#fb9f3a"
             ],
             [
              0.8888888888888888,
              "#fdca26"
             ],
             [
              1,
              "#f0f921"
             ]
            ],
            "type": "contour"
           }
          ],
          "contourcarpet": [
           {
            "colorbar": {
             "outlinewidth": 0,
             "ticks": ""
            },
            "type": "contourcarpet"
           }
          ],
          "heatmap": [
           {
            "colorbar": {
             "outlinewidth": 0,
             "ticks": ""
            },
            "colorscale": [
             [
              0,
              "#0d0887"
             ],
             [
              0.1111111111111111,
              "#46039f"
             ],
             [
              0.2222222222222222,
              "#7201a8"
             ],
             [
              0.3333333333333333,
              "#9c179e"
             ],
             [
              0.4444444444444444,
              "#bd3786"
             ],
             [
              0.5555555555555556,
              "#d8576b"
             ],
             [
              0.6666666666666666,
              "#ed7953"
             ],
             [
              0.7777777777777778,
              "#fb9f3a"
             ],
             [
              0.8888888888888888,
              "#fdca26"
             ],
             [
              1,
              "#f0f921"
             ]
            ],
            "type": "heatmap"
           }
          ],
          "heatmapgl": [
           {
            "colorbar": {
             "outlinewidth": 0,
             "ticks": ""
            },
            "colorscale": [
             [
              0,
              "#0d0887"
             ],
             [
              0.1111111111111111,
              "#46039f"
             ],
             [
              0.2222222222222222,
              "#7201a8"
             ],
             [
              0.3333333333333333,
              "#9c179e"
             ],
             [
              0.4444444444444444,
              "#bd3786"
             ],
             [
              0.5555555555555556,
              "#d8576b"
             ],
             [
              0.6666666666666666,
              "#ed7953"
             ],
             [
              0.7777777777777778,
              "#fb9f3a"
             ],
             [
              0.8888888888888888,
              "#fdca26"
             ],
             [
              1,
              "#f0f921"
             ]
            ],
            "type": "heatmapgl"
           }
          ],
          "histogram": [
           {
            "marker": {
             "pattern": {
              "fillmode": "overlay",
              "size": 10,
              "solidity": 0.2
             }
            },
            "type": "histogram"
           }
          ],
          "histogram2d": [
           {
            "colorbar": {
             "outlinewidth": 0,
             "ticks": ""
            },
            "colorscale": [
             [
              0,
              "#0d0887"
             ],
             [
              0.1111111111111111,
              "#46039f"
             ],
             [
              0.2222222222222222,
              "#7201a8"
             ],
             [
              0.3333333333333333,
              "#9c179e"
             ],
             [
              0.4444444444444444,
              "#bd3786"
             ],
             [
              0.5555555555555556,
              "#d8576b"
             ],
             [
              0.6666666666666666,
              "#ed7953"
             ],
             [
              0.7777777777777778,
              "#fb9f3a"
             ],
             [
              0.8888888888888888,
              "#fdca26"
             ],
             [
              1,
              "#f0f921"
             ]
            ],
            "type": "histogram2d"
           }
          ],
          "histogram2dcontour": [
           {
            "colorbar": {
             "outlinewidth": 0,
             "ticks": ""
            },
            "colorscale": [
             [
              0,
              "#0d0887"
             ],
             [
              0.1111111111111111,
              "#46039f"
             ],
             [
              0.2222222222222222,
              "#7201a8"
             ],
             [
              0.3333333333333333,
              "#9c179e"
             ],
             [
              0.4444444444444444,
              "#bd3786"
             ],
             [
              0.5555555555555556,
              "#d8576b"
             ],
             [
              0.6666666666666666,
              "#ed7953"
             ],
             [
              0.7777777777777778,
              "#fb9f3a"
             ],
             [
              0.8888888888888888,
              "#fdca26"
             ],
             [
              1,
              "#f0f921"
             ]
            ],
            "type": "histogram2dcontour"
           }
          ],
          "mesh3d": [
           {
            "colorbar": {
             "outlinewidth": 0,
             "ticks": ""
            },
            "type": "mesh3d"
           }
          ],
          "parcoords": [
           {
            "line": {
             "colorbar": {
              "outlinewidth": 0,
              "ticks": ""
             }
            },
            "type": "parcoords"
           }
          ],
          "pie": [
           {
            "automargin": true,
            "type": "pie"
           }
          ],
          "scatter": [
           {
            "fillpattern": {
             "fillmode": "overlay",
             "size": 10,
             "solidity": 0.2
            },
            "type": "scatter"
           }
          ],
          "scatter3d": [
           {
            "line": {
             "colorbar": {
              "outlinewidth": 0,
              "ticks": ""
             }
            },
            "marker": {
             "colorbar": {
              "outlinewidth": 0,
              "ticks": ""
             }
            },
            "type": "scatter3d"
           }
          ],
          "scattercarpet": [
           {
            "marker": {
             "colorbar": {
              "outlinewidth": 0,
              "ticks": ""
             }
            },
            "type": "scattercarpet"
           }
          ],
          "scattergeo": [
           {
            "marker": {
             "colorbar": {
              "outlinewidth": 0,
              "ticks": ""
             }
            },
            "type": "scattergeo"
           }
          ],
          "scattergl": [
           {
            "marker": {
             "colorbar": {
              "outlinewidth": 0,
              "ticks": ""
             }
            },
            "type": "scattergl"
           }
          ],
          "scattermapbox": [
           {
            "marker": {
             "colorbar": {
              "outlinewidth": 0,
              "ticks": ""
             }
            },
            "type": "scattermapbox"
           }
          ],
          "scatterpolar": [
           {
            "marker": {
             "colorbar": {
              "outlinewidth": 0,
              "ticks": ""
             }
            },
            "type": "scatterpolar"
           }
          ],
          "scatterpolargl": [
           {
            "marker": {
             "colorbar": {
              "outlinewidth": 0,
              "ticks": ""
             }
            },
            "type": "scatterpolargl"
           }
          ],
          "scatterternary": [
           {
            "marker": {
             "colorbar": {
              "outlinewidth": 0,
              "ticks": ""
             }
            },
            "type": "scatterternary"
           }
          ],
          "surface": [
           {
            "colorbar": {
             "outlinewidth": 0,
             "ticks": ""
            },
            "colorscale": [
             [
              0,
              "#0d0887"
             ],
             [
              0.1111111111111111,
              "#46039f"
             ],
             [
              0.2222222222222222,
              "#7201a8"
             ],
             [
              0.3333333333333333,
              "#9c179e"
             ],
             [
              0.4444444444444444,
              "#bd3786"
             ],
             [
              0.5555555555555556,
              "#d8576b"
             ],
             [
              0.6666666666666666,
              "#ed7953"
             ],
             [
              0.7777777777777778,
              "#fb9f3a"
             ],
             [
              0.8888888888888888,
              "#fdca26"
             ],
             [
              1,
              "#f0f921"
             ]
            ],
            "type": "surface"
           }
          ],
          "table": [
           {
            "cells": {
             "fill": {
              "color": "#EBF0F8"
             },
             "line": {
              "color": "white"
             }
            },
            "header": {
             "fill": {
              "color": "#C8D4E3"
             },
             "line": {
              "color": "white"
             }
            },
            "type": "table"
           }
          ]
         },
         "layout": {
          "annotationdefaults": {
           "arrowcolor": "#2a3f5f",
           "arrowhead": 0,
           "arrowwidth": 1
          },
          "autotypenumbers": "strict",
          "coloraxis": {
           "colorbar": {
            "outlinewidth": 0,
            "ticks": ""
           }
          },
          "colorscale": {
           "diverging": [
            [
             0,
             "#8e0152"
            ],
            [
             0.1,
             "#c51b7d"
            ],
            [
             0.2,
             "#de77ae"
            ],
            [
             0.3,
             "#f1b6da"
            ],
            [
             0.4,
             "#fde0ef"
            ],
            [
             0.5,
             "#f7f7f7"
            ],
            [
             0.6,
             "#e6f5d0"
            ],
            [
             0.7,
             "#b8e186"
            ],
            [
             0.8,
             "#7fbc41"
            ],
            [
             0.9,
             "#4d9221"
            ],
            [
             1,
             "#276419"
            ]
           ],
           "sequential": [
            [
             0,
             "#0d0887"
            ],
            [
             0.1111111111111111,
             "#46039f"
            ],
            [
             0.2222222222222222,
             "#7201a8"
            ],
            [
             0.3333333333333333,
             "#9c179e"
            ],
            [
             0.4444444444444444,
             "#bd3786"
            ],
            [
             0.5555555555555556,
             "#d8576b"
            ],
            [
             0.6666666666666666,
             "#ed7953"
            ],
            [
             0.7777777777777778,
             "#fb9f3a"
            ],
            [
             0.8888888888888888,
             "#fdca26"
            ],
            [
             1,
             "#f0f921"
            ]
           ],
           "sequentialminus": [
            [
             0,
             "#0d0887"
            ],
            [
             0.1111111111111111,
             "#46039f"
            ],
            [
             0.2222222222222222,
             "#7201a8"
            ],
            [
             0.3333333333333333,
             "#9c179e"
            ],
            [
             0.4444444444444444,
             "#bd3786"
            ],
            [
             0.5555555555555556,
             "#d8576b"
            ],
            [
             0.6666666666666666,
             "#ed7953"
            ],
            [
             0.7777777777777778,
             "#fb9f3a"
            ],
            [
             0.8888888888888888,
             "#fdca26"
            ],
            [
             1,
             "#f0f921"
            ]
           ]
          },
          "colorway": [
           "#636efa",
           "#EF553B",
           "#00cc96",
           "#ab63fa",
           "#FFA15A",
           "#19d3f3",
           "#FF6692",
           "#B6E880",
           "#FF97FF",
           "#FECB52"
          ],
          "font": {
           "color": "#2a3f5f"
          },
          "geo": {
           "bgcolor": "white",
           "lakecolor": "white",
           "landcolor": "#E5ECF6",
           "showlakes": true,
           "showland": true,
           "subunitcolor": "white"
          },
          "hoverlabel": {
           "align": "left"
          },
          "hovermode": "closest",
          "mapbox": {
           "style": "light"
          },
          "paper_bgcolor": "white",
          "plot_bgcolor": "#E5ECF6",
          "polar": {
           "angularaxis": {
            "gridcolor": "white",
            "linecolor": "white",
            "ticks": ""
           },
           "bgcolor": "#E5ECF6",
           "radialaxis": {
            "gridcolor": "white",
            "linecolor": "white",
            "ticks": ""
           }
          },
          "scene": {
           "xaxis": {
            "backgroundcolor": "#E5ECF6",
            "gridcolor": "white",
            "gridwidth": 2,
            "linecolor": "white",
            "showbackground": true,
            "ticks": "",
            "zerolinecolor": "white"
           },
           "yaxis": {
            "backgroundcolor": "#E5ECF6",
            "gridcolor": "white",
            "gridwidth": 2,
            "linecolor": "white",
            "showbackground": true,
            "ticks": "",
            "zerolinecolor": "white"
           },
           "zaxis": {
            "backgroundcolor": "#E5ECF6",
            "gridcolor": "white",
            "gridwidth": 2,
            "linecolor": "white",
            "showbackground": true,
            "ticks": "",
            "zerolinecolor": "white"
           }
          },
          "shapedefaults": {
           "line": {
            "color": "#2a3f5f"
           }
          },
          "ternary": {
           "aaxis": {
            "gridcolor": "white",
            "linecolor": "white",
            "ticks": ""
           },
           "baxis": {
            "gridcolor": "white",
            "linecolor": "white",
            "ticks": ""
           },
           "bgcolor": "#E5ECF6",
           "caxis": {
            "gridcolor": "white",
            "linecolor": "white",
            "ticks": ""
           }
          },
          "title": {
           "x": 0.05
          },
          "xaxis": {
           "automargin": true,
           "gridcolor": "white",
           "linecolor": "white",
           "ticks": "",
           "title": {
            "standoff": 15
           },
           "zerolinecolor": "white",
           "zerolinewidth": 2
          },
          "yaxis": {
           "automargin": true,
           "gridcolor": "white",
           "linecolor": "white",
           "ticks": "",
           "title": {
            "standoff": 15
           },
           "zerolinecolor": "white",
           "zerolinewidth": 2
          }
         }
        }
       }
      },
      "text/html": [
       "<div>                            <div id=\"c32f0436-3066-4ef6-a029-920fc9ab0bd3\" class=\"plotly-graph-div\" style=\"height:525px; width:100%;\"></div>            <script type=\"text/javascript\">                require([\"plotly\"], function(Plotly) {                    window.PLOTLYENV=window.PLOTLYENV || {};                                    if (document.getElementById(\"c32f0436-3066-4ef6-a029-920fc9ab0bd3\")) {                    Plotly.newPlot(                        \"c32f0436-3066-4ef6-a029-920fc9ab0bd3\",                        [{\"error_y\":{\"array\":[0.12081330223471143,0.15042012833134322,0.14938144026577438,0.2222972478015015,0.2020328478998129,0.14283109673274275,0.21177254539819312,0.17859868510338894,0.18563308544391366,0.20345534230305007,0.2051479290877184,0.21826917780600819],\"arrayminus\":[0.22918669776528855,0.25957987166865676,0.2906185597342256,0.33770275219849855,0.3179671521001871,0.2571689032672573,0.3382274546018069,0.321401314896611,0.3143669145560863,0.3765446576969499,0.37485207091228157,0.34173082219399187],\"color\":\"grey\",\"symmetric\":false,\"type\":\"data\"},\"mode\":\"markers\",\"x\":[\"mfmri_st_corr\",\"mfmri_st_corr_denoised_csf_csfonly\",\"mfmri_st_corr_denoised_moco\",\"mfmri_st_corr_denoised_cc\",\"mfmri_st_corr_denoised_moco_cc\",\"mfmri_st_corr_denoised_pnm_cardonly\",\"mfmri_st_corr_denoised_pnm_responly\",\"mfmri_st_corr_denoised_pnm\",\"mfmri_st_corr_denoised_csf_pnm\",\"mfmri_st_corr_denoised_pnm_moco\",\"mfmri_st_corr_denoised_csf_pnm_moco\",\"mfmri_st_corr_denoised_csf_pnm_moco_cc\"],\"y\":[0.7691866977652886,0.7195798716686568,0.7206185597342256,0.5677027521984985,0.5979671521001871,0.7271689032672572,0.5682274546018069,0.651401314896611,0.6543669145560863,0.6265446576969499,0.6248520709122816,0.5717308221939918],\"type\":\"scatter\"}],                        {\"template\":{\"data\":{\"histogram2dcontour\":[{\"type\":\"histogram2dcontour\",\"colorbar\":{\"outlinewidth\":0,\"ticks\":\"\"},\"colorscale\":[[0.0,\"#0d0887\"],[0.1111111111111111,\"#46039f\"],[0.2222222222222222,\"#7201a8\"],[0.3333333333333333,\"#9c179e\"],[0.4444444444444444,\"#bd3786\"],[0.5555555555555556,\"#d8576b\"],[0.6666666666666666,\"#ed7953\"],[0.7777777777777778,\"#fb9f3a\"],[0.8888888888888888,\"#fdca26\"],[1.0,\"#f0f921\"]]}],\"choropleth\":[{\"type\":\"choropleth\",\"colorbar\":{\"outlinewidth\":0,\"ticks\":\"\"}}],\"histogram2d\":[{\"type\":\"histogram2d\",\"colorbar\":{\"outlinewidth\":0,\"ticks\":\"\"},\"colorscale\":[[0.0,\"#0d0887\"],[0.1111111111111111,\"#46039f\"],[0.2222222222222222,\"#7201a8\"],[0.3333333333333333,\"#9c179e\"],[0.4444444444444444,\"#bd3786\"],[0.5555555555555556,\"#d8576b\"],[0.6666666666666666,\"#ed7953\"],[0.7777777777777778,\"#fb9f3a\"],[0.8888888888888888,\"#fdca26\"],[1.0,\"#f0f921\"]]}],\"heatmap\":[{\"type\":\"heatmap\",\"colorbar\":{\"outlinewidth\":0,\"ticks\":\"\"},\"colorscale\":[[0.0,\"#0d0887\"],[0.1111111111111111,\"#46039f\"],[0.2222222222222222,\"#7201a8\"],[0.3333333333333333,\"#9c179e\"],[0.4444444444444444,\"#bd3786\"],[0.5555555555555556,\"#d8576b\"],[0.6666666666666666,\"#ed7953\"],[0.7777777777777778,\"#fb9f3a\"],[0.8888888888888888,\"#fdca26\"],[1.0,\"#f0f921\"]]}],\"heatmapgl\":[{\"type\":\"heatmapgl\",\"colorbar\":{\"outlinewidth\":0,\"ticks\":\"\"},\"colorscale\":[[0.0,\"#0d0887\"],[0.1111111111111111,\"#46039f\"],[0.2222222222222222,\"#7201a8\"],[0.3333333333333333,\"#9c179e\"],[0.4444444444444444,\"#bd3786\"],[0.5555555555555556,\"#d8576b\"],[0.6666666666666666,\"#ed7953\"],[0.7777777777777778,\"#fb9f3a\"],[0.8888888888888888,\"#fdca26\"],[1.0,\"#f0f921\"]]}],\"contourcarpet\":[{\"type\":\"contourcarpet\",\"colorbar\":{\"outlinewidth\":0,\"ticks\":\"\"}}],\"contour\":[{\"type\":\"contour\",\"colorbar\":{\"outlinewidth\":0,\"ticks\":\"\"},\"colorscale\":[[0.0,\"#0d0887\"],[0.1111111111111111,\"#46039f\"],[0.2222222222222222,\"#7201a8\"],[0.3333333333333333,\"#9c179e\"],[0.4444444444444444,\"#bd3786\"],[0.5555555555555556,\"#d8576b\"],[0.6666666666666666,\"#ed7953\"],[0.7777777777777778,\"#fb9f3a\"],[0.8888888888888888,\"#fdca26\"],[1.0,\"#f0f921\"]]}],\"surface\":[{\"type\":\"surface\",\"colorbar\":{\"outlinewidth\":0,\"ticks\":\"\"},\"colorscale\":[[0.0,\"#0d0887\"],[0.1111111111111111,\"#46039f\"],[0.2222222222222222,\"#7201a8\"],[0.3333333333333333,\"#9c179e\"],[0.4444444444444444,\"#bd3786\"],[0.5555555555555556,\"#d8576b\"],[0.6666666666666666,\"#ed7953\"],[0.7777777777777778,\"#fb9f3a\"],[0.8888888888888888,\"#fdca26\"],[1.0,\"#f0f921\"]]}],\"mesh3d\":[{\"type\":\"mesh3d\",\"colorbar\":{\"outlinewidth\":0,\"ticks\":\"\"}}],\"scatter\":[{\"fillpattern\":{\"fillmode\":\"overlay\",\"size\":10,\"solidity\":0.2},\"type\":\"scatter\"}],\"parcoords\":[{\"type\":\"parcoords\",\"line\":{\"colorbar\":{\"outlinewidth\":0,\"ticks\":\"\"}}}],\"scatterpolargl\":[{\"type\":\"scatterpolargl\",\"marker\":{\"colorbar\":{\"outlinewidth\":0,\"ticks\":\"\"}}}],\"bar\":[{\"error_x\":{\"color\":\"#2a3f5f\"},\"error_y\":{\"color\":\"#2a3f5f\"},\"marker\":{\"line\":{\"color\":\"#E5ECF6\",\"width\":0.5},\"pattern\":{\"fillmode\":\"overlay\",\"size\":10,\"solidity\":0.2}},\"type\":\"bar\"}],\"scattergeo\":[{\"type\":\"scattergeo\",\"marker\":{\"colorbar\":{\"outlinewidth\":0,\"ticks\":\"\"}}}],\"scatterpolar\":[{\"type\":\"scatterpolar\",\"marker\":{\"colorbar\":{\"outlinewidth\":0,\"ticks\":\"\"}}}],\"histogram\":[{\"marker\":{\"pattern\":{\"fillmode\":\"overlay\",\"size\":10,\"solidity\":0.2}},\"type\":\"histogram\"}],\"scattergl\":[{\"type\":\"scattergl\",\"marker\":{\"colorbar\":{\"outlinewidth\":0,\"ticks\":\"\"}}}],\"scatter3d\":[{\"type\":\"scatter3d\",\"line\":{\"colorbar\":{\"outlinewidth\":0,\"ticks\":\"\"}},\"marker\":{\"colorbar\":{\"outlinewidth\":0,\"ticks\":\"\"}}}],\"scattermapbox\":[{\"type\":\"scattermapbox\",\"marker\":{\"colorbar\":{\"outlinewidth\":0,\"ticks\":\"\"}}}],\"scatterternary\":[{\"type\":\"scatterternary\",\"marker\":{\"colorbar\":{\"outlinewidth\":0,\"ticks\":\"\"}}}],\"scattercarpet\":[{\"type\":\"scattercarpet\",\"marker\":{\"colorbar\":{\"outlinewidth\":0,\"ticks\":\"\"}}}],\"carpet\":[{\"aaxis\":{\"endlinecolor\":\"#2a3f5f\",\"gridcolor\":\"white\",\"linecolor\":\"white\",\"minorgridcolor\":\"white\",\"startlinecolor\":\"#2a3f5f\"},\"baxis\":{\"endlinecolor\":\"#2a3f5f\",\"gridcolor\":\"white\",\"linecolor\":\"white\",\"minorgridcolor\":\"white\",\"startlinecolor\":\"#2a3f5f\"},\"type\":\"carpet\"}],\"table\":[{\"cells\":{\"fill\":{\"color\":\"#EBF0F8\"},\"line\":{\"color\":\"white\"}},\"header\":{\"fill\":{\"color\":\"#C8D4E3\"},\"line\":{\"color\":\"white\"}},\"type\":\"table\"}],\"barpolar\":[{\"marker\":{\"line\":{\"color\":\"#E5ECF6\",\"width\":0.5},\"pattern\":{\"fillmode\":\"overlay\",\"size\":10,\"solidity\":0.2}},\"type\":\"barpolar\"}],\"pie\":[{\"automargin\":true,\"type\":\"pie\"}]},\"layout\":{\"autotypenumbers\":\"strict\",\"colorway\":[\"#636efa\",\"#EF553B\",\"#00cc96\",\"#ab63fa\",\"#FFA15A\",\"#19d3f3\",\"#FF6692\",\"#B6E880\",\"#FF97FF\",\"#FECB52\"],\"font\":{\"color\":\"#2a3f5f\"},\"hovermode\":\"closest\",\"hoverlabel\":{\"align\":\"left\"},\"paper_bgcolor\":\"white\",\"plot_bgcolor\":\"#E5ECF6\",\"polar\":{\"bgcolor\":\"#E5ECF6\",\"angularaxis\":{\"gridcolor\":\"white\",\"linecolor\":\"white\",\"ticks\":\"\"},\"radialaxis\":{\"gridcolor\":\"white\",\"linecolor\":\"white\",\"ticks\":\"\"}},\"ternary\":{\"bgcolor\":\"#E5ECF6\",\"aaxis\":{\"gridcolor\":\"white\",\"linecolor\":\"white\",\"ticks\":\"\"},\"baxis\":{\"gridcolor\":\"white\",\"linecolor\":\"white\",\"ticks\":\"\"},\"caxis\":{\"gridcolor\":\"white\",\"linecolor\":\"white\",\"ticks\":\"\"}},\"coloraxis\":{\"colorbar\":{\"outlinewidth\":0,\"ticks\":\"\"}},\"colorscale\":{\"sequential\":[[0.0,\"#0d0887\"],[0.1111111111111111,\"#46039f\"],[0.2222222222222222,\"#7201a8\"],[0.3333333333333333,\"#9c179e\"],[0.4444444444444444,\"#bd3786\"],[0.5555555555555556,\"#d8576b\"],[0.6666666666666666,\"#ed7953\"],[0.7777777777777778,\"#fb9f3a\"],[0.8888888888888888,\"#fdca26\"],[1.0,\"#f0f921\"]],\"sequentialminus\":[[0.0,\"#0d0887\"],[0.1111111111111111,\"#46039f\"],[0.2222222222222222,\"#7201a8\"],[0.3333333333333333,\"#9c179e\"],[0.4444444444444444,\"#bd3786\"],[0.5555555555555556,\"#d8576b\"],[0.6666666666666666,\"#ed7953\"],[0.7777777777777778,\"#fb9f3a\"],[0.8888888888888888,\"#fdca26\"],[1.0,\"#f0f921\"]],\"diverging\":[[0,\"#8e0152\"],[0.1,\"#c51b7d\"],[0.2,\"#de77ae\"],[0.3,\"#f1b6da\"],[0.4,\"#fde0ef\"],[0.5,\"#f7f7f7\"],[0.6,\"#e6f5d0\"],[0.7,\"#b8e186\"],[0.8,\"#7fbc41\"],[0.9,\"#4d9221\"],[1,\"#276419\"]]},\"xaxis\":{\"gridcolor\":\"white\",\"linecolor\":\"white\",\"ticks\":\"\",\"title\":{\"standoff\":15},\"zerolinecolor\":\"white\",\"automargin\":true,\"zerolinewidth\":2},\"yaxis\":{\"gridcolor\":\"white\",\"linecolor\":\"white\",\"ticks\":\"\",\"title\":{\"standoff\":15},\"zerolinecolor\":\"white\",\"automargin\":true,\"zerolinewidth\":2},\"scene\":{\"xaxis\":{\"backgroundcolor\":\"#E5ECF6\",\"gridcolor\":\"white\",\"linecolor\":\"white\",\"showbackground\":true,\"ticks\":\"\",\"zerolinecolor\":\"white\",\"gridwidth\":2},\"yaxis\":{\"backgroundcolor\":\"#E5ECF6\",\"gridcolor\":\"white\",\"linecolor\":\"white\",\"showbackground\":true,\"ticks\":\"\",\"zerolinecolor\":\"white\",\"gridwidth\":2},\"zaxis\":{\"backgroundcolor\":\"#E5ECF6\",\"gridcolor\":\"white\",\"linecolor\":\"white\",\"showbackground\":true,\"ticks\":\"\",\"zerolinecolor\":\"white\",\"gridwidth\":2}},\"shapedefaults\":{\"line\":{\"color\":\"#2a3f5f\"}},\"annotationdefaults\":{\"arrowcolor\":\"#2a3f5f\",\"arrowhead\":0,\"arrowwidth\":1},\"geo\":{\"bgcolor\":\"white\",\"landcolor\":\"#E5ECF6\",\"subunitcolor\":\"white\",\"showland\":true,\"showlakes\":true,\"lakecolor\":\"white\"},\"title\":{\"x\":0.05},\"mapbox\":{\"style\":\"light\"}}}},                        {\"responsive\": true}                    ).then(function(){\n",
       "                            \n",
       "var gd = document.getElementById('c32f0436-3066-4ef6-a029-920fc9ab0bd3');\n",
       "var x = new MutationObserver(function (mutations, observer) {{\n",
       "        var display = window.getComputedStyle(gd).display;\n",
       "        if (!display || display === 'none') {{\n",
       "            console.log([gd, 'removed!']);\n",
       "            Plotly.purge(gd);\n",
       "            observer.disconnect();\n",
       "        }}\n",
       "}});\n",
       "\n",
       "// Listen for the removal of the full notebook cells\n",
       "var notebookContainer = gd.closest('#notebook-container');\n",
       "if (notebookContainer) {{\n",
       "    x.observe(notebookContainer, {childList: true});\n",
       "}}\n",
       "\n",
       "// Listen for the clearing of the current output cell\n",
       "var outputEl = gd.closest('.output');\n",
       "if (outputEl) {{\n",
       "    x.observe(outputEl, {childList: true});\n",
       "}}\n",
       "\n",
       "                        })                };                });            </script>        </div>"
      ]
     },
     "metadata": {},
     "output_type": "display_data"
    }
   ],
   "source": [
    "plot_ICC(ICC_VV_vals,ICC_VV_err,tempfilt,'VV')"
   ]
  },
  {
   "cell_type": "code",
   "execution_count": 131,
   "id": "7f02c894",
   "metadata": {},
   "outputs": [
    {
     "data": {
      "application/vnd.plotly.v1+json": {
       "config": {
        "plotlyServerURL": "https://plot.ly"
       },
       "data": [
        {
         "error_y": {
          "array": [
           0.054223936388205884,
           0.13508956489383028,
           0.1185048405276653,
           0.15040390240785306,
           0.1432928054497229,
           0.12105414180563867,
           0.14151878396977025,
           0.14080442014074823,
           0.15498046336016613,
           0.13380006309558556,
           0.15313134413629703,
           0.19213421659922458
          ],
          "arrayminus": [
           0.12577606361179405,
           0.24491043510616972,
           0.2414951594723347,
           0.2695960975921469,
           0.2867071945502771,
           0.2289458581943613,
           0.2584812160302298,
           0.24919557985925178,
           0.27501953663983386,
           0.26619993690441446,
           0.28686865586370297,
           0.3378657834007754
          ],
          "color": "grey",
          "symmetric": false,
          "type": "data"
         },
         "mode": "markers",
         "type": "scatter",
         "x": [
          "mfmri_st_corr",
          "mfmri_st_corr_denoised_csf_csfonly",
          "mfmri_st_corr_denoised_moco",
          "mfmri_st_corr_denoised_cc",
          "mfmri_st_corr_denoised_moco_cc",
          "mfmri_st_corr_denoised_pnm_cardonly",
          "mfmri_st_corr_denoised_pnm_responly",
          "mfmri_st_corr_denoised_pnm",
          "mfmri_st_corr_denoised_csf_pnm",
          "mfmri_st_corr_denoised_pnm_moco",
          "mfmri_st_corr_denoised_csf_pnm_moco",
          "mfmri_st_corr_denoised_csf_pnm_moco_cc"
         ],
         "y": [
          0.8957760636117941,
          0.7549104351061697,
          0.7814951594723347,
          0.7195960975921469,
          0.7267071945502771,
          0.7789458581943614,
          0.7284812160302298,
          0.7391955798592518,
          0.7050195366398339,
          0.7461999369044144,
          0.706868655863703,
          0.6278657834007754
         ]
        }
       ],
       "layout": {
        "template": {
         "data": {
          "bar": [
           {
            "error_x": {
             "color": "#2a3f5f"
            },
            "error_y": {
             "color": "#2a3f5f"
            },
            "marker": {
             "line": {
              "color": "#E5ECF6",
              "width": 0.5
             },
             "pattern": {
              "fillmode": "overlay",
              "size": 10,
              "solidity": 0.2
             }
            },
            "type": "bar"
           }
          ],
          "barpolar": [
           {
            "marker": {
             "line": {
              "color": "#E5ECF6",
              "width": 0.5
             },
             "pattern": {
              "fillmode": "overlay",
              "size": 10,
              "solidity": 0.2
             }
            },
            "type": "barpolar"
           }
          ],
          "carpet": [
           {
            "aaxis": {
             "endlinecolor": "#2a3f5f",
             "gridcolor": "white",
             "linecolor": "white",
             "minorgridcolor": "white",
             "startlinecolor": "#2a3f5f"
            },
            "baxis": {
             "endlinecolor": "#2a3f5f",
             "gridcolor": "white",
             "linecolor": "white",
             "minorgridcolor": "white",
             "startlinecolor": "#2a3f5f"
            },
            "type": "carpet"
           }
          ],
          "choropleth": [
           {
            "colorbar": {
             "outlinewidth": 0,
             "ticks": ""
            },
            "type": "choropleth"
           }
          ],
          "contour": [
           {
            "colorbar": {
             "outlinewidth": 0,
             "ticks": ""
            },
            "colorscale": [
             [
              0,
              "#0d0887"
             ],
             [
              0.1111111111111111,
              "#46039f"
             ],
             [
              0.2222222222222222,
              "#7201a8"
             ],
             [
              0.3333333333333333,
              "#9c179e"
             ],
             [
              0.4444444444444444,
              "#bd3786"
             ],
             [
              0.5555555555555556,
              "#d8576b"
             ],
             [
              0.6666666666666666,
              "#ed7953"
             ],
             [
              0.7777777777777778,
              "#fb9f3a"
             ],
             [
              0.8888888888888888,
              "#fdca26"
             ],
             [
              1,
              "#f0f921"
             ]
            ],
            "type": "contour"
           }
          ],
          "contourcarpet": [
           {
            "colorbar": {
             "outlinewidth": 0,
             "ticks": ""
            },
            "type": "contourcarpet"
           }
          ],
          "heatmap": [
           {
            "colorbar": {
             "outlinewidth": 0,
             "ticks": ""
            },
            "colorscale": [
             [
              0,
              "#0d0887"
             ],
             [
              0.1111111111111111,
              "#46039f"
             ],
             [
              0.2222222222222222,
              "#7201a8"
             ],
             [
              0.3333333333333333,
              "#9c179e"
             ],
             [
              0.4444444444444444,
              "#bd3786"
             ],
             [
              0.5555555555555556,
              "#d8576b"
             ],
             [
              0.6666666666666666,
              "#ed7953"
             ],
             [
              0.7777777777777778,
              "#fb9f3a"
             ],
             [
              0.8888888888888888,
              "#fdca26"
             ],
             [
              1,
              "#f0f921"
             ]
            ],
            "type": "heatmap"
           }
          ],
          "heatmapgl": [
           {
            "colorbar": {
             "outlinewidth": 0,
             "ticks": ""
            },
            "colorscale": [
             [
              0,
              "#0d0887"
             ],
             [
              0.1111111111111111,
              "#46039f"
             ],
             [
              0.2222222222222222,
              "#7201a8"
             ],
             [
              0.3333333333333333,
              "#9c179e"
             ],
             [
              0.4444444444444444,
              "#bd3786"
             ],
             [
              0.5555555555555556,
              "#d8576b"
             ],
             [
              0.6666666666666666,
              "#ed7953"
             ],
             [
              0.7777777777777778,
              "#fb9f3a"
             ],
             [
              0.8888888888888888,
              "#fdca26"
             ],
             [
              1,
              "#f0f921"
             ]
            ],
            "type": "heatmapgl"
           }
          ],
          "histogram": [
           {
            "marker": {
             "pattern": {
              "fillmode": "overlay",
              "size": 10,
              "solidity": 0.2
             }
            },
            "type": "histogram"
           }
          ],
          "histogram2d": [
           {
            "colorbar": {
             "outlinewidth": 0,
             "ticks": ""
            },
            "colorscale": [
             [
              0,
              "#0d0887"
             ],
             [
              0.1111111111111111,
              "#46039f"
             ],
             [
              0.2222222222222222,
              "#7201a8"
             ],
             [
              0.3333333333333333,
              "#9c179e"
             ],
             [
              0.4444444444444444,
              "#bd3786"
             ],
             [
              0.5555555555555556,
              "#d8576b"
             ],
             [
              0.6666666666666666,
              "#ed7953"
             ],
             [
              0.7777777777777778,
              "#fb9f3a"
             ],
             [
              0.8888888888888888,
              "#fdca26"
             ],
             [
              1,
              "#f0f921"
             ]
            ],
            "type": "histogram2d"
           }
          ],
          "histogram2dcontour": [
           {
            "colorbar": {
             "outlinewidth": 0,
             "ticks": ""
            },
            "colorscale": [
             [
              0,
              "#0d0887"
             ],
             [
              0.1111111111111111,
              "#46039f"
             ],
             [
              0.2222222222222222,
              "#7201a8"
             ],
             [
              0.3333333333333333,
              "#9c179e"
             ],
             [
              0.4444444444444444,
              "#bd3786"
             ],
             [
              0.5555555555555556,
              "#d8576b"
             ],
             [
              0.6666666666666666,
              "#ed7953"
             ],
             [
              0.7777777777777778,
              "#fb9f3a"
             ],
             [
              0.8888888888888888,
              "#fdca26"
             ],
             [
              1,
              "#f0f921"
             ]
            ],
            "type": "histogram2dcontour"
           }
          ],
          "mesh3d": [
           {
            "colorbar": {
             "outlinewidth": 0,
             "ticks": ""
            },
            "type": "mesh3d"
           }
          ],
          "parcoords": [
           {
            "line": {
             "colorbar": {
              "outlinewidth": 0,
              "ticks": ""
             }
            },
            "type": "parcoords"
           }
          ],
          "pie": [
           {
            "automargin": true,
            "type": "pie"
           }
          ],
          "scatter": [
           {
            "fillpattern": {
             "fillmode": "overlay",
             "size": 10,
             "solidity": 0.2
            },
            "type": "scatter"
           }
          ],
          "scatter3d": [
           {
            "line": {
             "colorbar": {
              "outlinewidth": 0,
              "ticks": ""
             }
            },
            "marker": {
             "colorbar": {
              "outlinewidth": 0,
              "ticks": ""
             }
            },
            "type": "scatter3d"
           }
          ],
          "scattercarpet": [
           {
            "marker": {
             "colorbar": {
              "outlinewidth": 0,
              "ticks": ""
             }
            },
            "type": "scattercarpet"
           }
          ],
          "scattergeo": [
           {
            "marker": {
             "colorbar": {
              "outlinewidth": 0,
              "ticks": ""
             }
            },
            "type": "scattergeo"
           }
          ],
          "scattergl": [
           {
            "marker": {
             "colorbar": {
              "outlinewidth": 0,
              "ticks": ""
             }
            },
            "type": "scattergl"
           }
          ],
          "scattermapbox": [
           {
            "marker": {
             "colorbar": {
              "outlinewidth": 0,
              "ticks": ""
             }
            },
            "type": "scattermapbox"
           }
          ],
          "scatterpolar": [
           {
            "marker": {
             "colorbar": {
              "outlinewidth": 0,
              "ticks": ""
             }
            },
            "type": "scatterpolar"
           }
          ],
          "scatterpolargl": [
           {
            "marker": {
             "colorbar": {
              "outlinewidth": 0,
              "ticks": ""
             }
            },
            "type": "scatterpolargl"
           }
          ],
          "scatterternary": [
           {
            "marker": {
             "colorbar": {
              "outlinewidth": 0,
              "ticks": ""
             }
            },
            "type": "scatterternary"
           }
          ],
          "surface": [
           {
            "colorbar": {
             "outlinewidth": 0,
             "ticks": ""
            },
            "colorscale": [
             [
              0,
              "#0d0887"
             ],
             [
              0.1111111111111111,
              "#46039f"
             ],
             [
              0.2222222222222222,
              "#7201a8"
             ],
             [
              0.3333333333333333,
              "#9c179e"
             ],
             [
              0.4444444444444444,
              "#bd3786"
             ],
             [
              0.5555555555555556,
              "#d8576b"
             ],
             [
              0.6666666666666666,
              "#ed7953"
             ],
             [
              0.7777777777777778,
              "#fb9f3a"
             ],
             [
              0.8888888888888888,
              "#fdca26"
             ],
             [
              1,
              "#f0f921"
             ]
            ],
            "type": "surface"
           }
          ],
          "table": [
           {
            "cells": {
             "fill": {
              "color": "#EBF0F8"
             },
             "line": {
              "color": "white"
             }
            },
            "header": {
             "fill": {
              "color": "#C8D4E3"
             },
             "line": {
              "color": "white"
             }
            },
            "type": "table"
           }
          ]
         },
         "layout": {
          "annotationdefaults": {
           "arrowcolor": "#2a3f5f",
           "arrowhead": 0,
           "arrowwidth": 1
          },
          "autotypenumbers": "strict",
          "coloraxis": {
           "colorbar": {
            "outlinewidth": 0,
            "ticks": ""
           }
          },
          "colorscale": {
           "diverging": [
            [
             0,
             "#8e0152"
            ],
            [
             0.1,
             "#c51b7d"
            ],
            [
             0.2,
             "#de77ae"
            ],
            [
             0.3,
             "#f1b6da"
            ],
            [
             0.4,
             "#fde0ef"
            ],
            [
             0.5,
             "#f7f7f7"
            ],
            [
             0.6,
             "#e6f5d0"
            ],
            [
             0.7,
             "#b8e186"
            ],
            [
             0.8,
             "#7fbc41"
            ],
            [
             0.9,
             "#4d9221"
            ],
            [
             1,
             "#276419"
            ]
           ],
           "sequential": [
            [
             0,
             "#0d0887"
            ],
            [
             0.1111111111111111,
             "#46039f"
            ],
            [
             0.2222222222222222,
             "#7201a8"
            ],
            [
             0.3333333333333333,
             "#9c179e"
            ],
            [
             0.4444444444444444,
             "#bd3786"
            ],
            [
             0.5555555555555556,
             "#d8576b"
            ],
            [
             0.6666666666666666,
             "#ed7953"
            ],
            [
             0.7777777777777778,
             "#fb9f3a"
            ],
            [
             0.8888888888888888,
             "#fdca26"
            ],
            [
             1,
             "#f0f921"
            ]
           ],
           "sequentialminus": [
            [
             0,
             "#0d0887"
            ],
            [
             0.1111111111111111,
             "#46039f"
            ],
            [
             0.2222222222222222,
             "#7201a8"
            ],
            [
             0.3333333333333333,
             "#9c179e"
            ],
            [
             0.4444444444444444,
             "#bd3786"
            ],
            [
             0.5555555555555556,
             "#d8576b"
            ],
            [
             0.6666666666666666,
             "#ed7953"
            ],
            [
             0.7777777777777778,
             "#fb9f3a"
            ],
            [
             0.8888888888888888,
             "#fdca26"
            ],
            [
             1,
             "#f0f921"
            ]
           ]
          },
          "colorway": [
           "#636efa",
           "#EF553B",
           "#00cc96",
           "#ab63fa",
           "#FFA15A",
           "#19d3f3",
           "#FF6692",
           "#B6E880",
           "#FF97FF",
           "#FECB52"
          ],
          "font": {
           "color": "#2a3f5f"
          },
          "geo": {
           "bgcolor": "white",
           "lakecolor": "white",
           "landcolor": "#E5ECF6",
           "showlakes": true,
           "showland": true,
           "subunitcolor": "white"
          },
          "hoverlabel": {
           "align": "left"
          },
          "hovermode": "closest",
          "mapbox": {
           "style": "light"
          },
          "paper_bgcolor": "white",
          "plot_bgcolor": "#E5ECF6",
          "polar": {
           "angularaxis": {
            "gridcolor": "white",
            "linecolor": "white",
            "ticks": ""
           },
           "bgcolor": "#E5ECF6",
           "radialaxis": {
            "gridcolor": "white",
            "linecolor": "white",
            "ticks": ""
           }
          },
          "scene": {
           "xaxis": {
            "backgroundcolor": "#E5ECF6",
            "gridcolor": "white",
            "gridwidth": 2,
            "linecolor": "white",
            "showbackground": true,
            "ticks": "",
            "zerolinecolor": "white"
           },
           "yaxis": {
            "backgroundcolor": "#E5ECF6",
            "gridcolor": "white",
            "gridwidth": 2,
            "linecolor": "white",
            "showbackground": true,
            "ticks": "",
            "zerolinecolor": "white"
           },
           "zaxis": {
            "backgroundcolor": "#E5ECF6",
            "gridcolor": "white",
            "gridwidth": 2,
            "linecolor": "white",
            "showbackground": true,
            "ticks": "",
            "zerolinecolor": "white"
           }
          },
          "shapedefaults": {
           "line": {
            "color": "#2a3f5f"
           }
          },
          "ternary": {
           "aaxis": {
            "gridcolor": "white",
            "linecolor": "white",
            "ticks": ""
           },
           "baxis": {
            "gridcolor": "white",
            "linecolor": "white",
            "ticks": ""
           },
           "bgcolor": "#E5ECF6",
           "caxis": {
            "gridcolor": "white",
            "linecolor": "white",
            "ticks": ""
           }
          },
          "title": {
           "x": 0.05
          },
          "xaxis": {
           "automargin": true,
           "gridcolor": "white",
           "linecolor": "white",
           "ticks": "",
           "title": {
            "standoff": 15
           },
           "zerolinecolor": "white",
           "zerolinewidth": 2
          },
          "yaxis": {
           "automargin": true,
           "gridcolor": "white",
           "linecolor": "white",
           "ticks": "",
           "title": {
            "standoff": 15
           },
           "zerolinecolor": "white",
           "zerolinewidth": 2
          }
         }
        }
       }
      },
      "text/html": [
       "<div>                            <div id=\"274664ff-3e39-4746-9059-59212763ee03\" class=\"plotly-graph-div\" style=\"height:525px; width:100%;\"></div>            <script type=\"text/javascript\">                require([\"plotly\"], function(Plotly) {                    window.PLOTLYENV=window.PLOTLYENV || {};                                    if (document.getElementById(\"274664ff-3e39-4746-9059-59212763ee03\")) {                    Plotly.newPlot(                        \"274664ff-3e39-4746-9059-59212763ee03\",                        [{\"error_y\":{\"array\":[0.054223936388205884,0.13508956489383028,0.1185048405276653,0.15040390240785306,0.1432928054497229,0.12105414180563867,0.14151878396977025,0.14080442014074823,0.15498046336016613,0.13380006309558556,0.15313134413629703,0.19213421659922458],\"arrayminus\":[0.12577606361179405,0.24491043510616972,0.2414951594723347,0.2695960975921469,0.2867071945502771,0.2289458581943613,0.2584812160302298,0.24919557985925178,0.27501953663983386,0.26619993690441446,0.28686865586370297,0.3378657834007754],\"color\":\"grey\",\"symmetric\":false,\"type\":\"data\"},\"mode\":\"markers\",\"x\":[\"mfmri_st_corr\",\"mfmri_st_corr_denoised_csf_csfonly\",\"mfmri_st_corr_denoised_moco\",\"mfmri_st_corr_denoised_cc\",\"mfmri_st_corr_denoised_moco_cc\",\"mfmri_st_corr_denoised_pnm_cardonly\",\"mfmri_st_corr_denoised_pnm_responly\",\"mfmri_st_corr_denoised_pnm\",\"mfmri_st_corr_denoised_csf_pnm\",\"mfmri_st_corr_denoised_pnm_moco\",\"mfmri_st_corr_denoised_csf_pnm_moco\",\"mfmri_st_corr_denoised_csf_pnm_moco_cc\"],\"y\":[0.8957760636117941,0.7549104351061697,0.7814951594723347,0.7195960975921469,0.7267071945502771,0.7789458581943614,0.7284812160302298,0.7391955798592518,0.7050195366398339,0.7461999369044144,0.706868655863703,0.6278657834007754],\"type\":\"scatter\"}],                        {\"template\":{\"data\":{\"histogram2dcontour\":[{\"type\":\"histogram2dcontour\",\"colorbar\":{\"outlinewidth\":0,\"ticks\":\"\"},\"colorscale\":[[0.0,\"#0d0887\"],[0.1111111111111111,\"#46039f\"],[0.2222222222222222,\"#7201a8\"],[0.3333333333333333,\"#9c179e\"],[0.4444444444444444,\"#bd3786\"],[0.5555555555555556,\"#d8576b\"],[0.6666666666666666,\"#ed7953\"],[0.7777777777777778,\"#fb9f3a\"],[0.8888888888888888,\"#fdca26\"],[1.0,\"#f0f921\"]]}],\"choropleth\":[{\"type\":\"choropleth\",\"colorbar\":{\"outlinewidth\":0,\"ticks\":\"\"}}],\"histogram2d\":[{\"type\":\"histogram2d\",\"colorbar\":{\"outlinewidth\":0,\"ticks\":\"\"},\"colorscale\":[[0.0,\"#0d0887\"],[0.1111111111111111,\"#46039f\"],[0.2222222222222222,\"#7201a8\"],[0.3333333333333333,\"#9c179e\"],[0.4444444444444444,\"#bd3786\"],[0.5555555555555556,\"#d8576b\"],[0.6666666666666666,\"#ed7953\"],[0.7777777777777778,\"#fb9f3a\"],[0.8888888888888888,\"#fdca26\"],[1.0,\"#f0f921\"]]}],\"heatmap\":[{\"type\":\"heatmap\",\"colorbar\":{\"outlinewidth\":0,\"ticks\":\"\"},\"colorscale\":[[0.0,\"#0d0887\"],[0.1111111111111111,\"#46039f\"],[0.2222222222222222,\"#7201a8\"],[0.3333333333333333,\"#9c179e\"],[0.4444444444444444,\"#bd3786\"],[0.5555555555555556,\"#d8576b\"],[0.6666666666666666,\"#ed7953\"],[0.7777777777777778,\"#fb9f3a\"],[0.8888888888888888,\"#fdca26\"],[1.0,\"#f0f921\"]]}],\"heatmapgl\":[{\"type\":\"heatmapgl\",\"colorbar\":{\"outlinewidth\":0,\"ticks\":\"\"},\"colorscale\":[[0.0,\"#0d0887\"],[0.1111111111111111,\"#46039f\"],[0.2222222222222222,\"#7201a8\"],[0.3333333333333333,\"#9c179e\"],[0.4444444444444444,\"#bd3786\"],[0.5555555555555556,\"#d8576b\"],[0.6666666666666666,\"#ed7953\"],[0.7777777777777778,\"#fb9f3a\"],[0.8888888888888888,\"#fdca26\"],[1.0,\"#f0f921\"]]}],\"contourcarpet\":[{\"type\":\"contourcarpet\",\"colorbar\":{\"outlinewidth\":0,\"ticks\":\"\"}}],\"contour\":[{\"type\":\"contour\",\"colorbar\":{\"outlinewidth\":0,\"ticks\":\"\"},\"colorscale\":[[0.0,\"#0d0887\"],[0.1111111111111111,\"#46039f\"],[0.2222222222222222,\"#7201a8\"],[0.3333333333333333,\"#9c179e\"],[0.4444444444444444,\"#bd3786\"],[0.5555555555555556,\"#d8576b\"],[0.6666666666666666,\"#ed7953\"],[0.7777777777777778,\"#fb9f3a\"],[0.8888888888888888,\"#fdca26\"],[1.0,\"#f0f921\"]]}],\"surface\":[{\"type\":\"surface\",\"colorbar\":{\"outlinewidth\":0,\"ticks\":\"\"},\"colorscale\":[[0.0,\"#0d0887\"],[0.1111111111111111,\"#46039f\"],[0.2222222222222222,\"#7201a8\"],[0.3333333333333333,\"#9c179e\"],[0.4444444444444444,\"#bd3786\"],[0.5555555555555556,\"#d8576b\"],[0.6666666666666666,\"#ed7953\"],[0.7777777777777778,\"#fb9f3a\"],[0.8888888888888888,\"#fdca26\"],[1.0,\"#f0f921\"]]}],\"mesh3d\":[{\"type\":\"mesh3d\",\"colorbar\":{\"outlinewidth\":0,\"ticks\":\"\"}}],\"scatter\":[{\"fillpattern\":{\"fillmode\":\"overlay\",\"size\":10,\"solidity\":0.2},\"type\":\"scatter\"}],\"parcoords\":[{\"type\":\"parcoords\",\"line\":{\"colorbar\":{\"outlinewidth\":0,\"ticks\":\"\"}}}],\"scatterpolargl\":[{\"type\":\"scatterpolargl\",\"marker\":{\"colorbar\":{\"outlinewidth\":0,\"ticks\":\"\"}}}],\"bar\":[{\"error_x\":{\"color\":\"#2a3f5f\"},\"error_y\":{\"color\":\"#2a3f5f\"},\"marker\":{\"line\":{\"color\":\"#E5ECF6\",\"width\":0.5},\"pattern\":{\"fillmode\":\"overlay\",\"size\":10,\"solidity\":0.2}},\"type\":\"bar\"}],\"scattergeo\":[{\"type\":\"scattergeo\",\"marker\":{\"colorbar\":{\"outlinewidth\":0,\"ticks\":\"\"}}}],\"scatterpolar\":[{\"type\":\"scatterpolar\",\"marker\":{\"colorbar\":{\"outlinewidth\":0,\"ticks\":\"\"}}}],\"histogram\":[{\"marker\":{\"pattern\":{\"fillmode\":\"overlay\",\"size\":10,\"solidity\":0.2}},\"type\":\"histogram\"}],\"scattergl\":[{\"type\":\"scattergl\",\"marker\":{\"colorbar\":{\"outlinewidth\":0,\"ticks\":\"\"}}}],\"scatter3d\":[{\"type\":\"scatter3d\",\"line\":{\"colorbar\":{\"outlinewidth\":0,\"ticks\":\"\"}},\"marker\":{\"colorbar\":{\"outlinewidth\":0,\"ticks\":\"\"}}}],\"scattermapbox\":[{\"type\":\"scattermapbox\",\"marker\":{\"colorbar\":{\"outlinewidth\":0,\"ticks\":\"\"}}}],\"scatterternary\":[{\"type\":\"scatterternary\",\"marker\":{\"colorbar\":{\"outlinewidth\":0,\"ticks\":\"\"}}}],\"scattercarpet\":[{\"type\":\"scattercarpet\",\"marker\":{\"colorbar\":{\"outlinewidth\":0,\"ticks\":\"\"}}}],\"carpet\":[{\"aaxis\":{\"endlinecolor\":\"#2a3f5f\",\"gridcolor\":\"white\",\"linecolor\":\"white\",\"minorgridcolor\":\"white\",\"startlinecolor\":\"#2a3f5f\"},\"baxis\":{\"endlinecolor\":\"#2a3f5f\",\"gridcolor\":\"white\",\"linecolor\":\"white\",\"minorgridcolor\":\"white\",\"startlinecolor\":\"#2a3f5f\"},\"type\":\"carpet\"}],\"table\":[{\"cells\":{\"fill\":{\"color\":\"#EBF0F8\"},\"line\":{\"color\":\"white\"}},\"header\":{\"fill\":{\"color\":\"#C8D4E3\"},\"line\":{\"color\":\"white\"}},\"type\":\"table\"}],\"barpolar\":[{\"marker\":{\"line\":{\"color\":\"#E5ECF6\",\"width\":0.5},\"pattern\":{\"fillmode\":\"overlay\",\"size\":10,\"solidity\":0.2}},\"type\":\"barpolar\"}],\"pie\":[{\"automargin\":true,\"type\":\"pie\"}]},\"layout\":{\"autotypenumbers\":\"strict\",\"colorway\":[\"#636efa\",\"#EF553B\",\"#00cc96\",\"#ab63fa\",\"#FFA15A\",\"#19d3f3\",\"#FF6692\",\"#B6E880\",\"#FF97FF\",\"#FECB52\"],\"font\":{\"color\":\"#2a3f5f\"},\"hovermode\":\"closest\",\"hoverlabel\":{\"align\":\"left\"},\"paper_bgcolor\":\"white\",\"plot_bgcolor\":\"#E5ECF6\",\"polar\":{\"bgcolor\":\"#E5ECF6\",\"angularaxis\":{\"gridcolor\":\"white\",\"linecolor\":\"white\",\"ticks\":\"\"},\"radialaxis\":{\"gridcolor\":\"white\",\"linecolor\":\"white\",\"ticks\":\"\"}},\"ternary\":{\"bgcolor\":\"#E5ECF6\",\"aaxis\":{\"gridcolor\":\"white\",\"linecolor\":\"white\",\"ticks\":\"\"},\"baxis\":{\"gridcolor\":\"white\",\"linecolor\":\"white\",\"ticks\":\"\"},\"caxis\":{\"gridcolor\":\"white\",\"linecolor\":\"white\",\"ticks\":\"\"}},\"coloraxis\":{\"colorbar\":{\"outlinewidth\":0,\"ticks\":\"\"}},\"colorscale\":{\"sequential\":[[0.0,\"#0d0887\"],[0.1111111111111111,\"#46039f\"],[0.2222222222222222,\"#7201a8\"],[0.3333333333333333,\"#9c179e\"],[0.4444444444444444,\"#bd3786\"],[0.5555555555555556,\"#d8576b\"],[0.6666666666666666,\"#ed7953\"],[0.7777777777777778,\"#fb9f3a\"],[0.8888888888888888,\"#fdca26\"],[1.0,\"#f0f921\"]],\"sequentialminus\":[[0.0,\"#0d0887\"],[0.1111111111111111,\"#46039f\"],[0.2222222222222222,\"#7201a8\"],[0.3333333333333333,\"#9c179e\"],[0.4444444444444444,\"#bd3786\"],[0.5555555555555556,\"#d8576b\"],[0.6666666666666666,\"#ed7953\"],[0.7777777777777778,\"#fb9f3a\"],[0.8888888888888888,\"#fdca26\"],[1.0,\"#f0f921\"]],\"diverging\":[[0,\"#8e0152\"],[0.1,\"#c51b7d\"],[0.2,\"#de77ae\"],[0.3,\"#f1b6da\"],[0.4,\"#fde0ef\"],[0.5,\"#f7f7f7\"],[0.6,\"#e6f5d0\"],[0.7,\"#b8e186\"],[0.8,\"#7fbc41\"],[0.9,\"#4d9221\"],[1,\"#276419\"]]},\"xaxis\":{\"gridcolor\":\"white\",\"linecolor\":\"white\",\"ticks\":\"\",\"title\":{\"standoff\":15},\"zerolinecolor\":\"white\",\"automargin\":true,\"zerolinewidth\":2},\"yaxis\":{\"gridcolor\":\"white\",\"linecolor\":\"white\",\"ticks\":\"\",\"title\":{\"standoff\":15},\"zerolinecolor\":\"white\",\"automargin\":true,\"zerolinewidth\":2},\"scene\":{\"xaxis\":{\"backgroundcolor\":\"#E5ECF6\",\"gridcolor\":\"white\",\"linecolor\":\"white\",\"showbackground\":true,\"ticks\":\"\",\"zerolinecolor\":\"white\",\"gridwidth\":2},\"yaxis\":{\"backgroundcolor\":\"#E5ECF6\",\"gridcolor\":\"white\",\"linecolor\":\"white\",\"showbackground\":true,\"ticks\":\"\",\"zerolinecolor\":\"white\",\"gridwidth\":2},\"zaxis\":{\"backgroundcolor\":\"#E5ECF6\",\"gridcolor\":\"white\",\"linecolor\":\"white\",\"showbackground\":true,\"ticks\":\"\",\"zerolinecolor\":\"white\",\"gridwidth\":2}},\"shapedefaults\":{\"line\":{\"color\":\"#2a3f5f\"}},\"annotationdefaults\":{\"arrowcolor\":\"#2a3f5f\",\"arrowhead\":0,\"arrowwidth\":1},\"geo\":{\"bgcolor\":\"white\",\"landcolor\":\"#E5ECF6\",\"subunitcolor\":\"white\",\"showland\":true,\"showlakes\":true,\"lakecolor\":\"white\"},\"title\":{\"x\":0.05},\"mapbox\":{\"style\":\"light\"}}}},                        {\"responsive\": true}                    ).then(function(){\n",
       "                            \n",
       "var gd = document.getElementById('274664ff-3e39-4746-9059-59212763ee03');\n",
       "var x = new MutationObserver(function (mutations, observer) {{\n",
       "        var display = window.getComputedStyle(gd).display;\n",
       "        if (!display || display === 'none') {{\n",
       "            console.log([gd, 'removed!']);\n",
       "            Plotly.purge(gd);\n",
       "            observer.disconnect();\n",
       "        }}\n",
       "}});\n",
       "\n",
       "// Listen for the removal of the full notebook cells\n",
       "var notebookContainer = gd.closest('#notebook-container');\n",
       "if (notebookContainer) {{\n",
       "    x.observe(notebookContainer, {childList: true});\n",
       "}}\n",
       "\n",
       "// Listen for the clearing of the current output cell\n",
       "var outputEl = gd.closest('.output');\n",
       "if (outputEl) {{\n",
       "    x.observe(outputEl, {childList: true});\n",
       "}}\n",
       "\n",
       "                        })                };                });            </script>        </div>"
      ]
     },
     "metadata": {},
     "output_type": "display_data"
    }
   ],
   "source": [
    "plot_ICC(ICC_DD_vals,ICC_DD_err,tempfilt,'DD')"
   ]
  },
  {
   "cell_type": "code",
   "execution_count": 132,
   "id": "02c14173",
   "metadata": {},
   "outputs": [
    {
     "data": {
      "application/vnd.plotly.v1+json": {
       "config": {
        "plotlyServerURL": "https://plot.ly"
       },
       "data": [
        {
         "error_y": {
          "array": [
           0.05910750978178858,
           0.10198830974272988,
           0.1307702242191202,
           0.22122612417714482,
           0.20604195107061296,
           0.1131377999619706,
           0.14281023193653541,
           0.13607319220602387,
           0.13671118117800818,
           0.14081898684480232,
           0.1377318241572777,
           0.17674412296809794
          ],
          "arrayminus": [
           0.12089249021821136,
           0.19801169025727017,
           0.23922977578087978,
           0.33877387582285523,
           0.3339580489293871,
           0.20686220003802946,
           0.2571897680634646,
           0.24392680779397613,
           0.24328881882199183,
           0.2491810131551977,
           0.2522681758427223,
           0.30325587703190204
          ],
          "color": "grey",
          "symmetric": false,
          "type": "data"
         },
         "mode": "markers",
         "type": "scatter",
         "x": [
          "mfmri_st_corr",
          "mfmri_st_corr_denoised_csf_csfonly",
          "mfmri_st_corr_denoised_moco",
          "mfmri_st_corr_denoised_cc",
          "mfmri_st_corr_denoised_moco_cc",
          "mfmri_st_corr_denoised_pnm_cardonly",
          "mfmri_st_corr_denoised_pnm_responly",
          "mfmri_st_corr_denoised_pnm",
          "mfmri_st_corr_denoised_csf_pnm",
          "mfmri_st_corr_denoised_pnm_moco",
          "mfmri_st_corr_denoised_csf_pnm_moco",
          "mfmri_st_corr_denoised_csf_pnm_moco_cc"
         ],
         "y": [
          0.8908924902182114,
          0.8080116902572702,
          0.7592297757808798,
          0.5487738758228552,
          0.5839580489293871,
          0.7968622000380294,
          0.7371897680634646,
          0.7439268077939761,
          0.7432888188219918,
          0.7391810131551977,
          0.7322681758427223,
          0.653255877031902
         ]
        }
       ],
       "layout": {
        "template": {
         "data": {
          "bar": [
           {
            "error_x": {
             "color": "#2a3f5f"
            },
            "error_y": {
             "color": "#2a3f5f"
            },
            "marker": {
             "line": {
              "color": "#E5ECF6",
              "width": 0.5
             },
             "pattern": {
              "fillmode": "overlay",
              "size": 10,
              "solidity": 0.2
             }
            },
            "type": "bar"
           }
          ],
          "barpolar": [
           {
            "marker": {
             "line": {
              "color": "#E5ECF6",
              "width": 0.5
             },
             "pattern": {
              "fillmode": "overlay",
              "size": 10,
              "solidity": 0.2
             }
            },
            "type": "barpolar"
           }
          ],
          "carpet": [
           {
            "aaxis": {
             "endlinecolor": "#2a3f5f",
             "gridcolor": "white",
             "linecolor": "white",
             "minorgridcolor": "white",
             "startlinecolor": "#2a3f5f"
            },
            "baxis": {
             "endlinecolor": "#2a3f5f",
             "gridcolor": "white",
             "linecolor": "white",
             "minorgridcolor": "white",
             "startlinecolor": "#2a3f5f"
            },
            "type": "carpet"
           }
          ],
          "choropleth": [
           {
            "colorbar": {
             "outlinewidth": 0,
             "ticks": ""
            },
            "type": "choropleth"
           }
          ],
          "contour": [
           {
            "colorbar": {
             "outlinewidth": 0,
             "ticks": ""
            },
            "colorscale": [
             [
              0,
              "#0d0887"
             ],
             [
              0.1111111111111111,
              "#46039f"
             ],
             [
              0.2222222222222222,
              "#7201a8"
             ],
             [
              0.3333333333333333,
              "#9c179e"
             ],
             [
              0.4444444444444444,
              "#bd3786"
             ],
             [
              0.5555555555555556,
              "#d8576b"
             ],
             [
              0.6666666666666666,
              "#ed7953"
             ],
             [
              0.7777777777777778,
              "#fb9f3a"
             ],
             [
              0.8888888888888888,
              "#fdca26"
             ],
             [
              1,
              "#f0f921"
             ]
            ],
            "type": "contour"
           }
          ],
          "contourcarpet": [
           {
            "colorbar": {
             "outlinewidth": 0,
             "ticks": ""
            },
            "type": "contourcarpet"
           }
          ],
          "heatmap": [
           {
            "colorbar": {
             "outlinewidth": 0,
             "ticks": ""
            },
            "colorscale": [
             [
              0,
              "#0d0887"
             ],
             [
              0.1111111111111111,
              "#46039f"
             ],
             [
              0.2222222222222222,
              "#7201a8"
             ],
             [
              0.3333333333333333,
              "#9c179e"
             ],
             [
              0.4444444444444444,
              "#bd3786"
             ],
             [
              0.5555555555555556,
              "#d8576b"
             ],
             [
              0.6666666666666666,
              "#ed7953"
             ],
             [
              0.7777777777777778,
              "#fb9f3a"
             ],
             [
              0.8888888888888888,
              "#fdca26"
             ],
             [
              1,
              "#f0f921"
             ]
            ],
            "type": "heatmap"
           }
          ],
          "heatmapgl": [
           {
            "colorbar": {
             "outlinewidth": 0,
             "ticks": ""
            },
            "colorscale": [
             [
              0,
              "#0d0887"
             ],
             [
              0.1111111111111111,
              "#46039f"
             ],
             [
              0.2222222222222222,
              "#7201a8"
             ],
             [
              0.3333333333333333,
              "#9c179e"
             ],
             [
              0.4444444444444444,
              "#bd3786"
             ],
             [
              0.5555555555555556,
              "#d8576b"
             ],
             [
              0.6666666666666666,
              "#ed7953"
             ],
             [
              0.7777777777777778,
              "#fb9f3a"
             ],
             [
              0.8888888888888888,
              "#fdca26"
             ],
             [
              1,
              "#f0f921"
             ]
            ],
            "type": "heatmapgl"
           }
          ],
          "histogram": [
           {
            "marker": {
             "pattern": {
              "fillmode": "overlay",
              "size": 10,
              "solidity": 0.2
             }
            },
            "type": "histogram"
           }
          ],
          "histogram2d": [
           {
            "colorbar": {
             "outlinewidth": 0,
             "ticks": ""
            },
            "colorscale": [
             [
              0,
              "#0d0887"
             ],
             [
              0.1111111111111111,
              "#46039f"
             ],
             [
              0.2222222222222222,
              "#7201a8"
             ],
             [
              0.3333333333333333,
              "#9c179e"
             ],
             [
              0.4444444444444444,
              "#bd3786"
             ],
             [
              0.5555555555555556,
              "#d8576b"
             ],
             [
              0.6666666666666666,
              "#ed7953"
             ],
             [
              0.7777777777777778,
              "#fb9f3a"
             ],
             [
              0.8888888888888888,
              "#fdca26"
             ],
             [
              1,
              "#f0f921"
             ]
            ],
            "type": "histogram2d"
           }
          ],
          "histogram2dcontour": [
           {
            "colorbar": {
             "outlinewidth": 0,
             "ticks": ""
            },
            "colorscale": [
             [
              0,
              "#0d0887"
             ],
             [
              0.1111111111111111,
              "#46039f"
             ],
             [
              0.2222222222222222,
              "#7201a8"
             ],
             [
              0.3333333333333333,
              "#9c179e"
             ],
             [
              0.4444444444444444,
              "#bd3786"
             ],
             [
              0.5555555555555556,
              "#d8576b"
             ],
             [
              0.6666666666666666,
              "#ed7953"
             ],
             [
              0.7777777777777778,
              "#fb9f3a"
             ],
             [
              0.8888888888888888,
              "#fdca26"
             ],
             [
              1,
              "#f0f921"
             ]
            ],
            "type": "histogram2dcontour"
           }
          ],
          "mesh3d": [
           {
            "colorbar": {
             "outlinewidth": 0,
             "ticks": ""
            },
            "type": "mesh3d"
           }
          ],
          "parcoords": [
           {
            "line": {
             "colorbar": {
              "outlinewidth": 0,
              "ticks": ""
             }
            },
            "type": "parcoords"
           }
          ],
          "pie": [
           {
            "automargin": true,
            "type": "pie"
           }
          ],
          "scatter": [
           {
            "fillpattern": {
             "fillmode": "overlay",
             "size": 10,
             "solidity": 0.2
            },
            "type": "scatter"
           }
          ],
          "scatter3d": [
           {
            "line": {
             "colorbar": {
              "outlinewidth": 0,
              "ticks": ""
             }
            },
            "marker": {
             "colorbar": {
              "outlinewidth": 0,
              "ticks": ""
             }
            },
            "type": "scatter3d"
           }
          ],
          "scattercarpet": [
           {
            "marker": {
             "colorbar": {
              "outlinewidth": 0,
              "ticks": ""
             }
            },
            "type": "scattercarpet"
           }
          ],
          "scattergeo": [
           {
            "marker": {
             "colorbar": {
              "outlinewidth": 0,
              "ticks": ""
             }
            },
            "type": "scattergeo"
           }
          ],
          "scattergl": [
           {
            "marker": {
             "colorbar": {
              "outlinewidth": 0,
              "ticks": ""
             }
            },
            "type": "scattergl"
           }
          ],
          "scattermapbox": [
           {
            "marker": {
             "colorbar": {
              "outlinewidth": 0,
              "ticks": ""
             }
            },
            "type": "scattermapbox"
           }
          ],
          "scatterpolar": [
           {
            "marker": {
             "colorbar": {
              "outlinewidth": 0,
              "ticks": ""
             }
            },
            "type": "scatterpolar"
           }
          ],
          "scatterpolargl": [
           {
            "marker": {
             "colorbar": {
              "outlinewidth": 0,
              "ticks": ""
             }
            },
            "type": "scatterpolargl"
           }
          ],
          "scatterternary": [
           {
            "marker": {
             "colorbar": {
              "outlinewidth": 0,
              "ticks": ""
             }
            },
            "type": "scatterternary"
           }
          ],
          "surface": [
           {
            "colorbar": {
             "outlinewidth": 0,
             "ticks": ""
            },
            "colorscale": [
             [
              0,
              "#0d0887"
             ],
             [
              0.1111111111111111,
              "#46039f"
             ],
             [
              0.2222222222222222,
              "#7201a8"
             ],
             [
              0.3333333333333333,
              "#9c179e"
             ],
             [
              0.4444444444444444,
              "#bd3786"
             ],
             [
              0.5555555555555556,
              "#d8576b"
             ],
             [
              0.6666666666666666,
              "#ed7953"
             ],
             [
              0.7777777777777778,
              "#fb9f3a"
             ],
             [
              0.8888888888888888,
              "#fdca26"
             ],
             [
              1,
              "#f0f921"
             ]
            ],
            "type": "surface"
           }
          ],
          "table": [
           {
            "cells": {
             "fill": {
              "color": "#EBF0F8"
             },
             "line": {
              "color": "white"
             }
            },
            "header": {
             "fill": {
              "color": "#C8D4E3"
             },
             "line": {
              "color": "white"
             }
            },
            "type": "table"
           }
          ]
         },
         "layout": {
          "annotationdefaults": {
           "arrowcolor": "#2a3f5f",
           "arrowhead": 0,
           "arrowwidth": 1
          },
          "autotypenumbers": "strict",
          "coloraxis": {
           "colorbar": {
            "outlinewidth": 0,
            "ticks": ""
           }
          },
          "colorscale": {
           "diverging": [
            [
             0,
             "#8e0152"
            ],
            [
             0.1,
             "#c51b7d"
            ],
            [
             0.2,
             "#de77ae"
            ],
            [
             0.3,
             "#f1b6da"
            ],
            [
             0.4,
             "#fde0ef"
            ],
            [
             0.5,
             "#f7f7f7"
            ],
            [
             0.6,
             "#e6f5d0"
            ],
            [
             0.7,
             "#b8e186"
            ],
            [
             0.8,
             "#7fbc41"
            ],
            [
             0.9,
             "#4d9221"
            ],
            [
             1,
             "#276419"
            ]
           ],
           "sequential": [
            [
             0,
             "#0d0887"
            ],
            [
             0.1111111111111111,
             "#46039f"
            ],
            [
             0.2222222222222222,
             "#7201a8"
            ],
            [
             0.3333333333333333,
             "#9c179e"
            ],
            [
             0.4444444444444444,
             "#bd3786"
            ],
            [
             0.5555555555555556,
             "#d8576b"
            ],
            [
             0.6666666666666666,
             "#ed7953"
            ],
            [
             0.7777777777777778,
             "#fb9f3a"
            ],
            [
             0.8888888888888888,
             "#fdca26"
            ],
            [
             1,
             "#f0f921"
            ]
           ],
           "sequentialminus": [
            [
             0,
             "#0d0887"
            ],
            [
             0.1111111111111111,
             "#46039f"
            ],
            [
             0.2222222222222222,
             "#7201a8"
            ],
            [
             0.3333333333333333,
             "#9c179e"
            ],
            [
             0.4444444444444444,
             "#bd3786"
            ],
            [
             0.5555555555555556,
             "#d8576b"
            ],
            [
             0.6666666666666666,
             "#ed7953"
            ],
            [
             0.7777777777777778,
             "#fb9f3a"
            ],
            [
             0.8888888888888888,
             "#fdca26"
            ],
            [
             1,
             "#f0f921"
            ]
           ]
          },
          "colorway": [
           "#636efa",
           "#EF553B",
           "#00cc96",
           "#ab63fa",
           "#FFA15A",
           "#19d3f3",
           "#FF6692",
           "#B6E880",
           "#FF97FF",
           "#FECB52"
          ],
          "font": {
           "color": "#2a3f5f"
          },
          "geo": {
           "bgcolor": "white",
           "lakecolor": "white",
           "landcolor": "#E5ECF6",
           "showlakes": true,
           "showland": true,
           "subunitcolor": "white"
          },
          "hoverlabel": {
           "align": "left"
          },
          "hovermode": "closest",
          "mapbox": {
           "style": "light"
          },
          "paper_bgcolor": "white",
          "plot_bgcolor": "#E5ECF6",
          "polar": {
           "angularaxis": {
            "gridcolor": "white",
            "linecolor": "white",
            "ticks": ""
           },
           "bgcolor": "#E5ECF6",
           "radialaxis": {
            "gridcolor": "white",
            "linecolor": "white",
            "ticks": ""
           }
          },
          "scene": {
           "xaxis": {
            "backgroundcolor": "#E5ECF6",
            "gridcolor": "white",
            "gridwidth": 2,
            "linecolor": "white",
            "showbackground": true,
            "ticks": "",
            "zerolinecolor": "white"
           },
           "yaxis": {
            "backgroundcolor": "#E5ECF6",
            "gridcolor": "white",
            "gridwidth": 2,
            "linecolor": "white",
            "showbackground": true,
            "ticks": "",
            "zerolinecolor": "white"
           },
           "zaxis": {
            "backgroundcolor": "#E5ECF6",
            "gridcolor": "white",
            "gridwidth": 2,
            "linecolor": "white",
            "showbackground": true,
            "ticks": "",
            "zerolinecolor": "white"
           }
          },
          "shapedefaults": {
           "line": {
            "color": "#2a3f5f"
           }
          },
          "ternary": {
           "aaxis": {
            "gridcolor": "white",
            "linecolor": "white",
            "ticks": ""
           },
           "baxis": {
            "gridcolor": "white",
            "linecolor": "white",
            "ticks": ""
           },
           "bgcolor": "#E5ECF6",
           "caxis": {
            "gridcolor": "white",
            "linecolor": "white",
            "ticks": ""
           }
          },
          "title": {
           "x": 0.05
          },
          "xaxis": {
           "automargin": true,
           "gridcolor": "white",
           "linecolor": "white",
           "ticks": "",
           "title": {
            "standoff": 15
           },
           "zerolinecolor": "white",
           "zerolinewidth": 2
          },
          "yaxis": {
           "automargin": true,
           "gridcolor": "white",
           "linecolor": "white",
           "ticks": "",
           "title": {
            "standoff": 15
           },
           "zerolinecolor": "white",
           "zerolinewidth": 2
          }
         }
        }
       }
      },
      "text/html": [
       "<div>                            <div id=\"2d4abc45-0922-4859-8b63-d6aa72c74f2d\" class=\"plotly-graph-div\" style=\"height:525px; width:100%;\"></div>            <script type=\"text/javascript\">                require([\"plotly\"], function(Plotly) {                    window.PLOTLYENV=window.PLOTLYENV || {};                                    if (document.getElementById(\"2d4abc45-0922-4859-8b63-d6aa72c74f2d\")) {                    Plotly.newPlot(                        \"2d4abc45-0922-4859-8b63-d6aa72c74f2d\",                        [{\"error_y\":{\"array\":[0.05910750978178858,0.10198830974272988,0.1307702242191202,0.22122612417714482,0.20604195107061296,0.1131377999619706,0.14281023193653541,0.13607319220602387,0.13671118117800818,0.14081898684480232,0.1377318241572777,0.17674412296809794],\"arrayminus\":[0.12089249021821136,0.19801169025727017,0.23922977578087978,0.33877387582285523,0.3339580489293871,0.20686220003802946,0.2571897680634646,0.24392680779397613,0.24328881882199183,0.2491810131551977,0.2522681758427223,0.30325587703190204],\"color\":\"grey\",\"symmetric\":false,\"type\":\"data\"},\"mode\":\"markers\",\"x\":[\"mfmri_st_corr\",\"mfmri_st_corr_denoised_csf_csfonly\",\"mfmri_st_corr_denoised_moco\",\"mfmri_st_corr_denoised_cc\",\"mfmri_st_corr_denoised_moco_cc\",\"mfmri_st_corr_denoised_pnm_cardonly\",\"mfmri_st_corr_denoised_pnm_responly\",\"mfmri_st_corr_denoised_pnm\",\"mfmri_st_corr_denoised_csf_pnm\",\"mfmri_st_corr_denoised_pnm_moco\",\"mfmri_st_corr_denoised_csf_pnm_moco\",\"mfmri_st_corr_denoised_csf_pnm_moco_cc\"],\"y\":[0.8908924902182114,0.8080116902572702,0.7592297757808798,0.5487738758228552,0.5839580489293871,0.7968622000380294,0.7371897680634646,0.7439268077939761,0.7432888188219918,0.7391810131551977,0.7322681758427223,0.653255877031902],\"type\":\"scatter\"}],                        {\"template\":{\"data\":{\"histogram2dcontour\":[{\"type\":\"histogram2dcontour\",\"colorbar\":{\"outlinewidth\":0,\"ticks\":\"\"},\"colorscale\":[[0.0,\"#0d0887\"],[0.1111111111111111,\"#46039f\"],[0.2222222222222222,\"#7201a8\"],[0.3333333333333333,\"#9c179e\"],[0.4444444444444444,\"#bd3786\"],[0.5555555555555556,\"#d8576b\"],[0.6666666666666666,\"#ed7953\"],[0.7777777777777778,\"#fb9f3a\"],[0.8888888888888888,\"#fdca26\"],[1.0,\"#f0f921\"]]}],\"choropleth\":[{\"type\":\"choropleth\",\"colorbar\":{\"outlinewidth\":0,\"ticks\":\"\"}}],\"histogram2d\":[{\"type\":\"histogram2d\",\"colorbar\":{\"outlinewidth\":0,\"ticks\":\"\"},\"colorscale\":[[0.0,\"#0d0887\"],[0.1111111111111111,\"#46039f\"],[0.2222222222222222,\"#7201a8\"],[0.3333333333333333,\"#9c179e\"],[0.4444444444444444,\"#bd3786\"],[0.5555555555555556,\"#d8576b\"],[0.6666666666666666,\"#ed7953\"],[0.7777777777777778,\"#fb9f3a\"],[0.8888888888888888,\"#fdca26\"],[1.0,\"#f0f921\"]]}],\"heatmap\":[{\"type\":\"heatmap\",\"colorbar\":{\"outlinewidth\":0,\"ticks\":\"\"},\"colorscale\":[[0.0,\"#0d0887\"],[0.1111111111111111,\"#46039f\"],[0.2222222222222222,\"#7201a8\"],[0.3333333333333333,\"#9c179e\"],[0.4444444444444444,\"#bd3786\"],[0.5555555555555556,\"#d8576b\"],[0.6666666666666666,\"#ed7953\"],[0.7777777777777778,\"#fb9f3a\"],[0.8888888888888888,\"#fdca26\"],[1.0,\"#f0f921\"]]}],\"heatmapgl\":[{\"type\":\"heatmapgl\",\"colorbar\":{\"outlinewidth\":0,\"ticks\":\"\"},\"colorscale\":[[0.0,\"#0d0887\"],[0.1111111111111111,\"#46039f\"],[0.2222222222222222,\"#7201a8\"],[0.3333333333333333,\"#9c179e\"],[0.4444444444444444,\"#bd3786\"],[0.5555555555555556,\"#d8576b\"],[0.6666666666666666,\"#ed7953\"],[0.7777777777777778,\"#fb9f3a\"],[0.8888888888888888,\"#fdca26\"],[1.0,\"#f0f921\"]]}],\"contourcarpet\":[{\"type\":\"contourcarpet\",\"colorbar\":{\"outlinewidth\":0,\"ticks\":\"\"}}],\"contour\":[{\"type\":\"contour\",\"colorbar\":{\"outlinewidth\":0,\"ticks\":\"\"},\"colorscale\":[[0.0,\"#0d0887\"],[0.1111111111111111,\"#46039f\"],[0.2222222222222222,\"#7201a8\"],[0.3333333333333333,\"#9c179e\"],[0.4444444444444444,\"#bd3786\"],[0.5555555555555556,\"#d8576b\"],[0.6666666666666666,\"#ed7953\"],[0.7777777777777778,\"#fb9f3a\"],[0.8888888888888888,\"#fdca26\"],[1.0,\"#f0f921\"]]}],\"surface\":[{\"type\":\"surface\",\"colorbar\":{\"outlinewidth\":0,\"ticks\":\"\"},\"colorscale\":[[0.0,\"#0d0887\"],[0.1111111111111111,\"#46039f\"],[0.2222222222222222,\"#7201a8\"],[0.3333333333333333,\"#9c179e\"],[0.4444444444444444,\"#bd3786\"],[0.5555555555555556,\"#d8576b\"],[0.6666666666666666,\"#ed7953\"],[0.7777777777777778,\"#fb9f3a\"],[0.8888888888888888,\"#fdca26\"],[1.0,\"#f0f921\"]]}],\"mesh3d\":[{\"type\":\"mesh3d\",\"colorbar\":{\"outlinewidth\":0,\"ticks\":\"\"}}],\"scatter\":[{\"fillpattern\":{\"fillmode\":\"overlay\",\"size\":10,\"solidity\":0.2},\"type\":\"scatter\"}],\"parcoords\":[{\"type\":\"parcoords\",\"line\":{\"colorbar\":{\"outlinewidth\":0,\"ticks\":\"\"}}}],\"scatterpolargl\":[{\"type\":\"scatterpolargl\",\"marker\":{\"colorbar\":{\"outlinewidth\":0,\"ticks\":\"\"}}}],\"bar\":[{\"error_x\":{\"color\":\"#2a3f5f\"},\"error_y\":{\"color\":\"#2a3f5f\"},\"marker\":{\"line\":{\"color\":\"#E5ECF6\",\"width\":0.5},\"pattern\":{\"fillmode\":\"overlay\",\"size\":10,\"solidity\":0.2}},\"type\":\"bar\"}],\"scattergeo\":[{\"type\":\"scattergeo\",\"marker\":{\"colorbar\":{\"outlinewidth\":0,\"ticks\":\"\"}}}],\"scatterpolar\":[{\"type\":\"scatterpolar\",\"marker\":{\"colorbar\":{\"outlinewidth\":0,\"ticks\":\"\"}}}],\"histogram\":[{\"marker\":{\"pattern\":{\"fillmode\":\"overlay\",\"size\":10,\"solidity\":0.2}},\"type\":\"histogram\"}],\"scattergl\":[{\"type\":\"scattergl\",\"marker\":{\"colorbar\":{\"outlinewidth\":0,\"ticks\":\"\"}}}],\"scatter3d\":[{\"type\":\"scatter3d\",\"line\":{\"colorbar\":{\"outlinewidth\":0,\"ticks\":\"\"}},\"marker\":{\"colorbar\":{\"outlinewidth\":0,\"ticks\":\"\"}}}],\"scattermapbox\":[{\"type\":\"scattermapbox\",\"marker\":{\"colorbar\":{\"outlinewidth\":0,\"ticks\":\"\"}}}],\"scatterternary\":[{\"type\":\"scatterternary\",\"marker\":{\"colorbar\":{\"outlinewidth\":0,\"ticks\":\"\"}}}],\"scattercarpet\":[{\"type\":\"scattercarpet\",\"marker\":{\"colorbar\":{\"outlinewidth\":0,\"ticks\":\"\"}}}],\"carpet\":[{\"aaxis\":{\"endlinecolor\":\"#2a3f5f\",\"gridcolor\":\"white\",\"linecolor\":\"white\",\"minorgridcolor\":\"white\",\"startlinecolor\":\"#2a3f5f\"},\"baxis\":{\"endlinecolor\":\"#2a3f5f\",\"gridcolor\":\"white\",\"linecolor\":\"white\",\"minorgridcolor\":\"white\",\"startlinecolor\":\"#2a3f5f\"},\"type\":\"carpet\"}],\"table\":[{\"cells\":{\"fill\":{\"color\":\"#EBF0F8\"},\"line\":{\"color\":\"white\"}},\"header\":{\"fill\":{\"color\":\"#C8D4E3\"},\"line\":{\"color\":\"white\"}},\"type\":\"table\"}],\"barpolar\":[{\"marker\":{\"line\":{\"color\":\"#E5ECF6\",\"width\":0.5},\"pattern\":{\"fillmode\":\"overlay\",\"size\":10,\"solidity\":0.2}},\"type\":\"barpolar\"}],\"pie\":[{\"automargin\":true,\"type\":\"pie\"}]},\"layout\":{\"autotypenumbers\":\"strict\",\"colorway\":[\"#636efa\",\"#EF553B\",\"#00cc96\",\"#ab63fa\",\"#FFA15A\",\"#19d3f3\",\"#FF6692\",\"#B6E880\",\"#FF97FF\",\"#FECB52\"],\"font\":{\"color\":\"#2a3f5f\"},\"hovermode\":\"closest\",\"hoverlabel\":{\"align\":\"left\"},\"paper_bgcolor\":\"white\",\"plot_bgcolor\":\"#E5ECF6\",\"polar\":{\"bgcolor\":\"#E5ECF6\",\"angularaxis\":{\"gridcolor\":\"white\",\"linecolor\":\"white\",\"ticks\":\"\"},\"radialaxis\":{\"gridcolor\":\"white\",\"linecolor\":\"white\",\"ticks\":\"\"}},\"ternary\":{\"bgcolor\":\"#E5ECF6\",\"aaxis\":{\"gridcolor\":\"white\",\"linecolor\":\"white\",\"ticks\":\"\"},\"baxis\":{\"gridcolor\":\"white\",\"linecolor\":\"white\",\"ticks\":\"\"},\"caxis\":{\"gridcolor\":\"white\",\"linecolor\":\"white\",\"ticks\":\"\"}},\"coloraxis\":{\"colorbar\":{\"outlinewidth\":0,\"ticks\":\"\"}},\"colorscale\":{\"sequential\":[[0.0,\"#0d0887\"],[0.1111111111111111,\"#46039f\"],[0.2222222222222222,\"#7201a8\"],[0.3333333333333333,\"#9c179e\"],[0.4444444444444444,\"#bd3786\"],[0.5555555555555556,\"#d8576b\"],[0.6666666666666666,\"#ed7953\"],[0.7777777777777778,\"#fb9f3a\"],[0.8888888888888888,\"#fdca26\"],[1.0,\"#f0f921\"]],\"sequentialminus\":[[0.0,\"#0d0887\"],[0.1111111111111111,\"#46039f\"],[0.2222222222222222,\"#7201a8\"],[0.3333333333333333,\"#9c179e\"],[0.4444444444444444,\"#bd3786\"],[0.5555555555555556,\"#d8576b\"],[0.6666666666666666,\"#ed7953\"],[0.7777777777777778,\"#fb9f3a\"],[0.8888888888888888,\"#fdca26\"],[1.0,\"#f0f921\"]],\"diverging\":[[0,\"#8e0152\"],[0.1,\"#c51b7d\"],[0.2,\"#de77ae\"],[0.3,\"#f1b6da\"],[0.4,\"#fde0ef\"],[0.5,\"#f7f7f7\"],[0.6,\"#e6f5d0\"],[0.7,\"#b8e186\"],[0.8,\"#7fbc41\"],[0.9,\"#4d9221\"],[1,\"#276419\"]]},\"xaxis\":{\"gridcolor\":\"white\",\"linecolor\":\"white\",\"ticks\":\"\",\"title\":{\"standoff\":15},\"zerolinecolor\":\"white\",\"automargin\":true,\"zerolinewidth\":2},\"yaxis\":{\"gridcolor\":\"white\",\"linecolor\":\"white\",\"ticks\":\"\",\"title\":{\"standoff\":15},\"zerolinecolor\":\"white\",\"automargin\":true,\"zerolinewidth\":2},\"scene\":{\"xaxis\":{\"backgroundcolor\":\"#E5ECF6\",\"gridcolor\":\"white\",\"linecolor\":\"white\",\"showbackground\":true,\"ticks\":\"\",\"zerolinecolor\":\"white\",\"gridwidth\":2},\"yaxis\":{\"backgroundcolor\":\"#E5ECF6\",\"gridcolor\":\"white\",\"linecolor\":\"white\",\"showbackground\":true,\"ticks\":\"\",\"zerolinecolor\":\"white\",\"gridwidth\":2},\"zaxis\":{\"backgroundcolor\":\"#E5ECF6\",\"gridcolor\":\"white\",\"linecolor\":\"white\",\"showbackground\":true,\"ticks\":\"\",\"zerolinecolor\":\"white\",\"gridwidth\":2}},\"shapedefaults\":{\"line\":{\"color\":\"#2a3f5f\"}},\"annotationdefaults\":{\"arrowcolor\":\"#2a3f5f\",\"arrowhead\":0,\"arrowwidth\":1},\"geo\":{\"bgcolor\":\"white\",\"landcolor\":\"#E5ECF6\",\"subunitcolor\":\"white\",\"showland\":true,\"showlakes\":true,\"lakecolor\":\"white\"},\"title\":{\"x\":0.05},\"mapbox\":{\"style\":\"light\"}}}},                        {\"responsive\": true}                    ).then(function(){\n",
       "                            \n",
       "var gd = document.getElementById('2d4abc45-0922-4859-8b63-d6aa72c74f2d');\n",
       "var x = new MutationObserver(function (mutations, observer) {{\n",
       "        var display = window.getComputedStyle(gd).display;\n",
       "        if (!display || display === 'none') {{\n",
       "            console.log([gd, 'removed!']);\n",
       "            Plotly.purge(gd);\n",
       "            observer.disconnect();\n",
       "        }}\n",
       "}});\n",
       "\n",
       "// Listen for the removal of the full notebook cells\n",
       "var notebookContainer = gd.closest('#notebook-container');\n",
       "if (notebookContainer) {{\n",
       "    x.observe(notebookContainer, {childList: true});\n",
       "}}\n",
       "\n",
       "// Listen for the clearing of the current output cell\n",
       "var outputEl = gd.closest('.output');\n",
       "if (outputEl) {{\n",
       "    x.observe(outputEl, {childList: true});\n",
       "}}\n",
       "\n",
       "                        })                };                });            </script>        </div>"
      ]
     },
     "metadata": {},
     "output_type": "display_data"
    }
   ],
   "source": [
    "plot_ICC(ICC_Bw_vals,ICC_Bw_err,tempfilt,'Bw')"
   ]
  },
  {
   "cell_type": "code",
   "execution_count": 133,
   "id": "7dd9e338",
   "metadata": {},
   "outputs": [
    {
     "data": {
      "application/vnd.plotly.v1+json": {
       "config": {
        "plotlyServerURL": "https://plot.ly"
       },
       "data": [
        {
         "error_y": {
          "array": [
           0.08430682914782606,
           0.19718973213363034,
           0.22827511891599517,
           0.3500345397281328,
           0.36487204204815715,
           0.18727559348670064,
           0.21095326088236266,
           0.25063893668772924,
           0.25760706758982865,
           0.2685379007206114,
           0.27572048809619104,
           0.3558565704530122
          ],
          "arrayminus": [
           0.2356931708521739,
           0.32281026786636974,
           0.34172488108400484,
           0.2599654602718672,
           0.2051279579518428,
           0.3027244065132993,
           0.3390467391176374,
           0.35936106331227075,
           0.36239293241017134,
           0.36146209927938855,
           0.3642795119038089,
           0.23414342954698777
          ],
          "color": "grey",
          "symmetric": false,
          "type": "data"
         },
         "mode": "markers",
         "type": "scatter",
         "x": [
          "mfmri_st_corr",
          "mfmri_st_corr_denoised_csf_csfonly",
          "mfmri_st_corr_denoised_moco",
          "mfmri_st_corr_denoised_cc",
          "mfmri_st_corr_denoised_moco_cc",
          "mfmri_st_corr_denoised_pnm_cardonly",
          "mfmri_st_corr_denoised_pnm_responly",
          "mfmri_st_corr_denoised_pnm",
          "mfmri_st_corr_denoised_csf_pnm",
          "mfmri_st_corr_denoised_pnm_moco",
          "mfmri_st_corr_denoised_csf_pnm_moco",
          "mfmri_st_corr_denoised_csf_pnm_moco_cc"
         ],
         "y": [
          0.8556931708521739,
          0.6128102678663697,
          0.5417248810840049,
          0.15996546027186717,
          0.10512795795184281,
          0.6427244065132993,
          0.5890467391176374,
          0.48936106331227075,
          0.47239293241017133,
          0.43146209927938856,
          0.4142795119038089,
          0.13414342954698777
         ]
        }
       ],
       "layout": {
        "template": {
         "data": {
          "bar": [
           {
            "error_x": {
             "color": "#2a3f5f"
            },
            "error_y": {
             "color": "#2a3f5f"
            },
            "marker": {
             "line": {
              "color": "#E5ECF6",
              "width": 0.5
             },
             "pattern": {
              "fillmode": "overlay",
              "size": 10,
              "solidity": 0.2
             }
            },
            "type": "bar"
           }
          ],
          "barpolar": [
           {
            "marker": {
             "line": {
              "color": "#E5ECF6",
              "width": 0.5
             },
             "pattern": {
              "fillmode": "overlay",
              "size": 10,
              "solidity": 0.2
             }
            },
            "type": "barpolar"
           }
          ],
          "carpet": [
           {
            "aaxis": {
             "endlinecolor": "#2a3f5f",
             "gridcolor": "white",
             "linecolor": "white",
             "minorgridcolor": "white",
             "startlinecolor": "#2a3f5f"
            },
            "baxis": {
             "endlinecolor": "#2a3f5f",
             "gridcolor": "white",
             "linecolor": "white",
             "minorgridcolor": "white",
             "startlinecolor": "#2a3f5f"
            },
            "type": "carpet"
           }
          ],
          "choropleth": [
           {
            "colorbar": {
             "outlinewidth": 0,
             "ticks": ""
            },
            "type": "choropleth"
           }
          ],
          "contour": [
           {
            "colorbar": {
             "outlinewidth": 0,
             "ticks": ""
            },
            "colorscale": [
             [
              0,
              "#0d0887"
             ],
             [
              0.1111111111111111,
              "#46039f"
             ],
             [
              0.2222222222222222,
              "#7201a8"
             ],
             [
              0.3333333333333333,
              "#9c179e"
             ],
             [
              0.4444444444444444,
              "#bd3786"
             ],
             [
              0.5555555555555556,
              "#d8576b"
             ],
             [
              0.6666666666666666,
              "#ed7953"
             ],
             [
              0.7777777777777778,
              "#fb9f3a"
             ],
             [
              0.8888888888888888,
              "#fdca26"
             ],
             [
              1,
              "#f0f921"
             ]
            ],
            "type": "contour"
           }
          ],
          "contourcarpet": [
           {
            "colorbar": {
             "outlinewidth": 0,
             "ticks": ""
            },
            "type": "contourcarpet"
           }
          ],
          "heatmap": [
           {
            "colorbar": {
             "outlinewidth": 0,
             "ticks": ""
            },
            "colorscale": [
             [
              0,
              "#0d0887"
             ],
             [
              0.1111111111111111,
              "#46039f"
             ],
             [
              0.2222222222222222,
              "#7201a8"
             ],
             [
              0.3333333333333333,
              "#9c179e"
             ],
             [
              0.4444444444444444,
              "#bd3786"
             ],
             [
              0.5555555555555556,
              "#d8576b"
             ],
             [
              0.6666666666666666,
              "#ed7953"
             ],
             [
              0.7777777777777778,
              "#fb9f3a"
             ],
             [
              0.8888888888888888,
              "#fdca26"
             ],
             [
              1,
              "#f0f921"
             ]
            ],
            "type": "heatmap"
           }
          ],
          "heatmapgl": [
           {
            "colorbar": {
             "outlinewidth": 0,
             "ticks": ""
            },
            "colorscale": [
             [
              0,
              "#0d0887"
             ],
             [
              0.1111111111111111,
              "#46039f"
             ],
             [
              0.2222222222222222,
              "#7201a8"
             ],
             [
              0.3333333333333333,
              "#9c179e"
             ],
             [
              0.4444444444444444,
              "#bd3786"
             ],
             [
              0.5555555555555556,
              "#d8576b"
             ],
             [
              0.6666666666666666,
              "#ed7953"
             ],
             [
              0.7777777777777778,
              "#fb9f3a"
             ],
             [
              0.8888888888888888,
              "#fdca26"
             ],
             [
              1,
              "#f0f921"
             ]
            ],
            "type": "heatmapgl"
           }
          ],
          "histogram": [
           {
            "marker": {
             "pattern": {
              "fillmode": "overlay",
              "size": 10,
              "solidity": 0.2
             }
            },
            "type": "histogram"
           }
          ],
          "histogram2d": [
           {
            "colorbar": {
             "outlinewidth": 0,
             "ticks": ""
            },
            "colorscale": [
             [
              0,
              "#0d0887"
             ],
             [
              0.1111111111111111,
              "#46039f"
             ],
             [
              0.2222222222222222,
              "#7201a8"
             ],
             [
              0.3333333333333333,
              "#9c179e"
             ],
             [
              0.4444444444444444,
              "#bd3786"
             ],
             [
              0.5555555555555556,
              "#d8576b"
             ],
             [
              0.6666666666666666,
              "#ed7953"
             ],
             [
              0.7777777777777778,
              "#fb9f3a"
             ],
             [
              0.8888888888888888,
              "#fdca26"
             ],
             [
              1,
              "#f0f921"
             ]
            ],
            "type": "histogram2d"
           }
          ],
          "histogram2dcontour": [
           {
            "colorbar": {
             "outlinewidth": 0,
             "ticks": ""
            },
            "colorscale": [
             [
              0,
              "#0d0887"
             ],
             [
              0.1111111111111111,
              "#46039f"
             ],
             [
              0.2222222222222222,
              "#7201a8"
             ],
             [
              0.3333333333333333,
              "#9c179e"
             ],
             [
              0.4444444444444444,
              "#bd3786"
             ],
             [
              0.5555555555555556,
              "#d8576b"
             ],
             [
              0.6666666666666666,
              "#ed7953"
             ],
             [
              0.7777777777777778,
              "#fb9f3a"
             ],
             [
              0.8888888888888888,
              "#fdca26"
             ],
             [
              1,
              "#f0f921"
             ]
            ],
            "type": "histogram2dcontour"
           }
          ],
          "mesh3d": [
           {
            "colorbar": {
             "outlinewidth": 0,
             "ticks": ""
            },
            "type": "mesh3d"
           }
          ],
          "parcoords": [
           {
            "line": {
             "colorbar": {
              "outlinewidth": 0,
              "ticks": ""
             }
            },
            "type": "parcoords"
           }
          ],
          "pie": [
           {
            "automargin": true,
            "type": "pie"
           }
          ],
          "scatter": [
           {
            "fillpattern": {
             "fillmode": "overlay",
             "size": 10,
             "solidity": 0.2
            },
            "type": "scatter"
           }
          ],
          "scatter3d": [
           {
            "line": {
             "colorbar": {
              "outlinewidth": 0,
              "ticks": ""
             }
            },
            "marker": {
             "colorbar": {
              "outlinewidth": 0,
              "ticks": ""
             }
            },
            "type": "scatter3d"
           }
          ],
          "scattercarpet": [
           {
            "marker": {
             "colorbar": {
              "outlinewidth": 0,
              "ticks": ""
             }
            },
            "type": "scattercarpet"
           }
          ],
          "scattergeo": [
           {
            "marker": {
             "colorbar": {
              "outlinewidth": 0,
              "ticks": ""
             }
            },
            "type": "scattergeo"
           }
          ],
          "scattergl": [
           {
            "marker": {
             "colorbar": {
              "outlinewidth": 0,
              "ticks": ""
             }
            },
            "type": "scattergl"
           }
          ],
          "scattermapbox": [
           {
            "marker": {
             "colorbar": {
              "outlinewidth": 0,
              "ticks": ""
             }
            },
            "type": "scattermapbox"
           }
          ],
          "scatterpolar": [
           {
            "marker": {
             "colorbar": {
              "outlinewidth": 0,
              "ticks": ""
             }
            },
            "type": "scatterpolar"
           }
          ],
          "scatterpolargl": [
           {
            "marker": {
             "colorbar": {
              "outlinewidth": 0,
              "ticks": ""
             }
            },
            "type": "scatterpolargl"
           }
          ],
          "scatterternary": [
           {
            "marker": {
             "colorbar": {
              "outlinewidth": 0,
              "ticks": ""
             }
            },
            "type": "scatterternary"
           }
          ],
          "surface": [
           {
            "colorbar": {
             "outlinewidth": 0,
             "ticks": ""
            },
            "colorscale": [
             [
              0,
              "#0d0887"
             ],
             [
              0.1111111111111111,
              "#46039f"
             ],
             [
              0.2222222222222222,
              "#7201a8"
             ],
             [
              0.3333333333333333,
              "#9c179e"
             ],
             [
              0.4444444444444444,
              "#bd3786"
             ],
             [
              0.5555555555555556,
              "#d8576b"
             ],
             [
              0.6666666666666666,
              "#ed7953"
             ],
             [
              0.7777777777777778,
              "#fb9f3a"
             ],
             [
              0.8888888888888888,
              "#fdca26"
             ],
             [
              1,
              "#f0f921"
             ]
            ],
            "type": "surface"
           }
          ],
          "table": [
           {
            "cells": {
             "fill": {
              "color": "#EBF0F8"
             },
             "line": {
              "color": "white"
             }
            },
            "header": {
             "fill": {
              "color": "#C8D4E3"
             },
             "line": {
              "color": "white"
             }
            },
            "type": "table"
           }
          ]
         },
         "layout": {
          "annotationdefaults": {
           "arrowcolor": "#2a3f5f",
           "arrowhead": 0,
           "arrowwidth": 1
          },
          "autotypenumbers": "strict",
          "coloraxis": {
           "colorbar": {
            "outlinewidth": 0,
            "ticks": ""
           }
          },
          "colorscale": {
           "diverging": [
            [
             0,
             "#8e0152"
            ],
            [
             0.1,
             "#c51b7d"
            ],
            [
             0.2,
             "#de77ae"
            ],
            [
             0.3,
             "#f1b6da"
            ],
            [
             0.4,
             "#fde0ef"
            ],
            [
             0.5,
             "#f7f7f7"
            ],
            [
             0.6,
             "#e6f5d0"
            ],
            [
             0.7,
             "#b8e186"
            ],
            [
             0.8,
             "#7fbc41"
            ],
            [
             0.9,
             "#4d9221"
            ],
            [
             1,
             "#276419"
            ]
           ],
           "sequential": [
            [
             0,
             "#0d0887"
            ],
            [
             0.1111111111111111,
             "#46039f"
            ],
            [
             0.2222222222222222,
             "#7201a8"
            ],
            [
             0.3333333333333333,
             "#9c179e"
            ],
            [
             0.4444444444444444,
             "#bd3786"
            ],
            [
             0.5555555555555556,
             "#d8576b"
            ],
            [
             0.6666666666666666,
             "#ed7953"
            ],
            [
             0.7777777777777778,
             "#fb9f3a"
            ],
            [
             0.8888888888888888,
             "#fdca26"
            ],
            [
             1,
             "#f0f921"
            ]
           ],
           "sequentialminus": [
            [
             0,
             "#0d0887"
            ],
            [
             0.1111111111111111,
             "#46039f"
            ],
            [
             0.2222222222222222,
             "#7201a8"
            ],
            [
             0.3333333333333333,
             "#9c179e"
            ],
            [
             0.4444444444444444,
             "#bd3786"
            ],
            [
             0.5555555555555556,
             "#d8576b"
            ],
            [
             0.6666666666666666,
             "#ed7953"
            ],
            [
             0.7777777777777778,
             "#fb9f3a"
            ],
            [
             0.8888888888888888,
             "#fdca26"
            ],
            [
             1,
             "#f0f921"
            ]
           ]
          },
          "colorway": [
           "#636efa",
           "#EF553B",
           "#00cc96",
           "#ab63fa",
           "#FFA15A",
           "#19d3f3",
           "#FF6692",
           "#B6E880",
           "#FF97FF",
           "#FECB52"
          ],
          "font": {
           "color": "#2a3f5f"
          },
          "geo": {
           "bgcolor": "white",
           "lakecolor": "white",
           "landcolor": "#E5ECF6",
           "showlakes": true,
           "showland": true,
           "subunitcolor": "white"
          },
          "hoverlabel": {
           "align": "left"
          },
          "hovermode": "closest",
          "mapbox": {
           "style": "light"
          },
          "paper_bgcolor": "white",
          "plot_bgcolor": "#E5ECF6",
          "polar": {
           "angularaxis": {
            "gridcolor": "white",
            "linecolor": "white",
            "ticks": ""
           },
           "bgcolor": "#E5ECF6",
           "radialaxis": {
            "gridcolor": "white",
            "linecolor": "white",
            "ticks": ""
           }
          },
          "scene": {
           "xaxis": {
            "backgroundcolor": "#E5ECF6",
            "gridcolor": "white",
            "gridwidth": 2,
            "linecolor": "white",
            "showbackground": true,
            "ticks": "",
            "zerolinecolor": "white"
           },
           "yaxis": {
            "backgroundcolor": "#E5ECF6",
            "gridcolor": "white",
            "gridwidth": 2,
            "linecolor": "white",
            "showbackground": true,
            "ticks": "",
            "zerolinecolor": "white"
           },
           "zaxis": {
            "backgroundcolor": "#E5ECF6",
            "gridcolor": "white",
            "gridwidth": 2,
            "linecolor": "white",
            "showbackground": true,
            "ticks": "",
            "zerolinecolor": "white"
           }
          },
          "shapedefaults": {
           "line": {
            "color": "#2a3f5f"
           }
          },
          "ternary": {
           "aaxis": {
            "gridcolor": "white",
            "linecolor": "white",
            "ticks": ""
           },
           "baxis": {
            "gridcolor": "white",
            "linecolor": "white",
            "ticks": ""
           },
           "bgcolor": "#E5ECF6",
           "caxis": {
            "gridcolor": "white",
            "linecolor": "white",
            "ticks": ""
           }
          },
          "title": {
           "x": 0.05
          },
          "xaxis": {
           "automargin": true,
           "gridcolor": "white",
           "linecolor": "white",
           "ticks": "",
           "title": {
            "standoff": 15
           },
           "zerolinecolor": "white",
           "zerolinewidth": 2
          },
          "yaxis": {
           "automargin": true,
           "gridcolor": "white",
           "linecolor": "white",
           "ticks": "",
           "title": {
            "standoff": 15
           },
           "zerolinecolor": "white",
           "zerolinewidth": 2
          }
         }
        }
       }
      },
      "text/html": [
       "<div>                            <div id=\"e76fb088-f13a-46e6-93b5-fe35a8df8ee6\" class=\"plotly-graph-div\" style=\"height:525px; width:100%;\"></div>            <script type=\"text/javascript\">                require([\"plotly\"], function(Plotly) {                    window.PLOTLYENV=window.PLOTLYENV || {};                                    if (document.getElementById(\"e76fb088-f13a-46e6-93b5-fe35a8df8ee6\")) {                    Plotly.newPlot(                        \"e76fb088-f13a-46e6-93b5-fe35a8df8ee6\",                        [{\"error_y\":{\"array\":[0.08430682914782606,0.19718973213363034,0.22827511891599517,0.3500345397281328,0.36487204204815715,0.18727559348670064,0.21095326088236266,0.25063893668772924,0.25760706758982865,0.2685379007206114,0.27572048809619104,0.3558565704530122],\"arrayminus\":[0.2356931708521739,0.32281026786636974,0.34172488108400484,0.2599654602718672,0.2051279579518428,0.3027244065132993,0.3390467391176374,0.35936106331227075,0.36239293241017134,0.36146209927938855,0.3642795119038089,0.23414342954698777],\"color\":\"grey\",\"symmetric\":false,\"type\":\"data\"},\"mode\":\"markers\",\"x\":[\"mfmri_st_corr\",\"mfmri_st_corr_denoised_csf_csfonly\",\"mfmri_st_corr_denoised_moco\",\"mfmri_st_corr_denoised_cc\",\"mfmri_st_corr_denoised_moco_cc\",\"mfmri_st_corr_denoised_pnm_cardonly\",\"mfmri_st_corr_denoised_pnm_responly\",\"mfmri_st_corr_denoised_pnm\",\"mfmri_st_corr_denoised_csf_pnm\",\"mfmri_st_corr_denoised_pnm_moco\",\"mfmri_st_corr_denoised_csf_pnm_moco\",\"mfmri_st_corr_denoised_csf_pnm_moco_cc\"],\"y\":[0.8556931708521739,0.6128102678663697,0.5417248810840049,0.15996546027186717,0.10512795795184281,0.6427244065132993,0.5890467391176374,0.48936106331227075,0.47239293241017133,0.43146209927938856,0.4142795119038089,0.13414342954698777],\"type\":\"scatter\"}],                        {\"template\":{\"data\":{\"histogram2dcontour\":[{\"type\":\"histogram2dcontour\",\"colorbar\":{\"outlinewidth\":0,\"ticks\":\"\"},\"colorscale\":[[0.0,\"#0d0887\"],[0.1111111111111111,\"#46039f\"],[0.2222222222222222,\"#7201a8\"],[0.3333333333333333,\"#9c179e\"],[0.4444444444444444,\"#bd3786\"],[0.5555555555555556,\"#d8576b\"],[0.6666666666666666,\"#ed7953\"],[0.7777777777777778,\"#fb9f3a\"],[0.8888888888888888,\"#fdca26\"],[1.0,\"#f0f921\"]]}],\"choropleth\":[{\"type\":\"choropleth\",\"colorbar\":{\"outlinewidth\":0,\"ticks\":\"\"}}],\"histogram2d\":[{\"type\":\"histogram2d\",\"colorbar\":{\"outlinewidth\":0,\"ticks\":\"\"},\"colorscale\":[[0.0,\"#0d0887\"],[0.1111111111111111,\"#46039f\"],[0.2222222222222222,\"#7201a8\"],[0.3333333333333333,\"#9c179e\"],[0.4444444444444444,\"#bd3786\"],[0.5555555555555556,\"#d8576b\"],[0.6666666666666666,\"#ed7953\"],[0.7777777777777778,\"#fb9f3a\"],[0.8888888888888888,\"#fdca26\"],[1.0,\"#f0f921\"]]}],\"heatmap\":[{\"type\":\"heatmap\",\"colorbar\":{\"outlinewidth\":0,\"ticks\":\"\"},\"colorscale\":[[0.0,\"#0d0887\"],[0.1111111111111111,\"#46039f\"],[0.2222222222222222,\"#7201a8\"],[0.3333333333333333,\"#9c179e\"],[0.4444444444444444,\"#bd3786\"],[0.5555555555555556,\"#d8576b\"],[0.6666666666666666,\"#ed7953\"],[0.7777777777777778,\"#fb9f3a\"],[0.8888888888888888,\"#fdca26\"],[1.0,\"#f0f921\"]]}],\"heatmapgl\":[{\"type\":\"heatmapgl\",\"colorbar\":{\"outlinewidth\":0,\"ticks\":\"\"},\"colorscale\":[[0.0,\"#0d0887\"],[0.1111111111111111,\"#46039f\"],[0.2222222222222222,\"#7201a8\"],[0.3333333333333333,\"#9c179e\"],[0.4444444444444444,\"#bd3786\"],[0.5555555555555556,\"#d8576b\"],[0.6666666666666666,\"#ed7953\"],[0.7777777777777778,\"#fb9f3a\"],[0.8888888888888888,\"#fdca26\"],[1.0,\"#f0f921\"]]}],\"contourcarpet\":[{\"type\":\"contourcarpet\",\"colorbar\":{\"outlinewidth\":0,\"ticks\":\"\"}}],\"contour\":[{\"type\":\"contour\",\"colorbar\":{\"outlinewidth\":0,\"ticks\":\"\"},\"colorscale\":[[0.0,\"#0d0887\"],[0.1111111111111111,\"#46039f\"],[0.2222222222222222,\"#7201a8\"],[0.3333333333333333,\"#9c179e\"],[0.4444444444444444,\"#bd3786\"],[0.5555555555555556,\"#d8576b\"],[0.6666666666666666,\"#ed7953\"],[0.7777777777777778,\"#fb9f3a\"],[0.8888888888888888,\"#fdca26\"],[1.0,\"#f0f921\"]]}],\"surface\":[{\"type\":\"surface\",\"colorbar\":{\"outlinewidth\":0,\"ticks\":\"\"},\"colorscale\":[[0.0,\"#0d0887\"],[0.1111111111111111,\"#46039f\"],[0.2222222222222222,\"#7201a8\"],[0.3333333333333333,\"#9c179e\"],[0.4444444444444444,\"#bd3786\"],[0.5555555555555556,\"#d8576b\"],[0.6666666666666666,\"#ed7953\"],[0.7777777777777778,\"#fb9f3a\"],[0.8888888888888888,\"#fdca26\"],[1.0,\"#f0f921\"]]}],\"mesh3d\":[{\"type\":\"mesh3d\",\"colorbar\":{\"outlinewidth\":0,\"ticks\":\"\"}}],\"scatter\":[{\"fillpattern\":{\"fillmode\":\"overlay\",\"size\":10,\"solidity\":0.2},\"type\":\"scatter\"}],\"parcoords\":[{\"type\":\"parcoords\",\"line\":{\"colorbar\":{\"outlinewidth\":0,\"ticks\":\"\"}}}],\"scatterpolargl\":[{\"type\":\"scatterpolargl\",\"marker\":{\"colorbar\":{\"outlinewidth\":0,\"ticks\":\"\"}}}],\"bar\":[{\"error_x\":{\"color\":\"#2a3f5f\"},\"error_y\":{\"color\":\"#2a3f5f\"},\"marker\":{\"line\":{\"color\":\"#E5ECF6\",\"width\":0.5},\"pattern\":{\"fillmode\":\"overlay\",\"size\":10,\"solidity\":0.2}},\"type\":\"bar\"}],\"scattergeo\":[{\"type\":\"scattergeo\",\"marker\":{\"colorbar\":{\"outlinewidth\":0,\"ticks\":\"\"}}}],\"scatterpolar\":[{\"type\":\"scatterpolar\",\"marker\":{\"colorbar\":{\"outlinewidth\":0,\"ticks\":\"\"}}}],\"histogram\":[{\"marker\":{\"pattern\":{\"fillmode\":\"overlay\",\"size\":10,\"solidity\":0.2}},\"type\":\"histogram\"}],\"scattergl\":[{\"type\":\"scattergl\",\"marker\":{\"colorbar\":{\"outlinewidth\":0,\"ticks\":\"\"}}}],\"scatter3d\":[{\"type\":\"scatter3d\",\"line\":{\"colorbar\":{\"outlinewidth\":0,\"ticks\":\"\"}},\"marker\":{\"colorbar\":{\"outlinewidth\":0,\"ticks\":\"\"}}}],\"scattermapbox\":[{\"type\":\"scattermapbox\",\"marker\":{\"colorbar\":{\"outlinewidth\":0,\"ticks\":\"\"}}}],\"scatterternary\":[{\"type\":\"scatterternary\",\"marker\":{\"colorbar\":{\"outlinewidth\":0,\"ticks\":\"\"}}}],\"scattercarpet\":[{\"type\":\"scattercarpet\",\"marker\":{\"colorbar\":{\"outlinewidth\":0,\"ticks\":\"\"}}}],\"carpet\":[{\"aaxis\":{\"endlinecolor\":\"#2a3f5f\",\"gridcolor\":\"white\",\"linecolor\":\"white\",\"minorgridcolor\":\"white\",\"startlinecolor\":\"#2a3f5f\"},\"baxis\":{\"endlinecolor\":\"#2a3f5f\",\"gridcolor\":\"white\",\"linecolor\":\"white\",\"minorgridcolor\":\"white\",\"startlinecolor\":\"#2a3f5f\"},\"type\":\"carpet\"}],\"table\":[{\"cells\":{\"fill\":{\"color\":\"#EBF0F8\"},\"line\":{\"color\":\"white\"}},\"header\":{\"fill\":{\"color\":\"#C8D4E3\"},\"line\":{\"color\":\"white\"}},\"type\":\"table\"}],\"barpolar\":[{\"marker\":{\"line\":{\"color\":\"#E5ECF6\",\"width\":0.5},\"pattern\":{\"fillmode\":\"overlay\",\"size\":10,\"solidity\":0.2}},\"type\":\"barpolar\"}],\"pie\":[{\"automargin\":true,\"type\":\"pie\"}]},\"layout\":{\"autotypenumbers\":\"strict\",\"colorway\":[\"#636efa\",\"#EF553B\",\"#00cc96\",\"#ab63fa\",\"#FFA15A\",\"#19d3f3\",\"#FF6692\",\"#B6E880\",\"#FF97FF\",\"#FECB52\"],\"font\":{\"color\":\"#2a3f5f\"},\"hovermode\":\"closest\",\"hoverlabel\":{\"align\":\"left\"},\"paper_bgcolor\":\"white\",\"plot_bgcolor\":\"#E5ECF6\",\"polar\":{\"bgcolor\":\"#E5ECF6\",\"angularaxis\":{\"gridcolor\":\"white\",\"linecolor\":\"white\",\"ticks\":\"\"},\"radialaxis\":{\"gridcolor\":\"white\",\"linecolor\":\"white\",\"ticks\":\"\"}},\"ternary\":{\"bgcolor\":\"#E5ECF6\",\"aaxis\":{\"gridcolor\":\"white\",\"linecolor\":\"white\",\"ticks\":\"\"},\"baxis\":{\"gridcolor\":\"white\",\"linecolor\":\"white\",\"ticks\":\"\"},\"caxis\":{\"gridcolor\":\"white\",\"linecolor\":\"white\",\"ticks\":\"\"}},\"coloraxis\":{\"colorbar\":{\"outlinewidth\":0,\"ticks\":\"\"}},\"colorscale\":{\"sequential\":[[0.0,\"#0d0887\"],[0.1111111111111111,\"#46039f\"],[0.2222222222222222,\"#7201a8\"],[0.3333333333333333,\"#9c179e\"],[0.4444444444444444,\"#bd3786\"],[0.5555555555555556,\"#d8576b\"],[0.6666666666666666,\"#ed7953\"],[0.7777777777777778,\"#fb9f3a\"],[0.8888888888888888,\"#fdca26\"],[1.0,\"#f0f921\"]],\"sequentialminus\":[[0.0,\"#0d0887\"],[0.1111111111111111,\"#46039f\"],[0.2222222222222222,\"#7201a8\"],[0.3333333333333333,\"#9c179e\"],[0.4444444444444444,\"#bd3786\"],[0.5555555555555556,\"#d8576b\"],[0.6666666666666666,\"#ed7953\"],[0.7777777777777778,\"#fb9f3a\"],[0.8888888888888888,\"#fdca26\"],[1.0,\"#f0f921\"]],\"diverging\":[[0,\"#8e0152\"],[0.1,\"#c51b7d\"],[0.2,\"#de77ae\"],[0.3,\"#f1b6da\"],[0.4,\"#fde0ef\"],[0.5,\"#f7f7f7\"],[0.6,\"#e6f5d0\"],[0.7,\"#b8e186\"],[0.8,\"#7fbc41\"],[0.9,\"#4d9221\"],[1,\"#276419\"]]},\"xaxis\":{\"gridcolor\":\"white\",\"linecolor\":\"white\",\"ticks\":\"\",\"title\":{\"standoff\":15},\"zerolinecolor\":\"white\",\"automargin\":true,\"zerolinewidth\":2},\"yaxis\":{\"gridcolor\":\"white\",\"linecolor\":\"white\",\"ticks\":\"\",\"title\":{\"standoff\":15},\"zerolinecolor\":\"white\",\"automargin\":true,\"zerolinewidth\":2},\"scene\":{\"xaxis\":{\"backgroundcolor\":\"#E5ECF6\",\"gridcolor\":\"white\",\"linecolor\":\"white\",\"showbackground\":true,\"ticks\":\"\",\"zerolinecolor\":\"white\",\"gridwidth\":2},\"yaxis\":{\"backgroundcolor\":\"#E5ECF6\",\"gridcolor\":\"white\",\"linecolor\":\"white\",\"showbackground\":true,\"ticks\":\"\",\"zerolinecolor\":\"white\",\"gridwidth\":2},\"zaxis\":{\"backgroundcolor\":\"#E5ECF6\",\"gridcolor\":\"white\",\"linecolor\":\"white\",\"showbackground\":true,\"ticks\":\"\",\"zerolinecolor\":\"white\",\"gridwidth\":2}},\"shapedefaults\":{\"line\":{\"color\":\"#2a3f5f\"}},\"annotationdefaults\":{\"arrowcolor\":\"#2a3f5f\",\"arrowhead\":0,\"arrowwidth\":1},\"geo\":{\"bgcolor\":\"white\",\"landcolor\":\"#E5ECF6\",\"subunitcolor\":\"white\",\"showland\":true,\"showlakes\":true,\"lakecolor\":\"white\"},\"title\":{\"x\":0.05},\"mapbox\":{\"style\":\"light\"}}}},                        {\"responsive\": true}                    ).then(function(){\n",
       "                            \n",
       "var gd = document.getElementById('e76fb088-f13a-46e6-93b5-fe35a8df8ee6');\n",
       "var x = new MutationObserver(function (mutations, observer) {{\n",
       "        var display = window.getComputedStyle(gd).display;\n",
       "        if (!display || display === 'none') {{\n",
       "            console.log([gd, 'removed!']);\n",
       "            Plotly.purge(gd);\n",
       "            observer.disconnect();\n",
       "        }}\n",
       "}});\n",
       "\n",
       "// Listen for the removal of the full notebook cells\n",
       "var notebookContainer = gd.closest('#notebook-container');\n",
       "if (notebookContainer) {{\n",
       "    x.observe(notebookContainer, {childList: true});\n",
       "}}\n",
       "\n",
       "// Listen for the clearing of the current output cell\n",
       "var outputEl = gd.closest('.output');\n",
       "if (outputEl) {{\n",
       "    x.observe(outputEl, {childList: true});\n",
       "}}\n",
       "\n",
       "                        })                };                });            </script>        </div>"
      ]
     },
     "metadata": {},
     "output_type": "display_data"
    }
   ],
   "source": [
    "plot_ICC(ICC_Wh_vals,ICC_Wh_err,tempfilt,'Wh')"
   ]
  },
  {
   "cell_type": "markdown",
   "id": "8b93d799",
   "metadata": {},
   "source": [
    "# ICC on physiological data"
   ]
  },
  {
   "cell_type": "code",
   "execution_count": 134,
   "id": "c867785f",
   "metadata": {},
   "outputs": [],
   "source": [
    "from scipy.signal import medfilt, butter, hilbert, find_peaks"
   ]
  },
  {
   "cell_type": "markdown",
   "id": "17e1ddbb",
   "metadata": {},
   "source": [
    "## Respiratory\n",
    "\n"
   ]
  },
  {
   "cell_type": "code",
   "execution_count": 135,
   "id": "411470d3",
   "metadata": {},
   "outputs": [],
   "source": [
    "resp_subs_1 = []\n",
    "resp_subs_2 = []\n",
    "\n",
    "for sub in subjects_paths:\n",
    "    data = np.loadtxt(os.path.join(sub,'physio',sub.split('/')[-1]+'.txt'))\n",
    "    first_trig = np.where(data[:,2] == 5)[0][0]\n",
    "    resp = data[first_trig:,0]\n",
    "    b,a = butter(1,[0.01,0.6],'bandpass',fs=100)\n",
    "    resp = filtfilt(b,a,resp)\n",
    "    resp = medfilt(resp,601)\n",
    "    \n",
    "    phase = np.angle(hilbert(resp))\n",
    "    \n",
    "    # find zero-crossing frequency of the cycles\n",
    "    resp_subs_1.append(len(np.where(np.diff(np.sign(phase[:int(len(resp)/2)])))[0]))\n",
    "    resp_subs_2.append(len(np.where(np.diff(np.sign(phase[int(len(resp)/2):])))[0]))\n",
    "    "
   ]
  },
  {
   "cell_type": "code",
   "execution_count": 183,
   "id": "9b1c1eb7",
   "metadata": {},
   "outputs": [
    {
     "data": {
      "text/plain": [
       "[154,\n",
       " 133,\n",
       " 210,\n",
       " 226,\n",
       " 402,\n",
       " 119,\n",
       " 72,\n",
       " 138,\n",
       " 122,\n",
       " 102,\n",
       " 188,\n",
       " 186,\n",
       " 168,\n",
       " 132,\n",
       " 237,\n",
       " 154,\n",
       " 212,\n",
       " 202,\n",
       " 217,\n",
       " 187,\n",
       " 280,\n",
       " 191,\n",
       " 54,\n",
       " 175]"
      ]
     },
     "execution_count": 183,
     "metadata": {},
     "output_type": "execute_result"
    }
   ],
   "source": [
    "resp_subs_1"
   ]
  },
  {
   "cell_type": "code",
   "execution_count": 184,
   "id": "8ccf0e7b",
   "metadata": {},
   "outputs": [
    {
     "data": {
      "text/plain": [
       "[150,\n",
       " 123,\n",
       " 200,\n",
       " 206,\n",
       " 382,\n",
       " 51,\n",
       " 116,\n",
       " 160,\n",
       " 90,\n",
       " 144,\n",
       " 212,\n",
       " 156,\n",
       " 144,\n",
       " 130,\n",
       " 215,\n",
       " 194,\n",
       " 218,\n",
       " 162,\n",
       " 225,\n",
       " 103,\n",
       " 250,\n",
       " 145,\n",
       " 64,\n",
       " 163]"
      ]
     },
     "execution_count": 184,
     "metadata": {},
     "output_type": "execute_result"
    }
   ],
   "source": [
    "resp_subs_2"
   ]
  },
  {
   "cell_type": "code",
   "execution_count": 187,
   "id": "7333f74c",
   "metadata": {},
   "outputs": [],
   "source": [
    "resp_df = pd.DataFrame({\"Subjects\": subnames, \"Half\": [\"H1\"]*len(subjects_paths), \"Val\": resp_subs_1})\n",
    "resp_df = pd.concat([resp_df, pd.DataFrame({\"Subjects\": subnames, \"Half\": [\"H2\"]*len(subjects_paths), \"Val\": resp_subs_2})],ignore_index=True)\n",
    "icc_df_resp = pg.intraclass_corr(resp_df,targets=\"Subjects\", raters=\"Half\", ratings=\"Val\")"
   ]
  },
  {
   "cell_type": "code",
   "execution_count": 188,
   "id": "c381daa1",
   "metadata": {},
   "outputs": [
    {
     "data": {
      "text/html": [
       "<div>\n",
       "<style scoped>\n",
       "    .dataframe tbody tr th:only-of-type {\n",
       "        vertical-align: middle;\n",
       "    }\n",
       "\n",
       "    .dataframe tbody tr th {\n",
       "        vertical-align: top;\n",
       "    }\n",
       "\n",
       "    .dataframe thead th {\n",
       "        text-align: right;\n",
       "    }\n",
       "</style>\n",
       "<table border=\"1\" class=\"dataframe\">\n",
       "  <thead>\n",
       "    <tr style=\"text-align: right;\">\n",
       "      <th></th>\n",
       "      <th>Type</th>\n",
       "      <th>Description</th>\n",
       "      <th>ICC</th>\n",
       "      <th>F</th>\n",
       "      <th>df1</th>\n",
       "      <th>df2</th>\n",
       "      <th>pval</th>\n",
       "      <th>CI95%</th>\n",
       "    </tr>\n",
       "  </thead>\n",
       "  <tbody>\n",
       "    <tr>\n",
       "      <th>0</th>\n",
       "      <td>ICC1</td>\n",
       "      <td>Single raters absolute</td>\n",
       "      <td>0.885828</td>\n",
       "      <td>16.517489</td>\n",
       "      <td>23</td>\n",
       "      <td>24</td>\n",
       "      <td>1.008859e-09</td>\n",
       "      <td>[0.76, 0.95]</td>\n",
       "    </tr>\n",
       "    <tr>\n",
       "      <th>1</th>\n",
       "      <td>ICC2</td>\n",
       "      <td>Single random raters</td>\n",
       "      <td>0.886242</td>\n",
       "      <td>17.641127</td>\n",
       "      <td>23</td>\n",
       "      <td>23</td>\n",
       "      <td>9.957982e-10</td>\n",
       "      <td>[0.75, 0.95]</td>\n",
       "    </tr>\n",
       "    <tr>\n",
       "      <th>2</th>\n",
       "      <td>ICC3</td>\n",
       "      <td>Single fixed raters</td>\n",
       "      <td>0.892710</td>\n",
       "      <td>17.641127</td>\n",
       "      <td>23</td>\n",
       "      <td>23</td>\n",
       "      <td>9.957982e-10</td>\n",
       "      <td>[0.77, 0.95]</td>\n",
       "    </tr>\n",
       "    <tr>\n",
       "      <th>3</th>\n",
       "      <td>ICC1k</td>\n",
       "      <td>Average raters absolute</td>\n",
       "      <td>0.939458</td>\n",
       "      <td>16.517489</td>\n",
       "      <td>23</td>\n",
       "      <td>24</td>\n",
       "      <td>1.008859e-09</td>\n",
       "      <td>[0.86, 0.97]</td>\n",
       "    </tr>\n",
       "    <tr>\n",
       "      <th>4</th>\n",
       "      <td>ICC2k</td>\n",
       "      <td>Average random raters</td>\n",
       "      <td>0.939691</td>\n",
       "      <td>17.641127</td>\n",
       "      <td>23</td>\n",
       "      <td>23</td>\n",
       "      <td>9.957982e-10</td>\n",
       "      <td>[0.86, 0.97]</td>\n",
       "    </tr>\n",
       "    <tr>\n",
       "      <th>5</th>\n",
       "      <td>ICC3k</td>\n",
       "      <td>Average fixed raters</td>\n",
       "      <td>0.943314</td>\n",
       "      <td>17.641127</td>\n",
       "      <td>23</td>\n",
       "      <td>23</td>\n",
       "      <td>9.957982e-10</td>\n",
       "      <td>[0.87, 0.98]</td>\n",
       "    </tr>\n",
       "  </tbody>\n",
       "</table>\n",
       "</div>"
      ],
      "text/plain": [
       "    Type              Description       ICC          F  df1  df2  \\\n",
       "0   ICC1   Single raters absolute  0.885828  16.517489   23   24   \n",
       "1   ICC2     Single random raters  0.886242  17.641127   23   23   \n",
       "2   ICC3      Single fixed raters  0.892710  17.641127   23   23   \n",
       "3  ICC1k  Average raters absolute  0.939458  16.517489   23   24   \n",
       "4  ICC2k    Average random raters  0.939691  17.641127   23   23   \n",
       "5  ICC3k     Average fixed raters  0.943314  17.641127   23   23   \n",
       "\n",
       "           pval         CI95%  \n",
       "0  1.008859e-09  [0.76, 0.95]  \n",
       "1  9.957982e-10  [0.75, 0.95]  \n",
       "2  9.957982e-10  [0.77, 0.95]  \n",
       "3  1.008859e-09  [0.86, 0.97]  \n",
       "4  9.957982e-10  [0.86, 0.97]  \n",
       "5  9.957982e-10  [0.87, 0.98]  "
      ]
     },
     "execution_count": 188,
     "metadata": {},
     "output_type": "execute_result"
    }
   ],
   "source": [
    "icc_df_resp"
   ]
  },
  {
   "cell_type": "code",
   "execution_count": 189,
   "id": "5af6c5d6",
   "metadata": {},
   "outputs": [
    {
     "name": "stderr",
     "output_type": "stream",
     "text": [
      "100%|█████████████████████████████████████████████████████████████████████████████████████████| 10000/10000 [00:02<00:00, 4575.33it/s]"
     ]
    },
    {
     "name": "stdout",
     "output_type": "stream",
     "text": [
      "0.8862420111045053 (0.6542154512019442, 0.9546882601976064)\n"
     ]
    },
    {
     "name": "stderr",
     "output_type": "stream",
     "text": [
      "\n"
     ]
    }
   ],
   "source": [
    "resp_both = np.vstack([resp_subs_1,resp_subs_2]).T\n",
    "resp_icc = icc(resp_both)\n",
    "resp_icc_ci = bootstrap_icc(resp_both,icc)\n",
    "print(resp_icc, resp_icc_ci)"
   ]
  },
  {
   "cell_type": "markdown",
   "id": "8b277837",
   "metadata": {},
   "source": [
    "### Cardiac"
   ]
  },
  {
   "cell_type": "code",
   "execution_count": 190,
   "id": "9a8a20b5",
   "metadata": {},
   "outputs": [
    {
     "ename": "NameError",
     "evalue": "name 'card' is not defined",
     "output_type": "error",
     "traceback": [
      "\u001b[0;31m---------------------------------------------------------------------------\u001b[0m",
      "\u001b[0;31mNameError\u001b[0m                                 Traceback (most recent call last)",
      "\u001b[0;32m/tmp/ipykernel_149551/172225681.py\u001b[0m in \u001b[0;36m<module>\u001b[0;34m\u001b[0m\n\u001b[0;32m----> 1\u001b[0;31m \u001b[0mnp\u001b[0m\u001b[0;34m.\u001b[0m\u001b[0mmean\u001b[0m\u001b[0;34m(\u001b[0m\u001b[0mnp\u001b[0m\u001b[0;34m.\u001b[0m\u001b[0mdiff\u001b[0m\u001b[0;34m(\u001b[0m\u001b[0mcard\u001b[0m\u001b[0;34m[\u001b[0m\u001b[0;34m:\u001b[0m\u001b[0mint\u001b[0m\u001b[0;34m(\u001b[0m\u001b[0mlen\u001b[0m\u001b[0;34m(\u001b[0m\u001b[0mcard\u001b[0m\u001b[0;34m)\u001b[0m\u001b[0;34m/\u001b[0m\u001b[0;36m2\u001b[0m\u001b[0;34m)\u001b[0m\u001b[0;34m]\u001b[0m\u001b[0;34m)\u001b[0m\u001b[0;34m)\u001b[0m\u001b[0;34m\u001b[0m\u001b[0;34m\u001b[0m\u001b[0m\n\u001b[0m",
      "\u001b[0;31mNameError\u001b[0m: name 'card' is not defined"
     ]
    }
   ],
   "source": [
    "np.mean(np.diff(card[:xint(len(card)/2)]))"
   ]
  },
  {
   "cell_type": "code",
   "execution_count": 191,
   "id": "3bce47f7",
   "metadata": {},
   "outputs": [],
   "source": [
    "card_subs_1 = []\n",
    "card_subs_2 = []\n",
    "\n",
    "for sub in subjects_paths:\n",
    "    card = np.loadtxt(os.path.join(sub,'physio',sub.split('/')[-1]+'_card_auto.txt'))\n",
    "#     first_trig = np.where(data[:,2] == 5)[0][0]\n",
    "#     card = data[first_trig:,1]\n",
    "    \n",
    "    card_subs_1.append(np.mean(np.diff(card[:int(len(card)/2)])))\n",
    "    card_subs_2.append(np.mean(np.diff(card[int(len(card)/2):])))\n",
    "    "
   ]
  },
  {
   "cell_type": "code",
   "execution_count": 192,
   "id": "6ffb0316",
   "metadata": {},
   "outputs": [],
   "source": [
    "card_df = pd.DataFrame({\"Subjects\": subnames, \"Half\": [\"H1\"]*len(subjects_paths), \"Val\": card_subs_1})\n",
    "card_df = pd.concat([card_df, pd.DataFrame({\"Subjects\": subnames, \"Half\": [\"H2\"]*len(subjects_paths), \"Val\": card_subs_2})],ignore_index=True)\n",
    "icc_df_card = pg.intraclass_corr(card_df,targets=\"Subjects\", raters=\"Half\", ratings=\"Val\")"
   ]
  },
  {
   "cell_type": "code",
   "execution_count": 193,
   "id": "cc3c9dfe",
   "metadata": {},
   "outputs": [
    {
     "data": {
      "text/html": [
       "<div>\n",
       "<style scoped>\n",
       "    .dataframe tbody tr th:only-of-type {\n",
       "        vertical-align: middle;\n",
       "    }\n",
       "\n",
       "    .dataframe tbody tr th {\n",
       "        vertical-align: top;\n",
       "    }\n",
       "\n",
       "    .dataframe thead th {\n",
       "        text-align: right;\n",
       "    }\n",
       "</style>\n",
       "<table border=\"1\" class=\"dataframe\">\n",
       "  <thead>\n",
       "    <tr style=\"text-align: right;\">\n",
       "      <th></th>\n",
       "      <th>Type</th>\n",
       "      <th>Description</th>\n",
       "      <th>ICC</th>\n",
       "      <th>F</th>\n",
       "      <th>df1</th>\n",
       "      <th>df2</th>\n",
       "      <th>pval</th>\n",
       "      <th>CI95%</th>\n",
       "    </tr>\n",
       "  </thead>\n",
       "  <tbody>\n",
       "    <tr>\n",
       "      <th>0</th>\n",
       "      <td>ICC1</td>\n",
       "      <td>Single raters absolute</td>\n",
       "      <td>0.945687</td>\n",
       "      <td>35.823717</td>\n",
       "      <td>23</td>\n",
       "      <td>24</td>\n",
       "      <td>1.883205e-13</td>\n",
       "      <td>[0.88, 0.98]</td>\n",
       "    </tr>\n",
       "    <tr>\n",
       "      <th>1</th>\n",
       "      <td>ICC2</td>\n",
       "      <td>Single random raters</td>\n",
       "      <td>0.945917</td>\n",
       "      <td>42.467211</td>\n",
       "      <td>23</td>\n",
       "      <td>23</td>\n",
       "      <td>7.992269e-14</td>\n",
       "      <td>[0.86, 0.98]</td>\n",
       "    </tr>\n",
       "    <tr>\n",
       "      <th>2</th>\n",
       "      <td>ICC3</td>\n",
       "      <td>Single fixed raters</td>\n",
       "      <td>0.953988</td>\n",
       "      <td>42.467211</td>\n",
       "      <td>23</td>\n",
       "      <td>23</td>\n",
       "      <td>7.992269e-14</td>\n",
       "      <td>[0.9, 0.98]</td>\n",
       "    </tr>\n",
       "    <tr>\n",
       "      <th>3</th>\n",
       "      <td>ICC1k</td>\n",
       "      <td>Average raters absolute</td>\n",
       "      <td>0.972086</td>\n",
       "      <td>35.823717</td>\n",
       "      <td>23</td>\n",
       "      <td>24</td>\n",
       "      <td>1.883205e-13</td>\n",
       "      <td>[0.94, 0.99]</td>\n",
       "    </tr>\n",
       "    <tr>\n",
       "      <th>4</th>\n",
       "      <td>ICC2k</td>\n",
       "      <td>Average random raters</td>\n",
       "      <td>0.972207</td>\n",
       "      <td>42.467211</td>\n",
       "      <td>23</td>\n",
       "      <td>23</td>\n",
       "      <td>7.992269e-14</td>\n",
       "      <td>[0.93, 0.99]</td>\n",
       "    </tr>\n",
       "    <tr>\n",
       "      <th>5</th>\n",
       "      <td>ICC3k</td>\n",
       "      <td>Average fixed raters</td>\n",
       "      <td>0.976452</td>\n",
       "      <td>42.467211</td>\n",
       "      <td>23</td>\n",
       "      <td>23</td>\n",
       "      <td>7.992269e-14</td>\n",
       "      <td>[0.95, 0.99]</td>\n",
       "    </tr>\n",
       "  </tbody>\n",
       "</table>\n",
       "</div>"
      ],
      "text/plain": [
       "    Type              Description       ICC          F  df1  df2  \\\n",
       "0   ICC1   Single raters absolute  0.945687  35.823717   23   24   \n",
       "1   ICC2     Single random raters  0.945917  42.467211   23   23   \n",
       "2   ICC3      Single fixed raters  0.953988  42.467211   23   23   \n",
       "3  ICC1k  Average raters absolute  0.972086  35.823717   23   24   \n",
       "4  ICC2k    Average random raters  0.972207  42.467211   23   23   \n",
       "5  ICC3k     Average fixed raters  0.976452  42.467211   23   23   \n",
       "\n",
       "           pval         CI95%  \n",
       "0  1.883205e-13  [0.88, 0.98]  \n",
       "1  7.992269e-14  [0.86, 0.98]  \n",
       "2  7.992269e-14   [0.9, 0.98]  \n",
       "3  1.883205e-13  [0.94, 0.99]  \n",
       "4  7.992269e-14  [0.93, 0.99]  \n",
       "5  7.992269e-14  [0.95, 0.99]  "
      ]
     },
     "execution_count": 193,
     "metadata": {},
     "output_type": "execute_result"
    }
   ],
   "source": [
    "icc_df_card"
   ]
  },
  {
   "cell_type": "code",
   "execution_count": 194,
   "id": "e1cfde64",
   "metadata": {},
   "outputs": [
    {
     "ename": "NameError",
     "evalue": "name 'card_icc' is not defined",
     "output_type": "error",
     "traceback": [
      "\u001b[0;31m---------------------------------------------------------------------------\u001b[0m",
      "\u001b[0;31mNameError\u001b[0m                                 Traceback (most recent call last)",
      "\u001b[0;32m/tmp/ipykernel_149551/552753769.py\u001b[0m in \u001b[0;36m<module>\u001b[0;34m\u001b[0m\n\u001b[0;32m----> 1\u001b[0;31m \u001b[0mcard_icc\u001b[0m\u001b[0;34m\u001b[0m\u001b[0;34m\u001b[0m\u001b[0m\n\u001b[0m",
      "\u001b[0;31mNameError\u001b[0m: name 'card_icc' is not defined"
     ]
    }
   ],
   "source": [
    "card_icc"
   ]
  },
  {
   "cell_type": "code",
   "execution_count": 195,
   "id": "f97e45c9",
   "metadata": {},
   "outputs": [
    {
     "name": "stderr",
     "output_type": "stream",
     "text": [
      "100%|█████████████████████████████████████████████████████████████████████████████████████████| 10000/10000 [00:02<00:00, 4503.94it/s]"
     ]
    },
    {
     "name": "stdout",
     "output_type": "stream",
     "text": [
      "0.945916938772086 (0.8767142370165283, 0.9742474375248706)\n"
     ]
    },
    {
     "name": "stderr",
     "output_type": "stream",
     "text": [
      "\n"
     ]
    }
   ],
   "source": [
    "card_both = np.vstack([card_subs_1,card_subs_2]).T\n",
    "card_icc = icc(card_both)\n",
    "card_icc_ci = bootstrap_icc(card_both,icc)\n",
    "print(card_icc, card_icc_ci)"
   ]
  },
  {
   "cell_type": "markdown",
   "id": "f73ef372",
   "metadata": {},
   "source": [
    "## On DVARS moco params"
   ]
  },
  {
   "cell_type": "code",
   "execution_count": 199,
   "id": "bd076fba",
   "metadata": {},
   "outputs": [],
   "source": [
    "def abs2(x):\n",
    "    return x.real**2 + x.imag**2"
   ]
  },
  {
   "cell_type": "code",
   "execution_count": 200,
   "id": "e3abc847",
   "metadata": {},
   "outputs": [],
   "source": [
    "from scipy.signal import find_peaks"
   ]
  },
  {
   "cell_type": "code",
   "execution_count": 201,
   "id": "7ea64188",
   "metadata": {},
   "outputs": [],
   "source": [
    "def periodicity(s,t):\n",
    "    # s = signal\n",
    "    # t = timevector\n",
    "    L = len(t)\n",
    "    Ts = np.mean(np.diff(t)) # sampling interval\n",
    "    Fs = 1/Ts # Sampling Frequency\n",
    "    Fn = Fs/2 # Nyquist Frequency\n",
    "    FTs = np.fft.fft(s)/L # Normalised Fourier Transform\n",
    "    Fv = np.linspace(0, 1, int(np.fix(L/2)+1))*Fn # % Frequency Vector\n",
    "    Iv = np.arange(len(Fv)) # Index Vector\n",
    "\n",
    "    # To calculate the period (the inverse of frequency ) of a signal:\n",
    "    pks = find_peaks(abs(FTs[Iv]))\n",
    "    Perd = 1./Fv[pks[0]]\n",
    "    \n",
    "    return Perd"
   ]
  },
  {
   "cell_type": "code",
   "execution_count": 202,
   "id": "f5fb81e8",
   "metadata": {},
   "outputs": [],
   "source": [
    "time_acquisitions = np.arange(0,900,2.5)"
   ]
  },
  {
   "cell_type": "code",
   "execution_count": 203,
   "id": "0220c93f",
   "metadata": {},
   "outputs": [
    {
     "data": {
      "text/plain": [
       "181.0"
      ]
     },
     "execution_count": 203,
     "metadata": {},
     "output_type": "execute_result"
    }
   ],
   "source": [
    "np.fix(len(time_acquisitions)/2)+1"
   ]
  },
  {
   "cell_type": "code",
   "execution_count": 205,
   "id": "7f12b75d",
   "metadata": {},
   "outputs": [],
   "source": [
    "moco_subs_1 = []\n",
    "moco_subs_2 = []\n",
    "\n",
    "for sub in subjects_paths:\n",
    "    moco = os.path.join(sub,'func/Moco/n_moco_params.tsv')\n",
    "    df = pd.read_csv(moco,sep='\\t' )\n",
    "    X = df.X\n",
    "    Y = df.Y\n",
    "    \n",
    "    #xy = (X+Y)/2\n",
    "    XY = np.vstack([X,Y]).T\n",
    "    FD = np.diff(XY,axis=0)\n",
    "    xy = np.sum(np.abs(FD), 1)\n",
    "\n",
    "        \n",
    "    moco_subs_1.append(np.mean(xy[:int(len(xy)/2)]))\n",
    "    moco_subs_2.append(np.mean(xy[int(len(xy)/2):-1]))"
   ]
  },
  {
   "cell_type": "code",
   "execution_count": 220,
   "id": "0dbab192",
   "metadata": {},
   "outputs": [],
   "source": [
    "moco_df = pd.DataFrame({\"Subjects\": subnames, \"Half\": [\"H1\"]*len(subjects_paths), \"Val\": moco_subs_1})\n",
    "moco_df = pd.concat([moco_df, pd.DataFrame({\"Subjects\": subnames, \"Half\": [\"H2\"]*len(subjects_paths), \"Val\": moco_subs_2})],ignore_index=True)\n",
    "icc_df_moco = pg.intraclass_corr(moco_df,targets=\"Subjects\", raters=\"Half\", ratings=\"Val\")"
   ]
  },
  {
   "cell_type": "code",
   "execution_count": 232,
   "id": "afd39029",
   "metadata": {},
   "outputs": [
    {
     "data": {
      "text/html": [
       "<div>\n",
       "<style scoped>\n",
       "    .dataframe tbody tr th:only-of-type {\n",
       "        vertical-align: middle;\n",
       "    }\n",
       "\n",
       "    .dataframe tbody tr th {\n",
       "        vertical-align: top;\n",
       "    }\n",
       "\n",
       "    .dataframe thead th {\n",
       "        text-align: right;\n",
       "    }\n",
       "</style>\n",
       "<table border=\"1\" class=\"dataframe\">\n",
       "  <thead>\n",
       "    <tr style=\"text-align: right;\">\n",
       "      <th></th>\n",
       "      <th>Type</th>\n",
       "      <th>Description</th>\n",
       "      <th>ICC</th>\n",
       "      <th>F</th>\n",
       "      <th>df1</th>\n",
       "      <th>df2</th>\n",
       "      <th>pval</th>\n",
       "      <th>CI95%</th>\n",
       "    </tr>\n",
       "  </thead>\n",
       "  <tbody>\n",
       "    <tr>\n",
       "      <th>0</th>\n",
       "      <td>ICC1</td>\n",
       "      <td>Single raters absolute</td>\n",
       "      <td>0.807556</td>\n",
       "      <td>9.392609</td>\n",
       "      <td>23</td>\n",
       "      <td>24</td>\n",
       "      <td>3.408398e-07</td>\n",
       "      <td>[0.61, 0.91]</td>\n",
       "    </tr>\n",
       "    <tr>\n",
       "      <th>1</th>\n",
       "      <td>ICC2</td>\n",
       "      <td>Single random raters</td>\n",
       "      <td>0.806940</td>\n",
       "      <td>9.091314</td>\n",
       "      <td>23</td>\n",
       "      <td>23</td>\n",
       "      <td>7.230247e-07</td>\n",
       "      <td>[0.6, 0.91]</td>\n",
       "    </tr>\n",
       "    <tr>\n",
       "      <th>2</th>\n",
       "      <td>ICC3</td>\n",
       "      <td>Single fixed raters</td>\n",
       "      <td>0.801810</td>\n",
       "      <td>9.091314</td>\n",
       "      <td>23</td>\n",
       "      <td>23</td>\n",
       "      <td>7.230247e-07</td>\n",
       "      <td>[0.59, 0.91]</td>\n",
       "    </tr>\n",
       "    <tr>\n",
       "      <th>3</th>\n",
       "      <td>ICC1k</td>\n",
       "      <td>Average raters absolute</td>\n",
       "      <td>0.893533</td>\n",
       "      <td>9.392609</td>\n",
       "      <td>23</td>\n",
       "      <td>24</td>\n",
       "      <td>3.408398e-07</td>\n",
       "      <td>[0.76, 0.95]</td>\n",
       "    </tr>\n",
       "    <tr>\n",
       "      <th>4</th>\n",
       "      <td>ICC2k</td>\n",
       "      <td>Average random raters</td>\n",
       "      <td>0.893156</td>\n",
       "      <td>9.091314</td>\n",
       "      <td>23</td>\n",
       "      <td>23</td>\n",
       "      <td>7.230247e-07</td>\n",
       "      <td>[0.75, 0.95]</td>\n",
       "    </tr>\n",
       "    <tr>\n",
       "      <th>5</th>\n",
       "      <td>ICC3k</td>\n",
       "      <td>Average fixed raters</td>\n",
       "      <td>0.890005</td>\n",
       "      <td>9.091314</td>\n",
       "      <td>23</td>\n",
       "      <td>23</td>\n",
       "      <td>7.230247e-07</td>\n",
       "      <td>[0.75, 0.95]</td>\n",
       "    </tr>\n",
       "  </tbody>\n",
       "</table>\n",
       "</div>"
      ],
      "text/plain": [
       "    Type              Description       ICC         F  df1  df2          pval  \\\n",
       "0   ICC1   Single raters absolute  0.807556  9.392609   23   24  3.408398e-07   \n",
       "1   ICC2     Single random raters  0.806940  9.091314   23   23  7.230247e-07   \n",
       "2   ICC3      Single fixed raters  0.801810  9.091314   23   23  7.230247e-07   \n",
       "3  ICC1k  Average raters absolute  0.893533  9.392609   23   24  3.408398e-07   \n",
       "4  ICC2k    Average random raters  0.893156  9.091314   23   23  7.230247e-07   \n",
       "5  ICC3k     Average fixed raters  0.890005  9.091314   23   23  7.230247e-07   \n",
       "\n",
       "          CI95%  \n",
       "0  [0.61, 0.91]  \n",
       "1   [0.6, 0.91]  \n",
       "2  [0.59, 0.91]  \n",
       "3  [0.76, 0.95]  \n",
       "4  [0.75, 0.95]  \n",
       "5  [0.75, 0.95]  "
      ]
     },
     "execution_count": 232,
     "metadata": {},
     "output_type": "execute_result"
    }
   ],
   "source": [
    "icc_df_moco"
   ]
  },
  {
   "cell_type": "markdown",
   "id": "427147ff",
   "metadata": {},
   "source": [
    "## On CSF regressors\n"
   ]
  },
  {
   "cell_type": "code",
   "execution_count": 209,
   "id": "79dc15b0",
   "metadata": {},
   "outputs": [],
   "source": [
    "from pathlib import Path"
   ]
  },
  {
   "cell_type": "code",
   "execution_count": 211,
   "id": "e9cc1a11",
   "metadata": {},
   "outputs": [],
   "source": [
    "csf_subs_1 = []\n",
    "csf_subs_2 = []\n",
    "\n",
    "for sub in subjects_paths:\n",
    "    file = Path(os.path.join(sub,'func/regressors_evlist_st_csfonly.txt')).read_text()[:-1]\n",
    "    img = nib.load(file)\n",
    "    f_img_data = img.get_fdata()\n",
    "    tsignalslices = f_img_data.reshape([f_img_data.shape[-2], f_img_data.shape[-1]])\n",
    "    \n",
    "    csf_array = np.mean(tsignalslices, axis=0)\n",
    "    csf_subs_1.append(np.std(csf_array[:int(len(csf_array)/2)]))\n",
    "    csf_subs_2.append(np.std(csf_array[int(len(csf_array)/2):]))\n"
   ]
  },
  {
   "cell_type": "code",
   "execution_count": 230,
   "id": "dea82af4",
   "metadata": {},
   "outputs": [],
   "source": [
    "csf_df = pd.DataFrame({\"Subjects\": subnames, \"Half\": [\"H1\"]*len(subjects_paths), \"Val\": csf_subs_1})\n",
    "csf_df = pd.concat([csf_df, pd.DataFrame({\"Subjects\": subnames, \"Half\": [\"H2\"]*len(subjects_paths), \"Val\": csf_subs_2})],ignore_index=True)\n",
    "csf_df_icc = pg.intraclass_corr(csf_df,targets=\"Subjects\", raters=\"Half\", ratings=\"Val\")"
   ]
  },
  {
   "cell_type": "code",
   "execution_count": 231,
   "id": "5f76d790",
   "metadata": {},
   "outputs": [
    {
     "data": {
      "text/html": [
       "<div>\n",
       "<style scoped>\n",
       "    .dataframe tbody tr th:only-of-type {\n",
       "        vertical-align: middle;\n",
       "    }\n",
       "\n",
       "    .dataframe tbody tr th {\n",
       "        vertical-align: top;\n",
       "    }\n",
       "\n",
       "    .dataframe thead th {\n",
       "        text-align: right;\n",
       "    }\n",
       "</style>\n",
       "<table border=\"1\" class=\"dataframe\">\n",
       "  <thead>\n",
       "    <tr style=\"text-align: right;\">\n",
       "      <th></th>\n",
       "      <th>Type</th>\n",
       "      <th>Description</th>\n",
       "      <th>ICC</th>\n",
       "      <th>F</th>\n",
       "      <th>df1</th>\n",
       "      <th>df2</th>\n",
       "      <th>pval</th>\n",
       "      <th>CI95%</th>\n",
       "    </tr>\n",
       "  </thead>\n",
       "  <tbody>\n",
       "    <tr>\n",
       "      <th>0</th>\n",
       "      <td>ICC1</td>\n",
       "      <td>Single raters absolute</td>\n",
       "      <td>0.865587</td>\n",
       "      <td>13.879508</td>\n",
       "      <td>23</td>\n",
       "      <td>24</td>\n",
       "      <td>6.387140e-09</td>\n",
       "      <td>[0.72, 0.94]</td>\n",
       "    </tr>\n",
       "    <tr>\n",
       "      <th>1</th>\n",
       "      <td>ICC2</td>\n",
       "      <td>Single random raters</td>\n",
       "      <td>0.866067</td>\n",
       "      <td>14.660784</td>\n",
       "      <td>23</td>\n",
       "      <td>23</td>\n",
       "      <td>6.654904e-09</td>\n",
       "      <td>[0.72, 0.94]</td>\n",
       "    </tr>\n",
       "    <tr>\n",
       "      <th>2</th>\n",
       "      <td>ICC3</td>\n",
       "      <td>Single fixed raters</td>\n",
       "      <td>0.872292</td>\n",
       "      <td>14.660784</td>\n",
       "      <td>23</td>\n",
       "      <td>23</td>\n",
       "      <td>6.654904e-09</td>\n",
       "      <td>[0.73, 0.94]</td>\n",
       "    </tr>\n",
       "    <tr>\n",
       "      <th>3</th>\n",
       "      <td>ICC1k</td>\n",
       "      <td>Average raters absolute</td>\n",
       "      <td>0.927951</td>\n",
       "      <td>13.879508</td>\n",
       "      <td>23</td>\n",
       "      <td>24</td>\n",
       "      <td>6.387140e-09</td>\n",
       "      <td>[0.84, 0.97]</td>\n",
       "    </tr>\n",
       "    <tr>\n",
       "      <th>4</th>\n",
       "      <td>ICC2k</td>\n",
       "      <td>Average random raters</td>\n",
       "      <td>0.928227</td>\n",
       "      <td>14.660784</td>\n",
       "      <td>23</td>\n",
       "      <td>23</td>\n",
       "      <td>6.654904e-09</td>\n",
       "      <td>[0.83, 0.97]</td>\n",
       "    </tr>\n",
       "    <tr>\n",
       "      <th>5</th>\n",
       "      <td>ICC3k</td>\n",
       "      <td>Average fixed raters</td>\n",
       "      <td>0.931791</td>\n",
       "      <td>14.660784</td>\n",
       "      <td>23</td>\n",
       "      <td>23</td>\n",
       "      <td>6.654904e-09</td>\n",
       "      <td>[0.84, 0.97]</td>\n",
       "    </tr>\n",
       "  </tbody>\n",
       "</table>\n",
       "</div>"
      ],
      "text/plain": [
       "    Type              Description       ICC          F  df1  df2  \\\n",
       "0   ICC1   Single raters absolute  0.865587  13.879508   23   24   \n",
       "1   ICC2     Single random raters  0.866067  14.660784   23   23   \n",
       "2   ICC3      Single fixed raters  0.872292  14.660784   23   23   \n",
       "3  ICC1k  Average raters absolute  0.927951  13.879508   23   24   \n",
       "4  ICC2k    Average random raters  0.928227  14.660784   23   23   \n",
       "5  ICC3k     Average fixed raters  0.931791  14.660784   23   23   \n",
       "\n",
       "           pval         CI95%  \n",
       "0  6.387140e-09  [0.72, 0.94]  \n",
       "1  6.654904e-09  [0.72, 0.94]  \n",
       "2  6.654904e-09  [0.73, 0.94]  \n",
       "3  6.387140e-09  [0.84, 0.97]  \n",
       "4  6.654904e-09  [0.83, 0.97]  \n",
       "5  6.654904e-09  [0.84, 0.97]  "
      ]
     },
     "execution_count": 231,
     "metadata": {},
     "output_type": "execute_result"
    }
   ],
   "source": [
    "csf_df_icc"
   ]
  },
  {
   "cell_type": "code",
   "execution_count": 215,
   "id": "206f6b92",
   "metadata": {},
   "outputs": [
    {
     "data": {
      "text/plain": [
       "0.031595660532879065"
      ]
     },
     "execution_count": 215,
     "metadata": {},
     "output_type": "execute_result"
    }
   ],
   "source": [
    "np.mean(csf_array[:int(len(csf_array)/2)])"
   ]
  },
  {
   "cell_type": "code",
   "execution_count": 217,
   "id": "fe50b0a5",
   "metadata": {},
   "outputs": [],
   "source": [
    "csf_subs_1 = []\n",
    "csf_subs_2 = []\n",
    "csf_arrays = []\n",
    "for sub in subjects_paths:\n",
    "    file = Path(os.path.join(sub,'func/regressors_evlist_st_csfonly.txt')).read_text()[:-1]\n",
    "    img = nib.load(file)\n",
    "    f_img_data = img.get_fdata()\n",
    "    tsignalslices = f_img_data.reshape([f_img_data.shape[-2], f_img_data.shape[-1]])\n",
    "    \n",
    "    csf_array = np.mean(tsignalslices, axis=0)\n",
    "    \n",
    "    fft1 = np.fft.rfft(csf_array[:int(len(csf_array)/2)])\n",
    "    fft2 = np.fft.rfft(csf_array[int(len(csf_array)/2):])\n",
    "    \n",
    "    csf_subs_1.append(np.mean((np.abs(fft1) ** 2)/len(fft1)))\n",
    "    csf_subs_2.append(np.mean((np.abs(fft2) ** 2)/len(fft2)))\n",
    "    \n",
    "#     csf_subs_1.append(np.mean(np.angle(fft1)))\n",
    "#     csf_subs_2.append(np.mean(np.angle(fft2)))\n",
    "    "
   ]
  },
  {
   "cell_type": "code",
   "execution_count": 218,
   "id": "a6dddc4e",
   "metadata": {},
   "outputs": [],
   "source": [
    "csf_df = pd.DataFrame({\"Subjects\": subnames, \"Half\": [\"H1\"]*len(subjects_paths), \"Val\": csf_subs_1})\n",
    "csf_df = pd.concat([csf_df, pd.DataFrame({\"Subjects\": subnames, \"Half\": [\"H2\"]*len(subjects_paths), \"Val\": csf_subs_2})],ignore_index=True)\n",
    "csf_df_icc = pg.intraclass_corr(csf_df,targets=\"Subjects\", raters=\"Half\", ratings=\"Val\")"
   ]
  },
  {
   "cell_type": "code",
   "execution_count": 219,
   "id": "ea4b4fe1",
   "metadata": {},
   "outputs": [
    {
     "data": {
      "text/html": [
       "<div>\n",
       "<style scoped>\n",
       "    .dataframe tbody tr th:only-of-type {\n",
       "        vertical-align: middle;\n",
       "    }\n",
       "\n",
       "    .dataframe tbody tr th {\n",
       "        vertical-align: top;\n",
       "    }\n",
       "\n",
       "    .dataframe thead th {\n",
       "        text-align: right;\n",
       "    }\n",
       "</style>\n",
       "<table border=\"1\" class=\"dataframe\">\n",
       "  <thead>\n",
       "    <tr style=\"text-align: right;\">\n",
       "      <th></th>\n",
       "      <th>Type</th>\n",
       "      <th>Description</th>\n",
       "      <th>ICC</th>\n",
       "      <th>F</th>\n",
       "      <th>df1</th>\n",
       "      <th>df2</th>\n",
       "      <th>pval</th>\n",
       "      <th>CI95%</th>\n",
       "    </tr>\n",
       "  </thead>\n",
       "  <tbody>\n",
       "    <tr>\n",
       "      <th>0</th>\n",
       "      <td>ICC1</td>\n",
       "      <td>Single raters absolute</td>\n",
       "      <td>0.865587</td>\n",
       "      <td>13.879508</td>\n",
       "      <td>23</td>\n",
       "      <td>24</td>\n",
       "      <td>6.387140e-09</td>\n",
       "      <td>[0.72, 0.94]</td>\n",
       "    </tr>\n",
       "    <tr>\n",
       "      <th>1</th>\n",
       "      <td>ICC2</td>\n",
       "      <td>Single random raters</td>\n",
       "      <td>0.866067</td>\n",
       "      <td>14.660784</td>\n",
       "      <td>23</td>\n",
       "      <td>23</td>\n",
       "      <td>6.654904e-09</td>\n",
       "      <td>[0.72, 0.94]</td>\n",
       "    </tr>\n",
       "    <tr>\n",
       "      <th>2</th>\n",
       "      <td>ICC3</td>\n",
       "      <td>Single fixed raters</td>\n",
       "      <td>0.872292</td>\n",
       "      <td>14.660784</td>\n",
       "      <td>23</td>\n",
       "      <td>23</td>\n",
       "      <td>6.654904e-09</td>\n",
       "      <td>[0.73, 0.94]</td>\n",
       "    </tr>\n",
       "    <tr>\n",
       "      <th>3</th>\n",
       "      <td>ICC1k</td>\n",
       "      <td>Average raters absolute</td>\n",
       "      <td>0.927951</td>\n",
       "      <td>13.879508</td>\n",
       "      <td>23</td>\n",
       "      <td>24</td>\n",
       "      <td>6.387140e-09</td>\n",
       "      <td>[0.84, 0.97]</td>\n",
       "    </tr>\n",
       "    <tr>\n",
       "      <th>4</th>\n",
       "      <td>ICC2k</td>\n",
       "      <td>Average random raters</td>\n",
       "      <td>0.928227</td>\n",
       "      <td>14.660784</td>\n",
       "      <td>23</td>\n",
       "      <td>23</td>\n",
       "      <td>6.654904e-09</td>\n",
       "      <td>[0.83, 0.97]</td>\n",
       "    </tr>\n",
       "    <tr>\n",
       "      <th>5</th>\n",
       "      <td>ICC3k</td>\n",
       "      <td>Average fixed raters</td>\n",
       "      <td>0.931791</td>\n",
       "      <td>14.660784</td>\n",
       "      <td>23</td>\n",
       "      <td>23</td>\n",
       "      <td>6.654904e-09</td>\n",
       "      <td>[0.84, 0.97]</td>\n",
       "    </tr>\n",
       "  </tbody>\n",
       "</table>\n",
       "</div>"
      ],
      "text/plain": [
       "    Type              Description       ICC          F  df1  df2  \\\n",
       "0   ICC1   Single raters absolute  0.865587  13.879508   23   24   \n",
       "1   ICC2     Single random raters  0.866067  14.660784   23   23   \n",
       "2   ICC3      Single fixed raters  0.872292  14.660784   23   23   \n",
       "3  ICC1k  Average raters absolute  0.927951  13.879508   23   24   \n",
       "4  ICC2k    Average random raters  0.928227  14.660784   23   23   \n",
       "5  ICC3k     Average fixed raters  0.931791  14.660784   23   23   \n",
       "\n",
       "           pval         CI95%  \n",
       "0  6.387140e-09  [0.72, 0.94]  \n",
       "1  6.654904e-09  [0.72, 0.94]  \n",
       "2  6.654904e-09  [0.73, 0.94]  \n",
       "3  6.387140e-09  [0.84, 0.97]  \n",
       "4  6.654904e-09  [0.83, 0.97]  \n",
       "5  6.654904e-09  [0.84, 0.97]  "
      ]
     },
     "execution_count": 219,
     "metadata": {},
     "output_type": "execute_result"
    }
   ],
   "source": [
    "csf_df_icc"
   ]
  },
  {
   "cell_type": "markdown",
   "id": "a19ca4d6",
   "metadata": {},
   "source": [
    "# Supplementary Respiratory investigation\n",
    "\n",
    "Correlate respiratory signals with the denoised resp fmri -- done in older version : correlation of 0.01 -> cloud of points spread"
   ]
  }
 ],
 "metadata": {
  "kernelspec": {
   "display_name": "Python 3 (ipykernel)",
   "language": "python",
   "name": "python3"
  },
  "language_info": {
   "codemirror_mode": {
    "name": "ipython",
    "version": 3
   },
   "file_extension": ".py",
   "mimetype": "text/x-python",
   "name": "python",
   "nbconvert_exporter": "python",
   "pygments_lexer": "ipython3",
   "version": "3.9.7"
  }
 },
 "nbformat": 4,
 "nbformat_minor": 5
}
